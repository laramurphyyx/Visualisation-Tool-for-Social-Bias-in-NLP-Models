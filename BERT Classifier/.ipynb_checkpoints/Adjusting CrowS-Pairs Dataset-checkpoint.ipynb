{
 "cells": [
  {
   "cell_type": "markdown",
   "metadata": {},
   "source": [
    "## Importing Relevant Packages and Datasets"
   ]
  },
  {
   "cell_type": "code",
   "execution_count": 2,
   "metadata": {},
   "outputs": [],
   "source": [
    "import pandas as pd"
   ]
  },
  {
   "cell_type": "code",
   "execution_count": 3,
   "metadata": {},
   "outputs": [],
   "source": [
    "all_data = pd.read_csv('../final_fixed_data.csv', index_col=0)"
   ]
  },
  {
   "cell_type": "markdown",
   "metadata": {},
   "source": [
    "The above 'fixed_data.csv' file is a modified version of the dataset constructed by CrowS-Pairs, which can be found on [their GitHub](https://github.com/nyu-mll/crows-pairs). This modification was done manually and removes some instances where the bias is not adequately represented in the dataset."
   ]
  },
  {
   "cell_type": "markdown",
   "metadata": {},
   "source": [
    "## Modifying the Structure of the Dataset"
   ]
  },
  {
   "cell_type": "markdown",
   "metadata": {},
   "source": [
    "The model has to be structured in a specific way to be able to train BERT on it.\n",
    "\n",
    "The model only requires two columns, namely the sentence and the label.\n",
    "\n",
    "As CrowS-Pairs is structured in sentence pairs, I have labelled the 'sent_more' sentence as the stereotype or antistereotype sentences,  and the 'sent_less' one as the non-stereotype. In this model, 'stereotype' is an umbrella term for both sentence pairs that show stereotypes and antistereotypes. This is a binary classification model, stereotype and antistereotype sentences are represented with the label 1, and non-stereotype sentences are represented with the label 0. These stereotypes/anti-stereotypes are described [here](https://github.com/nyu-mll/crows-pairs/blob/master/README.md) as:\n",
    "\n",
    "```\n",
    "The stereotypical direction of the pair: A stereo direction denotes that sent_more is a sentence that demonstrates a stereotype of a historically disadvantaged group. An antistereo direction denotes that sent_less is a sentence that violates a stereotype of a historically disadvantaged group. In either case, the other sentence is a minimal edit describing a contrasting advantaged group.\n",
    "```"
   ]
  },
  {
   "cell_type": "code",
   "execution_count": 5,
   "metadata": {},
   "outputs": [],
   "source": [
    "finetune_data = {\n",
    "    'sentence' : [],\n",
    "    'label' : []\n",
    "}"
   ]
  },
  {
   "cell_type": "code",
   "execution_count": 6,
   "metadata": {},
   "outputs": [],
   "source": [
    "for index, row in all_data.iterrows():\n",
    "    \n",
    "    finetune_data['sentence'].append(row['sent_more'])\n",
    "    finetune_data['label'].append(1)\n",
    "        \n",
    "    finetune_data['sentence'].append(row['sent_less'])\n",
    "    finetune_data['label'].append(0)"
   ]
  },
  {
   "cell_type": "code",
   "execution_count": 7,
   "metadata": {},
   "outputs": [],
   "source": [
    "finetune_dataframe = pd.DataFrame(finetune_data)"
   ]
  },
  {
   "cell_type": "markdown",
   "metadata": {},
   "source": [
    "## Splitting the Dataset into Training and Testing (80/20 split)"
   ]
  },
  {
   "cell_type": "markdown",
   "metadata": {},
   "source": [
    "I've split the data using an 80/20 split.\n",
    "\n",
    "I have not split these on random subsets, as I felt it would affect the models if the sentence pairs were not together.\n",
    "\n",
    "For example, if a stereotype sentence is in the training set, the model will identify this sentence as stereotype, then if it is tested on the non-stereotype sentence pair in the test set, the model is likely to identify this as stereotype too due to their similarity."
   ]
  },
  {
   "cell_type": "code",
   "execution_count": 11,
   "metadata": {},
   "outputs": [],
   "source": [
    "train_finetune_dataframe = finetune_dataframe[:2412]\n",
    "test_finetune_dataframe = finetune_dataframe[2412:]"
   ]
  },
  {
   "cell_type": "code",
   "execution_count": 12,
   "metadata": {},
   "outputs": [],
   "source": [
    "train_finetune_dataframe.to_csv('training_CrowS-Pairs.csv', index=False)\n",
    "test_finetune_dataframe.to_csv('testing_CrowS-Pairs.csv', index=False)"
   ]
  }
 ],
 "metadata": {
  "kernelspec": {
   "display_name": "Python 3",
   "language": "python",
   "name": "python3"
  },
  "language_info": {
   "codemirror_mode": {
    "name": "ipython",
    "version": 3
   },
   "file_extension": ".py",
   "mimetype": "text/x-python",
   "name": "python",
   "nbconvert_exporter": "python",
   "pygments_lexer": "ipython3",
   "version": "3.7.4"
  }
 },
 "nbformat": 4,
 "nbformat_minor": 2
}
