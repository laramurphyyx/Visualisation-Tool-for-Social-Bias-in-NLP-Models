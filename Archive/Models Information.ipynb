{
 "cells": [
  {
   "cell_type": "markdown",
   "metadata": {},
   "source": [
    "# Investigating the Popularity of Each Model"
   ]
  },
  {
   "cell_type": "markdown",
   "metadata": {},
   "source": [
    "## In order of groups (BERT, ALBERT, ROBERTA, other)\n",
    "\n",
    "<b><u>BERT Models:</u></b>\n",
    "\n",
    "* 'bert-base-cased',\n",
    "* 'bert-base-uncased',\n",
    "* 'bert-large-uncased',\n",
    "* 'bert-large-cased',\n",
    "* 'bert-base-multilingual-uncased',\n",
    "* 'bert-base-multilingual-cased',\n",
    "* 'allenai/scibert_scivocab_uncased',\n",
    "* 'emilyalsentzer/Bio_ClinicalBERT',\n",
    "* 'microsoft/BiomedNLP-PubMedBERT-base-uncased-abstract',\n",
    "* 'ProsusAI/finbert',\n",
    "* 'nlpaueb/legal-bert-base-uncased',\n",
    "* 'GroNLP/hateBERT',\n",
    "* 'anferico/bert-for-patents',\n",
    "* 'jackaduma/SecBERT'\n",
    "\n",
    "<b><u>ALBERT Models:</u></b>\n",
    "\n",
    "* 'albert-base-v1',\n",
    "* 'albert-base-v2'\n",
    "\n",
    "<b><u>ROBERTA Models:</u></b>\n",
    "\n",
    "* 'roberta-base',\n",
    "* 'distilroberta-base',\n",
    "* 'roberta-large',\n",
    "* 'huggingface/CodeBERTa-small-v1',\n",
    "* 'climatebert/distilroberta-base-climate-f'\n",
    "\n",
    "<b><u>Other Models:</u></b>\n",
    "\n",
    "* 'xlm-roberta-base',\n",
    "* 'distilbert-base-multilingual-cased'"
   ]
  },
  {
   "cell_type": "markdown",
   "metadata": {},
   "source": [
    "## In order of popularity (monthly downloads (as of 24/02/22))\n",
    "* 12,170,673 : [bert-base-uncased](https://huggingface.co/bert-base-uncased)\n",
    "* 4,092,371 : [roberta-base](https://huggingface.co/roberta-base)\n",
    "* 2,437,035 : [bert-base-cased](https://huggingface.co/bert-base-cased)\n",
    "* 1,948,088 : [xlm-roberta-base](https://huggingface.co/xlm-roberta-base)\n",
    "* 1,438,536 : [albert-base-v2](https://huggingface.co/albert-base-v2)\n",
    "* 1,331,939 : [roberta-large](https://huggingface.co/roberta-large)\n",
    "* 969,542 : [bert-base-multilingual-cased](https://huggingface.co/bert-base-multilingual-cased)\n",
    "* 624,770 : [distilroberta-base](https://huggingface.co/distilroberta-base)\n",
    "* 466,239 : [bert-large-uncased](https://huggingface.co/bert-large-uncased)\n",
    "* 383,205 : [bert-base-multilingual-uncased](https://huggingface.co/bert-base-multilingual-uncased)\n",
    "* 297,479 : [distilbert-base-multilingual-cased'](https://huggingface.co/distilbert-base-multilingual-cased)\n",
    "* 212,703 : [emilyalsentzer/Bio_ClinicalBERT](https://huggingface.co/emilyalsentzer/Bio_ClinicalBERT)\n",
    "* 169,110 : [ProsusAI/finbert](https://huggingface.co/ProsusAI/finbert)\n",
    "* 159,800 : [bert-large-cased](https://huggingface.co/bert-large-cased)\n",
    "* 154,362 : [huggingface/CodeBERTa-small-v1](https://huggingface.co/huggingface/CodeBERTa-small-v1)\n",
    "* 152,614 : [microsoft/BiomedNLP-PubMedBERT-base-uncased-abstract](https://huggingface.co/microsoft/BiomedNLP-PubMedBERT-base-uncased-abstract)\n",
    "* 131,905 : [albert-base-v1](https://huggingface.co/albert-base-v1)\n",
    "* 131,150 : [allenai/scibert_scivocab_uncased](https://huggingface.co/allenai/scibert_scivocab_uncased)\n",
    "* 26,202 : [nlpaueb/legal-bert-base-uncased](https://huggingface.co/nlpaueb/legal-bert-base-uncased)\n",
    "* 6,516 : [GroNLP/hateBERT](https://huggingface.co/GroNLP/hateBERT)\n",
    "* 2,902 : [anferico/bert-for-patents](https://huggingface.co/anferico/bert-for-patents)\n",
    "* 1,575 : [climatebert/distilroberta-base-climate-f](https://huggingface.co/climatebert/distilroberta-base-climate-f)\n",
    "* 603 : [jackaduma/SecBERT](https://huggingface.co/jackaduma/SecBERT)"
   ]
  },
  {
   "cell_type": "code",
   "execution_count": null,
   "metadata": {},
   "outputs": [],
   "source": []
  }
 ],
 "metadata": {
  "kernelspec": {
   "display_name": "Python 3",
   "language": "python",
   "name": "python3"
  },
  "language_info": {
   "codemirror_mode": {
    "name": "ipython",
    "version": 3
   },
   "file_extension": ".py",
   "mimetype": "text/x-python",
   "name": "python",
   "nbconvert_exporter": "python",
   "pygments_lexer": "ipython3",
   "version": "3.7.4"
  }
 },
 "nbformat": 4,
 "nbformat_minor": 2
}
