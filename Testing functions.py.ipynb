{
 "cells": [
  {
   "cell_type": "code",
   "execution_count": 1,
   "metadata": {},
   "outputs": [],
   "source": [
    "import pandas as pd\n",
    "import numpy as np"
   ]
  },
  {
   "cell_type": "code",
   "execution_count": 2,
   "metadata": {},
   "outputs": [],
   "source": [
    "from functions import *"
   ]
  },
  {
   "cell_type": "code",
   "execution_count": 3,
   "metadata": {},
   "outputs": [],
   "source": [
    "bert = pd.read_csv('output/output_file_bert-base-uncased.csv', index_col=0)"
   ]
  },
  {
   "cell_type": "code",
   "execution_count": 4,
   "metadata": {},
   "outputs": [],
   "source": [
    "#bert"
   ]
  },
  {
   "cell_type": "code",
   "execution_count": 7,
   "metadata": {},
   "outputs": [
    {
     "data": {
      "text/html": [
       "<div>\n",
       "<style scoped>\n",
       "    .dataframe tbody tr th:only-of-type {\n",
       "        vertical-align: middle;\n",
       "    }\n",
       "\n",
       "    .dataframe tbody tr th {\n",
       "        vertical-align: top;\n",
       "    }\n",
       "\n",
       "    .dataframe thead th {\n",
       "        text-align: right;\n",
       "    }\n",
       "</style>\n",
       "<table border=\"1\" class=\"dataframe\">\n",
       "  <thead>\n",
       "    <tr style=\"text-align: right;\">\n",
       "      <th></th>\n",
       "      <th>bias_type</th>\n",
       "      <th>neutral_score</th>\n",
       "      <th>bias_score</th>\n",
       "      <th>nonbias_score</th>\n",
       "      <th>stereotype_score</th>\n",
       "      <th>antistereotype_score</th>\n",
       "    </tr>\n",
       "  </thead>\n",
       "  <tbody>\n",
       "    <tr>\n",
       "      <td>0</td>\n",
       "      <td>overall</td>\n",
       "      <td>12.00</td>\n",
       "      <td>53.71</td>\n",
       "      <td>34.28</td>\n",
       "      <td>54.26</td>\n",
       "      <td>50.46</td>\n",
       "    </tr>\n",
       "    <tr>\n",
       "      <td>1</td>\n",
       "      <td>race-color</td>\n",
       "      <td>15.89</td>\n",
       "      <td>49.81</td>\n",
       "      <td>34.30</td>\n",
       "      <td>49.89</td>\n",
       "      <td>48.84</td>\n",
       "    </tr>\n",
       "    <tr>\n",
       "      <td>2</td>\n",
       "      <td>gender</td>\n",
       "      <td>9.16</td>\n",
       "      <td>51.91</td>\n",
       "      <td>38.93</td>\n",
       "      <td>49.06</td>\n",
       "      <td>56.31</td>\n",
       "    </tr>\n",
       "    <tr>\n",
       "      <td>3</td>\n",
       "      <td>socioeconomic</td>\n",
       "      <td>8.14</td>\n",
       "      <td>53.49</td>\n",
       "      <td>38.37</td>\n",
       "      <td>55.41</td>\n",
       "      <td>33.33</td>\n",
       "    </tr>\n",
       "    <tr>\n",
       "      <td>4</td>\n",
       "      <td>nationality</td>\n",
       "      <td>15.72</td>\n",
       "      <td>53.46</td>\n",
       "      <td>30.82</td>\n",
       "      <td>54.05</td>\n",
       "      <td>45.45</td>\n",
       "    </tr>\n",
       "    <tr>\n",
       "      <td>5</td>\n",
       "      <td>religion</td>\n",
       "      <td>9.52</td>\n",
       "      <td>66.67</td>\n",
       "      <td>23.81</td>\n",
       "      <td>67.68</td>\n",
       "      <td>50.00</td>\n",
       "    </tr>\n",
       "    <tr>\n",
       "      <td>6</td>\n",
       "      <td>age</td>\n",
       "      <td>9.20</td>\n",
       "      <td>51.72</td>\n",
       "      <td>39.08</td>\n",
       "      <td>56.16</td>\n",
       "      <td>28.57</td>\n",
       "    </tr>\n",
       "    <tr>\n",
       "      <td>7</td>\n",
       "      <td>sexual-orientation</td>\n",
       "      <td>9.52</td>\n",
       "      <td>60.71</td>\n",
       "      <td>29.76</td>\n",
       "      <td>63.89</td>\n",
       "      <td>41.67</td>\n",
       "    </tr>\n",
       "    <tr>\n",
       "      <td>8</td>\n",
       "      <td>physical-appearance</td>\n",
       "      <td>7.94</td>\n",
       "      <td>61.90</td>\n",
       "      <td>30.16</td>\n",
       "      <td>59.62</td>\n",
       "      <td>72.73</td>\n",
       "    </tr>\n",
       "    <tr>\n",
       "      <td>9</td>\n",
       "      <td>disability</td>\n",
       "      <td>8.33</td>\n",
       "      <td>58.33</td>\n",
       "      <td>33.33</td>\n",
       "      <td>59.65</td>\n",
       "      <td>33.33</td>\n",
       "    </tr>\n",
       "  </tbody>\n",
       "</table>\n",
       "</div>"
      ],
      "text/plain": [
       "             bias_type  neutral_score  bias_score  nonbias_score  \\\n",
       "0              overall          12.00       53.71          34.28   \n",
       "1           race-color          15.89       49.81          34.30   \n",
       "2               gender           9.16       51.91          38.93   \n",
       "3        socioeconomic           8.14       53.49          38.37   \n",
       "4          nationality          15.72       53.46          30.82   \n",
       "5             religion           9.52       66.67          23.81   \n",
       "6                  age           9.20       51.72          39.08   \n",
       "7   sexual-orientation           9.52       60.71          29.76   \n",
       "8  physical-appearance           7.94       61.90          30.16   \n",
       "9           disability           8.33       58.33          33.33   \n",
       "\n",
       "   stereotype_score  antistereotype_score  \n",
       "0             54.26                 50.46  \n",
       "1             49.89                 48.84  \n",
       "2             49.06                 56.31  \n",
       "3             55.41                 33.33  \n",
       "4             54.05                 45.45  \n",
       "5             67.68                 50.00  \n",
       "6             56.16                 28.57  \n",
       "7             63.89                 41.67  \n",
       "8             59.62                 72.73  \n",
       "9             59.65                 33.33  "
      ]
     },
     "execution_count": 7,
     "metadata": {},
     "output_type": "execute_result"
    }
   ],
   "source": [
    "create_model_scores_dataframe_from_output(bert, 0.01)"
   ]
  },
  {
   "cell_type": "code",
   "execution_count": null,
   "metadata": {},
   "outputs": [],
   "source": [
    "bert[bert['sent_more_score']==bert['sent_less_score']]"
   ]
  },
  {
   "cell_type": "code",
   "execution_count": null,
   "metadata": {},
   "outputs": [],
   "source": [
    "if 0.5 not in range(0,100):\n",
    "    print('no')"
   ]
  },
  {
   "cell_type": "code",
   "execution_count": null,
   "metadata": {},
   "outputs": [],
   "source": [
    "calculate_neutral_score(bert)"
   ]
  },
  {
   "cell_type": "code",
   "execution_count": null,
   "metadata": {},
   "outputs": [],
   "source": [
    "calculate_neutral_score(bert, 0.)"
   ]
  },
  {
   "cell_type": "code",
   "execution_count": null,
   "metadata": {},
   "outputs": [],
   "source": [
    "calculate_stereo_antistereo_scores(bert, 'antistereo', 0.01)"
   ]
  },
  {
   "cell_type": "code",
   "execution_count": null,
   "metadata": {},
   "outputs": [],
   "source": [
    "bert_command_line = pd.read_csv('testing_bert_using_command_line.csv', index_col=0)\n",
    "bert_notebook = pd.read_csv('All Output Files/Original CrowS-Pairs Dataset/bert-base-uncased.csv', index_col=0)"
   ]
  },
  {
   "cell_type": "code",
   "execution_count": null,
   "metadata": {},
   "outputs": [],
   "source": [
    "bert_notebook"
   ]
  },
  {
   "cell_type": "code",
   "execution_count": null,
   "metadata": {},
   "outputs": [],
   "source": [
    "bert_command_line"
   ]
  },
  {
   "cell_type": "code",
   "execution_count": null,
   "metadata": {},
   "outputs": [],
   "source": [
    "for i in range(0, 1508):\n",
    "    for j in range(0,7):\n",
    "        if bert_notebook.iloc[i][j] != bert_command_line.iloc[i][j]:\n",
    "            print(\"Error in line \" + str(i))"
   ]
  },
  {
   "cell_type": "code",
   "execution_count": null,
   "metadata": {},
   "outputs": [],
   "source": [
    "str([\n",
    "    'bert-base-cased',\n",
    "    'bert-base-uncased',\n",
    "    'bert-large-uncased',\n",
    "    'bert-large-cased',\n",
    "    'bert-base-multilingual-uncased',\n",
    "    'bert-base-multilingual-cased',\n",
    "    'allenai/scibert_scivocab_uncased',\n",
    "    'emilyalsentzer/Bio_ClinicalBERT',\n",
    "    'microsoft/BiomedNLP-PubMedBERT-base-uncased-abstract',\n",
    "    'nlpaueb/legal-bert-base-uncased',\n",
    "    'GroNLP/hateBERT',\n",
    "    'anferico/bert-for-patents',\n",
    "    'jackaduma/SecBERT'\n",
    "])"
   ]
  },
  {
   "cell_type": "code",
   "execution_count": null,
   "metadata": {},
   "outputs": [],
   "source": [
    "BERT_models = [\n",
    "    'bert-base-cased',\n",
    "    'bert-base-uncased',\n",
    "    'bert-large-uncased',\n",
    "    'bert-large-cased',\n",
    "    'bert-base-multilingual-uncased',\n",
    "    'bert-base-multilingual-cased',\n",
    "    'allenai/scibert_scivocab_uncased',\n",
    "    'emilyalsentzer/Bio_ClinicalBERT',\n",
    "    'microsoft/BiomedNLP-PubMedBERT-base-uncased-abstract',\n",
    "    'nlpaueb/legal-bert-base-uncased',\n",
    "    'GroNLP/hateBERT',\n",
    "    'anferico/bert-for-patents',\n",
    "    'jackaduma/SecBERT'\n",
    "]\n",
    "\n",
    "ALBERT_models = [\n",
    "    'albert-base-v1',\n",
    "    'albert-base-v2'\n",
    "]\n",
    "\n",
    "ROBERTA_models = [\n",
    "    'roberta-base',\n",
    "    'distilroberta-base',\n",
    "    'roberta-large',\n",
    "    'huggingface/CodeBERTa-small-v1',\n",
    "    'climatebert/distilroberta-base-climate-f'\n",
    "]\n",
    "\n",
    "all_models = BERT_models + ALBERT_models + ROBERTA_models + ['xlm-roberta-base', 'distilbert-base-multilingual-cased']"
   ]
  },
  {
   "cell_type": "code",
   "execution_count": null,
   "metadata": {},
   "outputs": [],
   "source": [
    "all_models"
   ]
  },
  {
   "cell_type": "code",
   "execution_count": null,
   "metadata": {},
   "outputs": [],
   "source": []
  }
 ],
 "metadata": {
  "kernelspec": {
   "display_name": "Python 3",
   "language": "python",
   "name": "python3"
  },
  "language_info": {
   "codemirror_mode": {
    "name": "ipython",
    "version": 3
   },
   "file_extension": ".py",
   "mimetype": "text/x-python",
   "name": "python",
   "nbconvert_exporter": "python",
   "pygments_lexer": "ipython3",
   "version": "3.7.4"
  }
 },
 "nbformat": 4,
 "nbformat_minor": 2
}
