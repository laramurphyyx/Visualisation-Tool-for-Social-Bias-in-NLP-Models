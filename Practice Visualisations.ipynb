{
 "cells": [
  {
   "cell_type": "code",
   "execution_count": 4,
   "metadata": {},
   "outputs": [],
   "source": [
    "import numpy as np\n",
    "import pandas as pd\n",
    "import matplotlib.pyplot as plt"
   ]
  },
  {
   "cell_type": "code",
   "execution_count": 17,
   "metadata": {},
   "outputs": [],
   "source": [
    "bias_types = ['Race',\n",
    "           'Gender',\n",
    "           'Socio-Economic', \n",
    "           'Nationality', \n",
    "           'Religion', \n",
    "           'Age', \n",
    "           'Sexual Orientation', \n",
    "           'Physical Appearance', \n",
    "           'Disability']\n",
    "metric_scores = [58.14,\n",
    "               61.67,\n",
    "               63.49,\n",
    "               66.67,\n",
    "               55.17,\n",
    "               71.43,\n",
    "               63.52,\n",
    "               59.88,\n",
    "               58.02]\n",
    "stereo_scores = [58.14,\n",
    "              63.16,\n",
    "              61.54,\n",
    "              68.06,\n",
    "              60.27,\n",
    "              72.73,\n",
    "              64.86,\n",
    "              61.15,\n",
    "              55.35]\n",
    "antistereo_scores = [58.14,\n",
    "                  33.33,\n",
    "                  72.73,\n",
    "                  58.33,\n",
    "                  28.57,\n",
    "                  50.0,\n",
    "                  45.45,\n",
    "                  46.67,\n",
    "                  62.14]"
   ]
  },
  {
   "cell_type": "code",
   "execution_count": 25,
   "metadata": {},
   "outputs": [
    {
     "data": {
      "image/png": "[encoded data removed]",
      "text/plain": [
       "<Figure size 432x288 with 1 Axes>"
      ]
     },
     "metadata": {
      "needs_background": "light"
     },
     "output_type": "display_data"
    }
   ],
   "source": [
    "w = 0.25\n",
    "\n",
    "bar1 = np.arange(len(bias_types))\n",
    "bar2 = bar1 + w\n",
    "bar3 = bar2 + w\n",
    "\n",
    "plt.bar(bar1, metric_scores, w, label=\"Metric Scores\")\n",
    "plt.bar(bar2, stereo_scores, w, label=\"Stereotype Scores\")\n",
    "plt.bar(bar3, antistereo_scores, w, label=\"Anti-Stereotype Scores\")\n",
    "\n",
    "plt.xlabel(\"Bias Types\")\n",
    "plt.ylabel(\"Bias Score\")\n",
    "plt.legend()\n",
    "plt.title(\"Bias Scores for each Type of Bias\")\n",
    "\n",
    "plt.show()"
   ]
  },
  {
   "cell_type": "code",
   "execution_count": null,
   "metadata": {},
   "outputs": [],
   "source": []
  }
 ],
 "metadata": {
  "kernelspec": {
   "display_name": "Python 3",
   "language": "python",
   "name": "python3"
  },
  "language_info": {
   "codemirror_mode": {
    "name": "ipython",
    "version": 3
   },
   "file_extension": ".py",
   "mimetype": "text/x-python",
   "name": "python",
   "nbconvert_exporter": "python",
   "pygments_lexer": "ipython3",
   "version": "3.7.4"
  }
 },
 "nbformat": 4,
 "nbformat_minor": 2
}
