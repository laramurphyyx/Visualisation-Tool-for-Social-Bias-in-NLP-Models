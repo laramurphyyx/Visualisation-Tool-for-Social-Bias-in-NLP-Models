{
 "cells": [
  {
   "cell_type": "code",
   "execution_count": 1,
   "metadata": {},
   "outputs": [],
   "source": [
    "import os\n",
    "import csv\n",
    "import json\n",
    "import math\n",
    "import torch\n",
    "import argparse\n",
    "import difflib\n",
    "import logging\n",
    "import numpy as np\n",
    "import pandas as pd\n",
    "\n",
    "from transformers import BertTokenizer, BertForMaskedLM\n",
    "from transformers import AlbertTokenizer, AlbertForMaskedLM\n",
    "from transformers import RobertaTokenizer, RobertaForMaskedLM\n",
    "from collections import defaultdict\n",
    "from tqdm import tqdm"
   ]
  },
  {
   "cell_type": "code",
   "execution_count": 2,
   "metadata": {},
   "outputs": [],
   "source": [
    "from crows_pairs_methods import *"
   ]
  },
  {
   "cell_type": "markdown",
   "metadata": {},
   "source": [
    "Interesting link to use transformers instead of pytorch's pretrained berttokenizer: https://huggingface.co/transformers/v2.4.0/migration.html"
   ]
  },
  {
   "cell_type": "markdown",
   "metadata": {},
   "source": [
    "# Evaluating bert-large-uncased on Disability-Biased Data"
   ]
  },
  {
   "cell_type": "code",
   "execution_count": 3,
   "metadata": {},
   "outputs": [
    {
     "name": "stderr",
     "output_type": "stream",
     "text": [
      "INFO:filelock:Lock 1474023515528 acquired on C:\\Users\\laram/.cache\\huggingface\\transformers\\e12f02d630da91a0982ce6db1ad595231d155a2b725ab106971898276d842ecc.d789d64ebfe299b0e416afc4a169632f903f693095b4629a7ea271d5a0cf2c99.lock\n"
     ]
    },
    {
     "data": {
      "application/vnd.jupyter.widget-view+json": {
       "model_id": "08d739bc169b421bb82fe891f5e1b2af",
       "version_major": 2,
       "version_minor": 0
      },
      "text/plain": [
       "HBox(children=(IntProgress(value=0, description='Downloading', max=231508, style=ProgressStyle(description_wid…"
      ]
     },
     "metadata": {},
     "output_type": "display_data"
    },
    {
     "name": "stdout",
     "output_type": "stream",
     "text": [
      "\n"
     ]
    },
    {
     "name": "stderr",
     "output_type": "stream",
     "text": [
      "INFO:filelock:Lock 1474023515528 released on C:\\Users\\laram/.cache\\huggingface\\transformers\\e12f02d630da91a0982ce6db1ad595231d155a2b725ab106971898276d842ecc.d789d64ebfe299b0e416afc4a169632f903f693095b4629a7ea271d5a0cf2c99.lock\n",
      "INFO:filelock:Lock 1474023465608 acquired on C:\\Users\\laram/.cache\\huggingface\\transformers\\300ecd79785b4602752c0085f8a89c3f0232ef367eda291c79a5600f3778b677.20430bd8e10ef77a7d2977accefe796051e01bc2fc4aa146bc862997a1a15e79.lock\n"
     ]
    },
    {
     "data": {
      "application/vnd.jupyter.widget-view+json": {
       "model_id": "d616f9b2a16641938d73ea4fbb300fab",
       "version_major": 2,
       "version_minor": 0
      },
      "text/plain": [
       "HBox(children=(IntProgress(value=0, description='Downloading', max=28, style=ProgressStyle(description_width='…"
      ]
     },
     "metadata": {},
     "output_type": "display_data"
    },
    {
     "name": "stdout",
     "output_type": "stream",
     "text": [
      "\n"
     ]
    },
    {
     "name": "stderr",
     "output_type": "stream",
     "text": [
      "INFO:filelock:Lock 1474023465608 released on C:\\Users\\laram/.cache\\huggingface\\transformers\\300ecd79785b4602752c0085f8a89c3f0232ef367eda291c79a5600f3778b677.20430bd8e10ef77a7d2977accefe796051e01bc2fc4aa146bc862997a1a15e79.lock\n",
      "INFO:filelock:Lock 1474023515528 acquired on C:\\Users\\laram/.cache\\huggingface\\transformers\\475d46024228961ca8770cead39e1079f135fd2441d14cf216727ffac8d41d78.7f2721073f19841be16f41b0a70b600ca6b880c8f3df6f3535cbc704371bdfa4.lock\n"
     ]
    },
    {
     "data": {
      "application/vnd.jupyter.widget-view+json": {
       "model_id": "394f1a987a554865ba61e264d3d015c7",
       "version_major": 2,
       "version_minor": 0
      },
      "text/plain": [
       "HBox(children=(IntProgress(value=0, description='Downloading', max=466062, style=ProgressStyle(description_wid…"
      ]
     },
     "metadata": {},
     "output_type": "display_data"
    },
    {
     "name": "stdout",
     "output_type": "stream",
     "text": [
      "\n"
     ]
    },
    {
     "name": "stderr",
     "output_type": "stream",
     "text": [
      "INFO:filelock:Lock 1474023515528 released on C:\\Users\\laram/.cache\\huggingface\\transformers\\475d46024228961ca8770cead39e1079f135fd2441d14cf216727ffac8d41d78.7f2721073f19841be16f41b0a70b600ca6b880c8f3df6f3535cbc704371bdfa4.lock\n",
      "INFO:filelock:Lock 1474023466248 acquired on C:\\Users\\laram/.cache\\huggingface\\transformers\\1cf090f220f9674b67b3434decfe4d40a6532d7849653eac435ff94d31a4904c.1d03e5e4fa2db2532c517b2cd98290d8444b237619bd3d2039850a6d5e86473d.lock\n"
     ]
    },
    {
     "data": {
      "application/vnd.jupyter.widget-view+json": {
       "model_id": "26a90800fe74406c99a2d9b3d92e9c14",
       "version_major": 2,
       "version_minor": 0
      },
      "text/plain": [
       "HBox(children=(IntProgress(value=0, description='Downloading', max=571, style=ProgressStyle(description_width=…"
      ]
     },
     "metadata": {},
     "output_type": "display_data"
    },
    {
     "name": "stdout",
     "output_type": "stream",
     "text": [
      "\n"
     ]
    },
    {
     "name": "stderr",
     "output_type": "stream",
     "text": [
      "INFO:filelock:Lock 1474023466248 released on C:\\Users\\laram/.cache\\huggingface\\transformers\\1cf090f220f9674b67b3434decfe4d40a6532d7849653eac435ff94d31a4904c.1d03e5e4fa2db2532c517b2cd98290d8444b237619bd3d2039850a6d5e86473d.lock\n",
      "INFO:filelock:Lock 1474004195208 acquired on C:\\Users\\laram/.cache\\huggingface\\transformers\\1d959166dd7e047e57ea1b2d9b7b9669938a7e90c5e37a03961ad9f15eaea17f.fea64cd906e3766b04c92397f9ad3ff45271749cbe49829a079dd84e34c1697d.lock\n"
     ]
    },
    {
     "data": {
      "application/vnd.jupyter.widget-view+json": {
       "model_id": "6516b5fe93cf4382a60fd8604788e440",
       "version_major": 2,
       "version_minor": 0
      },
      "text/plain": [
       "HBox(children=(IntProgress(value=0, description='Downloading', max=1344997306, style=ProgressStyle(description…"
      ]
     },
     "metadata": {},
     "output_type": "display_data"
    },
    {
     "name": "stdout",
     "output_type": "stream",
     "text": [
      "\n"
     ]
    },
    {
     "name": "stderr",
     "output_type": "stream",
     "text": [
      "INFO:filelock:Lock 1474004195208 released on C:\\Users\\laram/.cache\\huggingface\\transformers\\1d959166dd7e047e57ea1b2d9b7b9669938a7e90c5e37a03961ad9f15eaea17f.fea64cd906e3766b04c92397f9ad3ff45271749cbe49829a079dd84e34c1697d.lock\n",
      "Some weights of the model checkpoint at bert-large-uncased were not used when initializing BertForMaskedLM: ['cls.seq_relationship.weight', 'cls.seq_relationship.bias']\n",
      "- This IS expected if you are initializing BertForMaskedLM from the checkpoint of a model trained on another task or with another architecture (e.g. initializing a BertForSequenceClassification model from a BertForPreTraining model).\n",
      "- This IS NOT expected if you are initializing BertForMaskedLM from the checkpoint of a model that you expect to be exactly identical (initializing a BertForSequenceClassification model from a BertForSequenceClassification model).\n"
     ]
    }
   ],
   "source": [
    "logging.basicConfig(level=logging.INFO)\n",
    "\n",
    "# load data into panda DataFrame\n",
    "df_data = read_data(\"crows_pairs_anonymized.csv\")\n",
    "\n",
    "# Filtering to Disability Data\n",
    "df_data = df_data[df_data['bias_type']=='disability']\n",
    "\n",
    "# supported masked language models (using bert)\n",
    "tokenizer = BertTokenizer.from_pretrained('bert-large-uncased')\n",
    "model = BertForMaskedLM.from_pretrained('bert-large-uncased')\n",
    "\n",
    "model.eval()\n",
    "\n",
    "mask_token = tokenizer.mask_token\n",
    "log_softmax = torch.nn.LogSoftmax(dim=0)\n",
    "vocab = tokenizer.get_vocab()\n",
    "with open(\"bert\" + \".vocab\", \"w\") as f:\n",
    "    f.write(json.dumps(vocab))\n",
    "\n",
    "lm = {\"model\": model,\n",
    "      \"tokenizer\": tokenizer,\n",
    "      \"mask_token\": mask_token,\n",
    "      \"log_softmax\": log_softmax,\n",
    "      \"uncased\": True\n",
    "}\n",
    "\n",
    "# score each sentence. \n",
    "# each row in the dataframe has the sentid and score for pro and anti stereo.\n",
    "df_score = pd.DataFrame(columns=['sent_more', 'sent_less', \n",
    "                                 'sent_more_score', 'sent_less_score',\n",
    "                                 'score', 'stereo_antistereo', 'bias_type'], dtype=object)"
   ]
  },
  {
   "cell_type": "code",
   "execution_count": 4,
   "metadata": {},
   "outputs": [
    {
     "name": "stderr",
     "output_type": "stream",
     "text": [
      "100%|██████████████████████████████████████████████████████████████████████████████████| 60/60 [09:25<00:00,  9.43s/it]\n"
     ]
    }
   ],
   "source": [
    "total_stereo, total_antistereo = 0, 0\n",
    "stereo_score, antistereo_score = 0, 0\n",
    "\n",
    "N = 0\n",
    "neutral = 0\n",
    "total = len(df_data.index)\n",
    "with tqdm(total=total) as pbar:\n",
    "    for index, data in df_data.iterrows():\n",
    "        direction = data['direction']\n",
    "        bias = data['bias_type']\n",
    "        score = mask_unigram(data, lm)\n",
    "\n",
    "        for stype in score.keys():\n",
    "            score[stype] = round(score[stype], 3)\n",
    "\n",
    "        N += 1\n",
    "        pair_score = 0\n",
    "        pbar.update(1)\n",
    "        if score['sent1_score'] == score['sent2_score']:\n",
    "            neutral += 1\n",
    "        else:\n",
    "            if direction == 'stereo':\n",
    "                total_stereo += 1\n",
    "                if score['sent1_score'] > score['sent2_score']:\n",
    "                    stereo_score += 1\n",
    "                    pair_score = 1\n",
    "            elif direction == 'antistereo':\n",
    "                total_antistereo += 1\n",
    "                if score['sent2_score'] > score['sent1_score']:\n",
    "                    antistereo_score += 1\n",
    "                    pair_score = 1\n",
    "\n",
    "        sent_more, sent_less = '', ''\n",
    "        if direction == 'stereo':\n",
    "            sent_more = data['sent1']\n",
    "            sent_less = data['sent2']\n",
    "            sent_more_score = score['sent1_score']\n",
    "            sent_less_score = score['sent2_score']\n",
    "        else:\n",
    "            sent_more = data['sent2']\n",
    "            sent_less = data['sent1']\n",
    "            sent_more_score = score['sent2_score']\n",
    "            sent_less_score = score['sent1_score']\n",
    "\n",
    "        df_score = df_score.append({'sent_more': sent_more,\n",
    "                                    'sent_less': sent_less,\n",
    "                                    'sent_more_score': sent_more_score,\n",
    "                                    'sent_less_score': sent_less_score,\n",
    "                                    'score': pair_score,\n",
    "                                    'stereo_antistereo': direction,\n",
    "                                    'bias_type': bias\n",
    "                                  }, ignore_index=True)\n"
   ]
  },
  {
   "cell_type": "code",
   "execution_count": 8,
   "metadata": {},
   "outputs": [
    {
     "name": "stdout",
     "output_type": "stream",
     "text": [
      "====================================================================================================\n",
      "Total examples: 60\n",
      "Metric score: 76.67\n",
      "Stereotype score: 75.44\n",
      "Anti-stereotype score: 100.0\n",
      "Num. neutral: 0 0.0\n",
      "====================================================================================================\n",
      "\n"
     ]
    }
   ],
   "source": [
    "print('=' * 100)\n",
    "print('Total examples:', N)\n",
    "print('Metric score:', round((stereo_score + antistereo_score) / N * 100, 2))\n",
    "print('Stereotype score:', round(stereo_score  / total_stereo * 100, 2))\n",
    "if antistereo_score != 0:\n",
    "    print('Anti-stereotype score:', round(antistereo_score  / total_antistereo * 100, 2))\n",
    "print(\"Num. neutral:\", neutral, round(neutral / N * 100, 2))\n",
    "print('=' * 100)\n",
    "print()"
   ]
  },
  {
   "cell_type": "code",
   "execution_count": 9,
   "metadata": {},
   "outputs": [],
   "source": [
    "data = {'model': ['bert-base', 'bert-large'],\n",
    "       'metric_score': [61.67, 76.67],\n",
    "        'stereotype_score': [63.16, 75.44],\n",
    "        'antistereotype_score': [33.33, 100],\n",
    "       'computation_time': [3.0667, 9.4167]}"
   ]
  },
  {
   "cell_type": "code",
   "execution_count": 10,
   "metadata": {},
   "outputs": [],
   "source": [
    "dataframe = pd.DataFrame(data)"
   ]
  },
  {
   "cell_type": "code",
   "execution_count": 11,
   "metadata": {},
   "outputs": [
    {
     "data": {
      "text/html": [
       "<div>\n",
       "<style scoped>\n",
       "    .dataframe tbody tr th:only-of-type {\n",
       "        vertical-align: middle;\n",
       "    }\n",
       "\n",
       "    .dataframe tbody tr th {\n",
       "        vertical-align: top;\n",
       "    }\n",
       "\n",
       "    .dataframe thead th {\n",
       "        text-align: right;\n",
       "    }\n",
       "</style>\n",
       "<table border=\"1\" class=\"dataframe\">\n",
       "  <thead>\n",
       "    <tr style=\"text-align: right;\">\n",
       "      <th></th>\n",
       "      <th>model</th>\n",
       "      <th>metric_score</th>\n",
       "      <th>stereotype_score</th>\n",
       "      <th>antistereotype_score</th>\n",
       "      <th>computation_time</th>\n",
       "    </tr>\n",
       "  </thead>\n",
       "  <tbody>\n",
       "    <tr>\n",
       "      <td>0</td>\n",
       "      <td>bert-base</td>\n",
       "      <td>61.67</td>\n",
       "      <td>63.16</td>\n",
       "      <td>33.33</td>\n",
       "      <td>3.0667</td>\n",
       "    </tr>\n",
       "    <tr>\n",
       "      <td>1</td>\n",
       "      <td>bert-large</td>\n",
       "      <td>76.67</td>\n",
       "      <td>75.44</td>\n",
       "      <td>100.00</td>\n",
       "      <td>9.4167</td>\n",
       "    </tr>\n",
       "  </tbody>\n",
       "</table>\n",
       "</div>"
      ],
      "text/plain": [
       "        model  metric_score  stereotype_score  antistereotype_score  \\\n",
       "0   bert-base         61.67             63.16                 33.33   \n",
       "1  bert-large         76.67             75.44                100.00   \n",
       "\n",
       "   computation_time  \n",
       "0            3.0667  \n",
       "1            9.4167  "
      ]
     },
     "execution_count": 11,
     "metadata": {},
     "output_type": "execute_result"
    }
   ],
   "source": [
    "dataframe"
   ]
  },
  {
   "cell_type": "markdown",
   "metadata": {},
   "source": [
    "# Evaluating - on Disability-Biased Data"
   ]
  },
  {
   "cell_type": "code",
   "execution_count": 13,
   "metadata": {},
   "outputs": [],
   "source": [
    "from transformers import AutoTokenizer"
   ]
  },
  {
   "cell_type": "markdown",
   "metadata": {},
   "source": [
    "Helpful link of existing models: https://huggingface.co/models"
   ]
  },
  {
   "cell_type": "markdown",
   "metadata": {},
   "source": [
    "When using 'AutoTokenizer', the eval() function no longer exists."
   ]
  },
  {
   "cell_type": "code",
   "execution_count": 19,
   "metadata": {},
   "outputs": [
    {
     "name": "stdout",
     "output_type": "stream",
     "text": [
      "Collecting sentencepiece\n",
      "  Downloading https://files.pythonhosted.org/packages/01/21/b78bb71b7fbab906eb1d10f67d1ba69761892016cf13c4f0c5dde123bb07/sentencepiece-0.1.96-cp37-cp37m-win_amd64.whl (1.1MB)\n",
      "Installing collected packages: sentencepiece\n",
      "Successfully installed sentencepiece-0.1.96\n"
     ]
    }
   ],
   "source": [
    "! pip install sentencepiece"
   ]
  },
  {
   "cell_type": "code",
   "execution_count": 20,
   "metadata": {},
   "outputs": [
    {
     "name": "stderr",
     "output_type": "stream",
     "text": [
      "INFO:filelock:Lock 1473217449800 acquired on C:\\Users\\laram/.cache\\huggingface\\transformers\\bf1986d976e9a8320cbd3a0597e610bf299d639ce31b7ca581cbf54be3aaa6d3.d6d54047dfe6ae844e3bf6e7a7d0aff71cb598d3df019361e076ba7639b1da9b.lock\n"
     ]
    },
    {
     "data": {
      "application/vnd.jupyter.widget-view+json": {
       "model_id": "e75be14439f342a5a23932a5cce5e21f",
       "version_major": 2,
       "version_minor": 0
      },
      "text/plain": [
       "HBox(children=(IntProgress(value=0, description='Downloading', max=47376696, style=ProgressStyle(description_w…"
      ]
     },
     "metadata": {},
     "output_type": "display_data"
    },
    {
     "name": "stdout",
     "output_type": "stream",
     "text": [
      "\n"
     ]
    },
    {
     "name": "stderr",
     "output_type": "stream",
     "text": [
      "INFO:filelock:Lock 1473217449800 released on C:\\Users\\laram/.cache\\huggingface\\transformers\\bf1986d976e9a8320cbd3a0597e610bf299d639ce31b7ca581cbf54be3aaa6d3.d6d54047dfe6ae844e3bf6e7a7d0aff71cb598d3df019361e076ba7639b1da9b.lock\n"
     ]
    },
    {
     "ename": "AttributeError",
     "evalue": "'NoneType' object has no attribute 'mask_token'",
     "output_type": "error",
     "traceback": [
      "\u001b[1;31m---------------------------------------------------------------------------\u001b[0m",
      "\u001b[1;31mAttributeError\u001b[0m                            Traceback (most recent call last)",
      "\u001b[1;32m<ipython-input-20-3e068c45de2c>\u001b[0m in \u001b[0;36m<module>\u001b[1;34m\u001b[0m\n\u001b[0;32m     13\u001b[0m \u001b[0mmodel\u001b[0m\u001b[1;33m.\u001b[0m\u001b[0meval\u001b[0m\u001b[1;33m(\u001b[0m\u001b[1;33m)\u001b[0m\u001b[1;33m\u001b[0m\u001b[1;33m\u001b[0m\u001b[0m\n\u001b[0;32m     14\u001b[0m \u001b[1;33m\u001b[0m\u001b[0m\n\u001b[1;32m---> 15\u001b[1;33m \u001b[0mmask_token\u001b[0m \u001b[1;33m=\u001b[0m \u001b[0mtokenizer\u001b[0m\u001b[1;33m.\u001b[0m\u001b[0mmask_token\u001b[0m\u001b[1;33m\u001b[0m\u001b[1;33m\u001b[0m\u001b[0m\n\u001b[0m\u001b[0;32m     16\u001b[0m \u001b[0mlog_softmax\u001b[0m \u001b[1;33m=\u001b[0m \u001b[0mtorch\u001b[0m\u001b[1;33m.\u001b[0m\u001b[0mnn\u001b[0m\u001b[1;33m.\u001b[0m\u001b[0mLogSoftmax\u001b[0m\u001b[1;33m(\u001b[0m\u001b[0mdim\u001b[0m\u001b[1;33m=\u001b[0m\u001b[1;36m0\u001b[0m\u001b[1;33m)\u001b[0m\u001b[1;33m\u001b[0m\u001b[1;33m\u001b[0m\u001b[0m\n\u001b[0;32m     17\u001b[0m \u001b[0mvocab\u001b[0m \u001b[1;33m=\u001b[0m \u001b[0mtokenizer\u001b[0m\u001b[1;33m.\u001b[0m\u001b[0mget_vocab\u001b[0m\u001b[1;33m(\u001b[0m\u001b[1;33m)\u001b[0m\u001b[1;33m\u001b[0m\u001b[1;33m\u001b[0m\u001b[0m\n",
      "\u001b[1;31mAttributeError\u001b[0m: 'NoneType' object has no attribute 'mask_token'"
     ]
    }
   ],
   "source": [
    "logging.basicConfig(level=logging.INFO)\n",
    "\n",
    "# load data into panda DataFrame\n",
    "df_data = read_data(\"crows_pairs_anonymized.csv\")\n",
    "\n",
    "# Filtering to Disability Data\n",
    "df_data = df_data[df_data['bias_type']=='disability']\n",
    "\n",
    "# supported masked language models (using bert)\n",
    "tokenizer = AlbertTokenizer.from_pretrained('albert-base-v2')\n",
    "model = AlbertForMaskedLM.from_pretrained('albert-base-v2')\n",
    "\n",
    "model.eval()\n",
    "\n",
    "mask_token = tokenizer.mask_token\n",
    "log_softmax = torch.nn.LogSoftmax(dim=0)\n",
    "vocab = tokenizer.get_vocab()\n",
    "with open(\"bert\" + \".vocab\", \"w\") as f:\n",
    "    f.write(json.dumps(vocab))\n",
    "\n",
    "lm = {\"model\": model,\n",
    "      \"tokenizer\": tokenizer,\n",
    "      \"mask_token\": mask_token,\n",
    "      \"log_softmax\": log_softmax,\n",
    "      \"uncased\": True\n",
    "}\n",
    "\n",
    "# score each sentence. \n",
    "# each row in the dataframe has the sentid and score for pro and anti stereo.\n",
    "df_score = pd.DataFrame(columns=['sent_more', 'sent_less', \n",
    "                                 'sent_more_score', 'sent_less_score',\n",
    "                                 'score', 'stereo_antistereo', 'bias_type'], dtype=object)"
   ]
  },
  {
   "cell_type": "code",
   "execution_count": null,
   "metadata": {},
   "outputs": [],
   "source": [
    "total_stereo, total_antistereo = 0, 0\n",
    "stereo_score, antistereo_score = 0, 0\n",
    "\n",
    "N = 0\n",
    "neutral = 0\n",
    "total = len(df_data.index)\n",
    "with tqdm(total=total) as pbar:\n",
    "    for index, data in df_data.iterrows():\n",
    "        direction = data['direction']\n",
    "        bias = data['bias_type']\n",
    "        score = mask_unigram(data, lm)\n",
    "\n",
    "        for stype in score.keys():\n",
    "            score[stype] = round(score[stype], 3)\n",
    "\n",
    "        N += 1\n",
    "        pair_score = 0\n",
    "        pbar.update(1)\n",
    "        if score['sent1_score'] == score['sent2_score']:\n",
    "            neutral += 1\n",
    "        else:\n",
    "            if direction == 'stereo':\n",
    "                total_stereo += 1\n",
    "                if score['sent1_score'] > score['sent2_score']:\n",
    "                    stereo_score += 1\n",
    "                    pair_score = 1\n",
    "            elif direction == 'antistereo':\n",
    "                total_antistereo += 1\n",
    "                if score['sent2_score'] > score['sent1_score']:\n",
    "                    antistereo_score += 1\n",
    "                    pair_score = 1\n",
    "\n",
    "        sent_more, sent_less = '', ''\n",
    "        if direction == 'stereo':\n",
    "            sent_more = data['sent1']\n",
    "            sent_less = data['sent2']\n",
    "            sent_more_score = score['sent1_score']\n",
    "            sent_less_score = score['sent2_score']\n",
    "        else:\n",
    "            sent_more = data['sent2']\n",
    "            sent_less = data['sent1']\n",
    "            sent_more_score = score['sent2_score']\n",
    "            sent_less_score = score['sent1_score']\n",
    "\n",
    "        df_score = df_score.append({'sent_more': sent_more,\n",
    "                                    'sent_less': sent_less,\n",
    "                                    'sent_more_score': sent_more_score,\n",
    "                                    'sent_less_score': sent_less_score,\n",
    "                                    'score': pair_score,\n",
    "                                    'stereo_antistereo': direction,\n",
    "                                    'bias_type': bias\n",
    "                                  }, ignore_index=True)\n"
   ]
  }
 ],
 "metadata": {
  "kernelspec": {
   "display_name": "Python 3",
   "language": "python",
   "name": "python3"
  },
  "language_info": {
   "codemirror_mode": {
    "name": "ipython",
    "version": 3
   },
   "file_extension": ".py",
   "mimetype": "text/x-python",
   "name": "python",
   "nbconvert_exporter": "python",
   "pygments_lexer": "ipython3",
   "version": "3.7.4"
  }
 },
 "nbformat": 4,
 "nbformat_minor": 2
}
