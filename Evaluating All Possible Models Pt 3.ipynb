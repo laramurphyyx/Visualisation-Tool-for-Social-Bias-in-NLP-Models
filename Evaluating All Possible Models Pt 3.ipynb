{
 "cells": [
  {
   "cell_type": "markdown",
   "id": "27dcd925",
   "metadata": {},
   "source": [
    "# Testing All Models on Adjusted Dataset"
   ]
  },
  {
   "cell_type": "code",
   "execution_count": 1,
   "id": "88d35370",
   "metadata": {
    "scrolled": true
   },
   "outputs": [],
   "source": [
    "import os\n",
    "import csv\n",
    "import json\n",
    "import math\n",
    "import torch\n",
    "import argparse\n",
    "import difflib\n",
    "import logging\n",
    "import numpy as np\n",
    "import pandas as pd\n",
    "\n",
    "from transformers import BertTokenizer, BertForMaskedLM\n",
    "from transformers import AlbertTokenizer, AlbertForMaskedLM\n",
    "from transformers import RobertaTokenizer, RobertaForMaskedLM\n",
    "from transformers import XLMRobertaTokenizer, XLMRobertaForMaskedLM\n",
    "from transformers import DistilBertTokenizer, DistilBertForMaskedLM\n",
    "from transformers import AutoModel, AutoTokenizer\n",
    "# \n",
    "from collections import defaultdict\n",
    "from tqdm import tqdm\n",
    "\n",
    "import sentencepiece\n",
    "\n",
    "from crows_pairs_methods import *"
   ]
  },
  {
   "cell_type": "code",
   "execution_count": 2,
   "id": "e32dc3b3",
   "metadata": {},
   "outputs": [],
   "source": [
    "BERT_models = [\n",
    "    'bert-base-cased',\n",
    "    'bert-base-uncased',\n",
    "    'bert-large-uncased',\n",
    "    'bert-large-cased',\n",
    "    'bert-base-multilingual-uncased',\n",
    "    'bert-base-multilingual-cased',\n",
    "    'allenai/scibert_scivocab_uncased',\n",
    "    'emilyalsentzer/Bio_ClinicalBERT',\n",
    "    'microsoft/BiomedNLP-PubMedBERT-base-uncased-abstract',\n",
    "    'ProsusAI/finbert',\n",
    "    'nlpaueb/legal-bert-base-uncased',\n",
    "    'GroNLP/hateBERT',\n",
    "    'anferico/bert-for-patents',\n",
    "    'jackaduma/SecBERT'\n",
    "]\n",
    "\n",
    "ALBERT_models = [\n",
    "    'albert-base-v1',\n",
    "    'albert-base-v2'\n",
    "]\n",
    "\n",
    "ROBERTA_models = [\n",
    "    'roberta-base',\n",
    "    'distilroberta-base',\n",
    "    'roberta-large',\n",
    "    'huggingface/CodeBERTa-small-v1',\n",
    "    'climatebert/distilroberta-base-climate-f'\n",
    "]\n",
    "\n",
    "all_models = BERT_models + ALBERT_models + ROBERTA_models + ['xlm-roberta-base', 'distilbert-base-multilingual-cased']"
   ]
  },
  {
   "cell_type": "code",
   "execution_count": 3,
   "id": "9b25bc22",
   "metadata": {},
   "outputs": [],
   "source": [
    "bias_types = [\n",
    "    'Race',\n",
    "    'Gender',\n",
    "    'Socio-Economic', \n",
    "    'Nationality', \n",
    "    'Religion', \n",
    "    'Age', \n",
    "    'Sexual Orientation', \n",
    "    'Physical Appearance', \n",
    "    'Disability'\n",
    "]"
   ]
  },
  {
   "cell_type": "code",
   "execution_count": 4,
   "id": "a0200a2e",
   "metadata": {},
   "outputs": [],
   "source": [
    "bias_types = [\n",
    "    'race-color',\n",
    "    'gender',\n",
    "    'socioeconomic',\n",
    "    'nationality',\n",
    "    'religion', \n",
    "    'age',\n",
    "    'sexual-orientation',\n",
    "    'physical-appearance',\n",
    "    'disability'\n",
    "]"
   ]
  },
  {
   "cell_type": "code",
   "execution_count": 6,
   "id": "4343f342",
   "metadata": {},
   "outputs": [],
   "source": [
    "empty_dataframe_dictionary = {\n",
    "    'models' : [],\n",
    "    'metric_scores' : [],\n",
    "    'stereotype_scores' : [],\n",
    "    'antistereotype_scores' : []\n",
    "}\n",
    "\n",
    "dataframe_dictionary_race = empty_dataframe_dictionary\n",
    "dataframe_dictionary_gender = empty_dataframe_dictionary\n",
    "dataframe_dictionary_socioeconomic = empty_dataframe_dictionary\n",
    "dataframe_dictionary_nationality = empty_dataframe_dictionary\n",
    "dataframe_dictionary_religion = empty_dataframe_dictionary\n",
    "dataframe_dictionary_age = empty_dataframe_dictionary\n",
    "dataframe_dictionary_sexualorientation = empty_dataframe_dictionary\n",
    "dataframe_dictionary_physicalappearance = empty_dataframe_dictionary\n",
    "dataframe_dictionary_disability = empty_dataframe_dictionary"
   ]
  },
  {
   "cell_type": "code",
   "execution_count": 12,
   "id": "8e1f2870",
   "metadata": {},
   "outputs": [
    {
     "data": {
      "text/html": [
       "<div>\n",
       "<style scoped>\n",
       "    .dataframe tbody tr th:only-of-type {\n",
       "        vertical-align: middle;\n",
       "    }\n",
       "\n",
       "    .dataframe tbody tr th {\n",
       "        vertical-align: top;\n",
       "    }\n",
       "\n",
       "    .dataframe thead th {\n",
       "        text-align: right;\n",
       "    }\n",
       "</style>\n",
       "<table border=\"1\" class=\"dataframe\">\n",
       "  <thead>\n",
       "    <tr style=\"text-align: right;\">\n",
       "      <th></th>\n",
       "      <th>models</th>\n",
       "      <th>metric_scores</th>\n",
       "      <th>stereotype_scores</th>\n",
       "      <th>antistereotype_scores</th>\n",
       "    </tr>\n",
       "  </thead>\n",
       "  <tbody>\n",
       "    <tr>\n",
       "      <th>0</th>\n",
       "      <td>bert-base-cased</td>\n",
       "      <td>55.56</td>\n",
       "      <td>50.0</td>\n",
       "      <td>100.0</td>\n",
       "    </tr>\n",
       "    <tr>\n",
       "      <th>1</th>\n",
       "      <td>bert-base-uncased</td>\n",
       "      <td>55.56</td>\n",
       "      <td>62.5</td>\n",
       "      <td>0.0</td>\n",
       "    </tr>\n",
       "    <tr>\n",
       "      <th>2</th>\n",
       "      <td>bert-large-uncased</td>\n",
       "      <td>55.56</td>\n",
       "      <td>50.0</td>\n",
       "      <td>100.0</td>\n",
       "    </tr>\n",
       "    <tr>\n",
       "      <th>3</th>\n",
       "      <td>bert-large-cased</td>\n",
       "      <td>55.56</td>\n",
       "      <td>62.5</td>\n",
       "      <td>0.0</td>\n",
       "    </tr>\n",
       "    <tr>\n",
       "      <th>4</th>\n",
       "      <td>bert-base-multilingual-uncased</td>\n",
       "      <td>44.44</td>\n",
       "      <td>50.0</td>\n",
       "      <td>0.0</td>\n",
       "    </tr>\n",
       "    <tr>\n",
       "      <th>5</th>\n",
       "      <td>bert-base-multilingual-cased</td>\n",
       "      <td>77.78</td>\n",
       "      <td>75.0</td>\n",
       "      <td>100.0</td>\n",
       "    </tr>\n",
       "    <tr>\n",
       "      <th>6</th>\n",
       "      <td>allenai/scibert_scivocab_uncased</td>\n",
       "      <td>33.33</td>\n",
       "      <td>37.5</td>\n",
       "      <td>0.0</td>\n",
       "    </tr>\n",
       "    <tr>\n",
       "      <th>7</th>\n",
       "      <td>emilyalsentzer/Bio_ClinicalBERT</td>\n",
       "      <td>44.44</td>\n",
       "      <td>37.5</td>\n",
       "      <td>100.0</td>\n",
       "    </tr>\n",
       "    <tr>\n",
       "      <th>8</th>\n",
       "      <td>microsoft/BiomedNLP-PubMedBERT-base-uncased-ab...</td>\n",
       "      <td>55.56</td>\n",
       "      <td>62.5</td>\n",
       "      <td>0.0</td>\n",
       "    </tr>\n",
       "    <tr>\n",
       "      <th>9</th>\n",
       "      <td>ProsusAI/finbert</td>\n",
       "      <td>66.67</td>\n",
       "      <td>75.0</td>\n",
       "      <td>0.0</td>\n",
       "    </tr>\n",
       "    <tr>\n",
       "      <th>10</th>\n",
       "      <td>nlpaueb/legal-bert-base-uncased</td>\n",
       "      <td>77.78</td>\n",
       "      <td>75.0</td>\n",
       "      <td>100.0</td>\n",
       "    </tr>\n",
       "    <tr>\n",
       "      <th>11</th>\n",
       "      <td>GroNLP/hateBERT</td>\n",
       "      <td>55.56</td>\n",
       "      <td>50.0</td>\n",
       "      <td>100.0</td>\n",
       "    </tr>\n",
       "    <tr>\n",
       "      <th>12</th>\n",
       "      <td>anferico/bert-for-patents</td>\n",
       "      <td>55.56</td>\n",
       "      <td>50.0</td>\n",
       "      <td>100.0</td>\n",
       "    </tr>\n",
       "    <tr>\n",
       "      <th>13</th>\n",
       "      <td>jackaduma/SecBERT</td>\n",
       "      <td>66.67</td>\n",
       "      <td>75.0</td>\n",
       "      <td>0.0</td>\n",
       "    </tr>\n",
       "  </tbody>\n",
       "</table>\n",
       "</div>"
      ],
      "text/plain": [
       "                                               models  metric_scores  \\\n",
       "0                                     bert-base-cased          55.56   \n",
       "1                                   bert-base-uncased          55.56   \n",
       "2                                  bert-large-uncased          55.56   \n",
       "3                                    bert-large-cased          55.56   \n",
       "4                      bert-base-multilingual-uncased          44.44   \n",
       "5                        bert-base-multilingual-cased          77.78   \n",
       "6                    allenai/scibert_scivocab_uncased          33.33   \n",
       "7                     emilyalsentzer/Bio_ClinicalBERT          44.44   \n",
       "8   microsoft/BiomedNLP-PubMedBERT-base-uncased-ab...          55.56   \n",
       "9                                    ProsusAI/finbert          66.67   \n",
       "10                    nlpaueb/legal-bert-base-uncased          77.78   \n",
       "11                                    GroNLP/hateBERT          55.56   \n",
       "12                          anferico/bert-for-patents          55.56   \n",
       "13                                  jackaduma/SecBERT          66.67   \n",
       "\n",
       "    stereotype_scores  antistereotype_scores  \n",
       "0                50.0                  100.0  \n",
       "1                62.5                    0.0  \n",
       "2                50.0                  100.0  \n",
       "3                62.5                    0.0  \n",
       "4                50.0                    0.0  \n",
       "5                75.0                  100.0  \n",
       "6                37.5                    0.0  \n",
       "7                37.5                  100.0  \n",
       "8                62.5                    0.0  \n",
       "9                75.0                    0.0  \n",
       "10               75.0                  100.0  \n",
       "11               50.0                  100.0  \n",
       "12               50.0                  100.0  \n",
       "13               75.0                    0.0  "
      ]
     },
     "execution_count": 12,
     "metadata": {},
     "output_type": "execute_result"
    }
   ],
   "source": [
    "pd.DataFrame(dataframe_dictionary_race)"
   ]
  },
  {
   "cell_type": "code",
   "execution_count": 8,
   "id": "c5db2194",
   "metadata": {
    "scrolled": true
   },
   "outputs": [
    {
     "data": {
      "application/vnd.jupyter.widget-view+json": {
       "model_id": "31624167cdc8481ba8fe1e67da1d7171",
       "version_major": 2,
       "version_minor": 0
      },
      "text/plain": [
       "Downloading:   0%|          | 0.00/29.0 [00:00<?, ?B/s]"
      ]
     },
     "metadata": {},
     "output_type": "display_data"
    },
    {
     "data": {
      "application/vnd.jupyter.widget-view+json": {
       "model_id": "6b3ba084c67f47c596203dfeebfd445b",
       "version_major": 2,
       "version_minor": 0
      },
      "text/plain": [
       "Downloading:   0%|          | 0.00/208k [00:00<?, ?B/s]"
      ]
     },
     "metadata": {},
     "output_type": "display_data"
    },
    {
     "data": {
      "application/vnd.jupyter.widget-view+json": {
       "model_id": "cd4c7b28db964f9ebafebf21bb33e621",
       "version_major": 2,
       "version_minor": 0
      },
      "text/plain": [
       "Downloading:   0%|          | 0.00/426k [00:00<?, ?B/s]"
      ]
     },
     "metadata": {},
     "output_type": "display_data"
    },
    {
     "data": {
      "application/vnd.jupyter.widget-view+json": {
       "model_id": "7a504006b6944bd5a0bfc0cc4b0e0e30",
       "version_major": 2,
       "version_minor": 0
      },
      "text/plain": [
       "Downloading:   0%|          | 0.00/570 [00:00<?, ?B/s]"
      ]
     },
     "metadata": {},
     "output_type": "display_data"
    },
    {
     "data": {
      "application/vnd.jupyter.widget-view+json": {
       "model_id": "b1cb8e5fa8da42288a41686a6b4d2590",
       "version_major": 2,
       "version_minor": 0
      },
      "text/plain": [
       "Downloading:   0%|          | 0.00/416M [00:00<?, ?B/s]"
      ]
     },
     "metadata": {},
     "output_type": "display_data"
    },
    {
     "name": "stderr",
     "output_type": "stream",
     "text": [
      "Some weights of the model checkpoint at bert-base-cased were not used when initializing BertForMaskedLM: ['cls.seq_relationship.bias', 'cls.seq_relationship.weight']\n",
      "- This IS expected if you are initializing BertForMaskedLM from the checkpoint of a model trained on another task or with another architecture (e.g. initializing a BertForSequenceClassification model from a BertForPreTraining model).\n",
      "- This IS NOT expected if you are initializing BertForMaskedLM from the checkpoint of a model that you expect to be exactly identical (initializing a BertForSequenceClassification model from a BertForSequenceClassification model).\n",
      "100%|████████████████████████████████████████████████████████████████████████████████████| 9/9 [00:23<00:00,  2.63s/it]\n"
     ]
    },
    {
     "data": {
      "application/vnd.jupyter.widget-view+json": {
       "model_id": "d04fa5eb4a224354992760065406274b",
       "version_major": 2,
       "version_minor": 0
      },
      "text/plain": [
       "Downloading:   0%|          | 0.00/28.0 [00:00<?, ?B/s]"
      ]
     },
     "metadata": {},
     "output_type": "display_data"
    },
    {
     "data": {
      "application/vnd.jupyter.widget-view+json": {
       "model_id": "94fe148c9d4f4e75885da437c6c2e7ca",
       "version_major": 2,
       "version_minor": 0
      },
      "text/plain": [
       "Downloading:   0%|          | 0.00/226k [00:00<?, ?B/s]"
      ]
     },
     "metadata": {},
     "output_type": "display_data"
    },
    {
     "data": {
      "application/vnd.jupyter.widget-view+json": {
       "model_id": "11dcb17bdb034383b3c72cbf35f0be1a",
       "version_major": 2,
       "version_minor": 0
      },
      "text/plain": [
       "Downloading:   0%|          | 0.00/455k [00:00<?, ?B/s]"
      ]
     },
     "metadata": {},
     "output_type": "display_data"
    },
    {
     "data": {
      "application/vnd.jupyter.widget-view+json": {
       "model_id": "929760f5f6654a68bbff5d8f693688a6",
       "version_major": 2,
       "version_minor": 0
      },
      "text/plain": [
       "Downloading:   0%|          | 0.00/570 [00:00<?, ?B/s]"
      ]
     },
     "metadata": {},
     "output_type": "display_data"
    },
    {
     "data": {
      "application/vnd.jupyter.widget-view+json": {
       "model_id": "758712ef25f7441b8f97dd64f317fc1c",
       "version_major": 2,
       "version_minor": 0
      },
      "text/plain": [
       "Downloading:   0%|          | 0.00/420M [00:00<?, ?B/s]"
      ]
     },
     "metadata": {},
     "output_type": "display_data"
    },
    {
     "name": "stderr",
     "output_type": "stream",
     "text": [
      "Some weights of the model checkpoint at bert-base-uncased were not used when initializing BertForMaskedLM: ['cls.seq_relationship.bias', 'cls.seq_relationship.weight']\n",
      "- This IS expected if you are initializing BertForMaskedLM from the checkpoint of a model trained on another task or with another architecture (e.g. initializing a BertForSequenceClassification model from a BertForPreTraining model).\n",
      "- This IS NOT expected if you are initializing BertForMaskedLM from the checkpoint of a model that you expect to be exactly identical (initializing a BertForSequenceClassification model from a BertForSequenceClassification model).\n",
      "100%|████████████████████████████████████████████████████████████████████████████████████| 9/9 [00:23<00:00,  2.62s/it]\n"
     ]
    },
    {
     "data": {
      "application/vnd.jupyter.widget-view+json": {
       "model_id": "ba37669ab44146c292691a1a18dba273",
       "version_major": 2,
       "version_minor": 0
      },
      "text/plain": [
       "Downloading:   0%|          | 0.00/28.0 [00:00<?, ?B/s]"
      ]
     },
     "metadata": {},
     "output_type": "display_data"
    },
    {
     "data": {
      "application/vnd.jupyter.widget-view+json": {
       "model_id": "29796f8569c1461fbc5ce591f1747747",
       "version_major": 2,
       "version_minor": 0
      },
      "text/plain": [
       "Downloading:   0%|          | 0.00/226k [00:00<?, ?B/s]"
      ]
     },
     "metadata": {},
     "output_type": "display_data"
    },
    {
     "data": {
      "application/vnd.jupyter.widget-view+json": {
       "model_id": "22ac6cfc33c2405099103dd5bba4468e",
       "version_major": 2,
       "version_minor": 0
      },
      "text/plain": [
       "Downloading:   0%|          | 0.00/455k [00:00<?, ?B/s]"
      ]
     },
     "metadata": {},
     "output_type": "display_data"
    },
    {
     "data": {
      "application/vnd.jupyter.widget-view+json": {
       "model_id": "38100ac259ea4c1e9185b83369ff6db9",
       "version_major": 2,
       "version_minor": 0
      },
      "text/plain": [
       "Downloading:   0%|          | 0.00/571 [00:00<?, ?B/s]"
      ]
     },
     "metadata": {},
     "output_type": "display_data"
    },
    {
     "data": {
      "application/vnd.jupyter.widget-view+json": {
       "model_id": "1c162853cbe843ecb17e10be49545573",
       "version_major": 2,
       "version_minor": 0
      },
      "text/plain": [
       "Downloading:   0%|          | 0.00/1.25G [00:00<?, ?B/s]"
      ]
     },
     "metadata": {},
     "output_type": "display_data"
    },
    {
     "name": "stderr",
     "output_type": "stream",
     "text": [
      "Some weights of the model checkpoint at bert-large-uncased were not used when initializing BertForMaskedLM: ['cls.seq_relationship.bias', 'cls.seq_relationship.weight']\n",
      "- This IS expected if you are initializing BertForMaskedLM from the checkpoint of a model trained on another task or with another architecture (e.g. initializing a BertForSequenceClassification model from a BertForPreTraining model).\n",
      "- This IS NOT expected if you are initializing BertForMaskedLM from the checkpoint of a model that you expect to be exactly identical (initializing a BertForSequenceClassification model from a BertForSequenceClassification model).\n",
      "100%|████████████████████████████████████████████████████████████████████████████████████| 9/9 [01:17<00:00,  8.64s/it]\n"
     ]
    },
    {
     "data": {
      "application/vnd.jupyter.widget-view+json": {
       "model_id": "b2fc2cdc91da41c5bbbeede6745b4b2f",
       "version_major": 2,
       "version_minor": 0
      },
      "text/plain": [
       "Downloading:   0%|          | 0.00/29.0 [00:00<?, ?B/s]"
      ]
     },
     "metadata": {},
     "output_type": "display_data"
    },
    {
     "data": {
      "application/vnd.jupyter.widget-view+json": {
       "model_id": "8406c25da215447c85fc032bc81e2893",
       "version_major": 2,
       "version_minor": 0
      },
      "text/plain": [
       "Downloading:   0%|          | 0.00/208k [00:00<?, ?B/s]"
      ]
     },
     "metadata": {},
     "output_type": "display_data"
    },
    {
     "data": {
      "application/vnd.jupyter.widget-view+json": {
       "model_id": "2fee0577b99e4c9ba9586baac4e86403",
       "version_major": 2,
       "version_minor": 0
      },
      "text/plain": [
       "Downloading:   0%|          | 0.00/426k [00:00<?, ?B/s]"
      ]
     },
     "metadata": {},
     "output_type": "display_data"
    },
    {
     "data": {
      "application/vnd.jupyter.widget-view+json": {
       "model_id": "c771c2371afe4f30a26f5a7b6ba7e676",
       "version_major": 2,
       "version_minor": 0
      },
      "text/plain": [
       "Downloading:   0%|          | 0.00/762 [00:00<?, ?B/s]"
      ]
     },
     "metadata": {},
     "output_type": "display_data"
    },
    {
     "data": {
      "application/vnd.jupyter.widget-view+json": {
       "model_id": "03ee507031a746438616bf3172404ee2",
       "version_major": 2,
       "version_minor": 0
      },
      "text/plain": [
       "Downloading:   0%|          | 0.00/1.25G [00:00<?, ?B/s]"
      ]
     },
     "metadata": {},
     "output_type": "display_data"
    },
    {
     "name": "stderr",
     "output_type": "stream",
     "text": [
      "Some weights of the model checkpoint at bert-large-cased were not used when initializing BertForMaskedLM: ['cls.seq_relationship.bias', 'cls.seq_relationship.weight']\n",
      "- This IS expected if you are initializing BertForMaskedLM from the checkpoint of a model trained on another task or with another architecture (e.g. initializing a BertForSequenceClassification model from a BertForPreTraining model).\n",
      "- This IS NOT expected if you are initializing BertForMaskedLM from the checkpoint of a model that you expect to be exactly identical (initializing a BertForSequenceClassification model from a BertForSequenceClassification model).\n",
      "100%|████████████████████████████████████████████████████████████████████████████████████| 9/9 [01:13<00:00,  8.22s/it]\n"
     ]
    },
    {
     "data": {
      "application/vnd.jupyter.widget-view+json": {
       "model_id": "ff6d0b52b8064daf8f8e7d1583d45da6",
       "version_major": 2,
       "version_minor": 0
      },
      "text/plain": [
       "Downloading:   0%|          | 0.00/28.0 [00:00<?, ?B/s]"
      ]
     },
     "metadata": {},
     "output_type": "display_data"
    },
    {
     "data": {
      "application/vnd.jupyter.widget-view+json": {
       "model_id": "b68bd263369a4925a0f230c423b623bd",
       "version_major": 2,
       "version_minor": 0
      },
      "text/plain": [
       "Downloading:   0%|          | 0.00/851k [00:00<?, ?B/s]"
      ]
     },
     "metadata": {},
     "output_type": "display_data"
    },
    {
     "data": {
      "application/vnd.jupyter.widget-view+json": {
       "model_id": "3dd7f2ed62ad43ae83f987cc0a4a5058",
       "version_major": 2,
       "version_minor": 0
      },
      "text/plain": [
       "Downloading:   0%|          | 0.00/1.64M [00:00<?, ?B/s]"
      ]
     },
     "metadata": {},
     "output_type": "display_data"
    },
    {
     "data": {
      "application/vnd.jupyter.widget-view+json": {
       "model_id": "b94c4a5eee4243038071140ffc237e07",
       "version_major": 2,
       "version_minor": 0
      },
      "text/plain": [
       "Downloading:   0%|          | 0.00/625 [00:00<?, ?B/s]"
      ]
     },
     "metadata": {},
     "output_type": "display_data"
    },
    {
     "data": {
      "application/vnd.jupyter.widget-view+json": {
       "model_id": "b2f24ec9e11d441b972235d2c987548c",
       "version_major": 2,
       "version_minor": 0
      },
      "text/plain": [
       "Downloading:   0%|          | 0.00/641M [00:00<?, ?B/s]"
      ]
     },
     "metadata": {},
     "output_type": "display_data"
    },
    {
     "name": "stderr",
     "output_type": "stream",
     "text": [
      "Some weights of the model checkpoint at bert-base-multilingual-uncased were not used when initializing BertForMaskedLM: ['cls.seq_relationship.bias', 'cls.seq_relationship.weight']\n",
      "- This IS expected if you are initializing BertForMaskedLM from the checkpoint of a model trained on another task or with another architecture (e.g. initializing a BertForSequenceClassification model from a BertForPreTraining model).\n",
      "- This IS NOT expected if you are initializing BertForMaskedLM from the checkpoint of a model that you expect to be exactly identical (initializing a BertForSequenceClassification model from a BertForSequenceClassification model).\n",
      "100%|████████████████████████████████████████████████████████████████████████████████████| 9/9 [00:34<00:00,  3.85s/it]\n"
     ]
    },
    {
     "data": {
      "application/vnd.jupyter.widget-view+json": {
       "model_id": "74d350961636413bb22bd3e98ec4c0ee",
       "version_major": 2,
       "version_minor": 0
      },
      "text/plain": [
       "Downloading:   0%|          | 0.00/29.0 [00:00<?, ?B/s]"
      ]
     },
     "metadata": {},
     "output_type": "display_data"
    },
    {
     "data": {
      "application/vnd.jupyter.widget-view+json": {
       "model_id": "e3ac8cf373df4fff88e5bb487bd63af5",
       "version_major": 2,
       "version_minor": 0
      },
      "text/plain": [
       "Downloading:   0%|          | 0.00/972k [00:00<?, ?B/s]"
      ]
     },
     "metadata": {},
     "output_type": "display_data"
    },
    {
     "data": {
      "application/vnd.jupyter.widget-view+json": {
       "model_id": "6c8082b91faa442bbc595f1d91ef07fc",
       "version_major": 2,
       "version_minor": 0
      },
      "text/plain": [
       "Downloading:   0%|          | 0.00/1.87M [00:00<?, ?B/s]"
      ]
     },
     "metadata": {},
     "output_type": "display_data"
    },
    {
     "data": {
      "application/vnd.jupyter.widget-view+json": {
       "model_id": "3564f03b7dff4bc3bbde79de0dc37edb",
       "version_major": 2,
       "version_minor": 0
      },
      "text/plain": [
       "Downloading:   0%|          | 0.00/625 [00:00<?, ?B/s]"
      ]
     },
     "metadata": {},
     "output_type": "display_data"
    },
    {
     "data": {
      "application/vnd.jupyter.widget-view+json": {
       "model_id": "3b99a7ff2db843b18df882c0d795fbb5",
       "version_major": 2,
       "version_minor": 0
      },
      "text/plain": [
       "Downloading:   0%|          | 0.00/681M [00:00<?, ?B/s]"
      ]
     },
     "metadata": {},
     "output_type": "display_data"
    },
    {
     "name": "stderr",
     "output_type": "stream",
     "text": [
      "Some weights of the model checkpoint at bert-base-multilingual-cased were not used when initializing BertForMaskedLM: ['cls.seq_relationship.bias', 'cls.seq_relationship.weight']\n",
      "- This IS expected if you are initializing BertForMaskedLM from the checkpoint of a model trained on another task or with another architecture (e.g. initializing a BertForSequenceClassification model from a BertForPreTraining model).\n",
      "- This IS NOT expected if you are initializing BertForMaskedLM from the checkpoint of a model that you expect to be exactly identical (initializing a BertForSequenceClassification model from a BertForSequenceClassification model).\n",
      "100%|████████████████████████████████████████████████████████████████████████████████████| 9/9 [00:37<00:00,  4.14s/it]\n"
     ]
    },
    {
     "data": {
      "application/vnd.jupyter.widget-view+json": {
       "model_id": "97a7cd5b2e4a45218879350c95374e22",
       "version_major": 2,
       "version_minor": 0
      },
      "text/plain": [
       "Downloading:   0%|          | 0.00/223k [00:00<?, ?B/s]"
      ]
     },
     "metadata": {},
     "output_type": "display_data"
    },
    {
     "data": {
      "application/vnd.jupyter.widget-view+json": {
       "model_id": "eca9d3b2060c463fa0f32640f7505e85",
       "version_major": 2,
       "version_minor": 0
      },
      "text/plain": [
       "Downloading:   0%|          | 0.00/385 [00:00<?, ?B/s]"
      ]
     },
     "metadata": {},
     "output_type": "display_data"
    },
    {
     "data": {
      "application/vnd.jupyter.widget-view+json": {
       "model_id": "e70b5380b06141488217a8637bcf00e9",
       "version_major": 2,
       "version_minor": 0
      },
      "text/plain": [
       "Downloading:   0%|          | 0.00/422M [00:00<?, ?B/s]"
      ]
     },
     "metadata": {},
     "output_type": "display_data"
    },
    {
     "name": "stderr",
     "output_type": "stream",
     "text": [
      "Some weights of the model checkpoint at allenai/scibert_scivocab_uncased were not used when initializing BertForMaskedLM: ['cls.seq_relationship.bias', 'cls.seq_relationship.weight']\n",
      "- This IS expected if you are initializing BertForMaskedLM from the checkpoint of a model trained on another task or with another architecture (e.g. initializing a BertForSequenceClassification model from a BertForPreTraining model).\n",
      "- This IS NOT expected if you are initializing BertForMaskedLM from the checkpoint of a model that you expect to be exactly identical (initializing a BertForSequenceClassification model from a BertForSequenceClassification model).\n",
      "100%|████████████████████████████████████████████████████████████████████████████████████| 9/9 [00:26<00:00,  2.93s/it]\n"
     ]
    },
    {
     "data": {
      "application/vnd.jupyter.widget-view+json": {
       "model_id": "e64b8529677040f3804c679ddf40dc03",
       "version_major": 2,
       "version_minor": 0
      },
      "text/plain": [
       "Downloading:   0%|          | 0.00/208k [00:00<?, ?B/s]"
      ]
     },
     "metadata": {},
     "output_type": "display_data"
    },
    {
     "data": {
      "application/vnd.jupyter.widget-view+json": {
       "model_id": "9c7527b34f3042b2918f03f88717d1f5",
       "version_major": 2,
       "version_minor": 0
      },
      "text/plain": [
       "Downloading:   0%|          | 0.00/385 [00:00<?, ?B/s]"
      ]
     },
     "metadata": {},
     "output_type": "display_data"
    },
    {
     "data": {
      "application/vnd.jupyter.widget-view+json": {
       "model_id": "ad81280e1004401797cc298be8295868",
       "version_major": 2,
       "version_minor": 0
      },
      "text/plain": [
       "Downloading:   0%|          | 0.00/416M [00:00<?, ?B/s]"
      ]
     },
     "metadata": {},
     "output_type": "display_data"
    },
    {
     "name": "stderr",
     "output_type": "stream",
     "text": [
      "Some weights of the model checkpoint at emilyalsentzer/Bio_ClinicalBERT were not used when initializing BertForMaskedLM: ['cls.seq_relationship.bias', 'cls.seq_relationship.weight']\n",
      "- This IS expected if you are initializing BertForMaskedLM from the checkpoint of a model trained on another task or with another architecture (e.g. initializing a BertForSequenceClassification model from a BertForPreTraining model).\n",
      "- This IS NOT expected if you are initializing BertForMaskedLM from the checkpoint of a model that you expect to be exactly identical (initializing a BertForSequenceClassification model from a BertForSequenceClassification model).\n",
      "100%|████████████████████████████████████████████████████████████████████████████████████| 9/9 [00:23<00:00,  2.65s/it]\n"
     ]
    },
    {
     "data": {
      "application/vnd.jupyter.widget-view+json": {
       "model_id": "b4541241aba1440fa07a4a6598b6dd3a",
       "version_major": 2,
       "version_minor": 0
      },
      "text/plain": [
       "Downloading:   0%|          | 0.00/28.0 [00:00<?, ?B/s]"
      ]
     },
     "metadata": {},
     "output_type": "display_data"
    },
    {
     "data": {
      "application/vnd.jupyter.widget-view+json": {
       "model_id": "ad11f7c30bf14f2f9d49f2b63dcf4a5c",
       "version_major": 2,
       "version_minor": 0
      },
      "text/plain": [
       "Downloading:   0%|          | 0.00/220k [00:00<?, ?B/s]"
      ]
     },
     "metadata": {},
     "output_type": "display_data"
    },
    {
     "data": {
      "application/vnd.jupyter.widget-view+json": {
       "model_id": "cf0e042a47b740908eb7c82aa03a3a4d",
       "version_major": 2,
       "version_minor": 0
      },
      "text/plain": [
       "Downloading:   0%|          | 0.00/385 [00:00<?, ?B/s]"
      ]
     },
     "metadata": {},
     "output_type": "display_data"
    },
    {
     "data": {
      "application/vnd.jupyter.widget-view+json": {
       "model_id": "2ba0cc7a90f0415a9a95c2c5281e1ed4",
       "version_major": 2,
       "version_minor": 0
      },
      "text/plain": [
       "Downloading:   0%|          | 0.00/420M [00:00<?, ?B/s]"
      ]
     },
     "metadata": {},
     "output_type": "display_data"
    },
    {
     "name": "stderr",
     "output_type": "stream",
     "text": [
      "Some weights of the model checkpoint at microsoft/BiomedNLP-PubMedBERT-base-uncased-abstract were not used when initializing BertForMaskedLM: ['cls.seq_relationship.bias', 'cls.seq_relationship.weight']\n",
      "- This IS expected if you are initializing BertForMaskedLM from the checkpoint of a model trained on another task or with another architecture (e.g. initializing a BertForSequenceClassification model from a BertForPreTraining model).\n",
      "- This IS NOT expected if you are initializing BertForMaskedLM from the checkpoint of a model that you expect to be exactly identical (initializing a BertForSequenceClassification model from a BertForSequenceClassification model).\n",
      "100%|████████████████████████████████████████████████████████████████████████████████████| 9/9 [00:28<00:00,  3.12s/it]\n"
     ]
    },
    {
     "data": {
      "application/vnd.jupyter.widget-view+json": {
       "model_id": "60a549f1369a435e84ec19a4cd727a05",
       "version_major": 2,
       "version_minor": 0
      },
      "text/plain": [
       "Downloading:   0%|          | 0.00/252 [00:00<?, ?B/s]"
      ]
     },
     "metadata": {},
     "output_type": "display_data"
    },
    {
     "data": {
      "application/vnd.jupyter.widget-view+json": {
       "model_id": "0ae7d9b7d2af44218d6c56d9e09e56a4",
       "version_major": 2,
       "version_minor": 0
      },
      "text/plain": [
       "Downloading:   0%|          | 0.00/226k [00:00<?, ?B/s]"
      ]
     },
     "metadata": {},
     "output_type": "display_data"
    },
    {
     "data": {
      "application/vnd.jupyter.widget-view+json": {
       "model_id": "17b9448772ad4473b85b490e24062b1f",
       "version_major": 2,
       "version_minor": 0
      },
      "text/plain": [
       "Downloading:   0%|          | 0.00/112 [00:00<?, ?B/s]"
      ]
     },
     "metadata": {},
     "output_type": "display_data"
    },
    {
     "data": {
      "application/vnd.jupyter.widget-view+json": {
       "model_id": "9eaaaab8e57f4567b58491b8f86e929b",
       "version_major": 2,
       "version_minor": 0
      },
      "text/plain": [
       "Downloading:   0%|          | 0.00/758 [00:00<?, ?B/s]"
      ]
     },
     "metadata": {},
     "output_type": "display_data"
    },
    {
     "data": {
      "application/vnd.jupyter.widget-view+json": {
       "model_id": "35f16bc550a946429d14ccdf71716086",
       "version_major": 2,
       "version_minor": 0
      },
      "text/plain": [
       "Downloading:   0%|          | 0.00/418M [00:00<?, ?B/s]"
      ]
     },
     "metadata": {},
     "output_type": "display_data"
    },
    {
     "name": "stderr",
     "output_type": "stream",
     "text": [
      "Some weights of the model checkpoint at ProsusAI/finbert were not used when initializing BertForMaskedLM: ['classifier.weight', 'classifier.bias']\n",
      "- This IS expected if you are initializing BertForMaskedLM from the checkpoint of a model trained on another task or with another architecture (e.g. initializing a BertForSequenceClassification model from a BertForPreTraining model).\n",
      "- This IS NOT expected if you are initializing BertForMaskedLM from the checkpoint of a model that you expect to be exactly identical (initializing a BertForSequenceClassification model from a BertForSequenceClassification model).\n",
      "Some weights of BertForMaskedLM were not initialized from the model checkpoint at ProsusAI/finbert and are newly initialized: ['cls.predictions.transform.LayerNorm.bias', 'cls.predictions.transform.LayerNorm.weight', 'cls.predictions.bias', 'cls.predictions.transform.dense.bias', 'cls.predictions.decoder.weight', 'cls.predictions.transform.dense.weight']\n",
      "You should probably TRAIN this model on a down-stream task to be able to use it for predictions and inference.\n",
      "100%|████████████████████████████████████████████████████████████████████████████████████| 9/9 [00:23<00:00,  2.62s/it]\n"
     ]
    },
    {
     "data": {
      "application/vnd.jupyter.widget-view+json": {
       "model_id": "4936066aee5846c3a3bfde1e7b6d0a15",
       "version_major": 2,
       "version_minor": 0
      },
      "text/plain": [
       "Downloading:   0%|          | 0.00/2.00 [00:00<?, ?B/s]"
      ]
     },
     "metadata": {},
     "output_type": "display_data"
    },
    {
     "data": {
      "application/vnd.jupyter.widget-view+json": {
       "model_id": "6f768426aa95455f820841324b622722",
       "version_major": 2,
       "version_minor": 0
      },
      "text/plain": [
       "Downloading:   0%|          | 0.00/217k [00:00<?, ?B/s]"
      ]
     },
     "metadata": {},
     "output_type": "display_data"
    },
    {
     "data": {
      "application/vnd.jupyter.widget-view+json": {
       "model_id": "8b5c97e2421c447d9d420176dc40d112",
       "version_major": 2,
       "version_minor": 0
      },
      "text/plain": [
       "Downloading:   0%|          | 0.00/112 [00:00<?, ?B/s]"
      ]
     },
     "metadata": {},
     "output_type": "display_data"
    },
    {
     "data": {
      "application/vnd.jupyter.widget-view+json": {
       "model_id": "fa440b4edd59421ba05a7307ac5fbd18",
       "version_major": 2,
       "version_minor": 0
      },
      "text/plain": [
       "Downloading:   0%|          | 0.00/0.99k [00:00<?, ?B/s]"
      ]
     },
     "metadata": {},
     "output_type": "display_data"
    },
    {
     "data": {
      "application/vnd.jupyter.widget-view+json": {
       "model_id": "95c68abecbe946e0a2d686503335ee7b",
       "version_major": 2,
       "version_minor": 0
      },
      "text/plain": [
       "Downloading:   0%|          | 0.00/420M [00:00<?, ?B/s]"
      ]
     },
     "metadata": {},
     "output_type": "display_data"
    },
    {
     "name": "stderr",
     "output_type": "stream",
     "text": [
      "Some weights of the model checkpoint at nlpaueb/legal-bert-base-uncased were not used when initializing BertForMaskedLM: ['cls.seq_relationship.bias', 'cls.seq_relationship.weight']\n",
      "- This IS expected if you are initializing BertForMaskedLM from the checkpoint of a model trained on another task or with another architecture (e.g. initializing a BertForSequenceClassification model from a BertForPreTraining model).\n",
      "- This IS NOT expected if you are initializing BertForMaskedLM from the checkpoint of a model that you expect to be exactly identical (initializing a BertForSequenceClassification model from a BertForSequenceClassification model).\n",
      "100%|████████████████████████████████████████████████████████████████████████████████████| 9/9 [00:26<00:00,  2.92s/it]\n"
     ]
    },
    {
     "data": {
      "application/vnd.jupyter.widget-view+json": {
       "model_id": "23f4661fa55c46a2b60a0feaa4560144",
       "version_major": 2,
       "version_minor": 0
      },
      "text/plain": [
       "Downloading:   0%|          | 0.00/151 [00:00<?, ?B/s]"
      ]
     },
     "metadata": {},
     "output_type": "display_data"
    },
    {
     "data": {
      "application/vnd.jupyter.widget-view+json": {
       "model_id": "7ae7216ef80e47799272c30e836749f6",
       "version_major": 2,
       "version_minor": 0
      },
      "text/plain": [
       "Downloading:   0%|          | 0.00/226k [00:00<?, ?B/s]"
      ]
     },
     "metadata": {},
     "output_type": "display_data"
    },
    {
     "data": {
      "application/vnd.jupyter.widget-view+json": {
       "model_id": "97c925d8335b454e86ff42c49109d43a",
       "version_major": 2,
       "version_minor": 0
      },
      "text/plain": [
       "Downloading:   0%|          | 0.00/112 [00:00<?, ?B/s]"
      ]
     },
     "metadata": {},
     "output_type": "display_data"
    },
    {
     "data": {
      "application/vnd.jupyter.widget-view+json": {
       "model_id": "1740b40d28114eb5834a7235c623f0ab",
       "version_major": 2,
       "version_minor": 0
      },
      "text/plain": [
       "Downloading:   0%|          | 0.00/1.21k [00:00<?, ?B/s]"
      ]
     },
     "metadata": {},
     "output_type": "display_data"
    },
    {
     "data": {
      "application/vnd.jupyter.widget-view+json": {
       "model_id": "537a6bfc0c9740daae902f8a762bd17b",
       "version_major": 2,
       "version_minor": 0
      },
      "text/plain": [
       "Downloading:   0%|          | 0.00/420M [00:00<?, ?B/s]"
      ]
     },
     "metadata": {},
     "output_type": "display_data"
    },
    {
     "name": "stderr",
     "output_type": "stream",
     "text": [
      "100%|████████████████████████████████████████████████████████████████████████████████████| 9/9 [00:23<00:00,  2.65s/it]\n"
     ]
    },
    {
     "data": {
      "application/vnd.jupyter.widget-view+json": {
       "model_id": "0bcf7dd16ebb4b94b6e56f21de6f50a9",
       "version_major": 2,
       "version_minor": 0
      },
      "text/plain": [
       "Downloading:   0%|          | 0.00/322k [00:00<?, ?B/s]"
      ]
     },
     "metadata": {},
     "output_type": "display_data"
    },
    {
     "data": {
      "application/vnd.jupyter.widget-view+json": {
       "model_id": "c5dbdcbea74b4f96855729129a848cb1",
       "version_major": 2,
       "version_minor": 0
      },
      "text/plain": [
       "Downloading:   0%|          | 0.00/327 [00:00<?, ?B/s]"
      ]
     },
     "metadata": {},
     "output_type": "display_data"
    },
    {
     "data": {
      "application/vnd.jupyter.widget-view+json": {
       "model_id": "67d5a4dffa0341e1b946130b6e892543",
       "version_major": 2,
       "version_minor": 0
      },
      "text/plain": [
       "Downloading:   0%|          | 0.00/1.29G [00:00<?, ?B/s]"
      ]
     },
     "metadata": {},
     "output_type": "display_data"
    },
    {
     "name": "stderr",
     "output_type": "stream",
     "text": [
      "Some weights of the model checkpoint at anferico/bert-for-patents were not used when initializing BertForMaskedLM: ['cls.seq_relationship.bias', 'cls.seq_relationship.weight']\n",
      "- This IS expected if you are initializing BertForMaskedLM from the checkpoint of a model trained on another task or with another architecture (e.g. initializing a BertForSequenceClassification model from a BertForPreTraining model).\n",
      "- This IS NOT expected if you are initializing BertForMaskedLM from the checkpoint of a model that you expect to be exactly identical (initializing a BertForSequenceClassification model from a BertForSequenceClassification model).\n",
      "100%|████████████████████████████████████████████████████████████████████████████████████| 9/9 [01:11<00:00,  7.97s/it]\n"
     ]
    },
    {
     "data": {
      "application/vnd.jupyter.widget-view+json": {
       "model_id": "3c79876e02804bf1b65266a128e90e7f",
       "version_major": 2,
       "version_minor": 0
      },
      "text/plain": [
       "Downloading:   0%|          | 0.00/369k [00:00<?, ?B/s]"
      ]
     },
     "metadata": {},
     "output_type": "display_data"
    },
    {
     "data": {
      "application/vnd.jupyter.widget-view+json": {
       "model_id": "a6dc76fb27fd4295a6fdc6ea9c010a0c",
       "version_major": 2,
       "version_minor": 0
      },
      "text/plain": [
       "Downloading:   0%|          | 0.00/467 [00:00<?, ?B/s]"
      ]
     },
     "metadata": {},
     "output_type": "display_data"
    },
    {
     "data": {
      "application/vnd.jupyter.widget-view+json": {
       "model_id": "0b1053bfbd194ac385da7593f6bd2b73",
       "version_major": 2,
       "version_minor": 0
      },
      "text/plain": [
       "Downloading:   0%|          | 0.00/321M [00:00<?, ?B/s]"
      ]
     },
     "metadata": {},
     "output_type": "display_data"
    },
    {
     "name": "stderr",
     "output_type": "stream",
     "text": [
      "100%|████████████████████████████████████████████████████████████████████████████████████| 9/9 [00:17<00:00,  1.90s/it]\n"
     ]
    },
    {
     "ename": "ImportError",
     "evalue": "\nAlbertTokenizer requires the SentencePiece library but it was not found in your environment. Checkout the instructions on the\ninstallation page of its repo: https://github.com/google/sentencepiece#installation and follow the ones\nthat match your environment.\n",
     "output_type": "error",
     "traceback": [
      "\u001b[1;31m---------------------------------------------------------------------------\u001b[0m",
      "\u001b[1;31mImportError\u001b[0m                               Traceback (most recent call last)",
      "\u001b[1;32m~\\AppData\\Local\\Temp/ipykernel_21924/1152527235.py\u001b[0m in \u001b[0;36m<module>\u001b[1;34m\u001b[0m\n\u001b[0;32m     16\u001b[0m             \u001b[0mmodel\u001b[0m \u001b[1;33m=\u001b[0m \u001b[0mBertForMaskedLM\u001b[0m\u001b[1;33m.\u001b[0m\u001b[0mfrom_pretrained\u001b[0m\u001b[1;33m(\u001b[0m\u001b[0mmodel_name\u001b[0m\u001b[1;33m)\u001b[0m\u001b[1;33m\u001b[0m\u001b[1;33m\u001b[0m\u001b[0m\n\u001b[0;32m     17\u001b[0m         \u001b[1;32melif\u001b[0m \u001b[0mmodel_name\u001b[0m \u001b[1;32min\u001b[0m \u001b[0mALBERT_models\u001b[0m\u001b[1;33m:\u001b[0m\u001b[1;33m\u001b[0m\u001b[1;33m\u001b[0m\u001b[0m\n\u001b[1;32m---> 18\u001b[1;33m             \u001b[0mtokenizer\u001b[0m \u001b[1;33m=\u001b[0m \u001b[0mAlbertTokenizer\u001b[0m\u001b[1;33m.\u001b[0m\u001b[0mfrom_pretrained\u001b[0m\u001b[1;33m(\u001b[0m\u001b[0mmodel_name\u001b[0m\u001b[1;33m)\u001b[0m\u001b[1;33m\u001b[0m\u001b[1;33m\u001b[0m\u001b[0m\n\u001b[0m\u001b[0;32m     19\u001b[0m             \u001b[0mmodel\u001b[0m \u001b[1;33m=\u001b[0m \u001b[0mAlbertForMaskedLM\u001b[0m\u001b[1;33m.\u001b[0m\u001b[0mfrom_pretrained\u001b[0m\u001b[1;33m(\u001b[0m\u001b[0mmodel_name\u001b[0m\u001b[1;33m)\u001b[0m\u001b[1;33m\u001b[0m\u001b[1;33m\u001b[0m\u001b[0m\n\u001b[0;32m     20\u001b[0m         \u001b[1;32melif\u001b[0m \u001b[0mmodel_name\u001b[0m \u001b[1;32min\u001b[0m \u001b[0mROBERTA_models\u001b[0m\u001b[1;33m:\u001b[0m\u001b[1;33m\u001b[0m\u001b[1;33m\u001b[0m\u001b[0m\n",
      "\u001b[1;32m~\\AppData\\Local\\Packages\\PythonSoftwareFoundation.Python.3.9_qbz5n2kfra8p0\\LocalCache\\local-packages\\Python39\\site-packages\\transformers\\file_utils.py\u001b[0m in \u001b[0;36m__getattr__\u001b[1;34m(cls, key)\u001b[0m\n\u001b[0;32m    841\u001b[0m         \u001b[1;32mif\u001b[0m \u001b[0mkey\u001b[0m\u001b[1;33m.\u001b[0m\u001b[0mstartswith\u001b[0m\u001b[1;33m(\u001b[0m\u001b[1;34m\"_\"\u001b[0m\u001b[1;33m)\u001b[0m\u001b[1;33m:\u001b[0m\u001b[1;33m\u001b[0m\u001b[1;33m\u001b[0m\u001b[0m\n\u001b[0;32m    842\u001b[0m             \u001b[1;32mreturn\u001b[0m \u001b[0msuper\u001b[0m\u001b[1;33m(\u001b[0m\u001b[1;33m)\u001b[0m\u001b[1;33m.\u001b[0m\u001b[0m__getattr__\u001b[0m\u001b[1;33m(\u001b[0m\u001b[0mcls\u001b[0m\u001b[1;33m,\u001b[0m \u001b[0mkey\u001b[0m\u001b[1;33m)\u001b[0m\u001b[1;33m\u001b[0m\u001b[1;33m\u001b[0m\u001b[0m\n\u001b[1;32m--> 843\u001b[1;33m         \u001b[0mrequires_backends\u001b[0m\u001b[1;33m(\u001b[0m\u001b[0mcls\u001b[0m\u001b[1;33m,\u001b[0m \u001b[0mcls\u001b[0m\u001b[1;33m.\u001b[0m\u001b[0m_backends\u001b[0m\u001b[1;33m)\u001b[0m\u001b[1;33m\u001b[0m\u001b[1;33m\u001b[0m\u001b[0m\n\u001b[0m\u001b[0;32m    844\u001b[0m \u001b[1;33m\u001b[0m\u001b[0m\n\u001b[0;32m    845\u001b[0m \u001b[1;33m\u001b[0m\u001b[0m\n",
      "\u001b[1;32m~\\AppData\\Local\\Packages\\PythonSoftwareFoundation.Python.3.9_qbz5n2kfra8p0\\LocalCache\\local-packages\\Python39\\site-packages\\transformers\\file_utils.py\u001b[0m in \u001b[0;36mrequires_backends\u001b[1;34m(obj, backends)\u001b[0m\n\u001b[0;32m    829\u001b[0m     \u001b[0mname\u001b[0m \u001b[1;33m=\u001b[0m \u001b[0mobj\u001b[0m\u001b[1;33m.\u001b[0m\u001b[0m__name__\u001b[0m \u001b[1;32mif\u001b[0m \u001b[0mhasattr\u001b[0m\u001b[1;33m(\u001b[0m\u001b[0mobj\u001b[0m\u001b[1;33m,\u001b[0m \u001b[1;34m\"__name__\"\u001b[0m\u001b[1;33m)\u001b[0m \u001b[1;32melse\u001b[0m \u001b[0mobj\u001b[0m\u001b[1;33m.\u001b[0m\u001b[0m__class__\u001b[0m\u001b[1;33m.\u001b[0m\u001b[0m__name__\u001b[0m\u001b[1;33m\u001b[0m\u001b[1;33m\u001b[0m\u001b[0m\n\u001b[0;32m    830\u001b[0m     \u001b[1;32mif\u001b[0m \u001b[1;32mnot\u001b[0m \u001b[0mall\u001b[0m\u001b[1;33m(\u001b[0m\u001b[0mBACKENDS_MAPPING\u001b[0m\u001b[1;33m[\u001b[0m\u001b[0mbackend\u001b[0m\u001b[1;33m]\u001b[0m\u001b[1;33m[\u001b[0m\u001b[1;36m0\u001b[0m\u001b[1;33m]\u001b[0m\u001b[1;33m(\u001b[0m\u001b[1;33m)\u001b[0m \u001b[1;32mfor\u001b[0m \u001b[0mbackend\u001b[0m \u001b[1;32min\u001b[0m \u001b[0mbackends\u001b[0m\u001b[1;33m)\u001b[0m\u001b[1;33m:\u001b[0m\u001b[1;33m\u001b[0m\u001b[1;33m\u001b[0m\u001b[0m\n\u001b[1;32m--> 831\u001b[1;33m         \u001b[1;32mraise\u001b[0m \u001b[0mImportError\u001b[0m\u001b[1;33m(\u001b[0m\u001b[1;34m\"\"\u001b[0m\u001b[1;33m.\u001b[0m\u001b[0mjoin\u001b[0m\u001b[1;33m(\u001b[0m\u001b[1;33m[\u001b[0m\u001b[0mBACKENDS_MAPPING\u001b[0m\u001b[1;33m[\u001b[0m\u001b[0mbackend\u001b[0m\u001b[1;33m]\u001b[0m\u001b[1;33m[\u001b[0m\u001b[1;36m1\u001b[0m\u001b[1;33m]\u001b[0m\u001b[1;33m.\u001b[0m\u001b[0mformat\u001b[0m\u001b[1;33m(\u001b[0m\u001b[0mname\u001b[0m\u001b[1;33m)\u001b[0m \u001b[1;32mfor\u001b[0m \u001b[0mbackend\u001b[0m \u001b[1;32min\u001b[0m \u001b[0mbackends\u001b[0m\u001b[1;33m]\u001b[0m\u001b[1;33m)\u001b[0m\u001b[1;33m)\u001b[0m\u001b[1;33m\u001b[0m\u001b[1;33m\u001b[0m\u001b[0m\n\u001b[0m\u001b[0;32m    832\u001b[0m \u001b[1;33m\u001b[0m\u001b[0m\n\u001b[0;32m    833\u001b[0m \u001b[1;33m\u001b[0m\u001b[0m\n",
      "\u001b[1;31mImportError\u001b[0m: \nAlbertTokenizer requires the SentencePiece library but it was not found in your environment. Checkout the instructions on the\ninstallation page of its repo: https://github.com/google/sentencepiece#installation and follow the ones\nthat match your environment.\n"
     ]
    }
   ],
   "source": [
    "logging.basicConfig(level=logging.INFO)\n",
    "\n",
    "for bias_type in bias_types:\n",
    "    \n",
    "    # load data into panda DataFrame\n",
    "    df_data = read_data(\"fixed_data.csv\")\n",
    "\n",
    "    # Filtering to Disability Data\n",
    "    df_data = df_data[df_data['bias_type']==bias_type][:9]\n",
    "\n",
    "    for model_name in all_models:\n",
    "\n",
    "        # supported masked language models (using bert)\n",
    "        if model_name in BERT_models:\n",
    "            tokenizer = BertTokenizer.from_pretrained(model_name)\n",
    "            model = BertForMaskedLM.from_pretrained(model_name)\n",
    "        elif model_name in ALBERT_models:\n",
    "            tokenizer = AlbertTokenizer.from_pretrained(model_name)\n",
    "            model = AlbertForMaskedLM.from_pretrained(model_name)\n",
    "        elif model_name in ROBERTA_models:\n",
    "            tokenizer = RobertaTokenizer.from_pretrained(model_name)\n",
    "            model = RobertaForMaskedLM.from_pretrained(model_name)\n",
    "        elif model_name == 'xlm-roberta-base':\n",
    "            tokenizer = XLMRobertaTokenizer.from_pretrained(model_name)\n",
    "            model = XLMRobertaForMaskedLM.from_pretrained(model_name)\n",
    "        elif model_name == 'distilbert-base-multilingual-cased':\n",
    "            tokenizer = DistilBertTokenizer.from_pretrained(model_name)\n",
    "            model = DistilBertForMaskedLM.from_pretrained(model_name)\n",
    "\n",
    "        mask_token = tokenizer.mask_token\n",
    "        log_softmax = torch.nn.LogSoftmax(dim=0)\n",
    "        vocab = tokenizer.get_vocab()\n",
    "        with open(\"bert\" + \".vocab\", \"w\") as f:\n",
    "            f.write(json.dumps(vocab))\n",
    "\n",
    "        lm = {\"model\": model,\n",
    "              \"tokenizer\": tokenizer,\n",
    "              \"mask_token\": mask_token,\n",
    "              \"log_softmax\": log_softmax,\n",
    "              \"uncased\": True\n",
    "        }\n",
    "\n",
    "        # score each sentence. \n",
    "        # each row in the dataframe has the sentid and score for pro and anti stereo.\n",
    "        df_score = pd.DataFrame(columns=['sent_more', 'sent_less', \n",
    "                                         'sent_more_score', 'sent_less_score',\n",
    "                                         'score', 'stereo_antistereo', 'bias_type'], dtype=object)\n",
    "\n",
    "        total_stereo, total_antistereo = 0, 0\n",
    "        stereo_score, antistereo_score = 0, 0\n",
    "\n",
    "        N = 0\n",
    "        neutral = 0\n",
    "        total = len(df_data.index)\n",
    "        with tqdm(total=total) as pbar:\n",
    "            for index, data in df_data.iterrows():\n",
    "                direction = data['direction']\n",
    "                bias = data['bias_type']\n",
    "                score = mask_unigram(data, lm)\n",
    "\n",
    "                for stype in score.keys():\n",
    "                    score[stype] = round(score[stype], 3)\n",
    "\n",
    "                N += 1\n",
    "                pair_score = 0\n",
    "                pbar.update(1)\n",
    "                if score['sent1_score'] == score['sent2_score']:\n",
    "                    neutral += 1\n",
    "                else:\n",
    "                    if direction == 'stereo':\n",
    "                        total_stereo += 1\n",
    "                        if score['sent1_score'] > score['sent2_score']:\n",
    "                            stereo_score += 1\n",
    "                            pair_score = 1\n",
    "                    elif direction == 'antistereo':\n",
    "                        total_antistereo += 1\n",
    "                        if score['sent2_score'] > score['sent1_score']:\n",
    "                            antistereo_score += 1\n",
    "                            pair_score = 1\n",
    "\n",
    "                sent_more, sent_less = '', ''\n",
    "                if direction == 'stereo':\n",
    "                    sent_more = data['sent1']\n",
    "                    sent_less = data['sent2']\n",
    "                    sent_more_score = score['sent1_score']\n",
    "                    sent_less_score = score['sent2_score']\n",
    "                else:\n",
    "                    sent_more = data['sent2']\n",
    "                    sent_less = data['sent1']\n",
    "                    sent_more_score = score['sent2_score']\n",
    "                    sent_less_score = score['sent1_score']\n",
    "\n",
    "                df_score = df_score.append({'sent_more': sent_more,\n",
    "                                            'sent_less': sent_less,\n",
    "                                            'sent_more_score': sent_more_score,\n",
    "                                            'sent_less_score': sent_less_score,\n",
    "                                            'score': pair_score,\n",
    "                                            'stereo_antistereo': direction,\n",
    "                                            'bias_type': bias\n",
    "                                          }, ignore_index=True)\n",
    "\n",
    "        if bias_type == 'race-color':\n",
    "            dataframe_dictionary_race['models'].append(model_name)\n",
    "            dataframe_dictionary_race['metric_scores'].append(round((stereo_score + antistereo_score) / N * 100, 2))\n",
    "            dataframe_dictionary_race['stereotype_scores'].append(round(stereo_score  / total_stereo * 100, 2))\n",
    "            dataframe_dictionary_race['antistereotype_scores'].append(round(antistereo_score  / total_antistereo * 100, 2))\n",
    "        \n",
    "        elif bias_type == 'gender':\n",
    "            dataframe_dictionary_gender['models'].append(model_name)\n",
    "            dataframe_dictionary_gender['metric_scores'].append(round((stereo_score + antistereo_score) / N * 100, 2))\n",
    "            dataframe_dictionary_gender['stereotype_scores'].append(round(stereo_score  / total_stereo * 100, 2))\n",
    "            dataframe_dictionary_gender['antistereotype_scores'].append(round(antistereo_score  / total_antistereo * 100, 2))\n",
    "        \n",
    "        elif bias_type == 'socioeconomic':\n",
    "            dataframe_dictionary_socioeconomic['models'].append(model_name)\n",
    "            dataframe_dictionary_socioeconomic['metric_scores'].append(round((stereo_score + antistereo_score) / N * 100, 2))\n",
    "            dataframe_dictionary_socioeconomic['stereotype_scores'].append(round(stereo_score  / total_stereo * 100, 2))\n",
    "            dataframe_dictionary_socioeconomic['antistereotype_scores'].append(round(antistereo_score  / total_antistereo * 100, 2))\n",
    "        \n",
    "        elif bias_type == 'nationality':\n",
    "            dataframe_dictionary_nationality['models'].append(model_name)\n",
    "            dataframe_dictionary_nationality['metric_scores'].append(round((stereo_score + antistereo_score) / N * 100, 2))\n",
    "            dataframe_dictionary_nationality['stereotype_scores'].append(round(stereo_score  / total_stereo * 100, 2))\n",
    "            dataframe_dictionary_nationality['antistereotype_scores'].append(round(antistereo_score  / total_antistereo * 100, 2))\n",
    "        \n",
    "        elif bias_type == 'religion':\n",
    "            dataframe_dictionary_religion['models'].append(model_name)\n",
    "            dataframe_dictionary_religion['metric_scores'].append(round((stereo_score + antistereo_score) / N * 100, 2))\n",
    "            dataframe_dictionary_religion['stereotype_scores'].append(round(stereo_score  / total_stereo * 100, 2))\n",
    "            dataframe_dictionary_religion['antistereotype_scores'].append(round(antistereo_score  / total_antistereo * 100, 2))\n",
    "        \n",
    "        elif bias_type == 'age':\n",
    "            dataframe_dictionary_age['models'].append(model_name)\n",
    "            dataframe_dictionary_age['metric_scores'].append(round((stereo_score + antistereo_score) / N * 100, 2))\n",
    "            dataframe_dictionary_age['stereotype_scores'].append(round(stereo_score  / total_stereo * 100, 2))\n",
    "            dataframe_dictionary_age['antistereotype_scores'].append(round(antistereo_score  / total_antistereo * 100, 2))\n",
    "        \n",
    "        elif bias_type == 'sexual-orientation':\n",
    "            dataframe_dictionary_sexualorientation['models'].append(model_name)\n",
    "            dataframe_dictionary_sexualorientation['metric_scores'].append(round((stereo_score + antistereo_score) / N * 100, 2))\n",
    "            dataframe_dictionary_sexualorientation['stereotype_scores'].append(round(stereo_score  / total_stereo * 100, 2))\n",
    "            dataframe_dictionary_sexualorientation['antistereotype_scores'].append(round(antistereo_score  / total_antistereo * 100, 2))\n",
    "        \n",
    "        elif bias_type == 'physical-appearance':\n",
    "            dataframe_dictionary_physicalappearance['models'].append(model_name)\n",
    "            dataframe_dictionary_physicalappearance['metric_scores'].append(round((stereo_score + antistereo_score) / N * 100, 2))\n",
    "            dataframe_dictionary_physicalappearance ['stereotype_scores'].append(round(stereo_score  / total_stereo * 100, 2))\n",
    "            dataframe_dictionary_physicalappearance  ['antistereotype_scores'].append(round(antistereo_score  / total_antistereo * 100, 2))          \n",
    "        \n",
    "        elif bias_type == 'disability':\n",
    "            dataframe_dictionary_disability['models'].append(model_name)\n",
    "            dataframe_dictionary_disability['metric_scores'].append(round((stereo_score + antistereo_score) / N * 100, 2))\n",
    "            dataframe_dictionary_disability['stereotype_scores'].append(round(stereo_score  / total_stereo * 100, 2))\n",
    "            dataframe_dictionary_disability['antistereotype_scores'].append(round(antistereo_score  / total_antistereo * 100, 2))"
   ]
  },
  {
   "cell_type": "code",
   "execution_count": 14,
   "id": "791278d1",
   "metadata": {},
   "outputs": [
    {
     "name": "stdout",
     "output_type": "stream",
     "text": [
      "                                               models  metric_scores  \\\n",
      "0                                     bert-base-cased          55.56   \n",
      "1                                   bert-base-uncased          55.56   \n",
      "2                                  bert-large-uncased          55.56   \n",
      "3                                    bert-large-cased          55.56   \n",
      "4                      bert-base-multilingual-uncased          44.44   \n",
      "5                        bert-base-multilingual-cased          77.78   \n",
      "6                    allenai/scibert_scivocab_uncased          33.33   \n",
      "7                     emilyalsentzer/Bio_ClinicalBERT          44.44   \n",
      "8   microsoft/BiomedNLP-PubMedBERT-base-uncased-ab...          55.56   \n",
      "9                                    ProsusAI/finbert          66.67   \n",
      "10                    nlpaueb/legal-bert-base-uncased          77.78   \n",
      "11                                    GroNLP/hateBERT          55.56   \n",
      "12                          anferico/bert-for-patents          55.56   \n",
      "13                                  jackaduma/SecBERT          66.67   \n",
      "\n",
      "    stereotype_scores  antistereotype_scores  \n",
      "0                50.0                  100.0  \n",
      "1                62.5                    0.0  \n",
      "2                50.0                  100.0  \n",
      "3                62.5                    0.0  \n",
      "4                50.0                    0.0  \n",
      "5                75.0                  100.0  \n",
      "6                37.5                    0.0  \n",
      "7                37.5                  100.0  \n",
      "8                62.5                    0.0  \n",
      "9                75.0                    0.0  \n",
      "10               75.0                  100.0  \n",
      "11               50.0                  100.0  \n",
      "12               50.0                  100.0  \n",
      "13               75.0                    0.0  \n",
      "                                               models  metric_scores  \\\n",
      "0                                     bert-base-cased          55.56   \n",
      "1                                   bert-base-uncased          55.56   \n",
      "2                                  bert-large-uncased          55.56   \n",
      "3                                    bert-large-cased          55.56   \n",
      "4                      bert-base-multilingual-uncased          44.44   \n",
      "5                        bert-base-multilingual-cased          77.78   \n",
      "6                    allenai/scibert_scivocab_uncased          33.33   \n",
      "7                     emilyalsentzer/Bio_ClinicalBERT          44.44   \n",
      "8   microsoft/BiomedNLP-PubMedBERT-base-uncased-ab...          55.56   \n",
      "9                                    ProsusAI/finbert          66.67   \n",
      "10                    nlpaueb/legal-bert-base-uncased          77.78   \n",
      "11                                    GroNLP/hateBERT          55.56   \n",
      "12                          anferico/bert-for-patents          55.56   \n",
      "13                                  jackaduma/SecBERT          66.67   \n",
      "\n",
      "    stereotype_scores  antistereotype_scores  \n",
      "0                50.0                  100.0  \n",
      "1                62.5                    0.0  \n",
      "2                50.0                  100.0  \n",
      "3                62.5                    0.0  \n",
      "4                50.0                    0.0  \n",
      "5                75.0                  100.0  \n",
      "6                37.5                    0.0  \n",
      "7                37.5                  100.0  \n",
      "8                62.5                    0.0  \n",
      "9                75.0                    0.0  \n",
      "10               75.0                  100.0  \n",
      "11               50.0                  100.0  \n",
      "12               50.0                  100.0  \n",
      "13               75.0                    0.0  \n",
      "                                               models  metric_scores  \\\n",
      "0                                     bert-base-cased          55.56   \n",
      "1                                   bert-base-uncased          55.56   \n",
      "2                                  bert-large-uncased          55.56   \n",
      "3                                    bert-large-cased          55.56   \n",
      "4                      bert-base-multilingual-uncased          44.44   \n",
      "5                        bert-base-multilingual-cased          77.78   \n",
      "6                    allenai/scibert_scivocab_uncased          33.33   \n",
      "7                     emilyalsentzer/Bio_ClinicalBERT          44.44   \n",
      "8   microsoft/BiomedNLP-PubMedBERT-base-uncased-ab...          55.56   \n",
      "9                                    ProsusAI/finbert          66.67   \n",
      "10                    nlpaueb/legal-bert-base-uncased          77.78   \n",
      "11                                    GroNLP/hateBERT          55.56   \n",
      "12                          anferico/bert-for-patents          55.56   \n",
      "13                                  jackaduma/SecBERT          66.67   \n",
      "\n",
      "    stereotype_scores  antistereotype_scores  \n",
      "0                50.0                  100.0  \n",
      "1                62.5                    0.0  \n",
      "2                50.0                  100.0  \n",
      "3                62.5                    0.0  \n",
      "4                50.0                    0.0  \n",
      "5                75.0                  100.0  \n",
      "6                37.5                    0.0  \n",
      "7                37.5                  100.0  \n",
      "8                62.5                    0.0  \n",
      "9                75.0                    0.0  \n",
      "10               75.0                  100.0  \n",
      "11               50.0                  100.0  \n",
      "12               50.0                  100.0  \n",
      "13               75.0                    0.0  \n",
      "                                               models  metric_scores  \\\n",
      "0                                     bert-base-cased          55.56   \n",
      "1                                   bert-base-uncased          55.56   \n",
      "2                                  bert-large-uncased          55.56   \n",
      "3                                    bert-large-cased          55.56   \n",
      "4                      bert-base-multilingual-uncased          44.44   \n",
      "5                        bert-base-multilingual-cased          77.78   \n",
      "6                    allenai/scibert_scivocab_uncased          33.33   \n",
      "7                     emilyalsentzer/Bio_ClinicalBERT          44.44   \n",
      "8   microsoft/BiomedNLP-PubMedBERT-base-uncased-ab...          55.56   \n",
      "9                                    ProsusAI/finbert          66.67   \n",
      "10                    nlpaueb/legal-bert-base-uncased          77.78   \n",
      "11                                    GroNLP/hateBERT          55.56   \n",
      "12                          anferico/bert-for-patents          55.56   \n",
      "13                                  jackaduma/SecBERT          66.67   \n",
      "\n",
      "    stereotype_scores  antistereotype_scores  \n",
      "0                50.0                  100.0  \n",
      "1                62.5                    0.0  \n",
      "2                50.0                  100.0  \n",
      "3                62.5                    0.0  \n",
      "4                50.0                    0.0  \n",
      "5                75.0                  100.0  \n",
      "6                37.5                    0.0  \n",
      "7                37.5                  100.0  \n",
      "8                62.5                    0.0  \n",
      "9                75.0                    0.0  \n",
      "10               75.0                  100.0  \n",
      "11               50.0                  100.0  \n",
      "12               50.0                  100.0  \n",
      "13               75.0                    0.0  \n",
      "                                               models  metric_scores  \\\n",
      "0                                     bert-base-cased          55.56   \n",
      "1                                   bert-base-uncased          55.56   \n",
      "2                                  bert-large-uncased          55.56   \n",
      "3                                    bert-large-cased          55.56   \n",
      "4                      bert-base-multilingual-uncased          44.44   \n",
      "5                        bert-base-multilingual-cased          77.78   \n",
      "6                    allenai/scibert_scivocab_uncased          33.33   \n",
      "7                     emilyalsentzer/Bio_ClinicalBERT          44.44   \n",
      "8   microsoft/BiomedNLP-PubMedBERT-base-uncased-ab...          55.56   \n",
      "9                                    ProsusAI/finbert          66.67   \n",
      "10                    nlpaueb/legal-bert-base-uncased          77.78   \n",
      "11                                    GroNLP/hateBERT          55.56   \n",
      "12                          anferico/bert-for-patents          55.56   \n",
      "13                                  jackaduma/SecBERT          66.67   \n",
      "\n",
      "    stereotype_scores  antistereotype_scores  \n",
      "0                50.0                  100.0  \n",
      "1                62.5                    0.0  \n",
      "2                50.0                  100.0  \n",
      "3                62.5                    0.0  \n",
      "4                50.0                    0.0  \n",
      "5                75.0                  100.0  \n",
      "6                37.5                    0.0  \n",
      "7                37.5                  100.0  \n",
      "8                62.5                    0.0  \n",
      "9                75.0                    0.0  \n",
      "10               75.0                  100.0  \n",
      "11               50.0                  100.0  \n",
      "12               50.0                  100.0  \n",
      "13               75.0                    0.0  \n",
      "                                               models  metric_scores  \\\n",
      "0                                     bert-base-cased          55.56   \n",
      "1                                   bert-base-uncased          55.56   \n",
      "2                                  bert-large-uncased          55.56   \n",
      "3                                    bert-large-cased          55.56   \n",
      "4                      bert-base-multilingual-uncased          44.44   \n",
      "5                        bert-base-multilingual-cased          77.78   \n",
      "6                    allenai/scibert_scivocab_uncased          33.33   \n",
      "7                     emilyalsentzer/Bio_ClinicalBERT          44.44   \n",
      "8   microsoft/BiomedNLP-PubMedBERT-base-uncased-ab...          55.56   \n",
      "9                                    ProsusAI/finbert          66.67   \n",
      "10                    nlpaueb/legal-bert-base-uncased          77.78   \n",
      "11                                    GroNLP/hateBERT          55.56   \n",
      "12                          anferico/bert-for-patents          55.56   \n",
      "13                                  jackaduma/SecBERT          66.67   \n",
      "\n",
      "    stereotype_scores  antistereotype_scores  \n",
      "0                50.0                  100.0  \n",
      "1                62.5                    0.0  \n",
      "2                50.0                  100.0  \n",
      "3                62.5                    0.0  \n",
      "4                50.0                    0.0  \n",
      "5                75.0                  100.0  \n",
      "6                37.5                    0.0  \n",
      "7                37.5                  100.0  \n",
      "8                62.5                    0.0  \n",
      "9                75.0                    0.0  \n",
      "10               75.0                  100.0  \n",
      "11               50.0                  100.0  \n",
      "12               50.0                  100.0  \n",
      "13               75.0                    0.0  \n",
      "                                               models  metric_scores  \\\n",
      "0                                     bert-base-cased          55.56   \n",
      "1                                   bert-base-uncased          55.56   \n",
      "2                                  bert-large-uncased          55.56   \n",
      "3                                    bert-large-cased          55.56   \n",
      "4                      bert-base-multilingual-uncased          44.44   \n",
      "5                        bert-base-multilingual-cased          77.78   \n",
      "6                    allenai/scibert_scivocab_uncased          33.33   \n",
      "7                     emilyalsentzer/Bio_ClinicalBERT          44.44   \n",
      "8   microsoft/BiomedNLP-PubMedBERT-base-uncased-ab...          55.56   \n",
      "9                                    ProsusAI/finbert          66.67   \n",
      "10                    nlpaueb/legal-bert-base-uncased          77.78   \n",
      "11                                    GroNLP/hateBERT          55.56   \n",
      "12                          anferico/bert-for-patents          55.56   \n",
      "13                                  jackaduma/SecBERT          66.67   \n",
      "\n",
      "    stereotype_scores  antistereotype_scores  \n",
      "0                50.0                  100.0  \n",
      "1                62.5                    0.0  \n",
      "2                50.0                  100.0  \n",
      "3                62.5                    0.0  \n",
      "4                50.0                    0.0  \n",
      "5                75.0                  100.0  \n",
      "6                37.5                    0.0  \n",
      "7                37.5                  100.0  \n",
      "8                62.5                    0.0  \n",
      "9                75.0                    0.0  \n",
      "10               75.0                  100.0  \n",
      "11               50.0                  100.0  \n",
      "12               50.0                  100.0  \n",
      "13               75.0                    0.0  \n",
      "                                               models  metric_scores  \\\n",
      "0                                     bert-base-cased          55.56   \n",
      "1                                   bert-base-uncased          55.56   \n",
      "2                                  bert-large-uncased          55.56   \n",
      "3                                    bert-large-cased          55.56   \n",
      "4                      bert-base-multilingual-uncased          44.44   \n",
      "5                        bert-base-multilingual-cased          77.78   \n",
      "6                    allenai/scibert_scivocab_uncased          33.33   \n",
      "7                     emilyalsentzer/Bio_ClinicalBERT          44.44   \n",
      "8   microsoft/BiomedNLP-PubMedBERT-base-uncased-ab...          55.56   \n",
      "9                                    ProsusAI/finbert          66.67   \n",
      "10                    nlpaueb/legal-bert-base-uncased          77.78   \n",
      "11                                    GroNLP/hateBERT          55.56   \n",
      "12                          anferico/bert-for-patents          55.56   \n",
      "13                                  jackaduma/SecBERT          66.67   \n",
      "\n",
      "    stereotype_scores  antistereotype_scores  \n",
      "0                50.0                  100.0  \n",
      "1                62.5                    0.0  \n",
      "2                50.0                  100.0  \n",
      "3                62.5                    0.0  \n",
      "4                50.0                    0.0  \n",
      "5                75.0                  100.0  \n",
      "6                37.5                    0.0  \n",
      "7                37.5                  100.0  \n",
      "8                62.5                    0.0  \n",
      "9                75.0                    0.0  \n",
      "10               75.0                  100.0  \n",
      "11               50.0                  100.0  \n",
      "12               50.0                  100.0  \n",
      "13               75.0                    0.0  \n",
      "                                               models  metric_scores  \\\n",
      "0                                     bert-base-cased          55.56   \n",
      "1                                   bert-base-uncased          55.56   \n",
      "2                                  bert-large-uncased          55.56   \n",
      "3                                    bert-large-cased          55.56   \n",
      "4                      bert-base-multilingual-uncased          44.44   \n",
      "5                        bert-base-multilingual-cased          77.78   \n",
      "6                    allenai/scibert_scivocab_uncased          33.33   \n",
      "7                     emilyalsentzer/Bio_ClinicalBERT          44.44   \n",
      "8   microsoft/BiomedNLP-PubMedBERT-base-uncased-ab...          55.56   \n",
      "9                                    ProsusAI/finbert          66.67   \n",
      "10                    nlpaueb/legal-bert-base-uncased          77.78   \n",
      "11                                    GroNLP/hateBERT          55.56   \n",
      "12                          anferico/bert-for-patents          55.56   \n",
      "13                                  jackaduma/SecBERT          66.67   \n",
      "\n",
      "    stereotype_scores  antistereotype_scores  \n",
      "0                50.0                  100.0  \n",
      "1                62.5                    0.0  \n",
      "2                50.0                  100.0  \n",
      "3                62.5                    0.0  \n",
      "4                50.0                    0.0  \n",
      "5                75.0                  100.0  \n",
      "6                37.5                    0.0  \n",
      "7                37.5                  100.0  \n",
      "8                62.5                    0.0  \n",
      "9                75.0                    0.0  \n",
      "10               75.0                  100.0  \n",
      "11               50.0                  100.0  \n",
      "12               50.0                  100.0  \n",
      "13               75.0                    0.0  \n"
     ]
    }
   ],
   "source": [
    "for dataframe_dict in [dataframe_dictionary_race,\n",
    "                       dataframe_dictionary_gender,\n",
    "                       dataframe_dictionary_socioeconomic,\n",
    "                       dataframe_dictionary_nationality,\n",
    "                       dataframe_dictionary_religion,\n",
    "                       dataframe_dictionary_age,\n",
    "                       dataframe_dictionary_sexualorientation,\n",
    "                       dataframe_dictionary_physicalappearance,\n",
    "                       dataframe_dictionary_disability]:\n",
    "    print(pd.DataFrame(dataframe_dict))"
   ]
  },
  {
   "cell_type": "code",
   "execution_count": 7,
   "id": "f03b5f58",
   "metadata": {},
   "outputs": [
    {
     "data": {
      "application/vnd.jupyter.widget-view+json": {
       "model_id": "ef5040ad00834e52bac3030c7e0abb21",
       "version_major": 2,
       "version_minor": 0
      },
      "text/plain": [
       "Downloading:   0%|          | 0.00/742k [00:00<?, ?B/s]"
      ]
     },
     "metadata": {},
     "output_type": "display_data"
    },
    {
     "data": {
      "application/vnd.jupyter.widget-view+json": {
       "model_id": "6fed332413cd4eb3bcbef27c76729131",
       "version_major": 2,
       "version_minor": 0
      },
      "text/plain": [
       "Downloading:   0%|          | 0.00/1.25M [00:00<?, ?B/s]"
      ]
     },
     "metadata": {},
     "output_type": "display_data"
    },
    {
     "data": {
      "application/vnd.jupyter.widget-view+json": {
       "model_id": "169522fd18e1418ab344384ddbf97273",
       "version_major": 2,
       "version_minor": 0
      },
      "text/plain": [
       "Downloading:   0%|          | 0.00/684 [00:00<?, ?B/s]"
      ]
     },
     "metadata": {},
     "output_type": "display_data"
    },
    {
     "data": {
      "application/vnd.jupyter.widget-view+json": {
       "model_id": "656c82941e544ae28d79df33da8463c6",
       "version_major": 2,
       "version_minor": 0
      },
      "text/plain": [
       "Downloading:   0%|          | 0.00/45.2M [00:00<?, ?B/s]"
      ]
     },
     "metadata": {},
     "output_type": "display_data"
    },
    {
     "name": "stderr",
     "output_type": "stream",
     "text": [
      "100%|████████████████████████████████████████████████████████████████████████████████████| 9/9 [00:22<00:00,  2.46s/it]\n"
     ]
    },
    {
     "data": {
      "application/vnd.jupyter.widget-view+json": {
       "model_id": "f414112034e54d7e887a26688056d245",
       "version_major": 2,
       "version_minor": 0
      },
      "text/plain": [
       "Downloading:   0%|          | 0.00/742k [00:00<?, ?B/s]"
      ]
     },
     "metadata": {},
     "output_type": "display_data"
    },
    {
     "data": {
      "application/vnd.jupyter.widget-view+json": {
       "model_id": "ad8c9d34e70845d19ac7ce94713362cb",
       "version_major": 2,
       "version_minor": 0
      },
      "text/plain": [
       "Downloading:   0%|          | 0.00/1.25M [00:00<?, ?B/s]"
      ]
     },
     "metadata": {},
     "output_type": "display_data"
    },
    {
     "data": {
      "application/vnd.jupyter.widget-view+json": {
       "model_id": "a654e827604d49ca942105802e211a07",
       "version_major": 2,
       "version_minor": 0
      },
      "text/plain": [
       "Downloading:   0%|          | 0.00/684 [00:00<?, ?B/s]"
      ]
     },
     "metadata": {},
     "output_type": "display_data"
    },
    {
     "data": {
      "application/vnd.jupyter.widget-view+json": {
       "model_id": "91eba8563a6e4d0ca0a3425685f07351",
       "version_major": 2,
       "version_minor": 0
      },
      "text/plain": [
       "Downloading:   0%|          | 0.00/45.2M [00:00<?, ?B/s]"
      ]
     },
     "metadata": {},
     "output_type": "display_data"
    },
    {
     "name": "stderr",
     "output_type": "stream",
     "text": [
      "100%|████████████████████████████████████████████████████████████████████████████████████| 9/9 [00:25<00:00,  2.81s/it]\n"
     ]
    },
    {
     "data": {
      "application/vnd.jupyter.widget-view+json": {
       "model_id": "f59c489c15a34d2cbaaa8d2d96cdfb88",
       "version_major": 2,
       "version_minor": 0
      },
      "text/plain": [
       "Downloading:   0%|          | 0.00/878k [00:00<?, ?B/s]"
      ]
     },
     "metadata": {},
     "output_type": "display_data"
    },
    {
     "data": {
      "application/vnd.jupyter.widget-view+json": {
       "model_id": "8256bd5097ef4c62866484097fd0512a",
       "version_major": 2,
       "version_minor": 0
      },
      "text/plain": [
       "Downloading:   0%|          | 0.00/446k [00:00<?, ?B/s]"
      ]
     },
     "metadata": {},
     "output_type": "display_data"
    },
    {
     "data": {
      "application/vnd.jupyter.widget-view+json": {
       "model_id": "6f04126d5c7f415abe71e5791919a1db",
       "version_major": 2,
       "version_minor": 0
      },
      "text/plain": [
       "Downloading:   0%|          | 0.00/1.29M [00:00<?, ?B/s]"
      ]
     },
     "metadata": {},
     "output_type": "display_data"
    },
    {
     "data": {
      "application/vnd.jupyter.widget-view+json": {
       "model_id": "a32fc1fdae2f46e59bffd8e640698969",
       "version_major": 2,
       "version_minor": 0
      },
      "text/plain": [
       "Downloading:   0%|          | 0.00/481 [00:00<?, ?B/s]"
      ]
     },
     "metadata": {},
     "output_type": "display_data"
    },
    {
     "data": {
      "application/vnd.jupyter.widget-view+json": {
       "model_id": "50bd8ec383ea43259f251c83fae9cf3d",
       "version_major": 2,
       "version_minor": 0
      },
      "text/plain": [
       "Downloading:   0%|          | 0.00/478M [00:00<?, ?B/s]"
      ]
     },
     "metadata": {},
     "output_type": "display_data"
    },
    {
     "name": "stderr",
     "output_type": "stream",
     "text": [
      "100%|████████████████████████████████████████████████████████████████████████████████████| 9/9 [00:25<00:00,  2.80s/it]\n"
     ]
    },
    {
     "data": {
      "application/vnd.jupyter.widget-view+json": {
       "model_id": "99ba306b2d7e4d96a61ecfed6a740d34",
       "version_major": 2,
       "version_minor": 0
      },
      "text/plain": [
       "Downloading:   0%|          | 0.00/878k [00:00<?, ?B/s]"
      ]
     },
     "metadata": {},
     "output_type": "display_data"
    },
    {
     "data": {
      "application/vnd.jupyter.widget-view+json": {
       "model_id": "1320ee00e1844a2bbda0b4b9acca1467",
       "version_major": 2,
       "version_minor": 0
      },
      "text/plain": [
       "Downloading:   0%|          | 0.00/446k [00:00<?, ?B/s]"
      ]
     },
     "metadata": {},
     "output_type": "display_data"
    },
    {
     "data": {
      "application/vnd.jupyter.widget-view+json": {
       "model_id": "8bfda3ceba6f4e4e8122dd9e8c1236f6",
       "version_major": 2,
       "version_minor": 0
      },
      "text/plain": [
       "Downloading:   0%|          | 0.00/1.29M [00:00<?, ?B/s]"
      ]
     },
     "metadata": {},
     "output_type": "display_data"
    },
    {
     "data": {
      "application/vnd.jupyter.widget-view+json": {
       "model_id": "b96c6ad1b0d2417596956694f313d541",
       "version_major": 2,
       "version_minor": 0
      },
      "text/plain": [
       "Downloading:   0%|          | 0.00/480 [00:00<?, ?B/s]"
      ]
     },
     "metadata": {},
     "output_type": "display_data"
    },
    {
     "data": {
      "application/vnd.jupyter.widget-view+json": {
       "model_id": "0b9a180c98fd4f1998ea1cbfaeaf9d55",
       "version_major": 2,
       "version_minor": 0
      },
      "text/plain": [
       "Downloading:   0%|          | 0.00/316M [00:00<?, ?B/s]"
      ]
     },
     "metadata": {},
     "output_type": "display_data"
    },
    {
     "name": "stderr",
     "output_type": "stream",
     "text": [
      "100%|████████████████████████████████████████████████████████████████████████████████████| 9/9 [00:16<00:00,  1.79s/it]\n"
     ]
    },
    {
     "data": {
      "application/vnd.jupyter.widget-view+json": {
       "model_id": "66063279762e4bbc81293c792991af09",
       "version_major": 2,
       "version_minor": 0
      },
      "text/plain": [
       "Downloading:   0%|          | 0.00/878k [00:00<?, ?B/s]"
      ]
     },
     "metadata": {},
     "output_type": "display_data"
    },
    {
     "data": {
      "application/vnd.jupyter.widget-view+json": {
       "model_id": "caac3a52a2644fe4a3e923c0ae59f538",
       "version_major": 2,
       "version_minor": 0
      },
      "text/plain": [
       "Downloading:   0%|          | 0.00/446k [00:00<?, ?B/s]"
      ]
     },
     "metadata": {},
     "output_type": "display_data"
    },
    {
     "data": {
      "application/vnd.jupyter.widget-view+json": {
       "model_id": "e74615a7f82d4fed89f65033d3981f2d",
       "version_major": 2,
       "version_minor": 0
      },
      "text/plain": [
       "Downloading:   0%|          | 0.00/1.29M [00:00<?, ?B/s]"
      ]
     },
     "metadata": {},
     "output_type": "display_data"
    },
    {
     "data": {
      "application/vnd.jupyter.widget-view+json": {
       "model_id": "bb70e3dda6e24127861fdfde94cebaa3",
       "version_major": 2,
       "version_minor": 0
      },
      "text/plain": [
       "Downloading:   0%|          | 0.00/482 [00:00<?, ?B/s]"
      ]
     },
     "metadata": {},
     "output_type": "display_data"
    },
    {
     "data": {
      "application/vnd.jupyter.widget-view+json": {
       "model_id": "a55cc2ef491c4cf8a7217058ea4c5d80",
       "version_major": 2,
       "version_minor": 0
      },
      "text/plain": [
       "Downloading:   0%|          | 0.00/1.33G [00:00<?, ?B/s]"
      ]
     },
     "metadata": {},
     "output_type": "display_data"
    },
    {
     "name": "stderr",
     "output_type": "stream",
     "text": [
      "100%|████████████████████████████████████████████████████████████████████████████████████| 9/9 [01:14<00:00,  8.26s/it]\n"
     ]
    },
    {
     "data": {
      "application/vnd.jupyter.widget-view+json": {
       "model_id": "18cb5e64fe33497f9f06cb452c2851ee",
       "version_major": 2,
       "version_minor": 0
      },
      "text/plain": [
       "Downloading:   0%|          | 0.00/19.0 [00:00<?, ?B/s]"
      ]
     },
     "metadata": {},
     "output_type": "display_data"
    },
    {
     "data": {
      "application/vnd.jupyter.widget-view+json": {
       "model_id": "56627b39f29c480abe6524ec3ea689da",
       "version_major": 2,
       "version_minor": 0
      },
      "text/plain": [
       "Downloading:   0%|          | 0.00/971k [00:00<?, ?B/s]"
      ]
     },
     "metadata": {},
     "output_type": "display_data"
    },
    {
     "data": {
      "application/vnd.jupyter.widget-view+json": {
       "model_id": "152ad2fab00442a4ac8147f3b5e09bfd",
       "version_major": 2,
       "version_minor": 0
      },
      "text/plain": [
       "Downloading:   0%|          | 0.00/471k [00:00<?, ?B/s]"
      ]
     },
     "metadata": {},
     "output_type": "display_data"
    },
    {
     "data": {
      "application/vnd.jupyter.widget-view+json": {
       "model_id": "d7b72ff6ce7f44b492fa7efe5293cb44",
       "version_major": 2,
       "version_minor": 0
      },
      "text/plain": [
       "Downloading:   0%|          | 0.00/480 [00:00<?, ?B/s]"
      ]
     },
     "metadata": {},
     "output_type": "display_data"
    },
    {
     "data": {
      "application/vnd.jupyter.widget-view+json": {
       "model_id": "9731769cde01452fac523d3ac9d8101f",
       "version_major": 2,
       "version_minor": 0
      },
      "text/plain": [
       "Downloading:   0%|          | 0.00/321M [00:00<?, ?B/s]"
      ]
     },
     "metadata": {},
     "output_type": "display_data"
    },
    {
     "name": "stderr",
     "output_type": "stream",
     "text": [
      "100%|████████████████████████████████████████████████████████████████████████████████████| 9/9 [00:20<00:00,  2.29s/it]\n"
     ]
    },
    {
     "data": {
      "application/vnd.jupyter.widget-view+json": {
       "model_id": "8f03422cde1440bbb4217f83b255665e",
       "version_major": 2,
       "version_minor": 0
      },
      "text/plain": [
       "Downloading:   0%|          | 0.00/1.20k [00:00<?, ?B/s]"
      ]
     },
     "metadata": {},
     "output_type": "display_data"
    },
    {
     "data": {
      "application/vnd.jupyter.widget-view+json": {
       "model_id": "d3ecf76f80fd4ba896a7992de06e5d98",
       "version_major": 2,
       "version_minor": 0
      },
      "text/plain": [
       "Downloading:   0%|          | 0.00/780k [00:00<?, ?B/s]"
      ]
     },
     "metadata": {},
     "output_type": "display_data"
    },
    {
     "data": {
      "application/vnd.jupyter.widget-view+json": {
       "model_id": "8ea43c5e51e547c48e5397d6908cc89b",
       "version_major": 2,
       "version_minor": 0
      },
      "text/plain": [
       "Downloading:   0%|          | 0.00/446k [00:00<?, ?B/s]"
      ]
     },
     "metadata": {},
     "output_type": "display_data"
    },
    {
     "data": {
      "application/vnd.jupyter.widget-view+json": {
       "model_id": "f687a2071e834bd1bd19a0b66191a92d",
       "version_major": 2,
       "version_minor": 0
      },
      "text/plain": [
       "Downloading:   0%|          | 0.00/4.37k [00:00<?, ?B/s]"
      ]
     },
     "metadata": {},
     "output_type": "display_data"
    },
    {
     "data": {
      "application/vnd.jupyter.widget-view+json": {
       "model_id": "dc30f40940a542c9b318444685a9ef0d",
       "version_major": 2,
       "version_minor": 0
      },
      "text/plain": [
       "Downloading:   0%|          | 0.00/239 [00:00<?, ?B/s]"
      ]
     },
     "metadata": {},
     "output_type": "display_data"
    },
    {
     "data": {
      "application/vnd.jupyter.widget-view+json": {
       "model_id": "1c2c556154234a7d89708023648d9131",
       "version_major": 2,
       "version_minor": 0
      },
      "text/plain": [
       "Downloading:   0%|          | 0.00/1.32M [00:00<?, ?B/s]"
      ]
     },
     "metadata": {},
     "output_type": "display_data"
    },
    {
     "data": {
      "application/vnd.jupyter.widget-view+json": {
       "model_id": "b8550a89120d457bbeb964192e95e3f1",
       "version_major": 2,
       "version_minor": 0
      },
      "text/plain": [
       "Downloading:   0%|          | 0.00/768 [00:00<?, ?B/s]"
      ]
     },
     "metadata": {},
     "output_type": "display_data"
    },
    {
     "data": {
      "application/vnd.jupyter.widget-view+json": {
       "model_id": "d1a8641b2ebd4c1fad6a99d564f1a348",
       "version_major": 2,
       "version_minor": 0
      },
      "text/plain": [
       "Downloading:   0%|          | 0.00/314M [00:00<?, ?B/s]"
      ]
     },
     "metadata": {},
     "output_type": "display_data"
    },
    {
     "name": "stderr",
     "output_type": "stream",
     "text": [
      "100%|████████████████████████████████████████████████████████████████████████████████████| 9/9 [00:15<00:00,  1.74s/it]\n",
      "100%|████████████████████████████████████████████████████████████████████████████████████| 9/9 [00:15<00:00,  1.71s/it]\n",
      "100%|████████████████████████████████████████████████████████████████████████████████████| 9/9 [00:18<00:00,  2.08s/it]\n",
      "100%|████████████████████████████████████████████████████████████████████████████████████| 9/9 [00:19<00:00,  2.13s/it]\n",
      "100%|████████████████████████████████████████████████████████████████████████████████████| 9/9 [00:12<00:00,  1.37s/it]\n",
      "100%|████████████████████████████████████████████████████████████████████████████████████| 9/9 [00:57<00:00,  6.41s/it]\n",
      "100%|████████████████████████████████████████████████████████████████████████████████████| 9/9 [00:15<00:00,  1.68s/it]\n",
      "100%|████████████████████████████████████████████████████████████████████████████████████| 9/9 [00:11<00:00,  1.31s/it]\n",
      "100%|████████████████████████████████████████████████████████████████████████████████████| 9/9 [00:14<00:00,  1.59s/it]\n"
     ]
    },
    {
     "ename": "ZeroDivisionError",
     "evalue": "division by zero",
     "output_type": "error",
     "traceback": [
      "\u001b[1;31m---------------------------------------------------------------------------\u001b[0m",
      "\u001b[1;31mZeroDivisionError\u001b[0m                         Traceback (most recent call last)",
      "\u001b[1;32m~\\AppData\\Local\\Temp/ipykernel_17756/3607508898.py\u001b[0m in \u001b[0;36m<module>\u001b[1;34m\u001b[0m\n\u001b[0;32m    122\u001b[0m             \u001b[0mdataframe_dictionary_socioeconomic\u001b[0m\u001b[1;33m[\u001b[0m\u001b[1;34m'metric_scores'\u001b[0m\u001b[1;33m]\u001b[0m\u001b[1;33m.\u001b[0m\u001b[0mappend\u001b[0m\u001b[1;33m(\u001b[0m\u001b[0mround\u001b[0m\u001b[1;33m(\u001b[0m\u001b[1;33m(\u001b[0m\u001b[0mstereo_score\u001b[0m \u001b[1;33m+\u001b[0m \u001b[0mantistereo_score\u001b[0m\u001b[1;33m)\u001b[0m \u001b[1;33m/\u001b[0m \u001b[0mN\u001b[0m \u001b[1;33m*\u001b[0m \u001b[1;36m100\u001b[0m\u001b[1;33m,\u001b[0m \u001b[1;36m2\u001b[0m\u001b[1;33m)\u001b[0m\u001b[1;33m)\u001b[0m\u001b[1;33m\u001b[0m\u001b[1;33m\u001b[0m\u001b[0m\n\u001b[0;32m    123\u001b[0m             \u001b[0mdataframe_dictionary_socioeconomic\u001b[0m\u001b[1;33m[\u001b[0m\u001b[1;34m'stereotype_scores'\u001b[0m\u001b[1;33m]\u001b[0m\u001b[1;33m.\u001b[0m\u001b[0mappend\u001b[0m\u001b[1;33m(\u001b[0m\u001b[0mround\u001b[0m\u001b[1;33m(\u001b[0m\u001b[0mstereo_score\u001b[0m  \u001b[1;33m/\u001b[0m \u001b[0mtotal_stereo\u001b[0m \u001b[1;33m*\u001b[0m \u001b[1;36m100\u001b[0m\u001b[1;33m,\u001b[0m \u001b[1;36m2\u001b[0m\u001b[1;33m)\u001b[0m\u001b[1;33m)\u001b[0m\u001b[1;33m\u001b[0m\u001b[1;33m\u001b[0m\u001b[0m\n\u001b[1;32m--> 124\u001b[1;33m             \u001b[0mdataframe_dictionary_socioeconomic\u001b[0m\u001b[1;33m[\u001b[0m\u001b[1;34m'antistereotype_scores'\u001b[0m\u001b[1;33m]\u001b[0m\u001b[1;33m.\u001b[0m\u001b[0mappend\u001b[0m\u001b[1;33m(\u001b[0m\u001b[0mround\u001b[0m\u001b[1;33m(\u001b[0m\u001b[0mantistereo_score\u001b[0m  \u001b[1;33m/\u001b[0m \u001b[0mtotal_antistereo\u001b[0m \u001b[1;33m*\u001b[0m \u001b[1;36m100\u001b[0m\u001b[1;33m,\u001b[0m \u001b[1;36m2\u001b[0m\u001b[1;33m)\u001b[0m\u001b[1;33m)\u001b[0m\u001b[1;33m\u001b[0m\u001b[1;33m\u001b[0m\u001b[0m\n\u001b[0m\u001b[0;32m    125\u001b[0m \u001b[1;33m\u001b[0m\u001b[0m\n\u001b[0;32m    126\u001b[0m         \u001b[1;32melif\u001b[0m \u001b[0mbias_type\u001b[0m \u001b[1;33m==\u001b[0m \u001b[1;34m'nationality'\u001b[0m\u001b[1;33m:\u001b[0m\u001b[1;33m\u001b[0m\u001b[1;33m\u001b[0m\u001b[0m\n",
      "\u001b[1;31mZeroDivisionError\u001b[0m: division by zero"
     ]
    }
   ],
   "source": [
    "logging.basicConfig(level=logging.INFO)\n",
    "\n",
    "for bias_type in bias_types:\n",
    "    \n",
    "    # load data into panda DataFrame\n",
    "    df_data = read_data(\"fixed_data.csv\")\n",
    "\n",
    "    # Filtering to Disability Data\n",
    "    df_data = df_data[df_data['bias_type']==bias_type][:9]\n",
    "\n",
    "    for model_name in ['albert-base-v1',\n",
    "                       'albert-base-v2',\n",
    "                       'roberta-base',\n",
    "                       'distilroberta-base',\n",
    "                       'roberta-large',\n",
    "                       'huggingface/CodeBERTa-small-v1',\n",
    "                       'climatebert/distilroberta-base-climate-f']:\n",
    "\n",
    "        # supported masked language models (using bert)\n",
    "        if model_name in BERT_models:\n",
    "            tokenizer = BertTokenizer.from_pretrained(model_name)\n",
    "            model = BertForMaskedLM.from_pretrained(model_name)\n",
    "        elif model_name in ALBERT_models:\n",
    "            tokenizer = AlbertTokenizer.from_pretrained(model_name)\n",
    "            model = AlbertForMaskedLM.from_pretrained(model_name)\n",
    "        elif model_name in ROBERTA_models:\n",
    "            tokenizer = RobertaTokenizer.from_pretrained(model_name)\n",
    "            model = RobertaForMaskedLM.from_pretrained(model_name)\n",
    "        elif model_name == 'xlm-roberta-base':\n",
    "            tokenizer = XLMRobertaTokenizer.from_pretrained(model_name)\n",
    "            model = XLMRobertaForMaskedLM.from_pretrained(model_name)\n",
    "        elif model_name == 'distilbert-base-multilingual-cased':\n",
    "            tokenizer = DistilBertTokenizer.from_pretrained(model_name)\n",
    "            model = DistilBertForMaskedLM.from_pretrained(model_name)\n",
    "\n",
    "        mask_token = tokenizer.mask_token\n",
    "        log_softmax = torch.nn.LogSoftmax(dim=0)\n",
    "        vocab = tokenizer.get_vocab()\n",
    "        with open(\"bert\" + \".vocab\", \"w\") as f:\n",
    "            f.write(json.dumps(vocab))\n",
    "\n",
    "        lm = {\"model\": model,\n",
    "              \"tokenizer\": tokenizer,\n",
    "              \"mask_token\": mask_token,\n",
    "              \"log_softmax\": log_softmax,\n",
    "              \"uncased\": True\n",
    "        }\n",
    "\n",
    "        # score each sentence. \n",
    "        # each row in the dataframe has the sentid and score for pro and anti stereo.\n",
    "        df_score = pd.DataFrame(columns=['sent_more', 'sent_less', \n",
    "                                         'sent_more_score', 'sent_less_score',\n",
    "                                         'score', 'stereo_antistereo', 'bias_type'], dtype=object)\n",
    "\n",
    "        total_stereo, total_antistereo = 0, 0\n",
    "        stereo_score, antistereo_score = 0, 0\n",
    "\n",
    "        N = 0\n",
    "        neutral = 0\n",
    "        total = len(df_data.index)\n",
    "        with tqdm(total=total) as pbar:\n",
    "            for index, data in df_data.iterrows():\n",
    "                direction = data['direction']\n",
    "                bias = data['bias_type']\n",
    "                score = mask_unigram(data, lm)\n",
    "\n",
    "                for stype in score.keys():\n",
    "                    score[stype] = round(score[stype], 3)\n",
    "\n",
    "                N += 1\n",
    "                pair_score = 0\n",
    "                pbar.update(1)\n",
    "                if score['sent1_score'] == score['sent2_score']:\n",
    "                    neutral += 1\n",
    "                else:\n",
    "                    if direction == 'stereo':\n",
    "                        total_stereo += 1\n",
    "                        if score['sent1_score'] > score['sent2_score']:\n",
    "                            stereo_score += 1\n",
    "                            pair_score = 1\n",
    "                    elif direction == 'antistereo':\n",
    "                        total_antistereo += 1\n",
    "                        if score['sent2_score'] > score['sent1_score']:\n",
    "                            antistereo_score += 1\n",
    "                            pair_score = 1\n",
    "\n",
    "                sent_more, sent_less = '', ''\n",
    "                if direction == 'stereo':\n",
    "                    sent_more = data['sent1']\n",
    "                    sent_less = data['sent2']\n",
    "                    sent_more_score = score['sent1_score']\n",
    "                    sent_less_score = score['sent2_score']\n",
    "                else:\n",
    "                    sent_more = data['sent2']\n",
    "                    sent_less = data['sent1']\n",
    "                    sent_more_score = score['sent2_score']\n",
    "                    sent_less_score = score['sent1_score']\n",
    "\n",
    "                df_score = df_score.append({'sent_more': sent_more,\n",
    "                                            'sent_less': sent_less,\n",
    "                                            'sent_more_score': sent_more_score,\n",
    "                                            'sent_less_score': sent_less_score,\n",
    "                                            'score': pair_score,\n",
    "                                            'stereo_antistereo': direction,\n",
    "                                            'bias_type': bias\n",
    "                                          }, ignore_index=True)\n",
    "\n",
    "        if bias_type == 'race-color':\n",
    "            dataframe_dictionary_race['models'].append(model_name)\n",
    "            dataframe_dictionary_race['metric_scores'].append(round((stereo_score + antistereo_score) / N * 100, 2))\n",
    "            dataframe_dictionary_race['stereotype_scores'].append(round(stereo_score  / total_stereo * 100, 2))\n",
    "            dataframe_dictionary_race['antistereotype_scores'].append(round(antistereo_score  / total_antistereo * 100, 2))\n",
    "        \n",
    "        elif bias_type == 'gender':\n",
    "            dataframe_dictionary_gender['models'].append(model_name)\n",
    "            dataframe_dictionary_gender['metric_scores'].append(round((stereo_score + antistereo_score) / N * 100, 2))\n",
    "            dataframe_dictionary_gender['stereotype_scores'].append(round(stereo_score  / total_stereo * 100, 2))\n",
    "            dataframe_dictionary_gender['antistereotype_scores'].append(round(antistereo_score  / total_antistereo * 100, 2))\n",
    "        \n",
    "        elif bias_type == 'socioeconomic':\n",
    "            dataframe_dictionary_socioeconomic['models'].append(model_name)\n",
    "            dataframe_dictionary_socioeconomic['metric_scores'].append(round((stereo_score + antistereo_score) / N * 100, 2))\n",
    "            dataframe_dictionary_socioeconomic['stereotype_scores'].append(round(stereo_score  / total_stereo * 100, 2))\n",
    "            dataframe_dictionary_socioeconomic['antistereotype_scores'].append(round(antistereo_score  / total_antistereo * 100, 2))\n",
    "        \n",
    "        elif bias_type == 'nationality':\n",
    "            dataframe_dictionary_nationality['models'].append(model_name)\n",
    "            dataframe_dictionary_nationality['metric_scores'].append(round((stereo_score + antistereo_score) / N * 100, 2))\n",
    "            dataframe_dictionary_nationality['stereotype_scores'].append(round(stereo_score  / total_stereo * 100, 2))\n",
    "            dataframe_dictionary_nationality['antistereotype_scores'].append(round(antistereo_score  / total_antistereo * 100, 2))\n",
    "        \n",
    "        elif bias_type == 'religion':\n",
    "            dataframe_dictionary_religion['models'].append(model_name)\n",
    "            dataframe_dictionary_religion['metric_scores'].append(round((stereo_score + antistereo_score) / N * 100, 2))\n",
    "            dataframe_dictionary_religion['stereotype_scores'].append(round(stereo_score  / total_stereo * 100, 2))\n",
    "            dataframe_dictionary_religion['antistereotype_scores'].append(round(antistereo_score  / total_antistereo * 100, 2))\n",
    "        \n",
    "        elif bias_type == 'age':\n",
    "            dataframe_dictionary_age['models'].append(model_name)\n",
    "            dataframe_dictionary_age['metric_scores'].append(round((stereo_score + antistereo_score) / N * 100, 2))\n",
    "            dataframe_dictionary_age['stereotype_scores'].append(round(stereo_score  / total_stereo * 100, 2))\n",
    "            dataframe_dictionary_age['antistereotype_scores'].append(round(antistereo_score  / total_antistereo * 100, 2))\n",
    "        \n",
    "        elif bias_type == 'sexual-orientation':\n",
    "            dataframe_dictionary_sexualorientation['models'].append(model_name)\n",
    "            dataframe_dictionary_sexualorientation['metric_scores'].append(round((stereo_score + antistereo_score) / N * 100, 2))\n",
    "            dataframe_dictionary_sexualorientation['stereotype_scores'].append(round(stereo_score  / total_stereo * 100, 2))\n",
    "            dataframe_dictionary_sexualorientation['antistereotype_scores'].append(round(antistereo_score  / total_antistereo * 100, 2))\n",
    "        \n",
    "        elif bias_type == 'physical-appearance':\n",
    "            dataframe_dictionary_physicalappearance['models'].append(model_name)\n",
    "            dataframe_dictionary_physicalappearance['metric_scores'].append(round((stereo_score + antistereo_score) / N * 100, 2))\n",
    "            dataframe_dictionary_physicalappearance ['stereotype_scores'].append(round(stereo_score  / total_stereo * 100, 2))\n",
    "            dataframe_dictionary_physicalappearance  ['antistereotype_scores'].append(round(antistereo_score  / total_antistereo * 100, 2))          \n",
    "        \n",
    "        elif bias_type == 'disability':\n",
    "            dataframe_dictionary_disability['models'].append(model_name)\n",
    "            dataframe_dictionary_disability['metric_scores'].append(round((stereo_score + antistereo_score) / N * 100, 2))\n",
    "            dataframe_dictionary_disability['stereotype_scores'].append(round(stereo_score  / total_stereo * 100, 2))\n",
    "            dataframe_dictionary_disability['antistereotype_scores'].append(round(antistereo_score  / total_antistereo * 100, 2))"
   ]
  },
  {
   "cell_type": "code",
   "execution_count": 8,
   "id": "05042aa5",
   "metadata": {},
   "outputs": [
    {
     "ename": "ValueError",
     "evalue": "All arrays must be of the same length",
     "output_type": "error",
     "traceback": [
      "\u001b[1;31m---------------------------------------------------------------------------\u001b[0m",
      "\u001b[1;31mValueError\u001b[0m                                Traceback (most recent call last)",
      "\u001b[1;32m~\\AppData\\Local\\Temp/ipykernel_17756/187239475.py\u001b[0m in \u001b[0;36m<module>\u001b[1;34m\u001b[0m\n\u001b[0;32m      1\u001b[0m for dataframe_dict in [dataframe_dictionary_race,\n\u001b[0;32m      2\u001b[0m                        dataframe_dictionary_gender]:\n\u001b[1;32m----> 3\u001b[1;33m     \u001b[0mprint\u001b[0m\u001b[1;33m(\u001b[0m\u001b[0mpd\u001b[0m\u001b[1;33m.\u001b[0m\u001b[0mDataFrame\u001b[0m\u001b[1;33m(\u001b[0m\u001b[0mdataframe_dict\u001b[0m\u001b[1;33m)\u001b[0m\u001b[1;33m)\u001b[0m\u001b[1;33m\u001b[0m\u001b[1;33m\u001b[0m\u001b[0m\n\u001b[0m",
      "\u001b[1;32m~\\AppData\\Local\\Packages\\PythonSoftwareFoundation.Python.3.9_qbz5n2kfra8p0\\LocalCache\\local-packages\\Python39\\site-packages\\pandas\\core\\frame.py\u001b[0m in \u001b[0;36m__init__\u001b[1;34m(self, data, index, columns, dtype, copy)\u001b[0m\n\u001b[0;32m    612\u001b[0m         \u001b[1;32melif\u001b[0m \u001b[0misinstance\u001b[0m\u001b[1;33m(\u001b[0m\u001b[0mdata\u001b[0m\u001b[1;33m,\u001b[0m \u001b[0mdict\u001b[0m\u001b[1;33m)\u001b[0m\u001b[1;33m:\u001b[0m\u001b[1;33m\u001b[0m\u001b[1;33m\u001b[0m\u001b[0m\n\u001b[0;32m    613\u001b[0m             \u001b[1;31m# GH#38939 de facto copy defaults to False only in non-dict cases\u001b[0m\u001b[1;33m\u001b[0m\u001b[1;33m\u001b[0m\u001b[0m\n\u001b[1;32m--> 614\u001b[1;33m             \u001b[0mmgr\u001b[0m \u001b[1;33m=\u001b[0m \u001b[0mdict_to_mgr\u001b[0m\u001b[1;33m(\u001b[0m\u001b[0mdata\u001b[0m\u001b[1;33m,\u001b[0m \u001b[0mindex\u001b[0m\u001b[1;33m,\u001b[0m \u001b[0mcolumns\u001b[0m\u001b[1;33m,\u001b[0m \u001b[0mdtype\u001b[0m\u001b[1;33m=\u001b[0m\u001b[0mdtype\u001b[0m\u001b[1;33m,\u001b[0m \u001b[0mcopy\u001b[0m\u001b[1;33m=\u001b[0m\u001b[0mcopy\u001b[0m\u001b[1;33m,\u001b[0m \u001b[0mtyp\u001b[0m\u001b[1;33m=\u001b[0m\u001b[0mmanager\u001b[0m\u001b[1;33m)\u001b[0m\u001b[1;33m\u001b[0m\u001b[1;33m\u001b[0m\u001b[0m\n\u001b[0m\u001b[0;32m    615\u001b[0m         \u001b[1;32melif\u001b[0m \u001b[0misinstance\u001b[0m\u001b[1;33m(\u001b[0m\u001b[0mdata\u001b[0m\u001b[1;33m,\u001b[0m \u001b[0mma\u001b[0m\u001b[1;33m.\u001b[0m\u001b[0mMaskedArray\u001b[0m\u001b[1;33m)\u001b[0m\u001b[1;33m:\u001b[0m\u001b[1;33m\u001b[0m\u001b[1;33m\u001b[0m\u001b[0m\n\u001b[0;32m    616\u001b[0m             \u001b[1;32mimport\u001b[0m \u001b[0mnumpy\u001b[0m\u001b[1;33m.\u001b[0m\u001b[0mma\u001b[0m\u001b[1;33m.\u001b[0m\u001b[0mmrecords\u001b[0m \u001b[1;32mas\u001b[0m \u001b[0mmrecords\u001b[0m\u001b[1;33m\u001b[0m\u001b[1;33m\u001b[0m\u001b[0m\n",
      "\u001b[1;32m~\\AppData\\Local\\Packages\\PythonSoftwareFoundation.Python.3.9_qbz5n2kfra8p0\\LocalCache\\local-packages\\Python39\\site-packages\\pandas\\core\\internals\\construction.py\u001b[0m in \u001b[0;36mdict_to_mgr\u001b[1;34m(data, index, columns, dtype, typ, copy)\u001b[0m\n\u001b[0;32m    462\u001b[0m         \u001b[1;31m# TODO: can we get rid of the dt64tz special case above?\u001b[0m\u001b[1;33m\u001b[0m\u001b[1;33m\u001b[0m\u001b[0m\n\u001b[0;32m    463\u001b[0m \u001b[1;33m\u001b[0m\u001b[0m\n\u001b[1;32m--> 464\u001b[1;33m     return arrays_to_mgr(\n\u001b[0m\u001b[0;32m    465\u001b[0m         \u001b[0marrays\u001b[0m\u001b[1;33m,\u001b[0m \u001b[0mdata_names\u001b[0m\u001b[1;33m,\u001b[0m \u001b[0mindex\u001b[0m\u001b[1;33m,\u001b[0m \u001b[0mcolumns\u001b[0m\u001b[1;33m,\u001b[0m \u001b[0mdtype\u001b[0m\u001b[1;33m=\u001b[0m\u001b[0mdtype\u001b[0m\u001b[1;33m,\u001b[0m \u001b[0mtyp\u001b[0m\u001b[1;33m=\u001b[0m\u001b[0mtyp\u001b[0m\u001b[1;33m,\u001b[0m \u001b[0mconsolidate\u001b[0m\u001b[1;33m=\u001b[0m\u001b[0mcopy\u001b[0m\u001b[1;33m\u001b[0m\u001b[1;33m\u001b[0m\u001b[0m\n\u001b[0;32m    466\u001b[0m     )\n",
      "\u001b[1;32m~\\AppData\\Local\\Packages\\PythonSoftwareFoundation.Python.3.9_qbz5n2kfra8p0\\LocalCache\\local-packages\\Python39\\site-packages\\pandas\\core\\internals\\construction.py\u001b[0m in \u001b[0;36marrays_to_mgr\u001b[1;34m(arrays, arr_names, index, columns, dtype, verify_integrity, typ, consolidate)\u001b[0m\n\u001b[0;32m    117\u001b[0m         \u001b[1;31m# figure out the index, if necessary\u001b[0m\u001b[1;33m\u001b[0m\u001b[1;33m\u001b[0m\u001b[0m\n\u001b[0;32m    118\u001b[0m         \u001b[1;32mif\u001b[0m \u001b[0mindex\u001b[0m \u001b[1;32mis\u001b[0m \u001b[1;32mNone\u001b[0m\u001b[1;33m:\u001b[0m\u001b[1;33m\u001b[0m\u001b[1;33m\u001b[0m\u001b[0m\n\u001b[1;32m--> 119\u001b[1;33m             \u001b[0mindex\u001b[0m \u001b[1;33m=\u001b[0m \u001b[0m_extract_index\u001b[0m\u001b[1;33m(\u001b[0m\u001b[0marrays\u001b[0m\u001b[1;33m)\u001b[0m\u001b[1;33m\u001b[0m\u001b[1;33m\u001b[0m\u001b[0m\n\u001b[0m\u001b[0;32m    120\u001b[0m         \u001b[1;32melse\u001b[0m\u001b[1;33m:\u001b[0m\u001b[1;33m\u001b[0m\u001b[1;33m\u001b[0m\u001b[0m\n\u001b[0;32m    121\u001b[0m             \u001b[0mindex\u001b[0m \u001b[1;33m=\u001b[0m \u001b[0mensure_index\u001b[0m\u001b[1;33m(\u001b[0m\u001b[0mindex\u001b[0m\u001b[1;33m)\u001b[0m\u001b[1;33m\u001b[0m\u001b[1;33m\u001b[0m\u001b[0m\n",
      "\u001b[1;32m~\\AppData\\Local\\Packages\\PythonSoftwareFoundation.Python.3.9_qbz5n2kfra8p0\\LocalCache\\local-packages\\Python39\\site-packages\\pandas\\core\\internals\\construction.py\u001b[0m in \u001b[0;36m_extract_index\u001b[1;34m(data)\u001b[0m\n\u001b[0;32m    633\u001b[0m             \u001b[0mlengths\u001b[0m \u001b[1;33m=\u001b[0m \u001b[0mlist\u001b[0m\u001b[1;33m(\u001b[0m\u001b[0mset\u001b[0m\u001b[1;33m(\u001b[0m\u001b[0mraw_lengths\u001b[0m\u001b[1;33m)\u001b[0m\u001b[1;33m)\u001b[0m\u001b[1;33m\u001b[0m\u001b[1;33m\u001b[0m\u001b[0m\n\u001b[0;32m    634\u001b[0m             \u001b[1;32mif\u001b[0m \u001b[0mlen\u001b[0m\u001b[1;33m(\u001b[0m\u001b[0mlengths\u001b[0m\u001b[1;33m)\u001b[0m \u001b[1;33m>\u001b[0m \u001b[1;36m1\u001b[0m\u001b[1;33m:\u001b[0m\u001b[1;33m\u001b[0m\u001b[1;33m\u001b[0m\u001b[0m\n\u001b[1;32m--> 635\u001b[1;33m                 \u001b[1;32mraise\u001b[0m \u001b[0mValueError\u001b[0m\u001b[1;33m(\u001b[0m\u001b[1;34m\"All arrays must be of the same length\"\u001b[0m\u001b[1;33m)\u001b[0m\u001b[1;33m\u001b[0m\u001b[1;33m\u001b[0m\u001b[0m\n\u001b[0m\u001b[0;32m    636\u001b[0m \u001b[1;33m\u001b[0m\u001b[0m\n\u001b[0;32m    637\u001b[0m             \u001b[1;32mif\u001b[0m \u001b[0mhave_dicts\u001b[0m\u001b[1;33m:\u001b[0m\u001b[1;33m\u001b[0m\u001b[1;33m\u001b[0m\u001b[0m\n",
      "\u001b[1;31mValueError\u001b[0m: All arrays must be of the same length"
     ]
    }
   ],
   "source": [
    "for dataframe_dict in [dataframe_dictionary_race,\n",
    "                       dataframe_dictionary_gender]:\n",
    "    print(pd.DataFrame(dataframe_dict))"
   ]
  },
  {
   "cell_type": "code",
   "execution_count": 11,
   "id": "a342ce75",
   "metadata": {
    "scrolled": true
   },
   "outputs": [
    {
     "data": {
      "text/plain": [
       "{'models': ['albert-base-v1',\n",
       "  'albert-base-v2',\n",
       "  'roberta-base',\n",
       "  'distilroberta-base',\n",
       "  'roberta-large',\n",
       "  'huggingface/CodeBERTa-small-v1',\n",
       "  'climatebert/distilroberta-base-climate-f',\n",
       "  'albert-base-v1',\n",
       "  'albert-base-v2',\n",
       "  'roberta-base',\n",
       "  'distilroberta-base',\n",
       "  'roberta-large',\n",
       "  'huggingface/CodeBERTa-small-v1',\n",
       "  'climatebert/distilroberta-base-climate-f',\n",
       "  'albert-base-v1'],\n",
       " 'metric_scores': [77.78,\n",
       "  44.44,\n",
       "  44.44,\n",
       "  33.33,\n",
       "  55.56,\n",
       "  11.11,\n",
       "  44.44,\n",
       "  33.33,\n",
       "  55.56,\n",
       "  44.44,\n",
       "  44.44,\n",
       "  55.56,\n",
       "  77.78,\n",
       "  44.44,\n",
       "  66.67],\n",
       " 'stereotype_scores': [87.5,\n",
       "  50.0,\n",
       "  37.5,\n",
       "  25.0,\n",
       "  62.5,\n",
       "  12.5,\n",
       "  50.0,\n",
       "  20.0,\n",
       "  40.0,\n",
       "  60.0,\n",
       "  60.0,\n",
       "  80.0,\n",
       "  60.0,\n",
       "  40.0,\n",
       "  66.67],\n",
       " 'antistereotype_scores': [0.0,\n",
       "  0.0,\n",
       "  100.0,\n",
       "  100.0,\n",
       "  0.0,\n",
       "  0.0,\n",
       "  0.0,\n",
       "  50.0,\n",
       "  75.0,\n",
       "  25.0,\n",
       "  25.0,\n",
       "  25.0,\n",
       "  100.0,\n",
       "  50.0]}"
      ]
     },
     "execution_count": 11,
     "metadata": {},
     "output_type": "execute_result"
    }
   ],
   "source": [
    "dataframe_dictionary_race"
   ]
  },
  {
   "cell_type": "code",
   "execution_count": 15,
   "id": "3a9f2377",
   "metadata": {},
   "outputs": [],
   "source": [
    "dic = {'models': ['albert-base-v1',\n",
    "  'albert-base-v2',\n",
    "  'roberta-base',\n",
    "  'distilroberta-base',\n",
    "  'roberta-large',\n",
    "  'huggingface/CodeBERTa-small-v1',\n",
    "  'climatebert/distilroberta-base-climate-f',\n",
    "  'albert-base-v1',\n",
    "  'albert-base-v2',\n",
    "  'roberta-base',\n",
    "  'distilroberta-base',\n",
    "  'roberta-large',\n",
    "  'huggingface/CodeBERTa-small-v1',\n",
    "  'climatebert/distilroberta-base-climate-f',\n",
    "  'albert-base-v1'],\n",
    " 'metric_scores': [77.78,\n",
    "  44.44,\n",
    "  44.44,\n",
    "  33.33,\n",
    "  55.56,\n",
    "  11.11,\n",
    "  44.44,\n",
    "  33.33,\n",
    "  55.56,\n",
    "  44.44,\n",
    "  44.44,\n",
    "  55.56,\n",
    "  77.78,\n",
    "  44.44,\n",
    "  66.67],\n",
    " 'stereotype_scores': [87.5,\n",
    "  50.0,\n",
    "  37.5,\n",
    "  25.0,\n",
    "  62.5,\n",
    "  12.5,\n",
    "  50.0,\n",
    "  20.0,\n",
    "  40.0,\n",
    "  60.0,\n",
    "  60.0,\n",
    "  80.0,\n",
    "  60.0,\n",
    "  40.0,\n",
    "  66.67],\n",
    " 'antistereotype_scores': [0.0,\n",
    "  0.0,\n",
    "  100.0,\n",
    "  100.0,\n",
    "  0.0,\n",
    "  0.0,\n",
    "  0.0,\n",
    "  50.0,\n",
    "  75.0,\n",
    "  25.0,\n",
    "  25.0,\n",
    "  25.0,\n",
    "  100.0,\n",
    "  50.0,0]}"
   ]
  },
  {
   "cell_type": "code",
   "execution_count": 16,
   "id": "221d2c35",
   "metadata": {},
   "outputs": [
    {
     "data": {
      "text/html": [
       "<div>\n",
       "<style scoped>\n",
       "    .dataframe tbody tr th:only-of-type {\n",
       "        vertical-align: middle;\n",
       "    }\n",
       "\n",
       "    .dataframe tbody tr th {\n",
       "        vertical-align: top;\n",
       "    }\n",
       "\n",
       "    .dataframe thead th {\n",
       "        text-align: right;\n",
       "    }\n",
       "</style>\n",
       "<table border=\"1\" class=\"dataframe\">\n",
       "  <thead>\n",
       "    <tr style=\"text-align: right;\">\n",
       "      <th></th>\n",
       "      <th>models</th>\n",
       "      <th>metric_scores</th>\n",
       "      <th>stereotype_scores</th>\n",
       "      <th>antistereotype_scores</th>\n",
       "    </tr>\n",
       "  </thead>\n",
       "  <tbody>\n",
       "    <tr>\n",
       "      <th>0</th>\n",
       "      <td>albert-base-v1</td>\n",
       "      <td>77.78</td>\n",
       "      <td>87.50</td>\n",
       "      <td>0.0</td>\n",
       "    </tr>\n",
       "    <tr>\n",
       "      <th>1</th>\n",
       "      <td>albert-base-v2</td>\n",
       "      <td>44.44</td>\n",
       "      <td>50.00</td>\n",
       "      <td>0.0</td>\n",
       "    </tr>\n",
       "    <tr>\n",
       "      <th>2</th>\n",
       "      <td>roberta-base</td>\n",
       "      <td>44.44</td>\n",
       "      <td>37.50</td>\n",
       "      <td>100.0</td>\n",
       "    </tr>\n",
       "    <tr>\n",
       "      <th>3</th>\n",
       "      <td>distilroberta-base</td>\n",
       "      <td>33.33</td>\n",
       "      <td>25.00</td>\n",
       "      <td>100.0</td>\n",
       "    </tr>\n",
       "    <tr>\n",
       "      <th>4</th>\n",
       "      <td>roberta-large</td>\n",
       "      <td>55.56</td>\n",
       "      <td>62.50</td>\n",
       "      <td>0.0</td>\n",
       "    </tr>\n",
       "    <tr>\n",
       "      <th>5</th>\n",
       "      <td>huggingface/CodeBERTa-small-v1</td>\n",
       "      <td>11.11</td>\n",
       "      <td>12.50</td>\n",
       "      <td>0.0</td>\n",
       "    </tr>\n",
       "    <tr>\n",
       "      <th>6</th>\n",
       "      <td>climatebert/distilroberta-base-climate-f</td>\n",
       "      <td>44.44</td>\n",
       "      <td>50.00</td>\n",
       "      <td>0.0</td>\n",
       "    </tr>\n",
       "    <tr>\n",
       "      <th>7</th>\n",
       "      <td>albert-base-v1</td>\n",
       "      <td>33.33</td>\n",
       "      <td>20.00</td>\n",
       "      <td>50.0</td>\n",
       "    </tr>\n",
       "    <tr>\n",
       "      <th>8</th>\n",
       "      <td>albert-base-v2</td>\n",
       "      <td>55.56</td>\n",
       "      <td>40.00</td>\n",
       "      <td>75.0</td>\n",
       "    </tr>\n",
       "    <tr>\n",
       "      <th>9</th>\n",
       "      <td>roberta-base</td>\n",
       "      <td>44.44</td>\n",
       "      <td>60.00</td>\n",
       "      <td>25.0</td>\n",
       "    </tr>\n",
       "    <tr>\n",
       "      <th>10</th>\n",
       "      <td>distilroberta-base</td>\n",
       "      <td>44.44</td>\n",
       "      <td>60.00</td>\n",
       "      <td>25.0</td>\n",
       "    </tr>\n",
       "    <tr>\n",
       "      <th>11</th>\n",
       "      <td>roberta-large</td>\n",
       "      <td>55.56</td>\n",
       "      <td>80.00</td>\n",
       "      <td>25.0</td>\n",
       "    </tr>\n",
       "    <tr>\n",
       "      <th>12</th>\n",
       "      <td>huggingface/CodeBERTa-small-v1</td>\n",
       "      <td>77.78</td>\n",
       "      <td>60.00</td>\n",
       "      <td>100.0</td>\n",
       "    </tr>\n",
       "    <tr>\n",
       "      <th>13</th>\n",
       "      <td>climatebert/distilroberta-base-climate-f</td>\n",
       "      <td>44.44</td>\n",
       "      <td>40.00</td>\n",
       "      <td>50.0</td>\n",
       "    </tr>\n",
       "    <tr>\n",
       "      <th>14</th>\n",
       "      <td>albert-base-v1</td>\n",
       "      <td>66.67</td>\n",
       "      <td>66.67</td>\n",
       "      <td>0.0</td>\n",
       "    </tr>\n",
       "  </tbody>\n",
       "</table>\n",
       "</div>"
      ],
      "text/plain": [
       "                                      models  metric_scores  \\\n",
       "0                             albert-base-v1          77.78   \n",
       "1                             albert-base-v2          44.44   \n",
       "2                               roberta-base          44.44   \n",
       "3                         distilroberta-base          33.33   \n",
       "4                              roberta-large          55.56   \n",
       "5             huggingface/CodeBERTa-small-v1          11.11   \n",
       "6   climatebert/distilroberta-base-climate-f          44.44   \n",
       "7                             albert-base-v1          33.33   \n",
       "8                             albert-base-v2          55.56   \n",
       "9                               roberta-base          44.44   \n",
       "10                        distilroberta-base          44.44   \n",
       "11                             roberta-large          55.56   \n",
       "12            huggingface/CodeBERTa-small-v1          77.78   \n",
       "13  climatebert/distilroberta-base-climate-f          44.44   \n",
       "14                            albert-base-v1          66.67   \n",
       "\n",
       "    stereotype_scores  antistereotype_scores  \n",
       "0               87.50                    0.0  \n",
       "1               50.00                    0.0  \n",
       "2               37.50                  100.0  \n",
       "3               25.00                  100.0  \n",
       "4               62.50                    0.0  \n",
       "5               12.50                    0.0  \n",
       "6               50.00                    0.0  \n",
       "7               20.00                   50.0  \n",
       "8               40.00                   75.0  \n",
       "9               60.00                   25.0  \n",
       "10              60.00                   25.0  \n",
       "11              80.00                   25.0  \n",
       "12              60.00                  100.0  \n",
       "13              40.00                   50.0  \n",
       "14              66.67                    0.0  "
      ]
     },
     "execution_count": 16,
     "metadata": {},
     "output_type": "execute_result"
    }
   ],
   "source": [
    "pd.DataFrame(dic)"
   ]
  },
  {
   "cell_type": "markdown",
   "id": "5caaa5b0",
   "metadata": {},
   "source": [
    "# Individual Runs"
   ]
  },
  {
   "cell_type": "code",
   "execution_count": null,
   "id": "52f4020c",
   "metadata": {},
   "outputs": [],
   "source": [
    "empty_data = {\n",
    "    'model' : [],\n",
    "    'bias_type': [],\n",
    "    'metric_score' : [],\n",
    "    'stereotype_score' : [],\n",
    "    'antistereotype_score' : []\n",
    "}\n",
    "\n",
    "social_bias_dataframe = pd.DataFrame(empty_data)"
   ]
  },
  {
   "cell_type": "code",
   "execution_count": 42,
   "id": "19e3b21c",
   "metadata": {},
   "outputs": [
    {
     "name": "stderr",
     "output_type": "stream",
     "text": [
      "100%|████████████████████████████████████████████████████████████████████████████████████| 9/9 [00:21<00:00,  2.36s/it]\n"
     ]
    }
   ],
   "source": [
    "logging.basicConfig(level=logging.INFO)\n",
    "\n",
    "\n",
    "# supported masked language models (using bert)\n",
    "tokenizer = AlbertTokenizer.from_pretrained('albert-base-v1')\n",
    "model = AlbertForMaskedLM.from_pretrained('albert-base-v1')\n",
    "\n",
    "model.eval()\n",
    "\n",
    "\n",
    "# load data into panda DataFrame\n",
    "df_data = read_data(\"fixed_data.csv\")\n",
    "\n",
    "# Filtering to Race Data\n",
    "df_data = df_data[df_data['bias_type']=='race-color'][:9]\n",
    "\n",
    "mask_token = tokenizer.mask_token\n",
    "log_softmax = torch.nn.LogSoftmax(dim=0)\n",
    "vocab = tokenizer.get_vocab()\n",
    "with open(\"bert\" + \".vocab\", \"w\") as f:\n",
    "    f.write(json.dumps(vocab))\n",
    "\n",
    "lm = {\"model\": model,\n",
    "      \"tokenizer\": tokenizer,\n",
    "      \"mask_token\": mask_token,\n",
    "      \"log_softmax\": log_softmax,\n",
    "      \"uncased\": True\n",
    "}\n",
    "\n",
    "# score each sentence. \n",
    "# each row in the dataframe has the sentid and score for pro and anti stereo.\n",
    "df_score = pd.DataFrame(columns=['sent_more', 'sent_less', \n",
    "                                 'sent_more_score', 'sent_less_score',\n",
    "                                 'score', 'stereo_antistereo', 'bias_type'], dtype=object)\n",
    "\n",
    "total_stereo, total_antistereo = 0, 0\n",
    "stereo_score, antistereo_score = 0, 0\n",
    "\n",
    "N = 0\n",
    "neutral = 0\n",
    "total = len(df_data.index)\n",
    "with tqdm(total=total) as pbar:\n",
    "    for index, data in df_data.iterrows():\n",
    "        direction = data['direction']\n",
    "        bias = data['bias_type']\n",
    "        score = mask_unigram(data, lm)\n",
    "\n",
    "        for stype in score.keys():\n",
    "            score[stype] = round(score[stype], 3)\n",
    "\n",
    "        N += 1\n",
    "        pair_score = 0\n",
    "        pbar.update(1)\n",
    "        if score['sent1_score'] == score['sent2_score']:\n",
    "            neutral += 1\n",
    "        else:\n",
    "            if direction == 'stereo':\n",
    "                total_stereo += 1\n",
    "                if score['sent1_score'] > score['sent2_score']:\n",
    "                    stereo_score += 1\n",
    "                    pair_score = 1\n",
    "            elif direction == 'antistereo':\n",
    "                total_antistereo += 1\n",
    "                if score['sent2_score'] > score['sent1_score']:\n",
    "                    antistereo_score += 1\n",
    "                    pair_score = 1\n",
    "\n",
    "        sent_more, sent_less = '', ''\n",
    "        if direction == 'stereo':\n",
    "            sent_more = data['sent1']\n",
    "            sent_less = data['sent2']\n",
    "            sent_more_score = score['sent1_score']\n",
    "            sent_less_score = score['sent2_score']\n",
    "        else:\n",
    "            sent_more = data['sent2']\n",
    "            sent_less = data['sent1']\n",
    "            sent_more_score = score['sent2_score']\n",
    "            sent_less_score = score['sent1_score']\n",
    "\n",
    "        df_score = df_score.append({'sent_more': sent_more,\n",
    "                                    'sent_less': sent_less,\n",
    "                                    'sent_more_score': sent_more_score,\n",
    "                                    'sent_less_score': sent_less_score,\n",
    "                                    'score': pair_score,\n",
    "                                    'stereo_antistereo': direction,\n",
    "                                    'bias_type': bias\n",
    "                                  }, ignore_index=True)\n",
    "\n",
    "metric_score = round((stereo_score + antistereo_score) / N * 100, 2)\n",
    "stereotype_score = round(stereo_score  / total_stereo * 100, 2)\n",
    "if antistereo_score != 0:\n",
    "    antistereotype_score = round(antistereo_score  / total_antistereo * 100, 2)\n",
    "else:\n",
    "    antistereotype_score = -1\n",
    "    \n",
    "loop_dict = {\n",
    "    'model' : 'albert-base-v1',\n",
    "    'bias_type' : 'race-color',\n",
    "    'metric_score' : metric_score,\n",
    "    'stereotype_score' : stereotype_score,\n",
    "    'antistereotype_score' : antistereotype_score\n",
    "}\n",
    "\n",
    "social_bias_dataframe = social_bias_dataframe.append(loop_dict, ignore_index=True)"
   ]
  },
  {
   "cell_type": "code",
   "execution_count": 43,
   "id": "438299c0",
   "metadata": {},
   "outputs": [
    {
     "data": {
      "text/html": [
       "<div>\n",
       "<style scoped>\n",
       "    .dataframe tbody tr th:only-of-type {\n",
       "        vertical-align: middle;\n",
       "    }\n",
       "\n",
       "    .dataframe tbody tr th {\n",
       "        vertical-align: top;\n",
       "    }\n",
       "\n",
       "    .dataframe thead th {\n",
       "        text-align: right;\n",
       "    }\n",
       "</style>\n",
       "<table border=\"1\" class=\"dataframe\">\n",
       "  <thead>\n",
       "    <tr style=\"text-align: right;\">\n",
       "      <th></th>\n",
       "      <th>model</th>\n",
       "      <th>bias_type</th>\n",
       "      <th>metric_scores</th>\n",
       "      <th>stereotype_scores</th>\n",
       "      <th>antistereotype_scores</th>\n",
       "      <th>antistereotype_score</th>\n",
       "      <th>metric_score</th>\n",
       "      <th>stereotype_score</th>\n",
       "    </tr>\n",
       "  </thead>\n",
       "  <tbody>\n",
       "    <tr>\n",
       "      <th>0</th>\n",
       "      <td>albert-base-v2</td>\n",
       "      <td>race-color</td>\n",
       "      <td>NaN</td>\n",
       "      <td>NaN</td>\n",
       "      <td>NaN</td>\n",
       "      <td>-1.0</td>\n",
       "      <td>44.44</td>\n",
       "      <td>50.0</td>\n",
       "    </tr>\n",
       "    <tr>\n",
       "      <th>1</th>\n",
       "      <td>albert-base-v1</td>\n",
       "      <td>race-color</td>\n",
       "      <td>NaN</td>\n",
       "      <td>NaN</td>\n",
       "      <td>NaN</td>\n",
       "      <td>-1.0</td>\n",
       "      <td>77.78</td>\n",
       "      <td>87.5</td>\n",
       "    </tr>\n",
       "    <tr>\n",
       "      <th>2</th>\n",
       "      <td>albert-base-v1</td>\n",
       "      <td>race-color</td>\n",
       "      <td>NaN</td>\n",
       "      <td>NaN</td>\n",
       "      <td>NaN</td>\n",
       "      <td>-1.0</td>\n",
       "      <td>77.78</td>\n",
       "      <td>87.5</td>\n",
       "    </tr>\n",
       "    <tr>\n",
       "      <th>3</th>\n",
       "      <td>albert-base-v1</td>\n",
       "      <td>race-color</td>\n",
       "      <td>NaN</td>\n",
       "      <td>NaN</td>\n",
       "      <td>NaN</td>\n",
       "      <td>-1.0</td>\n",
       "      <td>77.78</td>\n",
       "      <td>87.5</td>\n",
       "    </tr>\n",
       "  </tbody>\n",
       "</table>\n",
       "</div>"
      ],
      "text/plain": [
       "            model   bias_type  metric_scores  stereotype_scores  \\\n",
       "0  albert-base-v2  race-color            NaN                NaN   \n",
       "1  albert-base-v1  race-color            NaN                NaN   \n",
       "2  albert-base-v1  race-color            NaN                NaN   \n",
       "3  albert-base-v1  race-color            NaN                NaN   \n",
       "\n",
       "   antistereotype_scores  antistereotype_score  metric_score  stereotype_score  \n",
       "0                    NaN                  -1.0         44.44              50.0  \n",
       "1                    NaN                  -1.0         77.78              87.5  \n",
       "2                    NaN                  -1.0         77.78              87.5  \n",
       "3                    NaN                  -1.0         77.78              87.5  "
      ]
     },
     "execution_count": 43,
     "metadata": {},
     "output_type": "execute_result"
    }
   ],
   "source": [
    "social_bias_dataframe"
   ]
  },
  {
   "cell_type": "code",
   "execution_count": 32,
   "id": "69d18518",
   "metadata": {},
   "outputs": [],
   "source": [
    "dataframe_data = {\n",
    "    'models' : ['sf', 'fgv'],\n",
    "    'metric_scores' : [4, 6],\n",
    "    'stereotype_scores' : [7,5],\n",
    "    'antistereotype_scores' : [8,4]\n",
    "}"
   ]
  },
  {
   "cell_type": "code",
   "execution_count": 33,
   "id": "c13a5e71",
   "metadata": {
    "scrolled": true
   },
   "outputs": [],
   "source": [
    "df = pd.DataFrame(dataframe_data)"
   ]
  },
  {
   "cell_type": "code",
   "execution_count": 34,
   "id": "b2324911",
   "metadata": {},
   "outputs": [
    {
     "data": {
      "text/html": [
       "<div>\n",
       "<style scoped>\n",
       "    .dataframe tbody tr th:only-of-type {\n",
       "        vertical-align: middle;\n",
       "    }\n",
       "\n",
       "    .dataframe tbody tr th {\n",
       "        vertical-align: top;\n",
       "    }\n",
       "\n",
       "    .dataframe thead th {\n",
       "        text-align: right;\n",
       "    }\n",
       "</style>\n",
       "<table border=\"1\" class=\"dataframe\">\n",
       "  <thead>\n",
       "    <tr style=\"text-align: right;\">\n",
       "      <th></th>\n",
       "      <th>models</th>\n",
       "      <th>metric_scores</th>\n",
       "      <th>stereotype_scores</th>\n",
       "      <th>antistereotype_scores</th>\n",
       "    </tr>\n",
       "  </thead>\n",
       "  <tbody>\n",
       "    <tr>\n",
       "      <th>0</th>\n",
       "      <td>sf</td>\n",
       "      <td>4</td>\n",
       "      <td>7</td>\n",
       "      <td>8</td>\n",
       "    </tr>\n",
       "    <tr>\n",
       "      <th>1</th>\n",
       "      <td>fgv</td>\n",
       "      <td>6</td>\n",
       "      <td>5</td>\n",
       "      <td>4</td>\n",
       "    </tr>\n",
       "    <tr>\n",
       "      <th>2</th>\n",
       "      <td>sdf</td>\n",
       "      <td>1</td>\n",
       "      <td>2</td>\n",
       "      <td>3</td>\n",
       "    </tr>\n",
       "    <tr>\n",
       "      <th>3</th>\n",
       "      <td>sdf</td>\n",
       "      <td>1</td>\n",
       "      <td>2</td>\n",
       "      <td>3</td>\n",
       "    </tr>\n",
       "  </tbody>\n",
       "</table>\n",
       "</div>"
      ],
      "text/plain": [
       "  models  metric_scores  stereotype_scores  antistereotype_scores\n",
       "0     sf              4                  7                      8\n",
       "1    fgv              6                  5                      4\n",
       "2    sdf              1                  2                      3\n",
       "3    sdf              1                  2                      3"
      ]
     },
     "execution_count": 34,
     "metadata": {},
     "output_type": "execute_result"
    }
   ],
   "source": [
    "dict1 = {\n",
    "    'models' : 'sdf',\n",
    "    'metric_scores' : 1,\n",
    "    'stereotype_scores' : 2,\n",
    "    'antistereotype_scores' : 3\n",
    "}\n",
    "df = df.append(dict1, ignore_index=True)\n",
    "df.append(dict1, ignore_index=True)"
   ]
  },
  {
   "cell_type": "markdown",
   "id": "8c38250b",
   "metadata": {},
   "source": [
    "# Iteration 1: Introducing DataFrame and First Model Loop"
   ]
  },
  {
   "cell_type": "code",
   "execution_count": 12,
   "id": "8aac9722",
   "metadata": {},
   "outputs": [],
   "source": [
    "empty_dataframe_dictionary = {\n",
    "    'models' : [],\n",
    "    'metric_scores' : [],\n",
    "    'stereotype_scores' : [],\n",
    "    'antistereotype_scores' : []\n",
    "}\n",
    "\n",
    "dataframe_dictionary_race = empty_dataframe_dictionary\n",
    "dataframe_dictionary_gender = empty_dataframe_dictionary\n",
    "dataframe_dictionary_socioeconomic = empty_dataframe_dictionary\n",
    "dataframe_dictionary_nationality = empty_dataframe_dictionary\n",
    "dataframe_dictionary_religion = empty_dataframe_dictionary\n",
    "dataframe_dictionary_age = empty_dataframe_dictionary\n",
    "dataframe_dictionary_sexualorientation = empty_dataframe_dictionary\n",
    "dataframe_dictionary_physicalappearance = empty_dataframe_dictionary\n",
    "dataframe_dictionary_disability = empty_dataframe_dictionary"
   ]
  },
  {
   "cell_type": "code",
   "execution_count": null,
   "id": "e91f1528",
   "metadata": {},
   "outputs": [],
   "source": [
    "empty_data = {\n",
    "    'model' : [],\n",
    "    'bias_type': [],\n",
    "    'metric_score' : [],\n",
    "    'stereotype_score' : [],\n",
    "    'antistereotype_score' : []\n",
    "}\n",
    "\n",
    "social_bias_dataframe = pd.DataFrame(empty_data)"
   ]
  },
  {
   "cell_type": "code",
   "execution_count": 46,
   "id": "aa95d13f",
   "metadata": {},
   "outputs": [
    {
     "name": "stderr",
     "output_type": "stream",
     "text": [
      "Some weights of the model checkpoint at bert-base-cased were not used when initializing BertForMaskedLM: ['cls.seq_relationship.weight', 'cls.seq_relationship.bias']\n",
      "- This IS expected if you are initializing BertForMaskedLM from the checkpoint of a model trained on another task or with another architecture (e.g. initializing a BertForSequenceClassification model from a BertForPreTraining model).\n",
      "- This IS NOT expected if you are initializing BertForMaskedLM from the checkpoint of a model that you expect to be exactly identical (initializing a BertForSequenceClassification model from a BertForSequenceClassification model).\n",
      "100%|████████████████████████████████████████████████████████████████████████████████████| 1/1 [00:08<00:00,  8.14s/it]\n",
      "Some weights of the model checkpoint at bert-base-uncased were not used when initializing BertForMaskedLM: ['cls.seq_relationship.weight', 'cls.seq_relationship.bias']\n",
      "- This IS expected if you are initializing BertForMaskedLM from the checkpoint of a model trained on another task or with another architecture (e.g. initializing a BertForSequenceClassification model from a BertForPreTraining model).\n",
      "- This IS NOT expected if you are initializing BertForMaskedLM from the checkpoint of a model that you expect to be exactly identical (initializing a BertForSequenceClassification model from a BertForSequenceClassification model).\n",
      "100%|████████████████████████████████████████████████████████████████████████████████████| 1/1 [00:08<00:00,  8.75s/it]\n",
      "Some weights of the model checkpoint at bert-large-uncased were not used when initializing BertForMaskedLM: ['cls.seq_relationship.weight', 'cls.seq_relationship.bias']\n",
      "- This IS expected if you are initializing BertForMaskedLM from the checkpoint of a model trained on another task or with another architecture (e.g. initializing a BertForSequenceClassification model from a BertForPreTraining model).\n",
      "- This IS NOT expected if you are initializing BertForMaskedLM from the checkpoint of a model that you expect to be exactly identical (initializing a BertForSequenceClassification model from a BertForSequenceClassification model).\n",
      "100%|████████████████████████████████████████████████████████████████████████████████████| 1/1 [00:23<00:00, 23.50s/it]\n",
      "Some weights of the model checkpoint at bert-large-cased were not used when initializing BertForMaskedLM: ['cls.seq_relationship.weight', 'cls.seq_relationship.bias']\n",
      "- This IS expected if you are initializing BertForMaskedLM from the checkpoint of a model trained on another task or with another architecture (e.g. initializing a BertForSequenceClassification model from a BertForPreTraining model).\n",
      "- This IS NOT expected if you are initializing BertForMaskedLM from the checkpoint of a model that you expect to be exactly identical (initializing a BertForSequenceClassification model from a BertForSequenceClassification model).\n",
      "100%|████████████████████████████████████████████████████████████████████████████████████| 1/1 [00:25<00:00, 25.01s/it]\n",
      "Some weights of the model checkpoint at bert-base-multilingual-uncased were not used when initializing BertForMaskedLM: ['cls.seq_relationship.weight', 'cls.seq_relationship.bias']\n",
      "- This IS expected if you are initializing BertForMaskedLM from the checkpoint of a model trained on another task or with another architecture (e.g. initializing a BertForSequenceClassification model from a BertForPreTraining model).\n",
      "- This IS NOT expected if you are initializing BertForMaskedLM from the checkpoint of a model that you expect to be exactly identical (initializing a BertForSequenceClassification model from a BertForSequenceClassification model).\n",
      "100%|████████████████████████████████████████████████████████████████████████████████████| 1/1 [00:10<00:00, 10.79s/it]\n",
      "Some weights of the model checkpoint at bert-base-multilingual-cased were not used when initializing BertForMaskedLM: ['cls.seq_relationship.weight', 'cls.seq_relationship.bias']\n",
      "- This IS expected if you are initializing BertForMaskedLM from the checkpoint of a model trained on another task or with another architecture (e.g. initializing a BertForSequenceClassification model from a BertForPreTraining model).\n",
      "- This IS NOT expected if you are initializing BertForMaskedLM from the checkpoint of a model that you expect to be exactly identical (initializing a BertForSequenceClassification model from a BertForSequenceClassification model).\n",
      "100%|████████████████████████████████████████████████████████████████████████████████████| 1/1 [00:12<00:00, 12.18s/it]\n",
      "Some weights of the model checkpoint at allenai/scibert_scivocab_uncased were not used when initializing BertForMaskedLM: ['cls.seq_relationship.weight', 'cls.seq_relationship.bias']\n",
      "- This IS expected if you are initializing BertForMaskedLM from the checkpoint of a model trained on another task or with another architecture (e.g. initializing a BertForSequenceClassification model from a BertForPreTraining model).\n",
      "- This IS NOT expected if you are initializing BertForMaskedLM from the checkpoint of a model that you expect to be exactly identical (initializing a BertForSequenceClassification model from a BertForSequenceClassification model).\n",
      "100%|████████████████████████████████████████████████████████████████████████████████████| 1/1 [00:09<00:00,  9.06s/it]\n",
      "Some weights of the model checkpoint at emilyalsentzer/Bio_ClinicalBERT were not used when initializing BertForMaskedLM: ['cls.seq_relationship.weight', 'cls.seq_relationship.bias']\n",
      "- This IS expected if you are initializing BertForMaskedLM from the checkpoint of a model trained on another task or with another architecture (e.g. initializing a BertForSequenceClassification model from a BertForPreTraining model).\n",
      "- This IS NOT expected if you are initializing BertForMaskedLM from the checkpoint of a model that you expect to be exactly identical (initializing a BertForSequenceClassification model from a BertForSequenceClassification model).\n",
      "100%|████████████████████████████████████████████████████████████████████████████████████| 1/1 [00:08<00:00,  8.13s/it]\n",
      "Some weights of the model checkpoint at microsoft/BiomedNLP-PubMedBERT-base-uncased-abstract were not used when initializing BertForMaskedLM: ['cls.seq_relationship.weight', 'cls.seq_relationship.bias']\n",
      "- This IS expected if you are initializing BertForMaskedLM from the checkpoint of a model trained on another task or with another architecture (e.g. initializing a BertForSequenceClassification model from a BertForPreTraining model).\n",
      "- This IS NOT expected if you are initializing BertForMaskedLM from the checkpoint of a model that you expect to be exactly identical (initializing a BertForSequenceClassification model from a BertForSequenceClassification model).\n",
      "100%|████████████████████████████████████████████████████████████████████████████████████| 1/1 [00:10<00:00, 10.79s/it]\n",
      "Some weights of the model checkpoint at ProsusAI/finbert were not used when initializing BertForMaskedLM: ['classifier.weight', 'classifier.bias']\n",
      "- This IS expected if you are initializing BertForMaskedLM from the checkpoint of a model trained on another task or with another architecture (e.g. initializing a BertForSequenceClassification model from a BertForPreTraining model).\n",
      "- This IS NOT expected if you are initializing BertForMaskedLM from the checkpoint of a model that you expect to be exactly identical (initializing a BertForSequenceClassification model from a BertForSequenceClassification model).\n",
      "Some weights of BertForMaskedLM were not initialized from the model checkpoint at ProsusAI/finbert and are newly initialized: ['cls.predictions.bias', 'cls.predictions.decoder.weight', 'cls.predictions.transform.dense.bias', 'cls.predictions.transform.LayerNorm.bias', 'cls.predictions.transform.dense.weight', 'cls.predictions.transform.LayerNorm.weight']\n",
      "You should probably TRAIN this model on a down-stream task to be able to use it for predictions and inference.\n",
      "100%|████████████████████████████████████████████████████████████████████████████████████| 1/1 [00:08<00:00,  8.58s/it]\n",
      "Some weights of the model checkpoint at nlpaueb/legal-bert-base-uncased were not used when initializing BertForMaskedLM: ['cls.seq_relationship.weight', 'cls.seq_relationship.bias']\n",
      "- This IS expected if you are initializing BertForMaskedLM from the checkpoint of a model trained on another task or with another architecture (e.g. initializing a BertForSequenceClassification model from a BertForPreTraining model).\n",
      "- This IS NOT expected if you are initializing BertForMaskedLM from the checkpoint of a model that you expect to be exactly identical (initializing a BertForSequenceClassification model from a BertForSequenceClassification model).\n"
     ]
    },
    {
     "name": "stderr",
     "output_type": "stream",
     "text": [
      "100%|████████████████████████████████████████████████████████████████████████████████████| 1/1 [00:10<00:00, 10.07s/it]\n",
      "100%|████████████████████████████████████████████████████████████████████████████████████| 1/1 [00:08<00:00,  8.15s/it]\n",
      "Some weights of the model checkpoint at anferico/bert-for-patents were not used when initializing BertForMaskedLM: ['cls.seq_relationship.weight', 'cls.seq_relationship.bias']\n",
      "- This IS expected if you are initializing BertForMaskedLM from the checkpoint of a model trained on another task or with another architecture (e.g. initializing a BertForSequenceClassification model from a BertForPreTraining model).\n",
      "- This IS NOT expected if you are initializing BertForMaskedLM from the checkpoint of a model that you expect to be exactly identical (initializing a BertForSequenceClassification model from a BertForSequenceClassification model).\n",
      "100%|████████████████████████████████████████████████████████████████████████████████████| 1/1 [00:24<00:00, 24.94s/it]\n",
      "100%|████████████████████████████████████████████████████████████████████████████████████| 1/1 [00:05<00:00,  5.54s/it]\n",
      "100%|████████████████████████████████████████████████████████████████████████████████████| 1/1 [00:07<00:00,  7.18s/it]\n",
      "100%|████████████████████████████████████████████████████████████████████████████████████| 1/1 [00:08<00:00,  8.11s/it]\n",
      "100%|████████████████████████████████████████████████████████████████████████████████████| 1/1 [00:07<00:00,  7.99s/it]\n",
      "100%|████████████████████████████████████████████████████████████████████████████████████| 1/1 [00:04<00:00,  4.94s/it]\n",
      "100%|████████████████████████████████████████████████████████████████████████████████████| 1/1 [00:23<00:00, 23.18s/it]\n",
      "100%|████████████████████████████████████████████████████████████████████████████████████| 1/1 [00:06<00:00,  6.10s/it]\n",
      "100%|████████████████████████████████████████████████████████████████████████████████████| 1/1 [00:05<00:00,  5.05s/it]\n"
     ]
    },
    {
     "data": {
      "application/vnd.jupyter.widget-view+json": {
       "model_id": "e83cf4f9e53c4725b4128052fb6e6d3b",
       "version_major": 2,
       "version_minor": 0
      },
      "text/plain": [
       "Downloading:   0%|          | 0.00/4.83M [00:00<?, ?B/s]"
      ]
     },
     "metadata": {},
     "output_type": "display_data"
    },
    {
     "data": {
      "application/vnd.jupyter.widget-view+json": {
       "model_id": "f792ec22106d407e99d6f0f8c8f4c790",
       "version_major": 2,
       "version_minor": 0
      },
      "text/plain": [
       "Downloading:   0%|          | 0.00/8.68M [00:00<?, ?B/s]"
      ]
     },
     "metadata": {},
     "output_type": "display_data"
    },
    {
     "data": {
      "application/vnd.jupyter.widget-view+json": {
       "model_id": "e51c6eaed77b4e5f99cd806d94e490a8",
       "version_major": 2,
       "version_minor": 0
      },
      "text/plain": [
       "Downloading:   0%|          | 0.00/512 [00:00<?, ?B/s]"
      ]
     },
     "metadata": {},
     "output_type": "display_data"
    },
    {
     "data": {
      "application/vnd.jupyter.widget-view+json": {
       "model_id": "0839b9f009ce44a69f09d8883e05f97f",
       "version_major": 2,
       "version_minor": 0
      },
      "text/plain": [
       "Downloading:   0%|          | 0.00/1.04G [00:00<?, ?B/s]"
      ]
     },
     "metadata": {},
     "output_type": "display_data"
    },
    {
     "name": "stderr",
     "output_type": "stream",
     "text": [
      "100%|████████████████████████████████████████████████████████████████████████████████████| 1/1 [00:17<00:00, 17.05s/it]\n"
     ]
    },
    {
     "data": {
      "application/vnd.jupyter.widget-view+json": {
       "model_id": "862f9c8fb1c5470384c8e5eb48df3344",
       "version_major": 2,
       "version_minor": 0
      },
      "text/plain": [
       "Downloading:   0%|          | 0.00/29.0 [00:00<?, ?B/s]"
      ]
     },
     "metadata": {},
     "output_type": "display_data"
    },
    {
     "data": {
      "application/vnd.jupyter.widget-view+json": {
       "model_id": "4bd1e467a5f24e8489dee38b872b859e",
       "version_major": 2,
       "version_minor": 0
      },
      "text/plain": [
       "Downloading:   0%|          | 0.00/972k [00:00<?, ?B/s]"
      ]
     },
     "metadata": {},
     "output_type": "display_data"
    },
    {
     "data": {
      "application/vnd.jupyter.widget-view+json": {
       "model_id": "c6924f68cd6c4356969c2ea328265178",
       "version_major": 2,
       "version_minor": 0
      },
      "text/plain": [
       "Downloading:   0%|          | 0.00/1.87M [00:00<?, ?B/s]"
      ]
     },
     "metadata": {},
     "output_type": "display_data"
    },
    {
     "data": {
      "application/vnd.jupyter.widget-view+json": {
       "model_id": "28e63cf2d7fe47b7a4dc037f366fa0d6",
       "version_major": 2,
       "version_minor": 0
      },
      "text/plain": [
       "Downloading:   0%|          | 0.00/466 [00:00<?, ?B/s]"
      ]
     },
     "metadata": {},
     "output_type": "display_data"
    },
    {
     "data": {
      "application/vnd.jupyter.widget-view+json": {
       "model_id": "58a8c8dc81ae4e80beac9e7c72d402f6",
       "version_major": 2,
       "version_minor": 0
      },
      "text/plain": [
       "Downloading:   0%|          | 0.00/517M [00:00<?, ?B/s]"
      ]
     },
     "metadata": {},
     "output_type": "display_data"
    },
    {
     "name": "stderr",
     "output_type": "stream",
     "text": [
      "100%|████████████████████████████████████████████████████████████████████████████████████| 1/1 [00:08<00:00,  8.60s/it]\n"
     ]
    }
   ],
   "source": [
    "logging.basicConfig(level=logging.INFO)\n",
    "\n",
    "for model_name in all_models:\n",
    "\n",
    "    # supported masked language models (using bert)\n",
    "    if model_name in BERT_models:\n",
    "        tokenizer = BertTokenizer.from_pretrained(model_name)\n",
    "        model = BertForMaskedLM.from_pretrained(model_name)\n",
    "    elif model_name in ALBERT_models:\n",
    "        tokenizer = AlbertTokenizer.from_pretrained(model_name)\n",
    "        model = AlbertForMaskedLM.from_pretrained(model_name)\n",
    "    elif model_name in ROBERTA_models:\n",
    "        tokenizer = RobertaTokenizer.from_pretrained(model_name)\n",
    "        model = RobertaForMaskedLM.from_pretrained(model_name)\n",
    "    elif model_name == 'xlm-roberta-base':\n",
    "        tokenizer = XLMRobertaTokenizer.from_pretrained(model_name)\n",
    "        model = XLMRobertaForMaskedLM.from_pretrained(model_name)\n",
    "    elif model_name == 'distilbert-base-multilingual-cased':\n",
    "        tokenizer = DistilBertTokenizer.from_pretrained(model_name)\n",
    "        model = DistilBertForMaskedLM.from_pretrained(model_name)\n",
    "\n",
    "    model.eval()\n",
    "\n",
    "    # load data into panda DataFrame\n",
    "    df_data = read_data(\"fixed_data.csv\")\n",
    "\n",
    "    # Filtering to Race Data\n",
    "    df_data = df_data[df_data['bias_type']=='race-color'][:1]\n",
    "\n",
    "    mask_token = tokenizer.mask_token\n",
    "    log_softmax = torch.nn.LogSoftmax(dim=0)\n",
    "    vocab = tokenizer.get_vocab()\n",
    "    with open(\"bert\" + \".vocab\", \"w\") as f:\n",
    "        f.write(json.dumps(vocab))\n",
    "\n",
    "    lm = {\"model\": model,\n",
    "          \"tokenizer\": tokenizer,\n",
    "          \"mask_token\": mask_token,\n",
    "          \"log_softmax\": log_softmax,\n",
    "          \"uncased\": True\n",
    "    }\n",
    "\n",
    "    # score each sentence. \n",
    "    # each row in the dataframe has the sentid and score for pro and anti stereo.\n",
    "    df_score = pd.DataFrame(columns=['sent_more', 'sent_less', \n",
    "                                     'sent_more_score', 'sent_less_score',\n",
    "                                     'score', 'stereo_antistereo', 'bias_type'], dtype=object)\n",
    "\n",
    "    total_stereo, total_antistereo = 0, 0\n",
    "    stereo_score, antistereo_score = 0, 0\n",
    "\n",
    "    N = 0\n",
    "    neutral = 0\n",
    "    total = len(df_data.index)\n",
    "    with tqdm(total=total) as pbar:\n",
    "        for index, data in df_data.iterrows():\n",
    "            direction = data['direction']\n",
    "            bias = data['bias_type']\n",
    "            score = mask_unigram(data, lm)\n",
    "\n",
    "            for stype in score.keys():\n",
    "                score[stype] = round(score[stype], 3)\n",
    "\n",
    "            N += 1\n",
    "            pair_score = 0\n",
    "            pbar.update(1)\n",
    "            if score['sent1_score'] == score['sent2_score']:\n",
    "                neutral += 1\n",
    "            else:\n",
    "                if direction == 'stereo':\n",
    "                    total_stereo += 1\n",
    "                    if score['sent1_score'] > score['sent2_score']:\n",
    "                        stereo_score += 1\n",
    "                        pair_score = 1\n",
    "                elif direction == 'antistereo':\n",
    "                    total_antistereo += 1\n",
    "                    if score['sent2_score'] > score['sent1_score']:\n",
    "                        antistereo_score += 1\n",
    "                        pair_score = 1\n",
    "\n",
    "            sent_more, sent_less = '', ''\n",
    "            if direction == 'stereo':\n",
    "                sent_more = data['sent1']\n",
    "                sent_less = data['sent2']\n",
    "                sent_more_score = score['sent1_score']\n",
    "                sent_less_score = score['sent2_score']\n",
    "            else:\n",
    "                sent_more = data['sent2']\n",
    "                sent_less = data['sent1']\n",
    "                sent_more_score = score['sent2_score']\n",
    "                sent_less_score = score['sent1_score']\n",
    "\n",
    "            df_score = df_score.append({'sent_more': sent_more,\n",
    "                                        'sent_less': sent_less,\n",
    "                                        'sent_more_score': sent_more_score,\n",
    "                                        'sent_less_score': sent_less_score,\n",
    "                                        'score': pair_score,\n",
    "                                        'stereo_antistereo': direction,\n",
    "                                        'bias_type': bias\n",
    "                                      }, ignore_index=True)\n",
    "\n",
    "    metric_score = round((stereo_score + antistereo_score) / N * 100, 2)\n",
    "    stereotype_score = round(stereo_score  / total_stereo * 100, 2)\n",
    "    if antistereo_score != 0:\n",
    "        antistereotype_score = round(antistereo_score  / total_antistereo * 100, 2)\n",
    "    else:\n",
    "        antistereotype_score = -1\n",
    "\n",
    "    loop_dict = {\n",
    "        'model' : model_name,\n",
    "        'bias_type' : 'race-color',\n",
    "        'metric_score' : metric_score,\n",
    "        'stereotype_score' : stereotype_score,\n",
    "        'antistereotype_score' : antistereotype_score\n",
    "    }\n",
    "\n",
    "    social_bias_dataframe = social_bias_dataframe.append(loop_dict, ignore_index=True)"
   ]
  },
  {
   "cell_type": "code",
   "execution_count": 47,
   "id": "b3f2b0c3",
   "metadata": {},
   "outputs": [
    {
     "data": {
      "text/html": [
       "<div>\n",
       "<style scoped>\n",
       "    .dataframe tbody tr th:only-of-type {\n",
       "        vertical-align: middle;\n",
       "    }\n",
       "\n",
       "    .dataframe tbody tr th {\n",
       "        vertical-align: top;\n",
       "    }\n",
       "\n",
       "    .dataframe thead th {\n",
       "        text-align: right;\n",
       "    }\n",
       "</style>\n",
       "<table border=\"1\" class=\"dataframe\">\n",
       "  <thead>\n",
       "    <tr style=\"text-align: right;\">\n",
       "      <th></th>\n",
       "      <th>model</th>\n",
       "      <th>bias_type</th>\n",
       "      <th>metric_scores</th>\n",
       "      <th>stereotype_scores</th>\n",
       "      <th>antistereotype_scores</th>\n",
       "      <th>antistereotype_score</th>\n",
       "      <th>metric_score</th>\n",
       "      <th>stereotype_score</th>\n",
       "    </tr>\n",
       "  </thead>\n",
       "  <tbody>\n",
       "    <tr>\n",
       "      <th>0</th>\n",
       "      <td>albert-base-v2</td>\n",
       "      <td>race-color</td>\n",
       "      <td>NaN</td>\n",
       "      <td>NaN</td>\n",
       "      <td>NaN</td>\n",
       "      <td>-1.0</td>\n",
       "      <td>44.44</td>\n",
       "      <td>50.0</td>\n",
       "    </tr>\n",
       "    <tr>\n",
       "      <th>1</th>\n",
       "      <td>albert-base-v1</td>\n",
       "      <td>race-color</td>\n",
       "      <td>NaN</td>\n",
       "      <td>NaN</td>\n",
       "      <td>NaN</td>\n",
       "      <td>-1.0</td>\n",
       "      <td>77.78</td>\n",
       "      <td>87.5</td>\n",
       "    </tr>\n",
       "    <tr>\n",
       "      <th>2</th>\n",
       "      <td>albert-base-v1</td>\n",
       "      <td>race-color</td>\n",
       "      <td>NaN</td>\n",
       "      <td>NaN</td>\n",
       "      <td>NaN</td>\n",
       "      <td>-1.0</td>\n",
       "      <td>77.78</td>\n",
       "      <td>87.5</td>\n",
       "    </tr>\n",
       "    <tr>\n",
       "      <th>3</th>\n",
       "      <td>albert-base-v1</td>\n",
       "      <td>race-color</td>\n",
       "      <td>NaN</td>\n",
       "      <td>NaN</td>\n",
       "      <td>NaN</td>\n",
       "      <td>-1.0</td>\n",
       "      <td>77.78</td>\n",
       "      <td>87.5</td>\n",
       "    </tr>\n",
       "    <tr>\n",
       "      <th>4</th>\n",
       "      <td>bert-base-cased</td>\n",
       "      <td>race-color</td>\n",
       "      <td>NaN</td>\n",
       "      <td>NaN</td>\n",
       "      <td>NaN</td>\n",
       "      <td>-1.0</td>\n",
       "      <td>100.00</td>\n",
       "      <td>100.0</td>\n",
       "    </tr>\n",
       "    <tr>\n",
       "      <th>5</th>\n",
       "      <td>bert-base-uncased</td>\n",
       "      <td>race-color</td>\n",
       "      <td>NaN</td>\n",
       "      <td>NaN</td>\n",
       "      <td>NaN</td>\n",
       "      <td>-1.0</td>\n",
       "      <td>100.00</td>\n",
       "      <td>100.0</td>\n",
       "    </tr>\n",
       "    <tr>\n",
       "      <th>6</th>\n",
       "      <td>bert-large-uncased</td>\n",
       "      <td>race-color</td>\n",
       "      <td>NaN</td>\n",
       "      <td>NaN</td>\n",
       "      <td>NaN</td>\n",
       "      <td>-1.0</td>\n",
       "      <td>100.00</td>\n",
       "      <td>100.0</td>\n",
       "    </tr>\n",
       "    <tr>\n",
       "      <th>7</th>\n",
       "      <td>bert-large-cased</td>\n",
       "      <td>race-color</td>\n",
       "      <td>NaN</td>\n",
       "      <td>NaN</td>\n",
       "      <td>NaN</td>\n",
       "      <td>-1.0</td>\n",
       "      <td>100.00</td>\n",
       "      <td>100.0</td>\n",
       "    </tr>\n",
       "    <tr>\n",
       "      <th>8</th>\n",
       "      <td>bert-base-multilingual-uncased</td>\n",
       "      <td>race-color</td>\n",
       "      <td>NaN</td>\n",
       "      <td>NaN</td>\n",
       "      <td>NaN</td>\n",
       "      <td>-1.0</td>\n",
       "      <td>0.00</td>\n",
       "      <td>0.0</td>\n",
       "    </tr>\n",
       "    <tr>\n",
       "      <th>9</th>\n",
       "      <td>bert-base-multilingual-cased</td>\n",
       "      <td>race-color</td>\n",
       "      <td>NaN</td>\n",
       "      <td>NaN</td>\n",
       "      <td>NaN</td>\n",
       "      <td>-1.0</td>\n",
       "      <td>100.00</td>\n",
       "      <td>100.0</td>\n",
       "    </tr>\n",
       "    <tr>\n",
       "      <th>10</th>\n",
       "      <td>allenai/scibert_scivocab_uncased</td>\n",
       "      <td>race-color</td>\n",
       "      <td>NaN</td>\n",
       "      <td>NaN</td>\n",
       "      <td>NaN</td>\n",
       "      <td>-1.0</td>\n",
       "      <td>100.00</td>\n",
       "      <td>100.0</td>\n",
       "    </tr>\n",
       "    <tr>\n",
       "      <th>11</th>\n",
       "      <td>emilyalsentzer/Bio_ClinicalBERT</td>\n",
       "      <td>race-color</td>\n",
       "      <td>NaN</td>\n",
       "      <td>NaN</td>\n",
       "      <td>NaN</td>\n",
       "      <td>-1.0</td>\n",
       "      <td>0.00</td>\n",
       "      <td>0.0</td>\n",
       "    </tr>\n",
       "    <tr>\n",
       "      <th>12</th>\n",
       "      <td>microsoft/BiomedNLP-PubMedBERT-base-uncased-ab...</td>\n",
       "      <td>race-color</td>\n",
       "      <td>NaN</td>\n",
       "      <td>NaN</td>\n",
       "      <td>NaN</td>\n",
       "      <td>-1.0</td>\n",
       "      <td>100.00</td>\n",
       "      <td>100.0</td>\n",
       "    </tr>\n",
       "    <tr>\n",
       "      <th>13</th>\n",
       "      <td>ProsusAI/finbert</td>\n",
       "      <td>race-color</td>\n",
       "      <td>NaN</td>\n",
       "      <td>NaN</td>\n",
       "      <td>NaN</td>\n",
       "      <td>-1.0</td>\n",
       "      <td>0.00</td>\n",
       "      <td>0.0</td>\n",
       "    </tr>\n",
       "    <tr>\n",
       "      <th>14</th>\n",
       "      <td>nlpaueb/legal-bert-base-uncased</td>\n",
       "      <td>race-color</td>\n",
       "      <td>NaN</td>\n",
       "      <td>NaN</td>\n",
       "      <td>NaN</td>\n",
       "      <td>-1.0</td>\n",
       "      <td>100.00</td>\n",
       "      <td>100.0</td>\n",
       "    </tr>\n",
       "    <tr>\n",
       "      <th>15</th>\n",
       "      <td>GroNLP/hateBERT</td>\n",
       "      <td>race-color</td>\n",
       "      <td>NaN</td>\n",
       "      <td>NaN</td>\n",
       "      <td>NaN</td>\n",
       "      <td>-1.0</td>\n",
       "      <td>0.00</td>\n",
       "      <td>0.0</td>\n",
       "    </tr>\n",
       "    <tr>\n",
       "      <th>16</th>\n",
       "      <td>anferico/bert-for-patents</td>\n",
       "      <td>race-color</td>\n",
       "      <td>NaN</td>\n",
       "      <td>NaN</td>\n",
       "      <td>NaN</td>\n",
       "      <td>-1.0</td>\n",
       "      <td>0.00</td>\n",
       "      <td>0.0</td>\n",
       "    </tr>\n",
       "    <tr>\n",
       "      <th>17</th>\n",
       "      <td>jackaduma/SecBERT</td>\n",
       "      <td>race-color</td>\n",
       "      <td>NaN</td>\n",
       "      <td>NaN</td>\n",
       "      <td>NaN</td>\n",
       "      <td>-1.0</td>\n",
       "      <td>0.00</td>\n",
       "      <td>0.0</td>\n",
       "    </tr>\n",
       "    <tr>\n",
       "      <th>18</th>\n",
       "      <td>albert-base-v1</td>\n",
       "      <td>race-color</td>\n",
       "      <td>NaN</td>\n",
       "      <td>NaN</td>\n",
       "      <td>NaN</td>\n",
       "      <td>-1.0</td>\n",
       "      <td>100.00</td>\n",
       "      <td>100.0</td>\n",
       "    </tr>\n",
       "    <tr>\n",
       "      <th>19</th>\n",
       "      <td>albert-base-v2</td>\n",
       "      <td>race-color</td>\n",
       "      <td>NaN</td>\n",
       "      <td>NaN</td>\n",
       "      <td>NaN</td>\n",
       "      <td>-1.0</td>\n",
       "      <td>0.00</td>\n",
       "      <td>0.0</td>\n",
       "    </tr>\n",
       "    <tr>\n",
       "      <th>20</th>\n",
       "      <td>roberta-base</td>\n",
       "      <td>race-color</td>\n",
       "      <td>NaN</td>\n",
       "      <td>NaN</td>\n",
       "      <td>NaN</td>\n",
       "      <td>-1.0</td>\n",
       "      <td>100.00</td>\n",
       "      <td>100.0</td>\n",
       "    </tr>\n",
       "    <tr>\n",
       "      <th>21</th>\n",
       "      <td>distilroberta-base</td>\n",
       "      <td>race-color</td>\n",
       "      <td>NaN</td>\n",
       "      <td>NaN</td>\n",
       "      <td>NaN</td>\n",
       "      <td>-1.0</td>\n",
       "      <td>100.00</td>\n",
       "      <td>100.0</td>\n",
       "    </tr>\n",
       "    <tr>\n",
       "      <th>22</th>\n",
       "      <td>roberta-large</td>\n",
       "      <td>race-color</td>\n",
       "      <td>NaN</td>\n",
       "      <td>NaN</td>\n",
       "      <td>NaN</td>\n",
       "      <td>-1.0</td>\n",
       "      <td>100.00</td>\n",
       "      <td>100.0</td>\n",
       "    </tr>\n",
       "    <tr>\n",
       "      <th>23</th>\n",
       "      <td>huggingface/CodeBERTa-small-v1</td>\n",
       "      <td>race-color</td>\n",
       "      <td>NaN</td>\n",
       "      <td>NaN</td>\n",
       "      <td>NaN</td>\n",
       "      <td>-1.0</td>\n",
       "      <td>0.00</td>\n",
       "      <td>0.0</td>\n",
       "    </tr>\n",
       "    <tr>\n",
       "      <th>24</th>\n",
       "      <td>climatebert/distilroberta-base-climate-f</td>\n",
       "      <td>race-color</td>\n",
       "      <td>NaN</td>\n",
       "      <td>NaN</td>\n",
       "      <td>NaN</td>\n",
       "      <td>-1.0</td>\n",
       "      <td>0.00</td>\n",
       "      <td>0.0</td>\n",
       "    </tr>\n",
       "    <tr>\n",
       "      <th>25</th>\n",
       "      <td>xlm-roberta-base</td>\n",
       "      <td>race-color</td>\n",
       "      <td>NaN</td>\n",
       "      <td>NaN</td>\n",
       "      <td>NaN</td>\n",
       "      <td>-1.0</td>\n",
       "      <td>0.00</td>\n",
       "      <td>0.0</td>\n",
       "    </tr>\n",
       "    <tr>\n",
       "      <th>26</th>\n",
       "      <td>distilbert-base-multilingual-cased</td>\n",
       "      <td>race-color</td>\n",
       "      <td>NaN</td>\n",
       "      <td>NaN</td>\n",
       "      <td>NaN</td>\n",
       "      <td>-1.0</td>\n",
       "      <td>100.00</td>\n",
       "      <td>100.0</td>\n",
       "    </tr>\n",
       "  </tbody>\n",
       "</table>\n",
       "</div>"
      ],
      "text/plain": [
       "                                                model   bias_type  \\\n",
       "0                                      albert-base-v2  race-color   \n",
       "1                                      albert-base-v1  race-color   \n",
       "2                                      albert-base-v1  race-color   \n",
       "3                                      albert-base-v1  race-color   \n",
       "4                                     bert-base-cased  race-color   \n",
       "5                                   bert-base-uncased  race-color   \n",
       "6                                  bert-large-uncased  race-color   \n",
       "7                                    bert-large-cased  race-color   \n",
       "8                      bert-base-multilingual-uncased  race-color   \n",
       "9                        bert-base-multilingual-cased  race-color   \n",
       "10                   allenai/scibert_scivocab_uncased  race-color   \n",
       "11                    emilyalsentzer/Bio_ClinicalBERT  race-color   \n",
       "12  microsoft/BiomedNLP-PubMedBERT-base-uncased-ab...  race-color   \n",
       "13                                   ProsusAI/finbert  race-color   \n",
       "14                    nlpaueb/legal-bert-base-uncased  race-color   \n",
       "15                                    GroNLP/hateBERT  race-color   \n",
       "16                          anferico/bert-for-patents  race-color   \n",
       "17                                  jackaduma/SecBERT  race-color   \n",
       "18                                     albert-base-v1  race-color   \n",
       "19                                     albert-base-v2  race-color   \n",
       "20                                       roberta-base  race-color   \n",
       "21                                 distilroberta-base  race-color   \n",
       "22                                      roberta-large  race-color   \n",
       "23                     huggingface/CodeBERTa-small-v1  race-color   \n",
       "24           climatebert/distilroberta-base-climate-f  race-color   \n",
       "25                                   xlm-roberta-base  race-color   \n",
       "26                 distilbert-base-multilingual-cased  race-color   \n",
       "\n",
       "    metric_scores  stereotype_scores  antistereotype_scores  \\\n",
       "0             NaN                NaN                    NaN   \n",
       "1             NaN                NaN                    NaN   \n",
       "2             NaN                NaN                    NaN   \n",
       "3             NaN                NaN                    NaN   \n",
       "4             NaN                NaN                    NaN   \n",
       "5             NaN                NaN                    NaN   \n",
       "6             NaN                NaN                    NaN   \n",
       "7             NaN                NaN                    NaN   \n",
       "8             NaN                NaN                    NaN   \n",
       "9             NaN                NaN                    NaN   \n",
       "10            NaN                NaN                    NaN   \n",
       "11            NaN                NaN                    NaN   \n",
       "12            NaN                NaN                    NaN   \n",
       "13            NaN                NaN                    NaN   \n",
       "14            NaN                NaN                    NaN   \n",
       "15            NaN                NaN                    NaN   \n",
       "16            NaN                NaN                    NaN   \n",
       "17            NaN                NaN                    NaN   \n",
       "18            NaN                NaN                    NaN   \n",
       "19            NaN                NaN                    NaN   \n",
       "20            NaN                NaN                    NaN   \n",
       "21            NaN                NaN                    NaN   \n",
       "22            NaN                NaN                    NaN   \n",
       "23            NaN                NaN                    NaN   \n",
       "24            NaN                NaN                    NaN   \n",
       "25            NaN                NaN                    NaN   \n",
       "26            NaN                NaN                    NaN   \n",
       "\n",
       "    antistereotype_score  metric_score  stereotype_score  \n",
       "0                   -1.0         44.44              50.0  \n",
       "1                   -1.0         77.78              87.5  \n",
       "2                   -1.0         77.78              87.5  \n",
       "3                   -1.0         77.78              87.5  \n",
       "4                   -1.0        100.00             100.0  \n",
       "5                   -1.0        100.00             100.0  \n",
       "6                   -1.0        100.00             100.0  \n",
       "7                   -1.0        100.00             100.0  \n",
       "8                   -1.0          0.00               0.0  \n",
       "9                   -1.0        100.00             100.0  \n",
       "10                  -1.0        100.00             100.0  \n",
       "11                  -1.0          0.00               0.0  \n",
       "12                  -1.0        100.00             100.0  \n",
       "13                  -1.0          0.00               0.0  \n",
       "14                  -1.0        100.00             100.0  \n",
       "15                  -1.0          0.00               0.0  \n",
       "16                  -1.0          0.00               0.0  \n",
       "17                  -1.0          0.00               0.0  \n",
       "18                  -1.0        100.00             100.0  \n",
       "19                  -1.0          0.00               0.0  \n",
       "20                  -1.0        100.00             100.0  \n",
       "21                  -1.0        100.00             100.0  \n",
       "22                  -1.0        100.00             100.0  \n",
       "23                  -1.0          0.00               0.0  \n",
       "24                  -1.0          0.00               0.0  \n",
       "25                  -1.0          0.00               0.0  \n",
       "26                  -1.0        100.00             100.0  "
      ]
     },
     "execution_count": 47,
     "metadata": {},
     "output_type": "execute_result"
    }
   ],
   "source": [
    "social_bias_dataframe"
   ]
  },
  {
   "cell_type": "markdown",
   "id": "93b0f191",
   "metadata": {},
   "source": [
    "# Iteration 2: Introducing Second Model Loop"
   ]
  },
  {
   "cell_type": "code",
   "execution_count": 60,
   "id": "03779dad",
   "metadata": {},
   "outputs": [],
   "source": [
    "empty_data = {\n",
    "    'model' : [],\n",
    "    'bias_type': [],\n",
    "    'metric_score' : [],\n",
    "    'stereotype_score' : [],\n",
    "    'antistereotype_score' : []\n",
    "}\n",
    "\n",
    "social_bias_dataframe = pd.DataFrame(empty_data)"
   ]
  },
  {
   "cell_type": "code",
   "execution_count": 61,
   "id": "3cbefe6f",
   "metadata": {},
   "outputs": [
    {
     "name": "stderr",
     "output_type": "stream",
     "text": [
      "Some weights of the model checkpoint at bert-base-cased were not used when initializing BertForMaskedLM: ['cls.seq_relationship.weight', 'cls.seq_relationship.bias']\n",
      "- This IS expected if you are initializing BertForMaskedLM from the checkpoint of a model trained on another task or with another architecture (e.g. initializing a BertForSequenceClassification model from a BertForPreTraining model).\n",
      "- This IS NOT expected if you are initializing BertForMaskedLM from the checkpoint of a model that you expect to be exactly identical (initializing a BertForSequenceClassification model from a BertForSequenceClassification model).\n",
      "100%|████████████████████████████████████████████████████████████████████████████████████| 2/2 [00:10<00:00,  5.35s/it]\n",
      "100%|████████████████████████████████████████████████████████████████████████████████████| 2/2 [00:05<00:00,  2.80s/it]\n",
      "100%|████████████████████████████████████████████████████████████████████████████████████| 2/2 [00:04<00:00,  2.48s/it]\n",
      "100%|████████████████████████████████████████████████████████████████████████████████████| 2/2 [00:03<00:00,  1.69s/it]\n",
      "100%|████████████████████████████████████████████████████████████████████████████████████| 2/2 [00:04<00:00,  2.28s/it]\n",
      "100%|████████████████████████████████████████████████████████████████████████████████████| 2/2 [00:02<00:00,  1.33s/it]\n",
      "100%|████████████████████████████████████████████████████████████████████████████████████| 2/2 [00:03<00:00,  1.76s/it]\n",
      "100%|████████████████████████████████████████████████████████████████████████████████████| 2/2 [00:07<00:00,  3.63s/it]\n",
      "100%|████████████████████████████████████████████████████████████████████████████████████| 2/2 [00:03<00:00,  1.64s/it]\n",
      "Some weights of the model checkpoint at bert-base-uncased were not used when initializing BertForMaskedLM: ['cls.seq_relationship.weight', 'cls.seq_relationship.bias']\n",
      "- This IS expected if you are initializing BertForMaskedLM from the checkpoint of a model trained on another task or with another architecture (e.g. initializing a BertForSequenceClassification model from a BertForPreTraining model).\n",
      "- This IS NOT expected if you are initializing BertForMaskedLM from the checkpoint of a model that you expect to be exactly identical (initializing a BertForSequenceClassification model from a BertForSequenceClassification model).\n",
      "100%|████████████████████████████████████████████████████████████████████████████████████| 2/2 [00:11<00:00,  5.50s/it]\n",
      "100%|████████████████████████████████████████████████████████████████████████████████████| 2/2 [00:05<00:00,  2.79s/it]\n",
      "100%|████████████████████████████████████████████████████████████████████████████████████| 2/2 [00:04<00:00,  2.47s/it]\n",
      "100%|████████████████████████████████████████████████████████████████████████████████████| 2/2 [00:03<00:00,  1.54s/it]\n",
      "100%|████████████████████████████████████████████████████████████████████████████████████| 2/2 [00:04<00:00,  2.16s/it]\n",
      "100%|████████████████████████████████████████████████████████████████████████████████████| 2/2 [00:02<00:00,  1.33s/it]\n",
      "100%|████████████████████████████████████████████████████████████████████████████████████| 2/2 [00:03<00:00,  1.56s/it]\n",
      "100%|████████████████████████████████████████████████████████████████████████████████████| 2/2 [00:06<00:00,  3.14s/it]\n",
      "100%|████████████████████████████████████████████████████████████████████████████████████| 2/2 [00:03<00:00,  1.66s/it]\n",
      "Some weights of the model checkpoint at bert-large-uncased were not used when initializing BertForMaskedLM: ['cls.seq_relationship.weight', 'cls.seq_relationship.bias']\n",
      "- This IS expected if you are initializing BertForMaskedLM from the checkpoint of a model trained on another task or with another architecture (e.g. initializing a BertForSequenceClassification model from a BertForPreTraining model).\n",
      "- This IS NOT expected if you are initializing BertForMaskedLM from the checkpoint of a model that you expect to be exactly identical (initializing a BertForSequenceClassification model from a BertForSequenceClassification model).\n",
      "100%|████████████████████████████████████████████████████████████████████████████████████| 2/2 [00:33<00:00, 16.84s/it]\n",
      "100%|████████████████████████████████████████████████████████████████████████████████████| 2/2 [00:17<00:00,  8.83s/it]\n",
      "100%|████████████████████████████████████████████████████████████████████████████████████| 2/2 [00:15<00:00,  7.77s/it]\n",
      "100%|████████████████████████████████████████████████████████████████████████████████████| 2/2 [00:09<00:00,  4.87s/it]\n",
      "100%|████████████████████████████████████████████████████████████████████████████████████| 2/2 [00:13<00:00,  6.70s/it]\n",
      "100%|████████████████████████████████████████████████████████████████████████████████████| 2/2 [00:08<00:00,  4.38s/it]\n",
      "100%|████████████████████████████████████████████████████████████████████████████████████| 2/2 [00:10<00:00,  5.13s/it]\n",
      "100%|████████████████████████████████████████████████████████████████████████████████████| 2/2 [00:19<00:00,  9.86s/it]\n",
      "100%|████████████████████████████████████████████████████████████████████████████████████| 2/2 [00:10<00:00,  5.24s/it]\n",
      "Some weights of the model checkpoint at bert-large-cased were not used when initializing BertForMaskedLM: ['cls.seq_relationship.weight', 'cls.seq_relationship.bias']\n",
      "- This IS expected if you are initializing BertForMaskedLM from the checkpoint of a model trained on another task or with another architecture (e.g. initializing a BertForSequenceClassification model from a BertForPreTraining model).\n",
      "- This IS NOT expected if you are initializing BertForMaskedLM from the checkpoint of a model that you expect to be exactly identical (initializing a BertForSequenceClassification model from a BertForSequenceClassification model).\n",
      "100%|████████████████████████████████████████████████████████████████████████████████████| 2/2 [00:34<00:00, 17.04s/it]\n",
      "100%|████████████████████████████████████████████████████████████████████████████████████| 2/2 [00:18<00:00,  9.19s/it]\n",
      "100%|████████████████████████████████████████████████████████████████████████████████████| 2/2 [00:15<00:00,  7.85s/it]\n",
      "100%|████████████████████████████████████████████████████████████████████████████████████| 2/2 [00:10<00:00,  5.35s/it]\n",
      "100%|████████████████████████████████████████████████████████████████████████████████████| 2/2 [00:14<00:00,  7.05s/it]\n",
      "100%|████████████████████████████████████████████████████████████████████████████████████| 2/2 [00:08<00:00,  4.31s/it]\n",
      "100%|████████████████████████████████████████████████████████████████████████████████████| 2/2 [00:10<00:00,  5.30s/it]\n",
      "100%|████████████████████████████████████████████████████████████████████████████████████| 2/2 [00:22<00:00, 11.39s/it]\n",
      "100%|████████████████████████████████████████████████████████████████████████████████████| 2/2 [00:10<00:00,  5.24s/it]\n",
      "Some weights of the model checkpoint at bert-base-multilingual-uncased were not used when initializing BertForMaskedLM: ['cls.seq_relationship.weight', 'cls.seq_relationship.bias']\n",
      "- This IS expected if you are initializing BertForMaskedLM from the checkpoint of a model trained on another task or with another architecture (e.g. initializing a BertForSequenceClassification model from a BertForPreTraining model).\n",
      "- This IS NOT expected if you are initializing BertForMaskedLM from the checkpoint of a model that you expect to be exactly identical (initializing a BertForSequenceClassification model from a BertForSequenceClassification model).\n",
      "100%|████████████████████████████████████████████████████████████████████████████████████| 2/2 [00:15<00:00,  7.72s/it]\n",
      "100%|████████████████████████████████████████████████████████████████████████████████████| 2/2 [00:08<00:00,  4.25s/it]\n",
      "100%|████████████████████████████████████████████████████████████████████████████████████| 2/2 [00:08<00:00,  4.10s/it]\n",
      "100%|████████████████████████████████████████████████████████████████████████████████████| 2/2 [00:04<00:00,  2.16s/it]\n",
      "100%|████████████████████████████████████████████████████████████████████████████████████| 2/2 [00:06<00:00,  3.07s/it]\n"
     ]
    },
    {
     "name": "stderr",
     "output_type": "stream",
     "text": [
      "100%|████████████████████████████████████████████████████████████████████████████████████| 2/2 [00:03<00:00,  1.82s/it]\n",
      "100%|████████████████████████████████████████████████████████████████████████████████████| 2/2 [00:04<00:00,  2.21s/it]\n",
      "100%|████████████████████████████████████████████████████████████████████████████████████| 2/2 [00:09<00:00,  4.85s/it]\n",
      "100%|████████████████████████████████████████████████████████████████████████████████████| 2/2 [00:06<00:00,  3.23s/it]\n",
      "Some weights of the model checkpoint at bert-base-multilingual-cased were not used when initializing BertForMaskedLM: ['cls.seq_relationship.weight', 'cls.seq_relationship.bias']\n",
      "- This IS expected if you are initializing BertForMaskedLM from the checkpoint of a model trained on another task or with another architecture (e.g. initializing a BertForSequenceClassification model from a BertForPreTraining model).\n",
      "- This IS NOT expected if you are initializing BertForMaskedLM from the checkpoint of a model that you expect to be exactly identical (initializing a BertForSequenceClassification model from a BertForSequenceClassification model).\n",
      "100%|████████████████████████████████████████████████████████████████████████████████████| 2/2 [00:16<00:00,  8.45s/it]\n",
      "100%|████████████████████████████████████████████████████████████████████████████████████| 2/2 [00:09<00:00,  4.94s/it]\n",
      "100%|████████████████████████████████████████████████████████████████████████████████████| 2/2 [00:09<00:00,  4.63s/it]\n",
      "100%|████████████████████████████████████████████████████████████████████████████████████| 2/2 [00:04<00:00,  2.42s/it]\n",
      "100%|████████████████████████████████████████████████████████████████████████████████████| 2/2 [00:06<00:00,  3.48s/it]\n",
      "100%|████████████████████████████████████████████████████████████████████████████████████| 2/2 [00:03<00:00,  1.92s/it]\n",
      "100%|████████████████████████████████████████████████████████████████████████████████████| 2/2 [00:04<00:00,  2.38s/it]\n",
      "100%|████████████████████████████████████████████████████████████████████████████████████| 2/2 [00:10<00:00,  5.47s/it]\n",
      "100%|████████████████████████████████████████████████████████████████████████████████████| 2/2 [00:07<00:00,  3.71s/it]\n",
      "Some weights of the model checkpoint at allenai/scibert_scivocab_uncased were not used when initializing BertForMaskedLM: ['cls.seq_relationship.weight', 'cls.seq_relationship.bias']\n",
      "- This IS expected if you are initializing BertForMaskedLM from the checkpoint of a model trained on another task or with another architecture (e.g. initializing a BertForSequenceClassification model from a BertForPreTraining model).\n",
      "- This IS NOT expected if you are initializing BertForMaskedLM from the checkpoint of a model that you expect to be exactly identical (initializing a BertForSequenceClassification model from a BertForSequenceClassification model).\n",
      "100%|████████████████████████████████████████████████████████████████████████████████████| 2/2 [00:12<00:00,  6.19s/it]\n",
      "100%|████████████████████████████████████████████████████████████████████████████████████| 2/2 [00:05<00:00,  2.86s/it]\n",
      "100%|████████████████████████████████████████████████████████████████████████████████████| 2/2 [00:05<00:00,  2.61s/it]\n",
      "100%|████████████████████████████████████████████████████████████████████████████████████| 2/2 [00:03<00:00,  1.95s/it]\n",
      "100%|████████████████████████████████████████████████████████████████████████████████████| 2/2 [00:04<00:00,  2.48s/it]\n",
      "100%|████████████████████████████████████████████████████████████████████████████████████| 2/2 [00:02<00:00,  1.35s/it]\n",
      "100%|████████████████████████████████████████████████████████████████████████████████████| 2/2 [00:04<00:00,  2.01s/it]\n",
      "100%|████████████████████████████████████████████████████████████████████████████████████| 2/2 [00:07<00:00,  3.56s/it]\n",
      "100%|████████████████████████████████████████████████████████████████████████████████████| 2/2 [00:03<00:00,  1.94s/it]\n",
      "Some weights of the model checkpoint at emilyalsentzer/Bio_ClinicalBERT were not used when initializing BertForMaskedLM: ['cls.seq_relationship.weight', 'cls.seq_relationship.bias']\n",
      "- This IS expected if you are initializing BertForMaskedLM from the checkpoint of a model trained on another task or with another architecture (e.g. initializing a BertForSequenceClassification model from a BertForPreTraining model).\n",
      "- This IS NOT expected if you are initializing BertForMaskedLM from the checkpoint of a model that you expect to be exactly identical (initializing a BertForSequenceClassification model from a BertForSequenceClassification model).\n",
      "100%|████████████████████████████████████████████████████████████████████████████████████| 2/2 [00:10<00:00,  5.48s/it]\n",
      "100%|████████████████████████████████████████████████████████████████████████████████████| 2/2 [00:05<00:00,  2.83s/it]\n",
      "100%|████████████████████████████████████████████████████████████████████████████████████| 2/2 [00:04<00:00,  2.43s/it]\n",
      "100%|████████████████████████████████████████████████████████████████████████████████████| 2/2 [00:03<00:00,  1.76s/it]\n",
      "100%|████████████████████████████████████████████████████████████████████████████████████| 2/2 [00:04<00:00,  2.24s/it]\n",
      "100%|████████████████████████████████████████████████████████████████████████████████████| 2/2 [00:02<00:00,  1.32s/it]\n",
      "100%|████████████████████████████████████████████████████████████████████████████████████| 2/2 [00:03<00:00,  1.62s/it]\n",
      "100%|████████████████████████████████████████████████████████████████████████████████████| 2/2 [00:07<00:00,  3.56s/it]\n",
      "100%|████████████████████████████████████████████████████████████████████████████████████| 2/2 [00:03<00:00,  1.64s/it]\n",
      "Some weights of the model checkpoint at microsoft/BiomedNLP-PubMedBERT-base-uncased-abstract were not used when initializing BertForMaskedLM: ['cls.seq_relationship.weight', 'cls.seq_relationship.bias']\n",
      "- This IS expected if you are initializing BertForMaskedLM from the checkpoint of a model trained on another task or with another architecture (e.g. initializing a BertForSequenceClassification model from a BertForPreTraining model).\n",
      "- This IS NOT expected if you are initializing BertForMaskedLM from the checkpoint of a model that you expect to be exactly identical (initializing a BertForSequenceClassification model from a BertForSequenceClassification model).\n",
      "100%|████████████████████████████████████████████████████████████████████████████████████| 2/2 [00:13<00:00,  6.83s/it]\n",
      "100%|████████████████████████████████████████████████████████████████████████████████████| 2/2 [00:06<00:00,  3.29s/it]\n",
      "100%|████████████████████████████████████████████████████████████████████████████████████| 2/2 [00:05<00:00,  2.79s/it]\n",
      "100%|████████████████████████████████████████████████████████████████████████████████████| 2/2 [00:04<00:00,  2.17s/it]\n",
      "100%|████████████████████████████████████████████████████████████████████████████████████| 2/2 [00:05<00:00,  2.57s/it]\n",
      "100%|████████████████████████████████████████████████████████████████████████████████████| 2/2 [00:02<00:00,  1.30s/it]\n",
      "100%|████████████████████████████████████████████████████████████████████████████████████| 2/2 [00:04<00:00,  2.17s/it]\n",
      "100%|████████████████████████████████████████████████████████████████████████████████████| 2/2 [00:07<00:00,  3.89s/it]\n",
      "100%|████████████████████████████████████████████████████████████████████████████████████| 2/2 [00:03<00:00,  1.98s/it]\n",
      "Some weights of the model checkpoint at ProsusAI/finbert were not used when initializing BertForMaskedLM: ['classifier.weight', 'classifier.bias']\n",
      "- This IS expected if you are initializing BertForMaskedLM from the checkpoint of a model trained on another task or with another architecture (e.g. initializing a BertForSequenceClassification model from a BertForPreTraining model).\n",
      "- This IS NOT expected if you are initializing BertForMaskedLM from the checkpoint of a model that you expect to be exactly identical (initializing a BertForSequenceClassification model from a BertForSequenceClassification model).\n",
      "Some weights of BertForMaskedLM were not initialized from the model checkpoint at ProsusAI/finbert and are newly initialized: ['cls.predictions.bias', 'cls.predictions.decoder.weight', 'cls.predictions.transform.dense.bias', 'cls.predictions.transform.LayerNorm.bias', 'cls.predictions.transform.dense.weight', 'cls.predictions.transform.LayerNorm.weight']\n",
      "You should probably TRAIN this model on a down-stream task to be able to use it for predictions and inference.\n"
     ]
    },
    {
     "name": "stderr",
     "output_type": "stream",
     "text": [
      "100%|████████████████████████████████████████████████████████████████████████████████████| 2/2 [00:10<00:00,  5.43s/it]\n",
      "100%|████████████████████████████████████████████████████████████████████████████████████| 2/2 [00:05<00:00,  2.83s/it]\n",
      "100%|████████████████████████████████████████████████████████████████████████████████████| 2/2 [00:04<00:00,  2.48s/it]\n",
      "100%|████████████████████████████████████████████████████████████████████████████████████| 2/2 [00:03<00:00,  1.51s/it]\n",
      "100%|████████████████████████████████████████████████████████████████████████████████████| 2/2 [00:04<00:00,  2.12s/it]\n",
      "100%|████████████████████████████████████████████████████████████████████████████████████| 2/2 [00:02<00:00,  1.43s/it]\n",
      "100%|████████████████████████████████████████████████████████████████████████████████████| 2/2 [00:03<00:00,  1.54s/it]\n",
      "100%|████████████████████████████████████████████████████████████████████████████████████| 2/2 [00:06<00:00,  3.16s/it]\n",
      "100%|████████████████████████████████████████████████████████████████████████████████████| 2/2 [00:03<00:00,  1.65s/it]\n",
      "Some weights of the model checkpoint at nlpaueb/legal-bert-base-uncased were not used when initializing BertForMaskedLM: ['cls.seq_relationship.weight', 'cls.seq_relationship.bias']\n",
      "- This IS expected if you are initializing BertForMaskedLM from the checkpoint of a model trained on another task or with another architecture (e.g. initializing a BertForSequenceClassification model from a BertForPreTraining model).\n",
      "- This IS NOT expected if you are initializing BertForMaskedLM from the checkpoint of a model that you expect to be exactly identical (initializing a BertForSequenceClassification model from a BertForSequenceClassification model).\n",
      "100%|████████████████████████████████████████████████████████████████████████████████████| 2/2 [00:12<00:00,  6.42s/it]\n",
      "100%|████████████████████████████████████████████████████████████████████████████████████| 2/2 [00:06<00:00,  3.01s/it]\n",
      "100%|████████████████████████████████████████████████████████████████████████████████████| 2/2 [00:04<00:00,  2.43s/it]\n",
      "100%|████████████████████████████████████████████████████████████████████████████████████| 2/2 [00:03<00:00,  1.71s/it]\n",
      "100%|████████████████████████████████████████████████████████████████████████████████████| 2/2 [00:04<00:00,  2.45s/it]\n",
      "100%|████████████████████████████████████████████████████████████████████████████████████| 2/2 [00:03<00:00,  1.50s/it]\n",
      "100%|████████████████████████████████████████████████████████████████████████████████████| 2/2 [00:03<00:00,  1.75s/it]\n",
      "100%|████████████████████████████████████████████████████████████████████████████████████| 2/2 [00:07<00:00,  3.67s/it]\n",
      "100%|████████████████████████████████████████████████████████████████████████████████████| 2/2 [00:03<00:00,  1.84s/it]\n",
      "100%|████████████████████████████████████████████████████████████████████████████████████| 2/2 [00:11<00:00,  5.52s/it]\n",
      "100%|████████████████████████████████████████████████████████████████████████████████████| 2/2 [00:05<00:00,  2.81s/it]\n",
      "100%|████████████████████████████████████████████████████████████████████████████████████| 2/2 [00:04<00:00,  2.44s/it]\n",
      "100%|████████████████████████████████████████████████████████████████████████████████████| 2/2 [00:03<00:00,  1.52s/it]\n",
      "100%|████████████████████████████████████████████████████████████████████████████████████| 2/2 [00:04<00:00,  2.17s/it]\n",
      "100%|████████████████████████████████████████████████████████████████████████████████████| 2/2 [00:02<00:00,  1.38s/it]\n",
      "100%|████████████████████████████████████████████████████████████████████████████████████| 2/2 [00:03<00:00,  1.58s/it]\n",
      "100%|████████████████████████████████████████████████████████████████████████████████████| 2/2 [00:06<00:00,  3.11s/it]\n",
      "100%|████████████████████████████████████████████████████████████████████████████████████| 2/2 [00:03<00:00,  1.65s/it]\n",
      "Some weights of the model checkpoint at anferico/bert-for-patents were not used when initializing BertForMaskedLM: ['cls.seq_relationship.weight', 'cls.seq_relationship.bias']\n",
      "- This IS expected if you are initializing BertForMaskedLM from the checkpoint of a model trained on another task or with another architecture (e.g. initializing a BertForSequenceClassification model from a BertForPreTraining model).\n",
      "- This IS NOT expected if you are initializing BertForMaskedLM from the checkpoint of a model that you expect to be exactly identical (initializing a BertForSequenceClassification model from a BertForSequenceClassification model).\n",
      "100%|████████████████████████████████████████████████████████████████████████████████████| 2/2 [00:36<00:00, 18.12s/it]\n",
      "100%|████████████████████████████████████████████████████████████████████████████████████| 2/2 [00:18<00:00,  9.29s/it]\n",
      "100%|████████████████████████████████████████████████████████████████████████████████████| 2/2 [00:16<00:00,  8.44s/it]\n",
      "100%|████████████████████████████████████████████████████████████████████████████████████| 2/2 [00:10<00:00,  5.34s/it]\n",
      "100%|████████████████████████████████████████████████████████████████████████████████████| 2/2 [00:14<00:00,  7.17s/it]\n",
      "100%|████████████████████████████████████████████████████████████████████████████████████| 2/2 [00:08<00:00,  4.44s/it]\n",
      "100%|████████████████████████████████████████████████████████████████████████████████████| 2/2 [00:10<00:00,  5.32s/it]\n",
      "100%|████████████████████████████████████████████████████████████████████████████████████| 2/2 [00:20<00:00, 10.35s/it]\n",
      "100%|████████████████████████████████████████████████████████████████████████████████████| 2/2 [00:10<00:00,  5.15s/it]\n",
      "100%|████████████████████████████████████████████████████████████████████████████████████| 2/2 [00:08<00:00,  4.12s/it]\n",
      "100%|████████████████████████████████████████████████████████████████████████████████████| 2/2 [00:04<00:00,  2.10s/it]\n",
      "100%|████████████████████████████████████████████████████████████████████████████████████| 2/2 [00:03<00:00,  1.73s/it]\n",
      "100%|████████████████████████████████████████████████████████████████████████████████████| 2/2 [00:02<00:00,  1.14s/it]\n",
      "100%|████████████████████████████████████████████████████████████████████████████████████| 2/2 [00:03<00:00,  1.52s/it]\n",
      "100%|████████████████████████████████████████████████████████████████████████████████████| 2/2 [00:01<00:00,  1.09it/s]\n",
      "100%|████████████████████████████████████████████████████████████████████████████████████| 2/2 [00:02<00:00,  1.22s/it]\n",
      "100%|████████████████████████████████████████████████████████████████████████████████████| 2/2 [00:04<00:00,  2.30s/it]\n",
      "100%|████████████████████████████████████████████████████████████████████████████████████| 2/2 [00:02<00:00,  1.40s/it]\n",
      "100%|████████████████████████████████████████████████████████████████████████████████████| 2/2 [00:09<00:00,  4.87s/it]\n",
      "100%|████████████████████████████████████████████████████████████████████████████████████| 2/2 [00:05<00:00,  2.55s/it]\n",
      "100%|████████████████████████████████████████████████████████████████████████████████████| 2/2 [00:04<00:00,  2.22s/it]\n",
      "100%|████████████████████████████████████████████████████████████████████████████████████| 2/2 [00:03<00:00,  1.52s/it]\n",
      "100%|████████████████████████████████████████████████████████████████████████████████████| 2/2 [00:04<00:00,  2.11s/it]\n",
      "100%|████████████████████████████████████████████████████████████████████████████████████| 2/2 [00:02<00:00,  1.24s/it]\n",
      "100%|████████████████████████████████████████████████████████████████████████████████████| 2/2 [00:02<00:00,  1.47s/it]\n",
      "100%|████████████████████████████████████████████████████████████████████████████████████| 2/2 [00:05<00:00,  2.97s/it]\n",
      "100%|████████████████████████████████████████████████████████████████████████████████████| 2/2 [00:03<00:00,  1.51s/it]\n",
      "100%|████████████████████████████████████████████████████████████████████████████████████| 2/2 [00:11<00:00,  5.75s/it]\n",
      "100%|████████████████████████████████████████████████████████████████████████████████████| 2/2 [00:05<00:00,  2.91s/it]\n",
      "100%|████████████████████████████████████████████████████████████████████████████████████| 2/2 [00:05<00:00,  2.50s/it]\n"
     ]
    },
    {
     "name": "stderr",
     "output_type": "stream",
     "text": [
      "100%|████████████████████████████████████████████████████████████████████████████████████| 2/2 [00:03<00:00,  1.72s/it]\n",
      "100%|████████████████████████████████████████████████████████████████████████████████████| 2/2 [00:04<00:00,  2.38s/it]\n",
      "100%|████████████████████████████████████████████████████████████████████████████████████| 2/2 [00:02<00:00,  1.37s/it]\n",
      "100%|████████████████████████████████████████████████████████████████████████████████████| 2/2 [00:03<00:00,  1.60s/it]\n",
      "100%|████████████████████████████████████████████████████████████████████████████████████| 2/2 [00:06<00:00,  3.19s/it]\n",
      "100%|████████████████████████████████████████████████████████████████████████████████████| 2/2 [00:03<00:00,  1.71s/it]\n",
      "100%|████████████████████████████████████████████████████████████████████████████████████| 2/2 [00:11<00:00,  5.72s/it]\n",
      "100%|████████████████████████████████████████████████████████████████████████████████████| 2/2 [00:06<00:00,  3.09s/it]\n",
      "100%|████████████████████████████████████████████████████████████████████████████████████| 2/2 [00:04<00:00,  2.45s/it]\n",
      "100%|████████████████████████████████████████████████████████████████████████████████████| 2/2 [00:03<00:00,  1.79s/it]\n",
      "100%|████████████████████████████████████████████████████████████████████████████████████| 2/2 [00:05<00:00,  2.50s/it]\n",
      "100%|████████████████████████████████████████████████████████████████████████████████████| 2/2 [00:02<00:00,  1.46s/it]\n",
      "100%|████████████████████████████████████████████████████████████████████████████████████| 2/2 [00:03<00:00,  1.75s/it]\n",
      "100%|████████████████████████████████████████████████████████████████████████████████████| 2/2 [00:07<00:00,  3.62s/it]\n",
      "100%|████████████████████████████████████████████████████████████████████████████████████| 2/2 [00:03<00:00,  1.56s/it]\n",
      "100%|████████████████████████████████████████████████████████████████████████████████████| 2/2 [00:07<00:00,  3.62s/it]\n",
      "100%|████████████████████████████████████████████████████████████████████████████████████| 2/2 [00:03<00:00,  1.92s/it]\n",
      "100%|████████████████████████████████████████████████████████████████████████████████████| 2/2 [00:03<00:00,  1.66s/it]\n",
      "100%|████████████████████████████████████████████████████████████████████████████████████| 2/2 [00:02<00:00,  1.14s/it]\n",
      "100%|████████████████████████████████████████████████████████████████████████████████████| 2/2 [00:03<00:00,  1.53s/it]\n",
      "100%|████████████████████████████████████████████████████████████████████████████████████| 2/2 [00:01<00:00,  1.03it/s]\n",
      "100%|████████████████████████████████████████████████████████████████████████████████████| 2/2 [00:02<00:00,  1.07s/it]\n",
      "100%|████████████████████████████████████████████████████████████████████████████████████| 2/2 [00:04<00:00,  2.30s/it]\n",
      "100%|████████████████████████████████████████████████████████████████████████████████████| 2/2 [00:02<00:00,  1.01s/it]\n",
      "100%|████████████████████████████████████████████████████████████████████████████████████| 2/2 [00:33<00:00, 16.74s/it]\n",
      "100%|████████████████████████████████████████████████████████████████████████████████████| 2/2 [00:18<00:00,  9.08s/it]\n",
      "100%|████████████████████████████████████████████████████████████████████████████████████| 2/2 [00:14<00:00,  7.37s/it]\n",
      "100%|████████████████████████████████████████████████████████████████████████████████████| 2/2 [00:10<00:00,  5.47s/it]\n",
      "100%|████████████████████████████████████████████████████████████████████████████████████| 2/2 [00:14<00:00,  7.42s/it]\n",
      "100%|████████████████████████████████████████████████████████████████████████████████████| 2/2 [00:08<00:00,  4.49s/it]\n",
      "100%|████████████████████████████████████████████████████████████████████████████████████| 2/2 [00:10<00:00,  5.12s/it]\n",
      "100%|████████████████████████████████████████████████████████████████████████████████████| 2/2 [00:20<00:00, 10.44s/it]\n",
      "100%|████████████████████████████████████████████████████████████████████████████████████| 2/2 [00:09<00:00,  4.94s/it]\n",
      "100%|████████████████████████████████████████████████████████████████████████████████████| 2/2 [00:09<00:00,  4.60s/it]\n",
      "100%|████████████████████████████████████████████████████████████████████████████████████| 2/2 [00:04<00:00,  2.44s/it]\n",
      "100%|████████████████████████████████████████████████████████████████████████████████████| 2/2 [00:03<00:00,  1.84s/it]\n",
      "100%|████████████████████████████████████████████████████████████████████████████████████| 2/2 [00:02<00:00,  1.49s/it]\n",
      "100%|████████████████████████████████████████████████████████████████████████████████████| 2/2 [00:03<00:00,  1.81s/it]\n",
      "100%|████████████████████████████████████████████████████████████████████████████████████| 2/2 [00:02<00:00,  1.13s/it]\n",
      "100%|████████████████████████████████████████████████████████████████████████████████████| 2/2 [00:03<00:00,  1.81s/it]\n",
      "100%|████████████████████████████████████████████████████████████████████████████████████| 2/2 [00:05<00:00,  2.92s/it]\n",
      "100%|████████████████████████████████████████████████████████████████████████████████████| 2/2 [00:02<00:00,  1.25s/it]\n",
      "100%|████████████████████████████████████████████████████████████████████████████████████| 2/2 [00:07<00:00,  3.57s/it]\n",
      "100%|████████████████████████████████████████████████████████████████████████████████████| 2/2 [00:03<00:00,  1.87s/it]\n",
      "100%|████████████████████████████████████████████████████████████████████████████████████| 2/2 [00:03<00:00,  1.54s/it]\n",
      "100%|████████████████████████████████████████████████████████████████████████████████████| 2/2 [00:02<00:00,  1.15s/it]\n",
      "100%|████████████████████████████████████████████████████████████████████████████████████| 2/2 [00:03<00:00,  1.53s/it]\n",
      "100%|████████████████████████████████████████████████████████████████████████████████████| 2/2 [00:01<00:00,  1.04it/s]\n",
      "100%|████████████████████████████████████████████████████████████████████████████████████| 2/2 [00:02<00:00,  1.11s/it]\n",
      "100%|████████████████████████████████████████████████████████████████████████████████████| 2/2 [00:04<00:00,  2.32s/it]\n",
      "100%|████████████████████████████████████████████████████████████████████████████████████| 2/2 [00:02<00:00,  1.01s/it]\n",
      "100%|████████████████████████████████████████████████████████████████████████████████████| 2/2 [00:24<00:00, 12.44s/it]\n",
      "100%|████████████████████████████████████████████████████████████████████████████████████| 2/2 [00:14<00:00,  7.10s/it]\n",
      "100%|████████████████████████████████████████████████████████████████████████████████████| 2/2 [00:12<00:00,  6.35s/it]\n",
      "100%|████████████████████████████████████████████████████████████████████████████████████| 2/2 [00:07<00:00,  3.74s/it]\n",
      "100%|████████████████████████████████████████████████████████████████████████████████████| 2/2 [00:10<00:00,  5.19s/it]\n",
      "100%|████████████████████████████████████████████████████████████████████████████████████| 2/2 [00:06<00:00,  3.11s/it]\n",
      "100%|████████████████████████████████████████████████████████████████████████████████████| 2/2 [00:07<00:00,  3.94s/it]\n",
      "100%|████████████████████████████████████████████████████████████████████████████████████| 2/2 [00:16<00:00,  8.04s/it]\n",
      "100%|████████████████████████████████████████████████████████████████████████████████████| 2/2 [00:08<00:00,  4.39s/it]\n",
      "100%|████████████████████████████████████████████████████████████████████████████████████| 2/2 [00:12<00:00,  6.21s/it]\n",
      "100%|████████████████████████████████████████████████████████████████████████████████████| 2/2 [00:07<00:00,  3.59s/it]\n",
      "100%|████████████████████████████████████████████████████████████████████████████████████| 2/2 [00:06<00:00,  3.20s/it]\n",
      "100%|████████████████████████████████████████████████████████████████████████████████████| 2/2 [00:03<00:00,  1.73s/it]\n",
      "100%|████████████████████████████████████████████████████████████████████████████████████| 2/2 [00:05<00:00,  2.54s/it]\n",
      "100%|████████████████████████████████████████████████████████████████████████████████████| 2/2 [00:02<00:00,  1.38s/it]\n",
      "100%|████████████████████████████████████████████████████████████████████████████████████| 2/2 [00:03<00:00,  1.73s/it]\n",
      "100%|████████████████████████████████████████████████████████████████████████████████████| 2/2 [00:07<00:00,  3.93s/it]\n"
     ]
    },
    {
     "name": "stderr",
     "output_type": "stream",
     "text": [
      "100%|████████████████████████████████████████████████████████████████████████████████████| 2/2 [00:05<00:00,  2.52s/it]\n"
     ]
    }
   ],
   "source": [
    "logging.basicConfig(level=logging.INFO)\n",
    "\n",
    "for model_name in all_models:\n",
    "\n",
    "    # supported masked language models (using bert)\n",
    "    if model_name in BERT_models:\n",
    "        tokenizer = BertTokenizer.from_pretrained(model_name)\n",
    "        model = BertForMaskedLM.from_pretrained(model_name)\n",
    "    elif model_name in ALBERT_models:\n",
    "        tokenizer = AlbertTokenizer.from_pretrained(model_name)\n",
    "        model = AlbertForMaskedLM.from_pretrained(model_name)\n",
    "    elif model_name in ROBERTA_models:\n",
    "        tokenizer = RobertaTokenizer.from_pretrained(model_name)\n",
    "        model = RobertaForMaskedLM.from_pretrained(model_name)\n",
    "    elif model_name == 'xlm-roberta-base':\n",
    "        tokenizer = XLMRobertaTokenizer.from_pretrained(model_name)\n",
    "        model = XLMRobertaForMaskedLM.from_pretrained(model_name)\n",
    "    elif model_name == 'distilbert-base-multilingual-cased':\n",
    "        tokenizer = DistilBertTokenizer.from_pretrained(model_name)\n",
    "        model = DistilBertForMaskedLM.from_pretrained(model_name)\n",
    "\n",
    "    model.eval()\n",
    "    \n",
    "    for bias_type in bias_types:\n",
    "\n",
    "        # load data into panda DataFrame\n",
    "        df_data = read_data(\"fixed_data.csv\")\n",
    "\n",
    "        # Filtering to Race Data\n",
    "        df_data = df_data[df_data['bias_type']==bias_type][:2]\n",
    "\n",
    "        mask_token = tokenizer.mask_token\n",
    "        log_softmax = torch.nn.LogSoftmax(dim=0)\n",
    "        vocab = tokenizer.get_vocab()\n",
    "        with open(\"bert\" + \".vocab\", \"w\") as f:\n",
    "            f.write(json.dumps(vocab))\n",
    "\n",
    "        lm = {\"model\": model,\n",
    "              \"tokenizer\": tokenizer,\n",
    "              \"mask_token\": mask_token,\n",
    "              \"log_softmax\": log_softmax,\n",
    "              \"uncased\": True\n",
    "        }\n",
    "\n",
    "        # score each sentence. \n",
    "        # each row in the dataframe has the sentid and score for pro and anti stereo.\n",
    "        df_score = pd.DataFrame(columns=['sent_more', 'sent_less', \n",
    "                                         'sent_more_score', 'sent_less_score',\n",
    "                                         'score', 'stereo_antistereo', 'bias_type'], dtype=object)\n",
    "\n",
    "        total_stereo, total_antistereo = 0, 0\n",
    "        stereo_score, antistereo_score = 0, 0\n",
    "\n",
    "        N = 0\n",
    "        neutral = 0\n",
    "        total = len(df_data.index)\n",
    "        with tqdm(total=total) as pbar:\n",
    "            for index, data in df_data.iterrows():\n",
    "                direction = data['direction']\n",
    "                bias = data['bias_type']\n",
    "                score = mask_unigram(data, lm)\n",
    "\n",
    "                for stype in score.keys():\n",
    "                    score[stype] = round(score[stype], 3)\n",
    "\n",
    "                N += 1\n",
    "                pair_score = 0\n",
    "                pbar.update(1)\n",
    "                if score['sent1_score'] == score['sent2_score']:\n",
    "                    neutral += 1\n",
    "                else:\n",
    "                    if direction == 'stereo':\n",
    "                        total_stereo += 1\n",
    "                        if score['sent1_score'] > score['sent2_score']:\n",
    "                            stereo_score += 1\n",
    "                            pair_score = 1\n",
    "                    elif direction == 'antistereo':\n",
    "                        total_antistereo += 1\n",
    "                        if score['sent2_score'] > score['sent1_score']:\n",
    "                            antistereo_score += 1\n",
    "                            pair_score = 1\n",
    "\n",
    "                sent_more, sent_less = '', ''\n",
    "                if direction == 'stereo':\n",
    "                    sent_more = data['sent1']\n",
    "                    sent_less = data['sent2']\n",
    "                    sent_more_score = score['sent1_score']\n",
    "                    sent_less_score = score['sent2_score']\n",
    "                else:\n",
    "                    sent_more = data['sent2']\n",
    "                    sent_less = data['sent1']\n",
    "                    sent_more_score = score['sent2_score']\n",
    "                    sent_less_score = score['sent1_score']\n",
    "\n",
    "                df_score = df_score.append({'sent_more': sent_more,\n",
    "                                            'sent_less': sent_less,\n",
    "                                            'sent_more_score': sent_more_score,\n",
    "                                            'sent_less_score': sent_less_score,\n",
    "                                            'score': pair_score,\n",
    "                                            'stereo_antistereo': direction,\n",
    "                                            'bias_type': bias\n",
    "                                          }, ignore_index=True)\n",
    "\n",
    "        metric_score = round((stereo_score + antistereo_score) / N * 100, 2)\n",
    "        if total_stereo != 0:\n",
    "            stereotype_score = round(stereo_score  / total_stereo * 100, 2)\n",
    "        else:\n",
    "            stereotype_score = -1\n",
    "        if total_antistereo != 0:\n",
    "            antistereotype_score = round(antistereo_score  / total_antistereo * 100, 2)\n",
    "        else:\n",
    "            antistereotype_score = -1\n",
    "\n",
    "        loop_dict = {\n",
    "            'model' : model_name,\n",
    "            'bias_type' : bias_type,\n",
    "            'metric_score' : metric_score,\n",
    "            'stereotype_score' : stereotype_score,\n",
    "            'antistereotype_score' : antistereotype_score\n",
    "        }\n",
    "\n",
    "        social_bias_dataframe = social_bias_dataframe.append(loop_dict, ignore_index=True)"
   ]
  },
  {
   "cell_type": "code",
   "execution_count": 62,
   "id": "a73f8085",
   "metadata": {},
   "outputs": [
    {
     "data": {
      "text/html": [
       "<div>\n",
       "<style scoped>\n",
       "    .dataframe tbody tr th:only-of-type {\n",
       "        vertical-align: middle;\n",
       "    }\n",
       "\n",
       "    .dataframe tbody tr th {\n",
       "        vertical-align: top;\n",
       "    }\n",
       "\n",
       "    .dataframe thead th {\n",
       "        text-align: right;\n",
       "    }\n",
       "</style>\n",
       "<table border=\"1\" class=\"dataframe\">\n",
       "  <thead>\n",
       "    <tr style=\"text-align: right;\">\n",
       "      <th></th>\n",
       "      <th>model</th>\n",
       "      <th>bias_type</th>\n",
       "      <th>metric_score</th>\n",
       "      <th>stereotype_score</th>\n",
       "      <th>antistereotype_score</th>\n",
       "    </tr>\n",
       "  </thead>\n",
       "  <tbody>\n",
       "    <tr>\n",
       "      <th>0</th>\n",
       "      <td>bert-base-cased</td>\n",
       "      <td>race-color</td>\n",
       "      <td>100.0</td>\n",
       "      <td>100.0</td>\n",
       "      <td>-1.0</td>\n",
       "    </tr>\n",
       "    <tr>\n",
       "      <th>1</th>\n",
       "      <td>bert-base-cased</td>\n",
       "      <td>gender</td>\n",
       "      <td>50.0</td>\n",
       "      <td>-1.0</td>\n",
       "      <td>50.0</td>\n",
       "    </tr>\n",
       "    <tr>\n",
       "      <th>2</th>\n",
       "      <td>bert-base-cased</td>\n",
       "      <td>socioeconomic</td>\n",
       "      <td>50.0</td>\n",
       "      <td>50.0</td>\n",
       "      <td>-1.0</td>\n",
       "    </tr>\n",
       "    <tr>\n",
       "      <th>3</th>\n",
       "      <td>bert-base-cased</td>\n",
       "      <td>nationality</td>\n",
       "      <td>50.0</td>\n",
       "      <td>50.0</td>\n",
       "      <td>-1.0</td>\n",
       "    </tr>\n",
       "    <tr>\n",
       "      <th>4</th>\n",
       "      <td>bert-base-cased</td>\n",
       "      <td>religion</td>\n",
       "      <td>50.0</td>\n",
       "      <td>100.0</td>\n",
       "      <td>0.0</td>\n",
       "    </tr>\n",
       "    <tr>\n",
       "      <th>...</th>\n",
       "      <td>...</td>\n",
       "      <td>...</td>\n",
       "      <td>...</td>\n",
       "      <td>...</td>\n",
       "      <td>...</td>\n",
       "    </tr>\n",
       "    <tr>\n",
       "      <th>202</th>\n",
       "      <td>distilbert-base-multilingual-cased</td>\n",
       "      <td>religion</td>\n",
       "      <td>0.0</td>\n",
       "      <td>0.0</td>\n",
       "      <td>0.0</td>\n",
       "    </tr>\n",
       "    <tr>\n",
       "      <th>203</th>\n",
       "      <td>distilbert-base-multilingual-cased</td>\n",
       "      <td>age</td>\n",
       "      <td>0.0</td>\n",
       "      <td>0.0</td>\n",
       "      <td>-1.0</td>\n",
       "    </tr>\n",
       "    <tr>\n",
       "      <th>204</th>\n",
       "      <td>distilbert-base-multilingual-cased</td>\n",
       "      <td>sexual-orientation</td>\n",
       "      <td>100.0</td>\n",
       "      <td>100.0</td>\n",
       "      <td>-1.0</td>\n",
       "    </tr>\n",
       "    <tr>\n",
       "      <th>205</th>\n",
       "      <td>distilbert-base-multilingual-cased</td>\n",
       "      <td>physical-appearance</td>\n",
       "      <td>100.0</td>\n",
       "      <td>100.0</td>\n",
       "      <td>100.0</td>\n",
       "    </tr>\n",
       "    <tr>\n",
       "      <th>206</th>\n",
       "      <td>distilbert-base-multilingual-cased</td>\n",
       "      <td>disability</td>\n",
       "      <td>50.0</td>\n",
       "      <td>100.0</td>\n",
       "      <td>0.0</td>\n",
       "    </tr>\n",
       "  </tbody>\n",
       "</table>\n",
       "<p>207 rows × 5 columns</p>\n",
       "</div>"
      ],
      "text/plain": [
       "                                  model            bias_type  metric_score  \\\n",
       "0                       bert-base-cased           race-color         100.0   \n",
       "1                       bert-base-cased               gender          50.0   \n",
       "2                       bert-base-cased        socioeconomic          50.0   \n",
       "3                       bert-base-cased          nationality          50.0   \n",
       "4                       bert-base-cased             religion          50.0   \n",
       "..                                  ...                  ...           ...   \n",
       "202  distilbert-base-multilingual-cased             religion           0.0   \n",
       "203  distilbert-base-multilingual-cased                  age           0.0   \n",
       "204  distilbert-base-multilingual-cased   sexual-orientation         100.0   \n",
       "205  distilbert-base-multilingual-cased  physical-appearance         100.0   \n",
       "206  distilbert-base-multilingual-cased           disability          50.0   \n",
       "\n",
       "     stereotype_score  antistereotype_score  \n",
       "0               100.0                  -1.0  \n",
       "1                -1.0                  50.0  \n",
       "2                50.0                  -1.0  \n",
       "3                50.0                  -1.0  \n",
       "4               100.0                   0.0  \n",
       "..                ...                   ...  \n",
       "202               0.0                   0.0  \n",
       "203               0.0                  -1.0  \n",
       "204             100.0                  -1.0  \n",
       "205             100.0                 100.0  \n",
       "206             100.0                   0.0  \n",
       "\n",
       "[207 rows x 5 columns]"
      ]
     },
     "execution_count": 62,
     "metadata": {},
     "output_type": "execute_result"
    }
   ],
   "source": [
    "social_bias_dataframe"
   ]
  },
  {
   "cell_type": "code",
   "execution_count": 63,
   "id": "47e61126",
   "metadata": {},
   "outputs": [
    {
     "data": {
      "text/html": [
       "<div>\n",
       "<style scoped>\n",
       "    .dataframe tbody tr th:only-of-type {\n",
       "        vertical-align: middle;\n",
       "    }\n",
       "\n",
       "    .dataframe tbody tr th {\n",
       "        vertical-align: top;\n",
       "    }\n",
       "\n",
       "    .dataframe thead th {\n",
       "        text-align: right;\n",
       "    }\n",
       "</style>\n",
       "<table border=\"1\" class=\"dataframe\">\n",
       "  <thead>\n",
       "    <tr style=\"text-align: right;\">\n",
       "      <th></th>\n",
       "      <th>model</th>\n",
       "      <th>bias_type</th>\n",
       "      <th>metric_score</th>\n",
       "      <th>stereotype_score</th>\n",
       "      <th>antistereotype_score</th>\n",
       "    </tr>\n",
       "  </thead>\n",
       "  <tbody>\n",
       "    <tr>\n",
       "      <th>0</th>\n",
       "      <td>bert-base-cased</td>\n",
       "      <td>race-color</td>\n",
       "      <td>100.0</td>\n",
       "      <td>100.0</td>\n",
       "      <td>-1.0</td>\n",
       "    </tr>\n",
       "    <tr>\n",
       "      <th>1</th>\n",
       "      <td>bert-base-cased</td>\n",
       "      <td>gender</td>\n",
       "      <td>50.0</td>\n",
       "      <td>-1.0</td>\n",
       "      <td>50.0</td>\n",
       "    </tr>\n",
       "    <tr>\n",
       "      <th>2</th>\n",
       "      <td>bert-base-cased</td>\n",
       "      <td>socioeconomic</td>\n",
       "      <td>50.0</td>\n",
       "      <td>50.0</td>\n",
       "      <td>-1.0</td>\n",
       "    </tr>\n",
       "    <tr>\n",
       "      <th>3</th>\n",
       "      <td>bert-base-cased</td>\n",
       "      <td>nationality</td>\n",
       "      <td>50.0</td>\n",
       "      <td>50.0</td>\n",
       "      <td>-1.0</td>\n",
       "    </tr>\n",
       "    <tr>\n",
       "      <th>4</th>\n",
       "      <td>bert-base-cased</td>\n",
       "      <td>religion</td>\n",
       "      <td>50.0</td>\n",
       "      <td>100.0</td>\n",
       "      <td>0.0</td>\n",
       "    </tr>\n",
       "    <tr>\n",
       "      <th>5</th>\n",
       "      <td>bert-base-cased</td>\n",
       "      <td>age</td>\n",
       "      <td>50.0</td>\n",
       "      <td>50.0</td>\n",
       "      <td>-1.0</td>\n",
       "    </tr>\n",
       "    <tr>\n",
       "      <th>6</th>\n",
       "      <td>bert-base-cased</td>\n",
       "      <td>sexual-orientation</td>\n",
       "      <td>100.0</td>\n",
       "      <td>100.0</td>\n",
       "      <td>-1.0</td>\n",
       "    </tr>\n",
       "    <tr>\n",
       "      <th>7</th>\n",
       "      <td>bert-base-cased</td>\n",
       "      <td>physical-appearance</td>\n",
       "      <td>50.0</td>\n",
       "      <td>100.0</td>\n",
       "      <td>0.0</td>\n",
       "    </tr>\n",
       "    <tr>\n",
       "      <th>8</th>\n",
       "      <td>bert-base-cased</td>\n",
       "      <td>disability</td>\n",
       "      <td>100.0</td>\n",
       "      <td>100.0</td>\n",
       "      <td>100.0</td>\n",
       "    </tr>\n",
       "    <tr>\n",
       "      <th>9</th>\n",
       "      <td>bert-base-uncased</td>\n",
       "      <td>race-color</td>\n",
       "      <td>50.0</td>\n",
       "      <td>50.0</td>\n",
       "      <td>-1.0</td>\n",
       "    </tr>\n",
       "    <tr>\n",
       "      <th>10</th>\n",
       "      <td>bert-base-uncased</td>\n",
       "      <td>gender</td>\n",
       "      <td>50.0</td>\n",
       "      <td>-1.0</td>\n",
       "      <td>50.0</td>\n",
       "    </tr>\n",
       "    <tr>\n",
       "      <th>11</th>\n",
       "      <td>bert-base-uncased</td>\n",
       "      <td>socioeconomic</td>\n",
       "      <td>0.0</td>\n",
       "      <td>0.0</td>\n",
       "      <td>-1.0</td>\n",
       "    </tr>\n",
       "    <tr>\n",
       "      <th>12</th>\n",
       "      <td>bert-base-uncased</td>\n",
       "      <td>nationality</td>\n",
       "      <td>50.0</td>\n",
       "      <td>50.0</td>\n",
       "      <td>-1.0</td>\n",
       "    </tr>\n",
       "    <tr>\n",
       "      <th>13</th>\n",
       "      <td>bert-base-uncased</td>\n",
       "      <td>religion</td>\n",
       "      <td>50.0</td>\n",
       "      <td>0.0</td>\n",
       "      <td>100.0</td>\n",
       "    </tr>\n",
       "    <tr>\n",
       "      <th>14</th>\n",
       "      <td>bert-base-uncased</td>\n",
       "      <td>age</td>\n",
       "      <td>0.0</td>\n",
       "      <td>0.0</td>\n",
       "      <td>-1.0</td>\n",
       "    </tr>\n",
       "  </tbody>\n",
       "</table>\n",
       "</div>"
      ],
      "text/plain": [
       "                model            bias_type  metric_score  stereotype_score  \\\n",
       "0     bert-base-cased           race-color         100.0             100.0   \n",
       "1     bert-base-cased               gender          50.0              -1.0   \n",
       "2     bert-base-cased        socioeconomic          50.0              50.0   \n",
       "3     bert-base-cased          nationality          50.0              50.0   \n",
       "4     bert-base-cased             religion          50.0             100.0   \n",
       "5     bert-base-cased                  age          50.0              50.0   \n",
       "6     bert-base-cased   sexual-orientation         100.0             100.0   \n",
       "7     bert-base-cased  physical-appearance          50.0             100.0   \n",
       "8     bert-base-cased           disability         100.0             100.0   \n",
       "9   bert-base-uncased           race-color          50.0              50.0   \n",
       "10  bert-base-uncased               gender          50.0              -1.0   \n",
       "11  bert-base-uncased        socioeconomic           0.0               0.0   \n",
       "12  bert-base-uncased          nationality          50.0              50.0   \n",
       "13  bert-base-uncased             religion          50.0               0.0   \n",
       "14  bert-base-uncased                  age           0.0               0.0   \n",
       "\n",
       "    antistereotype_score  \n",
       "0                   -1.0  \n",
       "1                   50.0  \n",
       "2                   -1.0  \n",
       "3                   -1.0  \n",
       "4                    0.0  \n",
       "5                   -1.0  \n",
       "6                   -1.0  \n",
       "7                    0.0  \n",
       "8                  100.0  \n",
       "9                   -1.0  \n",
       "10                  50.0  \n",
       "11                  -1.0  \n",
       "12                  -1.0  \n",
       "13                 100.0  \n",
       "14                  -1.0  "
      ]
     },
     "execution_count": 63,
     "metadata": {},
     "output_type": "execute_result"
    }
   ],
   "source": [
    "social_bias_dataframe[:15]"
   ]
  },
  {
   "cell_type": "code",
   "execution_count": null,
   "id": "1751b55f",
   "metadata": {},
   "outputs": [],
   "source": []
  }
 ],
 "metadata": {
  "kernelspec": {
   "display_name": "Python 3 (ipykernel)",
   "language": "python",
   "name": "python3"
  },
  "language_info": {
   "codemirror_mode": {
    "name": "ipython",
    "version": 3
   },
   "file_extension": ".py",
   "mimetype": "text/x-python",
   "name": "python",
   "nbconvert_exporter": "python",
   "pygments_lexer": "ipython3",
   "version": "3.9.10"
  }
 },
 "nbformat": 4,
 "nbformat_minor": 5
}
