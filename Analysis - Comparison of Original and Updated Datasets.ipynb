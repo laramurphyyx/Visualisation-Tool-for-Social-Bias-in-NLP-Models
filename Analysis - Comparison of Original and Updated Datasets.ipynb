{
 "cells": [
  {
   "cell_type": "markdown",
   "metadata": {},
   "source": [
    "# Reasoning for Adjusting Dataset"
   ]
  },
  {
   "cell_type": "markdown",
   "metadata": {},
   "source": [
    "In a paper written by Microsoft, '[Stereotyping Norwegian Salmon](https://www.microsoft.com/en-us/research/uploads/prod/2021/06/The_Salmon_paper.pdf)', the CrowS-Pairs Dataset is hugely criticised for the content of their benchmark dataset.\n",
    "\n",
    "Their dataset is said to have sentence pairs that do not have clear meaning, may have typos, or do not follow the sentence structure/syntax required to accurately measure the score of a language model. "
   ]
  },
  {
   "cell_type": "markdown",
   "metadata": {},
   "source": [
    "# Methods Used to Adjust Dataset"
   ]
  },
  {
   "cell_type": "markdown",
   "metadata": {},
   "source": [
    "The most common issue for the CrowS-Pairs dataset, as outlined by Microsoft, is that a large proportion of the sentences have invalid perburtations. Using this as the start-point, I performed two iterations of cleaning. These two iterations covered syntactical issues in the sentences. A third iteration of cleaning was performed to correct any missing/mismatched punctuation at the end of each sentence in a sentence pair. \n",
    "\n",
    "<b><u>Iteration 1:</u></b>\n",
    "\n",
    "I identified a subset of the dataset where the lengths of the sent_more and sent_less sentences were different. I used this clause with the goal of catching sentences with incorrect structures, for example:\n",
    "\n",
    "```\n",
    "Sent_more: Men are strong.\n",
    "Sent_less: Women are not strong.\n",
    "```\n",
    "\n",
    "In order to test the language models fairly, both sentences should have the same meaning, with just the target group changed. So sent_less should be changed to 'Women are strong'. \n",
    "\n",
    "There were 213 sentence pairs that were identified as possibly structurally incorrect (having different lengths of sentences). Out of the 213, there was a total of 63 sentences that had to be adjusted. This represents 30% of the filtered dataset. \n",
    "\n",
    "<b><u>Iteration 2:</u></b>\n",
    "\n",
    "While performing analyses with the language model and our updated dataset from our first processing iteration, there were more instances of structurally incorrect data coming to light. Filtering the data to mismatching sentence lengths only caught some of the wrong sentences, it did not catch sentences like:\n",
    "```\n",
    "Sent_more: White people can do anything.\n",
    "Sent_less: Black people can't do anything.\n",
    "```\n",
    "\n",
    "So, rather than comparing the sentence length, we compare the content of the sentences. I identified a list of words that appear only in one sentence, not both. As every sentence must have contrasting target groups, this was filtered once again where the length of these unique word lists were greater than 2. \n",
    "\n",
    "Using the above filtered dataset, and excluding the sentences previously verified from iteration 1, we had 236 sentences that could possibly contain errors. Of these 236 sentences, 34% (81) of the sentences had to be updated.\n",
    "\n",
    "<b><u>Iteration 3:</u></b>\n",
    "\n",
    "I also discovered that sentences that don't finish in a full stop can sometimes receive strange probabilities if the masked word is at the end. In some cases, there were sentences where the sent_more sentence finished in a full stop, and the sent_less didn't, or vice versa. Full stops were then added to all sentences that did not contain one already. \n",
    "\n",
    "A total of 150 sentence pairs had to be adjusted. There were [X] cases where both sentences in the sentence pair needed to be given a full stop, and [Y] cases where one sentence already had a full stop, and the other didn't. As the full stop at the end of a sentence has a relatively large impact on the probability assigned, it will be interesting to see if adding these full stops will change the score assigned to the sentence pair."
   ]
  },
  {
   "cell_type": "markdown",
   "metadata": {},
   "source": [
    "# Contents of This Notebook"
   ]
  },
  {
   "cell_type": "markdown",
   "metadata": {},
   "source": [
    "* [Preparation](#Importing_packages_datasets) - Importing Necessary Packages and Datasets\n",
    "\n",
    "\n",
    "* [Part 1](#Comparing_Iteration1-2_Original) - Comparing Performance of Dataset from Iteration 1 and 2 with Original Dataset\n",
    "    * [Part 1.1](#verified) - Comparison Using Verified Sentences Only\n",
    "    * [Part 1.2](#adjusted) - Comparison Using Adjusted Sentences Only\n",
    "    * [Part 1.2](#structure) - Comparison Using Structurally Incorrect Sentences Only\n",
    "    * [Part 1.3](#typos) - Comparison Using Mis-Spelled Sentences Only\n",
    "    * [Part 1.4](#purpose) - Comparison Using Sentences with Unclear Purpose Only\n",
    "\n",
    "\n",
    "* [Part 2](#Comparing_Iteration3_Original) - Comparing Dataset from Iteration 3 with Original Dataset\n",
    "    * [Part 2.1](#all_updated) - Comparison Using All Sentence Pairs that Have Been Updated\n",
    "    * [Part 2.2](#both_updated) - Comparison Using Sentence Pairs that had no Punctuation\n",
    "    * [Part 2.3](#one_updated) - Comparison Using Sentence Pairs that had Mismatched Punctuation"
   ]
  },
  {
   "cell_type": "markdown",
   "metadata": {},
   "source": [
    "<a id='Importing_packages_datasets'></a>\n",
    "# Preparation: Importing Necessary Packages and Datasets"
   ]
  },
  {
   "cell_type": "code",
   "execution_count": 1,
   "metadata": {},
   "outputs": [
    {
     "name": "stdout",
     "output_type": "stream",
     "text": [
      "Requirement already up-to-date: kaleido in c:\\users\\laram\\appdata\\local\\continuum\\anaconda3\\lib\\site-packages (0.2.1)\n"
     ]
    }
   ],
   "source": [
    "#! pip install -U kaleido"
   ]
  },
  {
   "cell_type": "code",
   "execution_count": 2,
   "metadata": {},
   "outputs": [],
   "source": [
    "import pandas as pd\n",
    "import numpy as np\n",
    "import matplotlib.pyplot as plt\n",
    "import plotly.express as px\n",
    "\n",
    "from functions import *\n",
    "from variables import *"
   ]
  },
  {
   "cell_type": "markdown",
   "metadata": {},
   "source": [
    "<a id='Comparing_Iteration1-2_Original'></a>\n",
    "# Part 1: Comparing Dataset from Iteration 1 and 2 with Original Dataset"
   ]
  },
  {
   "cell_type": "markdown",
   "metadata": {},
   "source": [
    "There are several ways in which we can compare the two datasets. For example, we can see whether the scores for each sentence pair have changed, or we can see if the overall accuracy of the model is reduced/increased. \n",
    "\n",
    "We will be looking at these questions under four different constraints. These constraints are related to the type of changes made to the dataset, and how each type of change affects the performance of language models on these test sentences.\n",
    "\n",
    "For each analysis, we will be using the results of the two most popular language models, 'bert-base-uncased' and 'roberta-base'."
   ]
  },
  {
   "cell_type": "code",
   "execution_count": 3,
   "metadata": {},
   "outputs": [],
   "source": [
    "original_bert = pd.read_csv('All Output Files/Original CrowS-Pairs Dataset/bert-base-uncased.csv', index_col=0)\n",
    "updated_bert = pd.read_csv('All Output Files/Updated (v2) CrowS-Pairs Dataset/bert-base-uncased.csv', index_col=0)\n",
    "\n",
    "original_roberta = pd.read_csv('All Output Files/Original CrowS-Pairs Dataset/roberta-base.csv', index_col=0)\n",
    "updated_roberta = pd.read_csv('All Output Files/Updated (v2) CrowS-Pairs Dataset/roberta-base.csv', index_col=0)"
   ]
  },
  {
   "cell_type": "markdown",
   "metadata": {},
   "source": [
    "We will need to import and compare models repeatedly throughout this process, so we will create a method for this task."
   ]
  },
  {
   "cell_type": "code",
   "execution_count": 4,
   "metadata": {},
   "outputs": [],
   "source": [
    "def get_before_after_scores(model, sentence_ids):\n",
    "        \n",
    "    model_accuracies = {\n",
    "        'Model Name': [],\n",
    "        'Bias Score before Adjustments': [],\n",
    "        'Bias Score after Adjustments': [],\n",
    "        'Difference in Scores': []\n",
    "    }\n",
    "\n",
    "    model_file_path = get_model_file_name(model)\n",
    "\n",
    "    original = pd.read_csv('All Output Files/Original CrowS-Pairs Dataset/' + model_file_path + '.csv', index_col=0)\n",
    "    updated = pd.read_csv('All Output Files/Updated (v2) CrowS-Pairs Dataset/' + model_file_path + '.csv', index_col=0)\n",
    "\n",
    "    original_verified = original.iloc[sentence_ids]\n",
    "    updated_verified = updated.iloc[sentence_ids]\n",
    "\n",
    "    original_score = round(sum(original_verified['score']) / len(original_verified) * 100, 2)\n",
    "    updated_score = round(sum(updated_verified['score']) / len(updated_verified) * 100, 2)\n",
    "\n",
    "    model_accuracies['Model Name'].append(display_model_names[model])\n",
    "    model_accuracies['Bias Score before Adjustments'].append(original_score)\n",
    "    model_accuracies['Bias Score after Adjustments'].append(updated_score)\n",
    "    model_accuracies['Difference in Scores'].append(updated_score - original_score)\n",
    "    \n",
    "    return model_accuracies"
   ]
  },
  {
   "cell_type": "markdown",
   "metadata": {},
   "source": [
    "<a id='verified'></a>\n",
    "## Part 1.1: Comparison Using Verified Sentences Only"
   ]
  },
  {
   "cell_type": "markdown",
   "metadata": {},
   "source": [
    "449 (30%) of sentences in the dataset have been verified. We will test the models against two subsets of data: the first subset is the 449 sentences that have been verified and adjusted, and the second subset is the same 449 sentences prior to being adjusted."
   ]
  },
  {
   "cell_type": "code",
   "execution_count": 5,
   "metadata": {},
   "outputs": [],
   "source": [
    "bert_original_verified = original_bert.iloc[all_sentences_checked]\n",
    "bert_updated_verified = updated_bert.iloc[all_sentences_checked]\n",
    "\n",
    "roberta_original_verified = original_roberta.iloc[all_sentences_checked]\n",
    "roberta_updated_verified = updated_roberta.iloc[all_sentences_checked]"
   ]
  },
  {
   "cell_type": "code",
   "execution_count": 6,
   "metadata": {},
   "outputs": [
    {
     "name": "stdout",
     "output_type": "stream",
     "text": [
      "Prior to updating the sentences, BERT would have scored 58.57% on these sentences\n",
      "After updating the sentences, BERT would have scored 57.24% on these sentences\n",
      "\n",
      "Prior to updating the sentences, RoBERTa would have scored 55.68% on these sentences\n",
      "After updating the sentences, RoBERTa would have scored 54.57% on these sentences\n"
     ]
    }
   ],
   "source": [
    "bert_original_accuracy = round(sum(bert_original_verified['score'])/len(bert_original_verified)*100, 2)\n",
    "bert_updated_accuracy = round(sum(bert_updated_verified['score'])/len(bert_updated_verified)*100, 2)\n",
    "print(\"Prior to updating the sentences, BERT would have scored \" + str(bert_original_accuracy) + \"% on these sentences\")\n",
    "print(\"After updating the sentences, BERT would have scored \" + str(bert_updated_accuracy) + \"% on these sentences\\n\")\n",
    "\n",
    "roberta_original_accuracy = round(sum(roberta_original_verified['score'])/len(roberta_original_verified)*100, 2)\n",
    "roberta_updated_accuracy = round(sum(roberta_updated_verified['score'])/len(roberta_updated_verified)*100, 2)\n",
    "print(\"Prior to updating the sentences, RoBERTa would have scored \" + str(roberta_original_accuracy) + \"% on these sentences\")\n",
    "print(\"After updating the sentences, RoBERTa would have scored \" + str(roberta_updated_accuracy) + \"% on these sentences\")"
   ]
  },
  {
   "cell_type": "markdown",
   "metadata": {},
   "source": [
    "A decrease of 0.89% in bias scores does not seem like a notable difference, however, this score is more reliable as there are less bad quality sentences in the test set.\n",
    "\n",
    "Let's see if there are more differences for the rest of the language models."
   ]
  },
  {
   "cell_type": "code",
   "execution_count": 7,
   "metadata": {},
   "outputs": [],
   "source": [
    "model_accuracies_df = pd.DataFrame(\n",
    "    columns=[\n",
    "        'Model Name',\n",
    "        'Bias Score before Adjustments',\n",
    "        'Bias Score after Adjustments',\n",
    "        'Difference in Scores'], \n",
    "    dtype=object)\n",
    "\n",
    "for model in all_models:\n",
    "    model_score_entry = pd.DataFrame(get_before_after_scores(model, all_sentences_checked))\n",
    "    model_accuracies_df = pd.concat([model_accuracies_df, model_score_entry], ignore_index=True)"
   ]
  },
  {
   "cell_type": "code",
   "execution_count": 8,
   "metadata": {
    "scrolled": false
   },
   "outputs": [
    {
     "data": {
      "text/html": [
       "<div>\n",
       "<style scoped>\n",
       "    .dataframe tbody tr th:only-of-type {\n",
       "        vertical-align: middle;\n",
       "    }\n",
       "\n",
       "    .dataframe tbody tr th {\n",
       "        vertical-align: top;\n",
       "    }\n",
       "\n",
       "    .dataframe thead th {\n",
       "        text-align: right;\n",
       "    }\n",
       "</style>\n",
       "<table border=\"1\" class=\"dataframe\">\n",
       "  <thead>\n",
       "    <tr style=\"text-align: right;\">\n",
       "      <th></th>\n",
       "      <th>Model Name</th>\n",
       "      <th>Bias Score before Adjustments</th>\n",
       "      <th>Bias Score after Adjustments</th>\n",
       "      <th>Difference in Scores</th>\n",
       "    </tr>\n",
       "  </thead>\n",
       "  <tbody>\n",
       "    <tr>\n",
       "      <td>0</td>\n",
       "      <td>BERT Base (cased)</td>\n",
       "      <td>55.46</td>\n",
       "      <td>55.68</td>\n",
       "      <td>0.22</td>\n",
       "    </tr>\n",
       "    <tr>\n",
       "      <td>1</td>\n",
       "      <td>BERT Base (uncased)</td>\n",
       "      <td>58.57</td>\n",
       "      <td>57.24</td>\n",
       "      <td>-1.33</td>\n",
       "    </tr>\n",
       "    <tr>\n",
       "      <td>2</td>\n",
       "      <td>BERT Large (uncased)</td>\n",
       "      <td>60.36</td>\n",
       "      <td>57.24</td>\n",
       "      <td>-3.12</td>\n",
       "    </tr>\n",
       "    <tr>\n",
       "      <td>3</td>\n",
       "      <td>BERT Large (cased)</td>\n",
       "      <td>56.79</td>\n",
       "      <td>55.46</td>\n",
       "      <td>-1.33</td>\n",
       "    </tr>\n",
       "    <tr>\n",
       "      <td>4</td>\n",
       "      <td>Multilingual BERT (uncased)</td>\n",
       "      <td>56.35</td>\n",
       "      <td>55.68</td>\n",
       "      <td>-0.67</td>\n",
       "    </tr>\n",
       "    <tr>\n",
       "      <td>5</td>\n",
       "      <td>Multilingual BERT (cased)</td>\n",
       "      <td>52.56</td>\n",
       "      <td>51.45</td>\n",
       "      <td>-1.11</td>\n",
       "    </tr>\n",
       "    <tr>\n",
       "      <td>6</td>\n",
       "      <td>SciBERT</td>\n",
       "      <td>53.90</td>\n",
       "      <td>56.35</td>\n",
       "      <td>2.45</td>\n",
       "    </tr>\n",
       "    <tr>\n",
       "      <td>7</td>\n",
       "      <td>Bio + Clinical BERT</td>\n",
       "      <td>51.45</td>\n",
       "      <td>51.45</td>\n",
       "      <td>0.00</td>\n",
       "    </tr>\n",
       "    <tr>\n",
       "      <td>8</td>\n",
       "      <td>PubMed BERT</td>\n",
       "      <td>56.12</td>\n",
       "      <td>55.90</td>\n",
       "      <td>-0.22</td>\n",
       "    </tr>\n",
       "    <tr>\n",
       "      <td>9</td>\n",
       "      <td>Legal BERT</td>\n",
       "      <td>59.02</td>\n",
       "      <td>57.02</td>\n",
       "      <td>-2.00</td>\n",
       "    </tr>\n",
       "    <tr>\n",
       "      <td>10</td>\n",
       "      <td>Hate BERT</td>\n",
       "      <td>58.13</td>\n",
       "      <td>56.12</td>\n",
       "      <td>-2.01</td>\n",
       "    </tr>\n",
       "    <tr>\n",
       "      <td>11</td>\n",
       "      <td>BERT for Patents</td>\n",
       "      <td>51.00</td>\n",
       "      <td>52.12</td>\n",
       "      <td>1.12</td>\n",
       "    </tr>\n",
       "    <tr>\n",
       "      <td>12</td>\n",
       "      <td>Security BERT</td>\n",
       "      <td>49.00</td>\n",
       "      <td>48.55</td>\n",
       "      <td>-0.45</td>\n",
       "    </tr>\n",
       "    <tr>\n",
       "      <td>13</td>\n",
       "      <td>AlBERT (v1)</td>\n",
       "      <td>55.90</td>\n",
       "      <td>56.57</td>\n",
       "      <td>0.67</td>\n",
       "    </tr>\n",
       "    <tr>\n",
       "      <td>14</td>\n",
       "      <td>AlBERT (v2)</td>\n",
       "      <td>57.24</td>\n",
       "      <td>57.46</td>\n",
       "      <td>0.22</td>\n",
       "    </tr>\n",
       "    <tr>\n",
       "      <td>15</td>\n",
       "      <td>RoBERTa Base</td>\n",
       "      <td>55.68</td>\n",
       "      <td>54.57</td>\n",
       "      <td>-1.11</td>\n",
       "    </tr>\n",
       "    <tr>\n",
       "      <td>16</td>\n",
       "      <td>Distilled RoBERTa Base</td>\n",
       "      <td>53.90</td>\n",
       "      <td>53.90</td>\n",
       "      <td>0.00</td>\n",
       "    </tr>\n",
       "    <tr>\n",
       "      <td>17</td>\n",
       "      <td>RoBERTa Large</td>\n",
       "      <td>58.35</td>\n",
       "      <td>57.02</td>\n",
       "      <td>-1.33</td>\n",
       "    </tr>\n",
       "    <tr>\n",
       "      <td>18</td>\n",
       "      <td>Code RoBERTa</td>\n",
       "      <td>48.55</td>\n",
       "      <td>47.44</td>\n",
       "      <td>-1.11</td>\n",
       "    </tr>\n",
       "    <tr>\n",
       "      <td>19</td>\n",
       "      <td>Climate RoBERTa Base (distilled)</td>\n",
       "      <td>55.68</td>\n",
       "      <td>55.90</td>\n",
       "      <td>0.22</td>\n",
       "    </tr>\n",
       "    <tr>\n",
       "      <td>20</td>\n",
       "      <td>Multilingual RoBERTa</td>\n",
       "      <td>52.12</td>\n",
       "      <td>51.00</td>\n",
       "      <td>-1.12</td>\n",
       "    </tr>\n",
       "    <tr>\n",
       "      <td>21</td>\n",
       "      <td>Distilled Multilingual BERT (cased)</td>\n",
       "      <td>50.33</td>\n",
       "      <td>48.78</td>\n",
       "      <td>-1.55</td>\n",
       "    </tr>\n",
       "  </tbody>\n",
       "</table>\n",
       "</div>"
      ],
      "text/plain": [
       "                             Model Name  Bias Score before Adjustments  \\\n",
       "0                     BERT Base (cased)                          55.46   \n",
       "1                   BERT Base (uncased)                          58.57   \n",
       "2                  BERT Large (uncased)                          60.36   \n",
       "3                    BERT Large (cased)                          56.79   \n",
       "4           Multilingual BERT (uncased)                          56.35   \n",
       "5             Multilingual BERT (cased)                          52.56   \n",
       "6                               SciBERT                          53.90   \n",
       "7                   Bio + Clinical BERT                          51.45   \n",
       "8                           PubMed BERT                          56.12   \n",
       "9                            Legal BERT                          59.02   \n",
       "10                            Hate BERT                          58.13   \n",
       "11                     BERT for Patents                          51.00   \n",
       "12                        Security BERT                          49.00   \n",
       "13                          AlBERT (v1)                          55.90   \n",
       "14                          AlBERT (v2)                          57.24   \n",
       "15                         RoBERTa Base                          55.68   \n",
       "16               Distilled RoBERTa Base                          53.90   \n",
       "17                        RoBERTa Large                          58.35   \n",
       "18                         Code RoBERTa                          48.55   \n",
       "19     Climate RoBERTa Base (distilled)                          55.68   \n",
       "20                 Multilingual RoBERTa                          52.12   \n",
       "21  Distilled Multilingual BERT (cased)                          50.33   \n",
       "\n",
       "    Bias Score after Adjustments  Difference in Scores  \n",
       "0                          55.68                  0.22  \n",
       "1                          57.24                 -1.33  \n",
       "2                          57.24                 -3.12  \n",
       "3                          55.46                 -1.33  \n",
       "4                          55.68                 -0.67  \n",
       "5                          51.45                 -1.11  \n",
       "6                          56.35                  2.45  \n",
       "7                          51.45                  0.00  \n",
       "8                          55.90                 -0.22  \n",
       "9                          57.02                 -2.00  \n",
       "10                         56.12                 -2.01  \n",
       "11                         52.12                  1.12  \n",
       "12                         48.55                 -0.45  \n",
       "13                         56.57                  0.67  \n",
       "14                         57.46                  0.22  \n",
       "15                         54.57                 -1.11  \n",
       "16                         53.90                  0.00  \n",
       "17                         57.02                 -1.33  \n",
       "18                         47.44                 -1.11  \n",
       "19                         55.90                  0.22  \n",
       "20                         51.00                 -1.12  \n",
       "21                         48.78                 -1.55  "
      ]
     },
     "execution_count": 8,
     "metadata": {},
     "output_type": "execute_result"
    }
   ],
   "source": [
    "model_accuracies_df"
   ]
  },
  {
   "cell_type": "code",
   "execution_count": 9,
   "metadata": {},
   "outputs": [
    {
     "data": {
      "image/svg+xml": [
       "<svg class=\"main-svg\" xmlns=\"http://www.w3.org/2000/svg\" xmlns:xlink=\"http://www.w3.org/1999/xlink\" width=\"1000\" height=\"500\" style=\"\" viewBox=\"0 0 1000 500\"><rect x=\"0\" y=\"0\" width=\"1000\" height=\"500\" style=\"fill: rgb(255, 255, 255); fill-opacity: 1;\"/><defs id=\"defs-da688a\"><g class=\"clips\"><clipPath id=\"clipda688axyplot\" class=\"plotclip\"><rect width=\"608\" height=\"245\"/></clipPath><clipPath class=\"axesclip\" id=\"clipda688ax\"><rect x=\"99\" y=\"0\" width=\"608\" height=\"500\"/></clipPath><clipPath class=\"axesclip\" id=\"clipda688ay\"><rect x=\"0\" y=\"100\" width=\"1000\" height=\"245\"/></clipPath><clipPath class=\"axesclip\" id=\"clipda688axy\"><rect x=\"99\" y=\"100\" width=\"608\" height=\"245\"/></clipPath></g><g class=\"gradients\"/><g class=\"patterns\"/></defs><g class=\"bglayer\"><rect class=\"bg\" x=\"99\" y=\"100\" width=\"608\" height=\"245\" style=\"fill: rgb(229, 236, 246); fill-opacity: 1; stroke-width: 0;\"/></g><g class=\"layer-below\"><g class=\"imagelayer\"/><g class=\"shapelayer\"/></g><g class=\"cartesianlayer\"><g class=\"subplot xy\"><g class=\"layer-subplot\"><g class=\"shapelayer\"/><g class=\"imagelayer\"/></g><g class=\"gridlayer\"><g class=\"x\"/><g class=\"y\"><path class=\"ygrid crisp\" transform=\"translate(0,306.44)\" d=\"M99,0h608\" style=\"stroke: rgb(255, 255, 255); stroke-opacity: 1; stroke-width: 1px;\"/><path class=\"ygrid crisp\" transform=\"translate(0,267.88)\" d=\"M99,0h608\" style=\"stroke: rgb(255, 255, 255); stroke-opacity: 1; stroke-width: 1px;\"/><path class=\"ygrid crisp\" transform=\"translate(0,229.32)\" d=\"M99,0h608\" style=\"stroke: rgb(255, 255, 255); stroke-opacity: 1; stroke-width: 1px;\"/><path class=\"ygrid crisp\" transform=\"translate(0,190.76)\" d=\"M99,0h608\" style=\"stroke: rgb(255, 255, 255); stroke-opacity: 1; stroke-width: 1px;\"/><path class=\"ygrid crisp\" transform=\"translate(0,152.2)\" d=\"M99,0h608\" style=\"stroke: rgb(255, 255, 255); stroke-opacity: 1; stroke-width: 1px;\"/><path class=\"ygrid crisp\" transform=\"translate(0,113.64)\" d=\"M99,0h608\" style=\"stroke: rgb(255, 255, 255); stroke-opacity: 1; stroke-width: 1px;\"/></g></g><g class=\"zerolinelayer\"><path class=\"yzl zl crisp\" transform=\"translate(0,345)\" d=\"M99,0h608\" style=\"stroke: rgb(255, 255, 255); stroke-opacity: 1; stroke-width: 2px;\"/></g><path class=\"xlines-below\"/><path class=\"ylines-below\"/><g class=\"overlines-below\"/><g class=\"xaxislayer-below\"/><g class=\"yaxislayer-below\"/><g class=\"overaxes-below\"/><g class=\"plot\" transform=\"translate(99,100)\" clip-path=\"url(#clipda688axyplot)\"><g class=\"barlayer mlayer\"><g class=\"trace bars\" style=\"opacity: 1;\"><g class=\"points\"><g class=\"point\"><path d=\"M2.76,245V31.14H13.82V245Z\" style=\"vector-effect: non-scaling-stroke; opacity: 1; stroke-width: 0.5px; fill: rgb(99, 110, 250); fill-opacity: 1; stroke: rgb(229, 236, 246); stroke-opacity: 1;\"/></g><g class=\"point\"><path d=\"M30.4,245V19.15H41.45V245Z\" style=\"vector-effect: non-scaling-stroke; opacity: 1; stroke-width: 0.5px; fill: rgb(99, 110, 250); fill-opacity: 1; stroke: rgb(229, 236, 246); stroke-opacity: 1;\"/></g><g class=\"point\"><path d=\"M58.04,245V12.25H69.09V245Z\" style=\"vector-effect: non-scaling-stroke; opacity: 1; stroke-width: 0.5px; fill: rgb(99, 110, 250); fill-opacity: 1; stroke: rgb(229, 236, 246); stroke-opacity: 1;\"/></g><g class=\"point\"><path d=\"M85.67,245V26.02H96.73V245Z\" style=\"vector-effect: non-scaling-stroke; opacity: 1; stroke-width: 0.5px; fill: rgb(99, 110, 250); fill-opacity: 1; stroke: rgb(229, 236, 246); stroke-opacity: 1;\"/></g><g class=\"point\"><path d=\"M113.31,245V27.71H124.36V245Z\" style=\"vector-effect: non-scaling-stroke; opacity: 1; stroke-width: 0.5px; fill: rgb(99, 110, 250); fill-opacity: 1; stroke: rgb(229, 236, 246); stroke-opacity: 1;\"/></g><g class=\"point\"><path d=\"M140.95,245V42.33H152V245Z\" style=\"vector-effect: non-scaling-stroke; opacity: 1; stroke-width: 0.5px; fill: rgb(99, 110, 250); fill-opacity: 1; stroke: rgb(229, 236, 246); stroke-opacity: 1;\"/></g><g class=\"point\"><path d=\"M168.58,245V37.16H179.64V245Z\" style=\"vector-effect: non-scaling-stroke; opacity: 1; stroke-width: 0.5px; fill: rgb(99, 110, 250); fill-opacity: 1; stroke: rgb(229, 236, 246); stroke-opacity: 1;\"/></g><g class=\"point\"><path d=\"M196.22,245V46.61H207.27V245Z\" style=\"vector-effect: non-scaling-stroke; opacity: 1; stroke-width: 0.5px; fill: rgb(99, 110, 250); fill-opacity: 1; stroke: rgb(229, 236, 246); stroke-opacity: 1;\"/></g><g class=\"point\"><path d=\"M223.85,245V28.6H234.91V245Z\" style=\"vector-effect: non-scaling-stroke; opacity: 1; stroke-width: 0.5px; fill: rgb(99, 110, 250); fill-opacity: 1; stroke: rgb(229, 236, 246); stroke-opacity: 1;\"/></g><g class=\"point\"><path d=\"M251.49,245V17.42H262.55V245Z\" style=\"vector-effect: non-scaling-stroke; opacity: 1; stroke-width: 0.5px; fill: rgb(99, 110, 250); fill-opacity: 1; stroke: rgb(229, 236, 246); stroke-opacity: 1;\"/></g><g class=\"point\"><path d=\"M279.13,245V20.85H290.18V245Z\" style=\"vector-effect: non-scaling-stroke; opacity: 1; stroke-width: 0.5px; fill: rgb(99, 110, 250); fill-opacity: 1; stroke: rgb(229, 236, 246); stroke-opacity: 1;\"/></g><g class=\"point\"><path d=\"M306.76,245V48.34H317.82V245Z\" style=\"vector-effect: non-scaling-stroke; opacity: 1; stroke-width: 0.5px; fill: rgb(99, 110, 250); fill-opacity: 1; stroke: rgb(229, 236, 246); stroke-opacity: 1;\"/></g><g class=\"point\"><path d=\"M334.4,245V56.05H345.45V245Z\" style=\"vector-effect: non-scaling-stroke; opacity: 1; stroke-width: 0.5px; fill: rgb(99, 110, 250); fill-opacity: 1; stroke: rgb(229, 236, 246); stroke-opacity: 1;\"/></g><g class=\"point\"><path d=\"M362.04,245V29.45H373.09V245Z\" style=\"vector-effect: non-scaling-stroke; opacity: 1; stroke-width: 0.5px; fill: rgb(99, 110, 250); fill-opacity: 1; stroke: rgb(229, 236, 246); stroke-opacity: 1;\"/></g><g class=\"point\"><path d=\"M389.67,245V24.28H400.73V245Z\" style=\"vector-effect: non-scaling-stroke; opacity: 1; stroke-width: 0.5px; fill: rgb(99, 110, 250); fill-opacity: 1; stroke: rgb(229, 236, 246); stroke-opacity: 1;\"/></g><g class=\"point\"><path d=\"M417.31,245V30.3H428.36V245Z\" style=\"vector-effect: non-scaling-stroke; opacity: 1; stroke-width: 0.5px; fill: rgb(99, 110, 250); fill-opacity: 1; stroke: rgb(229, 236, 246); stroke-opacity: 1;\"/></g><g class=\"point\"><path d=\"M444.95,245V37.16H456V245Z\" style=\"vector-effect: non-scaling-stroke; opacity: 1; stroke-width: 0.5px; fill: rgb(99, 110, 250); fill-opacity: 1; stroke: rgb(229, 236, 246); stroke-opacity: 1;\"/></g><g class=\"point\"><path d=\"M472.58,245V20H483.64V245Z\" style=\"vector-effect: non-scaling-stroke; opacity: 1; stroke-width: 0.5px; fill: rgb(99, 110, 250); fill-opacity: 1; stroke: rgb(229, 236, 246); stroke-opacity: 1;\"/></g><g class=\"point\"><path d=\"M500.22,245V57.79H511.27V245Z\" style=\"vector-effect: non-scaling-stroke; opacity: 1; stroke-width: 0.5px; fill: rgb(99, 110, 250); fill-opacity: 1; stroke: rgb(229, 236, 246); stroke-opacity: 1;\"/></g><g class=\"point\"><path d=\"M527.85,245V30.3H538.91V245Z\" style=\"vector-effect: non-scaling-stroke; opacity: 1; stroke-width: 0.5px; fill: rgb(99, 110, 250); fill-opacity: 1; stroke: rgb(229, 236, 246); stroke-opacity: 1;\"/></g><g class=\"point\"><path d=\"M555.49,245V44.02H566.55V245Z\" style=\"vector-effect: non-scaling-stroke; opacity: 1; stroke-width: 0.5px; fill: rgb(99, 110, 250); fill-opacity: 1; stroke: rgb(229, 236, 246); stroke-opacity: 1;\"/></g><g class=\"point\"><path d=\"M583.13,245V50.93H594.18V245Z\" style=\"vector-effect: non-scaling-stroke; opacity: 1; stroke-width: 0.5px; fill: rgb(99, 110, 250); fill-opacity: 1; stroke: rgb(229, 236, 246); stroke-opacity: 1;\"/></g></g></g><g class=\"trace bars\" style=\"opacity: 1;\"><g class=\"points\"><g class=\"point\"><path d=\"M13.82,245V30.3H24.87V245Z\" style=\"vector-effect: non-scaling-stroke; opacity: 1; stroke-width: 0.5px; fill: rgb(239, 85, 59); fill-opacity: 1; stroke: rgb(229, 236, 246); stroke-opacity: 1;\"/></g><g class=\"point\"><path d=\"M41.45,245V24.28H52.51V245Z\" style=\"vector-effect: non-scaling-stroke; opacity: 1; stroke-width: 0.5px; fill: rgb(239, 85, 59); fill-opacity: 1; stroke: rgb(229, 236, 246); stroke-opacity: 1;\"/></g><g class=\"point\"><path d=\"M69.09,245V24.28H80.15V245Z\" style=\"vector-effect: non-scaling-stroke; opacity: 1; stroke-width: 0.5px; fill: rgb(239, 85, 59); fill-opacity: 1; stroke: rgb(229, 236, 246); stroke-opacity: 1;\"/></g><g class=\"point\"><path d=\"M96.73,245V31.14H107.78V245Z\" style=\"vector-effect: non-scaling-stroke; opacity: 1; stroke-width: 0.5px; fill: rgb(239, 85, 59); fill-opacity: 1; stroke: rgb(229, 236, 246); stroke-opacity: 1;\"/></g><g class=\"point\"><path d=\"M124.36,245V30.3H135.42V245Z\" style=\"vector-effect: non-scaling-stroke; opacity: 1; stroke-width: 0.5px; fill: rgb(239, 85, 59); fill-opacity: 1; stroke: rgb(229, 236, 246); stroke-opacity: 1;\"/></g><g class=\"point\"><path d=\"M152,245V46.61H163.05V245Z\" style=\"vector-effect: non-scaling-stroke; opacity: 1; stroke-width: 0.5px; fill: rgb(239, 85, 59); fill-opacity: 1; stroke: rgb(229, 236, 246); stroke-opacity: 1;\"/></g><g class=\"point\"><path d=\"M179.64,245V27.71H190.69V245Z\" style=\"vector-effect: non-scaling-stroke; opacity: 1; stroke-width: 0.5px; fill: rgb(239, 85, 59); fill-opacity: 1; stroke: rgb(229, 236, 246); stroke-opacity: 1;\"/></g><g class=\"point\"><path d=\"M207.27,245V46.61H218.33V245Z\" style=\"vector-effect: non-scaling-stroke; opacity: 1; stroke-width: 0.5px; fill: rgb(239, 85, 59); fill-opacity: 1; stroke: rgb(229, 236, 246); stroke-opacity: 1;\"/></g><g class=\"point\"><path d=\"M234.91,245V29.45H245.96V245Z\" style=\"vector-effect: non-scaling-stroke; opacity: 1; stroke-width: 0.5px; fill: rgb(239, 85, 59); fill-opacity: 1; stroke: rgb(229, 236, 246); stroke-opacity: 1;\"/></g><g class=\"point\"><path d=\"M262.55,245V25.13H273.6V245Z\" style=\"vector-effect: non-scaling-stroke; opacity: 1; stroke-width: 0.5px; fill: rgb(239, 85, 59); fill-opacity: 1; stroke: rgb(229, 236, 246); stroke-opacity: 1;\"/></g><g class=\"point\"><path d=\"M290.18,245V28.6H301.24V245Z\" style=\"vector-effect: non-scaling-stroke; opacity: 1; stroke-width: 0.5px; fill: rgb(239, 85, 59); fill-opacity: 1; stroke: rgb(229, 236, 246); stroke-opacity: 1;\"/></g><g class=\"point\"><path d=\"M317.82,245V44.02H328.87V245Z\" style=\"vector-effect: non-scaling-stroke; opacity: 1; stroke-width: 0.5px; fill: rgb(239, 85, 59); fill-opacity: 1; stroke: rgb(229, 236, 246); stroke-opacity: 1;\"/></g><g class=\"point\"><path d=\"M345.45,245V57.79H356.51V245Z\" style=\"vector-effect: non-scaling-stroke; opacity: 1; stroke-width: 0.5px; fill: rgb(239, 85, 59); fill-opacity: 1; stroke: rgb(229, 236, 246); stroke-opacity: 1;\"/></g><g class=\"point\"><path d=\"M373.09,245V26.86H384.15V245Z\" style=\"vector-effect: non-scaling-stroke; opacity: 1; stroke-width: 0.5px; fill: rgb(239, 85, 59); fill-opacity: 1; stroke: rgb(229, 236, 246); stroke-opacity: 1;\"/></g><g class=\"point\"><path d=\"M400.73,245V23.43H411.78V245Z\" style=\"vector-effect: non-scaling-stroke; opacity: 1; stroke-width: 0.5px; fill: rgb(239, 85, 59); fill-opacity: 1; stroke: rgb(229, 236, 246); stroke-opacity: 1;\"/></g><g class=\"point\"><path d=\"M428.36,245V34.58H439.42V245Z\" style=\"vector-effect: non-scaling-stroke; opacity: 1; stroke-width: 0.5px; fill: rgb(239, 85, 59); fill-opacity: 1; stroke: rgb(229, 236, 246); stroke-opacity: 1;\"/></g><g class=\"point\"><path d=\"M456,245V37.16H467.05V245Z\" style=\"vector-effect: non-scaling-stroke; opacity: 1; stroke-width: 0.5px; fill: rgb(239, 85, 59); fill-opacity: 1; stroke: rgb(229, 236, 246); stroke-opacity: 1;\"/></g><g class=\"point\"><path d=\"M483.64,245V25.13H494.69V245Z\" style=\"vector-effect: non-scaling-stroke; opacity: 1; stroke-width: 0.5px; fill: rgb(239, 85, 59); fill-opacity: 1; stroke: rgb(229, 236, 246); stroke-opacity: 1;\"/></g><g class=\"point\"><path d=\"M511.27,245V62.07H522.33V245Z\" style=\"vector-effect: non-scaling-stroke; opacity: 1; stroke-width: 0.5px; fill: rgb(239, 85, 59); fill-opacity: 1; stroke: rgb(229, 236, 246); stroke-opacity: 1;\"/></g><g class=\"point\"><path d=\"M538.91,245V29.45H549.96V245Z\" style=\"vector-effect: non-scaling-stroke; opacity: 1; stroke-width: 0.5px; fill: rgb(239, 85, 59); fill-opacity: 1; stroke: rgb(229, 236, 246); stroke-opacity: 1;\"/></g><g class=\"point\"><path d=\"M566.55,245V48.34H577.6V245Z\" style=\"vector-effect: non-scaling-stroke; opacity: 1; stroke-width: 0.5px; fill: rgb(239, 85, 59); fill-opacity: 1; stroke: rgb(229, 236, 246); stroke-opacity: 1;\"/></g><g class=\"point\"><path d=\"M594.18,245V56.9H605.24V245Z\" style=\"vector-effect: non-scaling-stroke; opacity: 1; stroke-width: 0.5px; fill: rgb(239, 85, 59); fill-opacity: 1; stroke: rgb(229, 236, 246); stroke-opacity: 1;\"/></g></g></g></g></g><g class=\"overplot\"/><path class=\"xlines-above crisp\" d=\"M0,0\" style=\"fill: none;\"/><path class=\"ylines-above crisp\" d=\"M0,0\" style=\"fill: none;\"/><g class=\"overlines-above\"/><g class=\"xaxislayer-above\"><g class=\"xtick\"><text text-anchor=\"end\" x=\"0\" y=\"358\" transform=\"translate(112.82,0) rotate(-30,0,352)\" style=\"font-family: 'Open Sans', verdana, arial, sans-serif; font-size: 12px; fill: rgb(42, 63, 95); fill-opacity: 1; white-space: pre; opacity: 1;\">BERT Base (cased)</text></g><g class=\"xtick\"><text text-anchor=\"end\" x=\"0\" y=\"358\" transform=\"translate(140.45,0) rotate(-30,0,352)\" style=\"font-family: 'Open Sans', verdana, arial, sans-serif; font-size: 12px; fill: rgb(42, 63, 95); fill-opacity: 1; white-space: pre; opacity: 1;\">BERT Base (uncased)</text></g><g class=\"xtick\"><text text-anchor=\"end\" x=\"0\" y=\"358\" transform=\"translate(168.09,0) rotate(-30,0,352)\" style=\"font-family: 'Open Sans', verdana, arial, sans-serif; font-size: 12px; fill: rgb(42, 63, 95); fill-opacity: 1; white-space: pre; opacity: 1;\">BERT Large (uncased)</text></g><g class=\"xtick\"><text text-anchor=\"end\" x=\"0\" y=\"358\" transform=\"translate(195.73000000000002,0) rotate(-30,0,352)\" style=\"font-family: 'Open Sans', verdana, arial, sans-serif; font-size: 12px; fill: rgb(42, 63, 95); fill-opacity: 1; white-space: pre; opacity: 1;\">BERT Large (cased)</text></g><g class=\"xtick\"><text text-anchor=\"end\" x=\"0\" y=\"358\" transform=\"translate(223.36,0) rotate(-30,0,352)\" style=\"font-family: 'Open Sans', verdana, arial, sans-serif; font-size: 12px; fill: rgb(42, 63, 95); fill-opacity: 1; white-space: pre; opacity: 1;\">Multilingual BERT (uncased)</text></g><g class=\"xtick\"><text text-anchor=\"end\" x=\"0\" y=\"358\" transform=\"translate(251,0) rotate(-30,0,352)\" style=\"font-family: 'Open Sans', verdana, arial, sans-serif; font-size: 12px; fill: rgb(42, 63, 95); fill-opacity: 1; white-space: pre; opacity: 1;\">Multilingual BERT (cased)</text></g><g class=\"xtick\"><text text-anchor=\"end\" x=\"0\" y=\"358\" transform=\"translate(278.64,0) rotate(-30,0,352)\" style=\"font-family: 'Open Sans', verdana, arial, sans-serif; font-size: 12px; fill: rgb(42, 63, 95); fill-opacity: 1; white-space: pre; opacity: 1;\">SciBERT</text></g><g class=\"xtick\"><text text-anchor=\"end\" x=\"0\" y=\"358\" transform=\"translate(306.27,0) rotate(-30,0,352)\" style=\"font-family: 'Open Sans', verdana, arial, sans-serif; font-size: 12px; fill: rgb(42, 63, 95); fill-opacity: 1; white-space: pre; opacity: 1;\">Bio + Clinical BERT</text></g><g class=\"xtick\"><text text-anchor=\"end\" x=\"0\" y=\"358\" transform=\"translate(333.90999999999997,0) rotate(-30,0,352)\" style=\"font-family: 'Open Sans', verdana, arial, sans-serif; font-size: 12px; fill: rgb(42, 63, 95); fill-opacity: 1; white-space: pre; opacity: 1;\">PubMed BERT</text></g><g class=\"xtick\"><text text-anchor=\"end\" x=\"0\" y=\"358\" transform=\"translate(361.55,0) rotate(-30,0,352)\" style=\"font-family: 'Open Sans', verdana, arial, sans-serif; font-size: 12px; fill: rgb(42, 63, 95); fill-opacity: 1; white-space: pre; opacity: 1;\">Legal BERT</text></g><g class=\"xtick\"><text text-anchor=\"end\" x=\"0\" y=\"358\" transform=\"translate(389.18,0) rotate(-30,0,352)\" style=\"font-family: 'Open Sans', verdana, arial, sans-serif; font-size: 12px; fill: rgb(42, 63, 95); fill-opacity: 1; white-space: pre; opacity: 1;\">Hate BERT</text></g><g class=\"xtick\"><text text-anchor=\"end\" x=\"0\" y=\"358\" transform=\"translate(416.82,0) rotate(-30,0,352)\" style=\"font-family: 'Open Sans', verdana, arial, sans-serif; font-size: 12px; fill: rgb(42, 63, 95); fill-opacity: 1; white-space: pre; opacity: 1;\">BERT for Patents</text></g><g class=\"xtick\"><text text-anchor=\"end\" x=\"0\" y=\"358\" transform=\"translate(444.45,0) rotate(-30,0,352)\" style=\"font-family: 'Open Sans', verdana, arial, sans-serif; font-size: 12px; fill: rgb(42, 63, 95); fill-opacity: 1; white-space: pre; opacity: 1;\">Security BERT</text></g><g class=\"xtick\"><text text-anchor=\"end\" x=\"0\" y=\"358\" transform=\"translate(472.09,0) rotate(-30,0,352)\" style=\"font-family: 'Open Sans', verdana, arial, sans-serif; font-size: 12px; fill: rgb(42, 63, 95); fill-opacity: 1; white-space: pre; opacity: 1;\">AlBERT (v1)</text></g><g class=\"xtick\"><text text-anchor=\"end\" x=\"0\" y=\"358\" transform=\"translate(499.73,0) rotate(-30,0,352)\" style=\"font-family: 'Open Sans', verdana, arial, sans-serif; font-size: 12px; fill: rgb(42, 63, 95); fill-opacity: 1; white-space: pre; opacity: 1;\">AlBERT (v2)</text></g><g class=\"xtick\"><text text-anchor=\"end\" x=\"0\" y=\"358\" transform=\"translate(527.36,0) rotate(-30,0,352)\" style=\"font-family: 'Open Sans', verdana, arial, sans-serif; font-size: 12px; fill: rgb(42, 63, 95); fill-opacity: 1; white-space: pre; opacity: 1;\">RoBERTa Base</text></g><g class=\"xtick\"><text text-anchor=\"end\" x=\"0\" y=\"358\" transform=\"translate(555,0) rotate(-30,0,352)\" style=\"font-family: 'Open Sans', verdana, arial, sans-serif; font-size: 12px; fill: rgb(42, 63, 95); fill-opacity: 1; white-space: pre; opacity: 1;\">Distilled RoBERTa Base</text></g><g class=\"xtick\"><text text-anchor=\"end\" x=\"0\" y=\"358\" transform=\"translate(582.64,0) rotate(-30,0,352)\" style=\"font-family: 'Open Sans', verdana, arial, sans-serif; font-size: 12px; fill: rgb(42, 63, 95); fill-opacity: 1; white-space: pre; opacity: 1;\">RoBERTa Large</text></g><g class=\"xtick\"><text text-anchor=\"end\" x=\"0\" y=\"358\" transform=\"translate(610.27,0) rotate(-30,0,352)\" style=\"font-family: 'Open Sans', verdana, arial, sans-serif; font-size: 12px; fill: rgb(42, 63, 95); fill-opacity: 1; white-space: pre; opacity: 1;\">Code RoBERTa</text></g><g class=\"xtick\"><text text-anchor=\"end\" x=\"0\" y=\"358\" transform=\"translate(637.91,0) rotate(-30,0,352)\" style=\"font-family: 'Open Sans', verdana, arial, sans-serif; font-size: 12px; fill: rgb(42, 63, 95); fill-opacity: 1; white-space: pre; opacity: 1;\">Climate RoBERTa Base (distilled)</text></g><g class=\"xtick\"><text text-anchor=\"end\" x=\"0\" y=\"358\" transform=\"translate(665.55,0) rotate(-30,0,352)\" style=\"font-family: 'Open Sans', verdana, arial, sans-serif; font-size: 12px; fill: rgb(42, 63, 95); fill-opacity: 1; white-space: pre; opacity: 1;\">Multilingual RoBERTa</text></g><g class=\"xtick\"><text text-anchor=\"end\" x=\"0\" y=\"358\" transform=\"translate(693.18,0) rotate(-30,0,352)\" style=\"font-family: 'Open Sans', verdana, arial, sans-serif; font-size: 12px; fill: rgb(42, 63, 95); fill-opacity: 1; white-space: pre; opacity: 1;\">Distilled Multilingual BERT (cased)</text></g></g><g class=\"yaxislayer-above\"><g class=\"ytick\"><text text-anchor=\"end\" x=\"98\" y=\"4.199999999999999\" transform=\"translate(0,345)\" style=\"font-family: 'Open Sans', verdana, arial, sans-serif; font-size: 12px; fill: rgb(42, 63, 95); fill-opacity: 1; white-space: pre; opacity: 1;\">0</text></g><g class=\"ytick\"><text text-anchor=\"end\" x=\"98\" y=\"4.199999999999999\" style=\"font-family: 'Open Sans', verdana, arial, sans-serif; font-size: 12px; fill: rgb(42, 63, 95); fill-opacity: 1; white-space: pre; opacity: 1;\" transform=\"translate(0,306.44)\">10</text></g><g class=\"ytick\"><text text-anchor=\"end\" x=\"98\" y=\"4.199999999999999\" style=\"font-family: 'Open Sans', verdana, arial, sans-serif; font-size: 12px; fill: rgb(42, 63, 95); fill-opacity: 1; white-space: pre; opacity: 1;\" transform=\"translate(0,267.88)\">20</text></g><g class=\"ytick\"><text text-anchor=\"end\" x=\"98\" y=\"4.199999999999999\" style=\"font-family: 'Open Sans', verdana, arial, sans-serif; font-size: 12px; fill: rgb(42, 63, 95); fill-opacity: 1; white-space: pre; opacity: 1;\" transform=\"translate(0,229.32)\">30</text></g><g class=\"ytick\"><text text-anchor=\"end\" x=\"98\" y=\"4.199999999999999\" style=\"font-family: 'Open Sans', verdana, arial, sans-serif; font-size: 12px; fill: rgb(42, 63, 95); fill-opacity: 1; white-space: pre; opacity: 1;\" transform=\"translate(0,190.76)\">40</text></g><g class=\"ytick\"><text text-anchor=\"end\" x=\"98\" y=\"4.199999999999999\" style=\"font-family: 'Open Sans', verdana, arial, sans-serif; font-size: 12px; fill: rgb(42, 63, 95); fill-opacity: 1; white-space: pre; opacity: 1;\" transform=\"translate(0,152.2)\">50</text></g><g class=\"ytick\"><text text-anchor=\"end\" x=\"98\" y=\"4.199999999999999\" style=\"font-family: 'Open Sans', verdana, arial, sans-serif; font-size: 12px; fill: rgb(42, 63, 95); fill-opacity: 1; white-space: pre; opacity: 1;\" transform=\"translate(0,113.64)\">60</text></g></g><g class=\"overaxes-above\"/></g></g><g class=\"polarlayer\"/><g class=\"smithlayer\"/><g class=\"ternarylayer\"/><g class=\"geolayer\"/><g class=\"funnelarealayer\"/><g class=\"pielayer\"/><g class=\"iciclelayer\"/><g class=\"treemaplayer\"/><g class=\"sunburstlayer\"/><g class=\"glimages\"/><defs id=\"topdefs-da688a\"><g class=\"clips\"/><clipPath id=\"legendda688a\"><rect width=\"269\" height=\"67\" x=\"0\" y=\"0\"/></clipPath></defs><g class=\"layer-above\"><g class=\"imagelayer\"/><g class=\"shapelayer\"/></g><g class=\"infolayer\"><g class=\"legend\" pointer-events=\"all\" transform=\"translate(719.16,100)\"><rect class=\"bg\" shape-rendering=\"crispEdges\" style=\"stroke: rgb(68, 68, 68); stroke-opacity: 1; fill: rgb(255, 255, 255); fill-opacity: 1; stroke-width: 0px;\" width=\"269\" height=\"67\" x=\"0\" y=\"0\"/><g class=\"scrollbox\" transform=\"\" clip-path=\"url(#legendda688a)\"><text class=\"legendtitletext\" text-anchor=\"start\" x=\"2\" y=\"18.2\" style=\"font-family: 'Open Sans', verdana, arial, sans-serif; font-size: 14px; fill: rgb(42, 63, 95); fill-opacity: 1; white-space: pre;\">Scores Achieved by Language Models</text><g class=\"groups\" transform=\"\"><g class=\"traces\" transform=\"translate(0,32.7)\" style=\"opacity: 1;\"><text class=\"legendtext\" text-anchor=\"start\" x=\"40\" y=\"4.680000000000001\" style=\"font-family: 'Open Sans', verdana, arial, sans-serif; font-size: 12px; fill: rgb(42, 63, 95); fill-opacity: 1; white-space: pre;\">Bias Score before Adjustments</text><g class=\"layers\" style=\"opacity: 1;\"><g class=\"legendfill\"/><g class=\"legendlines\"/><g class=\"legendsymbols\"><g class=\"legendpoints\"><path class=\"legendundefined\" d=\"M6,6H-6V-6H6Z\" transform=\"translate(20,0)\" style=\"stroke-width: 0.5px; fill: rgb(99, 110, 250); fill-opacity: 1; stroke: rgb(229, 236, 246); stroke-opacity: 1;\"/></g></g></g><rect class=\"legendtoggle\" x=\"0\" y=\"-9.5\" width=\"226.578125\" height=\"19\" style=\"fill: rgb(0, 0, 0); fill-opacity: 0;\"/></g></g><g class=\"groups\" transform=\"\"><g class=\"traces\" transform=\"translate(0,51.7)\" style=\"opacity: 1;\"><text class=\"legendtext\" text-anchor=\"start\" x=\"40\" y=\"4.680000000000001\" style=\"font-family: 'Open Sans', verdana, arial, sans-serif; font-size: 12px; fill: rgb(42, 63, 95); fill-opacity: 1; white-space: pre;\">Bias Score after Adjustments</text><g class=\"layers\" style=\"opacity: 1;\"><g class=\"legendfill\"/><g class=\"legendlines\"/><g class=\"legendsymbols\"><g class=\"legendpoints\"><path class=\"legendundefined\" d=\"M6,6H-6V-6H6Z\" transform=\"translate(20,0)\" style=\"stroke-width: 0.5px; fill: rgb(239, 85, 59); fill-opacity: 1; stroke: rgb(229, 236, 246); stroke-opacity: 1;\"/></g></g></g><rect class=\"legendtoggle\" x=\"0\" y=\"-9.5\" width=\"226.578125\" height=\"19\" style=\"fill: rgb(0, 0, 0); fill-opacity: 0;\"/></g></g></g><rect class=\"scrollbar\" rx=\"20\" ry=\"3\" width=\"0\" height=\"0\" style=\"fill: rgb(128, 139, 164); fill-opacity: 1;\" x=\"0\" y=\"0\"/></g><g class=\"g-gtitle\"><text class=\"gtitle\" x=\"50\" y=\"50\" text-anchor=\"start\" dy=\"0em\" style=\"font-family: 'Open Sans', verdana, arial, sans-serif; font-size: 17px; fill: rgb(42, 63, 95); opacity: 1; font-weight: normal; white-space: pre;\">Model Bias Scores for Original and Updated Datasets</text></g><g class=\"g-xtitle\"><text class=\"xtitle\" x=\"403\" y=\"487.5392578125\" text-anchor=\"middle\" style=\"font-family: 'Open Sans', verdana, arial, sans-serif; font-size: 14px; fill: rgb(42, 63, 95); opacity: 1; font-weight: normal; white-space: pre;\">Language Models</text></g><g class=\"g-ytitle\"><text class=\"ytitle\" transform=\"rotate(-90,57.934375,222.5)\" x=\"57.934375\" y=\"222.5\" text-anchor=\"middle\" style=\"font-family: 'Open Sans', verdana, arial, sans-serif; font-size: 14px; fill: rgb(42, 63, 95); opacity: 1; font-weight: normal; white-space: pre;\">Social Bias Score (%)</text></g></g></svg>"
      ]
     },
     "metadata": {},
     "output_type": "display_data"
    }
   ],
   "source": [
    "fig = px.bar(\n",
    "    model_accuracies_df, \n",
    "    x=\"Model Name\", \n",
    "    y=[\"Bias Score before Adjustments\", \"Bias Score after Adjustments\"],\n",
    "    barmode = 'group',\n",
    "    hover_name = model_accuracies_df[\"Model Name\"], \n",
    "    title = \"Model Bias Scores for Original and Updated Datasets\", \n",
    "    width=1000)\n",
    "\n",
    "fig.update_layout(\n",
    "    barmode='group',\n",
    "    xaxis=dict(title=\"Language Models\"),\n",
    "    yaxis=dict(title=\"Social Bias Score (%)\"), \n",
    "    xaxis_tickangle=-30,\n",
    "    legend=dict(title=\"Scores Achieved by Language Models\"))\n",
    "\n",
    "fig.show(\"svg\")"
   ]
  },
  {
   "cell_type": "code",
   "execution_count": 10,
   "metadata": {
    "scrolled": false
   },
   "outputs": [
    {
     "data": {
      "image/svg+xml": [
       "<svg class=\"main-svg\" xmlns=\"http://www.w3.org/2000/svg\" xmlns:xlink=\"http://www.w3.org/1999/xlink\" width=\"1000\" height=\"500\" style=\"\" viewBox=\"0 0 1000 500\"><rect x=\"0\" y=\"0\" width=\"1000\" height=\"500\" style=\"fill: rgb(255, 255, 255); fill-opacity: 1;\"/><defs id=\"defs-2d38f5\"><g class=\"clips\"><clipPath id=\"clip2d38f5xyplot\" class=\"plotclip\"><rect width=\"744\" height=\"245\"/></clipPath><clipPath class=\"axesclip\" id=\"clip2d38f5x\"><rect x=\"80\" y=\"0\" width=\"744\" height=\"500\"/></clipPath><clipPath class=\"axesclip\" id=\"clip2d38f5y\"><rect x=\"0\" y=\"100\" width=\"1000\" height=\"245\"/></clipPath><clipPath class=\"axesclip\" id=\"clip2d38f5xy\"><rect x=\"80\" y=\"100\" width=\"744\" height=\"245\"/></clipPath></g><g class=\"gradients\"/><g class=\"patterns\"/></defs><g class=\"bglayer\"><rect class=\"bg\" x=\"80\" y=\"100\" width=\"744\" height=\"245\" style=\"fill: rgb(229, 236, 246); fill-opacity: 1; stroke-width: 0;\"/></g><g class=\"layer-below\"><g class=\"imagelayer\"/><g class=\"shapelayer\"/></g><g class=\"cartesianlayer\"><g class=\"subplot xy\"><g class=\"layer-subplot\"><g class=\"shapelayer\"/><g class=\"imagelayer\"/></g><g class=\"gridlayer\"><g class=\"x\"/><g class=\"y\"><path class=\"ygrid crisp\" transform=\"translate(0,328)\" d=\"M80,0h744\" style=\"stroke: rgb(255, 255, 255); stroke-opacity: 1; stroke-width: 1px;\"/><path class=\"ygrid crisp\" transform=\"translate(0,288.40999999999997)\" d=\"M80,0h744\" style=\"stroke: rgb(255, 255, 255); stroke-opacity: 1; stroke-width: 1px;\"/><path class=\"ygrid crisp\" transform=\"translate(0,248.83)\" d=\"M80,0h744\" style=\"stroke: rgb(255, 255, 255); stroke-opacity: 1; stroke-width: 1px;\"/><path class=\"ygrid crisp\" transform=\"translate(0,169.65)\" d=\"M80,0h744\" style=\"stroke: rgb(255, 255, 255); stroke-opacity: 1; stroke-width: 1px;\"/><path class=\"ygrid crisp\" transform=\"translate(0,130.06)\" d=\"M80,0h744\" style=\"stroke: rgb(255, 255, 255); stroke-opacity: 1; stroke-width: 1px;\"/></g></g><g class=\"zerolinelayer\"><path class=\"yzl zl crisp\" transform=\"translate(0,209.24)\" d=\"M80,0h744\" style=\"stroke: rgb(255, 255, 255); stroke-opacity: 1; stroke-width: 2px;\"/></g><path class=\"xlines-below\"/><path class=\"ylines-below\"/><g class=\"overlines-below\"/><g class=\"xaxislayer-below\"/><g class=\"yaxislayer-below\"/><g class=\"overaxes-below\"/><g class=\"plot\" transform=\"translate(80,100)\" clip-path=\"url(#clip2d38f5xyplot)\"><g class=\"barlayer mlayer\"><g class=\"trace bars\" style=\"opacity: 1;\"><g class=\"points\"><g class=\"point\"><path d=\"M3.38,109.24V100.53H30.44V109.24Z\" style=\"vector-effect: non-scaling-stroke; opacity: 1; stroke-width: 0.5px; fill: rgb(99, 110, 250); fill-opacity: 1; stroke: rgb(229, 236, 246); stroke-opacity: 1;\"/></g><g class=\"point\"><path d=\"M37.2,109.24V161.89H64.25V109.24Z\" style=\"vector-effect: non-scaling-stroke; opacity: 1; stroke-width: 0.5px; fill: rgb(99, 110, 250); fill-opacity: 1; stroke: rgb(229, 236, 246); stroke-opacity: 1;\"/></g><g class=\"point\"><path d=\"M71.02,109.24V232.75H98.07V109.24Z\" style=\"vector-effect: non-scaling-stroke; opacity: 1; stroke-width: 0.5px; fill: rgb(99, 110, 250); fill-opacity: 1; stroke: rgb(229, 236, 246); stroke-opacity: 1;\"/></g><g class=\"point\"><path d=\"M104.84,109.24V161.89H131.89V109.24Z\" style=\"vector-effect: non-scaling-stroke; opacity: 1; stroke-width: 0.5px; fill: rgb(99, 110, 250); fill-opacity: 1; stroke: rgb(229, 236, 246); stroke-opacity: 1;\"/></g><g class=\"point\"><path d=\"M138.65,109.24V135.76H165.71V109.24Z\" style=\"vector-effect: non-scaling-stroke; opacity: 1; stroke-width: 0.5px; fill: rgb(99, 110, 250); fill-opacity: 1; stroke: rgb(229, 236, 246); stroke-opacity: 1;\"/></g><g class=\"point\"><path d=\"M172.47,109.24V153.18H199.53V109.24Z\" style=\"vector-effect: non-scaling-stroke; opacity: 1; stroke-width: 0.5px; fill: rgb(99, 110, 250); fill-opacity: 1; stroke: rgb(229, 236, 246); stroke-opacity: 1;\"/></g><g class=\"point\"><path d=\"M206.29,109.24V12.25H233.35V109.24Z\" style=\"vector-effect: non-scaling-stroke; opacity: 1; stroke-width: 0.5px; fill: rgb(99, 110, 250); fill-opacity: 1; stroke: rgb(229, 236, 246); stroke-opacity: 1;\"/></g><g class=\"point\"><path d=\"M240.11,109.24V109.24H267.16V109.24Z\" style=\"vector-effect: non-scaling-stroke; opacity: 1; stroke-width: 0.5px; fill: rgb(99, 110, 250); fill-opacity: 1; stroke: rgb(229, 236, 246); stroke-opacity: 1;\"/></g><g class=\"point\"><path d=\"M273.93,109.24V117.95H300.98V109.24Z\" style=\"vector-effect: non-scaling-stroke; opacity: 1; stroke-width: 0.5px; fill: rgb(99, 110, 250); fill-opacity: 1; stroke: rgb(229, 236, 246); stroke-opacity: 1;\"/></g><g class=\"point\"><path d=\"M307.75,109.24V188.41H334.8V109.24Z\" style=\"vector-effect: non-scaling-stroke; opacity: 1; stroke-width: 0.5px; fill: rgb(99, 110, 250); fill-opacity: 1; stroke: rgb(229, 236, 246); stroke-opacity: 1;\"/></g><g class=\"point\"><path d=\"M341.56,109.24V188.81H368.62V109.24Z\" style=\"vector-effect: non-scaling-stroke; opacity: 1; stroke-width: 0.5px; fill: rgb(99, 110, 250); fill-opacity: 1; stroke: rgb(229, 236, 246); stroke-opacity: 1;\"/></g><g class=\"point\"><path d=\"M375.38,109.24V64.9H402.44V109.24Z\" style=\"vector-effect: non-scaling-stroke; opacity: 1; stroke-width: 0.5px; fill: rgb(99, 110, 250); fill-opacity: 1; stroke: rgb(229, 236, 246); stroke-opacity: 1;\"/></g><g class=\"point\"><path d=\"M409.2,109.24V127.05H436.25V109.24Z\" style=\"vector-effect: non-scaling-stroke; opacity: 1; stroke-width: 0.5px; fill: rgb(99, 110, 250); fill-opacity: 1; stroke: rgb(229, 236, 246); stroke-opacity: 1;\"/></g><g class=\"point\"><path d=\"M443.02,109.24V82.71H470.07V109.24Z\" style=\"vector-effect: non-scaling-stroke; opacity: 1; stroke-width: 0.5px; fill: rgb(99, 110, 250); fill-opacity: 1; stroke: rgb(229, 236, 246); stroke-opacity: 1;\"/></g><g class=\"point\"><path d=\"M476.84,109.24V100.53H503.89V109.24Z\" style=\"vector-effect: non-scaling-stroke; opacity: 1; stroke-width: 0.5px; fill: rgb(99, 110, 250); fill-opacity: 1; stroke: rgb(229, 236, 246); stroke-opacity: 1;\"/></g><g class=\"point\"><path d=\"M510.65,109.24V153.18H537.71V109.24Z\" style=\"vector-effect: non-scaling-stroke; opacity: 1; stroke-width: 0.5px; fill: rgb(99, 110, 250); fill-opacity: 1; stroke: rgb(229, 236, 246); stroke-opacity: 1;\"/></g><g class=\"point\"><path d=\"M544.47,109.24V109.24H571.53V109.24Z\" style=\"vector-effect: non-scaling-stroke; opacity: 1; stroke-width: 0.5px; fill: rgb(99, 110, 250); fill-opacity: 1; stroke: rgb(229, 236, 246); stroke-opacity: 1;\"/></g><g class=\"point\"><path d=\"M578.29,109.24V161.89H605.35V109.24Z\" style=\"vector-effect: non-scaling-stroke; opacity: 1; stroke-width: 0.5px; fill: rgb(99, 110, 250); fill-opacity: 1; stroke: rgb(229, 236, 246); stroke-opacity: 1;\"/></g><g class=\"point\"><path d=\"M612.11,109.24V153.18H639.16V109.24Z\" style=\"vector-effect: non-scaling-stroke; opacity: 1; stroke-width: 0.5px; fill: rgb(99, 110, 250); fill-opacity: 1; stroke: rgb(229, 236, 246); stroke-opacity: 1;\"/></g><g class=\"point\"><path d=\"M645.93,109.24V100.53H672.98V109.24Z\" style=\"vector-effect: non-scaling-stroke; opacity: 1; stroke-width: 0.5px; fill: rgb(99, 110, 250); fill-opacity: 1; stroke: rgb(229, 236, 246); stroke-opacity: 1;\"/></g><g class=\"point\"><path d=\"M679.75,109.24V153.58H706.8V109.24Z\" style=\"vector-effect: non-scaling-stroke; opacity: 1; stroke-width: 0.5px; fill: rgb(99, 110, 250); fill-opacity: 1; stroke: rgb(229, 236, 246); stroke-opacity: 1;\"/></g><g class=\"point\"><path d=\"M713.56,109.24V170.6H740.62V109.24Z\" style=\"vector-effect: non-scaling-stroke; opacity: 1; stroke-width: 0.5px; fill: rgb(99, 110, 250); fill-opacity: 1; stroke: rgb(229, 236, 246); stroke-opacity: 1;\"/></g></g></g></g></g><g class=\"overplot\"/><path class=\"xlines-above crisp\" d=\"M0,0\" style=\"fill: none;\"/><path class=\"ylines-above crisp\" d=\"M0,0\" style=\"fill: none;\"/><g class=\"overlines-above\"/><g class=\"xaxislayer-above\"><g class=\"xtick\"><text text-anchor=\"start\" x=\"0\" y=\"358\" transform=\"translate(96.91,0) rotate(30,0,352)\" style=\"font-family: 'Open Sans', verdana, arial, sans-serif; font-size: 12px; fill: rgb(42, 63, 95); fill-opacity: 1; white-space: pre; opacity: 1;\">BERT Base (cased)</text></g><g class=\"xtick\"><text text-anchor=\"start\" x=\"0\" y=\"358\" transform=\"translate(130.73,0) rotate(30,0,352)\" style=\"font-family: 'Open Sans', verdana, arial, sans-serif; font-size: 12px; fill: rgb(42, 63, 95); fill-opacity: 1; white-space: pre; opacity: 1;\">BERT Base (uncased)</text></g><g class=\"xtick\"><text text-anchor=\"start\" x=\"0\" y=\"358\" transform=\"translate(164.55,0) rotate(30,0,352)\" style=\"font-family: 'Open Sans', verdana, arial, sans-serif; font-size: 12px; fill: rgb(42, 63, 95); fill-opacity: 1; white-space: pre; opacity: 1;\">BERT Large (uncased)</text></g><g class=\"xtick\"><text text-anchor=\"start\" x=\"0\" y=\"358\" transform=\"translate(198.36,0) rotate(30,0,352)\" style=\"font-family: 'Open Sans', verdana, arial, sans-serif; font-size: 12px; fill: rgb(42, 63, 95); fill-opacity: 1; white-space: pre; opacity: 1;\">BERT Large (cased)</text></g><g class=\"xtick\"><text text-anchor=\"start\" x=\"0\" y=\"358\" transform=\"translate(232.18,0) rotate(30,0,352)\" style=\"font-family: 'Open Sans', verdana, arial, sans-serif; font-size: 12px; fill: rgb(42, 63, 95); fill-opacity: 1; white-space: pre; opacity: 1;\">Multilingual BERT (uncased)</text></g><g class=\"xtick\"><text text-anchor=\"start\" x=\"0\" y=\"358\" transform=\"translate(266,0) rotate(30,0,352)\" style=\"font-family: 'Open Sans', verdana, arial, sans-serif; font-size: 12px; fill: rgb(42, 63, 95); fill-opacity: 1; white-space: pre; opacity: 1;\">Multilingual BERT (cased)</text></g><g class=\"xtick\"><text text-anchor=\"start\" x=\"0\" y=\"358\" transform=\"translate(299.82,0) rotate(30,0,352)\" style=\"font-family: 'Open Sans', verdana, arial, sans-serif; font-size: 12px; fill: rgb(42, 63, 95); fill-opacity: 1; white-space: pre; opacity: 1;\">SciBERT</text></g><g class=\"xtick\"><text text-anchor=\"start\" x=\"0\" y=\"358\" transform=\"translate(333.64,0) rotate(30,0,352)\" style=\"font-family: 'Open Sans', verdana, arial, sans-serif; font-size: 12px; fill: rgb(42, 63, 95); fill-opacity: 1; white-space: pre; opacity: 1;\">Bio + Clinical BERT</text></g><g class=\"xtick\"><text text-anchor=\"start\" x=\"0\" y=\"358\" transform=\"translate(367.45,0) rotate(30,0,352)\" style=\"font-family: 'Open Sans', verdana, arial, sans-serif; font-size: 12px; fill: rgb(42, 63, 95); fill-opacity: 1; white-space: pre; opacity: 1;\">PubMed BERT</text></g><g class=\"xtick\"><text text-anchor=\"start\" x=\"0\" y=\"358\" transform=\"translate(401.27,0) rotate(30,0,352)\" style=\"font-family: 'Open Sans', verdana, arial, sans-serif; font-size: 12px; fill: rgb(42, 63, 95); fill-opacity: 1; white-space: pre; opacity: 1;\">Legal BERT</text></g><g class=\"xtick\"><text text-anchor=\"start\" x=\"0\" y=\"358\" transform=\"translate(435.09,0) rotate(30,0,352)\" style=\"font-family: 'Open Sans', verdana, arial, sans-serif; font-size: 12px; fill: rgb(42, 63, 95); fill-opacity: 1; white-space: pre; opacity: 1;\">Hate BERT</text></g><g class=\"xtick\"><text text-anchor=\"start\" x=\"0\" y=\"358\" transform=\"translate(468.91,0) rotate(30,0,352)\" style=\"font-family: 'Open Sans', verdana, arial, sans-serif; font-size: 12px; fill: rgb(42, 63, 95); fill-opacity: 1; white-space: pre; opacity: 1;\">BERT for Patents</text></g><g class=\"xtick\"><text text-anchor=\"start\" x=\"0\" y=\"358\" transform=\"translate(502.73,0) rotate(30,0,352)\" style=\"font-family: 'Open Sans', verdana, arial, sans-serif; font-size: 12px; fill: rgb(42, 63, 95); fill-opacity: 1; white-space: pre; opacity: 1;\">Security BERT</text></g><g class=\"xtick\"><text text-anchor=\"start\" x=\"0\" y=\"358\" transform=\"translate(536.55,0) rotate(30,0,352)\" style=\"font-family: 'Open Sans', verdana, arial, sans-serif; font-size: 12px; fill: rgb(42, 63, 95); fill-opacity: 1; white-space: pre; opacity: 1;\">AlBERT (v1)</text></g><g class=\"xtick\"><text text-anchor=\"start\" x=\"0\" y=\"358\" transform=\"translate(570.36,0) rotate(30,0,352)\" style=\"font-family: 'Open Sans', verdana, arial, sans-serif; font-size: 12px; fill: rgb(42, 63, 95); fill-opacity: 1; white-space: pre; opacity: 1;\">AlBERT (v2)</text></g><g class=\"xtick\"><text text-anchor=\"start\" x=\"0\" y=\"358\" transform=\"translate(604.18,0) rotate(30,0,352)\" style=\"font-family: 'Open Sans', verdana, arial, sans-serif; font-size: 12px; fill: rgb(42, 63, 95); fill-opacity: 1; white-space: pre; opacity: 1;\">RoBERTa Base</text></g><g class=\"xtick\"><text text-anchor=\"start\" x=\"0\" y=\"358\" transform=\"translate(638,0) rotate(30,0,352)\" style=\"font-family: 'Open Sans', verdana, arial, sans-serif; font-size: 12px; fill: rgb(42, 63, 95); fill-opacity: 1; white-space: pre; opacity: 1;\">Distilled RoBERTa Base</text></g><g class=\"xtick\"><text text-anchor=\"start\" x=\"0\" y=\"358\" transform=\"translate(671.82,0) rotate(30,0,352)\" style=\"font-family: 'Open Sans', verdana, arial, sans-serif; font-size: 12px; fill: rgb(42, 63, 95); fill-opacity: 1; white-space: pre; opacity: 1;\">RoBERTa Large</text></g><g class=\"xtick\"><text text-anchor=\"start\" x=\"0\" y=\"358\" transform=\"translate(705.64,0) rotate(30,0,352)\" style=\"font-family: 'Open Sans', verdana, arial, sans-serif; font-size: 12px; fill: rgb(42, 63, 95); fill-opacity: 1; white-space: pre; opacity: 1;\">Code RoBERTa</text></g><g class=\"xtick\"><text text-anchor=\"start\" x=\"0\" y=\"358\" transform=\"translate(739.45,0) rotate(30,0,352)\" style=\"font-family: 'Open Sans', verdana, arial, sans-serif; font-size: 12px; fill: rgb(42, 63, 95); fill-opacity: 1; white-space: pre; opacity: 1;\">Climate RoBERTa Base (distilled)</text></g><g class=\"xtick\"><text text-anchor=\"start\" x=\"0\" y=\"358\" transform=\"translate(773.27,0) rotate(30,0,352)\" style=\"font-family: 'Open Sans', verdana, arial, sans-serif; font-size: 12px; fill: rgb(42, 63, 95); fill-opacity: 1; white-space: pre; opacity: 1;\">Multilingual RoBERTa</text></g><g class=\"xtick\"><text text-anchor=\"start\" x=\"0\" y=\"358\" transform=\"translate(807.09,0) rotate(30,0,352)\" style=\"font-family: 'Open Sans', verdana, arial, sans-serif; font-size: 12px; fill: rgb(42, 63, 95); fill-opacity: 1; white-space: pre; opacity: 1;\">Distilled Multilingual BERT (cased)</text></g></g><g class=\"yaxislayer-above\"><g class=\"ytick\"><text text-anchor=\"end\" x=\"79\" y=\"4.199999999999999\" transform=\"translate(0,328)\" style=\"font-family: 'Open Sans', verdana, arial, sans-serif; font-size: 12px; fill: rgb(42, 63, 95); fill-opacity: 1; white-space: pre; opacity: 1;\">−3</text></g><g class=\"ytick\"><text text-anchor=\"end\" x=\"79\" y=\"4.199999999999999\" style=\"font-family: 'Open Sans', verdana, arial, sans-serif; font-size: 12px; fill: rgb(42, 63, 95); fill-opacity: 1; white-space: pre; opacity: 1;\" transform=\"translate(0,288.40999999999997)\">−2</text></g><g class=\"ytick\"><text text-anchor=\"end\" x=\"79\" y=\"4.199999999999999\" style=\"font-family: 'Open Sans', verdana, arial, sans-serif; font-size: 12px; fill: rgb(42, 63, 95); fill-opacity: 1; white-space: pre; opacity: 1;\" transform=\"translate(0,248.83)\">−1</text></g><g class=\"ytick\"><text text-anchor=\"end\" x=\"79\" y=\"4.199999999999999\" style=\"font-family: 'Open Sans', verdana, arial, sans-serif; font-size: 12px; fill: rgb(42, 63, 95); fill-opacity: 1; white-space: pre; opacity: 1;\" transform=\"translate(0,209.24)\">0</text></g><g class=\"ytick\"><text text-anchor=\"end\" x=\"79\" y=\"4.199999999999999\" style=\"font-family: 'Open Sans', verdana, arial, sans-serif; font-size: 12px; fill: rgb(42, 63, 95); fill-opacity: 1; white-space: pre; opacity: 1;\" transform=\"translate(0,169.65)\">1</text></g><g class=\"ytick\"><text text-anchor=\"end\" x=\"79\" y=\"4.199999999999999\" style=\"font-family: 'Open Sans', verdana, arial, sans-serif; font-size: 12px; fill: rgb(42, 63, 95); fill-opacity: 1; white-space: pre; opacity: 1;\" transform=\"translate(0,130.06)\">2</text></g></g><g class=\"overaxes-above\"/></g></g><g class=\"polarlayer\"/><g class=\"smithlayer\"/><g class=\"ternarylayer\"/><g class=\"geolayer\"/><g class=\"funnelarealayer\"/><g class=\"pielayer\"/><g class=\"iciclelayer\"/><g class=\"treemaplayer\"/><g class=\"sunburstlayer\"/><g class=\"glimages\"/><defs id=\"topdefs-2d38f5\"><g class=\"clips\"/></defs><g class=\"layer-above\"><g class=\"imagelayer\"/><g class=\"shapelayer\"/></g><g class=\"infolayer\"><g class=\"g-gtitle\"><text class=\"gtitle\" x=\"50\" y=\"50\" text-anchor=\"start\" dy=\"0em\" style=\"font-family: 'Open Sans', verdana, arial, sans-serif; font-size: 17px; fill: rgb(42, 63, 95); opacity: 1; font-weight: normal; white-space: pre;\">Difference in Bias Scores from Updating Original Dataset</text></g><g class=\"g-xtitle\"><text class=\"xtitle\" x=\"452\" y=\"487.5392578125\" text-anchor=\"middle\" style=\"font-family: 'Open Sans', verdana, arial, sans-serif; font-size: 14px; fill: rgb(42, 63, 95); opacity: 1; font-weight: normal; white-space: pre;\">Model Name</text></g><g class=\"g-ytitle\"><text class=\"ytitle\" transform=\"rotate(-90,36.746875,222.5)\" x=\"36.746875\" y=\"222.5\" text-anchor=\"middle\" style=\"font-family: 'Open Sans', verdana, arial, sans-serif; font-size: 14px; fill: rgb(42, 63, 95); opacity: 1; font-weight: normal; white-space: pre;\">Difference in Scores</text></g></g></svg>"
      ]
     },
     "metadata": {},
     "output_type": "display_data"
    }
   ],
   "source": [
    "fig = px.bar(\n",
    "    model_accuracies_df, \n",
    "    x=\"Model Name\", \n",
    "    y=\"Difference in Scores\",\n",
    "    hover_name = model_accuracies_df[\"Model Name\"], \n",
    "    title = \"Difference in Bias Scores from Updating Original Dataset\", \n",
    "    width=1000)\n",
    "fig.show(\"svg\")"
   ]
  },
  {
   "cell_type": "code",
   "execution_count": 11,
   "metadata": {},
   "outputs": [
    {
     "data": {
      "text/plain": [
       "-0.6163636363636361"
      ]
     },
     "execution_count": 11,
     "metadata": {},
     "output_type": "execute_result"
    }
   ],
   "source": [
    "sum(model_accuracies_df['Difference in Scores'])/22"
   ]
  },
  {
   "cell_type": "markdown",
   "metadata": {},
   "source": [
    "The effects of updating this dataset is different for each dataset. Updating the dataset may not have had a huge impact on the overall bias scores achieved by these models, although this does not imply that the updates were not needed.  We can trust that the new scores are more accurate representations of the level of social bias in a language model, irrespective of whether it is similar to the score achieved prior.\n",
    "\n",
    "The average difference in scores between the original dataset and the updated dataset is -0.62. The scores for 13 models have increased/decreased by over 1%. Of these 13 models, 11 of them have experienced a <u>decrease</u> in social bias scores. While the data size is small, it is safe to assume that overall, the adjusted dataset has decreased the social bias scores. \n",
    "\n",
    "Due to the nature of the errors found in the original dataset, this is not a surprise. In [iteration 1](https://gitlab.computing.dcu.ie/murpl239/2022-ca4021-murpl239/-/blob/fe7ddc4826f211eb0dc21b1ab4dafba2b9169c7e/Fixing%20Errors%20in%20Dataset.ipynb) and [iteration 2](https://gitlab.computing.dcu.ie/murpl239/2022-ca4021-murpl239/-/blob/fe7ddc4826f211eb0dc21b1ab4dafba2b9169c7e/Fixing%20Errors%20in%20Dataset%20Pt.%202.ipynb) of the cleaning process, many errors were as a result of the sent_less sentence having quite unnatural language, making a language model unlikely to favor this sentence. "
   ]
  },
  {
   "cell_type": "markdown",
   "metadata": {},
   "source": [
    "<a id='adjusted'></a>\n",
    "## Part 1.2: Comparison Using Adjusted Sentences Only"
   ]
  },
  {
   "cell_type": "markdown",
   "metadata": {},
   "source": [
    "In [Part 1.1](#verified) above, we filter the dataset to the sentences that have been verified. In a lot of cases, these sentences will not be adjusted, and so it is difficult to see the direct effect of <u>adjusting</u> the dataset. \n",
    "\n",
    "The dataset in this section will consist of the 144 sentences that have been changed."
   ]
  },
  {
   "cell_type": "code",
   "execution_count": 12,
   "metadata": {},
   "outputs": [],
   "source": [
    "model_scores_df = pd.DataFrame(\n",
    "    columns=[\n",
    "        'Model Name',\n",
    "        'Bias Score before Adjustments',\n",
    "        'Bias Score after Adjustments',\n",
    "        'Difference in Scores'], \n",
    "    dtype=object)\n",
    "\n",
    "for model in all_models:\n",
    "    model_score_entry = pd.DataFrame(get_before_after_scores(model, all_error_ids))\n",
    "    model_scores_df = pd.concat([model_scores_df, model_score_entry], ignore_index=True)"
   ]
  },
  {
   "cell_type": "code",
   "execution_count": 13,
   "metadata": {},
   "outputs": [
    {
     "data": {
      "text/html": [
       "<div>\n",
       "<style scoped>\n",
       "    .dataframe tbody tr th:only-of-type {\n",
       "        vertical-align: middle;\n",
       "    }\n",
       "\n",
       "    .dataframe tbody tr th {\n",
       "        vertical-align: top;\n",
       "    }\n",
       "\n",
       "    .dataframe thead th {\n",
       "        text-align: right;\n",
       "    }\n",
       "</style>\n",
       "<table border=\"1\" class=\"dataframe\">\n",
       "  <thead>\n",
       "    <tr style=\"text-align: right;\">\n",
       "      <th></th>\n",
       "      <th>Model Name</th>\n",
       "      <th>Bias Score before Adjustments</th>\n",
       "      <th>Bias Score after Adjustments</th>\n",
       "      <th>Difference in Scores</th>\n",
       "    </tr>\n",
       "  </thead>\n",
       "  <tbody>\n",
       "    <tr>\n",
       "      <td>0</td>\n",
       "      <td>BERT Base (cased)</td>\n",
       "      <td>50.69</td>\n",
       "      <td>50.00</td>\n",
       "      <td>-0.69</td>\n",
       "    </tr>\n",
       "    <tr>\n",
       "      <td>1</td>\n",
       "      <td>BERT Base (uncased)</td>\n",
       "      <td>59.72</td>\n",
       "      <td>53.47</td>\n",
       "      <td>-6.25</td>\n",
       "    </tr>\n",
       "    <tr>\n",
       "      <td>2</td>\n",
       "      <td>BERT Large (uncased)</td>\n",
       "      <td>67.36</td>\n",
       "      <td>56.25</td>\n",
       "      <td>-11.11</td>\n",
       "    </tr>\n",
       "    <tr>\n",
       "      <td>3</td>\n",
       "      <td>BERT Large (cased)</td>\n",
       "      <td>61.81</td>\n",
       "      <td>54.86</td>\n",
       "      <td>-6.95</td>\n",
       "    </tr>\n",
       "    <tr>\n",
       "      <td>4</td>\n",
       "      <td>Multilingual BERT (uncased)</td>\n",
       "      <td>52.78</td>\n",
       "      <td>47.92</td>\n",
       "      <td>-4.86</td>\n",
       "    </tr>\n",
       "    <tr>\n",
       "      <td>5</td>\n",
       "      <td>Multilingual BERT (cased)</td>\n",
       "      <td>45.83</td>\n",
       "      <td>40.97</td>\n",
       "      <td>-4.86</td>\n",
       "    </tr>\n",
       "    <tr>\n",
       "      <td>6</td>\n",
       "      <td>SciBERT</td>\n",
       "      <td>51.39</td>\n",
       "      <td>56.25</td>\n",
       "      <td>4.86</td>\n",
       "    </tr>\n",
       "    <tr>\n",
       "      <td>7</td>\n",
       "      <td>Bio + Clinical BERT</td>\n",
       "      <td>54.86</td>\n",
       "      <td>53.47</td>\n",
       "      <td>-1.39</td>\n",
       "    </tr>\n",
       "    <tr>\n",
       "      <td>8</td>\n",
       "      <td>PubMed BERT</td>\n",
       "      <td>54.17</td>\n",
       "      <td>52.08</td>\n",
       "      <td>-2.09</td>\n",
       "    </tr>\n",
       "    <tr>\n",
       "      <td>9</td>\n",
       "      <td>Legal BERT</td>\n",
       "      <td>61.11</td>\n",
       "      <td>55.56</td>\n",
       "      <td>-5.55</td>\n",
       "    </tr>\n",
       "    <tr>\n",
       "      <td>10</td>\n",
       "      <td>Hate BERT</td>\n",
       "      <td>60.42</td>\n",
       "      <td>53.47</td>\n",
       "      <td>-6.95</td>\n",
       "    </tr>\n",
       "    <tr>\n",
       "      <td>11</td>\n",
       "      <td>BERT for Patents</td>\n",
       "      <td>52.08</td>\n",
       "      <td>55.56</td>\n",
       "      <td>3.48</td>\n",
       "    </tr>\n",
       "    <tr>\n",
       "      <td>12</td>\n",
       "      <td>Security BERT</td>\n",
       "      <td>56.25</td>\n",
       "      <td>54.17</td>\n",
       "      <td>-2.08</td>\n",
       "    </tr>\n",
       "    <tr>\n",
       "      <td>13</td>\n",
       "      <td>AlBERT (v1)</td>\n",
       "      <td>56.25</td>\n",
       "      <td>56.94</td>\n",
       "      <td>0.69</td>\n",
       "    </tr>\n",
       "    <tr>\n",
       "      <td>14</td>\n",
       "      <td>AlBERT (v2)</td>\n",
       "      <td>52.08</td>\n",
       "      <td>50.00</td>\n",
       "      <td>-2.08</td>\n",
       "    </tr>\n",
       "    <tr>\n",
       "      <td>15</td>\n",
       "      <td>RoBERTa Base</td>\n",
       "      <td>61.81</td>\n",
       "      <td>58.33</td>\n",
       "      <td>-3.48</td>\n",
       "    </tr>\n",
       "    <tr>\n",
       "      <td>16</td>\n",
       "      <td>Distilled RoBERTa Base</td>\n",
       "      <td>63.19</td>\n",
       "      <td>63.19</td>\n",
       "      <td>0.00</td>\n",
       "    </tr>\n",
       "    <tr>\n",
       "      <td>17</td>\n",
       "      <td>RoBERTa Large</td>\n",
       "      <td>63.89</td>\n",
       "      <td>60.42</td>\n",
       "      <td>-3.47</td>\n",
       "    </tr>\n",
       "    <tr>\n",
       "      <td>18</td>\n",
       "      <td>Code RoBERTa</td>\n",
       "      <td>43.06</td>\n",
       "      <td>40.28</td>\n",
       "      <td>-2.78</td>\n",
       "    </tr>\n",
       "    <tr>\n",
       "      <td>19</td>\n",
       "      <td>Climate RoBERTa Base (distilled)</td>\n",
       "      <td>56.94</td>\n",
       "      <td>56.25</td>\n",
       "      <td>-0.69</td>\n",
       "    </tr>\n",
       "    <tr>\n",
       "      <td>20</td>\n",
       "      <td>Multilingual RoBERTa</td>\n",
       "      <td>56.94</td>\n",
       "      <td>52.78</td>\n",
       "      <td>-4.16</td>\n",
       "    </tr>\n",
       "    <tr>\n",
       "      <td>21</td>\n",
       "      <td>Distilled Multilingual BERT (cased)</td>\n",
       "      <td>46.53</td>\n",
       "      <td>39.58</td>\n",
       "      <td>-6.95</td>\n",
       "    </tr>\n",
       "  </tbody>\n",
       "</table>\n",
       "</div>"
      ],
      "text/plain": [
       "                             Model Name  Bias Score before Adjustments  \\\n",
       "0                     BERT Base (cased)                          50.69   \n",
       "1                   BERT Base (uncased)                          59.72   \n",
       "2                  BERT Large (uncased)                          67.36   \n",
       "3                    BERT Large (cased)                          61.81   \n",
       "4           Multilingual BERT (uncased)                          52.78   \n",
       "5             Multilingual BERT (cased)                          45.83   \n",
       "6                               SciBERT                          51.39   \n",
       "7                   Bio + Clinical BERT                          54.86   \n",
       "8                           PubMed BERT                          54.17   \n",
       "9                            Legal BERT                          61.11   \n",
       "10                            Hate BERT                          60.42   \n",
       "11                     BERT for Patents                          52.08   \n",
       "12                        Security BERT                          56.25   \n",
       "13                          AlBERT (v1)                          56.25   \n",
       "14                          AlBERT (v2)                          52.08   \n",
       "15                         RoBERTa Base                          61.81   \n",
       "16               Distilled RoBERTa Base                          63.19   \n",
       "17                        RoBERTa Large                          63.89   \n",
       "18                         Code RoBERTa                          43.06   \n",
       "19     Climate RoBERTa Base (distilled)                          56.94   \n",
       "20                 Multilingual RoBERTa                          56.94   \n",
       "21  Distilled Multilingual BERT (cased)                          46.53   \n",
       "\n",
       "    Bias Score after Adjustments  Difference in Scores  \n",
       "0                          50.00                 -0.69  \n",
       "1                          53.47                 -6.25  \n",
       "2                          56.25                -11.11  \n",
       "3                          54.86                 -6.95  \n",
       "4                          47.92                 -4.86  \n",
       "5                          40.97                 -4.86  \n",
       "6                          56.25                  4.86  \n",
       "7                          53.47                 -1.39  \n",
       "8                          52.08                 -2.09  \n",
       "9                          55.56                 -5.55  \n",
       "10                         53.47                 -6.95  \n",
       "11                         55.56                  3.48  \n",
       "12                         54.17                 -2.08  \n",
       "13                         56.94                  0.69  \n",
       "14                         50.00                 -2.08  \n",
       "15                         58.33                 -3.48  \n",
       "16                         63.19                  0.00  \n",
       "17                         60.42                 -3.47  \n",
       "18                         40.28                 -2.78  \n",
       "19                         56.25                 -0.69  \n",
       "20                         52.78                 -4.16  \n",
       "21                         39.58                 -6.95  "
      ]
     },
     "execution_count": 13,
     "metadata": {},
     "output_type": "execute_result"
    }
   ],
   "source": [
    "model_scores_df"
   ]
  },
  {
   "cell_type": "code",
   "execution_count": 14,
   "metadata": {},
   "outputs": [
    {
     "data": {
      "image/svg+xml": [
       "<svg class=\"main-svg\" xmlns=\"http://www.w3.org/2000/svg\" xmlns:xlink=\"http://www.w3.org/1999/xlink\" width=\"1000\" height=\"500\" style=\"\" viewBox=\"0 0 1000 500\"><rect x=\"0\" y=\"0\" width=\"1000\" height=\"500\" style=\"fill: rgb(255, 255, 255); fill-opacity: 1;\"/><defs id=\"defs-46c05d\"><g class=\"clips\"><clipPath id=\"clip46c05dxyplot\" class=\"plotclip\"><rect width=\"608\" height=\"245\"/></clipPath><clipPath class=\"axesclip\" id=\"clip46c05dx\"><rect x=\"99\" y=\"0\" width=\"608\" height=\"500\"/></clipPath><clipPath class=\"axesclip\" id=\"clip46c05dy\"><rect x=\"0\" y=\"100\" width=\"1000\" height=\"245\"/></clipPath><clipPath class=\"axesclip\" id=\"clip46c05dxy\"><rect x=\"99\" y=\"100\" width=\"608\" height=\"245\"/></clipPath></g><g class=\"gradients\"/><g class=\"patterns\"/></defs><g class=\"bglayer\"><rect class=\"bg\" x=\"99\" y=\"100\" width=\"608\" height=\"245\" style=\"fill: rgb(229, 236, 246); fill-opacity: 1; stroke-width: 0;\"/></g><g class=\"layer-below\"><g class=\"imagelayer\"/><g class=\"shapelayer\"/></g><g class=\"cartesianlayer\"><g class=\"subplot xy\"><g class=\"layer-subplot\"><g class=\"shapelayer\"/><g class=\"imagelayer\"/></g><g class=\"gridlayer\"><g class=\"x\"/><g class=\"y\"><path class=\"ygrid crisp\" transform=\"translate(0,310.45)\" d=\"M99,0h608\" style=\"stroke: rgb(255, 255, 255); stroke-opacity: 1; stroke-width: 1px;\"/><path class=\"ygrid crisp\" transform=\"translate(0,275.89)\" d=\"M99,0h608\" style=\"stroke: rgb(255, 255, 255); stroke-opacity: 1; stroke-width: 1px;\"/><path class=\"ygrid crisp\" transform=\"translate(0,241.34)\" d=\"M99,0h608\" style=\"stroke: rgb(255, 255, 255); stroke-opacity: 1; stroke-width: 1px;\"/><path class=\"ygrid crisp\" transform=\"translate(0,206.79000000000002)\" d=\"M99,0h608\" style=\"stroke: rgb(255, 255, 255); stroke-opacity: 1; stroke-width: 1px;\"/><path class=\"ygrid crisp\" transform=\"translate(0,172.23000000000002)\" d=\"M99,0h608\" style=\"stroke: rgb(255, 255, 255); stroke-opacity: 1; stroke-width: 1px;\"/><path class=\"ygrid crisp\" transform=\"translate(0,137.68)\" d=\"M99,0h608\" style=\"stroke: rgb(255, 255, 255); stroke-opacity: 1; stroke-width: 1px;\"/><path class=\"ygrid crisp\" transform=\"translate(0,103.13)\" d=\"M99,0h608\" style=\"stroke: rgb(255, 255, 255); stroke-opacity: 1; stroke-width: 1px;\"/></g></g><g class=\"zerolinelayer\"><path class=\"yzl zl crisp\" transform=\"translate(0,345)\" d=\"M99,0h608\" style=\"stroke: rgb(255, 255, 255); stroke-opacity: 1; stroke-width: 2px;\"/></g><path class=\"xlines-below\"/><path class=\"ylines-below\"/><g class=\"overlines-below\"/><g class=\"xaxislayer-below\"/><g class=\"yaxislayer-below\"/><g class=\"overaxes-below\"/><g class=\"plot\" transform=\"translate(99,100)\" clip-path=\"url(#clip46c05dxyplot)\"><g class=\"barlayer mlayer\"><g class=\"trace bars\" style=\"opacity: 1;\"><g class=\"points\"><g class=\"point\"><path d=\"M2.76,245V69.85H13.82V245Z\" style=\"vector-effect: non-scaling-stroke; opacity: 1; stroke-width: 0.5px; fill: rgb(99, 110, 250); fill-opacity: 1; stroke: rgb(229, 236, 246); stroke-opacity: 1;\"/></g><g class=\"point\"><path d=\"M30.4,245V38.65H41.45V245Z\" style=\"vector-effect: non-scaling-stroke; opacity: 1; stroke-width: 0.5px; fill: rgb(99, 110, 250); fill-opacity: 1; stroke: rgb(229, 236, 246); stroke-opacity: 1;\"/></g><g class=\"point\"><path d=\"M58.04,245V12.25H69.09V245Z\" style=\"vector-effect: non-scaling-stroke; opacity: 1; stroke-width: 0.5px; fill: rgb(99, 110, 250); fill-opacity: 1; stroke: rgb(229, 236, 246); stroke-opacity: 1;\"/></g><g class=\"point\"><path d=\"M85.67,245V31.43H96.73V245Z\" style=\"vector-effect: non-scaling-stroke; opacity: 1; stroke-width: 0.5px; fill: rgb(99, 110, 250); fill-opacity: 1; stroke: rgb(229, 236, 246); stroke-opacity: 1;\"/></g><g class=\"point\"><path d=\"M113.31,245V62.63H124.36V245Z\" style=\"vector-effect: non-scaling-stroke; opacity: 1; stroke-width: 0.5px; fill: rgb(99, 110, 250); fill-opacity: 1; stroke: rgb(229, 236, 246); stroke-opacity: 1;\"/></g><g class=\"point\"><path d=\"M140.95,245V86.64H152V245Z\" style=\"vector-effect: non-scaling-stroke; opacity: 1; stroke-width: 0.5px; fill: rgb(99, 110, 250); fill-opacity: 1; stroke: rgb(229, 236, 246); stroke-opacity: 1;\"/></g><g class=\"point\"><path d=\"M168.58,245V67.43H179.64V245Z\" style=\"vector-effect: non-scaling-stroke; opacity: 1; stroke-width: 0.5px; fill: rgb(99, 110, 250); fill-opacity: 1; stroke: rgb(229, 236, 246); stroke-opacity: 1;\"/></g><g class=\"point\"><path d=\"M196.22,245V55.44H207.27V245Z\" style=\"vector-effect: non-scaling-stroke; opacity: 1; stroke-width: 0.5px; fill: rgb(99, 110, 250); fill-opacity: 1; stroke: rgb(229, 236, 246); stroke-opacity: 1;\"/></g><g class=\"point\"><path d=\"M223.85,245V57.83H234.91V245Z\" style=\"vector-effect: non-scaling-stroke; opacity: 1; stroke-width: 0.5px; fill: rgb(99, 110, 250); fill-opacity: 1; stroke: rgb(229, 236, 246); stroke-opacity: 1;\"/></g><g class=\"point\"><path d=\"M251.49,245V33.85H262.55V245Z\" style=\"vector-effect: non-scaling-stroke; opacity: 1; stroke-width: 0.5px; fill: rgb(99, 110, 250); fill-opacity: 1; stroke: rgb(229, 236, 246); stroke-opacity: 1;\"/></g><g class=\"point\"><path d=\"M279.13,245V36.23H290.18V245Z\" style=\"vector-effect: non-scaling-stroke; opacity: 1; stroke-width: 0.5px; fill: rgb(99, 110, 250); fill-opacity: 1; stroke: rgb(229, 236, 246); stroke-opacity: 1;\"/></g><g class=\"point\"><path d=\"M306.76,245V65.05H317.82V245Z\" style=\"vector-effect: non-scaling-stroke; opacity: 1; stroke-width: 0.5px; fill: rgb(99, 110, 250); fill-opacity: 1; stroke: rgb(229, 236, 246); stroke-opacity: 1;\"/></g><g class=\"point\"><path d=\"M334.4,245V50.64H345.45V245Z\" style=\"vector-effect: non-scaling-stroke; opacity: 1; stroke-width: 0.5px; fill: rgb(99, 110, 250); fill-opacity: 1; stroke: rgb(229, 236, 246); stroke-opacity: 1;\"/></g><g class=\"point\"><path d=\"M362.04,245V50.64H373.09V245Z\" style=\"vector-effect: non-scaling-stroke; opacity: 1; stroke-width: 0.5px; fill: rgb(99, 110, 250); fill-opacity: 1; stroke: rgb(229, 236, 246); stroke-opacity: 1;\"/></g><g class=\"point\"><path d=\"M389.67,245V65.05H400.73V245Z\" style=\"vector-effect: non-scaling-stroke; opacity: 1; stroke-width: 0.5px; fill: rgb(99, 110, 250); fill-opacity: 1; stroke: rgb(229, 236, 246); stroke-opacity: 1;\"/></g><g class=\"point\"><path d=\"M417.31,245V31.43H428.36V245Z\" style=\"vector-effect: non-scaling-stroke; opacity: 1; stroke-width: 0.5px; fill: rgb(99, 110, 250); fill-opacity: 1; stroke: rgb(229, 236, 246); stroke-opacity: 1;\"/></g><g class=\"point\"><path d=\"M444.95,245V26.66H456V245Z\" style=\"vector-effect: non-scaling-stroke; opacity: 1; stroke-width: 0.5px; fill: rgb(99, 110, 250); fill-opacity: 1; stroke: rgb(229, 236, 246); stroke-opacity: 1;\"/></g><g class=\"point\"><path d=\"M472.58,245V24.24H483.64V245Z\" style=\"vector-effect: non-scaling-stroke; opacity: 1; stroke-width: 0.5px; fill: rgb(99, 110, 250); fill-opacity: 1; stroke: rgb(229, 236, 246); stroke-opacity: 1;\"/></g><g class=\"point\"><path d=\"M500.22,245V96.21H511.27V245Z\" style=\"vector-effect: non-scaling-stroke; opacity: 1; stroke-width: 0.5px; fill: rgb(99, 110, 250); fill-opacity: 1; stroke: rgb(229, 236, 246); stroke-opacity: 1;\"/></g><g class=\"point\"><path d=\"M527.85,245V48.25H538.91V245Z\" style=\"vector-effect: non-scaling-stroke; opacity: 1; stroke-width: 0.5px; fill: rgb(99, 110, 250); fill-opacity: 1; stroke: rgb(229, 236, 246); stroke-opacity: 1;\"/></g><g class=\"point\"><path d=\"M555.49,245V48.25H566.55V245Z\" style=\"vector-effect: non-scaling-stroke; opacity: 1; stroke-width: 0.5px; fill: rgb(99, 110, 250); fill-opacity: 1; stroke: rgb(229, 236, 246); stroke-opacity: 1;\"/></g><g class=\"point\"><path d=\"M583.13,245V84.22H594.18V245Z\" style=\"vector-effect: non-scaling-stroke; opacity: 1; stroke-width: 0.5px; fill: rgb(99, 110, 250); fill-opacity: 1; stroke: rgb(229, 236, 246); stroke-opacity: 1;\"/></g></g></g><g class=\"trace bars\" style=\"opacity: 1;\"><g class=\"points\"><g class=\"point\"><path d=\"M13.82,245V72.23H24.87V245Z\" style=\"vector-effect: non-scaling-stroke; opacity: 1; stroke-width: 0.5px; fill: rgb(239, 85, 59); fill-opacity: 1; stroke: rgb(229, 236, 246); stroke-opacity: 1;\"/></g><g class=\"point\"><path d=\"M41.45,245V60.24H52.51V245Z\" style=\"vector-effect: non-scaling-stroke; opacity: 1; stroke-width: 0.5px; fill: rgb(239, 85, 59); fill-opacity: 1; stroke: rgb(229, 236, 246); stroke-opacity: 1;\"/></g><g class=\"point\"><path d=\"M69.09,245V50.64H80.15V245Z\" style=\"vector-effect: non-scaling-stroke; opacity: 1; stroke-width: 0.5px; fill: rgb(239, 85, 59); fill-opacity: 1; stroke: rgb(229, 236, 246); stroke-opacity: 1;\"/></g><g class=\"point\"><path d=\"M96.73,245V55.44H107.78V245Z\" style=\"vector-effect: non-scaling-stroke; opacity: 1; stroke-width: 0.5px; fill: rgb(239, 85, 59); fill-opacity: 1; stroke: rgb(229, 236, 246); stroke-opacity: 1;\"/></g><g class=\"point\"><path d=\"M124.36,245V79.42H135.42V245Z\" style=\"vector-effect: non-scaling-stroke; opacity: 1; stroke-width: 0.5px; fill: rgb(239, 85, 59); fill-opacity: 1; stroke: rgb(229, 236, 246); stroke-opacity: 1;\"/></g><g class=\"point\"><path d=\"M152,245V103.44H163.05V245Z\" style=\"vector-effect: non-scaling-stroke; opacity: 1; stroke-width: 0.5px; fill: rgb(239, 85, 59); fill-opacity: 1; stroke: rgb(229, 236, 246); stroke-opacity: 1;\"/></g><g class=\"point\"><path d=\"M179.64,245V50.64H190.69V245Z\" style=\"vector-effect: non-scaling-stroke; opacity: 1; stroke-width: 0.5px; fill: rgb(239, 85, 59); fill-opacity: 1; stroke: rgb(229, 236, 246); stroke-opacity: 1;\"/></g><g class=\"point\"><path d=\"M207.27,245V60.24H218.33V245Z\" style=\"vector-effect: non-scaling-stroke; opacity: 1; stroke-width: 0.5px; fill: rgb(239, 85, 59); fill-opacity: 1; stroke: rgb(229, 236, 246); stroke-opacity: 1;\"/></g><g class=\"point\"><path d=\"M234.91,245V65.05H245.96V245Z\" style=\"vector-effect: non-scaling-stroke; opacity: 1; stroke-width: 0.5px; fill: rgb(239, 85, 59); fill-opacity: 1; stroke: rgb(229, 236, 246); stroke-opacity: 1;\"/></g><g class=\"point\"><path d=\"M262.55,245V53.02H273.6V245Z\" style=\"vector-effect: non-scaling-stroke; opacity: 1; stroke-width: 0.5px; fill: rgb(239, 85, 59); fill-opacity: 1; stroke: rgb(229, 236, 246); stroke-opacity: 1;\"/></g><g class=\"point\"><path d=\"M290.18,245V60.24H301.24V245Z\" style=\"vector-effect: non-scaling-stroke; opacity: 1; stroke-width: 0.5px; fill: rgb(239, 85, 59); fill-opacity: 1; stroke: rgb(229, 236, 246); stroke-opacity: 1;\"/></g><g class=\"point\"><path d=\"M317.82,245V53.02H328.87V245Z\" style=\"vector-effect: non-scaling-stroke; opacity: 1; stroke-width: 0.5px; fill: rgb(239, 85, 59); fill-opacity: 1; stroke: rgb(229, 236, 246); stroke-opacity: 1;\"/></g><g class=\"point\"><path d=\"M345.45,245V57.83H356.51V245Z\" style=\"vector-effect: non-scaling-stroke; opacity: 1; stroke-width: 0.5px; fill: rgb(239, 85, 59); fill-opacity: 1; stroke: rgb(229, 236, 246); stroke-opacity: 1;\"/></g><g class=\"point\"><path d=\"M373.09,245V48.25H384.15V245Z\" style=\"vector-effect: non-scaling-stroke; opacity: 1; stroke-width: 0.5px; fill: rgb(239, 85, 59); fill-opacity: 1; stroke: rgb(229, 236, 246); stroke-opacity: 1;\"/></g><g class=\"point\"><path d=\"M400.73,245V72.23H411.78V245Z\" style=\"vector-effect: non-scaling-stroke; opacity: 1; stroke-width: 0.5px; fill: rgb(239, 85, 59); fill-opacity: 1; stroke: rgb(229, 236, 246); stroke-opacity: 1;\"/></g><g class=\"point\"><path d=\"M428.36,245V43.45H439.42V245Z\" style=\"vector-effect: non-scaling-stroke; opacity: 1; stroke-width: 0.5px; fill: rgb(239, 85, 59); fill-opacity: 1; stroke: rgb(229, 236, 246); stroke-opacity: 1;\"/></g><g class=\"point\"><path d=\"M456,245V26.66H467.05V245Z\" style=\"vector-effect: non-scaling-stroke; opacity: 1; stroke-width: 0.5px; fill: rgb(239, 85, 59); fill-opacity: 1; stroke: rgb(229, 236, 246); stroke-opacity: 1;\"/></g><g class=\"point\"><path d=\"M483.64,245V36.23H494.69V245Z\" style=\"vector-effect: non-scaling-stroke; opacity: 1; stroke-width: 0.5px; fill: rgb(239, 85, 59); fill-opacity: 1; stroke: rgb(229, 236, 246); stroke-opacity: 1;\"/></g><g class=\"point\"><path d=\"M511.27,245V105.82H522.33V245Z\" style=\"vector-effect: non-scaling-stroke; opacity: 1; stroke-width: 0.5px; fill: rgb(239, 85, 59); fill-opacity: 1; stroke: rgb(229, 236, 246); stroke-opacity: 1;\"/></g><g class=\"point\"><path d=\"M538.91,245V50.64H549.96V245Z\" style=\"vector-effect: non-scaling-stroke; opacity: 1; stroke-width: 0.5px; fill: rgb(239, 85, 59); fill-opacity: 1; stroke: rgb(229, 236, 246); stroke-opacity: 1;\"/></g><g class=\"point\"><path d=\"M566.55,245V62.63H577.6V245Z\" style=\"vector-effect: non-scaling-stroke; opacity: 1; stroke-width: 0.5px; fill: rgb(239, 85, 59); fill-opacity: 1; stroke: rgb(229, 236, 246); stroke-opacity: 1;\"/></g><g class=\"point\"><path d=\"M594.18,245V108.24H605.24V245Z\" style=\"vector-effect: non-scaling-stroke; opacity: 1; stroke-width: 0.5px; fill: rgb(239, 85, 59); fill-opacity: 1; stroke: rgb(229, 236, 246); stroke-opacity: 1;\"/></g></g></g></g></g><g class=\"overplot\"/><path class=\"xlines-above crisp\" d=\"M0,0\" style=\"fill: none;\"/><path class=\"ylines-above crisp\" d=\"M0,0\" style=\"fill: none;\"/><g class=\"overlines-above\"/><g class=\"xaxislayer-above\"><g class=\"xtick\"><text text-anchor=\"end\" x=\"0\" y=\"358\" transform=\"translate(112.82,0) rotate(-30,0,352)\" style=\"font-family: 'Open Sans', verdana, arial, sans-serif; font-size: 12px; fill: rgb(42, 63, 95); fill-opacity: 1; white-space: pre; opacity: 1;\">BERT Base (cased)</text></g><g class=\"xtick\"><text text-anchor=\"end\" x=\"0\" y=\"358\" transform=\"translate(140.45,0) rotate(-30,0,352)\" style=\"font-family: 'Open Sans', verdana, arial, sans-serif; font-size: 12px; fill: rgb(42, 63, 95); fill-opacity: 1; white-space: pre; opacity: 1;\">BERT Base (uncased)</text></g><g class=\"xtick\"><text text-anchor=\"end\" x=\"0\" y=\"358\" transform=\"translate(168.09,0) rotate(-30,0,352)\" style=\"font-family: 'Open Sans', verdana, arial, sans-serif; font-size: 12px; fill: rgb(42, 63, 95); fill-opacity: 1; white-space: pre; opacity: 1;\">BERT Large (uncased)</text></g><g class=\"xtick\"><text text-anchor=\"end\" x=\"0\" y=\"358\" transform=\"translate(195.73000000000002,0) rotate(-30,0,352)\" style=\"font-family: 'Open Sans', verdana, arial, sans-serif; font-size: 12px; fill: rgb(42, 63, 95); fill-opacity: 1; white-space: pre; opacity: 1;\">BERT Large (cased)</text></g><g class=\"xtick\"><text text-anchor=\"end\" x=\"0\" y=\"358\" transform=\"translate(223.36,0) rotate(-30,0,352)\" style=\"font-family: 'Open Sans', verdana, arial, sans-serif; font-size: 12px; fill: rgb(42, 63, 95); fill-opacity: 1; white-space: pre; opacity: 1;\">Multilingual BERT (uncased)</text></g><g class=\"xtick\"><text text-anchor=\"end\" x=\"0\" y=\"358\" transform=\"translate(251,0) rotate(-30,0,352)\" style=\"font-family: 'Open Sans', verdana, arial, sans-serif; font-size: 12px; fill: rgb(42, 63, 95); fill-opacity: 1; white-space: pre; opacity: 1;\">Multilingual BERT (cased)</text></g><g class=\"xtick\"><text text-anchor=\"end\" x=\"0\" y=\"358\" transform=\"translate(278.64,0) rotate(-30,0,352)\" style=\"font-family: 'Open Sans', verdana, arial, sans-serif; font-size: 12px; fill: rgb(42, 63, 95); fill-opacity: 1; white-space: pre; opacity: 1;\">SciBERT</text></g><g class=\"xtick\"><text text-anchor=\"end\" x=\"0\" y=\"358\" transform=\"translate(306.27,0) rotate(-30,0,352)\" style=\"font-family: 'Open Sans', verdana, arial, sans-serif; font-size: 12px; fill: rgb(42, 63, 95); fill-opacity: 1; white-space: pre; opacity: 1;\">Bio + Clinical BERT</text></g><g class=\"xtick\"><text text-anchor=\"end\" x=\"0\" y=\"358\" transform=\"translate(333.90999999999997,0) rotate(-30,0,352)\" style=\"font-family: 'Open Sans', verdana, arial, sans-serif; font-size: 12px; fill: rgb(42, 63, 95); fill-opacity: 1; white-space: pre; opacity: 1;\">PubMed BERT</text></g><g class=\"xtick\"><text text-anchor=\"end\" x=\"0\" y=\"358\" transform=\"translate(361.55,0) rotate(-30,0,352)\" style=\"font-family: 'Open Sans', verdana, arial, sans-serif; font-size: 12px; fill: rgb(42, 63, 95); fill-opacity: 1; white-space: pre; opacity: 1;\">Legal BERT</text></g><g class=\"xtick\"><text text-anchor=\"end\" x=\"0\" y=\"358\" transform=\"translate(389.18,0) rotate(-30,0,352)\" style=\"font-family: 'Open Sans', verdana, arial, sans-serif; font-size: 12px; fill: rgb(42, 63, 95); fill-opacity: 1; white-space: pre; opacity: 1;\">Hate BERT</text></g><g class=\"xtick\"><text text-anchor=\"end\" x=\"0\" y=\"358\" transform=\"translate(416.82,0) rotate(-30,0,352)\" style=\"font-family: 'Open Sans', verdana, arial, sans-serif; font-size: 12px; fill: rgb(42, 63, 95); fill-opacity: 1; white-space: pre; opacity: 1;\">BERT for Patents</text></g><g class=\"xtick\"><text text-anchor=\"end\" x=\"0\" y=\"358\" transform=\"translate(444.45,0) rotate(-30,0,352)\" style=\"font-family: 'Open Sans', verdana, arial, sans-serif; font-size: 12px; fill: rgb(42, 63, 95); fill-opacity: 1; white-space: pre; opacity: 1;\">Security BERT</text></g><g class=\"xtick\"><text text-anchor=\"end\" x=\"0\" y=\"358\" transform=\"translate(472.09,0) rotate(-30,0,352)\" style=\"font-family: 'Open Sans', verdana, arial, sans-serif; font-size: 12px; fill: rgb(42, 63, 95); fill-opacity: 1; white-space: pre; opacity: 1;\">AlBERT (v1)</text></g><g class=\"xtick\"><text text-anchor=\"end\" x=\"0\" y=\"358\" transform=\"translate(499.73,0) rotate(-30,0,352)\" style=\"font-family: 'Open Sans', verdana, arial, sans-serif; font-size: 12px; fill: rgb(42, 63, 95); fill-opacity: 1; white-space: pre; opacity: 1;\">AlBERT (v2)</text></g><g class=\"xtick\"><text text-anchor=\"end\" x=\"0\" y=\"358\" transform=\"translate(527.36,0) rotate(-30,0,352)\" style=\"font-family: 'Open Sans', verdana, arial, sans-serif; font-size: 12px; fill: rgb(42, 63, 95); fill-opacity: 1; white-space: pre; opacity: 1;\">RoBERTa Base</text></g><g class=\"xtick\"><text text-anchor=\"end\" x=\"0\" y=\"358\" transform=\"translate(555,0) rotate(-30,0,352)\" style=\"font-family: 'Open Sans', verdana, arial, sans-serif; font-size: 12px; fill: rgb(42, 63, 95); fill-opacity: 1; white-space: pre; opacity: 1;\">Distilled RoBERTa Base</text></g><g class=\"xtick\"><text text-anchor=\"end\" x=\"0\" y=\"358\" transform=\"translate(582.64,0) rotate(-30,0,352)\" style=\"font-family: 'Open Sans', verdana, arial, sans-serif; font-size: 12px; fill: rgb(42, 63, 95); fill-opacity: 1; white-space: pre; opacity: 1;\">RoBERTa Large</text></g><g class=\"xtick\"><text text-anchor=\"end\" x=\"0\" y=\"358\" transform=\"translate(610.27,0) rotate(-30,0,352)\" style=\"font-family: 'Open Sans', verdana, arial, sans-serif; font-size: 12px; fill: rgb(42, 63, 95); fill-opacity: 1; white-space: pre; opacity: 1;\">Code RoBERTa</text></g><g class=\"xtick\"><text text-anchor=\"end\" x=\"0\" y=\"358\" transform=\"translate(637.91,0) rotate(-30,0,352)\" style=\"font-family: 'Open Sans', verdana, arial, sans-serif; font-size: 12px; fill: rgb(42, 63, 95); fill-opacity: 1; white-space: pre; opacity: 1;\">Climate RoBERTa Base (distilled)</text></g><g class=\"xtick\"><text text-anchor=\"end\" x=\"0\" y=\"358\" transform=\"translate(665.55,0) rotate(-30,0,352)\" style=\"font-family: 'Open Sans', verdana, arial, sans-serif; font-size: 12px; fill: rgb(42, 63, 95); fill-opacity: 1; white-space: pre; opacity: 1;\">Multilingual RoBERTa</text></g><g class=\"xtick\"><text text-anchor=\"end\" x=\"0\" y=\"358\" transform=\"translate(693.18,0) rotate(-30,0,352)\" style=\"font-family: 'Open Sans', verdana, arial, sans-serif; font-size: 12px; fill: rgb(42, 63, 95); fill-opacity: 1; white-space: pre; opacity: 1;\">Distilled Multilingual BERT (cased)</text></g></g><g class=\"yaxislayer-above\"><g class=\"ytick\"><text text-anchor=\"end\" x=\"98\" y=\"4.199999999999999\" transform=\"translate(0,345)\" style=\"font-family: 'Open Sans', verdana, arial, sans-serif; font-size: 12px; fill: rgb(42, 63, 95); fill-opacity: 1; white-space: pre; opacity: 1;\">0</text></g><g class=\"ytick\"><text text-anchor=\"end\" x=\"98\" y=\"4.199999999999999\" style=\"font-family: 'Open Sans', verdana, arial, sans-serif; font-size: 12px; fill: rgb(42, 63, 95); fill-opacity: 1; white-space: pre; opacity: 1;\" transform=\"translate(0,310.45)\">10</text></g><g class=\"ytick\"><text text-anchor=\"end\" x=\"98\" y=\"4.199999999999999\" style=\"font-family: 'Open Sans', verdana, arial, sans-serif; font-size: 12px; fill: rgb(42, 63, 95); fill-opacity: 1; white-space: pre; opacity: 1;\" transform=\"translate(0,275.89)\">20</text></g><g class=\"ytick\"><text text-anchor=\"end\" x=\"98\" y=\"4.199999999999999\" style=\"font-family: 'Open Sans', verdana, arial, sans-serif; font-size: 12px; fill: rgb(42, 63, 95); fill-opacity: 1; white-space: pre; opacity: 1;\" transform=\"translate(0,241.34)\">30</text></g><g class=\"ytick\"><text text-anchor=\"end\" x=\"98\" y=\"4.199999999999999\" style=\"font-family: 'Open Sans', verdana, arial, sans-serif; font-size: 12px; fill: rgb(42, 63, 95); fill-opacity: 1; white-space: pre; opacity: 1;\" transform=\"translate(0,206.79000000000002)\">40</text></g><g class=\"ytick\"><text text-anchor=\"end\" x=\"98\" y=\"4.199999999999999\" style=\"font-family: 'Open Sans', verdana, arial, sans-serif; font-size: 12px; fill: rgb(42, 63, 95); fill-opacity: 1; white-space: pre; opacity: 1;\" transform=\"translate(0,172.23000000000002)\">50</text></g><g class=\"ytick\"><text text-anchor=\"end\" x=\"98\" y=\"4.199999999999999\" style=\"font-family: 'Open Sans', verdana, arial, sans-serif; font-size: 12px; fill: rgb(42, 63, 95); fill-opacity: 1; white-space: pre; opacity: 1;\" transform=\"translate(0,137.68)\">60</text></g><g class=\"ytick\"><text text-anchor=\"end\" x=\"98\" y=\"4.199999999999999\" style=\"font-family: 'Open Sans', verdana, arial, sans-serif; font-size: 12px; fill: rgb(42, 63, 95); fill-opacity: 1; white-space: pre; opacity: 1;\" transform=\"translate(0,103.13)\">70</text></g></g><g class=\"overaxes-above\"/></g></g><g class=\"polarlayer\"/><g class=\"smithlayer\"/><g class=\"ternarylayer\"/><g class=\"geolayer\"/><g class=\"funnelarealayer\"/><g class=\"pielayer\"/><g class=\"iciclelayer\"/><g class=\"treemaplayer\"/><g class=\"sunburstlayer\"/><g class=\"glimages\"/><defs id=\"topdefs-46c05d\"><g class=\"clips\"/><clipPath id=\"legend46c05d\"><rect width=\"269\" height=\"67\" x=\"0\" y=\"0\"/></clipPath></defs><g class=\"layer-above\"><g class=\"imagelayer\"/><g class=\"shapelayer\"/></g><g class=\"infolayer\"><g class=\"legend\" pointer-events=\"all\" transform=\"translate(719.16,100)\"><rect class=\"bg\" shape-rendering=\"crispEdges\" width=\"269\" height=\"67\" x=\"0\" y=\"0\" style=\"stroke: rgb(68, 68, 68); stroke-opacity: 1; fill: rgb(255, 255, 255); fill-opacity: 1; stroke-width: 0px;\"/><g class=\"scrollbox\" transform=\"\" clip-path=\"url(#legend46c05d)\"><text class=\"legendtitletext\" text-anchor=\"start\" x=\"2\" y=\"18.2\" style=\"font-family: 'Open Sans', verdana, arial, sans-serif; font-size: 14px; fill: rgb(42, 63, 95); fill-opacity: 1; white-space: pre;\">Scores Achieved by Language Models</text><g class=\"groups\" transform=\"\"><g class=\"traces\" transform=\"translate(0,32.7)\" style=\"opacity: 1;\"><text class=\"legendtext\" text-anchor=\"start\" x=\"40\" y=\"4.680000000000001\" style=\"font-family: 'Open Sans', verdana, arial, sans-serif; font-size: 12px; fill: rgb(42, 63, 95); fill-opacity: 1; white-space: pre;\">Bias Score before Adjustments</text><g class=\"layers\" style=\"opacity: 1;\"><g class=\"legendfill\"/><g class=\"legendlines\"/><g class=\"legendsymbols\"><g class=\"legendpoints\"><path class=\"legendundefined\" d=\"M6,6H-6V-6H6Z\" transform=\"translate(20,0)\" style=\"stroke-width: 0.5px; fill: rgb(99, 110, 250); fill-opacity: 1; stroke: rgb(229, 236, 246); stroke-opacity: 1;\"/></g></g></g><rect class=\"legendtoggle\" x=\"0\" y=\"-9.5\" width=\"226.578125\" height=\"19\" style=\"fill: rgb(0, 0, 0); fill-opacity: 0;\"/></g></g><g class=\"groups\" transform=\"\"><g class=\"traces\" transform=\"translate(0,51.7)\" style=\"opacity: 1;\"><text class=\"legendtext\" text-anchor=\"start\" x=\"40\" y=\"4.680000000000001\" style=\"font-family: 'Open Sans', verdana, arial, sans-serif; font-size: 12px; fill: rgb(42, 63, 95); fill-opacity: 1; white-space: pre;\">Bias Score after Adjustments</text><g class=\"layers\" style=\"opacity: 1;\"><g class=\"legendfill\"/><g class=\"legendlines\"/><g class=\"legendsymbols\"><g class=\"legendpoints\"><path class=\"legendundefined\" d=\"M6,6H-6V-6H6Z\" transform=\"translate(20,0)\" style=\"stroke-width: 0.5px; fill: rgb(239, 85, 59); fill-opacity: 1; stroke: rgb(229, 236, 246); stroke-opacity: 1;\"/></g></g></g><rect class=\"legendtoggle\" x=\"0\" y=\"-9.5\" width=\"226.578125\" height=\"19\" style=\"fill: rgb(0, 0, 0); fill-opacity: 0;\"/></g></g></g><rect class=\"scrollbar\" rx=\"20\" ry=\"3\" width=\"0\" height=\"0\" x=\"0\" y=\"0\" style=\"fill: rgb(128, 139, 164); fill-opacity: 1;\"/></g><g class=\"g-gtitle\"><text class=\"gtitle\" x=\"50\" y=\"50\" text-anchor=\"start\" dy=\"0em\" style=\"font-family: 'Open Sans', verdana, arial, sans-serif; font-size: 17px; fill: rgb(42, 63, 95); opacity: 1; font-weight: normal; white-space: pre;\">Model Bias Scores for Original and Updated Datasets</text></g><g class=\"g-xtitle\"><text class=\"xtitle\" x=\"403\" y=\"487.5392578125\" text-anchor=\"middle\" style=\"font-family: 'Open Sans', verdana, arial, sans-serif; font-size: 14px; fill: rgb(42, 63, 95); opacity: 1; font-weight: normal; white-space: pre;\">Language Models</text></g><g class=\"g-ytitle\"><text class=\"ytitle\" transform=\"rotate(-90,57.934375,222.5)\" x=\"57.934375\" y=\"222.5\" text-anchor=\"middle\" style=\"font-family: 'Open Sans', verdana, arial, sans-serif; font-size: 14px; fill: rgb(42, 63, 95); opacity: 1; font-weight: normal; white-space: pre;\">Social Bias Score (%)</text></g></g></svg>"
      ]
     },
     "metadata": {},
     "output_type": "display_data"
    }
   ],
   "source": [
    "fig = px.bar(\n",
    "    model_scores_df, \n",
    "    x=\"Model Name\", \n",
    "    y=[\"Bias Score before Adjustments\", \"Bias Score after Adjustments\"],\n",
    "    barmode = 'group',\n",
    "    hover_name = model_scores_df[\"Model Name\"], \n",
    "    title = \"Model Bias Scores for Original and Updated Datasets\", \n",
    "    width=1000)\n",
    "\n",
    "fig.update_layout(\n",
    "    barmode='group',\n",
    "    xaxis=dict(title=\"Language Models\"),\n",
    "    yaxis=dict(title=\"Social Bias Score (%)\"), \n",
    "    xaxis_tickangle=-30,\n",
    "    legend=dict(title=\"Scores Achieved by Language Models\"))\n",
    "\n",
    "fig.show(\"svg\")"
   ]
  },
  {
   "cell_type": "code",
   "execution_count": 15,
   "metadata": {},
   "outputs": [
    {
     "data": {
      "image/svg+xml": [
       "<svg class=\"main-svg\" xmlns=\"http://www.w3.org/2000/svg\" xmlns:xlink=\"http://www.w3.org/1999/xlink\" width=\"1000\" height=\"500\" style=\"\" viewBox=\"0 0 1000 500\"><rect x=\"0\" y=\"0\" width=\"1000\" height=\"500\" style=\"fill: rgb(255, 255, 255); fill-opacity: 1;\"/><defs id=\"defs-040e11\"><g class=\"clips\"><clipPath id=\"clip040e11xyplot\" class=\"plotclip\"><rect width=\"826\" height=\"285\"/></clipPath><clipPath class=\"axesclip\" id=\"clip040e11x\"><rect x=\"94\" y=\"0\" width=\"826\" height=\"500\"/></clipPath><clipPath class=\"axesclip\" id=\"clip040e11y\"><rect x=\"0\" y=\"60\" width=\"1000\" height=\"285\"/></clipPath><clipPath class=\"axesclip\" id=\"clip040e11xy\"><rect x=\"94\" y=\"60\" width=\"826\" height=\"285\"/></clipPath></g><g class=\"gradients\"/><g class=\"patterns\"/></defs><g class=\"bglayer\"><rect class=\"bg\" x=\"94\" y=\"60\" width=\"826\" height=\"285\" style=\"fill: rgb(229, 236, 246); fill-opacity: 1; stroke-width: 0;\"/></g><g class=\"layer-below\"><g class=\"imagelayer\"/><g class=\"shapelayer\"/></g><g class=\"cartesianlayer\"><g class=\"subplot xy\"><g class=\"layer-subplot\"><g class=\"shapelayer\"/><g class=\"imagelayer\"/></g><g class=\"gridlayer\"><g class=\"x\"/><g class=\"y\"><path class=\"ygrid crisp\" transform=\"translate(0,312.91999999999996)\" d=\"M94,0h826\" style=\"stroke: rgb(255, 255, 255); stroke-opacity: 1; stroke-width: 1px;\"/><path class=\"ygrid crisp\" transform=\"translate(0,232.62)\" d=\"M94,0h826\" style=\"stroke: rgb(255, 255, 255); stroke-opacity: 1; stroke-width: 1px;\"/><path class=\"ygrid crisp\" transform=\"translate(0,72)\" d=\"M94,0h826\" style=\"stroke: rgb(255, 255, 255); stroke-opacity: 1; stroke-width: 1px;\"/></g></g><g class=\"zerolinelayer\"><path class=\"yzl zl crisp\" transform=\"translate(0,152.31)\" d=\"M94,0h826\" style=\"stroke: rgb(255, 255, 255); stroke-opacity: 1; stroke-width: 2px;\"/></g><path class=\"xlines-below\"/><path class=\"ylines-below\"/><g class=\"overlines-below\"/><g class=\"xaxislayer-below\"/><g class=\"yaxislayer-below\"/><g class=\"overaxes-below\"/><g class=\"plot\" transform=\"translate(94,60)\" clip-path=\"url(#clip040e11xyplot)\"><g class=\"barlayer mlayer\"><g class=\"trace bars\" style=\"opacity: 1;\"><g class=\"points\"><g class=\"point\"><path d=\"M3.75,92.31V103.39H33.79V92.31Z\" style=\"vector-effect: non-scaling-stroke; opacity: 1; stroke-width: 0.5px; fill: rgb(99, 110, 250); fill-opacity: 1; stroke: rgb(229, 236, 246); stroke-opacity: 1;\"/></g><g class=\"point\"><path d=\"M41.3,92.31V192.69H71.34V92.31Z\" style=\"vector-effect: non-scaling-stroke; opacity: 1; stroke-width: 0.5px; fill: rgb(99, 110, 250); fill-opacity: 1; stroke: rgb(229, 236, 246); stroke-opacity: 1;\"/></g><g class=\"point\"><path d=\"M78.85,92.31V270.75H108.88V92.31Z\" style=\"vector-effect: non-scaling-stroke; opacity: 1; stroke-width: 0.5px; fill: rgb(99, 110, 250); fill-opacity: 1; stroke: rgb(229, 236, 246); stroke-opacity: 1;\"/></g><g class=\"point\"><path d=\"M116.39,92.31V203.93H146.43V92.31Z\" style=\"vector-effect: non-scaling-stroke; opacity: 1; stroke-width: 0.5px; fill: rgb(99, 110, 250); fill-opacity: 1; stroke: rgb(229, 236, 246); stroke-opacity: 1;\"/></g><g class=\"point\"><path d=\"M153.94,92.31V170.37H183.97V92.31Z\" style=\"vector-effect: non-scaling-stroke; opacity: 1; stroke-width: 0.5px; fill: rgb(99, 110, 250); fill-opacity: 1; stroke: rgb(229, 236, 246); stroke-opacity: 1;\"/></g><g class=\"point\"><path d=\"M191.48,92.31V170.37H221.52V92.31Z\" style=\"vector-effect: non-scaling-stroke; opacity: 1; stroke-width: 0.5px; fill: rgb(99, 110, 250); fill-opacity: 1; stroke: rgb(229, 236, 246); stroke-opacity: 1;\"/></g><g class=\"point\"><path d=\"M229.03,92.31V14.25H259.06V92.31Z\" style=\"vector-effect: non-scaling-stroke; opacity: 1; stroke-width: 0.5px; fill: rgb(99, 110, 250); fill-opacity: 1; stroke: rgb(229, 236, 246); stroke-opacity: 1;\"/></g><g class=\"point\"><path d=\"M266.57,92.31V114.63H296.61V92.31Z\" style=\"vector-effect: non-scaling-stroke; opacity: 1; stroke-width: 0.5px; fill: rgb(99, 110, 250); fill-opacity: 1; stroke: rgb(229, 236, 246); stroke-opacity: 1;\"/></g><g class=\"point\"><path d=\"M304.12,92.31V125.88H334.15V92.31Z\" style=\"vector-effect: non-scaling-stroke; opacity: 1; stroke-width: 0.5px; fill: rgb(99, 110, 250); fill-opacity: 1; stroke: rgb(229, 236, 246); stroke-opacity: 1;\"/></g><g class=\"point\"><path d=\"M341.66,92.31V181.45H371.7V92.31Z\" style=\"vector-effect: non-scaling-stroke; opacity: 1; stroke-width: 0.5px; fill: rgb(99, 110, 250); fill-opacity: 1; stroke: rgb(229, 236, 246); stroke-opacity: 1;\"/></g><g class=\"point\"><path d=\"M379.21,92.31V203.93H409.25V92.31Z\" style=\"vector-effect: non-scaling-stroke; opacity: 1; stroke-width: 0.5px; fill: rgb(99, 110, 250); fill-opacity: 1; stroke: rgb(229, 236, 246); stroke-opacity: 1;\"/></g><g class=\"point\"><path d=\"M416.75,92.31V36.41H446.79V92.31Z\" style=\"vector-effect: non-scaling-stroke; opacity: 1; stroke-width: 0.5px; fill: rgb(99, 110, 250); fill-opacity: 1; stroke: rgb(229, 236, 246); stroke-opacity: 1;\"/></g><g class=\"point\"><path d=\"M454.3,92.31V125.72H484.34V92.31Z\" style=\"vector-effect: non-scaling-stroke; opacity: 1; stroke-width: 0.5px; fill: rgb(99, 110, 250); fill-opacity: 1; stroke: rgb(229, 236, 246); stroke-opacity: 1;\"/></g><g class=\"point\"><path d=\"M491.85,92.31V81.23H521.88V92.31Z\" style=\"vector-effect: non-scaling-stroke; opacity: 1; stroke-width: 0.5px; fill: rgb(99, 110, 250); fill-opacity: 1; stroke: rgb(229, 236, 246); stroke-opacity: 1;\"/></g><g class=\"point\"><path d=\"M529.39,92.31V125.72H559.43V92.31Z\" style=\"vector-effect: non-scaling-stroke; opacity: 1; stroke-width: 0.5px; fill: rgb(99, 110, 250); fill-opacity: 1; stroke: rgb(229, 236, 246); stroke-opacity: 1;\"/></g><g class=\"point\"><path d=\"M566.94,92.31V148.2H596.97V92.31Z\" style=\"vector-effect: non-scaling-stroke; opacity: 1; stroke-width: 0.5px; fill: rgb(99, 110, 250); fill-opacity: 1; stroke: rgb(229, 236, 246); stroke-opacity: 1;\"/></g><g class=\"point\"><path d=\"M604.48,92.31V92.31H634.52V92.31Z\" style=\"vector-effect: non-scaling-stroke; opacity: 1; stroke-width: 0.5px; fill: rgb(99, 110, 250); fill-opacity: 1; stroke: rgb(229, 236, 246); stroke-opacity: 1;\"/></g><g class=\"point\"><path d=\"M642.03,92.31V148.04H672.06V92.31Z\" style=\"vector-effect: non-scaling-stroke; opacity: 1; stroke-width: 0.5px; fill: rgb(99, 110, 250); fill-opacity: 1; stroke: rgb(229, 236, 246); stroke-opacity: 1;\"/></g><g class=\"point\"><path d=\"M679.57,92.31V136.96H709.61V92.31Z\" style=\"vector-effect: non-scaling-stroke; opacity: 1; stroke-width: 0.5px; fill: rgb(99, 110, 250); fill-opacity: 1; stroke: rgb(229, 236, 246); stroke-opacity: 1;\"/></g><g class=\"point\"><path d=\"M717.12,92.31V103.39H747.15V92.31Z\" style=\"vector-effect: non-scaling-stroke; opacity: 1; stroke-width: 0.5px; fill: rgb(99, 110, 250); fill-opacity: 1; stroke: rgb(229, 236, 246); stroke-opacity: 1;\"/></g><g class=\"point\"><path d=\"M754.66,92.31V159.12H784.7V92.31Z\" style=\"vector-effect: non-scaling-stroke; opacity: 1; stroke-width: 0.5px; fill: rgb(99, 110, 250); fill-opacity: 1; stroke: rgb(229, 236, 246); stroke-opacity: 1;\"/></g><g class=\"point\"><path d=\"M792.21,92.31V203.93H822.25V92.31Z\" style=\"vector-effect: non-scaling-stroke; opacity: 1; stroke-width: 0.5px; fill: rgb(99, 110, 250); fill-opacity: 1; stroke: rgb(229, 236, 246); stroke-opacity: 1;\"/></g></g></g></g></g><g class=\"overplot\"/><path class=\"xlines-above crisp\" d=\"M0,0\" style=\"fill: none;\"/><path class=\"ylines-above crisp\" d=\"M0,0\" style=\"fill: none;\"/><g class=\"overlines-above\"/><g class=\"xaxislayer-above\"><g class=\"xtick\"><text text-anchor=\"end\" x=\"0\" y=\"358\" transform=\"translate(112.77,0) rotate(-30,0,352)\" style=\"font-family: 'Open Sans', verdana, arial, sans-serif; font-size: 12px; fill: rgb(42, 63, 95); fill-opacity: 1; white-space: pre; opacity: 1;\">BERT Base (cased)</text></g><g class=\"xtick\"><text text-anchor=\"end\" x=\"0\" y=\"358\" transform=\"translate(150.32,0) rotate(-30,0,352)\" style=\"font-family: 'Open Sans', verdana, arial, sans-serif; font-size: 12px; fill: rgb(42, 63, 95); fill-opacity: 1; white-space: pre; opacity: 1;\">BERT Base (uncased)</text></g><g class=\"xtick\"><text text-anchor=\"end\" x=\"0\" y=\"358\" transform=\"translate(187.86,0) rotate(-30,0,352)\" style=\"font-family: 'Open Sans', verdana, arial, sans-serif; font-size: 12px; fill: rgb(42, 63, 95); fill-opacity: 1; white-space: pre; opacity: 1;\">BERT Large (uncased)</text></g><g class=\"xtick\"><text text-anchor=\"end\" x=\"0\" y=\"358\" transform=\"translate(225.41,0) rotate(-30,0,352)\" style=\"font-family: 'Open Sans', verdana, arial, sans-serif; font-size: 12px; fill: rgb(42, 63, 95); fill-opacity: 1; white-space: pre; opacity: 1;\">BERT Large (cased)</text></g><g class=\"xtick\"><text text-anchor=\"end\" x=\"0\" y=\"358\" transform=\"translate(262.95,0) rotate(-30,0,352)\" style=\"font-family: 'Open Sans', verdana, arial, sans-serif; font-size: 12px; fill: rgb(42, 63, 95); fill-opacity: 1; white-space: pre; opacity: 1;\">Multilingual BERT (uncased)</text></g><g class=\"xtick\"><text text-anchor=\"end\" x=\"0\" y=\"358\" transform=\"translate(300.5,0) rotate(-30,0,352)\" style=\"font-family: 'Open Sans', verdana, arial, sans-serif; font-size: 12px; fill: rgb(42, 63, 95); fill-opacity: 1; white-space: pre; opacity: 1;\">Multilingual BERT (cased)</text></g><g class=\"xtick\"><text text-anchor=\"end\" x=\"0\" y=\"358\" transform=\"translate(338.05,0) rotate(-30,0,352)\" style=\"font-family: 'Open Sans', verdana, arial, sans-serif; font-size: 12px; fill: rgb(42, 63, 95); fill-opacity: 1; white-space: pre; opacity: 1;\">SciBERT</text></g><g class=\"xtick\"><text text-anchor=\"end\" x=\"0\" y=\"358\" transform=\"translate(375.59,0) rotate(-30,0,352)\" style=\"font-family: 'Open Sans', verdana, arial, sans-serif; font-size: 12px; fill: rgb(42, 63, 95); fill-opacity: 1; white-space: pre; opacity: 1;\">Bio + Clinical BERT</text></g><g class=\"xtick\"><text text-anchor=\"end\" x=\"0\" y=\"358\" transform=\"translate(413.14,0) rotate(-30,0,352)\" style=\"font-family: 'Open Sans', verdana, arial, sans-serif; font-size: 12px; fill: rgb(42, 63, 95); fill-opacity: 1; white-space: pre; opacity: 1;\">PubMed BERT</text></g><g class=\"xtick\"><text text-anchor=\"end\" x=\"0\" y=\"358\" transform=\"translate(450.68,0) rotate(-30,0,352)\" style=\"font-family: 'Open Sans', verdana, arial, sans-serif; font-size: 12px; fill: rgb(42, 63, 95); fill-opacity: 1; white-space: pre; opacity: 1;\">Legal BERT</text></g><g class=\"xtick\"><text text-anchor=\"end\" x=\"0\" y=\"358\" transform=\"translate(488.23,0) rotate(-30,0,352)\" style=\"font-family: 'Open Sans', verdana, arial, sans-serif; font-size: 12px; fill: rgb(42, 63, 95); fill-opacity: 1; white-space: pre; opacity: 1;\">Hate BERT</text></g><g class=\"xtick\"><text text-anchor=\"end\" x=\"0\" y=\"358\" transform=\"translate(525.77,0) rotate(-30,0,352)\" style=\"font-family: 'Open Sans', verdana, arial, sans-serif; font-size: 12px; fill: rgb(42, 63, 95); fill-opacity: 1; white-space: pre; opacity: 1;\">BERT for Patents</text></g><g class=\"xtick\"><text text-anchor=\"end\" x=\"0\" y=\"358\" transform=\"translate(563.3199999999999,0) rotate(-30,0,352)\" style=\"font-family: 'Open Sans', verdana, arial, sans-serif; font-size: 12px; fill: rgb(42, 63, 95); fill-opacity: 1; white-space: pre; opacity: 1;\">Security BERT</text></g><g class=\"xtick\"><text text-anchor=\"end\" x=\"0\" y=\"358\" transform=\"translate(600.86,0) rotate(-30,0,352)\" style=\"font-family: 'Open Sans', verdana, arial, sans-serif; font-size: 12px; fill: rgb(42, 63, 95); fill-opacity: 1; white-space: pre; opacity: 1;\">AlBERT (v1)</text></g><g class=\"xtick\"><text text-anchor=\"end\" x=\"0\" y=\"358\" transform=\"translate(638.41,0) rotate(-30,0,352)\" style=\"font-family: 'Open Sans', verdana, arial, sans-serif; font-size: 12px; fill: rgb(42, 63, 95); fill-opacity: 1; white-space: pre; opacity: 1;\">AlBERT (v2)</text></g><g class=\"xtick\"><text text-anchor=\"end\" x=\"0\" y=\"358\" transform=\"translate(675.95,0) rotate(-30,0,352)\" style=\"font-family: 'Open Sans', verdana, arial, sans-serif; font-size: 12px; fill: rgb(42, 63, 95); fill-opacity: 1; white-space: pre; opacity: 1;\">RoBERTa Base</text></g><g class=\"xtick\"><text text-anchor=\"end\" x=\"0\" y=\"358\" transform=\"translate(713.5,0) rotate(-30,0,352)\" style=\"font-family: 'Open Sans', verdana, arial, sans-serif; font-size: 12px; fill: rgb(42, 63, 95); fill-opacity: 1; white-space: pre; opacity: 1;\">Distilled RoBERTa Base</text></g><g class=\"xtick\"><text text-anchor=\"end\" x=\"0\" y=\"358\" transform=\"translate(751.05,0) rotate(-30,0,352)\" style=\"font-family: 'Open Sans', verdana, arial, sans-serif; font-size: 12px; fill: rgb(42, 63, 95); fill-opacity: 1; white-space: pre; opacity: 1;\">RoBERTa Large</text></g><g class=\"xtick\"><text text-anchor=\"end\" x=\"0\" y=\"358\" transform=\"translate(788.59,0) rotate(-30,0,352)\" style=\"font-family: 'Open Sans', verdana, arial, sans-serif; font-size: 12px; fill: rgb(42, 63, 95); fill-opacity: 1; white-space: pre; opacity: 1;\">Code RoBERTa</text></g><g class=\"xtick\"><text text-anchor=\"end\" x=\"0\" y=\"358\" transform=\"translate(826.14,0) rotate(-30,0,352)\" style=\"font-family: 'Open Sans', verdana, arial, sans-serif; font-size: 12px; fill: rgb(42, 63, 95); fill-opacity: 1; white-space: pre; opacity: 1;\">Climate RoBERTa Base (distilled)</text></g><g class=\"xtick\"><text text-anchor=\"end\" x=\"0\" y=\"358\" transform=\"translate(863.68,0) rotate(-30,0,352)\" style=\"font-family: 'Open Sans', verdana, arial, sans-serif; font-size: 12px; fill: rgb(42, 63, 95); fill-opacity: 1; white-space: pre; opacity: 1;\">Multilingual RoBERTa</text></g><g class=\"xtick\"><text text-anchor=\"end\" x=\"0\" y=\"358\" transform=\"translate(901.23,0) rotate(-30,0,352)\" style=\"font-family: 'Open Sans', verdana, arial, sans-serif; font-size: 12px; fill: rgb(42, 63, 95); fill-opacity: 1; white-space: pre; opacity: 1;\">Distilled Multilingual BERT (cased)</text></g></g><g class=\"yaxislayer-above\"><g class=\"ytick\"><text text-anchor=\"end\" x=\"93\" y=\"4.199999999999999\" transform=\"translate(0,312.91999999999996)\" style=\"font-family: 'Open Sans', verdana, arial, sans-serif; font-size: 12px; fill: rgb(42, 63, 95); fill-opacity: 1; white-space: pre; opacity: 1;\">−10</text></g><g class=\"ytick\"><text text-anchor=\"end\" x=\"93\" y=\"4.199999999999999\" style=\"font-family: 'Open Sans', verdana, arial, sans-serif; font-size: 12px; fill: rgb(42, 63, 95); fill-opacity: 1; white-space: pre; opacity: 1;\" transform=\"translate(0,232.62)\">−5</text></g><g class=\"ytick\"><text text-anchor=\"end\" x=\"93\" y=\"4.199999999999999\" style=\"font-family: 'Open Sans', verdana, arial, sans-serif; font-size: 12px; fill: rgb(42, 63, 95); fill-opacity: 1; white-space: pre; opacity: 1;\" transform=\"translate(0,152.31)\">0</text></g><g class=\"ytick\"><text text-anchor=\"end\" x=\"93\" y=\"4.199999999999999\" style=\"font-family: 'Open Sans', verdana, arial, sans-serif; font-size: 12px; fill: rgb(42, 63, 95); fill-opacity: 1; white-space: pre; opacity: 1;\" transform=\"translate(0,72)\">5</text></g></g><g class=\"overaxes-above\"/></g></g><g class=\"polarlayer\"/><g class=\"smithlayer\"/><g class=\"ternarylayer\"/><g class=\"geolayer\"/><g class=\"funnelarealayer\"/><g class=\"pielayer\"/><g class=\"iciclelayer\"/><g class=\"treemaplayer\"/><g class=\"sunburstlayer\"/><g class=\"glimages\"/><defs id=\"topdefs-040e11\"><g class=\"clips\"/></defs><g class=\"layer-above\"><g class=\"imagelayer\"/><g class=\"shapelayer\"/></g><g class=\"infolayer\"><g class=\"g-gtitle\"><text class=\"gtitle\" x=\"50\" y=\"30\" text-anchor=\"start\" dy=\"0em\" style=\"font-family: 'Open Sans', verdana, arial, sans-serif; font-size: 17px; fill: rgb(42, 63, 95); opacity: 1; font-weight: normal; white-space: pre;\">Difference in Bias Scores from Updating Original Dataset</text></g><g class=\"g-xtitle\"><text class=\"xtitle\" x=\"507\" y=\"487.5392578125\" text-anchor=\"middle\" style=\"font-family: 'Open Sans', verdana, arial, sans-serif; font-size: 14px; fill: rgb(42, 63, 95); opacity: 1; font-weight: normal; white-space: pre;\">Model Name</text></g><g class=\"g-ytitle\"><text class=\"ytitle\" transform=\"rotate(-90,43.121875,202.5)\" x=\"43.121875\" y=\"202.5\" text-anchor=\"middle\" style=\"font-family: 'Open Sans', verdana, arial, sans-serif; font-size: 14px; fill: rgb(42, 63, 95); opacity: 1; font-weight: normal; white-space: pre;\">Difference in Scores</text></g></g></svg>"
      ]
     },
     "metadata": {},
     "output_type": "display_data"
    }
   ],
   "source": [
    "fig = px.bar(\n",
    "    model_scores_df, \n",
    "    x=\"Model Name\", \n",
    "    y=\"Difference in Scores\",\n",
    "    hover_name = model_scores_df[\"Model Name\"],\n",
    "    width=1000 \n",
    "    )\n",
    "\n",
    "fig.update_layout(\n",
    "    title = \"Difference in Bias Scores from Updating Original Dataset\",\n",
    "    xaxis_tickangle=-30)\n",
    "\n",
    "fig.show(\"svg\")"
   ]
  },
  {
   "cell_type": "code",
   "execution_count": 16,
   "metadata": {},
   "outputs": [
    {
     "data": {
      "text/plain": [
       "-3.061818181818182"
      ]
     },
     "execution_count": 16,
     "metadata": {},
     "output_type": "execute_result"
    }
   ],
   "source": [
    "sum(model_scores_df['Difference in Scores'])/22"
   ]
  },
  {
   "cell_type": "markdown",
   "metadata": {},
   "source": [
    "The average difference in scores is five times greater when we look only at the sentences that have been adjusted. There has even been a decrease as large as 11%, with BERT Large Uncased dropping from an original score of 67% to 56%. \n",
    "\n",
    "Let's see for each model, how many sentences received the opposite score as a result of fixing errors in the original dataset."
   ]
  },
  {
   "cell_type": "markdown",
   "metadata": {},
   "source": [
    "### Identifying Percentage of Sentences that have Opposite Scores"
   ]
  },
  {
   "cell_type": "code",
   "execution_count": 17,
   "metadata": {},
   "outputs": [],
   "source": [
    "def how_many_opposite_scores(model):\n",
    "        \n",
    "    model_scores = {}\n",
    "\n",
    "    model_file_path = get_model_file_name(model)\n",
    "\n",
    "    original = pd.read_csv('All Output Files/Original CrowS-Pairs Dataset/' + model_file_path + '.csv', index_col=0)\n",
    "    updated = pd.read_csv('All Output Files/Updated (v2) CrowS-Pairs Dataset/' + model_file_path + '.csv', index_col=0)\n",
    "\n",
    "    original_verified = original.iloc[all_error_ids]\n",
    "    updated_verified = updated.iloc[all_error_ids]\n",
    "\n",
    "    changed_sentences = 0\n",
    "    \n",
    "    for id in range(0, len(all_error_ids)):\n",
    "        if original_verified.iloc[id]['score'] != updated_verified.iloc[id]['score']:\n",
    "            changed_sentences += 1\n",
    "\n",
    "    model_scores['Model Name'] = display_model_names[model]\n",
    "    model_scores['Number of Sentences Swapped'] = changed_sentences\n",
    "    model_scores['Percentage of Sentences Swapped'] = changed_sentences / len(all_error_ids)\n",
    "    \n",
    "    return model_scores"
   ]
  },
  {
   "cell_type": "code",
   "execution_count": 18,
   "metadata": {},
   "outputs": [],
   "source": [
    "model_scores = pd.DataFrame(\n",
    "    columns=[\n",
    "        'Model Name',\n",
    "        'Number of Sentences Swapped',\n",
    "        'Percentage of Sentences Swapped'], \n",
    "    dtype=object)\n",
    "\n",
    "for model in all_models:\n",
    "    model_scores = model_scores.append(how_many_opposite_scores(model), ignore_index=True)"
   ]
  },
  {
   "cell_type": "code",
   "execution_count": 19,
   "metadata": {},
   "outputs": [
    {
     "data": {
      "text/html": [
       "<div>\n",
       "<style scoped>\n",
       "    .dataframe tbody tr th:only-of-type {\n",
       "        vertical-align: middle;\n",
       "    }\n",
       "\n",
       "    .dataframe tbody tr th {\n",
       "        vertical-align: top;\n",
       "    }\n",
       "\n",
       "    .dataframe thead th {\n",
       "        text-align: right;\n",
       "    }\n",
       "</style>\n",
       "<table border=\"1\" class=\"dataframe\">\n",
       "  <thead>\n",
       "    <tr style=\"text-align: right;\">\n",
       "      <th></th>\n",
       "      <th>Model Name</th>\n",
       "      <th>Number of Sentences Swapped</th>\n",
       "      <th>Percentage of Sentences Swapped</th>\n",
       "    </tr>\n",
       "  </thead>\n",
       "  <tbody>\n",
       "    <tr>\n",
       "      <td>0</td>\n",
       "      <td>BERT Base (cased)</td>\n",
       "      <td>33</td>\n",
       "      <td>0.229167</td>\n",
       "    </tr>\n",
       "    <tr>\n",
       "      <td>1</td>\n",
       "      <td>BERT Base (uncased)</td>\n",
       "      <td>29</td>\n",
       "      <td>0.201389</td>\n",
       "    </tr>\n",
       "    <tr>\n",
       "      <td>2</td>\n",
       "      <td>BERT Large (uncased)</td>\n",
       "      <td>38</td>\n",
       "      <td>0.263889</td>\n",
       "    </tr>\n",
       "    <tr>\n",
       "      <td>3</td>\n",
       "      <td>BERT Large (cased)</td>\n",
       "      <td>36</td>\n",
       "      <td>0.250000</td>\n",
       "    </tr>\n",
       "    <tr>\n",
       "      <td>4</td>\n",
       "      <td>Multilingual BERT (uncased)</td>\n",
       "      <td>37</td>\n",
       "      <td>0.256944</td>\n",
       "    </tr>\n",
       "    <tr>\n",
       "      <td>5</td>\n",
       "      <td>Multilingual BERT (cased)</td>\n",
       "      <td>29</td>\n",
       "      <td>0.201389</td>\n",
       "    </tr>\n",
       "    <tr>\n",
       "      <td>6</td>\n",
       "      <td>SciBERT</td>\n",
       "      <td>31</td>\n",
       "      <td>0.215278</td>\n",
       "    </tr>\n",
       "    <tr>\n",
       "      <td>7</td>\n",
       "      <td>Bio + Clinical BERT</td>\n",
       "      <td>30</td>\n",
       "      <td>0.208333</td>\n",
       "    </tr>\n",
       "    <tr>\n",
       "      <td>8</td>\n",
       "      <td>PubMed BERT</td>\n",
       "      <td>37</td>\n",
       "      <td>0.256944</td>\n",
       "    </tr>\n",
       "    <tr>\n",
       "      <td>9</td>\n",
       "      <td>Legal BERT</td>\n",
       "      <td>26</td>\n",
       "      <td>0.180556</td>\n",
       "    </tr>\n",
       "    <tr>\n",
       "      <td>10</td>\n",
       "      <td>Hate BERT</td>\n",
       "      <td>30</td>\n",
       "      <td>0.208333</td>\n",
       "    </tr>\n",
       "    <tr>\n",
       "      <td>11</td>\n",
       "      <td>BERT for Patents</td>\n",
       "      <td>27</td>\n",
       "      <td>0.187500</td>\n",
       "    </tr>\n",
       "    <tr>\n",
       "      <td>12</td>\n",
       "      <td>Security BERT</td>\n",
       "      <td>31</td>\n",
       "      <td>0.215278</td>\n",
       "    </tr>\n",
       "    <tr>\n",
       "      <td>13</td>\n",
       "      <td>AlBERT (v1)</td>\n",
       "      <td>33</td>\n",
       "      <td>0.229167</td>\n",
       "    </tr>\n",
       "    <tr>\n",
       "      <td>14</td>\n",
       "      <td>AlBERT (v2)</td>\n",
       "      <td>35</td>\n",
       "      <td>0.243056</td>\n",
       "    </tr>\n",
       "    <tr>\n",
       "      <td>15</td>\n",
       "      <td>RoBERTa Base</td>\n",
       "      <td>29</td>\n",
       "      <td>0.201389</td>\n",
       "    </tr>\n",
       "    <tr>\n",
       "      <td>16</td>\n",
       "      <td>Distilled RoBERTa Base</td>\n",
       "      <td>24</td>\n",
       "      <td>0.166667</td>\n",
       "    </tr>\n",
       "    <tr>\n",
       "      <td>17</td>\n",
       "      <td>RoBERTa Large</td>\n",
       "      <td>29</td>\n",
       "      <td>0.201389</td>\n",
       "    </tr>\n",
       "    <tr>\n",
       "      <td>18</td>\n",
       "      <td>Code RoBERTa</td>\n",
       "      <td>32</td>\n",
       "      <td>0.222222</td>\n",
       "    </tr>\n",
       "    <tr>\n",
       "      <td>19</td>\n",
       "      <td>Climate RoBERTa Base (distilled)</td>\n",
       "      <td>31</td>\n",
       "      <td>0.215278</td>\n",
       "    </tr>\n",
       "    <tr>\n",
       "      <td>20</td>\n",
       "      <td>Multilingual RoBERTa</td>\n",
       "      <td>34</td>\n",
       "      <td>0.236111</td>\n",
       "    </tr>\n",
       "    <tr>\n",
       "      <td>21</td>\n",
       "      <td>Distilled Multilingual BERT (cased)</td>\n",
       "      <td>30</td>\n",
       "      <td>0.208333</td>\n",
       "    </tr>\n",
       "  </tbody>\n",
       "</table>\n",
       "</div>"
      ],
      "text/plain": [
       "                             Model Name Number of Sentences Swapped  \\\n",
       "0                     BERT Base (cased)                          33   \n",
       "1                   BERT Base (uncased)                          29   \n",
       "2                  BERT Large (uncased)                          38   \n",
       "3                    BERT Large (cased)                          36   \n",
       "4           Multilingual BERT (uncased)                          37   \n",
       "5             Multilingual BERT (cased)                          29   \n",
       "6                               SciBERT                          31   \n",
       "7                   Bio + Clinical BERT                          30   \n",
       "8                           PubMed BERT                          37   \n",
       "9                            Legal BERT                          26   \n",
       "10                            Hate BERT                          30   \n",
       "11                     BERT for Patents                          27   \n",
       "12                        Security BERT                          31   \n",
       "13                          AlBERT (v1)                          33   \n",
       "14                          AlBERT (v2)                          35   \n",
       "15                         RoBERTa Base                          29   \n",
       "16               Distilled RoBERTa Base                          24   \n",
       "17                        RoBERTa Large                          29   \n",
       "18                         Code RoBERTa                          32   \n",
       "19     Climate RoBERTa Base (distilled)                          31   \n",
       "20                 Multilingual RoBERTa                          34   \n",
       "21  Distilled Multilingual BERT (cased)                          30   \n",
       "\n",
       "    Percentage of Sentences Swapped  \n",
       "0                          0.229167  \n",
       "1                          0.201389  \n",
       "2                          0.263889  \n",
       "3                          0.250000  \n",
       "4                          0.256944  \n",
       "5                          0.201389  \n",
       "6                          0.215278  \n",
       "7                          0.208333  \n",
       "8                          0.256944  \n",
       "9                          0.180556  \n",
       "10                         0.208333  \n",
       "11                         0.187500  \n",
       "12                         0.215278  \n",
       "13                         0.229167  \n",
       "14                         0.243056  \n",
       "15                         0.201389  \n",
       "16                         0.166667  \n",
       "17                         0.201389  \n",
       "18                         0.222222  \n",
       "19                         0.215278  \n",
       "20                         0.236111  \n",
       "21                         0.208333  "
      ]
     },
     "execution_count": 19,
     "metadata": {},
     "output_type": "execute_result"
    }
   ],
   "source": [
    "model_scores"
   ]
  },
  {
   "cell_type": "code",
   "execution_count": 20,
   "metadata": {},
   "outputs": [
    {
     "data": {
      "image/svg+xml": [
       "<svg class=\"main-svg\" xmlns=\"http://www.w3.org/2000/svg\" xmlns:xlink=\"http://www.w3.org/1999/xlink\" width=\"1000\" height=\"500\" style=\"\" viewBox=\"0 0 1000 500\"><rect x=\"0\" y=\"0\" width=\"1000\" height=\"500\" style=\"fill: rgb(255, 255, 255); fill-opacity: 1;\"/><defs id=\"defs-a7d337\"><g class=\"clips\"><clipPath id=\"clipa7d337xyplot\" class=\"plotclip\"><rect width=\"826\" height=\"285\"/></clipPath><clipPath class=\"axesclip\" id=\"clipa7d337x\"><rect x=\"94\" y=\"0\" width=\"826\" height=\"500\"/></clipPath><clipPath class=\"axesclip\" id=\"clipa7d337y\"><rect x=\"0\" y=\"60\" width=\"1000\" height=\"285\"/></clipPath><clipPath class=\"axesclip\" id=\"clipa7d337xy\"><rect x=\"94\" y=\"60\" width=\"826\" height=\"285\"/></clipPath></g><g class=\"gradients\"/><g class=\"patterns\"/></defs><g class=\"bglayer\"><rect class=\"bg\" x=\"94\" y=\"60\" width=\"826\" height=\"285\" style=\"fill: rgb(229, 236, 246); fill-opacity: 1; stroke-width: 0;\"/></g><g class=\"layer-below\"><g class=\"imagelayer\"/><g class=\"shapelayer\"/></g><g class=\"cartesianlayer\"><g class=\"subplot xy\"><g class=\"layer-subplot\"><g class=\"shapelayer\"/><g class=\"imagelayer\"/></g><g class=\"gridlayer\"><g class=\"x\"/><g class=\"y\"><path class=\"ygrid crisp\" transform=\"translate(0,293.7)\" d=\"M94,0h826\" style=\"stroke: rgb(255, 255, 255); stroke-opacity: 1; stroke-width: 1px;\"/><path class=\"ygrid crisp\" transform=\"translate(0,242.4)\" d=\"M94,0h826\" style=\"stroke: rgb(255, 255, 255); stroke-opacity: 1; stroke-width: 1px;\"/><path class=\"ygrid crisp\" transform=\"translate(0,191.1)\" d=\"M94,0h826\" style=\"stroke: rgb(255, 255, 255); stroke-opacity: 1; stroke-width: 1px;\"/><path class=\"ygrid crisp\" transform=\"translate(0,139.8)\" d=\"M94,0h826\" style=\"stroke: rgb(255, 255, 255); stroke-opacity: 1; stroke-width: 1px;\"/><path class=\"ygrid crisp\" transform=\"translate(0,88.5)\" d=\"M94,0h826\" style=\"stroke: rgb(255, 255, 255); stroke-opacity: 1; stroke-width: 1px;\"/></g></g><g class=\"zerolinelayer\"><path class=\"yzl zl crisp\" transform=\"translate(0,345)\" d=\"M94,0h826\" style=\"stroke: rgb(255, 255, 255); stroke-opacity: 1; stroke-width: 2px;\"/></g><path class=\"xlines-below\"/><path class=\"ylines-below\"/><g class=\"overlines-below\"/><g class=\"xaxislayer-below\"/><g class=\"yaxislayer-below\"/><g class=\"overaxes-below\"/><g class=\"plot\" transform=\"translate(94,60)\" clip-path=\"url(#clipa7d337xyplot)\"><g class=\"barlayer mlayer\"><g class=\"trace bars\" style=\"opacity: 1;\"><g class=\"points\"><g class=\"point\"><path d=\"M3.75,285V49.88H33.79V285Z\" style=\"vector-effect: non-scaling-stroke; opacity: 1; stroke-width: 0.5px; fill: rgb(99, 110, 250); fill-opacity: 1; stroke: rgb(229, 236, 246); stroke-opacity: 1;\"/></g><g class=\"point\"><path d=\"M41.3,285V78.38H71.34V285Z\" style=\"vector-effect: non-scaling-stroke; opacity: 1; stroke-width: 0.5px; fill: rgb(99, 110, 250); fill-opacity: 1; stroke: rgb(229, 236, 246); stroke-opacity: 1;\"/></g><g class=\"point\"><path d=\"M78.85,285V14.25H108.88V285Z\" style=\"vector-effect: non-scaling-stroke; opacity: 1; stroke-width: 0.5px; fill: rgb(99, 110, 250); fill-opacity: 1; stroke: rgb(229, 236, 246); stroke-opacity: 1;\"/></g><g class=\"point\"><path d=\"M116.39,285V28.5H146.43V285Z\" style=\"vector-effect: non-scaling-stroke; opacity: 1; stroke-width: 0.5px; fill: rgb(99, 110, 250); fill-opacity: 1; stroke: rgb(229, 236, 246); stroke-opacity: 1;\"/></g><g class=\"point\"><path d=\"M153.94,285V21.38H183.97V285Z\" style=\"vector-effect: non-scaling-stroke; opacity: 1; stroke-width: 0.5px; fill: rgb(99, 110, 250); fill-opacity: 1; stroke: rgb(229, 236, 246); stroke-opacity: 1;\"/></g><g class=\"point\"><path d=\"M191.48,285V78.38H221.52V285Z\" style=\"vector-effect: non-scaling-stroke; opacity: 1; stroke-width: 0.5px; fill: rgb(99, 110, 250); fill-opacity: 1; stroke: rgb(229, 236, 246); stroke-opacity: 1;\"/></g><g class=\"point\"><path d=\"M229.03,285V64.13H259.06V285Z\" style=\"vector-effect: non-scaling-stroke; opacity: 1; stroke-width: 0.5px; fill: rgb(99, 110, 250); fill-opacity: 1; stroke: rgb(229, 236, 246); stroke-opacity: 1;\"/></g><g class=\"point\"><path d=\"M266.57,285V71.25H296.61V285Z\" style=\"vector-effect: non-scaling-stroke; opacity: 1; stroke-width: 0.5px; fill: rgb(99, 110, 250); fill-opacity: 1; stroke: rgb(229, 236, 246); stroke-opacity: 1;\"/></g><g class=\"point\"><path d=\"M304.12,285V21.38H334.15V285Z\" style=\"vector-effect: non-scaling-stroke; opacity: 1; stroke-width: 0.5px; fill: rgb(99, 110, 250); fill-opacity: 1; stroke: rgb(229, 236, 246); stroke-opacity: 1;\"/></g><g class=\"point\"><path d=\"M341.66,285V99.75H371.7V285Z\" style=\"vector-effect: non-scaling-stroke; opacity: 1; stroke-width: 0.5px; fill: rgb(99, 110, 250); fill-opacity: 1; stroke: rgb(229, 236, 246); stroke-opacity: 1;\"/></g><g class=\"point\"><path d=\"M379.21,285V71.25H409.25V285Z\" style=\"vector-effect: non-scaling-stroke; opacity: 1; stroke-width: 0.5px; fill: rgb(99, 110, 250); fill-opacity: 1; stroke: rgb(229, 236, 246); stroke-opacity: 1;\"/></g><g class=\"point\"><path d=\"M416.75,285V92.63H446.79V285Z\" style=\"vector-effect: non-scaling-stroke; opacity: 1; stroke-width: 0.5px; fill: rgb(99, 110, 250); fill-opacity: 1; stroke: rgb(229, 236, 246); stroke-opacity: 1;\"/></g><g class=\"point\"><path d=\"M454.3,285V64.13H484.34V285Z\" style=\"vector-effect: non-scaling-stroke; opacity: 1; stroke-width: 0.5px; fill: rgb(99, 110, 250); fill-opacity: 1; stroke: rgb(229, 236, 246); stroke-opacity: 1;\"/></g><g class=\"point\"><path d=\"M491.85,285V49.88H521.88V285Z\" style=\"vector-effect: non-scaling-stroke; opacity: 1; stroke-width: 0.5px; fill: rgb(99, 110, 250); fill-opacity: 1; stroke: rgb(229, 236, 246); stroke-opacity: 1;\"/></g><g class=\"point\"><path d=\"M529.39,285V35.63H559.43V285Z\" style=\"vector-effect: non-scaling-stroke; opacity: 1; stroke-width: 0.5px; fill: rgb(99, 110, 250); fill-opacity: 1; stroke: rgb(229, 236, 246); stroke-opacity: 1;\"/></g><g class=\"point\"><path d=\"M566.94,285V78.38H596.97V285Z\" style=\"vector-effect: non-scaling-stroke; opacity: 1; stroke-width: 0.5px; fill: rgb(99, 110, 250); fill-opacity: 1; stroke: rgb(229, 236, 246); stroke-opacity: 1;\"/></g><g class=\"point\"><path d=\"M604.48,285V114H634.52V285Z\" style=\"vector-effect: non-scaling-stroke; opacity: 1; stroke-width: 0.5px; fill: rgb(99, 110, 250); fill-opacity: 1; stroke: rgb(229, 236, 246); stroke-opacity: 1;\"/></g><g class=\"point\"><path d=\"M642.03,285V78.38H672.06V285Z\" style=\"vector-effect: non-scaling-stroke; opacity: 1; stroke-width: 0.5px; fill: rgb(99, 110, 250); fill-opacity: 1; stroke: rgb(229, 236, 246); stroke-opacity: 1;\"/></g><g class=\"point\"><path d=\"M679.57,285V57H709.61V285Z\" style=\"vector-effect: non-scaling-stroke; opacity: 1; stroke-width: 0.5px; fill: rgb(99, 110, 250); fill-opacity: 1; stroke: rgb(229, 236, 246); stroke-opacity: 1;\"/></g><g class=\"point\"><path d=\"M717.12,285V64.13H747.15V285Z\" style=\"vector-effect: non-scaling-stroke; opacity: 1; stroke-width: 0.5px; fill: rgb(99, 110, 250); fill-opacity: 1; stroke: rgb(229, 236, 246); stroke-opacity: 1;\"/></g><g class=\"point\"><path d=\"M754.66,285V42.75H784.7V285Z\" style=\"vector-effect: non-scaling-stroke; opacity: 1; stroke-width: 0.5px; fill: rgb(99, 110, 250); fill-opacity: 1; stroke: rgb(229, 236, 246); stroke-opacity: 1;\"/></g><g class=\"point\"><path d=\"M792.21,285V71.25H822.25V285Z\" style=\"vector-effect: non-scaling-stroke; opacity: 1; stroke-width: 0.5px; fill: rgb(99, 110, 250); fill-opacity: 1; stroke: rgb(229, 236, 246); stroke-opacity: 1;\"/></g></g></g></g></g><g class=\"overplot\"/><path class=\"xlines-above crisp\" d=\"M0,0\" style=\"fill: none;\"/><path class=\"ylines-above crisp\" d=\"M0,0\" style=\"fill: none;\"/><g class=\"overlines-above\"/><g class=\"xaxislayer-above\"><g class=\"xtick\"><text text-anchor=\"end\" x=\"0\" y=\"358\" transform=\"translate(112.77,0) rotate(-30,0,352)\" style=\"font-family: 'Open Sans', verdana, arial, sans-serif; font-size: 12px; fill: rgb(42, 63, 95); fill-opacity: 1; white-space: pre; opacity: 1;\">BERT Base (cased)</text></g><g class=\"xtick\"><text text-anchor=\"end\" x=\"0\" y=\"358\" transform=\"translate(150.32,0) rotate(-30,0,352)\" style=\"font-family: 'Open Sans', verdana, arial, sans-serif; font-size: 12px; fill: rgb(42, 63, 95); fill-opacity: 1; white-space: pre; opacity: 1;\">BERT Base (uncased)</text></g><g class=\"xtick\"><text text-anchor=\"end\" x=\"0\" y=\"358\" transform=\"translate(187.86,0) rotate(-30,0,352)\" style=\"font-family: 'Open Sans', verdana, arial, sans-serif; font-size: 12px; fill: rgb(42, 63, 95); fill-opacity: 1; white-space: pre; opacity: 1;\">BERT Large (uncased)</text></g><g class=\"xtick\"><text text-anchor=\"end\" x=\"0\" y=\"358\" transform=\"translate(225.41,0) rotate(-30,0,352)\" style=\"font-family: 'Open Sans', verdana, arial, sans-serif; font-size: 12px; fill: rgb(42, 63, 95); fill-opacity: 1; white-space: pre; opacity: 1;\">BERT Large (cased)</text></g><g class=\"xtick\"><text text-anchor=\"end\" x=\"0\" y=\"358\" transform=\"translate(262.95,0) rotate(-30,0,352)\" style=\"font-family: 'Open Sans', verdana, arial, sans-serif; font-size: 12px; fill: rgb(42, 63, 95); fill-opacity: 1; white-space: pre; opacity: 1;\">Multilingual BERT (uncased)</text></g><g class=\"xtick\"><text text-anchor=\"end\" x=\"0\" y=\"358\" transform=\"translate(300.5,0) rotate(-30,0,352)\" style=\"font-family: 'Open Sans', verdana, arial, sans-serif; font-size: 12px; fill: rgb(42, 63, 95); fill-opacity: 1; white-space: pre; opacity: 1;\">Multilingual BERT (cased)</text></g><g class=\"xtick\"><text text-anchor=\"end\" x=\"0\" y=\"358\" transform=\"translate(338.05,0) rotate(-30,0,352)\" style=\"font-family: 'Open Sans', verdana, arial, sans-serif; font-size: 12px; fill: rgb(42, 63, 95); fill-opacity: 1; white-space: pre; opacity: 1;\">SciBERT</text></g><g class=\"xtick\"><text text-anchor=\"end\" x=\"0\" y=\"358\" transform=\"translate(375.59,0) rotate(-30,0,352)\" style=\"font-family: 'Open Sans', verdana, arial, sans-serif; font-size: 12px; fill: rgb(42, 63, 95); fill-opacity: 1; white-space: pre; opacity: 1;\">Bio + Clinical BERT</text></g><g class=\"xtick\"><text text-anchor=\"end\" x=\"0\" y=\"358\" transform=\"translate(413.14,0) rotate(-30,0,352)\" style=\"font-family: 'Open Sans', verdana, arial, sans-serif; font-size: 12px; fill: rgb(42, 63, 95); fill-opacity: 1; white-space: pre; opacity: 1;\">PubMed BERT</text></g><g class=\"xtick\"><text text-anchor=\"end\" x=\"0\" y=\"358\" transform=\"translate(450.68,0) rotate(-30,0,352)\" style=\"font-family: 'Open Sans', verdana, arial, sans-serif; font-size: 12px; fill: rgb(42, 63, 95); fill-opacity: 1; white-space: pre; opacity: 1;\">Legal BERT</text></g><g class=\"xtick\"><text text-anchor=\"end\" x=\"0\" y=\"358\" transform=\"translate(488.23,0) rotate(-30,0,352)\" style=\"font-family: 'Open Sans', verdana, arial, sans-serif; font-size: 12px; fill: rgb(42, 63, 95); fill-opacity: 1; white-space: pre; opacity: 1;\">Hate BERT</text></g><g class=\"xtick\"><text text-anchor=\"end\" x=\"0\" y=\"358\" transform=\"translate(525.77,0) rotate(-30,0,352)\" style=\"font-family: 'Open Sans', verdana, arial, sans-serif; font-size: 12px; fill: rgb(42, 63, 95); fill-opacity: 1; white-space: pre; opacity: 1;\">BERT for Patents</text></g><g class=\"xtick\"><text text-anchor=\"end\" x=\"0\" y=\"358\" transform=\"translate(563.3199999999999,0) rotate(-30,0,352)\" style=\"font-family: 'Open Sans', verdana, arial, sans-serif; font-size: 12px; fill: rgb(42, 63, 95); fill-opacity: 1; white-space: pre; opacity: 1;\">Security BERT</text></g><g class=\"xtick\"><text text-anchor=\"end\" x=\"0\" y=\"358\" transform=\"translate(600.86,0) rotate(-30,0,352)\" style=\"font-family: 'Open Sans', verdana, arial, sans-serif; font-size: 12px; fill: rgb(42, 63, 95); fill-opacity: 1; white-space: pre; opacity: 1;\">AlBERT (v1)</text></g><g class=\"xtick\"><text text-anchor=\"end\" x=\"0\" y=\"358\" transform=\"translate(638.41,0) rotate(-30,0,352)\" style=\"font-family: 'Open Sans', verdana, arial, sans-serif; font-size: 12px; fill: rgb(42, 63, 95); fill-opacity: 1; white-space: pre; opacity: 1;\">AlBERT (v2)</text></g><g class=\"xtick\"><text text-anchor=\"end\" x=\"0\" y=\"358\" transform=\"translate(675.95,0) rotate(-30,0,352)\" style=\"font-family: 'Open Sans', verdana, arial, sans-serif; font-size: 12px; fill: rgb(42, 63, 95); fill-opacity: 1; white-space: pre; opacity: 1;\">RoBERTa Base</text></g><g class=\"xtick\"><text text-anchor=\"end\" x=\"0\" y=\"358\" transform=\"translate(713.5,0) rotate(-30,0,352)\" style=\"font-family: 'Open Sans', verdana, arial, sans-serif; font-size: 12px; fill: rgb(42, 63, 95); fill-opacity: 1; white-space: pre; opacity: 1;\">Distilled RoBERTa Base</text></g><g class=\"xtick\"><text text-anchor=\"end\" x=\"0\" y=\"358\" transform=\"translate(751.05,0) rotate(-30,0,352)\" style=\"font-family: 'Open Sans', verdana, arial, sans-serif; font-size: 12px; fill: rgb(42, 63, 95); fill-opacity: 1; white-space: pre; opacity: 1;\">RoBERTa Large</text></g><g class=\"xtick\"><text text-anchor=\"end\" x=\"0\" y=\"358\" transform=\"translate(788.59,0) rotate(-30,0,352)\" style=\"font-family: 'Open Sans', verdana, arial, sans-serif; font-size: 12px; fill: rgb(42, 63, 95); fill-opacity: 1; white-space: pre; opacity: 1;\">Code RoBERTa</text></g><g class=\"xtick\"><text text-anchor=\"end\" x=\"0\" y=\"358\" transform=\"translate(826.14,0) rotate(-30,0,352)\" style=\"font-family: 'Open Sans', verdana, arial, sans-serif; font-size: 12px; fill: rgb(42, 63, 95); fill-opacity: 1; white-space: pre; opacity: 1;\">Climate RoBERTa Base (distilled)</text></g><g class=\"xtick\"><text text-anchor=\"end\" x=\"0\" y=\"358\" transform=\"translate(863.68,0) rotate(-30,0,352)\" style=\"font-family: 'Open Sans', verdana, arial, sans-serif; font-size: 12px; fill: rgb(42, 63, 95); fill-opacity: 1; white-space: pre; opacity: 1;\">Multilingual RoBERTa</text></g><g class=\"xtick\"><text text-anchor=\"end\" x=\"0\" y=\"358\" transform=\"translate(901.23,0) rotate(-30,0,352)\" style=\"font-family: 'Open Sans', verdana, arial, sans-serif; font-size: 12px; fill: rgb(42, 63, 95); fill-opacity: 1; white-space: pre; opacity: 1;\">Distilled Multilingual BERT (cased)</text></g></g><g class=\"yaxislayer-above\"><g class=\"ytick\"><text text-anchor=\"end\" x=\"93\" y=\"4.199999999999999\" transform=\"translate(0,345)\" style=\"font-family: 'Open Sans', verdana, arial, sans-serif; font-size: 12px; fill: rgb(42, 63, 95); fill-opacity: 1; white-space: pre; opacity: 1;\">0</text></g><g class=\"ytick\"><text text-anchor=\"end\" x=\"93\" y=\"4.199999999999999\" style=\"font-family: 'Open Sans', verdana, arial, sans-serif; font-size: 12px; fill: rgb(42, 63, 95); fill-opacity: 1; white-space: pre; opacity: 1;\" transform=\"translate(0,293.7)\">0.05</text></g><g class=\"ytick\"><text text-anchor=\"end\" x=\"93\" y=\"4.199999999999999\" style=\"font-family: 'Open Sans', verdana, arial, sans-serif; font-size: 12px; fill: rgb(42, 63, 95); fill-opacity: 1; white-space: pre; opacity: 1;\" transform=\"translate(0,242.4)\">0.1</text></g><g class=\"ytick\"><text text-anchor=\"end\" x=\"93\" y=\"4.199999999999999\" style=\"font-family: 'Open Sans', verdana, arial, sans-serif; font-size: 12px; fill: rgb(42, 63, 95); fill-opacity: 1; white-space: pre; opacity: 1;\" transform=\"translate(0,191.1)\">0.15</text></g><g class=\"ytick\"><text text-anchor=\"end\" x=\"93\" y=\"4.199999999999999\" style=\"font-family: 'Open Sans', verdana, arial, sans-serif; font-size: 12px; fill: rgb(42, 63, 95); fill-opacity: 1; white-space: pre; opacity: 1;\" transform=\"translate(0,139.8)\">0.2</text></g><g class=\"ytick\"><text text-anchor=\"end\" x=\"93\" y=\"4.199999999999999\" style=\"font-family: 'Open Sans', verdana, arial, sans-serif; font-size: 12px; fill: rgb(42, 63, 95); fill-opacity: 1; white-space: pre; opacity: 1;\" transform=\"translate(0,88.5)\">0.25</text></g></g><g class=\"overaxes-above\"/></g></g><g class=\"polarlayer\"/><g class=\"smithlayer\"/><g class=\"ternarylayer\"/><g class=\"geolayer\"/><g class=\"funnelarealayer\"/><g class=\"pielayer\"/><g class=\"iciclelayer\"/><g class=\"treemaplayer\"/><g class=\"sunburstlayer\"/><g class=\"glimages\"/><defs id=\"topdefs-a7d337\"><g class=\"clips\"/></defs><g class=\"layer-above\"><g class=\"imagelayer\"/><g class=\"shapelayer\"/></g><g class=\"infolayer\"><g class=\"g-gtitle\"><text class=\"gtitle\" x=\"50\" y=\"30\" text-anchor=\"start\" dy=\"0em\" style=\"font-family: 'Open Sans', verdana, arial, sans-serif; font-size: 17px; fill: rgb(42, 63, 95); opacity: 1; font-weight: normal; white-space: pre;\">Difference in Bias Scores from Updating Original Dataset</text></g><g class=\"g-xtitle\"><text class=\"xtitle\" x=\"507\" y=\"487.5392578125\" text-anchor=\"middle\" style=\"font-family: 'Open Sans', verdana, arial, sans-serif; font-size: 14px; fill: rgb(42, 63, 95); opacity: 1; font-weight: normal; white-space: pre;\">Model Name</text></g><g class=\"g-ytitle\"><text class=\"ytitle\" transform=\"rotate(-90,40.934375,202.5)\" x=\"40.934375\" y=\"202.5\" text-anchor=\"middle\" style=\"font-family: 'Open Sans', verdana, arial, sans-serif; font-size: 14px; fill: rgb(42, 63, 95); opacity: 1; font-weight: normal; white-space: pre;\">Percentage of Sentences Swapped</text></g></g></svg>"
      ]
     },
     "metadata": {},
     "output_type": "display_data"
    }
   ],
   "source": [
    "fig = px.bar(\n",
    "    model_scores, \n",
    "    x=\"Model Name\", \n",
    "    y=\"Percentage of Sentences Swapped\",\n",
    "    hover_name = model_scores[\"Model Name\"], \n",
    "    width=1000)\n",
    "\n",
    "fig.update_layout(\n",
    "    title = \"Difference in Bias Scores from Updating Original Dataset\",\n",
    "    xaxis_tickangle=-30)\n",
    "\n",
    "fig.show(\"svg\")"
   ]
  },
  {
   "cell_type": "code",
   "execution_count": 21,
   "metadata": {},
   "outputs": [
    {
     "data": {
      "text/plain": [
       "0.21811868686868677"
      ]
     },
     "execution_count": 21,
     "metadata": {},
     "output_type": "execute_result"
    }
   ],
   "source": [
    "sum(model_scores['Percentage of Sentences Swapped'])/22"
   ]
  },
  {
   "cell_type": "markdown",
   "metadata": {},
   "source": [
    "The result of this analysis is quite insightful. Previously, we had identified that a decrease in 10% was the largest effect that updating the dataset had on model performance. However, now we can see that, on average, 22% of the sentences that were updated received the opposite score than what it was previously given. This meant that 22% of the sentences in the original dataset were poorly enough written that it caused the language model to choose the wrong sentence. \n",
    "\n",
    "This is a good indicator that the improvements made to the original dataset made a difference to the overall accuracy and scores of the models."
   ]
  },
  {
   "cell_type": "markdown",
   "metadata": {},
   "source": [
    "<a id='structure'></a>\n",
    "## Part 1.2: Comparison Using Structurally Incorrect Sentences Only"
   ]
  },
  {
   "cell_type": "markdown",
   "metadata": {},
   "source": [
    "<a id='typos'></a>\n",
    "## Part 1.3: Comparison Using Mis-Spelled Sentences Only"
   ]
  },
  {
   "cell_type": "markdown",
   "metadata": {},
   "source": [
    "<a id='purpose'></a>\n",
    "## Part 1.4: Comparison Using Sentences with Unclear Purpose Only"
   ]
  },
  {
   "cell_type": "markdown",
   "metadata": {},
   "source": [
    "<a id='Comparing_Iteration3_Original'></a>\n",
    "# Part 2: Comparing Dataset from Iteration 3 with Original Dataset"
   ]
  },
  {
   "cell_type": "markdown",
   "metadata": {},
   "source": [
    "<a id='all_updated'></a>\n",
    "## Part 2.1: Comparison Using All Sentence Pairs that Have Been Updated"
   ]
  },
  {
   "cell_type": "markdown",
   "metadata": {},
   "source": [
    "<a id='both_updated'></a>\n",
    "## Part 2.2: Comparison Using Sentence Pairs that had no Punctuation"
   ]
  },
  {
   "cell_type": "markdown",
   "metadata": {},
   "source": [
    "<a id='one_updated'></a>\n",
    "## Part 2.3: Comparison Using Sentence Pairs that had Mismatched Punctuation"
   ]
  },
  {
   "cell_type": "code",
   "execution_count": null,
   "metadata": {},
   "outputs": [],
   "source": []
  },
  {
   "cell_type": "code",
   "execution_count": null,
   "metadata": {},
   "outputs": [],
   "source": []
  }
 ],
 "metadata": {
  "kernelspec": {
   "display_name": "Python 3",
   "language": "python",
   "name": "python3"
  },
  "language_info": {
   "codemirror_mode": {
    "name": "ipython",
    "version": 3
   },
   "file_extension": ".py",
   "mimetype": "text/x-python",
   "name": "python",
   "nbconvert_exporter": "python",
   "pygments_lexer": "ipython3",
   "version": "3.7.4"
  }
 },
 "nbformat": 4,
 "nbformat_minor": 2
}
