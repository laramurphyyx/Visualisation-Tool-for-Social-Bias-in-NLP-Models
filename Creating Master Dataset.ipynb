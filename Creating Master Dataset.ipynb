{
 "cells": [
  {
   "cell_type": "code",
   "execution_count": 1,
   "metadata": {},
   "outputs": [],
   "source": [
    "import pandas as pd\n",
    "\n",
    "from functions import *\n",
    "from variables import *"
   ]
  },
  {
   "cell_type": "code",
   "execution_count": 2,
   "metadata": {},
   "outputs": [],
   "source": [
    "directory_path = \"All Output Files\\\\Updated (v2) CrowS-Pairs Dataset\\\\\""
   ]
  },
  {
   "cell_type": "code",
   "execution_count": 3,
   "metadata": {},
   "outputs": [],
   "source": [
    "dataframe_columns = [\n",
    "    'model_name',\n",
    "    'sent_more', \n",
    "    'sent_less', \n",
    "    'sent_more_score', \n",
    "    'sent_less_score', \n",
    "    'score',\n",
    "    'stereo_antistereo', \n",
    "    'bias_type']\n",
    "\n",
    "master_dataframe = pd.DataFrame(columns=dataframe_columns, dtype=object)"
   ]
  },
  {
   "cell_type": "code",
   "execution_count": 4,
   "metadata": {
    "scrolled": true
   },
   "outputs": [],
   "source": [
    "for model_name in all_models:\n",
    "    \n",
    "    # Opening the output file for model\n",
    "    model_file_name = get_model_file_name(model_name) + \".csv\"\n",
    "    model_results = pd.read_csv(directory_path + model_file_name, index_col=0)\n",
    "    \n",
    "    # Adding a model_name column to store model information\n",
    "    model_results.insert(0, 'model_name', model_name)\n",
    "    \n",
    "    # Appending model dataset to master dataset\n",
    "    master_dataframe = master_dataframe.append(model_results)"
   ]
  },
  {
   "cell_type": "code",
   "execution_count": 5,
   "metadata": {},
   "outputs": [
    {
     "name": "stdout",
     "output_type": "stream",
     "text": [
      "Everything's included!\n"
     ]
    }
   ],
   "source": [
    "# Ensure all rows are accounted for\n",
    "\n",
    "if len(master_dataframe) == 1508 * 22:\n",
    "    print(\"Everything's included!\")\n",
    "else:\n",
    "    print(\"Something's missing!\")"
   ]
  },
  {
   "cell_type": "code",
   "execution_count": 6,
   "metadata": {},
   "outputs": [],
   "source": [
    "master_dataframe.to_csv('master_output_file.csv', index=False)"
   ]
  }
 ],
 "metadata": {
  "kernelspec": {
   "display_name": "Python 3",
   "language": "python",
   "name": "python3"
  },
  "language_info": {
   "codemirror_mode": {
    "name": "ipython",
    "version": 3
   },
   "file_extension": ".py",
   "mimetype": "text/x-python",
   "name": "python",
   "nbconvert_exporter": "python",
   "pygments_lexer": "ipython3",
   "version": "3.7.4"
  }
 },
 "nbformat": 4,
 "nbformat_minor": 2
}
