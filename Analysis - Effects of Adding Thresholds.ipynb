{
 "cells": [
  {
   "cell_type": "markdown",
   "metadata": {},
   "source": [
    "# Threshold Analysis"
   ]
  },
  {
   "cell_type": "markdown",
   "metadata": {},
   "source": [
    "## Reasoning for Adjusting Dataset"
   ]
  },
  {
   "cell_type": "markdown",
   "metadata": {},
   "source": [
    "As mentioned in [this notebook](), the CrowS-Pairs dataset has been criticised.\n",
    "\n",
    "While fixing the structure and intention of some of the sentence pairs, I also found there to be another flaw in the theory behind the biasness scores provided by this dataset. \n",
    "\n",
    "The theory of this score, at a surface level, is logical. The language models assign a probability to any given sentence, which is relative to how likely the sequence of words are to appear in that sentence together. If a language model is assigns a higher probability to 'The doctor and his patient' than to 'The doctor and her patient', it is fair to assume that the model holds some stereotypical views on sexism.\n",
    "\n",
    "However, the model is unable to deal with sentences that score very similar probabilities or times when a model assigns a much higher probability to the non-stereotype sentence.\n",
    "\n",
    "The introduction of thresholds was required to ensure that the true biasness of a language model could be found accurately."
   ]
  },
  {
   "cell_type": "markdown",
   "metadata": {},
   "source": [
    "## Background"
   ]
  },
  {
   "cell_type": "markdown",
   "metadata": {},
   "source": [
    "In implementing the code provided by the [CrowS-Pairs GitHub](https://github.com/nyu-mll/crows-pairs), I discovered two edge cases for which CrowS-Pairs does not handle well. These edge cases occur when language models either assign an almost identical probability to each sentence, or if they assign a much higher probability to the non-stereotyped sentence. \n",
    "\n",
    "This dataset is making language models choose one sentence or the other, when the ideal scenario is that the model assigns both with equal probability. Two sentences being assigned the exact same probability is hugely unlikely as the formulas used to calculate these probabilities are so large, resulting probabilities being so miniscule that they have to be stored as log probabilities. This means that there could be some sentences that could be given probabilities within 0.001% of each other, but the CrowS-Pairs theory will mean that if the stereotype sentence scored slightly higher, it will be considered stereotype behaviour from the language model.\n",
    "\n",
    "The CrowS-Pairs benchmark also does not take into account what happens when a model assigns a substantially higher probability to the non-stereotype sentence. For example, if a language model has the two sentences: 'The doctor and his patient' and 'The doctor and her patient', the stereotypical behavior would be for the model to choose the male pronoun. However, how would CrowS-Pairs deal with language models that score a much higher probability for the female pronoun, it is not following a stereotype but it is promoting unfair gender associations.\n",
    "\n",
    "To counteract these issues, I have implemented a series of thresholds that are applied on top of CrowS-Pairs dataset. This allows for sentences that are very similar in probabilities to be considered neutral. This new neutral measure is the true metric for how un-biased a language model is, as it does not include the promotion of unjust associations even if they're not a stereotype."
   ]
  },
  {
   "cell_type": "markdown",
   "metadata": {},
   "source": [
    "## Importing Relevant Packages/Datasets and Assigning Functions"
   ]
  },
  {
   "cell_type": "code",
   "execution_count": 2,
   "metadata": {},
   "outputs": [],
   "source": [
    "import pandas as pd\n",
    "import numpy as np\n",
    "import matplotlib.pyplot as plt\n",
    "import plotly.express as px\n",
    "import plotly.graph_objects as go\n",
    "\n",
    "from functions import *\n",
    "from variables import *"
   ]
  },
  {
   "cell_type": "code",
   "execution_count": 3,
   "metadata": {},
   "outputs": [],
   "source": [
    "master_dataframe = pd.read_csv('master_output_file.csv')"
   ]
  },
  {
   "cell_type": "code",
   "execution_count": 4,
   "metadata": {},
   "outputs": [],
   "source": [
    "def get_list_of_scores(list_of_models, score_type, threshold=0, bias_type=None):\n",
    "    \n",
    "    scores = []\n",
    "    \n",
    "    for model in list_of_models:\n",
    "        \n",
    "        # Raising an exception if there is an unrecognised model\n",
    "        if model not in all_models:\n",
    "            raise ValueError(\"List of models provided contains unrecognised model\")\n",
    "        \n",
    "        # Raising an error if there is an unrecognised score type\n",
    "        if score_type not in score_types:\n",
    "            if score_type + '_score' in score_types:\n",
    "                score_type += '_score'\n",
    "            else:\n",
    "                raise ValueError(\"Score type must be 'neutral', 'bias', 'nonbias', 'stereotype' or 'antistereotype'\")\n",
    "                \n",
    "        # Rasing an error if there is an unrecognised bias_type\n",
    "        if bias_type:\n",
    "            if bias_type not in bias_types:\n",
    "                raise ValueError(\"Bias type must be one of: 'race-color', 'gender', 'socioeconomic', 'nationality', 'religion', 'age', 'sexual-orientation', 'physical-appearance', 'disability'\")\n",
    "\n",
    "        # Filtering the master dataset to only include results obtained by *this* model\n",
    "        model_dataframe = master_dataframe[master_dataframe['model_name']==model]\n",
    "        \n",
    "        # Filtering the model dataframe to only include a particular bias type if specified\n",
    "        if bias_type:\n",
    "            model_dataframe = model_dataframe[model_dataframe['bias_type']==bias_type]\n",
    "\n",
    "        # Getting the score for all models\n",
    "        score = calculate_all_scores(model_dataframe, threshold)[score_type]\n",
    "        scores.append(score)\n",
    "        \n",
    "    return scores"
   ]
  },
  {
   "cell_type": "code",
   "execution_count": 5,
   "metadata": {},
   "outputs": [],
   "source": [
    "def get_list_of_all_scores(list_of_models, threshold=0, bias_type=None):\n",
    "    \n",
    "    scores = {\n",
    "        'neutral_score' : [],\n",
    "        'bias_score' : [],\n",
    "        'nonbias_score' : [],\n",
    "        'stereotype_score' : [],\n",
    "        'antistereotype_score' : []\n",
    "    }\n",
    "    \n",
    "    for model in list_of_models:\n",
    "        \n",
    "        # Raising an exception if there is an unrecognised model\n",
    "        if model not in all_models:\n",
    "            raise ValueError(\"List of models provided contains unrecognised model\")\n",
    "\n",
    "        # Rasing an error if there is an unrecognised bias_type\n",
    "        if bias_type:\n",
    "            if bias_type not in bias_types:\n",
    "                raise ValueError(\"Bias type must be one of: 'race-color', 'gender', 'socioeconomic', 'nationality', 'religion', 'age', 'sexual-orientation', 'physical-appearance', 'disability'\")\n",
    "\n",
    "        # Filtering the master dataset to only include results obtained by *this* model\n",
    "        model_dataframe = master_dataframe[master_dataframe['model_name']==model]\n",
    "        \n",
    "        # Filtering the model dataframe to only include a particular bias type if specified\n",
    "        if bias_type:\n",
    "            model_dataframe = model_dataframe[model_dataframe['bias_type']==bias_type]\n",
    "\n",
    "        # Getting all scores for all models\n",
    "        all_scores = calculate_all_scores(model_dataframe, threshold)\n",
    "        scores['neutral_score'].append(all_scores['neutral_score'])\n",
    "        scores['bias_score'].append(all_scores['bias_score'])\n",
    "        scores['nonbias_score'].append(all_scores['nonbias_score'])\n",
    "        scores['stereotype_score'].append(all_scores['stereotype_score'])\n",
    "        scores['antistereotype_score'].append(all_scores['antistereotype_score'])\n",
    "        \n",
    "    return scores"
   ]
  },
  {
   "cell_type": "code",
   "execution_count": 6,
   "metadata": {},
   "outputs": [],
   "source": [
    "def get_bias_type_scores(model, threshold=0.05):\n",
    "    \n",
    "    model_dataframe = master_dataframe[master_dataframe['model_name']==model]\n",
    "    \n",
    "    scores = {\n",
    "        'neutral_score' : [],\n",
    "        'bias_score' : [],\n",
    "        'nonbias_score' : [],\n",
    "        'stereotype_score' : [],\n",
    "        'antistereotype_score' : []\n",
    "    }\n",
    "    \n",
    "    for bias_type in bias_types:\n",
    "        bias_model_dataframe = model_dataframe[model_dataframe['bias_type']==bias_type]\n",
    "        all_scores = calculate_all_scores(bias_model_dataframe, threshold)\n",
    "        scores['neutral_score'].append(all_scores['neutral_score'])\n",
    "        scores['bias_score'].append(all_scores['bias_score'])\n",
    "        scores['nonbias_score'].append(all_scores['nonbias_score'])\n",
    "        scores['stereotype_score'].append(all_scores['stereotype_score'])\n",
    "        scores['antistereotype_score'].append(all_scores['antistereotype_score'])\n",
    "    \n",
    "    return scores"
   ]
  },
  {
   "cell_type": "code",
   "execution_count": 11,
   "metadata": {},
   "outputs": [],
   "source": [
    "def slider_chart(list_of_models=all_models, score_type='neutral_score', bias_type=None, step_size=0.01, threshold_range=0.4):\n",
    "\n",
    "    fig = go.Figure()\n",
    "\n",
    "    # Add traces, one for each slider step\n",
    "    for step in np.arange(0, threshold_range + step_size, step_size):\n",
    "\n",
    "        # Assigning the Threshold\n",
    "        threshold = step\n",
    "\n",
    "        # Calculating Neutral Scores at Threshold\n",
    "        scores = get_list_of_scores(list_of_models, score_type, threshold, bias_type)\n",
    "\n",
    "        fig.add_trace(\n",
    "            go.Bar(\n",
    "                visible=False,\n",
    "                name='Score at Threshold ' + str(round(threshold*100, 2)), \n",
    "                x=[display_model_names[model] for model in list_of_models], \n",
    "                y=[score/100 for score in scores]))\n",
    "\n",
    "    # Make 10th trace visible\n",
    "    fig.data[1].visible = True\n",
    "\n",
    "    # Create and add slider\n",
    "    steps = []\n",
    "    label_format = \"{:.0%}\"\n",
    "    for i in range(len(fig.data)):\n",
    "        step = dict(\n",
    "            method=\"update\",\n",
    "            args=[{\"visible\": [False] * len(fig.data)},\n",
    "                  {\"title\": display_score_types[score_type] + \"s for \" + str(len(list_of_models)) + \" Models at Threshold:\" + label_format.format(i * step_size)}], # layout attribute\n",
    "            label = label_format.format(i * step_size))\n",
    "        step[\"args\"][0][\"visible\"][i] = True  # Toggle i'th trace to \"visible\"\n",
    "        steps.append(step)\n",
    "\n",
    "    sliders = [dict(\n",
    "        active=1,\n",
    "        currentvalue={\"prefix\": \"Threshold: \"},\n",
    "        pad={\"t\": 150},\n",
    "        steps=steps\n",
    "    )]\n",
    "\n",
    "    fig.update_layout(\n",
    "        sliders=sliders,\n",
    "        title= display_score_types[score_type] + \"s for \" + str(len(list_of_models)) + \" Models at Various Thresholds\",\n",
    "        yaxis_title=\"Scores\",\n",
    "        yaxis_tickformat = \".0%\",\n",
    "        xaxis_title=\"Language Models\"\n",
    "    )\n",
    "\n",
    "    fig.update_yaxes(range=[0,1])\n",
    "\n",
    "    fig.show()"
   ]
  },
  {
   "cell_type": "markdown",
   "metadata": {},
   "source": [
    "# Graphing Slider Bar Charts for Each Metric"
   ]
  },
  {
   "cell_type": "markdown",
   "metadata": {},
   "source": [
    "### 1: Neutral Score"
   ]
  },
  {
   "cell_type": "code",
   "execution_count": 12,
   "metadata": {},
   "outputs": [
    {
     "data": {
      "application/vnd.plotly.v1+json": {
       "config": {
        "plotlyServerURL": "https://plot.ly"
       },
       "data": [
        {
         "name": "Score at Threshold 0.0",
         "type": "bar",
         "visible": false,
         "x": [
          "BERT Base (cased)",
          "BERT Base (uncased)",
          "BERT Large (uncased)",
          "BERT Large (cased)",
          "Multilingual BERT (uncased)",
          "Multilingual BERT (cased)",
          "SciBERT",
          "Bio + Clinical BERT",
          "PubMed BERT",
          "Legal BERT",
          "Hate BERT",
          "BERT for Patents",
          "Security BERT",
          "AlBERT (v1)",
          "AlBERT (v2)",
          "RoBERTa Base",
          "Distilled RoBERTa Base",
          "RoBERTa Large",
          "Code RoBERTa",
          "Climate RoBERTa Base (distilled)",
          "Multilingual RoBERTa",
          "Distilled Multilingual BERT (cased)"
         ],
         "y": [
          0.0007000000000000001,
          0.0013,
          0.0007000000000000001,
          0.0007000000000000001,
          0.0007000000000000001,
          0.0007000000000000001,
          0.0007000000000000001,
          0.002,
          0.0007000000000000001,
          0.0007000000000000001,
          0.0007000000000000001,
          0.0007000000000000001,
          0.0007000000000000001,
          0.0007000000000000001,
          0.0007000000000000001,
          0.0007000000000000001,
          0.0007000000000000001,
          0.0007000000000000001,
          0.0007000000000000001,
          0.0013,
          0.0007000000000000001,
          0.0007000000000000001
         ]
        },
        {
         "name": "Score at Threshold 1.0",
         "type": "bar",
         "visible": true,
         "x": [
          "BERT Base (cased)",
          "BERT Base (uncased)",
          "BERT Large (uncased)",
          "BERT Large (cased)",
          "Multilingual BERT (uncased)",
          "Multilingual BERT (cased)",
          "SciBERT",
          "Bio + Clinical BERT",
          "PubMed BERT",
          "Legal BERT",
          "Hate BERT",
          "BERT for Patents",
          "Security BERT",
          "AlBERT (v1)",
          "AlBERT (v2)",
          "RoBERTa Base",
          "Distilled RoBERTa Base",
          "RoBERTa Large",
          "Code RoBERTa",
          "Climate RoBERTa Base (distilled)",
          "Multilingual RoBERTa",
          "Distilled Multilingual BERT (cased)"
         ],
         "y": [
          0.134,
          0.122,
          0.0968,
          0.1359,
          0.179,
          0.1704,
          0.1956,
          0.1771,
          0.2155,
          0.132,
          0.11539999999999999,
          0.1704,
          0.1074,
          0.23870000000000002,
          0.1452,
          0.1001,
          0.1505,
          0.0875,
          0.32689999999999997,
          0.16510000000000002,
          0.1525,
          0.2672
         ]
        },
        {
         "name": "Score at Threshold 2.0",
         "type": "bar",
         "visible": false,
         "x": [
          "BERT Base (cased)",
          "BERT Base (uncased)",
          "BERT Large (uncased)",
          "BERT Large (cased)",
          "Multilingual BERT (uncased)",
          "Multilingual BERT (cased)",
          "SciBERT",
          "Bio + Clinical BERT",
          "PubMed BERT",
          "Legal BERT",
          "Hate BERT",
          "BERT for Patents",
          "Security BERT",
          "AlBERT (v1)",
          "AlBERT (v2)",
          "RoBERTa Base",
          "Distilled RoBERTa Base",
          "RoBERTa Large",
          "Code RoBERTa",
          "Climate RoBERTa Base (distilled)",
          "Multilingual RoBERTa",
          "Distilled Multilingual BERT (cased)"
         ],
         "y": [
          0.2686,
          0.2255,
          0.1804,
          0.24670000000000003,
          0.32630000000000003,
          0.3375,
          0.35009999999999997,
          0.3342,
          0.36469999999999997,
          0.27649999999999997,
          0.2361,
          0.3176,
          0.22149999999999997,
          0.4032,
          0.2752,
          0.19760000000000003,
          0.2898,
          0.17370000000000002,
          0.5378000000000001,
          0.32030000000000003,
          0.2798,
          0.4702
         ]
        },
        {
         "name": "Score at Threshold 3.0",
         "type": "bar",
         "visible": false,
         "x": [
          "BERT Base (cased)",
          "BERT Base (uncased)",
          "BERT Large (uncased)",
          "BERT Large (cased)",
          "Multilingual BERT (uncased)",
          "Multilingual BERT (cased)",
          "SciBERT",
          "Bio + Clinical BERT",
          "PubMed BERT",
          "Legal BERT",
          "Hate BERT",
          "BERT for Patents",
          "Security BERT",
          "AlBERT (v1)",
          "AlBERT (v2)",
          "RoBERTa Base",
          "Distilled RoBERTa Base",
          "RoBERTa Large",
          "Code RoBERTa",
          "Climate RoBERTa Base (distilled)",
          "Multilingual RoBERTa",
          "Distilled Multilingual BERT (cased)"
         ],
         "y": [
          0.38,
          0.3249,
          0.2725,
          0.34619999999999995,
          0.44630000000000003,
          0.4642,
          0.45159999999999995,
          0.4642,
          0.48469999999999996,
          0.3833,
          0.32159999999999994,
          0.42710000000000004,
          0.3362,
          0.5325,
          0.39659999999999995,
          0.28850000000000003,
          0.4118,
          0.2566,
          0.6956,
          0.4397,
          0.37729999999999997,
          0.5981000000000001
         ]
        },
        {
         "name": "Score at Threshold 4.0",
         "type": "bar",
         "visible": false,
         "x": [
          "BERT Base (cased)",
          "BERT Base (uncased)",
          "BERT Large (uncased)",
          "BERT Large (cased)",
          "Multilingual BERT (uncased)",
          "Multilingual BERT (cased)",
          "SciBERT",
          "Bio + Clinical BERT",
          "PubMed BERT",
          "Legal BERT",
          "Hate BERT",
          "BERT for Patents",
          "Security BERT",
          "AlBERT (v1)",
          "AlBERT (v2)",
          "RoBERTa Base",
          "Distilled RoBERTa Base",
          "RoBERTa Large",
          "Code RoBERTa",
          "Climate RoBERTa Base (distilled)",
          "Multilingual RoBERTa",
          "Distilled Multilingual BERT (cased)"
         ],
         "y": [
          0.46149999999999997,
          0.40850000000000003,
          0.33490000000000003,
          0.4138,
          0.5405,
          0.5511,
          0.555,
          0.5544,
          0.5722999999999999,
          0.4708,
          0.4012,
          0.5245000000000001,
          0.4304,
          0.63,
          0.4894,
          0.36939999999999995,
          0.5046,
          0.3296,
          0.7825,
          0.5431,
          0.4668,
          0.7036
         ]
        },
        {
         "name": "Score at Threshold 5.0",
         "type": "bar",
         "visible": false,
         "x": [
          "BERT Base (cased)",
          "BERT Base (uncased)",
          "BERT Large (uncased)",
          "BERT Large (cased)",
          "Multilingual BERT (uncased)",
          "Multilingual BERT (cased)",
          "SciBERT",
          "Bio + Clinical BERT",
          "PubMed BERT",
          "Legal BERT",
          "Hate BERT",
          "BERT for Patents",
          "Security BERT",
          "AlBERT (v1)",
          "AlBERT (v2)",
          "RoBERTa Base",
          "Distilled RoBERTa Base",
          "RoBERTa Large",
          "Code RoBERTa",
          "Climate RoBERTa Base (distilled)",
          "Multilingual RoBERTa",
          "Distilled Multilingual BERT (cased)"
         ],
         "y": [
          0.5418,
          0.4841,
          0.3972,
          0.4788,
          0.6214,
          0.6286,
          0.6306,
          0.6253,
          0.6412,
          0.5511,
          0.4708,
          0.6015,
          0.5073,
          0.6969,
          0.5617,
          0.42310000000000003,
          0.5782,
          0.3972,
          0.8501000000000001,
          0.6233,
          0.5398,
          0.7633
         ]
        },
        {
         "name": "Score at Threshold 6.0",
         "type": "bar",
         "visible": false,
         "x": [
          "BERT Base (cased)",
          "BERT Base (uncased)",
          "BERT Large (uncased)",
          "BERT Large (cased)",
          "Multilingual BERT (uncased)",
          "Multilingual BERT (cased)",
          "SciBERT",
          "Bio + Clinical BERT",
          "PubMed BERT",
          "Legal BERT",
          "Hate BERT",
          "BERT for Patents",
          "Security BERT",
          "AlBERT (v1)",
          "AlBERT (v2)",
          "RoBERTa Base",
          "Distilled RoBERTa Base",
          "RoBERTa Large",
          "Code RoBERTa",
          "Climate RoBERTa Base (distilled)",
          "Multilingual RoBERTa",
          "Distilled Multilingual BERT (cased)"
         ],
         "y": [
          0.6001,
          0.5385,
          0.4569,
          0.5345,
          0.6731,
          0.6857,
          0.6877,
          0.6936,
          0.7069,
          0.6167,
          0.5312,
          0.6572,
          0.5716,
          0.7553,
          0.6174000000000001,
          0.4854,
          0.6353,
          0.46619999999999995,
          0.8952,
          0.687,
          0.5942000000000001,
          0.8103
         ]
        },
        {
         "name": "Score at Threshold 7.0",
         "type": "bar",
         "visible": false,
         "x": [
          "BERT Base (cased)",
          "BERT Base (uncased)",
          "BERT Large (uncased)",
          "BERT Large (cased)",
          "Multilingual BERT (uncased)",
          "Multilingual BERT (cased)",
          "SciBERT",
          "Bio + Clinical BERT",
          "PubMed BERT",
          "Legal BERT",
          "Hate BERT",
          "BERT for Patents",
          "Security BERT",
          "AlBERT (v1)",
          "AlBERT (v2)",
          "RoBERTa Base",
          "Distilled RoBERTa Base",
          "RoBERTa Large",
          "Code RoBERTa",
          "Climate RoBERTa Base (distilled)",
          "Multilingual RoBERTa",
          "Distilled Multilingual BERT (cased)"
         ],
         "y": [
          0.6598,
          0.5908,
          0.49729999999999996,
          0.5875,
          0.7281,
          0.742,
          0.7288,
          0.752,
          0.7565999999999999,
          0.6690999999999999,
          0.5836,
          0.7188,
          0.6167,
          0.7997,
          0.6770999999999999,
          0.5424,
          0.6844,
          0.5252,
          0.9270999999999999,
          0.7394,
          0.6472,
          0.8521
         ]
        },
        {
         "name": "Score at Threshold 8.0",
         "type": "bar",
         "visible": false,
         "x": [
          "BERT Base (cased)",
          "BERT Base (uncased)",
          "BERT Large (uncased)",
          "BERT Large (cased)",
          "Multilingual BERT (uncased)",
          "Multilingual BERT (cased)",
          "SciBERT",
          "Bio + Clinical BERT",
          "PubMed BERT",
          "Legal BERT",
          "Hate BERT",
          "BERT for Patents",
          "Security BERT",
          "AlBERT (v1)",
          "AlBERT (v2)",
          "RoBERTa Base",
          "Distilled RoBERTa Base",
          "RoBERTa Large",
          "Code RoBERTa",
          "Climate RoBERTa Base (distilled)",
          "Multilingual RoBERTa",
          "Distilled Multilingual BERT (cased)"
         ],
         "y": [
          0.6943,
          0.6286,
          0.5537,
          0.6333,
          0.7672,
          0.7812,
          0.7698999999999999,
          0.7911,
          0.7898000000000001,
          0.7142000000000001,
          0.6273,
          0.7559999999999999,
          0.6611,
          0.8329000000000001,
          0.7254999999999999,
          0.5889,
          0.7261,
          0.5855,
          0.9462999999999999,
          0.7825,
          0.6903,
          0.8806
         ]
        },
        {
         "name": "Score at Threshold 9.0",
         "type": "bar",
         "visible": false,
         "x": [
          "BERT Base (cased)",
          "BERT Base (uncased)",
          "BERT Large (uncased)",
          "BERT Large (cased)",
          "Multilingual BERT (uncased)",
          "Multilingual BERT (cased)",
          "SciBERT",
          "Bio + Clinical BERT",
          "PubMed BERT",
          "Legal BERT",
          "Hate BERT",
          "BERT for Patents",
          "Security BERT",
          "AlBERT (v1)",
          "AlBERT (v2)",
          "RoBERTa Base",
          "Distilled RoBERTa Base",
          "RoBERTa Large",
          "Code RoBERTa",
          "Climate RoBERTa Base (distilled)",
          "Multilingual RoBERTa",
          "Distilled Multilingual BERT (cased)"
         ],
         "y": [
          0.7334,
          0.6764,
          0.5895,
          0.6718000000000001,
          0.7970999999999999,
          0.8077,
          0.7970999999999999,
          0.8195999999999999,
          0.8203,
          0.746,
          0.6684,
          0.7964,
          0.7016,
          0.8554,
          0.7598999999999999,
          0.6273,
          0.7619,
          0.626,
          0.9621999999999999,
          0.8195999999999999,
          0.7202,
          0.9031999999999999
         ]
        },
        {
         "name": "Score at Threshold 10.0",
         "type": "bar",
         "visible": false,
         "x": [
          "BERT Base (cased)",
          "BERT Base (uncased)",
          "BERT Large (uncased)",
          "BERT Large (cased)",
          "Multilingual BERT (uncased)",
          "Multilingual BERT (cased)",
          "SciBERT",
          "Bio + Clinical BERT",
          "PubMed BERT",
          "Legal BERT",
          "Hate BERT",
          "BERT for Patents",
          "Security BERT",
          "AlBERT (v1)",
          "AlBERT (v2)",
          "RoBERTa Base",
          "Distilled RoBERTa Base",
          "RoBERTa Large",
          "Code RoBERTa",
          "Climate RoBERTa Base (distilled)",
          "Multilingual RoBERTa",
          "Distilled Multilingual BERT (cased)"
         ],
         "y": [
          0.7666,
          0.7016,
          0.6233,
          0.7109000000000001,
          0.8249,
          0.8342,
          0.8289,
          0.8462000000000001,
          0.8462000000000001,
          0.7805,
          0.7042,
          0.8223,
          0.7373999999999999,
          0.8759999999999999,
          0.7885,
          0.6704000000000001,
          0.7938,
          0.6658,
          0.9675,
          0.8508,
          0.7565999999999999,
          0.9211
         ]
        },
        {
         "name": "Score at Threshold 11.0",
         "type": "bar",
         "visible": false,
         "x": [
          "BERT Base (cased)",
          "BERT Base (uncased)",
          "BERT Large (uncased)",
          "BERT Large (cased)",
          "Multilingual BERT (uncased)",
          "Multilingual BERT (cased)",
          "SciBERT",
          "Bio + Clinical BERT",
          "PubMed BERT",
          "Legal BERT",
          "Hate BERT",
          "BERT for Patents",
          "Security BERT",
          "AlBERT (v1)",
          "AlBERT (v2)",
          "RoBERTa Base",
          "Distilled RoBERTa Base",
          "RoBERTa Large",
          "Code RoBERTa",
          "Climate RoBERTa Base (distilled)",
          "Multilingual RoBERTa",
          "Distilled Multilingual BERT (cased)"
         ],
         "y": [
          0.7905,
          0.7334,
          0.6578,
          0.7406999999999999,
          0.8422,
          0.8548,
          0.8508,
          0.8694,
          0.8654000000000001,
          0.8109999999999999,
          0.7361,
          0.8422,
          0.7725,
          0.8946,
          0.8170000000000001,
          0.7062,
          0.8229000000000001,
          0.6936,
          0.9754999999999999,
          0.8767,
          0.7890999999999999,
          0.9357
         ]
        },
        {
         "name": "Score at Threshold 12.0",
         "type": "bar",
         "visible": false,
         "x": [
          "BERT Base (cased)",
          "BERT Base (uncased)",
          "BERT Large (uncased)",
          "BERT Large (cased)",
          "Multilingual BERT (uncased)",
          "Multilingual BERT (cased)",
          "SciBERT",
          "Bio + Clinical BERT",
          "PubMed BERT",
          "Legal BERT",
          "Hate BERT",
          "BERT for Patents",
          "Security BERT",
          "AlBERT (v1)",
          "AlBERT (v2)",
          "RoBERTa Base",
          "Distilled RoBERTa Base",
          "RoBERTa Large",
          "Code RoBERTa",
          "Climate RoBERTa Base (distilled)",
          "Multilingual RoBERTa",
          "Distilled Multilingual BERT (cased)"
         ],
         "y": [
          0.8156,
          0.7598999999999999,
          0.6916,
          0.7639,
          0.8588,
          0.8706999999999999,
          0.87,
          0.8879,
          0.8873000000000001,
          0.8281999999999999,
          0.7613,
          0.8593999999999999,
          0.7977,
          0.9078,
          0.8375,
          0.7314,
          0.8508,
          0.7254999999999999,
          0.9793999999999999,
          0.8906000000000001,
          0.8156,
          0.943
         ]
        },
        {
         "name": "Score at Threshold 13.0",
         "type": "bar",
         "visible": false,
         "x": [
          "BERT Base (cased)",
          "BERT Base (uncased)",
          "BERT Large (uncased)",
          "BERT Large (cased)",
          "Multilingual BERT (uncased)",
          "Multilingual BERT (cased)",
          "SciBERT",
          "Bio + Clinical BERT",
          "PubMed BERT",
          "Legal BERT",
          "Hate BERT",
          "BERT for Patents",
          "Security BERT",
          "AlBERT (v1)",
          "AlBERT (v2)",
          "RoBERTa Base",
          "Distilled RoBERTa Base",
          "RoBERTa Large",
          "Code RoBERTa",
          "Climate RoBERTa Base (distilled)",
          "Multilingual RoBERTa",
          "Distilled Multilingual BERT (cased)"
         ],
         "y": [
          0.8329000000000001,
          0.7785,
          0.7095,
          0.7911,
          0.8753,
          0.8859,
          0.884,
          0.9005,
          0.9085,
          0.8515,
          0.7870999999999999,
          0.8753,
          0.8262999999999999,
          0.9218000000000001,
          0.8606999999999999,
          0.7533,
          0.8753,
          0.7545999999999999,
          0.9834,
          0.9092,
          0.8262999999999999,
          0.9503
         ]
        },
        {
         "name": "Score at Threshold 14.0",
         "type": "bar",
         "visible": false,
         "x": [
          "BERT Base (cased)",
          "BERT Base (uncased)",
          "BERT Large (uncased)",
          "BERT Large (cased)",
          "Multilingual BERT (uncased)",
          "Multilingual BERT (cased)",
          "SciBERT",
          "Bio + Clinical BERT",
          "PubMed BERT",
          "Legal BERT",
          "Hate BERT",
          "BERT for Patents",
          "Security BERT",
          "AlBERT (v1)",
          "AlBERT (v2)",
          "RoBERTa Base",
          "Distilled RoBERTa Base",
          "RoBERTa Large",
          "Code RoBERTa",
          "Climate RoBERTa Base (distilled)",
          "Multilingual RoBERTa",
          "Distilled Multilingual BERT (cased)"
         ],
         "y": [
          0.8495,
          0.7970999999999999,
          0.7334,
          0.813,
          0.8886,
          0.9052,
          0.8979,
          0.9198000000000001,
          0.9231,
          0.8706999999999999,
          0.8109999999999999,
          0.8898999999999999,
          0.8508,
          0.9270999999999999,
          0.8786,
          0.7779,
          0.8879,
          0.7818,
          0.9867,
          0.9231,
          0.8442000000000001,
          0.9581999999999999
         ]
        },
        {
         "name": "Score at Threshold 15.0",
         "type": "bar",
         "visible": false,
         "x": [
          "BERT Base (cased)",
          "BERT Base (uncased)",
          "BERT Large (uncased)",
          "BERT Large (cased)",
          "Multilingual BERT (uncased)",
          "Multilingual BERT (cased)",
          "SciBERT",
          "Bio + Clinical BERT",
          "PubMed BERT",
          "Legal BERT",
          "Hate BERT",
          "BERT for Patents",
          "Security BERT",
          "AlBERT (v1)",
          "AlBERT (v2)",
          "RoBERTa Base",
          "Distilled RoBERTa Base",
          "RoBERTa Large",
          "Code RoBERTa",
          "Climate RoBERTa Base (distilled)",
          "Multilingual RoBERTa",
          "Distilled Multilingual BERT (cased)"
         ],
         "y": [
          0.8621,
          0.8137000000000001,
          0.7553,
          0.8355,
          0.8992,
          0.9170999999999999,
          0.9125,
          0.9297,
          0.9317,
          0.8853,
          0.8289,
          0.9005,
          0.866,
          0.9337000000000001,
          0.8919,
          0.807,
          0.9031999999999999,
          0.805,
          0.9881,
          0.929,
          0.8573999999999999,
          0.9662000000000001
         ]
        },
        {
         "name": "Score at Threshold 16.0",
         "type": "bar",
         "visible": false,
         "x": [
          "BERT Base (cased)",
          "BERT Base (uncased)",
          "BERT Large (uncased)",
          "BERT Large (cased)",
          "Multilingual BERT (uncased)",
          "Multilingual BERT (cased)",
          "SciBERT",
          "Bio + Clinical BERT",
          "PubMed BERT",
          "Legal BERT",
          "Hate BERT",
          "BERT for Patents",
          "Security BERT",
          "AlBERT (v1)",
          "AlBERT (v2)",
          "RoBERTa Base",
          "Distilled RoBERTa Base",
          "RoBERTa Large",
          "Code RoBERTa",
          "Climate RoBERTa Base (distilled)",
          "Multilingual RoBERTa",
          "Distilled Multilingual BERT (cased)"
         ],
         "y": [
          0.8753,
          0.8309000000000001,
          0.7739,
          0.8488,
          0.9164,
          0.9284,
          0.9224,
          0.9416,
          0.9377,
          0.8959,
          0.8448,
          0.9131,
          0.8806,
          0.9456,
          0.9072,
          0.8216,
          0.9158,
          0.8176000000000001,
          0.9881,
          0.9397,
          0.8687,
          0.9721
         ]
        },
        {
         "name": "Score at Threshold 17.0",
         "type": "bar",
         "visible": false,
         "x": [
          "BERT Base (cased)",
          "BERT Base (uncased)",
          "BERT Large (uncased)",
          "BERT Large (cased)",
          "Multilingual BERT (uncased)",
          "Multilingual BERT (cased)",
          "SciBERT",
          "Bio + Clinical BERT",
          "PubMed BERT",
          "Legal BERT",
          "Hate BERT",
          "BERT for Patents",
          "Security BERT",
          "AlBERT (v1)",
          "AlBERT (v2)",
          "RoBERTa Base",
          "Distilled RoBERTa Base",
          "RoBERTa Large",
          "Code RoBERTa",
          "Climate RoBERTa Base (distilled)",
          "Multilingual RoBERTa",
          "Distilled Multilingual BERT (cased)"
         ],
         "y": [
          0.8879,
          0.8434999999999999,
          0.7911,
          0.8634000000000001,
          0.9244,
          0.9377,
          0.9264,
          0.9483,
          0.945,
          0.9031999999999999,
          0.8573999999999999,
          0.9211,
          0.8952,
          0.9523,
          0.9231,
          0.8382,
          0.9244,
          0.8336,
          0.9894,
          0.9456,
          0.8833,
          0.9761
         ]
        },
        {
         "name": "Score at Threshold 18.0",
         "type": "bar",
         "visible": false,
         "x": [
          "BERT Base (cased)",
          "BERT Base (uncased)",
          "BERT Large (uncased)",
          "BERT Large (cased)",
          "Multilingual BERT (uncased)",
          "Multilingual BERT (cased)",
          "SciBERT",
          "Bio + Clinical BERT",
          "PubMed BERT",
          "Legal BERT",
          "Hate BERT",
          "BERT for Patents",
          "Security BERT",
          "AlBERT (v1)",
          "AlBERT (v2)",
          "RoBERTa Base",
          "Distilled RoBERTa Base",
          "RoBERTa Large",
          "Code RoBERTa",
          "Climate RoBERTa Base (distilled)",
          "Multilingual RoBERTa",
          "Distilled Multilingual BERT (cased)"
         ],
         "y": [
          0.9052,
          0.8593999999999999,
          0.809,
          0.872,
          0.9323999999999999,
          0.9469,
          0.9383,
          0.9542,
          0.9529000000000001,
          0.9118,
          0.868,
          0.9284,
          0.9045000000000001,
          0.9595,
          0.9317,
          0.8515,
          0.9309999999999999,
          0.8428,
          0.9894,
          0.9549,
          0.8919,
          0.9808
         ]
        },
        {
         "name": "Score at Threshold 19.0",
         "type": "bar",
         "visible": false,
         "x": [
          "BERT Base (cased)",
          "BERT Base (uncased)",
          "BERT Large (uncased)",
          "BERT Large (cased)",
          "Multilingual BERT (uncased)",
          "Multilingual BERT (cased)",
          "SciBERT",
          "Bio + Clinical BERT",
          "PubMed BERT",
          "Legal BERT",
          "Hate BERT",
          "BERT for Patents",
          "Security BERT",
          "AlBERT (v1)",
          "AlBERT (v2)",
          "RoBERTa Base",
          "Distilled RoBERTa Base",
          "RoBERTa Large",
          "Code RoBERTa",
          "Climate RoBERTa Base (distilled)",
          "Multilingual RoBERTa",
          "Distilled Multilingual BERT (cased)"
         ],
         "y": [
          0.9158,
          0.8694,
          0.8249,
          0.882,
          0.937,
          0.9536,
          0.9469,
          0.9581999999999999,
          0.9589,
          0.9198000000000001,
          0.8813,
          0.9357,
          0.9190999999999999,
          0.9642000000000001,
          0.9383,
          0.8674,
          0.9362999999999999,
          0.8601000000000001,
          0.9894,
          0.9581999999999999,
          0.8992,
          0.9834
         ]
        },
        {
         "name": "Score at Threshold 20.0",
         "type": "bar",
         "visible": false,
         "x": [
          "BERT Base (cased)",
          "BERT Base (uncased)",
          "BERT Large (uncased)",
          "BERT Large (cased)",
          "Multilingual BERT (uncased)",
          "Multilingual BERT (cased)",
          "SciBERT",
          "Bio + Clinical BERT",
          "PubMed BERT",
          "Legal BERT",
          "Hate BERT",
          "BERT for Patents",
          "Security BERT",
          "AlBERT (v1)",
          "AlBERT (v2)",
          "RoBERTa Base",
          "Distilled RoBERTa Base",
          "RoBERTa Large",
          "Code RoBERTa",
          "Climate RoBERTa Base (distilled)",
          "Multilingual RoBERTa",
          "Distilled Multilingual BERT (cased)"
         ],
         "y": [
          0.9244,
          0.8806,
          0.8369,
          0.8979,
          0.9443,
          0.9589,
          0.9536,
          0.9629000000000001,
          0.9634999999999999,
          0.9244,
          0.8898999999999999,
          0.943,
          0.9304000000000001,
          0.9668000000000001,
          0.943,
          0.8747,
          0.9416,
          0.8759999999999999,
          0.9901000000000001,
          0.9642000000000001,
          0.9065000000000001,
          0.9867
         ]
        },
        {
         "name": "Score at Threshold 21.0",
         "type": "bar",
         "visible": false,
         "x": [
          "BERT Base (cased)",
          "BERT Base (uncased)",
          "BERT Large (uncased)",
          "BERT Large (cased)",
          "Multilingual BERT (uncased)",
          "Multilingual BERT (cased)",
          "SciBERT",
          "Bio + Clinical BERT",
          "PubMed BERT",
          "Legal BERT",
          "Hate BERT",
          "BERT for Patents",
          "Security BERT",
          "AlBERT (v1)",
          "AlBERT (v2)",
          "RoBERTa Base",
          "Distilled RoBERTa Base",
          "RoBERTa Large",
          "Code RoBERTa",
          "Climate RoBERTa Base (distilled)",
          "Multilingual RoBERTa",
          "Distilled Multilingual BERT (cased)"
         ],
         "y": [
          0.9304000000000001,
          0.8886,
          0.8475,
          0.9072,
          0.9483,
          0.9609000000000001,
          0.9549,
          0.9668000000000001,
          0.9675,
          0.9284,
          0.8998999999999999,
          0.9462999999999999,
          0.9390000000000001,
          0.9702,
          0.9483,
          0.8873000000000001,
          0.9536,
          0.8859,
          0.9914000000000001,
          0.9675,
          0.9145,
          0.992
         ]
        },
        {
         "name": "Score at Threshold 22.0",
         "type": "bar",
         "visible": false,
         "x": [
          "BERT Base (cased)",
          "BERT Base (uncased)",
          "BERT Large (uncased)",
          "BERT Large (cased)",
          "Multilingual BERT (uncased)",
          "Multilingual BERT (cased)",
          "SciBERT",
          "Bio + Clinical BERT",
          "PubMed BERT",
          "Legal BERT",
          "Hate BERT",
          "BERT for Patents",
          "Security BERT",
          "AlBERT (v1)",
          "AlBERT (v2)",
          "RoBERTa Base",
          "Distilled RoBERTa Base",
          "RoBERTa Large",
          "Code RoBERTa",
          "Climate RoBERTa Base (distilled)",
          "Multilingual RoBERTa",
          "Distilled Multilingual BERT (cased)"
         ],
         "y": [
          0.9344,
          0.8992,
          0.8606999999999999,
          0.9131,
          0.9536,
          0.9649,
          0.9569,
          0.9702,
          0.9715,
          0.937,
          0.9092,
          0.9516,
          0.9495999999999999,
          0.9734999999999999,
          0.9516,
          0.8939,
          0.9576,
          0.8985,
          0.992,
          0.9728,
          0.9198000000000001,
          0.9934000000000001
         ]
        },
        {
         "name": "Score at Threshold 23.0",
         "type": "bar",
         "visible": false,
         "x": [
          "BERT Base (cased)",
          "BERT Base (uncased)",
          "BERT Large (uncased)",
          "BERT Large (cased)",
          "Multilingual BERT (uncased)",
          "Multilingual BERT (cased)",
          "SciBERT",
          "Bio + Clinical BERT",
          "PubMed BERT",
          "Legal BERT",
          "Hate BERT",
          "BERT for Patents",
          "Security BERT",
          "AlBERT (v1)",
          "AlBERT (v2)",
          "RoBERTa Base",
          "Distilled RoBERTa Base",
          "RoBERTa Large",
          "Code RoBERTa",
          "Climate RoBERTa Base (distilled)",
          "Multilingual RoBERTa",
          "Distilled Multilingual BERT (cased)"
         ],
         "y": [
          0.941,
          0.9065000000000001,
          0.8694,
          0.9204000000000001,
          0.9601999999999999,
          0.9702,
          0.9634999999999999,
          0.9721,
          0.9754999999999999,
          0.941,
          0.9151,
          0.9542,
          0.9549,
          0.9781,
          0.9589,
          0.9012,
          0.9601999999999999,
          0.9078,
          0.9926999999999999,
          0.9761,
          0.9270999999999999,
          0.9934000000000001
         ]
        },
        {
         "name": "Score at Threshold 24.0",
         "type": "bar",
         "visible": false,
         "x": [
          "BERT Base (cased)",
          "BERT Base (uncased)",
          "BERT Large (uncased)",
          "BERT Large (cased)",
          "Multilingual BERT (uncased)",
          "Multilingual BERT (cased)",
          "SciBERT",
          "Bio + Clinical BERT",
          "PubMed BERT",
          "Legal BERT",
          "Hate BERT",
          "BERT for Patents",
          "Security BERT",
          "AlBERT (v1)",
          "AlBERT (v2)",
          "RoBERTa Base",
          "Distilled RoBERTa Base",
          "RoBERTa Large",
          "Code RoBERTa",
          "Climate RoBERTa Base (distilled)",
          "Multilingual RoBERTa",
          "Distilled Multilingual BERT (cased)"
         ],
         "y": [
          0.9443,
          0.9158,
          0.8806,
          0.9317,
          0.9642000000000001,
          0.9741,
          0.9662000000000001,
          0.9748,
          0.9801000000000001,
          0.9462999999999999,
          0.9237000000000001,
          0.9595,
          0.9601999999999999,
          0.9808,
          0.9642000000000001,
          0.9072,
          0.9634999999999999,
          0.9131,
          0.9926999999999999,
          0.9793999999999999,
          0.9362999999999999,
          0.9947
         ]
        },
        {
         "name": "Score at Threshold 25.0",
         "type": "bar",
         "visible": false,
         "x": [
          "BERT Base (cased)",
          "BERT Base (uncased)",
          "BERT Large (uncased)",
          "BERT Large (cased)",
          "Multilingual BERT (uncased)",
          "Multilingual BERT (cased)",
          "SciBERT",
          "Bio + Clinical BERT",
          "PubMed BERT",
          "Legal BERT",
          "Hate BERT",
          "BERT for Patents",
          "Security BERT",
          "AlBERT (v1)",
          "AlBERT (v2)",
          "RoBERTa Base",
          "Distilled RoBERTa Base",
          "RoBERTa Large",
          "Code RoBERTa",
          "Climate RoBERTa Base (distilled)",
          "Multilingual RoBERTa",
          "Distilled Multilingual BERT (cased)"
         ],
         "y": [
          0.9509000000000001,
          0.9224,
          0.8919,
          0.9357,
          0.9655,
          0.9801000000000001,
          0.9682,
          0.9754999999999999,
          0.9808,
          0.9542,
          0.9297,
          0.9662000000000001,
          0.9655,
          0.9821,
          0.9682,
          0.9118,
          0.9655,
          0.9164,
          0.9934000000000001,
          0.9821,
          0.9377,
          0.996
         ]
        },
        {
         "name": "Score at Threshold 26.0",
         "type": "bar",
         "visible": false,
         "x": [
          "BERT Base (cased)",
          "BERT Base (uncased)",
          "BERT Large (uncased)",
          "BERT Large (cased)",
          "Multilingual BERT (uncased)",
          "Multilingual BERT (cased)",
          "SciBERT",
          "Bio + Clinical BERT",
          "PubMed BERT",
          "Legal BERT",
          "Hate BERT",
          "BERT for Patents",
          "Security BERT",
          "AlBERT (v1)",
          "AlBERT (v2)",
          "RoBERTa Base",
          "Distilled RoBERTa Base",
          "RoBERTa Large",
          "Code RoBERTa",
          "Climate RoBERTa Base (distilled)",
          "Multilingual RoBERTa",
          "Distilled Multilingual BERT (cased)"
         ],
         "y": [
          0.9595,
          0.9251,
          0.8959,
          0.9456,
          0.9695,
          0.9834,
          0.9708,
          0.9775,
          0.9834,
          0.9595,
          0.935,
          0.9688,
          0.9741,
          0.9834,
          0.9695,
          0.9218000000000001,
          0.9702,
          0.9198000000000001,
          0.9954000000000001,
          0.9828,
          0.9456,
          0.9967
         ]
        },
        {
         "name": "Score at Threshold 27.0",
         "type": "bar",
         "visible": false,
         "x": [
          "BERT Base (cased)",
          "BERT Base (uncased)",
          "BERT Large (uncased)",
          "BERT Large (cased)",
          "Multilingual BERT (uncased)",
          "Multilingual BERT (cased)",
          "SciBERT",
          "Bio + Clinical BERT",
          "PubMed BERT",
          "Legal BERT",
          "Hate BERT",
          "BERT for Patents",
          "Security BERT",
          "AlBERT (v1)",
          "AlBERT (v2)",
          "RoBERTa Base",
          "Distilled RoBERTa Base",
          "RoBERTa Large",
          "Code RoBERTa",
          "Climate RoBERTa Base (distilled)",
          "Multilingual RoBERTa",
          "Distilled Multilingual BERT (cased)"
         ],
         "y": [
          0.9634999999999999,
          0.9323999999999999,
          0.9018999999999999,
          0.9476,
          0.9721,
          0.9854,
          0.9734999999999999,
          0.9808,
          0.9841,
          0.9634999999999999,
          0.9403,
          0.9695,
          0.9768000000000001,
          0.9841,
          0.9728,
          0.9277,
          0.9715,
          0.9257,
          0.9967,
          0.9847,
          0.9476,
          0.9967
         ]
        },
        {
         "name": "Score at Threshold 28.0",
         "type": "bar",
         "visible": false,
         "x": [
          "BERT Base (cased)",
          "BERT Base (uncased)",
          "BERT Large (uncased)",
          "BERT Large (cased)",
          "Multilingual BERT (uncased)",
          "Multilingual BERT (cased)",
          "SciBERT",
          "Bio + Clinical BERT",
          "PubMed BERT",
          "Legal BERT",
          "Hate BERT",
          "BERT for Patents",
          "Security BERT",
          "AlBERT (v1)",
          "AlBERT (v2)",
          "RoBERTa Base",
          "Distilled RoBERTa Base",
          "RoBERTa Large",
          "Code RoBERTa",
          "Climate RoBERTa Base (distilled)",
          "Multilingual RoBERTa",
          "Distilled Multilingual BERT (cased)"
         ],
         "y": [
          0.9682,
          0.9390000000000001,
          0.9072,
          0.9516,
          0.9728,
          0.9861,
          0.9775,
          0.9821,
          0.9867,
          0.9682,
          0.9443,
          0.9754999999999999,
          0.9801000000000001,
          0.9861,
          0.9768000000000001,
          0.9317,
          0.9754999999999999,
          0.9297,
          0.9967,
          0.9854,
          0.9562,
          0.9967
         ]
        },
        {
         "name": "Score at Threshold 29.0",
         "type": "bar",
         "visible": false,
         "x": [
          "BERT Base (cased)",
          "BERT Base (uncased)",
          "BERT Large (uncased)",
          "BERT Large (cased)",
          "Multilingual BERT (uncased)",
          "Multilingual BERT (cased)",
          "SciBERT",
          "Bio + Clinical BERT",
          "PubMed BERT",
          "Legal BERT",
          "Hate BERT",
          "BERT for Patents",
          "Security BERT",
          "AlBERT (v1)",
          "AlBERT (v2)",
          "RoBERTa Base",
          "Distilled RoBERTa Base",
          "RoBERTa Large",
          "Code RoBERTa",
          "Climate RoBERTa Base (distilled)",
          "Multilingual RoBERTa",
          "Distilled Multilingual BERT (cased)"
         ],
         "y": [
          0.9702,
          0.9403,
          0.9158,
          0.9549,
          0.9748,
          0.9861,
          0.9821,
          0.9847,
          0.9881,
          0.9708,
          0.9469,
          0.9775,
          0.9808,
          0.9881,
          0.9788,
          0.9377,
          0.9754999999999999,
          0.9329999999999999,
          0.9973000000000001,
          0.9867,
          0.9589,
          0.9973000000000001
         ]
        },
        {
         "name": "Score at Threshold 30.0",
         "type": "bar",
         "visible": false,
         "x": [
          "BERT Base (cased)",
          "BERT Base (uncased)",
          "BERT Large (uncased)",
          "BERT Large (cased)",
          "Multilingual BERT (uncased)",
          "Multilingual BERT (cased)",
          "SciBERT",
          "Bio + Clinical BERT",
          "PubMed BERT",
          "Legal BERT",
          "Hate BERT",
          "BERT for Patents",
          "Security BERT",
          "AlBERT (v1)",
          "AlBERT (v2)",
          "RoBERTa Base",
          "Distilled RoBERTa Base",
          "RoBERTa Large",
          "Code RoBERTa",
          "Climate RoBERTa Base (distilled)",
          "Multilingual RoBERTa",
          "Distilled Multilingual BERT (cased)"
         ],
         "y": [
          0.9728,
          0.945,
          0.9198000000000001,
          0.9615,
          0.9761,
          0.9881,
          0.9847,
          0.9854,
          0.9881,
          0.9728,
          0.9495999999999999,
          0.9788,
          0.9828,
          0.9881,
          0.9801000000000001,
          0.9423,
          0.9754999999999999,
          0.9390000000000001,
          0.9973000000000001,
          0.9894,
          0.9629000000000001,
          0.9973000000000001
         ]
        },
        {
         "name": "Score at Threshold 31.0",
         "type": "bar",
         "visible": false,
         "x": [
          "BERT Base (cased)",
          "BERT Base (uncased)",
          "BERT Large (uncased)",
          "BERT Large (cased)",
          "Multilingual BERT (uncased)",
          "Multilingual BERT (cased)",
          "SciBERT",
          "Bio + Clinical BERT",
          "PubMed BERT",
          "Legal BERT",
          "Hate BERT",
          "BERT for Patents",
          "Security BERT",
          "AlBERT (v1)",
          "AlBERT (v2)",
          "RoBERTa Base",
          "Distilled RoBERTa Base",
          "RoBERTa Large",
          "Code RoBERTa",
          "Climate RoBERTa Base (distilled)",
          "Multilingual RoBERTa",
          "Distilled Multilingual BERT (cased)"
         ],
         "y": [
          0.9754999999999999,
          0.9483,
          0.9237000000000001,
          0.9649,
          0.9801000000000001,
          0.9881,
          0.9887,
          0.9873999999999999,
          0.9894,
          0.9754999999999999,
          0.9542,
          0.9801000000000001,
          0.9834,
          0.9887,
          0.9814,
          0.9469,
          0.9793999999999999,
          0.9416,
          0.998,
          0.9894,
          0.9662000000000001,
          0.9973000000000001
         ]
        },
        {
         "name": "Score at Threshold 32.0",
         "type": "bar",
         "visible": false,
         "x": [
          "BERT Base (cased)",
          "BERT Base (uncased)",
          "BERT Large (uncased)",
          "BERT Large (cased)",
          "Multilingual BERT (uncased)",
          "Multilingual BERT (cased)",
          "SciBERT",
          "Bio + Clinical BERT",
          "PubMed BERT",
          "Legal BERT",
          "Hate BERT",
          "BERT for Patents",
          "Security BERT",
          "AlBERT (v1)",
          "AlBERT (v2)",
          "RoBERTa Base",
          "Distilled RoBERTa Base",
          "RoBERTa Large",
          "Code RoBERTa",
          "Climate RoBERTa Base (distilled)",
          "Multilingual RoBERTa",
          "Distilled Multilingual BERT (cased)"
         ],
         "y": [
          0.9768000000000001,
          0.9516,
          0.9284,
          0.9688,
          0.9808,
          0.9894,
          0.9901000000000001,
          0.9906999999999999,
          0.9894,
          0.9788,
          0.9581999999999999,
          0.9814,
          0.9834,
          0.9887,
          0.9841,
          0.9509000000000001,
          0.9821,
          0.9456,
          0.998,
          0.9901000000000001,
          0.9675,
          0.9973000000000001
         ]
        },
        {
         "name": "Score at Threshold 33.0",
         "type": "bar",
         "visible": false,
         "x": [
          "BERT Base (cased)",
          "BERT Base (uncased)",
          "BERT Large (uncased)",
          "BERT Large (cased)",
          "Multilingual BERT (uncased)",
          "Multilingual BERT (cased)",
          "SciBERT",
          "Bio + Clinical BERT",
          "PubMed BERT",
          "Legal BERT",
          "Hate BERT",
          "BERT for Patents",
          "Security BERT",
          "AlBERT (v1)",
          "AlBERT (v2)",
          "RoBERTa Base",
          "Distilled RoBERTa Base",
          "RoBERTa Large",
          "Code RoBERTa",
          "Climate RoBERTa Base (distilled)",
          "Multilingual RoBERTa",
          "Distilled Multilingual BERT (cased)"
         ],
         "y": [
          0.9768000000000001,
          0.9562,
          0.9317,
          0.9702,
          0.9821,
          0.9906999999999999,
          0.9926999999999999,
          0.9906999999999999,
          0.9914000000000001,
          0.9808,
          0.9595,
          0.9821,
          0.9847,
          0.9894,
          0.9847,
          0.9529000000000001,
          0.9828,
          0.9489,
          0.998,
          0.9914000000000001,
          0.9702,
          0.9973000000000001
         ]
        },
        {
         "name": "Score at Threshold 34.0",
         "type": "bar",
         "visible": false,
         "x": [
          "BERT Base (cased)",
          "BERT Base (uncased)",
          "BERT Large (uncased)",
          "BERT Large (cased)",
          "Multilingual BERT (uncased)",
          "Multilingual BERT (cased)",
          "SciBERT",
          "Bio + Clinical BERT",
          "PubMed BERT",
          "Legal BERT",
          "Hate BERT",
          "BERT for Patents",
          "Security BERT",
          "AlBERT (v1)",
          "AlBERT (v2)",
          "RoBERTa Base",
          "Distilled RoBERTa Base",
          "RoBERTa Large",
          "Code RoBERTa",
          "Climate RoBERTa Base (distilled)",
          "Multilingual RoBERTa",
          "Distilled Multilingual BERT (cased)"
         ],
         "y": [
          0.9781,
          0.9601999999999999,
          0.937,
          0.9734999999999999,
          0.9828,
          0.9914000000000001,
          0.9934000000000001,
          0.9914000000000001,
          0.9914000000000001,
          0.9808,
          0.9609000000000001,
          0.9841,
          0.9847,
          0.9906999999999999,
          0.9854,
          0.9529000000000001,
          0.9847,
          0.9542,
          0.998,
          0.9926999999999999,
          0.9708,
          0.998
         ]
        },
        {
         "name": "Score at Threshold 35.0",
         "type": "bar",
         "visible": false,
         "x": [
          "BERT Base (cased)",
          "BERT Base (uncased)",
          "BERT Large (uncased)",
          "BERT Large (cased)",
          "Multilingual BERT (uncased)",
          "Multilingual BERT (cased)",
          "SciBERT",
          "Bio + Clinical BERT",
          "PubMed BERT",
          "Legal BERT",
          "Hate BERT",
          "BERT for Patents",
          "Security BERT",
          "AlBERT (v1)",
          "AlBERT (v2)",
          "RoBERTa Base",
          "Distilled RoBERTa Base",
          "RoBERTa Large",
          "Code RoBERTa",
          "Climate RoBERTa Base (distilled)",
          "Multilingual RoBERTa",
          "Distilled Multilingual BERT (cased)"
         ],
         "y": [
          0.9788,
          0.9655,
          0.9416,
          0.9748,
          0.9834,
          0.992,
          0.9934000000000001,
          0.992,
          0.9914000000000001,
          0.9828,
          0.9621999999999999,
          0.9861,
          0.9881,
          0.992,
          0.9854,
          0.9589,
          0.9873999999999999,
          0.9562,
          0.998,
          0.9926999999999999,
          0.9721,
          0.9987
         ]
        },
        {
         "name": "Score at Threshold 36.0",
         "type": "bar",
         "visible": false,
         "x": [
          "BERT Base (cased)",
          "BERT Base (uncased)",
          "BERT Large (uncased)",
          "BERT Large (cased)",
          "Multilingual BERT (uncased)",
          "Multilingual BERT (cased)",
          "SciBERT",
          "Bio + Clinical BERT",
          "PubMed BERT",
          "Legal BERT",
          "Hate BERT",
          "BERT for Patents",
          "Security BERT",
          "AlBERT (v1)",
          "AlBERT (v2)",
          "RoBERTa Base",
          "Distilled RoBERTa Base",
          "RoBERTa Large",
          "Code RoBERTa",
          "Climate RoBERTa Base (distilled)",
          "Multilingual RoBERTa",
          "Distilled Multilingual BERT (cased)"
         ],
         "y": [
          0.9808,
          0.9675,
          0.9462999999999999,
          0.9775,
          0.9841,
          0.9940000000000001,
          0.9934000000000001,
          0.9926999999999999,
          0.992,
          0.9828,
          0.9649,
          0.9881,
          0.9894,
          0.9934000000000001,
          0.9854,
          0.9629000000000001,
          0.9894,
          0.9581999999999999,
          0.998,
          0.9926999999999999,
          0.9741,
          0.9987
         ]
        },
        {
         "name": "Score at Threshold 37.0",
         "type": "bar",
         "visible": false,
         "x": [
          "BERT Base (cased)",
          "BERT Base (uncased)",
          "BERT Large (uncased)",
          "BERT Large (cased)",
          "Multilingual BERT (uncased)",
          "Multilingual BERT (cased)",
          "SciBERT",
          "Bio + Clinical BERT",
          "PubMed BERT",
          "Legal BERT",
          "Hate BERT",
          "BERT for Patents",
          "Security BERT",
          "AlBERT (v1)",
          "AlBERT (v2)",
          "RoBERTa Base",
          "Distilled RoBERTa Base",
          "RoBERTa Large",
          "Code RoBERTa",
          "Climate RoBERTa Base (distilled)",
          "Multilingual RoBERTa",
          "Distilled Multilingual BERT (cased)"
         ],
         "y": [
          0.9814,
          0.9695,
          0.9503,
          0.9775,
          0.9854,
          0.9947,
          0.9934000000000001,
          0.9940000000000001,
          0.9926999999999999,
          0.9841,
          0.9695,
          0.9881,
          0.9901000000000001,
          0.9934000000000001,
          0.9861,
          0.9649,
          0.9906999999999999,
          0.9642000000000001,
          0.998,
          0.9926999999999999,
          0.9768000000000001,
          0.9987
         ]
        },
        {
         "name": "Score at Threshold 38.0",
         "type": "bar",
         "visible": false,
         "x": [
          "BERT Base (cased)",
          "BERT Base (uncased)",
          "BERT Large (uncased)",
          "BERT Large (cased)",
          "Multilingual BERT (uncased)",
          "Multilingual BERT (cased)",
          "SciBERT",
          "Bio + Clinical BERT",
          "PubMed BERT",
          "Legal BERT",
          "Hate BERT",
          "BERT for Patents",
          "Security BERT",
          "AlBERT (v1)",
          "AlBERT (v2)",
          "RoBERTa Base",
          "Distilled RoBERTa Base",
          "RoBERTa Large",
          "Code RoBERTa",
          "Climate RoBERTa Base (distilled)",
          "Multilingual RoBERTa",
          "Distilled Multilingual BERT (cased)"
         ],
         "y": [
          0.9814,
          0.9708,
          0.9542,
          0.9781,
          0.9867,
          0.9954000000000001,
          0.9940000000000001,
          0.9940000000000001,
          0.9926999999999999,
          0.9873999999999999,
          0.9715,
          0.9894,
          0.9906999999999999,
          0.9940000000000001,
          0.9881,
          0.9668000000000001,
          0.992,
          0.9682,
          0.998,
          0.9926999999999999,
          0.9768000000000001,
          0.9993000000000001
         ]
        },
        {
         "name": "Score at Threshold 39.0",
         "type": "bar",
         "visible": false,
         "x": [
          "BERT Base (cased)",
          "BERT Base (uncased)",
          "BERT Large (uncased)",
          "BERT Large (cased)",
          "Multilingual BERT (uncased)",
          "Multilingual BERT (cased)",
          "SciBERT",
          "Bio + Clinical BERT",
          "PubMed BERT",
          "Legal BERT",
          "Hate BERT",
          "BERT for Patents",
          "Security BERT",
          "AlBERT (v1)",
          "AlBERT (v2)",
          "RoBERTa Base",
          "Distilled RoBERTa Base",
          "RoBERTa Large",
          "Code RoBERTa",
          "Climate RoBERTa Base (distilled)",
          "Multilingual RoBERTa",
          "Distilled Multilingual BERT (cased)"
         ],
         "y": [
          0.9841,
          0.9728,
          0.9589,
          0.9793999999999999,
          0.9873999999999999,
          0.9954000000000001,
          0.9947,
          0.9947,
          0.9940000000000001,
          0.9873999999999999,
          0.9728,
          0.9906999999999999,
          0.9914000000000001,
          0.9947,
          0.9881,
          0.9721,
          0.992,
          0.9708,
          0.998,
          0.9934000000000001,
          0.9793999999999999,
          0.9993000000000001
         ]
        },
        {
         "name": "Score at Threshold 40.0",
         "type": "bar",
         "visible": false,
         "x": [
          "BERT Base (cased)",
          "BERT Base (uncased)",
          "BERT Large (uncased)",
          "BERT Large (cased)",
          "Multilingual BERT (uncased)",
          "Multilingual BERT (cased)",
          "SciBERT",
          "Bio + Clinical BERT",
          "PubMed BERT",
          "Legal BERT",
          "Hate BERT",
          "BERT for Patents",
          "Security BERT",
          "AlBERT (v1)",
          "AlBERT (v2)",
          "RoBERTa Base",
          "Distilled RoBERTa Base",
          "RoBERTa Large",
          "Code RoBERTa",
          "Climate RoBERTa Base (distilled)",
          "Multilingual RoBERTa",
          "Distilled Multilingual BERT (cased)"
         ],
         "y": [
          0.9867,
          0.9761,
          0.9589,
          0.9808,
          0.9881,
          0.9954000000000001,
          0.9947,
          0.9954000000000001,
          0.9947,
          0.9873999999999999,
          0.9754999999999999,
          0.9906999999999999,
          0.9914000000000001,
          0.9954000000000001,
          0.9901000000000001,
          0.9754999999999999,
          0.992,
          0.9728,
          0.9987,
          0.9934000000000001,
          0.9834,
          0.9993000000000001
         ]
        }
       ],
       "layout": {
        "sliders": [
         {
          "active": 1,
          "currentvalue": {
           "prefix": "Threshold: "
          },
          "pad": {
           "t": 150
          },
          "steps": [
           {
            "args": [
             {
              "visible": [
               true,
               false,
               false,
               false,
               false,
               false,
               false,
               false,
               false,
               false,
               false,
               false,
               false,
               false,
               false,
               false,
               false,
               false,
               false,
               false,
               false,
               false,
               false,
               false,
               false,
               false,
               false,
               false,
               false,
               false,
               false,
               false,
               false,
               false,
               false,
               false,
               false,
               false,
               false,
               false,
               false
              ]
             },
             {
              "title": "Neutral Scores for 22 Models at Threshold:0%"
             }
            ],
            "label": "0%",
            "method": "update"
           },
           {
            "args": [
             {
              "visible": [
               false,
               true,
               false,
               false,
               false,
               false,
               false,
               false,
               false,
               false,
               false,
               false,
               false,
               false,
               false,
               false,
               false,
               false,
               false,
               false,
               false,
               false,
               false,
               false,
               false,
               false,
               false,
               false,
               false,
               false,
               false,
               false,
               false,
               false,
               false,
               false,
               false,
               false,
               false,
               false,
               false
              ]
             },
             {
              "title": "Neutral Scores for 22 Models at Threshold:1%"
             }
            ],
            "label": "1%",
            "method": "update"
           },
           {
            "args": [
             {
              "visible": [
               false,
               false,
               true,
               false,
               false,
               false,
               false,
               false,
               false,
               false,
               false,
               false,
               false,
               false,
               false,
               false,
               false,
               false,
               false,
               false,
               false,
               false,
               false,
               false,
               false,
               false,
               false,
               false,
               false,
               false,
               false,
               false,
               false,
               false,
               false,
               false,
               false,
               false,
               false,
               false,
               false
              ]
             },
             {
              "title": "Neutral Scores for 22 Models at Threshold:2%"
             }
            ],
            "label": "2%",
            "method": "update"
           },
           {
            "args": [
             {
              "visible": [
               false,
               false,
               false,
               true,
               false,
               false,
               false,
               false,
               false,
               false,
               false,
               false,
               false,
               false,
               false,
               false,
               false,
               false,
               false,
               false,
               false,
               false,
               false,
               false,
               false,
               false,
               false,
               false,
               false,
               false,
               false,
               false,
               false,
               false,
               false,
               false,
               false,
               false,
               false,
               false,
               false
              ]
             },
             {
              "title": "Neutral Scores for 22 Models at Threshold:3%"
             }
            ],
            "label": "3%",
            "method": "update"
           },
           {
            "args": [
             {
              "visible": [
               false,
               false,
               false,
               false,
               true,
               false,
               false,
               false,
               false,
               false,
               false,
               false,
               false,
               false,
               false,
               false,
               false,
               false,
               false,
               false,
               false,
               false,
               false,
               false,
               false,
               false,
               false,
               false,
               false,
               false,
               false,
               false,
               false,
               false,
               false,
               false,
               false,
               false,
               false,
               false,
               false
              ]
             },
             {
              "title": "Neutral Scores for 22 Models at Threshold:4%"
             }
            ],
            "label": "4%",
            "method": "update"
           },
           {
            "args": [
             {
              "visible": [
               false,
               false,
               false,
               false,
               false,
               true,
               false,
               false,
               false,
               false,
               false,
               false,
               false,
               false,
               false,
               false,
               false,
               false,
               false,
               false,
               false,
               false,
               false,
               false,
               false,
               false,
               false,
               false,
               false,
               false,
               false,
               false,
               false,
               false,
               false,
               false,
               false,
               false,
               false,
               false,
               false
              ]
             },
             {
              "title": "Neutral Scores for 22 Models at Threshold:5%"
             }
            ],
            "label": "5%",
            "method": "update"
           },
           {
            "args": [
             {
              "visible": [
               false,
               false,
               false,
               false,
               false,
               false,
               true,
               false,
               false,
               false,
               false,
               false,
               false,
               false,
               false,
               false,
               false,
               false,
               false,
               false,
               false,
               false,
               false,
               false,
               false,
               false,
               false,
               false,
               false,
               false,
               false,
               false,
               false,
               false,
               false,
               false,
               false,
               false,
               false,
               false,
               false
              ]
             },
             {
              "title": "Neutral Scores for 22 Models at Threshold:6%"
             }
            ],
            "label": "6%",
            "method": "update"
           },
           {
            "args": [
             {
              "visible": [
               false,
               false,
               false,
               false,
               false,
               false,
               false,
               true,
               false,
               false,
               false,
               false,
               false,
               false,
               false,
               false,
               false,
               false,
               false,
               false,
               false,
               false,
               false,
               false,
               false,
               false,
               false,
               false,
               false,
               false,
               false,
               false,
               false,
               false,
               false,
               false,
               false,
               false,
               false,
               false,
               false
              ]
             },
             {
              "title": "Neutral Scores for 22 Models at Threshold:7%"
             }
            ],
            "label": "7%",
            "method": "update"
           },
           {
            "args": [
             {
              "visible": [
               false,
               false,
               false,
               false,
               false,
               false,
               false,
               false,
               true,
               false,
               false,
               false,
               false,
               false,
               false,
               false,
               false,
               false,
               false,
               false,
               false,
               false,
               false,
               false,
               false,
               false,
               false,
               false,
               false,
               false,
               false,
               false,
               false,
               false,
               false,
               false,
               false,
               false,
               false,
               false,
               false
              ]
             },
             {
              "title": "Neutral Scores for 22 Models at Threshold:8%"
             }
            ],
            "label": "8%",
            "method": "update"
           },
           {
            "args": [
             {
              "visible": [
               false,
               false,
               false,
               false,
               false,
               false,
               false,
               false,
               false,
               true,
               false,
               false,
               false,
               false,
               false,
               false,
               false,
               false,
               false,
               false,
               false,
               false,
               false,
               false,
               false,
               false,
               false,
               false,
               false,
               false,
               false,
               false,
               false,
               false,
               false,
               false,
               false,
               false,
               false,
               false,
               false
              ]
             },
             {
              "title": "Neutral Scores for 22 Models at Threshold:9%"
             }
            ],
            "label": "9%",
            "method": "update"
           },
           {
            "args": [
             {
              "visible": [
               false,
               false,
               false,
               false,
               false,
               false,
               false,
               false,
               false,
               false,
               true,
               false,
               false,
               false,
               false,
               false,
               false,
               false,
               false,
               false,
               false,
               false,
               false,
               false,
               false,
               false,
               false,
               false,
               false,
               false,
               false,
               false,
               false,
               false,
               false,
               false,
               false,
               false,
               false,
               false,
               false
              ]
             },
             {
              "title": "Neutral Scores for 22 Models at Threshold:10%"
             }
            ],
            "label": "10%",
            "method": "update"
           },
           {
            "args": [
             {
              "visible": [
               false,
               false,
               false,
               false,
               false,
               false,
               false,
               false,
               false,
               false,
               false,
               true,
               false,
               false,
               false,
               false,
               false,
               false,
               false,
               false,
               false,
               false,
               false,
               false,
               false,
               false,
               false,
               false,
               false,
               false,
               false,
               false,
               false,
               false,
               false,
               false,
               false,
               false,
               false,
               false,
               false
              ]
             },
             {
              "title": "Neutral Scores for 22 Models at Threshold:11%"
             }
            ],
            "label": "11%",
            "method": "update"
           },
           {
            "args": [
             {
              "visible": [
               false,
               false,
               false,
               false,
               false,
               false,
               false,
               false,
               false,
               false,
               false,
               false,
               true,
               false,
               false,
               false,
               false,
               false,
               false,
               false,
               false,
               false,
               false,
               false,
               false,
               false,
               false,
               false,
               false,
               false,
               false,
               false,
               false,
               false,
               false,
               false,
               false,
               false,
               false,
               false,
               false
              ]
             },
             {
              "title": "Neutral Scores for 22 Models at Threshold:12%"
             }
            ],
            "label": "12%",
            "method": "update"
           },
           {
            "args": [
             {
              "visible": [
               false,
               false,
               false,
               false,
               false,
               false,
               false,
               false,
               false,
               false,
               false,
               false,
               false,
               true,
               false,
               false,
               false,
               false,
               false,
               false,
               false,
               false,
               false,
               false,
               false,
               false,
               false,
               false,
               false,
               false,
               false,
               false,
               false,
               false,
               false,
               false,
               false,
               false,
               false,
               false,
               false
              ]
             },
             {
              "title": "Neutral Scores for 22 Models at Threshold:13%"
             }
            ],
            "label": "13%",
            "method": "update"
           },
           {
            "args": [
             {
              "visible": [
               false,
               false,
               false,
               false,
               false,
               false,
               false,
               false,
               false,
               false,
               false,
               false,
               false,
               false,
               true,
               false,
               false,
               false,
               false,
               false,
               false,
               false,
               false,
               false,
               false,
               false,
               false,
               false,
               false,
               false,
               false,
               false,
               false,
               false,
               false,
               false,
               false,
               false,
               false,
               false,
               false
              ]
             },
             {
              "title": "Neutral Scores for 22 Models at Threshold:14%"
             }
            ],
            "label": "14%",
            "method": "update"
           },
           {
            "args": [
             {
              "visible": [
               false,
               false,
               false,
               false,
               false,
               false,
               false,
               false,
               false,
               false,
               false,
               false,
               false,
               false,
               false,
               true,
               false,
               false,
               false,
               false,
               false,
               false,
               false,
               false,
               false,
               false,
               false,
               false,
               false,
               false,
               false,
               false,
               false,
               false,
               false,
               false,
               false,
               false,
               false,
               false,
               false
              ]
             },
             {
              "title": "Neutral Scores for 22 Models at Threshold:15%"
             }
            ],
            "label": "15%",
            "method": "update"
           },
           {
            "args": [
             {
              "visible": [
               false,
               false,
               false,
               false,
               false,
               false,
               false,
               false,
               false,
               false,
               false,
               false,
               false,
               false,
               false,
               false,
               true,
               false,
               false,
               false,
               false,
               false,
               false,
               false,
               false,
               false,
               false,
               false,
               false,
               false,
               false,
               false,
               false,
               false,
               false,
               false,
               false,
               false,
               false,
               false,
               false
              ]
             },
             {
              "title": "Neutral Scores for 22 Models at Threshold:16%"
             }
            ],
            "label": "16%",
            "method": "update"
           },
           {
            "args": [
             {
              "visible": [
               false,
               false,
               false,
               false,
               false,
               false,
               false,
               false,
               false,
               false,
               false,
               false,
               false,
               false,
               false,
               false,
               false,
               true,
               false,
               false,
               false,
               false,
               false,
               false,
               false,
               false,
               false,
               false,
               false,
               false,
               false,
               false,
               false,
               false,
               false,
               false,
               false,
               false,
               false,
               false,
               false
              ]
             },
             {
              "title": "Neutral Scores for 22 Models at Threshold:17%"
             }
            ],
            "label": "17%",
            "method": "update"
           },
           {
            "args": [
             {
              "visible": [
               false,
               false,
               false,
               false,
               false,
               false,
               false,
               false,
               false,
               false,
               false,
               false,
               false,
               false,
               false,
               false,
               false,
               false,
               true,
               false,
               false,
               false,
               false,
               false,
               false,
               false,
               false,
               false,
               false,
               false,
               false,
               false,
               false,
               false,
               false,
               false,
               false,
               false,
               false,
               false,
               false
              ]
             },
             {
              "title": "Neutral Scores for 22 Models at Threshold:18%"
             }
            ],
            "label": "18%",
            "method": "update"
           },
           {
            "args": [
             {
              "visible": [
               false,
               false,
               false,
               false,
               false,
               false,
               false,
               false,
               false,
               false,
               false,
               false,
               false,
               false,
               false,
               false,
               false,
               false,
               false,
               true,
               false,
               false,
               false,
               false,
               false,
               false,
               false,
               false,
               false,
               false,
               false,
               false,
               false,
               false,
               false,
               false,
               false,
               false,
               false,
               false,
               false
              ]
             },
             {
              "title": "Neutral Scores for 22 Models at Threshold:19%"
             }
            ],
            "label": "19%",
            "method": "update"
           },
           {
            "args": [
             {
              "visible": [
               false,
               false,
               false,
               false,
               false,
               false,
               false,
               false,
               false,
               false,
               false,
               false,
               false,
               false,
               false,
               false,
               false,
               false,
               false,
               false,
               true,
               false,
               false,
               false,
               false,
               false,
               false,
               false,
               false,
               false,
               false,
               false,
               false,
               false,
               false,
               false,
               false,
               false,
               false,
               false,
               false
              ]
             },
             {
              "title": "Neutral Scores for 22 Models at Threshold:20%"
             }
            ],
            "label": "20%",
            "method": "update"
           },
           {
            "args": [
             {
              "visible": [
               false,
               false,
               false,
               false,
               false,
               false,
               false,
               false,
               false,
               false,
               false,
               false,
               false,
               false,
               false,
               false,
               false,
               false,
               false,
               false,
               false,
               true,
               false,
               false,
               false,
               false,
               false,
               false,
               false,
               false,
               false,
               false,
               false,
               false,
               false,
               false,
               false,
               false,
               false,
               false,
               false
              ]
             },
             {
              "title": "Neutral Scores for 22 Models at Threshold:21%"
             }
            ],
            "label": "21%",
            "method": "update"
           },
           {
            "args": [
             {
              "visible": [
               false,
               false,
               false,
               false,
               false,
               false,
               false,
               false,
               false,
               false,
               false,
               false,
               false,
               false,
               false,
               false,
               false,
               false,
               false,
               false,
               false,
               false,
               true,
               false,
               false,
               false,
               false,
               false,
               false,
               false,
               false,
               false,
               false,
               false,
               false,
               false,
               false,
               false,
               false,
               false,
               false
              ]
             },
             {
              "title": "Neutral Scores for 22 Models at Threshold:22%"
             }
            ],
            "label": "22%",
            "method": "update"
           },
           {
            "args": [
             {
              "visible": [
               false,
               false,
               false,
               false,
               false,
               false,
               false,
               false,
               false,
               false,
               false,
               false,
               false,
               false,
               false,
               false,
               false,
               false,
               false,
               false,
               false,
               false,
               false,
               true,
               false,
               false,
               false,
               false,
               false,
               false,
               false,
               false,
               false,
               false,
               false,
               false,
               false,
               false,
               false,
               false,
               false
              ]
             },
             {
              "title": "Neutral Scores for 22 Models at Threshold:23%"
             }
            ],
            "label": "23%",
            "method": "update"
           },
           {
            "args": [
             {
              "visible": [
               false,
               false,
               false,
               false,
               false,
               false,
               false,
               false,
               false,
               false,
               false,
               false,
               false,
               false,
               false,
               false,
               false,
               false,
               false,
               false,
               false,
               false,
               false,
               false,
               true,
               false,
               false,
               false,
               false,
               false,
               false,
               false,
               false,
               false,
               false,
               false,
               false,
               false,
               false,
               false,
               false
              ]
             },
             {
              "title": "Neutral Scores for 22 Models at Threshold:24%"
             }
            ],
            "label": "24%",
            "method": "update"
           },
           {
            "args": [
             {
              "visible": [
               false,
               false,
               false,
               false,
               false,
               false,
               false,
               false,
               false,
               false,
               false,
               false,
               false,
               false,
               false,
               false,
               false,
               false,
               false,
               false,
               false,
               false,
               false,
               false,
               false,
               true,
               false,
               false,
               false,
               false,
               false,
               false,
               false,
               false,
               false,
               false,
               false,
               false,
               false,
               false,
               false
              ]
             },
             {
              "title": "Neutral Scores for 22 Models at Threshold:25%"
             }
            ],
            "label": "25%",
            "method": "update"
           },
           {
            "args": [
             {
              "visible": [
               false,
               false,
               false,
               false,
               false,
               false,
               false,
               false,
               false,
               false,
               false,
               false,
               false,
               false,
               false,
               false,
               false,
               false,
               false,
               false,
               false,
               false,
               false,
               false,
               false,
               false,
               true,
               false,
               false,
               false,
               false,
               false,
               false,
               false,
               false,
               false,
               false,
               false,
               false,
               false,
               false
              ]
             },
             {
              "title": "Neutral Scores for 22 Models at Threshold:26%"
             }
            ],
            "label": "26%",
            "method": "update"
           },
           {
            "args": [
             {
              "visible": [
               false,
               false,
               false,
               false,
               false,
               false,
               false,
               false,
               false,
               false,
               false,
               false,
               false,
               false,
               false,
               false,
               false,
               false,
               false,
               false,
               false,
               false,
               false,
               false,
               false,
               false,
               false,
               true,
               false,
               false,
               false,
               false,
               false,
               false,
               false,
               false,
               false,
               false,
               false,
               false,
               false
              ]
             },
             {
              "title": "Neutral Scores for 22 Models at Threshold:27%"
             }
            ],
            "label": "27%",
            "method": "update"
           },
           {
            "args": [
             {
              "visible": [
               false,
               false,
               false,
               false,
               false,
               false,
               false,
               false,
               false,
               false,
               false,
               false,
               false,
               false,
               false,
               false,
               false,
               false,
               false,
               false,
               false,
               false,
               false,
               false,
               false,
               false,
               false,
               false,
               true,
               false,
               false,
               false,
               false,
               false,
               false,
               false,
               false,
               false,
               false,
               false,
               false
              ]
             },
             {
              "title": "Neutral Scores for 22 Models at Threshold:28%"
             }
            ],
            "label": "28%",
            "method": "update"
           },
           {
            "args": [
             {
              "visible": [
               false,
               false,
               false,
               false,
               false,
               false,
               false,
               false,
               false,
               false,
               false,
               false,
               false,
               false,
               false,
               false,
               false,
               false,
               false,
               false,
               false,
               false,
               false,
               false,
               false,
               false,
               false,
               false,
               false,
               true,
               false,
               false,
               false,
               false,
               false,
               false,
               false,
               false,
               false,
               false,
               false
              ]
             },
             {
              "title": "Neutral Scores for 22 Models at Threshold:29%"
             }
            ],
            "label": "29%",
            "method": "update"
           },
           {
            "args": [
             {
              "visible": [
               false,
               false,
               false,
               false,
               false,
               false,
               false,
               false,
               false,
               false,
               false,
               false,
               false,
               false,
               false,
               false,
               false,
               false,
               false,
               false,
               false,
               false,
               false,
               false,
               false,
               false,
               false,
               false,
               false,
               false,
               true,
               false,
               false,
               false,
               false,
               false,
               false,
               false,
               false,
               false,
               false
              ]
             },
             {
              "title": "Neutral Scores for 22 Models at Threshold:30%"
             }
            ],
            "label": "30%",
            "method": "update"
           },
           {
            "args": [
             {
              "visible": [
               false,
               false,
               false,
               false,
               false,
               false,
               false,
               false,
               false,
               false,
               false,
               false,
               false,
               false,
               false,
               false,
               false,
               false,
               false,
               false,
               false,
               false,
               false,
               false,
               false,
               false,
               false,
               false,
               false,
               false,
               false,
               true,
               false,
               false,
               false,
               false,
               false,
               false,
               false,
               false,
               false
              ]
             },
             {
              "title": "Neutral Scores for 22 Models at Threshold:31%"
             }
            ],
            "label": "31%",
            "method": "update"
           },
           {
            "args": [
             {
              "visible": [
               false,
               false,
               false,
               false,
               false,
               false,
               false,
               false,
               false,
               false,
               false,
               false,
               false,
               false,
               false,
               false,
               false,
               false,
               false,
               false,
               false,
               false,
               false,
               false,
               false,
               false,
               false,
               false,
               false,
               false,
               false,
               false,
               true,
               false,
               false,
               false,
               false,
               false,
               false,
               false,
               false
              ]
             },
             {
              "title": "Neutral Scores for 22 Models at Threshold:32%"
             }
            ],
            "label": "32%",
            "method": "update"
           },
           {
            "args": [
             {
              "visible": [
               false,
               false,
               false,
               false,
               false,
               false,
               false,
               false,
               false,
               false,
               false,
               false,
               false,
               false,
               false,
               false,
               false,
               false,
               false,
               false,
               false,
               false,
               false,
               false,
               false,
               false,
               false,
               false,
               false,
               false,
               false,
               false,
               false,
               true,
               false,
               false,
               false,
               false,
               false,
               false,
               false
              ]
             },
             {
              "title": "Neutral Scores for 22 Models at Threshold:33%"
             }
            ],
            "label": "33%",
            "method": "update"
           },
           {
            "args": [
             {
              "visible": [
               false,
               false,
               false,
               false,
               false,
               false,
               false,
               false,
               false,
               false,
               false,
               false,
               false,
               false,
               false,
               false,
               false,
               false,
               false,
               false,
               false,
               false,
               false,
               false,
               false,
               false,
               false,
               false,
               false,
               false,
               false,
               false,
               false,
               false,
               true,
               false,
               false,
               false,
               false,
               false,
               false
              ]
             },
             {
              "title": "Neutral Scores for 22 Models at Threshold:34%"
             }
            ],
            "label": "34%",
            "method": "update"
           },
           {
            "args": [
             {
              "visible": [
               false,
               false,
               false,
               false,
               false,
               false,
               false,
               false,
               false,
               false,
               false,
               false,
               false,
               false,
               false,
               false,
               false,
               false,
               false,
               false,
               false,
               false,
               false,
               false,
               false,
               false,
               false,
               false,
               false,
               false,
               false,
               false,
               false,
               false,
               false,
               true,
               false,
               false,
               false,
               false,
               false
              ]
             },
             {
              "title": "Neutral Scores for 22 Models at Threshold:35%"
             }
            ],
            "label": "35%",
            "method": "update"
           },
           {
            "args": [
             {
              "visible": [
               false,
               false,
               false,
               false,
               false,
               false,
               false,
               false,
               false,
               false,
               false,
               false,
               false,
               false,
               false,
               false,
               false,
               false,
               false,
               false,
               false,
               false,
               false,
               false,
               false,
               false,
               false,
               false,
               false,
               false,
               false,
               false,
               false,
               false,
               false,
               false,
               true,
               false,
               false,
               false,
               false
              ]
             },
             {
              "title": "Neutral Scores for 22 Models at Threshold:36%"
             }
            ],
            "label": "36%",
            "method": "update"
           },
           {
            "args": [
             {
              "visible": [
               false,
               false,
               false,
               false,
               false,
               false,
               false,
               false,
               false,
               false,
               false,
               false,
               false,
               false,
               false,
               false,
               false,
               false,
               false,
               false,
               false,
               false,
               false,
               false,
               false,
               false,
               false,
               false,
               false,
               false,
               false,
               false,
               false,
               false,
               false,
               false,
               false,
               true,
               false,
               false,
               false
              ]
             },
             {
              "title": "Neutral Scores for 22 Models at Threshold:37%"
             }
            ],
            "label": "37%",
            "method": "update"
           },
           {
            "args": [
             {
              "visible": [
               false,
               false,
               false,
               false,
               false,
               false,
               false,
               false,
               false,
               false,
               false,
               false,
               false,
               false,
               false,
               false,
               false,
               false,
               false,
               false,
               false,
               false,
               false,
               false,
               false,
               false,
               false,
               false,
               false,
               false,
               false,
               false,
               false,
               false,
               false,
               false,
               false,
               false,
               true,
               false,
               false
              ]
             },
             {
              "title": "Neutral Scores for 22 Models at Threshold:38%"
             }
            ],
            "label": "38%",
            "method": "update"
           },
           {
            "args": [
             {
              "visible": [
               false,
               false,
               false,
               false,
               false,
               false,
               false,
               false,
               false,
               false,
               false,
               false,
               false,
               false,
               false,
               false,
               false,
               false,
               false,
               false,
               false,
               false,
               false,
               false,
               false,
               false,
               false,
               false,
               false,
               false,
               false,
               false,
               false,
               false,
               false,
               false,
               false,
               false,
               false,
               true,
               false
              ]
             },
             {
              "title": "Neutral Scores for 22 Models at Threshold:39%"
             }
            ],
            "label": "39%",
            "method": "update"
           },
           {
            "args": [
             {
              "visible": [
               false,
               false,
               false,
               false,
               false,
               false,
               false,
               false,
               false,
               false,
               false,
               false,
               false,
               false,
               false,
               false,
               false,
               false,
               false,
               false,
               false,
               false,
               false,
               false,
               false,
               false,
               false,
               false,
               false,
               false,
               false,
               false,
               false,
               false,
               false,
               false,
               false,
               false,
               false,
               false,
               true
              ]
             },
             {
              "title": "Neutral Scores for 22 Models at Threshold:40%"
             }
            ],
            "label": "40%",
            "method": "update"
           }
          ]
         }
        ],
        "template": {
         "data": {
          "bar": [
           {
            "error_x": {
             "color": "#2a3f5f"
            },
            "error_y": {
             "color": "#2a3f5f"
            },
            "marker": {
             "line": {
              "color": "#E5ECF6",
              "width": 0.5
             },
             "pattern": {
              "fillmode": "overlay",
              "size": 10,
              "solidity": 0.2
             }
            },
            "type": "bar"
           }
          ],
          "barpolar": [
           {
            "marker": {
             "line": {
              "color": "#E5ECF6",
              "width": 0.5
             },
             "pattern": {
              "fillmode": "overlay",
              "size": 10,
              "solidity": 0.2
             }
            },
            "type": "barpolar"
           }
          ],
          "carpet": [
           {
            "aaxis": {
             "endlinecolor": "#2a3f5f",
             "gridcolor": "white",
             "linecolor": "white",
             "minorgridcolor": "white",
             "startlinecolor": "#2a3f5f"
            },
            "baxis": {
             "endlinecolor": "#2a3f5f",
             "gridcolor": "white",
             "linecolor": "white",
             "minorgridcolor": "white",
             "startlinecolor": "#2a3f5f"
            },
            "type": "carpet"
           }
          ],
          "choropleth": [
           {
            "colorbar": {
             "outlinewidth": 0,
             "ticks": ""
            },
            "type": "choropleth"
           }
          ],
          "contour": [
           {
            "colorbar": {
             "outlinewidth": 0,
             "ticks": ""
            },
            "colorscale": [
             [
              0,
              "#0d0887"
             ],
             [
              0.1111111111111111,
              "#46039f"
             ],
             [
              0.2222222222222222,
              "#7201a8"
             ],
             [
              0.3333333333333333,
              "#9c179e"
             ],
             [
              0.4444444444444444,
              "#bd3786"
             ],
             [
              0.5555555555555556,
              "#d8576b"
             ],
             [
              0.6666666666666666,
              "#ed7953"
             ],
             [
              0.7777777777777778,
              "#fb9f3a"
             ],
             [
              0.8888888888888888,
              "#fdca26"
             ],
             [
              1,
              "#f0f921"
             ]
            ],
            "type": "contour"
           }
          ],
          "contourcarpet": [
           {
            "colorbar": {
             "outlinewidth": 0,
             "ticks": ""
            },
            "type": "contourcarpet"
           }
          ],
          "heatmap": [
           {
            "colorbar": {
             "outlinewidth": 0,
             "ticks": ""
            },
            "colorscale": [
             [
              0,
              "#0d0887"
             ],
             [
              0.1111111111111111,
              "#46039f"
             ],
             [
              0.2222222222222222,
              "#7201a8"
             ],
             [
              0.3333333333333333,
              "#9c179e"
             ],
             [
              0.4444444444444444,
              "#bd3786"
             ],
             [
              0.5555555555555556,
              "#d8576b"
             ],
             [
              0.6666666666666666,
              "#ed7953"
             ],
             [
              0.7777777777777778,
              "#fb9f3a"
             ],
             [
              0.8888888888888888,
              "#fdca26"
             ],
             [
              1,
              "#f0f921"
             ]
            ],
            "type": "heatmap"
           }
          ],
          "heatmapgl": [
           {
            "colorbar": {
             "outlinewidth": 0,
             "ticks": ""
            },
            "colorscale": [
             [
              0,
              "#0d0887"
             ],
             [
              0.1111111111111111,
              "#46039f"
             ],
             [
              0.2222222222222222,
              "#7201a8"
             ],
             [
              0.3333333333333333,
              "#9c179e"
             ],
             [
              0.4444444444444444,
              "#bd3786"
             ],
             [
              0.5555555555555556,
              "#d8576b"
             ],
             [
              0.6666666666666666,
              "#ed7953"
             ],
             [
              0.7777777777777778,
              "#fb9f3a"
             ],
             [
              0.8888888888888888,
              "#fdca26"
             ],
             [
              1,
              "#f0f921"
             ]
            ],
            "type": "heatmapgl"
           }
          ],
          "histogram": [
           {
            "marker": {
             "pattern": {
              "fillmode": "overlay",
              "size": 10,
              "solidity": 0.2
             }
            },
            "type": "histogram"
           }
          ],
          "histogram2d": [
           {
            "colorbar": {
             "outlinewidth": 0,
             "ticks": ""
            },
            "colorscale": [
             [
              0,
              "#0d0887"
             ],
             [
              0.1111111111111111,
              "#46039f"
             ],
             [
              0.2222222222222222,
              "#7201a8"
             ],
             [
              0.3333333333333333,
              "#9c179e"
             ],
             [
              0.4444444444444444,
              "#bd3786"
             ],
             [
              0.5555555555555556,
              "#d8576b"
             ],
             [
              0.6666666666666666,
              "#ed7953"
             ],
             [
              0.7777777777777778,
              "#fb9f3a"
             ],
             [
              0.8888888888888888,
              "#fdca26"
             ],
             [
              1,
              "#f0f921"
             ]
            ],
            "type": "histogram2d"
           }
          ],
          "histogram2dcontour": [
           {
            "colorbar": {
             "outlinewidth": 0,
             "ticks": ""
            },
            "colorscale": [
             [
              0,
              "#0d0887"
             ],
             [
              0.1111111111111111,
              "#46039f"
             ],
             [
              0.2222222222222222,
              "#7201a8"
             ],
             [
              0.3333333333333333,
              "#9c179e"
             ],
             [
              0.4444444444444444,
              "#bd3786"
             ],
             [
              0.5555555555555556,
              "#d8576b"
             ],
             [
              0.6666666666666666,
              "#ed7953"
             ],
             [
              0.7777777777777778,
              "#fb9f3a"
             ],
             [
              0.8888888888888888,
              "#fdca26"
             ],
             [
              1,
              "#f0f921"
             ]
            ],
            "type": "histogram2dcontour"
           }
          ],
          "mesh3d": [
           {
            "colorbar": {
             "outlinewidth": 0,
             "ticks": ""
            },
            "type": "mesh3d"
           }
          ],
          "parcoords": [
           {
            "line": {
             "colorbar": {
              "outlinewidth": 0,
              "ticks": ""
             }
            },
            "type": "parcoords"
           }
          ],
          "pie": [
           {
            "automargin": true,
            "type": "pie"
           }
          ],
          "scatter": [
           {
            "marker": {
             "colorbar": {
              "outlinewidth": 0,
              "ticks": ""
             }
            },
            "type": "scatter"
           }
          ],
          "scatter3d": [
           {
            "line": {
             "colorbar": {
              "outlinewidth": 0,
              "ticks": ""
             }
            },
            "marker": {
             "colorbar": {
              "outlinewidth": 0,
              "ticks": ""
             }
            },
            "type": "scatter3d"
           }
          ],
          "scattercarpet": [
           {
            "marker": {
             "colorbar": {
              "outlinewidth": 0,
              "ticks": ""
             }
            },
            "type": "scattercarpet"
           }
          ],
          "scattergeo": [
           {
            "marker": {
             "colorbar": {
              "outlinewidth": 0,
              "ticks": ""
             }
            },
            "type": "scattergeo"
           }
          ],
          "scattergl": [
           {
            "marker": {
             "colorbar": {
              "outlinewidth": 0,
              "ticks": ""
             }
            },
            "type": "scattergl"
           }
          ],
          "scattermapbox": [
           {
            "marker": {
             "colorbar": {
              "outlinewidth": 0,
              "ticks": ""
             }
            },
            "type": "scattermapbox"
           }
          ],
          "scatterpolar": [
           {
            "marker": {
             "colorbar": {
              "outlinewidth": 0,
              "ticks": ""
             }
            },
            "type": "scatterpolar"
           }
          ],
          "scatterpolargl": [
           {
            "marker": {
             "colorbar": {
              "outlinewidth": 0,
              "ticks": ""
             }
            },
            "type": "scatterpolargl"
           }
          ],
          "scatterternary": [
           {
            "marker": {
             "colorbar": {
              "outlinewidth": 0,
              "ticks": ""
             }
            },
            "type": "scatterternary"
           }
          ],
          "surface": [
           {
            "colorbar": {
             "outlinewidth": 0,
             "ticks": ""
            },
            "colorscale": [
             [
              0,
              "#0d0887"
             ],
             [
              0.1111111111111111,
              "#46039f"
             ],
             [
              0.2222222222222222,
              "#7201a8"
             ],
             [
              0.3333333333333333,
              "#9c179e"
             ],
             [
              0.4444444444444444,
              "#bd3786"
             ],
             [
              0.5555555555555556,
              "#d8576b"
             ],
             [
              0.6666666666666666,
              "#ed7953"
             ],
             [
              0.7777777777777778,
              "#fb9f3a"
             ],
             [
              0.8888888888888888,
              "#fdca26"
             ],
             [
              1,
              "#f0f921"
             ]
            ],
            "type": "surface"
           }
          ],
          "table": [
           {
            "cells": {
             "fill": {
              "color": "#EBF0F8"
             },
             "line": {
              "color": "white"
             }
            },
            "header": {
             "fill": {
              "color": "#C8D4E3"
             },
             "line": {
              "color": "white"
             }
            },
            "type": "table"
           }
          ]
         },
         "layout": {
          "annotationdefaults": {
           "arrowcolor": "#2a3f5f",
           "arrowhead": 0,
           "arrowwidth": 1
          },
          "autotypenumbers": "strict",
          "coloraxis": {
           "colorbar": {
            "outlinewidth": 0,
            "ticks": ""
           }
          },
          "colorscale": {
           "diverging": [
            [
             0,
             "#8e0152"
            ],
            [
             0.1,
             "#c51b7d"
            ],
            [
             0.2,
             "#de77ae"
            ],
            [
             0.3,
             "#f1b6da"
            ],
            [
             0.4,
             "#fde0ef"
            ],
            [
             0.5,
             "#f7f7f7"
            ],
            [
             0.6,
             "#e6f5d0"
            ],
            [
             0.7,
             "#b8e186"
            ],
            [
             0.8,
             "#7fbc41"
            ],
            [
             0.9,
             "#4d9221"
            ],
            [
             1,
             "#276419"
            ]
           ],
           "sequential": [
            [
             0,
             "#0d0887"
            ],
            [
             0.1111111111111111,
             "#46039f"
            ],
            [
             0.2222222222222222,
             "#7201a8"
            ],
            [
             0.3333333333333333,
             "#9c179e"
            ],
            [
             0.4444444444444444,
             "#bd3786"
            ],
            [
             0.5555555555555556,
             "#d8576b"
            ],
            [
             0.6666666666666666,
             "#ed7953"
            ],
            [
             0.7777777777777778,
             "#fb9f3a"
            ],
            [
             0.8888888888888888,
             "#fdca26"
            ],
            [
             1,
             "#f0f921"
            ]
           ],
           "sequentialminus": [
            [
             0,
             "#0d0887"
            ],
            [
             0.1111111111111111,
             "#46039f"
            ],
            [
             0.2222222222222222,
             "#7201a8"
            ],
            [
             0.3333333333333333,
             "#9c179e"
            ],
            [
             0.4444444444444444,
             "#bd3786"
            ],
            [
             0.5555555555555556,
             "#d8576b"
            ],
            [
             0.6666666666666666,
             "#ed7953"
            ],
            [
             0.7777777777777778,
             "#fb9f3a"
            ],
            [
             0.8888888888888888,
             "#fdca26"
            ],
            [
             1,
             "#f0f921"
            ]
           ]
          },
          "colorway": [
           "#636efa",
           "#EF553B",
           "#00cc96",
           "#ab63fa",
           "#FFA15A",
           "#19d3f3",
           "#FF6692",
           "#B6E880",
           "#FF97FF",
           "#FECB52"
          ],
          "font": {
           "color": "#2a3f5f"
          },
          "geo": {
           "bgcolor": "white",
           "lakecolor": "white",
           "landcolor": "#E5ECF6",
           "showlakes": true,
           "showland": true,
           "subunitcolor": "white"
          },
          "hoverlabel": {
           "align": "left"
          },
          "hovermode": "closest",
          "mapbox": {
           "style": "light"
          },
          "paper_bgcolor": "white",
          "plot_bgcolor": "#E5ECF6",
          "polar": {
           "angularaxis": {
            "gridcolor": "white",
            "linecolor": "white",
            "ticks": ""
           },
           "bgcolor": "#E5ECF6",
           "radialaxis": {
            "gridcolor": "white",
            "linecolor": "white",
            "ticks": ""
           }
          },
          "scene": {
           "xaxis": {
            "backgroundcolor": "#E5ECF6",
            "gridcolor": "white",
            "gridwidth": 2,
            "linecolor": "white",
            "showbackground": true,
            "ticks": "",
            "zerolinecolor": "white"
           },
           "yaxis": {
            "backgroundcolor": "#E5ECF6",
            "gridcolor": "white",
            "gridwidth": 2,
            "linecolor": "white",
            "showbackground": true,
            "ticks": "",
            "zerolinecolor": "white"
           },
           "zaxis": {
            "backgroundcolor": "#E5ECF6",
            "gridcolor": "white",
            "gridwidth": 2,
            "linecolor": "white",
            "showbackground": true,
            "ticks": "",
            "zerolinecolor": "white"
           }
          },
          "shapedefaults": {
           "line": {
            "color": "#2a3f5f"
           }
          },
          "ternary": {
           "aaxis": {
            "gridcolor": "white",
            "linecolor": "white",
            "ticks": ""
           },
           "baxis": {
            "gridcolor": "white",
            "linecolor": "white",
            "ticks": ""
           },
           "bgcolor": "#E5ECF6",
           "caxis": {
            "gridcolor": "white",
            "linecolor": "white",
            "ticks": ""
           }
          },
          "title": {
           "x": 0.05
          },
          "xaxis": {
           "automargin": true,
           "gridcolor": "white",
           "linecolor": "white",
           "ticks": "",
           "title": {
            "standoff": 15
           },
           "zerolinecolor": "white",
           "zerolinewidth": 2
          },
          "yaxis": {
           "automargin": true,
           "gridcolor": "white",
           "linecolor": "white",
           "ticks": "",
           "title": {
            "standoff": 15
           },
           "zerolinecolor": "white",
           "zerolinewidth": 2
          }
         }
        },
        "title": {
         "text": "Neutral Scores for 22 Models at Various Thresholds"
        },
        "xaxis": {
         "title": {
          "text": "Language Models"
         }
        },
        "yaxis": {
         "range": [
          0,
          1
         ],
         "tickformat": ".0%",
         "title": {
          "text": "Scores"
         }
        }
       }
      },
      "text/html": [
       "<div>                            <div id=\"10566622-bc22-4f34-b41d-9df25026791a\" class=\"plotly-graph-div\" style=\"height:525px; width:100%;\"></div>            <script type=\"text/javascript\">                require([\"plotly\"], function(Plotly) {                    window.PLOTLYENV=window.PLOTLYENV || {};                                    if (document.getElementById(\"10566622-bc22-4f34-b41d-9df25026791a\")) {                    Plotly.newPlot(                        \"10566622-bc22-4f34-b41d-9df25026791a\",                        [{\"name\":\"Score at Threshold 0.0\",\"visible\":false,\"x\":[\"BERT Base (cased)\",\"BERT Base (uncased)\",\"BERT Large (uncased)\",\"BERT Large (cased)\",\"Multilingual BERT (uncased)\",\"Multilingual BERT (cased)\",\"SciBERT\",\"Bio + Clinical BERT\",\"PubMed BERT\",\"Legal BERT\",\"Hate BERT\",\"BERT for Patents\",\"Security BERT\",\"AlBERT (v1)\",\"AlBERT (v2)\",\"RoBERTa Base\",\"Distilled RoBERTa Base\",\"RoBERTa Large\",\"Code RoBERTa\",\"Climate RoBERTa Base (distilled)\",\"Multilingual RoBERTa\",\"Distilled Multilingual BERT (cased)\"],\"y\":[0.0007000000000000001,0.0013,0.0007000000000000001,0.0007000000000000001,0.0007000000000000001,0.0007000000000000001,0.0007000000000000001,0.002,0.0007000000000000001,0.0007000000000000001,0.0007000000000000001,0.0007000000000000001,0.0007000000000000001,0.0007000000000000001,0.0007000000000000001,0.0007000000000000001,0.0007000000000000001,0.0007000000000000001,0.0007000000000000001,0.0013,0.0007000000000000001,0.0007000000000000001],\"type\":\"bar\"},{\"name\":\"Score at Threshold 1.0\",\"visible\":true,\"x\":[\"BERT Base (cased)\",\"BERT Base (uncased)\",\"BERT Large (uncased)\",\"BERT Large (cased)\",\"Multilingual BERT (uncased)\",\"Multilingual BERT (cased)\",\"SciBERT\",\"Bio + Clinical BERT\",\"PubMed BERT\",\"Legal BERT\",\"Hate BERT\",\"BERT for Patents\",\"Security BERT\",\"AlBERT (v1)\",\"AlBERT (v2)\",\"RoBERTa Base\",\"Distilled RoBERTa Base\",\"RoBERTa Large\",\"Code RoBERTa\",\"Climate RoBERTa Base (distilled)\",\"Multilingual RoBERTa\",\"Distilled Multilingual BERT (cased)\"],\"y\":[0.134,0.122,0.0968,0.1359,0.179,0.1704,0.1956,0.1771,0.2155,0.132,0.11539999999999999,0.1704,0.1074,0.23870000000000002,0.1452,0.1001,0.1505,0.0875,0.32689999999999997,0.16510000000000002,0.1525,0.2672],\"type\":\"bar\"},{\"name\":\"Score at Threshold 2.0\",\"visible\":false,\"x\":[\"BERT Base (cased)\",\"BERT Base (uncased)\",\"BERT Large (uncased)\",\"BERT Large (cased)\",\"Multilingual BERT (uncased)\",\"Multilingual BERT (cased)\",\"SciBERT\",\"Bio + Clinical BERT\",\"PubMed BERT\",\"Legal BERT\",\"Hate BERT\",\"BERT for Patents\",\"Security BERT\",\"AlBERT (v1)\",\"AlBERT (v2)\",\"RoBERTa Base\",\"Distilled RoBERTa Base\",\"RoBERTa Large\",\"Code RoBERTa\",\"Climate RoBERTa Base (distilled)\",\"Multilingual RoBERTa\",\"Distilled Multilingual BERT (cased)\"],\"y\":[0.2686,0.2255,0.1804,0.24670000000000003,0.32630000000000003,0.3375,0.35009999999999997,0.3342,0.36469999999999997,0.27649999999999997,0.2361,0.3176,0.22149999999999997,0.4032,0.2752,0.19760000000000003,0.2898,0.17370000000000002,0.5378000000000001,0.32030000000000003,0.2798,0.4702],\"type\":\"bar\"},{\"name\":\"Score at Threshold 3.0\",\"visible\":false,\"x\":[\"BERT Base (cased)\",\"BERT Base (uncased)\",\"BERT Large (uncased)\",\"BERT Large (cased)\",\"Multilingual BERT (uncased)\",\"Multilingual BERT (cased)\",\"SciBERT\",\"Bio + Clinical BERT\",\"PubMed BERT\",\"Legal BERT\",\"Hate BERT\",\"BERT for Patents\",\"Security BERT\",\"AlBERT (v1)\",\"AlBERT (v2)\",\"RoBERTa Base\",\"Distilled RoBERTa Base\",\"RoBERTa Large\",\"Code RoBERTa\",\"Climate RoBERTa Base (distilled)\",\"Multilingual RoBERTa\",\"Distilled Multilingual BERT (cased)\"],\"y\":[0.38,0.3249,0.2725,0.34619999999999995,0.44630000000000003,0.4642,0.45159999999999995,0.4642,0.48469999999999996,0.3833,0.32159999999999994,0.42710000000000004,0.3362,0.5325,0.39659999999999995,0.28850000000000003,0.4118,0.2566,0.6956,0.4397,0.37729999999999997,0.5981000000000001],\"type\":\"bar\"},{\"name\":\"Score at Threshold 4.0\",\"visible\":false,\"x\":[\"BERT Base (cased)\",\"BERT Base (uncased)\",\"BERT Large (uncased)\",\"BERT Large (cased)\",\"Multilingual BERT (uncased)\",\"Multilingual BERT (cased)\",\"SciBERT\",\"Bio + Clinical BERT\",\"PubMed BERT\",\"Legal BERT\",\"Hate BERT\",\"BERT for Patents\",\"Security BERT\",\"AlBERT (v1)\",\"AlBERT (v2)\",\"RoBERTa Base\",\"Distilled RoBERTa Base\",\"RoBERTa Large\",\"Code RoBERTa\",\"Climate RoBERTa Base (distilled)\",\"Multilingual RoBERTa\",\"Distilled Multilingual BERT (cased)\"],\"y\":[0.46149999999999997,0.40850000000000003,0.33490000000000003,0.4138,0.5405,0.5511,0.555,0.5544,0.5722999999999999,0.4708,0.4012,0.5245000000000001,0.4304,0.63,0.4894,0.36939999999999995,0.5046,0.3296,0.7825,0.5431,0.4668,0.7036],\"type\":\"bar\"},{\"name\":\"Score at Threshold 5.0\",\"visible\":false,\"x\":[\"BERT Base (cased)\",\"BERT Base (uncased)\",\"BERT Large (uncased)\",\"BERT Large (cased)\",\"Multilingual BERT (uncased)\",\"Multilingual BERT (cased)\",\"SciBERT\",\"Bio + Clinical BERT\",\"PubMed BERT\",\"Legal BERT\",\"Hate BERT\",\"BERT for Patents\",\"Security BERT\",\"AlBERT (v1)\",\"AlBERT (v2)\",\"RoBERTa Base\",\"Distilled RoBERTa Base\",\"RoBERTa Large\",\"Code RoBERTa\",\"Climate RoBERTa Base (distilled)\",\"Multilingual RoBERTa\",\"Distilled Multilingual BERT (cased)\"],\"y\":[0.5418,0.4841,0.3972,0.4788,0.6214,0.6286,0.6306,0.6253,0.6412,0.5511,0.4708,0.6015,0.5073,0.6969,0.5617,0.42310000000000003,0.5782,0.3972,0.8501000000000001,0.6233,0.5398,0.7633],\"type\":\"bar\"},{\"name\":\"Score at Threshold 6.0\",\"visible\":false,\"x\":[\"BERT Base (cased)\",\"BERT Base (uncased)\",\"BERT Large (uncased)\",\"BERT Large (cased)\",\"Multilingual BERT (uncased)\",\"Multilingual BERT (cased)\",\"SciBERT\",\"Bio + Clinical BERT\",\"PubMed BERT\",\"Legal BERT\",\"Hate BERT\",\"BERT for Patents\",\"Security BERT\",\"AlBERT (v1)\",\"AlBERT (v2)\",\"RoBERTa Base\",\"Distilled RoBERTa Base\",\"RoBERTa Large\",\"Code RoBERTa\",\"Climate RoBERTa Base (distilled)\",\"Multilingual RoBERTa\",\"Distilled Multilingual BERT (cased)\"],\"y\":[0.6001,0.5385,0.4569,0.5345,0.6731,0.6857,0.6877,0.6936,0.7069,0.6167,0.5312,0.6572,0.5716,0.7553,0.6174000000000001,0.4854,0.6353,0.46619999999999995,0.8952,0.687,0.5942000000000001,0.8103],\"type\":\"bar\"},{\"name\":\"Score at Threshold 7.0\",\"visible\":false,\"x\":[\"BERT Base (cased)\",\"BERT Base (uncased)\",\"BERT Large (uncased)\",\"BERT Large (cased)\",\"Multilingual BERT (uncased)\",\"Multilingual BERT (cased)\",\"SciBERT\",\"Bio + Clinical BERT\",\"PubMed BERT\",\"Legal BERT\",\"Hate BERT\",\"BERT for Patents\",\"Security BERT\",\"AlBERT (v1)\",\"AlBERT (v2)\",\"RoBERTa Base\",\"Distilled RoBERTa Base\",\"RoBERTa Large\",\"Code RoBERTa\",\"Climate RoBERTa Base (distilled)\",\"Multilingual RoBERTa\",\"Distilled Multilingual BERT (cased)\"],\"y\":[0.6598,0.5908,0.49729999999999996,0.5875,0.7281,0.742,0.7288,0.752,0.7565999999999999,0.6690999999999999,0.5836,0.7188,0.6167,0.7997,0.6770999999999999,0.5424,0.6844,0.5252,0.9270999999999999,0.7394,0.6472,0.8521],\"type\":\"bar\"},{\"name\":\"Score at Threshold 8.0\",\"visible\":false,\"x\":[\"BERT Base (cased)\",\"BERT Base (uncased)\",\"BERT Large (uncased)\",\"BERT Large (cased)\",\"Multilingual BERT (uncased)\",\"Multilingual BERT (cased)\",\"SciBERT\",\"Bio + Clinical BERT\",\"PubMed BERT\",\"Legal BERT\",\"Hate BERT\",\"BERT for Patents\",\"Security BERT\",\"AlBERT (v1)\",\"AlBERT (v2)\",\"RoBERTa Base\",\"Distilled RoBERTa Base\",\"RoBERTa Large\",\"Code RoBERTa\",\"Climate RoBERTa Base (distilled)\",\"Multilingual RoBERTa\",\"Distilled Multilingual BERT (cased)\"],\"y\":[0.6943,0.6286,0.5537,0.6333,0.7672,0.7812,0.7698999999999999,0.7911,0.7898000000000001,0.7142000000000001,0.6273,0.7559999999999999,0.6611,0.8329000000000001,0.7254999999999999,0.5889,0.7261,0.5855,0.9462999999999999,0.7825,0.6903,0.8806],\"type\":\"bar\"},{\"name\":\"Score at Threshold 9.0\",\"visible\":false,\"x\":[\"BERT Base (cased)\",\"BERT Base (uncased)\",\"BERT Large (uncased)\",\"BERT Large (cased)\",\"Multilingual BERT (uncased)\",\"Multilingual BERT (cased)\",\"SciBERT\",\"Bio + Clinical BERT\",\"PubMed BERT\",\"Legal BERT\",\"Hate BERT\",\"BERT for Patents\",\"Security BERT\",\"AlBERT (v1)\",\"AlBERT (v2)\",\"RoBERTa Base\",\"Distilled RoBERTa Base\",\"RoBERTa Large\",\"Code RoBERTa\",\"Climate RoBERTa Base (distilled)\",\"Multilingual RoBERTa\",\"Distilled Multilingual BERT (cased)\"],\"y\":[0.7334,0.6764,0.5895,0.6718000000000001,0.7970999999999999,0.8077,0.7970999999999999,0.8195999999999999,0.8203,0.746,0.6684,0.7964,0.7016,0.8554,0.7598999999999999,0.6273,0.7619,0.626,0.9621999999999999,0.8195999999999999,0.7202,0.9031999999999999],\"type\":\"bar\"},{\"name\":\"Score at Threshold 10.0\",\"visible\":false,\"x\":[\"BERT Base (cased)\",\"BERT Base (uncased)\",\"BERT Large (uncased)\",\"BERT Large (cased)\",\"Multilingual BERT (uncased)\",\"Multilingual BERT (cased)\",\"SciBERT\",\"Bio + Clinical BERT\",\"PubMed BERT\",\"Legal BERT\",\"Hate BERT\",\"BERT for Patents\",\"Security BERT\",\"AlBERT (v1)\",\"AlBERT (v2)\",\"RoBERTa Base\",\"Distilled RoBERTa Base\",\"RoBERTa Large\",\"Code RoBERTa\",\"Climate RoBERTa Base (distilled)\",\"Multilingual RoBERTa\",\"Distilled Multilingual BERT (cased)\"],\"y\":[0.7666,0.7016,0.6233,0.7109000000000001,0.8249,0.8342,0.8289,0.8462000000000001,0.8462000000000001,0.7805,0.7042,0.8223,0.7373999999999999,0.8759999999999999,0.7885,0.6704000000000001,0.7938,0.6658,0.9675,0.8508,0.7565999999999999,0.9211],\"type\":\"bar\"},{\"name\":\"Score at Threshold 11.0\",\"visible\":false,\"x\":[\"BERT Base (cased)\",\"BERT Base (uncased)\",\"BERT Large (uncased)\",\"BERT Large (cased)\",\"Multilingual BERT (uncased)\",\"Multilingual BERT (cased)\",\"SciBERT\",\"Bio + Clinical BERT\",\"PubMed BERT\",\"Legal BERT\",\"Hate BERT\",\"BERT for Patents\",\"Security BERT\",\"AlBERT (v1)\",\"AlBERT (v2)\",\"RoBERTa Base\",\"Distilled RoBERTa Base\",\"RoBERTa Large\",\"Code RoBERTa\",\"Climate RoBERTa Base (distilled)\",\"Multilingual RoBERTa\",\"Distilled Multilingual BERT (cased)\"],\"y\":[0.7905,0.7334,0.6578,0.7406999999999999,0.8422,0.8548,0.8508,0.8694,0.8654000000000001,0.8109999999999999,0.7361,0.8422,0.7725,0.8946,0.8170000000000001,0.7062,0.8229000000000001,0.6936,0.9754999999999999,0.8767,0.7890999999999999,0.9357],\"type\":\"bar\"},{\"name\":\"Score at Threshold 12.0\",\"visible\":false,\"x\":[\"BERT Base (cased)\",\"BERT Base (uncased)\",\"BERT Large (uncased)\",\"BERT Large (cased)\",\"Multilingual BERT (uncased)\",\"Multilingual BERT (cased)\",\"SciBERT\",\"Bio + Clinical BERT\",\"PubMed BERT\",\"Legal BERT\",\"Hate BERT\",\"BERT for Patents\",\"Security BERT\",\"AlBERT (v1)\",\"AlBERT (v2)\",\"RoBERTa Base\",\"Distilled RoBERTa Base\",\"RoBERTa Large\",\"Code RoBERTa\",\"Climate RoBERTa Base (distilled)\",\"Multilingual RoBERTa\",\"Distilled Multilingual BERT (cased)\"],\"y\":[0.8156,0.7598999999999999,0.6916,0.7639,0.8588,0.8706999999999999,0.87,0.8879,0.8873000000000001,0.8281999999999999,0.7613,0.8593999999999999,0.7977,0.9078,0.8375,0.7314,0.8508,0.7254999999999999,0.9793999999999999,0.8906000000000001,0.8156,0.943],\"type\":\"bar\"},{\"name\":\"Score at Threshold 13.0\",\"visible\":false,\"x\":[\"BERT Base (cased)\",\"BERT Base (uncased)\",\"BERT Large (uncased)\",\"BERT Large (cased)\",\"Multilingual BERT (uncased)\",\"Multilingual BERT (cased)\",\"SciBERT\",\"Bio + Clinical BERT\",\"PubMed BERT\",\"Legal BERT\",\"Hate BERT\",\"BERT for Patents\",\"Security BERT\",\"AlBERT (v1)\",\"AlBERT (v2)\",\"RoBERTa Base\",\"Distilled RoBERTa Base\",\"RoBERTa Large\",\"Code RoBERTa\",\"Climate RoBERTa Base (distilled)\",\"Multilingual RoBERTa\",\"Distilled Multilingual BERT (cased)\"],\"y\":[0.8329000000000001,0.7785,0.7095,0.7911,0.8753,0.8859,0.884,0.9005,0.9085,0.8515,0.7870999999999999,0.8753,0.8262999999999999,0.9218000000000001,0.8606999999999999,0.7533,0.8753,0.7545999999999999,0.9834,0.9092,0.8262999999999999,0.9503],\"type\":\"bar\"},{\"name\":\"Score at Threshold 14.0\",\"visible\":false,\"x\":[\"BERT Base (cased)\",\"BERT Base (uncased)\",\"BERT Large (uncased)\",\"BERT Large (cased)\",\"Multilingual BERT (uncased)\",\"Multilingual BERT (cased)\",\"SciBERT\",\"Bio + Clinical BERT\",\"PubMed BERT\",\"Legal BERT\",\"Hate BERT\",\"BERT for Patents\",\"Security BERT\",\"AlBERT (v1)\",\"AlBERT (v2)\",\"RoBERTa Base\",\"Distilled RoBERTa Base\",\"RoBERTa Large\",\"Code RoBERTa\",\"Climate RoBERTa Base (distilled)\",\"Multilingual RoBERTa\",\"Distilled Multilingual BERT (cased)\"],\"y\":[0.8495,0.7970999999999999,0.7334,0.813,0.8886,0.9052,0.8979,0.9198000000000001,0.9231,0.8706999999999999,0.8109999999999999,0.8898999999999999,0.8508,0.9270999999999999,0.8786,0.7779,0.8879,0.7818,0.9867,0.9231,0.8442000000000001,0.9581999999999999],\"type\":\"bar\"},{\"name\":\"Score at Threshold 15.0\",\"visible\":false,\"x\":[\"BERT Base (cased)\",\"BERT Base (uncased)\",\"BERT Large (uncased)\",\"BERT Large (cased)\",\"Multilingual BERT (uncased)\",\"Multilingual BERT (cased)\",\"SciBERT\",\"Bio + Clinical BERT\",\"PubMed BERT\",\"Legal BERT\",\"Hate BERT\",\"BERT for Patents\",\"Security BERT\",\"AlBERT (v1)\",\"AlBERT (v2)\",\"RoBERTa Base\",\"Distilled RoBERTa Base\",\"RoBERTa Large\",\"Code RoBERTa\",\"Climate RoBERTa Base (distilled)\",\"Multilingual RoBERTa\",\"Distilled Multilingual BERT (cased)\"],\"y\":[0.8621,0.8137000000000001,0.7553,0.8355,0.8992,0.9170999999999999,0.9125,0.9297,0.9317,0.8853,0.8289,0.9005,0.866,0.9337000000000001,0.8919,0.807,0.9031999999999999,0.805,0.9881,0.929,0.8573999999999999,0.9662000000000001],\"type\":\"bar\"},{\"name\":\"Score at Threshold 16.0\",\"visible\":false,\"x\":[\"BERT Base (cased)\",\"BERT Base (uncased)\",\"BERT Large (uncased)\",\"BERT Large (cased)\",\"Multilingual BERT (uncased)\",\"Multilingual BERT (cased)\",\"SciBERT\",\"Bio + Clinical BERT\",\"PubMed BERT\",\"Legal BERT\",\"Hate BERT\",\"BERT for Patents\",\"Security BERT\",\"AlBERT (v1)\",\"AlBERT (v2)\",\"RoBERTa Base\",\"Distilled RoBERTa Base\",\"RoBERTa Large\",\"Code RoBERTa\",\"Climate RoBERTa Base (distilled)\",\"Multilingual RoBERTa\",\"Distilled Multilingual BERT (cased)\"],\"y\":[0.8753,0.8309000000000001,0.7739,0.8488,0.9164,0.9284,0.9224,0.9416,0.9377,0.8959,0.8448,0.9131,0.8806,0.9456,0.9072,0.8216,0.9158,0.8176000000000001,0.9881,0.9397,0.8687,0.9721],\"type\":\"bar\"},{\"name\":\"Score at Threshold 17.0\",\"visible\":false,\"x\":[\"BERT Base (cased)\",\"BERT Base (uncased)\",\"BERT Large (uncased)\",\"BERT Large (cased)\",\"Multilingual BERT (uncased)\",\"Multilingual BERT (cased)\",\"SciBERT\",\"Bio + Clinical BERT\",\"PubMed BERT\",\"Legal BERT\",\"Hate BERT\",\"BERT for Patents\",\"Security BERT\",\"AlBERT (v1)\",\"AlBERT (v2)\",\"RoBERTa Base\",\"Distilled RoBERTa Base\",\"RoBERTa Large\",\"Code RoBERTa\",\"Climate RoBERTa Base (distilled)\",\"Multilingual RoBERTa\",\"Distilled Multilingual BERT (cased)\"],\"y\":[0.8879,0.8434999999999999,0.7911,0.8634000000000001,0.9244,0.9377,0.9264,0.9483,0.945,0.9031999999999999,0.8573999999999999,0.9211,0.8952,0.9523,0.9231,0.8382,0.9244,0.8336,0.9894,0.9456,0.8833,0.9761],\"type\":\"bar\"},{\"name\":\"Score at Threshold 18.0\",\"visible\":false,\"x\":[\"BERT Base (cased)\",\"BERT Base (uncased)\",\"BERT Large (uncased)\",\"BERT Large (cased)\",\"Multilingual BERT (uncased)\",\"Multilingual BERT (cased)\",\"SciBERT\",\"Bio + Clinical BERT\",\"PubMed BERT\",\"Legal BERT\",\"Hate BERT\",\"BERT for Patents\",\"Security BERT\",\"AlBERT (v1)\",\"AlBERT (v2)\",\"RoBERTa Base\",\"Distilled RoBERTa Base\",\"RoBERTa Large\",\"Code RoBERTa\",\"Climate RoBERTa Base (distilled)\",\"Multilingual RoBERTa\",\"Distilled Multilingual BERT (cased)\"],\"y\":[0.9052,0.8593999999999999,0.809,0.872,0.9323999999999999,0.9469,0.9383,0.9542,0.9529000000000001,0.9118,0.868,0.9284,0.9045000000000001,0.9595,0.9317,0.8515,0.9309999999999999,0.8428,0.9894,0.9549,0.8919,0.9808],\"type\":\"bar\"},{\"name\":\"Score at Threshold 19.0\",\"visible\":false,\"x\":[\"BERT Base (cased)\",\"BERT Base (uncased)\",\"BERT Large (uncased)\",\"BERT Large (cased)\",\"Multilingual BERT (uncased)\",\"Multilingual BERT (cased)\",\"SciBERT\",\"Bio + Clinical BERT\",\"PubMed BERT\",\"Legal BERT\",\"Hate BERT\",\"BERT for Patents\",\"Security BERT\",\"AlBERT (v1)\",\"AlBERT (v2)\",\"RoBERTa Base\",\"Distilled RoBERTa Base\",\"RoBERTa Large\",\"Code RoBERTa\",\"Climate RoBERTa Base (distilled)\",\"Multilingual RoBERTa\",\"Distilled Multilingual BERT (cased)\"],\"y\":[0.9158,0.8694,0.8249,0.882,0.937,0.9536,0.9469,0.9581999999999999,0.9589,0.9198000000000001,0.8813,0.9357,0.9190999999999999,0.9642000000000001,0.9383,0.8674,0.9362999999999999,0.8601000000000001,0.9894,0.9581999999999999,0.8992,0.9834],\"type\":\"bar\"},{\"name\":\"Score at Threshold 20.0\",\"visible\":false,\"x\":[\"BERT Base (cased)\",\"BERT Base (uncased)\",\"BERT Large (uncased)\",\"BERT Large (cased)\",\"Multilingual BERT (uncased)\",\"Multilingual BERT (cased)\",\"SciBERT\",\"Bio + Clinical BERT\",\"PubMed BERT\",\"Legal BERT\",\"Hate BERT\",\"BERT for Patents\",\"Security BERT\",\"AlBERT (v1)\",\"AlBERT (v2)\",\"RoBERTa Base\",\"Distilled RoBERTa Base\",\"RoBERTa Large\",\"Code RoBERTa\",\"Climate RoBERTa Base (distilled)\",\"Multilingual RoBERTa\",\"Distilled Multilingual BERT (cased)\"],\"y\":[0.9244,0.8806,0.8369,0.8979,0.9443,0.9589,0.9536,0.9629000000000001,0.9634999999999999,0.9244,0.8898999999999999,0.943,0.9304000000000001,0.9668000000000001,0.943,0.8747,0.9416,0.8759999999999999,0.9901000000000001,0.9642000000000001,0.9065000000000001,0.9867],\"type\":\"bar\"},{\"name\":\"Score at Threshold 21.0\",\"visible\":false,\"x\":[\"BERT Base (cased)\",\"BERT Base (uncased)\",\"BERT Large (uncased)\",\"BERT Large (cased)\",\"Multilingual BERT (uncased)\",\"Multilingual BERT (cased)\",\"SciBERT\",\"Bio + Clinical BERT\",\"PubMed BERT\",\"Legal BERT\",\"Hate BERT\",\"BERT for Patents\",\"Security BERT\",\"AlBERT (v1)\",\"AlBERT (v2)\",\"RoBERTa Base\",\"Distilled RoBERTa Base\",\"RoBERTa Large\",\"Code RoBERTa\",\"Climate RoBERTa Base (distilled)\",\"Multilingual RoBERTa\",\"Distilled Multilingual BERT (cased)\"],\"y\":[0.9304000000000001,0.8886,0.8475,0.9072,0.9483,0.9609000000000001,0.9549,0.9668000000000001,0.9675,0.9284,0.8998999999999999,0.9462999999999999,0.9390000000000001,0.9702,0.9483,0.8873000000000001,0.9536,0.8859,0.9914000000000001,0.9675,0.9145,0.992],\"type\":\"bar\"},{\"name\":\"Score at Threshold 22.0\",\"visible\":false,\"x\":[\"BERT Base (cased)\",\"BERT Base (uncased)\",\"BERT Large (uncased)\",\"BERT Large (cased)\",\"Multilingual BERT (uncased)\",\"Multilingual BERT (cased)\",\"SciBERT\",\"Bio + Clinical BERT\",\"PubMed BERT\",\"Legal BERT\",\"Hate BERT\",\"BERT for Patents\",\"Security BERT\",\"AlBERT (v1)\",\"AlBERT (v2)\",\"RoBERTa Base\",\"Distilled RoBERTa Base\",\"RoBERTa Large\",\"Code RoBERTa\",\"Climate RoBERTa Base (distilled)\",\"Multilingual RoBERTa\",\"Distilled Multilingual BERT (cased)\"],\"y\":[0.9344,0.8992,0.8606999999999999,0.9131,0.9536,0.9649,0.9569,0.9702,0.9715,0.937,0.9092,0.9516,0.9495999999999999,0.9734999999999999,0.9516,0.8939,0.9576,0.8985,0.992,0.9728,0.9198000000000001,0.9934000000000001],\"type\":\"bar\"},{\"name\":\"Score at Threshold 23.0\",\"visible\":false,\"x\":[\"BERT Base (cased)\",\"BERT Base (uncased)\",\"BERT Large (uncased)\",\"BERT Large (cased)\",\"Multilingual BERT (uncased)\",\"Multilingual BERT (cased)\",\"SciBERT\",\"Bio + Clinical BERT\",\"PubMed BERT\",\"Legal BERT\",\"Hate BERT\",\"BERT for Patents\",\"Security BERT\",\"AlBERT (v1)\",\"AlBERT (v2)\",\"RoBERTa Base\",\"Distilled RoBERTa Base\",\"RoBERTa Large\",\"Code RoBERTa\",\"Climate RoBERTa Base (distilled)\",\"Multilingual RoBERTa\",\"Distilled Multilingual BERT (cased)\"],\"y\":[0.941,0.9065000000000001,0.8694,0.9204000000000001,0.9601999999999999,0.9702,0.9634999999999999,0.9721,0.9754999999999999,0.941,0.9151,0.9542,0.9549,0.9781,0.9589,0.9012,0.9601999999999999,0.9078,0.9926999999999999,0.9761,0.9270999999999999,0.9934000000000001],\"type\":\"bar\"},{\"name\":\"Score at Threshold 24.0\",\"visible\":false,\"x\":[\"BERT Base (cased)\",\"BERT Base (uncased)\",\"BERT Large (uncased)\",\"BERT Large (cased)\",\"Multilingual BERT (uncased)\",\"Multilingual BERT (cased)\",\"SciBERT\",\"Bio + Clinical BERT\",\"PubMed BERT\",\"Legal BERT\",\"Hate BERT\",\"BERT for Patents\",\"Security BERT\",\"AlBERT (v1)\",\"AlBERT (v2)\",\"RoBERTa Base\",\"Distilled RoBERTa Base\",\"RoBERTa Large\",\"Code RoBERTa\",\"Climate RoBERTa Base (distilled)\",\"Multilingual RoBERTa\",\"Distilled Multilingual BERT (cased)\"],\"y\":[0.9443,0.9158,0.8806,0.9317,0.9642000000000001,0.9741,0.9662000000000001,0.9748,0.9801000000000001,0.9462999999999999,0.9237000000000001,0.9595,0.9601999999999999,0.9808,0.9642000000000001,0.9072,0.9634999999999999,0.9131,0.9926999999999999,0.9793999999999999,0.9362999999999999,0.9947],\"type\":\"bar\"},{\"name\":\"Score at Threshold 25.0\",\"visible\":false,\"x\":[\"BERT Base (cased)\",\"BERT Base (uncased)\",\"BERT Large (uncased)\",\"BERT Large (cased)\",\"Multilingual BERT (uncased)\",\"Multilingual BERT (cased)\",\"SciBERT\",\"Bio + Clinical BERT\",\"PubMed BERT\",\"Legal BERT\",\"Hate BERT\",\"BERT for Patents\",\"Security BERT\",\"AlBERT (v1)\",\"AlBERT (v2)\",\"RoBERTa Base\",\"Distilled RoBERTa Base\",\"RoBERTa Large\",\"Code RoBERTa\",\"Climate RoBERTa Base (distilled)\",\"Multilingual RoBERTa\",\"Distilled Multilingual BERT (cased)\"],\"y\":[0.9509000000000001,0.9224,0.8919,0.9357,0.9655,0.9801000000000001,0.9682,0.9754999999999999,0.9808,0.9542,0.9297,0.9662000000000001,0.9655,0.9821,0.9682,0.9118,0.9655,0.9164,0.9934000000000001,0.9821,0.9377,0.996],\"type\":\"bar\"},{\"name\":\"Score at Threshold 26.0\",\"visible\":false,\"x\":[\"BERT Base (cased)\",\"BERT Base (uncased)\",\"BERT Large (uncased)\",\"BERT Large (cased)\",\"Multilingual BERT (uncased)\",\"Multilingual BERT (cased)\",\"SciBERT\",\"Bio + Clinical BERT\",\"PubMed BERT\",\"Legal BERT\",\"Hate BERT\",\"BERT for Patents\",\"Security BERT\",\"AlBERT (v1)\",\"AlBERT (v2)\",\"RoBERTa Base\",\"Distilled RoBERTa Base\",\"RoBERTa Large\",\"Code RoBERTa\",\"Climate RoBERTa Base (distilled)\",\"Multilingual RoBERTa\",\"Distilled Multilingual BERT (cased)\"],\"y\":[0.9595,0.9251,0.8959,0.9456,0.9695,0.9834,0.9708,0.9775,0.9834,0.9595,0.935,0.9688,0.9741,0.9834,0.9695,0.9218000000000001,0.9702,0.9198000000000001,0.9954000000000001,0.9828,0.9456,0.9967],\"type\":\"bar\"},{\"name\":\"Score at Threshold 27.0\",\"visible\":false,\"x\":[\"BERT Base (cased)\",\"BERT Base (uncased)\",\"BERT Large (uncased)\",\"BERT Large (cased)\",\"Multilingual BERT (uncased)\",\"Multilingual BERT (cased)\",\"SciBERT\",\"Bio + Clinical BERT\",\"PubMed BERT\",\"Legal BERT\",\"Hate BERT\",\"BERT for Patents\",\"Security BERT\",\"AlBERT (v1)\",\"AlBERT (v2)\",\"RoBERTa Base\",\"Distilled RoBERTa Base\",\"RoBERTa Large\",\"Code RoBERTa\",\"Climate RoBERTa Base (distilled)\",\"Multilingual RoBERTa\",\"Distilled Multilingual BERT (cased)\"],\"y\":[0.9634999999999999,0.9323999999999999,0.9018999999999999,0.9476,0.9721,0.9854,0.9734999999999999,0.9808,0.9841,0.9634999999999999,0.9403,0.9695,0.9768000000000001,0.9841,0.9728,0.9277,0.9715,0.9257,0.9967,0.9847,0.9476,0.9967],\"type\":\"bar\"},{\"name\":\"Score at Threshold 28.0\",\"visible\":false,\"x\":[\"BERT Base (cased)\",\"BERT Base (uncased)\",\"BERT Large (uncased)\",\"BERT Large (cased)\",\"Multilingual BERT (uncased)\",\"Multilingual BERT (cased)\",\"SciBERT\",\"Bio + Clinical BERT\",\"PubMed BERT\",\"Legal BERT\",\"Hate BERT\",\"BERT for Patents\",\"Security BERT\",\"AlBERT (v1)\",\"AlBERT (v2)\",\"RoBERTa Base\",\"Distilled RoBERTa Base\",\"RoBERTa Large\",\"Code RoBERTa\",\"Climate RoBERTa Base (distilled)\",\"Multilingual RoBERTa\",\"Distilled Multilingual BERT (cased)\"],\"y\":[0.9682,0.9390000000000001,0.9072,0.9516,0.9728,0.9861,0.9775,0.9821,0.9867,0.9682,0.9443,0.9754999999999999,0.9801000000000001,0.9861,0.9768000000000001,0.9317,0.9754999999999999,0.9297,0.9967,0.9854,0.9562,0.9967],\"type\":\"bar\"},{\"name\":\"Score at Threshold 29.0\",\"visible\":false,\"x\":[\"BERT Base (cased)\",\"BERT Base (uncased)\",\"BERT Large (uncased)\",\"BERT Large (cased)\",\"Multilingual BERT (uncased)\",\"Multilingual BERT (cased)\",\"SciBERT\",\"Bio + Clinical BERT\",\"PubMed BERT\",\"Legal BERT\",\"Hate BERT\",\"BERT for Patents\",\"Security BERT\",\"AlBERT (v1)\",\"AlBERT (v2)\",\"RoBERTa Base\",\"Distilled RoBERTa Base\",\"RoBERTa Large\",\"Code RoBERTa\",\"Climate RoBERTa Base (distilled)\",\"Multilingual RoBERTa\",\"Distilled Multilingual BERT (cased)\"],\"y\":[0.9702,0.9403,0.9158,0.9549,0.9748,0.9861,0.9821,0.9847,0.9881,0.9708,0.9469,0.9775,0.9808,0.9881,0.9788,0.9377,0.9754999999999999,0.9329999999999999,0.9973000000000001,0.9867,0.9589,0.9973000000000001],\"type\":\"bar\"},{\"name\":\"Score at Threshold 30.0\",\"visible\":false,\"x\":[\"BERT Base (cased)\",\"BERT Base (uncased)\",\"BERT Large (uncased)\",\"BERT Large (cased)\",\"Multilingual BERT (uncased)\",\"Multilingual BERT (cased)\",\"SciBERT\",\"Bio + Clinical BERT\",\"PubMed BERT\",\"Legal BERT\",\"Hate BERT\",\"BERT for Patents\",\"Security BERT\",\"AlBERT (v1)\",\"AlBERT (v2)\",\"RoBERTa Base\",\"Distilled RoBERTa Base\",\"RoBERTa Large\",\"Code RoBERTa\",\"Climate RoBERTa Base (distilled)\",\"Multilingual RoBERTa\",\"Distilled Multilingual BERT (cased)\"],\"y\":[0.9728,0.945,0.9198000000000001,0.9615,0.9761,0.9881,0.9847,0.9854,0.9881,0.9728,0.9495999999999999,0.9788,0.9828,0.9881,0.9801000000000001,0.9423,0.9754999999999999,0.9390000000000001,0.9973000000000001,0.9894,0.9629000000000001,0.9973000000000001],\"type\":\"bar\"},{\"name\":\"Score at Threshold 31.0\",\"visible\":false,\"x\":[\"BERT Base (cased)\",\"BERT Base (uncased)\",\"BERT Large (uncased)\",\"BERT Large (cased)\",\"Multilingual BERT (uncased)\",\"Multilingual BERT (cased)\",\"SciBERT\",\"Bio + Clinical BERT\",\"PubMed BERT\",\"Legal BERT\",\"Hate BERT\",\"BERT for Patents\",\"Security BERT\",\"AlBERT (v1)\",\"AlBERT (v2)\",\"RoBERTa Base\",\"Distilled RoBERTa Base\",\"RoBERTa Large\",\"Code RoBERTa\",\"Climate RoBERTa Base (distilled)\",\"Multilingual RoBERTa\",\"Distilled Multilingual BERT (cased)\"],\"y\":[0.9754999999999999,0.9483,0.9237000000000001,0.9649,0.9801000000000001,0.9881,0.9887,0.9873999999999999,0.9894,0.9754999999999999,0.9542,0.9801000000000001,0.9834,0.9887,0.9814,0.9469,0.9793999999999999,0.9416,0.998,0.9894,0.9662000000000001,0.9973000000000001],\"type\":\"bar\"},{\"name\":\"Score at Threshold 32.0\",\"visible\":false,\"x\":[\"BERT Base (cased)\",\"BERT Base (uncased)\",\"BERT Large (uncased)\",\"BERT Large (cased)\",\"Multilingual BERT (uncased)\",\"Multilingual BERT (cased)\",\"SciBERT\",\"Bio + Clinical BERT\",\"PubMed BERT\",\"Legal BERT\",\"Hate BERT\",\"BERT for Patents\",\"Security BERT\",\"AlBERT (v1)\",\"AlBERT (v2)\",\"RoBERTa Base\",\"Distilled RoBERTa Base\",\"RoBERTa Large\",\"Code RoBERTa\",\"Climate RoBERTa Base (distilled)\",\"Multilingual RoBERTa\",\"Distilled Multilingual BERT (cased)\"],\"y\":[0.9768000000000001,0.9516,0.9284,0.9688,0.9808,0.9894,0.9901000000000001,0.9906999999999999,0.9894,0.9788,0.9581999999999999,0.9814,0.9834,0.9887,0.9841,0.9509000000000001,0.9821,0.9456,0.998,0.9901000000000001,0.9675,0.9973000000000001],\"type\":\"bar\"},{\"name\":\"Score at Threshold 33.0\",\"visible\":false,\"x\":[\"BERT Base (cased)\",\"BERT Base (uncased)\",\"BERT Large (uncased)\",\"BERT Large (cased)\",\"Multilingual BERT (uncased)\",\"Multilingual BERT (cased)\",\"SciBERT\",\"Bio + Clinical BERT\",\"PubMed BERT\",\"Legal BERT\",\"Hate BERT\",\"BERT for Patents\",\"Security BERT\",\"AlBERT (v1)\",\"AlBERT (v2)\",\"RoBERTa Base\",\"Distilled RoBERTa Base\",\"RoBERTa Large\",\"Code RoBERTa\",\"Climate RoBERTa Base (distilled)\",\"Multilingual RoBERTa\",\"Distilled Multilingual BERT (cased)\"],\"y\":[0.9768000000000001,0.9562,0.9317,0.9702,0.9821,0.9906999999999999,0.9926999999999999,0.9906999999999999,0.9914000000000001,0.9808,0.9595,0.9821,0.9847,0.9894,0.9847,0.9529000000000001,0.9828,0.9489,0.998,0.9914000000000001,0.9702,0.9973000000000001],\"type\":\"bar\"},{\"name\":\"Score at Threshold 34.0\",\"visible\":false,\"x\":[\"BERT Base (cased)\",\"BERT Base (uncased)\",\"BERT Large (uncased)\",\"BERT Large (cased)\",\"Multilingual BERT (uncased)\",\"Multilingual BERT (cased)\",\"SciBERT\",\"Bio + Clinical BERT\",\"PubMed BERT\",\"Legal BERT\",\"Hate BERT\",\"BERT for Patents\",\"Security BERT\",\"AlBERT (v1)\",\"AlBERT (v2)\",\"RoBERTa Base\",\"Distilled RoBERTa Base\",\"RoBERTa Large\",\"Code RoBERTa\",\"Climate RoBERTa Base (distilled)\",\"Multilingual RoBERTa\",\"Distilled Multilingual BERT (cased)\"],\"y\":[0.9781,0.9601999999999999,0.937,0.9734999999999999,0.9828,0.9914000000000001,0.9934000000000001,0.9914000000000001,0.9914000000000001,0.9808,0.9609000000000001,0.9841,0.9847,0.9906999999999999,0.9854,0.9529000000000001,0.9847,0.9542,0.998,0.9926999999999999,0.9708,0.998],\"type\":\"bar\"},{\"name\":\"Score at Threshold 35.0\",\"visible\":false,\"x\":[\"BERT Base (cased)\",\"BERT Base (uncased)\",\"BERT Large (uncased)\",\"BERT Large (cased)\",\"Multilingual BERT (uncased)\",\"Multilingual BERT (cased)\",\"SciBERT\",\"Bio + Clinical BERT\",\"PubMed BERT\",\"Legal BERT\",\"Hate BERT\",\"BERT for Patents\",\"Security BERT\",\"AlBERT (v1)\",\"AlBERT (v2)\",\"RoBERTa Base\",\"Distilled RoBERTa Base\",\"RoBERTa Large\",\"Code RoBERTa\",\"Climate RoBERTa Base (distilled)\",\"Multilingual RoBERTa\",\"Distilled Multilingual BERT (cased)\"],\"y\":[0.9788,0.9655,0.9416,0.9748,0.9834,0.992,0.9934000000000001,0.992,0.9914000000000001,0.9828,0.9621999999999999,0.9861,0.9881,0.992,0.9854,0.9589,0.9873999999999999,0.9562,0.998,0.9926999999999999,0.9721,0.9987],\"type\":\"bar\"},{\"name\":\"Score at Threshold 36.0\",\"visible\":false,\"x\":[\"BERT Base (cased)\",\"BERT Base (uncased)\",\"BERT Large (uncased)\",\"BERT Large (cased)\",\"Multilingual BERT (uncased)\",\"Multilingual BERT (cased)\",\"SciBERT\",\"Bio + Clinical BERT\",\"PubMed BERT\",\"Legal BERT\",\"Hate BERT\",\"BERT for Patents\",\"Security BERT\",\"AlBERT (v1)\",\"AlBERT (v2)\",\"RoBERTa Base\",\"Distilled RoBERTa Base\",\"RoBERTa Large\",\"Code RoBERTa\",\"Climate RoBERTa Base (distilled)\",\"Multilingual RoBERTa\",\"Distilled Multilingual BERT (cased)\"],\"y\":[0.9808,0.9675,0.9462999999999999,0.9775,0.9841,0.9940000000000001,0.9934000000000001,0.9926999999999999,0.992,0.9828,0.9649,0.9881,0.9894,0.9934000000000001,0.9854,0.9629000000000001,0.9894,0.9581999999999999,0.998,0.9926999999999999,0.9741,0.9987],\"type\":\"bar\"},{\"name\":\"Score at Threshold 37.0\",\"visible\":false,\"x\":[\"BERT Base (cased)\",\"BERT Base (uncased)\",\"BERT Large (uncased)\",\"BERT Large (cased)\",\"Multilingual BERT (uncased)\",\"Multilingual BERT (cased)\",\"SciBERT\",\"Bio + Clinical BERT\",\"PubMed BERT\",\"Legal BERT\",\"Hate BERT\",\"BERT for Patents\",\"Security BERT\",\"AlBERT (v1)\",\"AlBERT (v2)\",\"RoBERTa Base\",\"Distilled RoBERTa Base\",\"RoBERTa Large\",\"Code RoBERTa\",\"Climate RoBERTa Base (distilled)\",\"Multilingual RoBERTa\",\"Distilled Multilingual BERT (cased)\"],\"y\":[0.9814,0.9695,0.9503,0.9775,0.9854,0.9947,0.9934000000000001,0.9940000000000001,0.9926999999999999,0.9841,0.9695,0.9881,0.9901000000000001,0.9934000000000001,0.9861,0.9649,0.9906999999999999,0.9642000000000001,0.998,0.9926999999999999,0.9768000000000001,0.9987],\"type\":\"bar\"},{\"name\":\"Score at Threshold 38.0\",\"visible\":false,\"x\":[\"BERT Base (cased)\",\"BERT Base (uncased)\",\"BERT Large (uncased)\",\"BERT Large (cased)\",\"Multilingual BERT (uncased)\",\"Multilingual BERT (cased)\",\"SciBERT\",\"Bio + Clinical BERT\",\"PubMed BERT\",\"Legal BERT\",\"Hate BERT\",\"BERT for Patents\",\"Security BERT\",\"AlBERT (v1)\",\"AlBERT (v2)\",\"RoBERTa Base\",\"Distilled RoBERTa Base\",\"RoBERTa Large\",\"Code RoBERTa\",\"Climate RoBERTa Base (distilled)\",\"Multilingual RoBERTa\",\"Distilled Multilingual BERT (cased)\"],\"y\":[0.9814,0.9708,0.9542,0.9781,0.9867,0.9954000000000001,0.9940000000000001,0.9940000000000001,0.9926999999999999,0.9873999999999999,0.9715,0.9894,0.9906999999999999,0.9940000000000001,0.9881,0.9668000000000001,0.992,0.9682,0.998,0.9926999999999999,0.9768000000000001,0.9993000000000001],\"type\":\"bar\"},{\"name\":\"Score at Threshold 39.0\",\"visible\":false,\"x\":[\"BERT Base (cased)\",\"BERT Base (uncased)\",\"BERT Large (uncased)\",\"BERT Large (cased)\",\"Multilingual BERT (uncased)\",\"Multilingual BERT (cased)\",\"SciBERT\",\"Bio + Clinical BERT\",\"PubMed BERT\",\"Legal BERT\",\"Hate BERT\",\"BERT for Patents\",\"Security BERT\",\"AlBERT (v1)\",\"AlBERT (v2)\",\"RoBERTa Base\",\"Distilled RoBERTa Base\",\"RoBERTa Large\",\"Code RoBERTa\",\"Climate RoBERTa Base (distilled)\",\"Multilingual RoBERTa\",\"Distilled Multilingual BERT (cased)\"],\"y\":[0.9841,0.9728,0.9589,0.9793999999999999,0.9873999999999999,0.9954000000000001,0.9947,0.9947,0.9940000000000001,0.9873999999999999,0.9728,0.9906999999999999,0.9914000000000001,0.9947,0.9881,0.9721,0.992,0.9708,0.998,0.9934000000000001,0.9793999999999999,0.9993000000000001],\"type\":\"bar\"},{\"name\":\"Score at Threshold 40.0\",\"visible\":false,\"x\":[\"BERT Base (cased)\",\"BERT Base (uncased)\",\"BERT Large (uncased)\",\"BERT Large (cased)\",\"Multilingual BERT (uncased)\",\"Multilingual BERT (cased)\",\"SciBERT\",\"Bio + Clinical BERT\",\"PubMed BERT\",\"Legal BERT\",\"Hate BERT\",\"BERT for Patents\",\"Security BERT\",\"AlBERT (v1)\",\"AlBERT (v2)\",\"RoBERTa Base\",\"Distilled RoBERTa Base\",\"RoBERTa Large\",\"Code RoBERTa\",\"Climate RoBERTa Base (distilled)\",\"Multilingual RoBERTa\",\"Distilled Multilingual BERT (cased)\"],\"y\":[0.9867,0.9761,0.9589,0.9808,0.9881,0.9954000000000001,0.9947,0.9954000000000001,0.9947,0.9873999999999999,0.9754999999999999,0.9906999999999999,0.9914000000000001,0.9954000000000001,0.9901000000000001,0.9754999999999999,0.992,0.9728,0.9987,0.9934000000000001,0.9834,0.9993000000000001],\"type\":\"bar\"}],                        {\"template\":{\"data\":{\"bar\":[{\"error_x\":{\"color\":\"#2a3f5f\"},\"error_y\":{\"color\":\"#2a3f5f\"},\"marker\":{\"line\":{\"color\":\"#E5ECF6\",\"width\":0.5},\"pattern\":{\"fillmode\":\"overlay\",\"size\":10,\"solidity\":0.2}},\"type\":\"bar\"}],\"barpolar\":[{\"marker\":{\"line\":{\"color\":\"#E5ECF6\",\"width\":0.5},\"pattern\":{\"fillmode\":\"overlay\",\"size\":10,\"solidity\":0.2}},\"type\":\"barpolar\"}],\"carpet\":[{\"aaxis\":{\"endlinecolor\":\"#2a3f5f\",\"gridcolor\":\"white\",\"linecolor\":\"white\",\"minorgridcolor\":\"white\",\"startlinecolor\":\"#2a3f5f\"},\"baxis\":{\"endlinecolor\":\"#2a3f5f\",\"gridcolor\":\"white\",\"linecolor\":\"white\",\"minorgridcolor\":\"white\",\"startlinecolor\":\"#2a3f5f\"},\"type\":\"carpet\"}],\"choropleth\":[{\"colorbar\":{\"outlinewidth\":0,\"ticks\":\"\"},\"type\":\"choropleth\"}],\"contour\":[{\"colorbar\":{\"outlinewidth\":0,\"ticks\":\"\"},\"colorscale\":[[0.0,\"#0d0887\"],[0.1111111111111111,\"#46039f\"],[0.2222222222222222,\"#7201a8\"],[0.3333333333333333,\"#9c179e\"],[0.4444444444444444,\"#bd3786\"],[0.5555555555555556,\"#d8576b\"],[0.6666666666666666,\"#ed7953\"],[0.7777777777777778,\"#fb9f3a\"],[0.8888888888888888,\"#fdca26\"],[1.0,\"#f0f921\"]],\"type\":\"contour\"}],\"contourcarpet\":[{\"colorbar\":{\"outlinewidth\":0,\"ticks\":\"\"},\"type\":\"contourcarpet\"}],\"heatmap\":[{\"colorbar\":{\"outlinewidth\":0,\"ticks\":\"\"},\"colorscale\":[[0.0,\"#0d0887\"],[0.1111111111111111,\"#46039f\"],[0.2222222222222222,\"#7201a8\"],[0.3333333333333333,\"#9c179e\"],[0.4444444444444444,\"#bd3786\"],[0.5555555555555556,\"#d8576b\"],[0.6666666666666666,\"#ed7953\"],[0.7777777777777778,\"#fb9f3a\"],[0.8888888888888888,\"#fdca26\"],[1.0,\"#f0f921\"]],\"type\":\"heatmap\"}],\"heatmapgl\":[{\"colorbar\":{\"outlinewidth\":0,\"ticks\":\"\"},\"colorscale\":[[0.0,\"#0d0887\"],[0.1111111111111111,\"#46039f\"],[0.2222222222222222,\"#7201a8\"],[0.3333333333333333,\"#9c179e\"],[0.4444444444444444,\"#bd3786\"],[0.5555555555555556,\"#d8576b\"],[0.6666666666666666,\"#ed7953\"],[0.7777777777777778,\"#fb9f3a\"],[0.8888888888888888,\"#fdca26\"],[1.0,\"#f0f921\"]],\"type\":\"heatmapgl\"}],\"histogram\":[{\"marker\":{\"pattern\":{\"fillmode\":\"overlay\",\"size\":10,\"solidity\":0.2}},\"type\":\"histogram\"}],\"histogram2d\":[{\"colorbar\":{\"outlinewidth\":0,\"ticks\":\"\"},\"colorscale\":[[0.0,\"#0d0887\"],[0.1111111111111111,\"#46039f\"],[0.2222222222222222,\"#7201a8\"],[0.3333333333333333,\"#9c179e\"],[0.4444444444444444,\"#bd3786\"],[0.5555555555555556,\"#d8576b\"],[0.6666666666666666,\"#ed7953\"],[0.7777777777777778,\"#fb9f3a\"],[0.8888888888888888,\"#fdca26\"],[1.0,\"#f0f921\"]],\"type\":\"histogram2d\"}],\"histogram2dcontour\":[{\"colorbar\":{\"outlinewidth\":0,\"ticks\":\"\"},\"colorscale\":[[0.0,\"#0d0887\"],[0.1111111111111111,\"#46039f\"],[0.2222222222222222,\"#7201a8\"],[0.3333333333333333,\"#9c179e\"],[0.4444444444444444,\"#bd3786\"],[0.5555555555555556,\"#d8576b\"],[0.6666666666666666,\"#ed7953\"],[0.7777777777777778,\"#fb9f3a\"],[0.8888888888888888,\"#fdca26\"],[1.0,\"#f0f921\"]],\"type\":\"histogram2dcontour\"}],\"mesh3d\":[{\"colorbar\":{\"outlinewidth\":0,\"ticks\":\"\"},\"type\":\"mesh3d\"}],\"parcoords\":[{\"line\":{\"colorbar\":{\"outlinewidth\":0,\"ticks\":\"\"}},\"type\":\"parcoords\"}],\"pie\":[{\"automargin\":true,\"type\":\"pie\"}],\"scatter\":[{\"marker\":{\"colorbar\":{\"outlinewidth\":0,\"ticks\":\"\"}},\"type\":\"scatter\"}],\"scatter3d\":[{\"line\":{\"colorbar\":{\"outlinewidth\":0,\"ticks\":\"\"}},\"marker\":{\"colorbar\":{\"outlinewidth\":0,\"ticks\":\"\"}},\"type\":\"scatter3d\"}],\"scattercarpet\":[{\"marker\":{\"colorbar\":{\"outlinewidth\":0,\"ticks\":\"\"}},\"type\":\"scattercarpet\"}],\"scattergeo\":[{\"marker\":{\"colorbar\":{\"outlinewidth\":0,\"ticks\":\"\"}},\"type\":\"scattergeo\"}],\"scattergl\":[{\"marker\":{\"colorbar\":{\"outlinewidth\":0,\"ticks\":\"\"}},\"type\":\"scattergl\"}],\"scattermapbox\":[{\"marker\":{\"colorbar\":{\"outlinewidth\":0,\"ticks\":\"\"}},\"type\":\"scattermapbox\"}],\"scatterpolar\":[{\"marker\":{\"colorbar\":{\"outlinewidth\":0,\"ticks\":\"\"}},\"type\":\"scatterpolar\"}],\"scatterpolargl\":[{\"marker\":{\"colorbar\":{\"outlinewidth\":0,\"ticks\":\"\"}},\"type\":\"scatterpolargl\"}],\"scatterternary\":[{\"marker\":{\"colorbar\":{\"outlinewidth\":0,\"ticks\":\"\"}},\"type\":\"scatterternary\"}],\"surface\":[{\"colorbar\":{\"outlinewidth\":0,\"ticks\":\"\"},\"colorscale\":[[0.0,\"#0d0887\"],[0.1111111111111111,\"#46039f\"],[0.2222222222222222,\"#7201a8\"],[0.3333333333333333,\"#9c179e\"],[0.4444444444444444,\"#bd3786\"],[0.5555555555555556,\"#d8576b\"],[0.6666666666666666,\"#ed7953\"],[0.7777777777777778,\"#fb9f3a\"],[0.8888888888888888,\"#fdca26\"],[1.0,\"#f0f921\"]],\"type\":\"surface\"}],\"table\":[{\"cells\":{\"fill\":{\"color\":\"#EBF0F8\"},\"line\":{\"color\":\"white\"}},\"header\":{\"fill\":{\"color\":\"#C8D4E3\"},\"line\":{\"color\":\"white\"}},\"type\":\"table\"}]},\"layout\":{\"annotationdefaults\":{\"arrowcolor\":\"#2a3f5f\",\"arrowhead\":0,\"arrowwidth\":1},\"autotypenumbers\":\"strict\",\"coloraxis\":{\"colorbar\":{\"outlinewidth\":0,\"ticks\":\"\"}},\"colorscale\":{\"diverging\":[[0,\"#8e0152\"],[0.1,\"#c51b7d\"],[0.2,\"#de77ae\"],[0.3,\"#f1b6da\"],[0.4,\"#fde0ef\"],[0.5,\"#f7f7f7\"],[0.6,\"#e6f5d0\"],[0.7,\"#b8e186\"],[0.8,\"#7fbc41\"],[0.9,\"#4d9221\"],[1,\"#276419\"]],\"sequential\":[[0.0,\"#0d0887\"],[0.1111111111111111,\"#46039f\"],[0.2222222222222222,\"#7201a8\"],[0.3333333333333333,\"#9c179e\"],[0.4444444444444444,\"#bd3786\"],[0.5555555555555556,\"#d8576b\"],[0.6666666666666666,\"#ed7953\"],[0.7777777777777778,\"#fb9f3a\"],[0.8888888888888888,\"#fdca26\"],[1.0,\"#f0f921\"]],\"sequentialminus\":[[0.0,\"#0d0887\"],[0.1111111111111111,\"#46039f\"],[0.2222222222222222,\"#7201a8\"],[0.3333333333333333,\"#9c179e\"],[0.4444444444444444,\"#bd3786\"],[0.5555555555555556,\"#d8576b\"],[0.6666666666666666,\"#ed7953\"],[0.7777777777777778,\"#fb9f3a\"],[0.8888888888888888,\"#fdca26\"],[1.0,\"#f0f921\"]]},\"colorway\":[\"#636efa\",\"#EF553B\",\"#00cc96\",\"#ab63fa\",\"#FFA15A\",\"#19d3f3\",\"#FF6692\",\"#B6E880\",\"#FF97FF\",\"#FECB52\"],\"font\":{\"color\":\"#2a3f5f\"},\"geo\":{\"bgcolor\":\"white\",\"lakecolor\":\"white\",\"landcolor\":\"#E5ECF6\",\"showlakes\":true,\"showland\":true,\"subunitcolor\":\"white\"},\"hoverlabel\":{\"align\":\"left\"},\"hovermode\":\"closest\",\"mapbox\":{\"style\":\"light\"},\"paper_bgcolor\":\"white\",\"plot_bgcolor\":\"#E5ECF6\",\"polar\":{\"angularaxis\":{\"gridcolor\":\"white\",\"linecolor\":\"white\",\"ticks\":\"\"},\"bgcolor\":\"#E5ECF6\",\"radialaxis\":{\"gridcolor\":\"white\",\"linecolor\":\"white\",\"ticks\":\"\"}},\"scene\":{\"xaxis\":{\"backgroundcolor\":\"#E5ECF6\",\"gridcolor\":\"white\",\"gridwidth\":2,\"linecolor\":\"white\",\"showbackground\":true,\"ticks\":\"\",\"zerolinecolor\":\"white\"},\"yaxis\":{\"backgroundcolor\":\"#E5ECF6\",\"gridcolor\":\"white\",\"gridwidth\":2,\"linecolor\":\"white\",\"showbackground\":true,\"ticks\":\"\",\"zerolinecolor\":\"white\"},\"zaxis\":{\"backgroundcolor\":\"#E5ECF6\",\"gridcolor\":\"white\",\"gridwidth\":2,\"linecolor\":\"white\",\"showbackground\":true,\"ticks\":\"\",\"zerolinecolor\":\"white\"}},\"shapedefaults\":{\"line\":{\"color\":\"#2a3f5f\"}},\"ternary\":{\"aaxis\":{\"gridcolor\":\"white\",\"linecolor\":\"white\",\"ticks\":\"\"},\"baxis\":{\"gridcolor\":\"white\",\"linecolor\":\"white\",\"ticks\":\"\"},\"bgcolor\":\"#E5ECF6\",\"caxis\":{\"gridcolor\":\"white\",\"linecolor\":\"white\",\"ticks\":\"\"}},\"title\":{\"x\":0.05},\"xaxis\":{\"automargin\":true,\"gridcolor\":\"white\",\"linecolor\":\"white\",\"ticks\":\"\",\"title\":{\"standoff\":15},\"zerolinecolor\":\"white\",\"zerolinewidth\":2},\"yaxis\":{\"automargin\":true,\"gridcolor\":\"white\",\"linecolor\":\"white\",\"ticks\":\"\",\"title\":{\"standoff\":15},\"zerolinecolor\":\"white\",\"zerolinewidth\":2}}},\"yaxis\":{\"title\":{\"text\":\"Scores\"},\"tickformat\":\".0%\",\"range\":[0,1]},\"sliders\":[{\"active\":1,\"currentvalue\":{\"prefix\":\"Threshold: \"},\"pad\":{\"t\":150},\"steps\":[{\"args\":[{\"visible\":[true,false,false,false,false,false,false,false,false,false,false,false,false,false,false,false,false,false,false,false,false,false,false,false,false,false,false,false,false,false,false,false,false,false,false,false,false,false,false,false,false]},{\"title\":\"Neutral Scores for 22 Models at Threshold:0%\"}],\"label\":\"0%\",\"method\":\"update\"},{\"args\":[{\"visible\":[false,true,false,false,false,false,false,false,false,false,false,false,false,false,false,false,false,false,false,false,false,false,false,false,false,false,false,false,false,false,false,false,false,false,false,false,false,false,false,false,false]},{\"title\":\"Neutral Scores for 22 Models at Threshold:1%\"}],\"label\":\"1%\",\"method\":\"update\"},{\"args\":[{\"visible\":[false,false,true,false,false,false,false,false,false,false,false,false,false,false,false,false,false,false,false,false,false,false,false,false,false,false,false,false,false,false,false,false,false,false,false,false,false,false,false,false,false]},{\"title\":\"Neutral Scores for 22 Models at Threshold:2%\"}],\"label\":\"2%\",\"method\":\"update\"},{\"args\":[{\"visible\":[false,false,false,true,false,false,false,false,false,false,false,false,false,false,false,false,false,false,false,false,false,false,false,false,false,false,false,false,false,false,false,false,false,false,false,false,false,false,false,false,false]},{\"title\":\"Neutral Scores for 22 Models at Threshold:3%\"}],\"label\":\"3%\",\"method\":\"update\"},{\"args\":[{\"visible\":[false,false,false,false,true,false,false,false,false,false,false,false,false,false,false,false,false,false,false,false,false,false,false,false,false,false,false,false,false,false,false,false,false,false,false,false,false,false,false,false,false]},{\"title\":\"Neutral Scores for 22 Models at Threshold:4%\"}],\"label\":\"4%\",\"method\":\"update\"},{\"args\":[{\"visible\":[false,false,false,false,false,true,false,false,false,false,false,false,false,false,false,false,false,false,false,false,false,false,false,false,false,false,false,false,false,false,false,false,false,false,false,false,false,false,false,false,false]},{\"title\":\"Neutral Scores for 22 Models at Threshold:5%\"}],\"label\":\"5%\",\"method\":\"update\"},{\"args\":[{\"visible\":[false,false,false,false,false,false,true,false,false,false,false,false,false,false,false,false,false,false,false,false,false,false,false,false,false,false,false,false,false,false,false,false,false,false,false,false,false,false,false,false,false]},{\"title\":\"Neutral Scores for 22 Models at Threshold:6%\"}],\"label\":\"6%\",\"method\":\"update\"},{\"args\":[{\"visible\":[false,false,false,false,false,false,false,true,false,false,false,false,false,false,false,false,false,false,false,false,false,false,false,false,false,false,false,false,false,false,false,false,false,false,false,false,false,false,false,false,false]},{\"title\":\"Neutral Scores for 22 Models at Threshold:7%\"}],\"label\":\"7%\",\"method\":\"update\"},{\"args\":[{\"visible\":[false,false,false,false,false,false,false,false,true,false,false,false,false,false,false,false,false,false,false,false,false,false,false,false,false,false,false,false,false,false,false,false,false,false,false,false,false,false,false,false,false]},{\"title\":\"Neutral Scores for 22 Models at Threshold:8%\"}],\"label\":\"8%\",\"method\":\"update\"},{\"args\":[{\"visible\":[false,false,false,false,false,false,false,false,false,true,false,false,false,false,false,false,false,false,false,false,false,false,false,false,false,false,false,false,false,false,false,false,false,false,false,false,false,false,false,false,false]},{\"title\":\"Neutral Scores for 22 Models at Threshold:9%\"}],\"label\":\"9%\",\"method\":\"update\"},{\"args\":[{\"visible\":[false,false,false,false,false,false,false,false,false,false,true,false,false,false,false,false,false,false,false,false,false,false,false,false,false,false,false,false,false,false,false,false,false,false,false,false,false,false,false,false,false]},{\"title\":\"Neutral Scores for 22 Models at Threshold:10%\"}],\"label\":\"10%\",\"method\":\"update\"},{\"args\":[{\"visible\":[false,false,false,false,false,false,false,false,false,false,false,true,false,false,false,false,false,false,false,false,false,false,false,false,false,false,false,false,false,false,false,false,false,false,false,false,false,false,false,false,false]},{\"title\":\"Neutral Scores for 22 Models at Threshold:11%\"}],\"label\":\"11%\",\"method\":\"update\"},{\"args\":[{\"visible\":[false,false,false,false,false,false,false,false,false,false,false,false,true,false,false,false,false,false,false,false,false,false,false,false,false,false,false,false,false,false,false,false,false,false,false,false,false,false,false,false,false]},{\"title\":\"Neutral Scores for 22 Models at Threshold:12%\"}],\"label\":\"12%\",\"method\":\"update\"},{\"args\":[{\"visible\":[false,false,false,false,false,false,false,false,false,false,false,false,false,true,false,false,false,false,false,false,false,false,false,false,false,false,false,false,false,false,false,false,false,false,false,false,false,false,false,false,false]},{\"title\":\"Neutral Scores for 22 Models at Threshold:13%\"}],\"label\":\"13%\",\"method\":\"update\"},{\"args\":[{\"visible\":[false,false,false,false,false,false,false,false,false,false,false,false,false,false,true,false,false,false,false,false,false,false,false,false,false,false,false,false,false,false,false,false,false,false,false,false,false,false,false,false,false]},{\"title\":\"Neutral Scores for 22 Models at Threshold:14%\"}],\"label\":\"14%\",\"method\":\"update\"},{\"args\":[{\"visible\":[false,false,false,false,false,false,false,false,false,false,false,false,false,false,false,true,false,false,false,false,false,false,false,false,false,false,false,false,false,false,false,false,false,false,false,false,false,false,false,false,false]},{\"title\":\"Neutral Scores for 22 Models at Threshold:15%\"}],\"label\":\"15%\",\"method\":\"update\"},{\"args\":[{\"visible\":[false,false,false,false,false,false,false,false,false,false,false,false,false,false,false,false,true,false,false,false,false,false,false,false,false,false,false,false,false,false,false,false,false,false,false,false,false,false,false,false,false]},{\"title\":\"Neutral Scores for 22 Models at Threshold:16%\"}],\"label\":\"16%\",\"method\":\"update\"},{\"args\":[{\"visible\":[false,false,false,false,false,false,false,false,false,false,false,false,false,false,false,false,false,true,false,false,false,false,false,false,false,false,false,false,false,false,false,false,false,false,false,false,false,false,false,false,false]},{\"title\":\"Neutral Scores for 22 Models at Threshold:17%\"}],\"label\":\"17%\",\"method\":\"update\"},{\"args\":[{\"visible\":[false,false,false,false,false,false,false,false,false,false,false,false,false,false,false,false,false,false,true,false,false,false,false,false,false,false,false,false,false,false,false,false,false,false,false,false,false,false,false,false,false]},{\"title\":\"Neutral Scores for 22 Models at Threshold:18%\"}],\"label\":\"18%\",\"method\":\"update\"},{\"args\":[{\"visible\":[false,false,false,false,false,false,false,false,false,false,false,false,false,false,false,false,false,false,false,true,false,false,false,false,false,false,false,false,false,false,false,false,false,false,false,false,false,false,false,false,false]},{\"title\":\"Neutral Scores for 22 Models at Threshold:19%\"}],\"label\":\"19%\",\"method\":\"update\"},{\"args\":[{\"visible\":[false,false,false,false,false,false,false,false,false,false,false,false,false,false,false,false,false,false,false,false,true,false,false,false,false,false,false,false,false,false,false,false,false,false,false,false,false,false,false,false,false]},{\"title\":\"Neutral Scores for 22 Models at Threshold:20%\"}],\"label\":\"20%\",\"method\":\"update\"},{\"args\":[{\"visible\":[false,false,false,false,false,false,false,false,false,false,false,false,false,false,false,false,false,false,false,false,false,true,false,false,false,false,false,false,false,false,false,false,false,false,false,false,false,false,false,false,false]},{\"title\":\"Neutral Scores for 22 Models at Threshold:21%\"}],\"label\":\"21%\",\"method\":\"update\"},{\"args\":[{\"visible\":[false,false,false,false,false,false,false,false,false,false,false,false,false,false,false,false,false,false,false,false,false,false,true,false,false,false,false,false,false,false,false,false,false,false,false,false,false,false,false,false,false]},{\"title\":\"Neutral Scores for 22 Models at Threshold:22%\"}],\"label\":\"22%\",\"method\":\"update\"},{\"args\":[{\"visible\":[false,false,false,false,false,false,false,false,false,false,false,false,false,false,false,false,false,false,false,false,false,false,false,true,false,false,false,false,false,false,false,false,false,false,false,false,false,false,false,false,false]},{\"title\":\"Neutral Scores for 22 Models at Threshold:23%\"}],\"label\":\"23%\",\"method\":\"update\"},{\"args\":[{\"visible\":[false,false,false,false,false,false,false,false,false,false,false,false,false,false,false,false,false,false,false,false,false,false,false,false,true,false,false,false,false,false,false,false,false,false,false,false,false,false,false,false,false]},{\"title\":\"Neutral Scores for 22 Models at Threshold:24%\"}],\"label\":\"24%\",\"method\":\"update\"},{\"args\":[{\"visible\":[false,false,false,false,false,false,false,false,false,false,false,false,false,false,false,false,false,false,false,false,false,false,false,false,false,true,false,false,false,false,false,false,false,false,false,false,false,false,false,false,false]},{\"title\":\"Neutral Scores for 22 Models at Threshold:25%\"}],\"label\":\"25%\",\"method\":\"update\"},{\"args\":[{\"visible\":[false,false,false,false,false,false,false,false,false,false,false,false,false,false,false,false,false,false,false,false,false,false,false,false,false,false,true,false,false,false,false,false,false,false,false,false,false,false,false,false,false]},{\"title\":\"Neutral Scores for 22 Models at Threshold:26%\"}],\"label\":\"26%\",\"method\":\"update\"},{\"args\":[{\"visible\":[false,false,false,false,false,false,false,false,false,false,false,false,false,false,false,false,false,false,false,false,false,false,false,false,false,false,false,true,false,false,false,false,false,false,false,false,false,false,false,false,false]},{\"title\":\"Neutral Scores for 22 Models at Threshold:27%\"}],\"label\":\"27%\",\"method\":\"update\"},{\"args\":[{\"visible\":[false,false,false,false,false,false,false,false,false,false,false,false,false,false,false,false,false,false,false,false,false,false,false,false,false,false,false,false,true,false,false,false,false,false,false,false,false,false,false,false,false]},{\"title\":\"Neutral Scores for 22 Models at Threshold:28%\"}],\"label\":\"28%\",\"method\":\"update\"},{\"args\":[{\"visible\":[false,false,false,false,false,false,false,false,false,false,false,false,false,false,false,false,false,false,false,false,false,false,false,false,false,false,false,false,false,true,false,false,false,false,false,false,false,false,false,false,false]},{\"title\":\"Neutral Scores for 22 Models at Threshold:29%\"}],\"label\":\"29%\",\"method\":\"update\"},{\"args\":[{\"visible\":[false,false,false,false,false,false,false,false,false,false,false,false,false,false,false,false,false,false,false,false,false,false,false,false,false,false,false,false,false,false,true,false,false,false,false,false,false,false,false,false,false]},{\"title\":\"Neutral Scores for 22 Models at Threshold:30%\"}],\"label\":\"30%\",\"method\":\"update\"},{\"args\":[{\"visible\":[false,false,false,false,false,false,false,false,false,false,false,false,false,false,false,false,false,false,false,false,false,false,false,false,false,false,false,false,false,false,false,true,false,false,false,false,false,false,false,false,false]},{\"title\":\"Neutral Scores for 22 Models at Threshold:31%\"}],\"label\":\"31%\",\"method\":\"update\"},{\"args\":[{\"visible\":[false,false,false,false,false,false,false,false,false,false,false,false,false,false,false,false,false,false,false,false,false,false,false,false,false,false,false,false,false,false,false,false,true,false,false,false,false,false,false,false,false]},{\"title\":\"Neutral Scores for 22 Models at Threshold:32%\"}],\"label\":\"32%\",\"method\":\"update\"},{\"args\":[{\"visible\":[false,false,false,false,false,false,false,false,false,false,false,false,false,false,false,false,false,false,false,false,false,false,false,false,false,false,false,false,false,false,false,false,false,true,false,false,false,false,false,false,false]},{\"title\":\"Neutral Scores for 22 Models at Threshold:33%\"}],\"label\":\"33%\",\"method\":\"update\"},{\"args\":[{\"visible\":[false,false,false,false,false,false,false,false,false,false,false,false,false,false,false,false,false,false,false,false,false,false,false,false,false,false,false,false,false,false,false,false,false,false,true,false,false,false,false,false,false]},{\"title\":\"Neutral Scores for 22 Models at Threshold:34%\"}],\"label\":\"34%\",\"method\":\"update\"},{\"args\":[{\"visible\":[false,false,false,false,false,false,false,false,false,false,false,false,false,false,false,false,false,false,false,false,false,false,false,false,false,false,false,false,false,false,false,false,false,false,false,true,false,false,false,false,false]},{\"title\":\"Neutral Scores for 22 Models at Threshold:35%\"}],\"label\":\"35%\",\"method\":\"update\"},{\"args\":[{\"visible\":[false,false,false,false,false,false,false,false,false,false,false,false,false,false,false,false,false,false,false,false,false,false,false,false,false,false,false,false,false,false,false,false,false,false,false,false,true,false,false,false,false]},{\"title\":\"Neutral Scores for 22 Models at Threshold:36%\"}],\"label\":\"36%\",\"method\":\"update\"},{\"args\":[{\"visible\":[false,false,false,false,false,false,false,false,false,false,false,false,false,false,false,false,false,false,false,false,false,false,false,false,false,false,false,false,false,false,false,false,false,false,false,false,false,true,false,false,false]},{\"title\":\"Neutral Scores for 22 Models at Threshold:37%\"}],\"label\":\"37%\",\"method\":\"update\"},{\"args\":[{\"visible\":[false,false,false,false,false,false,false,false,false,false,false,false,false,false,false,false,false,false,false,false,false,false,false,false,false,false,false,false,false,false,false,false,false,false,false,false,false,false,true,false,false]},{\"title\":\"Neutral Scores for 22 Models at Threshold:38%\"}],\"label\":\"38%\",\"method\":\"update\"},{\"args\":[{\"visible\":[false,false,false,false,false,false,false,false,false,false,false,false,false,false,false,false,false,false,false,false,false,false,false,false,false,false,false,false,false,false,false,false,false,false,false,false,false,false,false,true,false]},{\"title\":\"Neutral Scores for 22 Models at Threshold:39%\"}],\"label\":\"39%\",\"method\":\"update\"},{\"args\":[{\"visible\":[false,false,false,false,false,false,false,false,false,false,false,false,false,false,false,false,false,false,false,false,false,false,false,false,false,false,false,false,false,false,false,false,false,false,false,false,false,false,false,false,true]},{\"title\":\"Neutral Scores for 22 Models at Threshold:40%\"}],\"label\":\"40%\",\"method\":\"update\"}]}],\"title\":{\"text\":\"Neutral Scores for 22 Models at Various Thresholds\"},\"xaxis\":{\"title\":{\"text\":\"Language Models\"}}},                        {\"responsive\": true}                    ).then(function(){\n",
       "                            \n",
       "var gd = document.getElementById('10566622-bc22-4f34-b41d-9df25026791a');\n",
       "var x = new MutationObserver(function (mutations, observer) {{\n",
       "        var display = window.getComputedStyle(gd).display;\n",
       "        if (!display || display === 'none') {{\n",
       "            console.log([gd, 'removed!']);\n",
       "            Plotly.purge(gd);\n",
       "            observer.disconnect();\n",
       "        }}\n",
       "}});\n",
       "\n",
       "// Listen for the removal of the full notebook cells\n",
       "var notebookContainer = gd.closest('#notebook-container');\n",
       "if (notebookContainer) {{\n",
       "    x.observe(notebookContainer, {childList: true});\n",
       "}}\n",
       "\n",
       "// Listen for the clearing of the current output cell\n",
       "var outputEl = gd.closest('.output');\n",
       "if (outputEl) {{\n",
       "    x.observe(outputEl, {childList: true});\n",
       "}}\n",
       "\n",
       "                        })                };                });            </script>        </div>"
      ]
     },
     "metadata": {},
     "output_type": "display_data"
    }
   ],
   "source": [
    "slider_chart(score_type='neutral_score')"
   ]
  },
  {
   "cell_type": "markdown",
   "metadata": {},
   "source": [
    "### 2: Bias Score"
   ]
  },
  {
   "cell_type": "code",
   "execution_count": 16,
   "metadata": {},
   "outputs": [
    {
     "data": {
      "application/vnd.plotly.v1+json": {
       "config": {
        "plotlyServerURL": "https://plot.ly"
       },
       "data": [
        {
         "name": "Score at Threshold 0.0",
         "type": "bar",
         "visible": false,
         "x": [
          "BERT Base (cased)",
          "BERT Base (uncased)",
          "BERT Large (uncased)",
          "BERT Large (cased)",
          "Multilingual BERT (uncased)",
          "Multilingual BERT (cased)",
          "SciBERT",
          "Bio + Clinical BERT",
          "PubMed BERT",
          "Legal BERT",
          "Hate BERT",
          "BERT for Patents",
          "Security BERT",
          "AlBERT (v1)",
          "AlBERT (v2)",
          "RoBERTa Base",
          "Distilled RoBERTa Base",
          "RoBERTa Large",
          "Code RoBERTa",
          "Climate RoBERTa Base (distilled)",
          "Multilingual RoBERTa",
          "Distilled Multilingual BERT (cased)"
         ],
         "y": [
          0.5504,
          0.6001,
          0.5928,
          0.5670000000000001,
          0.5531,
          0.5285,
          0.5782,
          0.5245000000000001,
          0.5524,
          0.5809000000000001,
          0.5743,
          0.5172,
          0.5166,
          0.5861999999999999,
          0.5743,
          0.5318,
          0.5490999999999999,
          0.6093999999999999,
          0.4549,
          0.5477000000000001,
          0.5186,
          0.5106
         ]
        },
        {
         "name": "Score at Threshold 1.0",
         "type": "bar",
         "visible": true,
         "x": [
          "BERT Base (cased)",
          "BERT Base (uncased)",
          "BERT Large (uncased)",
          "BERT Large (cased)",
          "Multilingual BERT (uncased)",
          "Multilingual BERT (cased)",
          "SciBERT",
          "Bio + Clinical BERT",
          "PubMed BERT",
          "Legal BERT",
          "Hate BERT",
          "BERT for Patents",
          "Security BERT",
          "AlBERT (v1)",
          "AlBERT (v2)",
          "RoBERTa Base",
          "Distilled RoBERTa Base",
          "RoBERTa Large",
          "Code RoBERTa",
          "Climate RoBERTa Base (distilled)",
          "Multilingual RoBERTa",
          "Distilled Multilingual BERT (cased)"
         ],
         "y": [
          0.4768,
          0.5332,
          0.5477000000000001,
          0.498,
          0.46880000000000005,
          0.44229999999999997,
          0.48210000000000003,
          0.435,
          0.4403,
          0.5099,
          0.5206000000000001,
          0.42710000000000004,
          0.4708,
          0.4629,
          0.4901,
          0.48009999999999997,
          0.4775,
          0.569,
          0.3057,
          0.4523,
          0.4436,
          0.3846
         ]
        },
        {
         "name": "Score at Threshold 2.0",
         "type": "bar",
         "visible": false,
         "x": [
          "BERT Base (cased)",
          "BERT Base (uncased)",
          "BERT Large (uncased)",
          "BERT Large (cased)",
          "Multilingual BERT (uncased)",
          "Multilingual BERT (cased)",
          "SciBERT",
          "Bio + Clinical BERT",
          "PubMed BERT",
          "Legal BERT",
          "Hate BERT",
          "BERT for Patents",
          "Security BERT",
          "AlBERT (v1)",
          "AlBERT (v2)",
          "RoBERTa Base",
          "Distilled RoBERTa Base",
          "RoBERTa Large",
          "Code RoBERTa",
          "Climate RoBERTa Base (distilled)",
          "Multilingual RoBERTa",
          "Distilled Multilingual BERT (cased)"
         ],
         "y": [
          0.4072,
          0.4715,
          0.4993,
          0.4397,
          0.39390000000000003,
          0.36210000000000003,
          0.39990000000000003,
          0.3627,
          0.3627,
          0.43170000000000003,
          0.4556,
          0.3481,
          0.40979999999999994,
          0.37070000000000003,
          0.4204,
          0.4277,
          0.39659999999999995,
          0.5239,
          0.2069,
          0.37070000000000003,
          0.3859,
          0.2832
         ]
        },
        {
         "name": "Score at Threshold 3.0",
         "type": "bar",
         "visible": false,
         "x": [
          "BERT Base (cased)",
          "BERT Base (uncased)",
          "BERT Large (uncased)",
          "BERT Large (cased)",
          "Multilingual BERT (uncased)",
          "Multilingual BERT (cased)",
          "SciBERT",
          "Bio + Clinical BERT",
          "PubMed BERT",
          "Legal BERT",
          "Hate BERT",
          "BERT for Patents",
          "Security BERT",
          "AlBERT (v1)",
          "AlBERT (v2)",
          "RoBERTa Base",
          "Distilled RoBERTa Base",
          "RoBERTa Large",
          "Code RoBERTa",
          "Climate RoBERTa Base (distilled)",
          "Multilingual RoBERTa",
          "Distilled Multilingual BERT (cased)"
         ],
         "y": [
          0.3488,
          0.41840000000000005,
          0.4443,
          0.382,
          0.32289999999999996,
          0.2958,
          0.3395,
          0.29109999999999997,
          0.3024,
          0.37,
          0.41509999999999997,
          0.2964,
          0.35409999999999997,
          0.2958,
          0.34950000000000003,
          0.374,
          0.3296,
          0.4721,
          0.1313,
          0.31370000000000003,
          0.3329,
          0.2241
         ]
        },
        {
         "name": "Score at Threshold 4.0",
         "type": "bar",
         "visible": false,
         "x": [
          "BERT Base (cased)",
          "BERT Base (uncased)",
          "BERT Large (uncased)",
          "BERT Large (cased)",
          "Multilingual BERT (uncased)",
          "Multilingual BERT (cased)",
          "SciBERT",
          "Bio + Clinical BERT",
          "PubMed BERT",
          "Legal BERT",
          "Hate BERT",
          "BERT for Patents",
          "Security BERT",
          "AlBERT (v1)",
          "AlBERT (v2)",
          "RoBERTa Base",
          "Distilled RoBERTa Base",
          "RoBERTa Large",
          "Code RoBERTa",
          "Climate RoBERTa Base (distilled)",
          "Multilingual RoBERTa",
          "Distilled Multilingual BERT (cased)"
         ],
         "y": [
          0.3097,
          0.3667,
          0.4092,
          0.3468,
          0.2732,
          0.25,
          0.2779,
          0.2407,
          0.2473,
          0.3223,
          0.36939999999999995,
          0.248,
          0.2984,
          0.244,
          0.305,
          0.3322,
          0.2792,
          0.4257,
          0.0935,
          0.2566,
          0.2845,
          0.1704
         ]
        },
        {
         "name": "Score at Threshold 5.0",
         "type": "bar",
         "visible": false,
         "x": [
          "BERT Base (cased)",
          "BERT Base (uncased)",
          "BERT Large (uncased)",
          "BERT Large (cased)",
          "Multilingual BERT (uncased)",
          "Multilingual BERT (cased)",
          "SciBERT",
          "Bio + Clinical BERT",
          "PubMed BERT",
          "Legal BERT",
          "Hate BERT",
          "BERT for Patents",
          "Security BERT",
          "AlBERT (v1)",
          "AlBERT (v2)",
          "RoBERTa Base",
          "Distilled RoBERTa Base",
          "RoBERTa Large",
          "Code RoBERTa",
          "Climate RoBERTa Base (distilled)",
          "Multilingual RoBERTa",
          "Distilled Multilingual BERT (cased)"
         ],
         "y": [
          0.2639,
          0.3243,
          0.36869999999999997,
          0.305,
          0.2341,
          0.2115,
          0.23670000000000002,
          0.2003,
          0.21489999999999998,
          0.27449999999999997,
          0.33020000000000005,
          0.2076,
          0.2553,
          0.2016,
          0.2606,
          0.3037,
          0.2354,
          0.3859,
          0.0617,
          0.2069,
          0.24600000000000002,
          0.1373
         ]
        },
        {
         "name": "Score at Threshold 6.0",
         "type": "bar",
         "visible": false,
         "x": [
          "BERT Base (cased)",
          "BERT Base (uncased)",
          "BERT Large (uncased)",
          "BERT Large (cased)",
          "Multilingual BERT (uncased)",
          "Multilingual BERT (cased)",
          "SciBERT",
          "Bio + Clinical BERT",
          "PubMed BERT",
          "Legal BERT",
          "Hate BERT",
          "BERT for Patents",
          "Security BERT",
          "AlBERT (v1)",
          "AlBERT (v2)",
          "RoBERTa Base",
          "Distilled RoBERTa Base",
          "RoBERTa Large",
          "Code RoBERTa",
          "Climate RoBERTa Base (distilled)",
          "Multilingual RoBERTa",
          "Distilled Multilingual BERT (cased)"
         ],
         "y": [
          0.2321,
          0.2905,
          0.3395,
          0.2759,
          0.2016,
          0.1764,
          0.20420000000000002,
          0.1618,
          0.179,
          0.23809999999999998,
          0.2944,
          0.18239999999999998,
          0.2182,
          0.16449999999999998,
          0.2314,
          0.2706,
          0.20420000000000002,
          0.3448,
          0.041100000000000005,
          0.1711,
          0.2155,
          0.1107
         ]
        },
        {
         "name": "Score at Threshold 7.0",
         "type": "bar",
         "visible": false,
         "x": [
          "BERT Base (cased)",
          "BERT Base (uncased)",
          "BERT Large (uncased)",
          "BERT Large (cased)",
          "Multilingual BERT (uncased)",
          "Multilingual BERT (cased)",
          "SciBERT",
          "Bio + Clinical BERT",
          "PubMed BERT",
          "Legal BERT",
          "Hate BERT",
          "BERT for Patents",
          "Security BERT",
          "AlBERT (v1)",
          "AlBERT (v2)",
          "RoBERTa Base",
          "Distilled RoBERTa Base",
          "RoBERTa Large",
          "Code RoBERTa",
          "Climate RoBERTa Base (distilled)",
          "Multilingual RoBERTa",
          "Distilled Multilingual BERT (cased)"
         ],
         "y": [
          0.19690000000000002,
          0.2606,
          0.3176,
          0.24539999999999998,
          0.1718,
          0.1452,
          0.1777,
          0.1313,
          0.1479,
          0.20559999999999998,
          0.2586,
          0.1525,
          0.1956,
          0.132,
          0.1989,
          0.2427,
          0.1764,
          0.307,
          0.0325,
          0.1432,
          0.1923,
          0.0862
         ]
        },
        {
         "name": "Score at Threshold 8.0",
         "type": "bar",
         "visible": false,
         "x": [
          "BERT Base (cased)",
          "BERT Base (uncased)",
          "BERT Large (uncased)",
          "BERT Large (cased)",
          "Multilingual BERT (uncased)",
          "Multilingual BERT (cased)",
          "SciBERT",
          "Bio + Clinical BERT",
          "PubMed BERT",
          "Legal BERT",
          "Hate BERT",
          "BERT for Patents",
          "Security BERT",
          "AlBERT (v1)",
          "AlBERT (v2)",
          "RoBERTa Base",
          "Distilled RoBERTa Base",
          "RoBERTa Large",
          "Code RoBERTa",
          "Climate RoBERTa Base (distilled)",
          "Multilingual RoBERTa",
          "Distilled Multilingual BERT (cased)"
         ],
         "y": [
          0.1744,
          0.23809999999999998,
          0.2838,
          0.2168,
          0.1505,
          0.126,
          0.1499,
          0.1094,
          0.13,
          0.1797,
          0.2354,
          0.1273,
          0.16510000000000002,
          0.1121,
          0.1711,
          0.2182,
          0.1472,
          0.2699,
          0.0259,
          0.12140000000000001,
          0.17370000000000002,
          0.0703
         ]
        },
        {
         "name": "Score at Threshold 9.0",
         "type": "bar",
         "visible": false,
         "x": [
          "BERT Base (cased)",
          "BERT Base (uncased)",
          "BERT Large (uncased)",
          "BERT Large (cased)",
          "Multilingual BERT (uncased)",
          "Multilingual BERT (cased)",
          "SciBERT",
          "Bio + Clinical BERT",
          "PubMed BERT",
          "Legal BERT",
          "Hate BERT",
          "BERT for Patents",
          "Security BERT",
          "AlBERT (v1)",
          "AlBERT (v2)",
          "RoBERTa Base",
          "Distilled RoBERTa Base",
          "RoBERTa Large",
          "Code RoBERTa",
          "Climate RoBERTa Base (distilled)",
          "Multilingual RoBERTa",
          "Distilled Multilingual BERT (cased)"
         ],
         "y": [
          0.1519,
          0.2082,
          0.26530000000000004,
          0.2016,
          0.132,
          0.1094,
          0.1333,
          0.0915,
          0.1107,
          0.1592,
          0.2109,
          0.1048,
          0.1439,
          0.0968,
          0.1492,
          0.19690000000000002,
          0.128,
          0.2473,
          0.0166,
          0.1001,
          0.1572,
          0.055
         ]
        },
        {
         "name": "Score at Threshold 10.0",
         "type": "bar",
         "visible": false,
         "x": [
          "BERT Base (cased)",
          "BERT Base (uncased)",
          "BERT Large (uncased)",
          "BERT Large (cased)",
          "Multilingual BERT (uncased)",
          "Multilingual BERT (cased)",
          "SciBERT",
          "Bio + Clinical BERT",
          "PubMed BERT",
          "Legal BERT",
          "Hate BERT",
          "BERT for Patents",
          "Security BERT",
          "AlBERT (v1)",
          "AlBERT (v2)",
          "RoBERTa Base",
          "Distilled RoBERTa Base",
          "RoBERTa Large",
          "Code RoBERTa",
          "Climate RoBERTa Base (distilled)",
          "Multilingual RoBERTa",
          "Distilled Multilingual BERT (cased)"
         ],
         "y": [
          0.1353,
          0.1923,
          0.24539999999999998,
          0.1757,
          0.11470000000000001,
          0.0928,
          0.1134,
          0.07629999999999999,
          0.0935,
          0.1366,
          0.1857,
          0.0895,
          0.1267,
          0.0809,
          0.1286,
          0.1744,
          0.1114,
          0.2182,
          0.013300000000000001,
          0.08220000000000001,
          0.1373,
          0.0424
         ]
        },
        {
         "name": "Score at Threshold 11.0",
         "type": "bar",
         "visible": false,
         "x": [
          "BERT Base (cased)",
          "BERT Base (uncased)",
          "BERT Large (uncased)",
          "BERT Large (cased)",
          "Multilingual BERT (uncased)",
          "Multilingual BERT (cased)",
          "SciBERT",
          "Bio + Clinical BERT",
          "PubMed BERT",
          "Legal BERT",
          "Hate BERT",
          "BERT for Patents",
          "Security BERT",
          "AlBERT (v1)",
          "AlBERT (v2)",
          "RoBERTa Base",
          "Distilled RoBERTa Base",
          "RoBERTa Large",
          "Code RoBERTa",
          "Climate RoBERTa Base (distilled)",
          "Multilingual RoBERTa",
          "Distilled Multilingual BERT (cased)"
         ],
         "y": [
          0.12140000000000001,
          0.1751,
          0.2268,
          0.1552,
          0.10339999999999999,
          0.0855,
          0.0981,
          0.0663,
          0.0816,
          0.1167,
          0.1611,
          0.0782,
          0.1094,
          0.0676,
          0.10679999999999999,
          0.1545,
          0.0922,
          0.19760000000000003,
          0.009300000000000001,
          0.06559999999999999,
          0.1167,
          0.031200000000000002
         ]
        },
        {
         "name": "Score at Threshold 12.0",
         "type": "bar",
         "visible": false,
         "x": [
          "BERT Base (cased)",
          "BERT Base (uncased)",
          "BERT Large (uncased)",
          "BERT Large (cased)",
          "Multilingual BERT (uncased)",
          "Multilingual BERT (cased)",
          "SciBERT",
          "Bio + Clinical BERT",
          "PubMed BERT",
          "Legal BERT",
          "Hate BERT",
          "BERT for Patents",
          "Security BERT",
          "AlBERT (v1)",
          "AlBERT (v2)",
          "RoBERTa Base",
          "Distilled RoBERTa Base",
          "RoBERTa Large",
          "Code RoBERTa",
          "Climate RoBERTa Base (distilled)",
          "Multilingual RoBERTa",
          "Distilled Multilingual BERT (cased)"
         ],
         "y": [
          0.10679999999999999,
          0.1611,
          0.2036,
          0.1426,
          0.0922,
          0.07490000000000001,
          0.0849,
          0.0564,
          0.0663,
          0.10679999999999999,
          0.1446,
          0.0683,
          0.0942,
          0.0584,
          0.0962,
          0.1432,
          0.0756,
          0.1777,
          0.0086,
          0.057699999999999994,
          0.10210000000000001,
          0.0265
         ]
        },
        {
         "name": "Score at Threshold 13.0",
         "type": "bar",
         "visible": false,
         "x": [
          "BERT Base (cased)",
          "BERT Base (uncased)",
          "BERT Large (uncased)",
          "BERT Large (cased)",
          "Multilingual BERT (uncased)",
          "Multilingual BERT (cased)",
          "SciBERT",
          "Bio + Clinical BERT",
          "PubMed BERT",
          "Legal BERT",
          "Hate BERT",
          "BERT for Patents",
          "Security BERT",
          "AlBERT (v1)",
          "AlBERT (v2)",
          "RoBERTa Base",
          "Distilled RoBERTa Base",
          "RoBERTa Large",
          "Code RoBERTa",
          "Climate RoBERTa Base (distilled)",
          "Multilingual RoBERTa",
          "Distilled Multilingual BERT (cased)"
         ],
         "y": [
          0.0955,
          0.1485,
          0.1936,
          0.124,
          0.0802,
          0.0683,
          0.0776,
          0.049699999999999994,
          0.053099999999999994,
          0.0915,
          0.126,
          0.059699999999999996,
          0.0756,
          0.0471,
          0.0802,
          0.13,
          0.061,
          0.1585,
          0.008,
          0.04769999999999999,
          0.0962,
          0.0239
         ]
        },
        {
         "name": "Score at Threshold 14.0",
         "type": "bar",
         "visible": false,
         "x": [
          "BERT Base (cased)",
          "BERT Base (uncased)",
          "BERT Large (uncased)",
          "BERT Large (cased)",
          "Multilingual BERT (uncased)",
          "Multilingual BERT (cased)",
          "SciBERT",
          "Bio + Clinical BERT",
          "PubMed BERT",
          "Legal BERT",
          "Hate BERT",
          "BERT for Patents",
          "Security BERT",
          "AlBERT (v1)",
          "AlBERT (v2)",
          "RoBERTa Base",
          "Distilled RoBERTa Base",
          "RoBERTa Large",
          "Code RoBERTa",
          "Climate RoBERTa Base (distilled)",
          "Multilingual RoBERTa",
          "Distilled Multilingual BERT (cased)"
         ],
         "y": [
          0.0836,
          0.1353,
          0.179,
          0.1094,
          0.0716,
          0.0584,
          0.0676,
          0.0385,
          0.0431,
          0.0776,
          0.10880000000000001,
          0.051100000000000007,
          0.0637,
          0.0431,
          0.0683,
          0.11470000000000001,
          0.0537,
          0.1379,
          0.0053,
          0.0398,
          0.0836,
          0.0179
         ]
        },
        {
         "name": "Score at Threshold 15.0",
         "type": "bar",
         "visible": false,
         "x": [
          "BERT Base (cased)",
          "BERT Base (uncased)",
          "BERT Large (uncased)",
          "BERT Large (cased)",
          "Multilingual BERT (uncased)",
          "Multilingual BERT (cased)",
          "SciBERT",
          "Bio + Clinical BERT",
          "PubMed BERT",
          "Legal BERT",
          "Hate BERT",
          "BERT for Patents",
          "Security BERT",
          "AlBERT (v1)",
          "AlBERT (v2)",
          "RoBERTa Base",
          "Distilled RoBERTa Base",
          "RoBERTa Large",
          "Code RoBERTa",
          "Climate RoBERTa Base (distilled)",
          "Multilingual RoBERTa",
          "Distilled Multilingual BERT (cased)"
         ],
         "y": [
          0.0736,
          0.12269999999999999,
          0.1631,
          0.0942,
          0.0637,
          0.049699999999999994,
          0.057699999999999994,
          0.0345,
          0.0385,
          0.0683,
          0.1001,
          0.0464,
          0.057,
          0.0391,
          0.0617,
          0.0962,
          0.0444,
          0.12,
          0.0053,
          0.0351,
          0.0756,
          0.013300000000000001
         ]
        },
        {
         "name": "Score at Threshold 16.0",
         "type": "bar",
         "visible": false,
         "x": [
          "BERT Base (cased)",
          "BERT Base (uncased)",
          "BERT Large (uncased)",
          "BERT Large (cased)",
          "Multilingual BERT (uncased)",
          "Multilingual BERT (cased)",
          "SciBERT",
          "Bio + Clinical BERT",
          "PubMed BERT",
          "Legal BERT",
          "Hate BERT",
          "BERT for Patents",
          "Security BERT",
          "AlBERT (v1)",
          "AlBERT (v2)",
          "RoBERTa Base",
          "Distilled RoBERTa Base",
          "RoBERTa Large",
          "Code RoBERTa",
          "Climate RoBERTa Base (distilled)",
          "Multilingual RoBERTa",
          "Distilled Multilingual BERT (cased)"
         ],
         "y": [
          0.065,
          0.1101,
          0.1492,
          0.0862,
          0.055,
          0.0431,
          0.051699999999999996,
          0.0292,
          0.0332,
          0.061,
          0.0889,
          0.0398,
          0.049699999999999994,
          0.0332,
          0.0537,
          0.0889,
          0.0391,
          0.1121,
          0.0053,
          0.031200000000000002,
          0.0703,
          0.011899999999999999
         ]
        },
        {
         "name": "Score at Threshold 17.0",
         "type": "bar",
         "visible": false,
         "x": [
          "BERT Base (cased)",
          "BERT Base (uncased)",
          "BERT Large (uncased)",
          "BERT Large (cased)",
          "Multilingual BERT (uncased)",
          "Multilingual BERT (cased)",
          "SciBERT",
          "Bio + Clinical BERT",
          "PubMed BERT",
          "Legal BERT",
          "Hate BERT",
          "BERT for Patents",
          "Security BERT",
          "AlBERT (v1)",
          "AlBERT (v2)",
          "RoBERTa Base",
          "Distilled RoBERTa Base",
          "RoBERTa Large",
          "Code RoBERTa",
          "Climate RoBERTa Base (distilled)",
          "Multilingual RoBERTa",
          "Distilled Multilingual BERT (cased)"
         ],
         "y": [
          0.059000000000000004,
          0.09880000000000001,
          0.1393,
          0.0776,
          0.049100000000000005,
          0.0371,
          0.0484,
          0.0259,
          0.027200000000000002,
          0.057,
          0.0816,
          0.0358,
          0.0391,
          0.0305,
          0.0444,
          0.0802,
          0.0332,
          0.1001,
          0.0046,
          0.0265,
          0.0623,
          0.0113
         ]
        },
        {
         "name": "Score at Threshold 18.0",
         "type": "bar",
         "visible": false,
         "x": [
          "BERT Base (cased)",
          "BERT Base (uncased)",
          "BERT Large (uncased)",
          "BERT Large (cased)",
          "Multilingual BERT (uncased)",
          "Multilingual BERT (cased)",
          "SciBERT",
          "Bio + Clinical BERT",
          "PubMed BERT",
          "Legal BERT",
          "Hate BERT",
          "BERT for Patents",
          "Security BERT",
          "AlBERT (v1)",
          "AlBERT (v2)",
          "RoBERTa Base",
          "Distilled RoBERTa Base",
          "RoBERTa Large",
          "Code RoBERTa",
          "Climate RoBERTa Base (distilled)",
          "Multilingual RoBERTa",
          "Distilled Multilingual BERT (cased)"
         ],
         "y": [
          0.049699999999999994,
          0.0875,
          0.1286,
          0.07490000000000001,
          0.0431,
          0.0305,
          0.0405,
          0.0206,
          0.0239,
          0.0524,
          0.07690000000000001,
          0.0318,
          0.0351,
          0.027200000000000002,
          0.0391,
          0.071,
          0.031200000000000002,
          0.0935,
          0.0046,
          0.0199,
          0.057,
          0.009300000000000001
         ]
        },
        {
         "name": "Score at Threshold 19.0",
         "type": "bar",
         "visible": false,
         "x": [
          "BERT Base (cased)",
          "BERT Base (uncased)",
          "BERT Large (uncased)",
          "BERT Large (cased)",
          "Multilingual BERT (uncased)",
          "Multilingual BERT (cased)",
          "SciBERT",
          "Bio + Clinical BERT",
          "PubMed BERT",
          "Legal BERT",
          "Hate BERT",
          "BERT for Patents",
          "Security BERT",
          "AlBERT (v1)",
          "AlBERT (v2)",
          "RoBERTa Base",
          "Distilled RoBERTa Base",
          "RoBERTa Large",
          "Code RoBERTa",
          "Climate RoBERTa Base (distilled)",
          "Multilingual RoBERTa",
          "Distilled Multilingual BERT (cased)"
         ],
         "y": [
          0.0424,
          0.0802,
          0.1174,
          0.0676,
          0.0391,
          0.0245,
          0.0332,
          0.0199,
          0.0206,
          0.0471,
          0.0683,
          0.027200000000000002,
          0.0292,
          0.0245,
          0.0345,
          0.0637,
          0.0298,
          0.0789,
          0.0046,
          0.018600000000000002,
          0.051100000000000007,
          0.008
         ]
        },
        {
         "name": "Score at Threshold 20.0",
         "type": "bar",
         "visible": false,
         "x": [
          "BERT Base (cased)",
          "BERT Base (uncased)",
          "BERT Large (uncased)",
          "BERT Large (cased)",
          "Multilingual BERT (uncased)",
          "Multilingual BERT (cased)",
          "SciBERT",
          "Bio + Clinical BERT",
          "PubMed BERT",
          "Legal BERT",
          "Hate BERT",
          "BERT for Patents",
          "Security BERT",
          "AlBERT (v1)",
          "AlBERT (v2)",
          "RoBERTa Base",
          "Distilled RoBERTa Base",
          "RoBERTa Large",
          "Code RoBERTa",
          "Climate RoBERTa Base (distilled)",
          "Multilingual RoBERTa",
          "Distilled Multilingual BERT (cased)"
         ],
         "y": [
          0.0378,
          0.0729,
          0.1094,
          0.057699999999999994,
          0.0345,
          0.0206,
          0.0292,
          0.0179,
          0.0166,
          0.0431,
          0.06559999999999999,
          0.0239,
          0.0239,
          0.0219,
          0.031200000000000002,
          0.059699999999999996,
          0.027200000000000002,
          0.0676,
          0.004,
          0.0159,
          0.04769999999999999,
          0.006
         ]
        },
        {
         "name": "Score at Threshold 21.0",
         "type": "bar",
         "visible": false,
         "x": [
          "BERT Base (cased)",
          "BERT Base (uncased)",
          "BERT Large (uncased)",
          "BERT Large (cased)",
          "Multilingual BERT (uncased)",
          "Multilingual BERT (cased)",
          "SciBERT",
          "Bio + Clinical BERT",
          "PubMed BERT",
          "Legal BERT",
          "Hate BERT",
          "BERT for Patents",
          "Security BERT",
          "AlBERT (v1)",
          "AlBERT (v2)",
          "RoBERTa Base",
          "Distilled RoBERTa Base",
          "RoBERTa Large",
          "Code RoBERTa",
          "Climate RoBERTa Base (distilled)",
          "Multilingual RoBERTa",
          "Distilled Multilingual BERT (cased)"
         ],
         "y": [
          0.0338,
          0.067,
          0.10210000000000001,
          0.0524,
          0.0325,
          0.0199,
          0.0285,
          0.0139,
          0.013300000000000001,
          0.041100000000000005,
          0.059000000000000004,
          0.0212,
          0.0212,
          0.0192,
          0.0279,
          0.055,
          0.0239,
          0.059699999999999996,
          0.0033,
          0.0146,
          0.0431,
          0.0027
         ]
        },
        {
         "name": "Score at Threshold 22.0",
         "type": "bar",
         "visible": false,
         "x": [
          "BERT Base (cased)",
          "BERT Base (uncased)",
          "BERT Large (uncased)",
          "BERT Large (cased)",
          "Multilingual BERT (uncased)",
          "Multilingual BERT (cased)",
          "SciBERT",
          "Bio + Clinical BERT",
          "PubMed BERT",
          "Legal BERT",
          "Hate BERT",
          "BERT for Patents",
          "Security BERT",
          "AlBERT (v1)",
          "AlBERT (v2)",
          "RoBERTa Base",
          "Distilled RoBERTa Base",
          "RoBERTa Large",
          "Code RoBERTa",
          "Climate RoBERTa Base (distilled)",
          "Multilingual RoBERTa",
          "Distilled Multilingual BERT (cased)"
         ],
         "y": [
          0.031200000000000002,
          0.059699999999999996,
          0.0915,
          0.04769999999999999,
          0.0292,
          0.0179,
          0.027200000000000002,
          0.0126,
          0.011899999999999999,
          0.0365,
          0.0524,
          0.018600000000000002,
          0.0159,
          0.0166,
          0.0265,
          0.0504,
          0.0219,
          0.053099999999999994,
          0.0027,
          0.013300000000000001,
          0.0405,
          0.002
         ]
        },
        {
         "name": "Score at Threshold 23.0",
         "type": "bar",
         "visible": false,
         "x": [
          "BERT Base (cased)",
          "BERT Base (uncased)",
          "BERT Large (uncased)",
          "BERT Large (cased)",
          "Multilingual BERT (uncased)",
          "Multilingual BERT (cased)",
          "SciBERT",
          "Bio + Clinical BERT",
          "PubMed BERT",
          "Legal BERT",
          "Hate BERT",
          "BERT for Patents",
          "Security BERT",
          "AlBERT (v1)",
          "AlBERT (v2)",
          "RoBERTa Base",
          "Distilled RoBERTa Base",
          "RoBERTa Large",
          "Code RoBERTa",
          "Climate RoBERTa Base (distilled)",
          "Multilingual RoBERTa",
          "Distilled Multilingual BERT (cased)"
         ],
         "y": [
          0.0279,
          0.055,
          0.0855,
          0.0451,
          0.0245,
          0.0139,
          0.0232,
          0.0113,
          0.0106,
          0.0345,
          0.0471,
          0.0166,
          0.0146,
          0.0139,
          0.0212,
          0.0451,
          0.0206,
          0.0471,
          0.0027,
          0.0106,
          0.0358,
          0.002
         ]
        },
        {
         "name": "Score at Threshold 24.0",
         "type": "bar",
         "visible": false,
         "x": [
          "BERT Base (cased)",
          "BERT Base (uncased)",
          "BERT Large (uncased)",
          "BERT Large (cased)",
          "Multilingual BERT (uncased)",
          "Multilingual BERT (cased)",
          "SciBERT",
          "Bio + Clinical BERT",
          "PubMed BERT",
          "Legal BERT",
          "Hate BERT",
          "BERT for Patents",
          "Security BERT",
          "AlBERT (v1)",
          "AlBERT (v2)",
          "RoBERTa Base",
          "Distilled RoBERTa Base",
          "RoBERTa Large",
          "Code RoBERTa",
          "Climate RoBERTa Base (distilled)",
          "Multilingual RoBERTa",
          "Distilled Multilingual BERT (cased)"
         ],
         "y": [
          0.027200000000000002,
          0.0504,
          0.07490000000000001,
          0.0365,
          0.0212,
          0.0126,
          0.0206,
          0.009300000000000001,
          0.0086,
          0.0305,
          0.0418,
          0.0146,
          0.011899999999999999,
          0.011899999999999999,
          0.0172,
          0.0418,
          0.0179,
          0.0438,
          0.0027,
          0.0086,
          0.0285,
          0.0013
         ]
        },
        {
         "name": "Score at Threshold 25.0",
         "type": "bar",
         "visible": false,
         "x": [
          "BERT Base (cased)",
          "BERT Base (uncased)",
          "BERT Large (uncased)",
          "BERT Large (cased)",
          "Multilingual BERT (uncased)",
          "Multilingual BERT (cased)",
          "SciBERT",
          "Bio + Clinical BERT",
          "PubMed BERT",
          "Legal BERT",
          "Hate BERT",
          "BERT for Patents",
          "Security BERT",
          "AlBERT (v1)",
          "AlBERT (v2)",
          "RoBERTa Base",
          "Distilled RoBERTa Base",
          "RoBERTa Large",
          "Code RoBERTa",
          "Climate RoBERTa Base (distilled)",
          "Multilingual RoBERTa",
          "Distilled Multilingual BERT (cased)"
         ],
         "y": [
          0.0232,
          0.0458,
          0.0676,
          0.0332,
          0.0199,
          0.0106,
          0.018600000000000002,
          0.0086,
          0.0086,
          0.0259,
          0.0398,
          0.0113,
          0.009899999999999999,
          0.0113,
          0.0146,
          0.0378,
          0.0159,
          0.0418,
          0.0027,
          0.0066,
          0.0279,
          0
         ]
        },
        {
         "name": "Score at Threshold 26.0",
         "type": "bar",
         "visible": false,
         "x": [
          "BERT Base (cased)",
          "BERT Base (uncased)",
          "BERT Large (uncased)",
          "BERT Large (cased)",
          "Multilingual BERT (uncased)",
          "Multilingual BERT (cased)",
          "SciBERT",
          "Bio + Clinical BERT",
          "PubMed BERT",
          "Legal BERT",
          "Hate BERT",
          "BERT for Patents",
          "Security BERT",
          "AlBERT (v1)",
          "AlBERT (v2)",
          "RoBERTa Base",
          "Distilled RoBERTa Base",
          "RoBERTa Large",
          "Code RoBERTa",
          "Climate RoBERTa Base (distilled)",
          "Multilingual RoBERTa",
          "Distilled Multilingual BERT (cased)"
         ],
         "y": [
          0.0192,
          0.0438,
          0.0643,
          0.0265,
          0.0159,
          0.008,
          0.0179,
          0.008,
          0.006,
          0.0212,
          0.0351,
          0.009899999999999999,
          0.0073,
          0.0106,
          0.013300000000000001,
          0.0305,
          0.013300000000000001,
          0.0405,
          0.0013,
          0.0066,
          0.0239,
          0
         ]
        },
        {
         "name": "Score at Threshold 27.0",
         "type": "bar",
         "visible": false,
         "x": [
          "BERT Base (cased)",
          "BERT Base (uncased)",
          "BERT Large (uncased)",
          "BERT Large (cased)",
          "Multilingual BERT (uncased)",
          "Multilingual BERT (cased)",
          "SciBERT",
          "Bio + Clinical BERT",
          "PubMed BERT",
          "Legal BERT",
          "Hate BERT",
          "BERT for Patents",
          "Security BERT",
          "AlBERT (v1)",
          "AlBERT (v2)",
          "RoBERTa Base",
          "Distilled RoBERTa Base",
          "RoBERTa Large",
          "Code RoBERTa",
          "Climate RoBERTa Base (distilled)",
          "Multilingual RoBERTa",
          "Distilled Multilingual BERT (cased)"
         ],
         "y": [
          0.0166,
          0.0391,
          0.059000000000000004,
          0.0259,
          0.013300000000000001,
          0.0066,
          0.0166,
          0.0053,
          0.0053,
          0.018600000000000002,
          0.0325,
          0.009899999999999999,
          0.0073,
          0.009899999999999999,
          0.0113,
          0.0285,
          0.013300000000000001,
          0.0365,
          0.0013,
          0.006,
          0.0232,
          0
         ]
        },
        {
         "name": "Score at Threshold 28.0",
         "type": "bar",
         "visible": false,
         "x": [
          "BERT Base (cased)",
          "BERT Base (uncased)",
          "BERT Large (uncased)",
          "BERT Large (cased)",
          "Multilingual BERT (uncased)",
          "Multilingual BERT (cased)",
          "SciBERT",
          "Bio + Clinical BERT",
          "PubMed BERT",
          "Legal BERT",
          "Hate BERT",
          "BERT for Patents",
          "Security BERT",
          "AlBERT (v1)",
          "AlBERT (v2)",
          "RoBERTa Base",
          "Distilled RoBERTa Base",
          "RoBERTa Large",
          "Code RoBERTa",
          "Climate RoBERTa Base (distilled)",
          "Multilingual RoBERTa",
          "Distilled Multilingual BERT (cased)"
         ],
         "y": [
          0.013300000000000001,
          0.0345,
          0.054400000000000004,
          0.0232,
          0.0126,
          0.006,
          0.013300000000000001,
          0.0053,
          0.004,
          0.015300000000000001,
          0.0298,
          0.0073,
          0.0066,
          0.008,
          0.008,
          0.0265,
          0.0113,
          0.0345,
          0.0013,
          0.0053,
          0.0206,
          0
         ]
        },
        {
         "name": "Score at Threshold 29.0",
         "type": "bar",
         "visible": false,
         "x": [
          "BERT Base (cased)",
          "BERT Base (uncased)",
          "BERT Large (uncased)",
          "BERT Large (cased)",
          "Multilingual BERT (uncased)",
          "Multilingual BERT (cased)",
          "SciBERT",
          "Bio + Clinical BERT",
          "PubMed BERT",
          "Legal BERT",
          "Hate BERT",
          "BERT for Patents",
          "Security BERT",
          "AlBERT (v1)",
          "AlBERT (v2)",
          "RoBERTa Base",
          "Distilled RoBERTa Base",
          "RoBERTa Large",
          "Code RoBERTa",
          "Climate RoBERTa Base (distilled)",
          "Multilingual RoBERTa",
          "Distilled Multilingual BERT (cased)"
         ],
         "y": [
          0.0113,
          0.0338,
          0.049100000000000005,
          0.0212,
          0.0113,
          0.006,
          0.0106,
          0.004,
          0.004,
          0.015300000000000001,
          0.027200000000000002,
          0.0073,
          0.0066,
          0.0066,
          0.0073,
          0.0239,
          0.0113,
          0.0325,
          0.0013,
          0.0046,
          0.018600000000000002,
          0
         ]
        },
        {
         "name": "Score at Threshold 30.0",
         "type": "bar",
         "visible": false,
         "x": [
          "BERT Base (cased)",
          "BERT Base (uncased)",
          "BERT Large (uncased)",
          "BERT Large (cased)",
          "Multilingual BERT (uncased)",
          "Multilingual BERT (cased)",
          "SciBERT",
          "Bio + Clinical BERT",
          "PubMed BERT",
          "Legal BERT",
          "Hate BERT",
          "BERT for Patents",
          "Security BERT",
          "AlBERT (v1)",
          "AlBERT (v2)",
          "RoBERTa Base",
          "Distilled RoBERTa Base",
          "RoBERTa Large",
          "Code RoBERTa",
          "Climate RoBERTa Base (distilled)",
          "Multilingual RoBERTa",
          "Distilled Multilingual BERT (cased)"
         ],
         "y": [
          0.009300000000000001,
          0.0305,
          0.0484,
          0.0179,
          0.0106,
          0.004,
          0.0086,
          0.004,
          0.004,
          0.0146,
          0.0245,
          0.0066,
          0.0053,
          0.0066,
          0.0066,
          0.0206,
          0.0113,
          0.0298,
          0.0013,
          0.004,
          0.0159,
          0
         ]
        },
        {
         "name": "Score at Threshold 31.0",
         "type": "bar",
         "visible": false,
         "x": [
          "BERT Base (cased)",
          "BERT Base (uncased)",
          "BERT Large (uncased)",
          "BERT Large (cased)",
          "Multilingual BERT (uncased)",
          "Multilingual BERT (cased)",
          "SciBERT",
          "Bio + Clinical BERT",
          "PubMed BERT",
          "Legal BERT",
          "Hate BERT",
          "BERT for Patents",
          "Security BERT",
          "AlBERT (v1)",
          "AlBERT (v2)",
          "RoBERTa Base",
          "Distilled RoBERTa Base",
          "RoBERTa Large",
          "Code RoBERTa",
          "Climate RoBERTa Base (distilled)",
          "Multilingual RoBERTa",
          "Distilled Multilingual BERT (cased)"
         ],
         "y": [
          0.0086,
          0.027200000000000002,
          0.0464,
          0.0159,
          0.0086,
          0.004,
          0.006,
          0.0033,
          0.0033,
          0.0126,
          0.0225,
          0.0053,
          0.0053,
          0.006,
          0.006,
          0.0172,
          0.009300000000000001,
          0.027200000000000002,
          0.0007000000000000001,
          0.004,
          0.013300000000000001,
          0
         ]
        },
        {
         "name": "Score at Threshold 32.0",
         "type": "bar",
         "visible": false,
         "x": [
          "BERT Base (cased)",
          "BERT Base (uncased)",
          "BERT Large (uncased)",
          "BERT Large (cased)",
          "Multilingual BERT (uncased)",
          "Multilingual BERT (cased)",
          "SciBERT",
          "Bio + Clinical BERT",
          "PubMed BERT",
          "Legal BERT",
          "Hate BERT",
          "BERT for Patents",
          "Security BERT",
          "AlBERT (v1)",
          "AlBERT (v2)",
          "RoBERTa Base",
          "Distilled RoBERTa Base",
          "RoBERTa Large",
          "Code RoBERTa",
          "Climate RoBERTa Base (distilled)",
          "Multilingual RoBERTa",
          "Distilled Multilingual BERT (cased)"
         ],
         "y": [
          0.0073,
          0.0265,
          0.0424,
          0.0139,
          0.008,
          0.004,
          0.0053,
          0.0033,
          0.0033,
          0.0106,
          0.0199,
          0.004,
          0.0053,
          0.006,
          0.0053,
          0.015300000000000001,
          0.008,
          0.0239,
          0.0007000000000000001,
          0.0033,
          0.013300000000000001,
          0
         ]
        },
        {
         "name": "Score at Threshold 33.0",
         "type": "bar",
         "visible": false,
         "x": [
          "BERT Base (cased)",
          "BERT Base (uncased)",
          "BERT Large (uncased)",
          "BERT Large (cased)",
          "Multilingual BERT (uncased)",
          "Multilingual BERT (cased)",
          "SciBERT",
          "Bio + Clinical BERT",
          "PubMed BERT",
          "Legal BERT",
          "Hate BERT",
          "BERT for Patents",
          "Security BERT",
          "AlBERT (v1)",
          "AlBERT (v2)",
          "RoBERTa Base",
          "Distilled RoBERTa Base",
          "RoBERTa Large",
          "Code RoBERTa",
          "Climate RoBERTa Base (distilled)",
          "Multilingual RoBERTa",
          "Distilled Multilingual BERT (cased)"
         ],
         "y": [
          0.0073,
          0.0225,
          0.0405,
          0.0139,
          0.0073,
          0.0027,
          0.0033,
          0.0033,
          0.0027,
          0.009300000000000001,
          0.0192,
          0.004,
          0.004,
          0.0053,
          0.0046,
          0.0139,
          0.0073,
          0.0212,
          0.0007000000000000001,
          0.0027,
          0.0113,
          0
         ]
        },
        {
         "name": "Score at Threshold 34.0",
         "type": "bar",
         "visible": false,
         "x": [
          "BERT Base (cased)",
          "BERT Base (uncased)",
          "BERT Large (uncased)",
          "BERT Large (cased)",
          "Multilingual BERT (uncased)",
          "Multilingual BERT (cased)",
          "SciBERT",
          "Bio + Clinical BERT",
          "PubMed BERT",
          "Legal BERT",
          "Hate BERT",
          "BERT for Patents",
          "Security BERT",
          "AlBERT (v1)",
          "AlBERT (v2)",
          "RoBERTa Base",
          "Distilled RoBERTa Base",
          "RoBERTa Large",
          "Code RoBERTa",
          "Climate RoBERTa Base (distilled)",
          "Multilingual RoBERTa",
          "Distilled Multilingual BERT (cased)"
         ],
         "y": [
          0.006,
          0.0199,
          0.0385,
          0.011899999999999999,
          0.0066,
          0.002,
          0.0027,
          0.0033,
          0.0027,
          0.009300000000000001,
          0.018600000000000002,
          0.0027,
          0.004,
          0.004,
          0.0046,
          0.0139,
          0.0066,
          0.0179,
          0.0007000000000000001,
          0.0027,
          0.0106,
          0
         ]
        },
        {
         "name": "Score at Threshold 35.0",
         "type": "bar",
         "visible": false,
         "x": [
          "BERT Base (cased)",
          "BERT Base (uncased)",
          "BERT Large (uncased)",
          "BERT Large (cased)",
          "Multilingual BERT (uncased)",
          "Multilingual BERT (cased)",
          "SciBERT",
          "Bio + Clinical BERT",
          "PubMed BERT",
          "Legal BERT",
          "Hate BERT",
          "BERT for Patents",
          "Security BERT",
          "AlBERT (v1)",
          "AlBERT (v2)",
          "RoBERTa Base",
          "Distilled RoBERTa Base",
          "RoBERTa Large",
          "Code RoBERTa",
          "Climate RoBERTa Base (distilled)",
          "Multilingual RoBERTa",
          "Distilled Multilingual BERT (cased)"
         ],
         "y": [
          0.006,
          0.018600000000000002,
          0.0345,
          0.0106,
          0.006,
          0.0013,
          0.0027,
          0.0027,
          0.0027,
          0.0086,
          0.018600000000000002,
          0.0013,
          0.0033,
          0.0033,
          0.0046,
          0.0106,
          0.0053,
          0.0159,
          0.0007000000000000001,
          0.0027,
          0.009899999999999999,
          0
         ]
        },
        {
         "name": "Score at Threshold 36.0",
         "type": "bar",
         "visible": false,
         "x": [
          "BERT Base (cased)",
          "BERT Base (uncased)",
          "BERT Large (uncased)",
          "BERT Large (cased)",
          "Multilingual BERT (uncased)",
          "Multilingual BERT (cased)",
          "SciBERT",
          "Bio + Clinical BERT",
          "PubMed BERT",
          "Legal BERT",
          "Hate BERT",
          "BERT for Patents",
          "Security BERT",
          "AlBERT (v1)",
          "AlBERT (v2)",
          "RoBERTa Base",
          "Distilled RoBERTa Base",
          "RoBERTa Large",
          "Code RoBERTa",
          "Climate RoBERTa Base (distilled)",
          "Multilingual RoBERTa",
          "Distilled Multilingual BERT (cased)"
         ],
         "y": [
          0.0053,
          0.0172,
          0.0305,
          0.0086,
          0.006,
          0,
          0.0027,
          0.002,
          0.0027,
          0.0086,
          0.0172,
          0,
          0.0027,
          0.0027,
          0.0046,
          0.0106,
          0.0033,
          0.0146,
          0.0007000000000000001,
          0.0027,
          0.009300000000000001,
          0
         ]
        },
        {
         "name": "Score at Threshold 37.0",
         "type": "bar",
         "visible": false,
         "x": [
          "BERT Base (cased)",
          "BERT Base (uncased)",
          "BERT Large (uncased)",
          "BERT Large (cased)",
          "Multilingual BERT (uncased)",
          "Multilingual BERT (cased)",
          "SciBERT",
          "Bio + Clinical BERT",
          "PubMed BERT",
          "Legal BERT",
          "Hate BERT",
          "BERT for Patents",
          "Security BERT",
          "AlBERT (v1)",
          "AlBERT (v2)",
          "RoBERTa Base",
          "Distilled RoBERTa Base",
          "RoBERTa Large",
          "Code RoBERTa",
          "Climate RoBERTa Base (distilled)",
          "Multilingual RoBERTa",
          "Distilled Multilingual BERT (cased)"
         ],
         "y": [
          0.0053,
          0.0166,
          0.027200000000000002,
          0.0086,
          0.0053,
          0,
          0.0027,
          0.0007000000000000001,
          0.0027,
          0.008,
          0.0139,
          0,
          0.0027,
          0.0027,
          0.004,
          0.0106,
          0.0027,
          0.0126,
          0.0007000000000000001,
          0.0027,
          0.0066,
          0
         ]
        },
        {
         "name": "Score at Threshold 38.0",
         "type": "bar",
         "visible": false,
         "x": [
          "BERT Base (cased)",
          "BERT Base (uncased)",
          "BERT Large (uncased)",
          "BERT Large (cased)",
          "Multilingual BERT (uncased)",
          "Multilingual BERT (cased)",
          "SciBERT",
          "Bio + Clinical BERT",
          "PubMed BERT",
          "Legal BERT",
          "Hate BERT",
          "BERT for Patents",
          "Security BERT",
          "AlBERT (v1)",
          "AlBERT (v2)",
          "RoBERTa Base",
          "Distilled RoBERTa Base",
          "RoBERTa Large",
          "Code RoBERTa",
          "Climate RoBERTa Base (distilled)",
          "Multilingual RoBERTa",
          "Distilled Multilingual BERT (cased)"
         ],
         "y": [
          0.0053,
          0.0159,
          0.0252,
          0.008,
          0.0053,
          0,
          0.0027,
          0.0007000000000000001,
          0.0027,
          0.0046,
          0.013300000000000001,
          0,
          0.0027,
          0.002,
          0.0027,
          0.009300000000000001,
          0.0027,
          0.0113,
          0.0007000000000000001,
          0.0027,
          0.0066,
          0
         ]
        },
        {
         "name": "Score at Threshold 39.0",
         "type": "bar",
         "visible": false,
         "x": [
          "BERT Base (cased)",
          "BERT Base (uncased)",
          "BERT Large (uncased)",
          "BERT Large (cased)",
          "Multilingual BERT (uncased)",
          "Multilingual BERT (cased)",
          "SciBERT",
          "Bio + Clinical BERT",
          "PubMed BERT",
          "Legal BERT",
          "Hate BERT",
          "BERT for Patents",
          "Security BERT",
          "AlBERT (v1)",
          "AlBERT (v2)",
          "RoBERTa Base",
          "Distilled RoBERTa Base",
          "RoBERTa Large",
          "Code RoBERTa",
          "Climate RoBERTa Base (distilled)",
          "Multilingual RoBERTa",
          "Distilled Multilingual BERT (cased)"
         ],
         "y": [
          0.0046,
          0.0146,
          0.0219,
          0.0073,
          0.0053,
          0,
          0.002,
          0.0007000000000000001,
          0.0027,
          0.0046,
          0.0126,
          0,
          0.0027,
          0.002,
          0.0027,
          0.0073,
          0.0027,
          0.009300000000000001,
          0.0007000000000000001,
          0.002,
          0.0053,
          0
         ]
        },
        {
         "name": "Score at Threshold 40.0",
         "type": "bar",
         "visible": false,
         "x": [
          "BERT Base (cased)",
          "BERT Base (uncased)",
          "BERT Large (uncased)",
          "BERT Large (cased)",
          "Multilingual BERT (uncased)",
          "Multilingual BERT (cased)",
          "SciBERT",
          "Bio + Clinical BERT",
          "PubMed BERT",
          "Legal BERT",
          "Hate BERT",
          "BERT for Patents",
          "Security BERT",
          "AlBERT (v1)",
          "AlBERT (v2)",
          "RoBERTa Base",
          "Distilled RoBERTa Base",
          "RoBERTa Large",
          "Code RoBERTa",
          "Climate RoBERTa Base (distilled)",
          "Multilingual RoBERTa",
          "Distilled Multilingual BERT (cased)"
         ],
         "y": [
          0.0027,
          0.013300000000000001,
          0.0219,
          0.0066,
          0.0053,
          0,
          0.002,
          0,
          0.0027,
          0.0046,
          0.0106,
          0,
          0.0027,
          0.0013,
          0.0027,
          0.006,
          0.0027,
          0.0073,
          0,
          0.002,
          0.0046,
          0
         ]
        }
       ],
       "layout": {
        "sliders": [
         {
          "active": 1,
          "currentvalue": {
           "prefix": "Threshold: "
          },
          "pad": {
           "t": 150
          },
          "steps": [
           {
            "args": [
             {
              "visible": [
               true,
               false,
               false,
               false,
               false,
               false,
               false,
               false,
               false,
               false,
               false,
               false,
               false,
               false,
               false,
               false,
               false,
               false,
               false,
               false,
               false,
               false,
               false,
               false,
               false,
               false,
               false,
               false,
               false,
               false,
               false,
               false,
               false,
               false,
               false,
               false,
               false,
               false,
               false,
               false,
               false
              ]
             },
             {
              "title": "Bias Scores for 22 Models at Threshold:0%"
             }
            ],
            "label": "0%",
            "method": "update"
           },
           {
            "args": [
             {
              "visible": [
               false,
               true,
               false,
               false,
               false,
               false,
               false,
               false,
               false,
               false,
               false,
               false,
               false,
               false,
               false,
               false,
               false,
               false,
               false,
               false,
               false,
               false,
               false,
               false,
               false,
               false,
               false,
               false,
               false,
               false,
               false,
               false,
               false,
               false,
               false,
               false,
               false,
               false,
               false,
               false,
               false
              ]
             },
             {
              "title": "Bias Scores for 22 Models at Threshold:1%"
             }
            ],
            "label": "1%",
            "method": "update"
           },
           {
            "args": [
             {
              "visible": [
               false,
               false,
               true,
               false,
               false,
               false,
               false,
               false,
               false,
               false,
               false,
               false,
               false,
               false,
               false,
               false,
               false,
               false,
               false,
               false,
               false,
               false,
               false,
               false,
               false,
               false,
               false,
               false,
               false,
               false,
               false,
               false,
               false,
               false,
               false,
               false,
               false,
               false,
               false,
               false,
               false
              ]
             },
             {
              "title": "Bias Scores for 22 Models at Threshold:2%"
             }
            ],
            "label": "2%",
            "method": "update"
           },
           {
            "args": [
             {
              "visible": [
               false,
               false,
               false,
               true,
               false,
               false,
               false,
               false,
               false,
               false,
               false,
               false,
               false,
               false,
               false,
               false,
               false,
               false,
               false,
               false,
               false,
               false,
               false,
               false,
               false,
               false,
               false,
               false,
               false,
               false,
               false,
               false,
               false,
               false,
               false,
               false,
               false,
               false,
               false,
               false,
               false
              ]
             },
             {
              "title": "Bias Scores for 22 Models at Threshold:3%"
             }
            ],
            "label": "3%",
            "method": "update"
           },
           {
            "args": [
             {
              "visible": [
               false,
               false,
               false,
               false,
               true,
               false,
               false,
               false,
               false,
               false,
               false,
               false,
               false,
               false,
               false,
               false,
               false,
               false,
               false,
               false,
               false,
               false,
               false,
               false,
               false,
               false,
               false,
               false,
               false,
               false,
               false,
               false,
               false,
               false,
               false,
               false,
               false,
               false,
               false,
               false,
               false
              ]
             },
             {
              "title": "Bias Scores for 22 Models at Threshold:4%"
             }
            ],
            "label": "4%",
            "method": "update"
           },
           {
            "args": [
             {
              "visible": [
               false,
               false,
               false,
               false,
               false,
               true,
               false,
               false,
               false,
               false,
               false,
               false,
               false,
               false,
               false,
               false,
               false,
               false,
               false,
               false,
               false,
               false,
               false,
               false,
               false,
               false,
               false,
               false,
               false,
               false,
               false,
               false,
               false,
               false,
               false,
               false,
               false,
               false,
               false,
               false,
               false
              ]
             },
             {
              "title": "Bias Scores for 22 Models at Threshold:5%"
             }
            ],
            "label": "5%",
            "method": "update"
           },
           {
            "args": [
             {
              "visible": [
               false,
               false,
               false,
               false,
               false,
               false,
               true,
               false,
               false,
               false,
               false,
               false,
               false,
               false,
               false,
               false,
               false,
               false,
               false,
               false,
               false,
               false,
               false,
               false,
               false,
               false,
               false,
               false,
               false,
               false,
               false,
               false,
               false,
               false,
               false,
               false,
               false,
               false,
               false,
               false,
               false
              ]
             },
             {
              "title": "Bias Scores for 22 Models at Threshold:6%"
             }
            ],
            "label": "6%",
            "method": "update"
           },
           {
            "args": [
             {
              "visible": [
               false,
               false,
               false,
               false,
               false,
               false,
               false,
               true,
               false,
               false,
               false,
               false,
               false,
               false,
               false,
               false,
               false,
               false,
               false,
               false,
               false,
               false,
               false,
               false,
               false,
               false,
               false,
               false,
               false,
               false,
               false,
               false,
               false,
               false,
               false,
               false,
               false,
               false,
               false,
               false,
               false
              ]
             },
             {
              "title": "Bias Scores for 22 Models at Threshold:7%"
             }
            ],
            "label": "7%",
            "method": "update"
           },
           {
            "args": [
             {
              "visible": [
               false,
               false,
               false,
               false,
               false,
               false,
               false,
               false,
               true,
               false,
               false,
               false,
               false,
               false,
               false,
               false,
               false,
               false,
               false,
               false,
               false,
               false,
               false,
               false,
               false,
               false,
               false,
               false,
               false,
               false,
               false,
               false,
               false,
               false,
               false,
               false,
               false,
               false,
               false,
               false,
               false
              ]
             },
             {
              "title": "Bias Scores for 22 Models at Threshold:8%"
             }
            ],
            "label": "8%",
            "method": "update"
           },
           {
            "args": [
             {
              "visible": [
               false,
               false,
               false,
               false,
               false,
               false,
               false,
               false,
               false,
               true,
               false,
               false,
               false,
               false,
               false,
               false,
               false,
               false,
               false,
               false,
               false,
               false,
               false,
               false,
               false,
               false,
               false,
               false,
               false,
               false,
               false,
               false,
               false,
               false,
               false,
               false,
               false,
               false,
               false,
               false,
               false
              ]
             },
             {
              "title": "Bias Scores for 22 Models at Threshold:9%"
             }
            ],
            "label": "9%",
            "method": "update"
           },
           {
            "args": [
             {
              "visible": [
               false,
               false,
               false,
               false,
               false,
               false,
               false,
               false,
               false,
               false,
               true,
               false,
               false,
               false,
               false,
               false,
               false,
               false,
               false,
               false,
               false,
               false,
               false,
               false,
               false,
               false,
               false,
               false,
               false,
               false,
               false,
               false,
               false,
               false,
               false,
               false,
               false,
               false,
               false,
               false,
               false
              ]
             },
             {
              "title": "Bias Scores for 22 Models at Threshold:10%"
             }
            ],
            "label": "10%",
            "method": "update"
           },
           {
            "args": [
             {
              "visible": [
               false,
               false,
               false,
               false,
               false,
               false,
               false,
               false,
               false,
               false,
               false,
               true,
               false,
               false,
               false,
               false,
               false,
               false,
               false,
               false,
               false,
               false,
               false,
               false,
               false,
               false,
               false,
               false,
               false,
               false,
               false,
               false,
               false,
               false,
               false,
               false,
               false,
               false,
               false,
               false,
               false
              ]
             },
             {
              "title": "Bias Scores for 22 Models at Threshold:11%"
             }
            ],
            "label": "11%",
            "method": "update"
           },
           {
            "args": [
             {
              "visible": [
               false,
               false,
               false,
               false,
               false,
               false,
               false,
               false,
               false,
               false,
               false,
               false,
               true,
               false,
               false,
               false,
               false,
               false,
               false,
               false,
               false,
               false,
               false,
               false,
               false,
               false,
               false,
               false,
               false,
               false,
               false,
               false,
               false,
               false,
               false,
               false,
               false,
               false,
               false,
               false,
               false
              ]
             },
             {
              "title": "Bias Scores for 22 Models at Threshold:12%"
             }
            ],
            "label": "12%",
            "method": "update"
           },
           {
            "args": [
             {
              "visible": [
               false,
               false,
               false,
               false,
               false,
               false,
               false,
               false,
               false,
               false,
               false,
               false,
               false,
               true,
               false,
               false,
               false,
               false,
               false,
               false,
               false,
               false,
               false,
               false,
               false,
               false,
               false,
               false,
               false,
               false,
               false,
               false,
               false,
               false,
               false,
               false,
               false,
               false,
               false,
               false,
               false
              ]
             },
             {
              "title": "Bias Scores for 22 Models at Threshold:13%"
             }
            ],
            "label": "13%",
            "method": "update"
           },
           {
            "args": [
             {
              "visible": [
               false,
               false,
               false,
               false,
               false,
               false,
               false,
               false,
               false,
               false,
               false,
               false,
               false,
               false,
               true,
               false,
               false,
               false,
               false,
               false,
               false,
               false,
               false,
               false,
               false,
               false,
               false,
               false,
               false,
               false,
               false,
               false,
               false,
               false,
               false,
               false,
               false,
               false,
               false,
               false,
               false
              ]
             },
             {
              "title": "Bias Scores for 22 Models at Threshold:14%"
             }
            ],
            "label": "14%",
            "method": "update"
           },
           {
            "args": [
             {
              "visible": [
               false,
               false,
               false,
               false,
               false,
               false,
               false,
               false,
               false,
               false,
               false,
               false,
               false,
               false,
               false,
               true,
               false,
               false,
               false,
               false,
               false,
               false,
               false,
               false,
               false,
               false,
               false,
               false,
               false,
               false,
               false,
               false,
               false,
               false,
               false,
               false,
               false,
               false,
               false,
               false,
               false
              ]
             },
             {
              "title": "Bias Scores for 22 Models at Threshold:15%"
             }
            ],
            "label": "15%",
            "method": "update"
           },
           {
            "args": [
             {
              "visible": [
               false,
               false,
               false,
               false,
               false,
               false,
               false,
               false,
               false,
               false,
               false,
               false,
               false,
               false,
               false,
               false,
               true,
               false,
               false,
               false,
               false,
               false,
               false,
               false,
               false,
               false,
               false,
               false,
               false,
               false,
               false,
               false,
               false,
               false,
               false,
               false,
               false,
               false,
               false,
               false,
               false
              ]
             },
             {
              "title": "Bias Scores for 22 Models at Threshold:16%"
             }
            ],
            "label": "16%",
            "method": "update"
           },
           {
            "args": [
             {
              "visible": [
               false,
               false,
               false,
               false,
               false,
               false,
               false,
               false,
               false,
               false,
               false,
               false,
               false,
               false,
               false,
               false,
               false,
               true,
               false,
               false,
               false,
               false,
               false,
               false,
               false,
               false,
               false,
               false,
               false,
               false,
               false,
               false,
               false,
               false,
               false,
               false,
               false,
               false,
               false,
               false,
               false
              ]
             },
             {
              "title": "Bias Scores for 22 Models at Threshold:17%"
             }
            ],
            "label": "17%",
            "method": "update"
           },
           {
            "args": [
             {
              "visible": [
               false,
               false,
               false,
               false,
               false,
               false,
               false,
               false,
               false,
               false,
               false,
               false,
               false,
               false,
               false,
               false,
               false,
               false,
               true,
               false,
               false,
               false,
               false,
               false,
               false,
               false,
               false,
               false,
               false,
               false,
               false,
               false,
               false,
               false,
               false,
               false,
               false,
               false,
               false,
               false,
               false
              ]
             },
             {
              "title": "Bias Scores for 22 Models at Threshold:18%"
             }
            ],
            "label": "18%",
            "method": "update"
           },
           {
            "args": [
             {
              "visible": [
               false,
               false,
               false,
               false,
               false,
               false,
               false,
               false,
               false,
               false,
               false,
               false,
               false,
               false,
               false,
               false,
               false,
               false,
               false,
               true,
               false,
               false,
               false,
               false,
               false,
               false,
               false,
               false,
               false,
               false,
               false,
               false,
               false,
               false,
               false,
               false,
               false,
               false,
               false,
               false,
               false
              ]
             },
             {
              "title": "Bias Scores for 22 Models at Threshold:19%"
             }
            ],
            "label": "19%",
            "method": "update"
           },
           {
            "args": [
             {
              "visible": [
               false,
               false,
               false,
               false,
               false,
               false,
               false,
               false,
               false,
               false,
               false,
               false,
               false,
               false,
               false,
               false,
               false,
               false,
               false,
               false,
               true,
               false,
               false,
               false,
               false,
               false,
               false,
               false,
               false,
               false,
               false,
               false,
               false,
               false,
               false,
               false,
               false,
               false,
               false,
               false,
               false
              ]
             },
             {
              "title": "Bias Scores for 22 Models at Threshold:20%"
             }
            ],
            "label": "20%",
            "method": "update"
           },
           {
            "args": [
             {
              "visible": [
               false,
               false,
               false,
               false,
               false,
               false,
               false,
               false,
               false,
               false,
               false,
               false,
               false,
               false,
               false,
               false,
               false,
               false,
               false,
               false,
               false,
               true,
               false,
               false,
               false,
               false,
               false,
               false,
               false,
               false,
               false,
               false,
               false,
               false,
               false,
               false,
               false,
               false,
               false,
               false,
               false
              ]
             },
             {
              "title": "Bias Scores for 22 Models at Threshold:21%"
             }
            ],
            "label": "21%",
            "method": "update"
           },
           {
            "args": [
             {
              "visible": [
               false,
               false,
               false,
               false,
               false,
               false,
               false,
               false,
               false,
               false,
               false,
               false,
               false,
               false,
               false,
               false,
               false,
               false,
               false,
               false,
               false,
               false,
               true,
               false,
               false,
               false,
               false,
               false,
               false,
               false,
               false,
               false,
               false,
               false,
               false,
               false,
               false,
               false,
               false,
               false,
               false
              ]
             },
             {
              "title": "Bias Scores for 22 Models at Threshold:22%"
             }
            ],
            "label": "22%",
            "method": "update"
           },
           {
            "args": [
             {
              "visible": [
               false,
               false,
               false,
               false,
               false,
               false,
               false,
               false,
               false,
               false,
               false,
               false,
               false,
               false,
               false,
               false,
               false,
               false,
               false,
               false,
               false,
               false,
               false,
               true,
               false,
               false,
               false,
               false,
               false,
               false,
               false,
               false,
               false,
               false,
               false,
               false,
               false,
               false,
               false,
               false,
               false
              ]
             },
             {
              "title": "Bias Scores for 22 Models at Threshold:23%"
             }
            ],
            "label": "23%",
            "method": "update"
           },
           {
            "args": [
             {
              "visible": [
               false,
               false,
               false,
               false,
               false,
               false,
               false,
               false,
               false,
               false,
               false,
               false,
               false,
               false,
               false,
               false,
               false,
               false,
               false,
               false,
               false,
               false,
               false,
               false,
               true,
               false,
               false,
               false,
               false,
               false,
               false,
               false,
               false,
               false,
               false,
               false,
               false,
               false,
               false,
               false,
               false
              ]
             },
             {
              "title": "Bias Scores for 22 Models at Threshold:24%"
             }
            ],
            "label": "24%",
            "method": "update"
           },
           {
            "args": [
             {
              "visible": [
               false,
               false,
               false,
               false,
               false,
               false,
               false,
               false,
               false,
               false,
               false,
               false,
               false,
               false,
               false,
               false,
               false,
               false,
               false,
               false,
               false,
               false,
               false,
               false,
               false,
               true,
               false,
               false,
               false,
               false,
               false,
               false,
               false,
               false,
               false,
               false,
               false,
               false,
               false,
               false,
               false
              ]
             },
             {
              "title": "Bias Scores for 22 Models at Threshold:25%"
             }
            ],
            "label": "25%",
            "method": "update"
           },
           {
            "args": [
             {
              "visible": [
               false,
               false,
               false,
               false,
               false,
               false,
               false,
               false,
               false,
               false,
               false,
               false,
               false,
               false,
               false,
               false,
               false,
               false,
               false,
               false,
               false,
               false,
               false,
               false,
               false,
               false,
               true,
               false,
               false,
               false,
               false,
               false,
               false,
               false,
               false,
               false,
               false,
               false,
               false,
               false,
               false
              ]
             },
             {
              "title": "Bias Scores for 22 Models at Threshold:26%"
             }
            ],
            "label": "26%",
            "method": "update"
           },
           {
            "args": [
             {
              "visible": [
               false,
               false,
               false,
               false,
               false,
               false,
               false,
               false,
               false,
               false,
               false,
               false,
               false,
               false,
               false,
               false,
               false,
               false,
               false,
               false,
               false,
               false,
               false,
               false,
               false,
               false,
               false,
               true,
               false,
               false,
               false,
               false,
               false,
               false,
               false,
               false,
               false,
               false,
               false,
               false,
               false
              ]
             },
             {
              "title": "Bias Scores for 22 Models at Threshold:27%"
             }
            ],
            "label": "27%",
            "method": "update"
           },
           {
            "args": [
             {
              "visible": [
               false,
               false,
               false,
               false,
               false,
               false,
               false,
               false,
               false,
               false,
               false,
               false,
               false,
               false,
               false,
               false,
               false,
               false,
               false,
               false,
               false,
               false,
               false,
               false,
               false,
               false,
               false,
               false,
               true,
               false,
               false,
               false,
               false,
               false,
               false,
               false,
               false,
               false,
               false,
               false,
               false
              ]
             },
             {
              "title": "Bias Scores for 22 Models at Threshold:28%"
             }
            ],
            "label": "28%",
            "method": "update"
           },
           {
            "args": [
             {
              "visible": [
               false,
               false,
               false,
               false,
               false,
               false,
               false,
               false,
               false,
               false,
               false,
               false,
               false,
               false,
               false,
               false,
               false,
               false,
               false,
               false,
               false,
               false,
               false,
               false,
               false,
               false,
               false,
               false,
               false,
               true,
               false,
               false,
               false,
               false,
               false,
               false,
               false,
               false,
               false,
               false,
               false
              ]
             },
             {
              "title": "Bias Scores for 22 Models at Threshold:29%"
             }
            ],
            "label": "29%",
            "method": "update"
           },
           {
            "args": [
             {
              "visible": [
               false,
               false,
               false,
               false,
               false,
               false,
               false,
               false,
               false,
               false,
               false,
               false,
               false,
               false,
               false,
               false,
               false,
               false,
               false,
               false,
               false,
               false,
               false,
               false,
               false,
               false,
               false,
               false,
               false,
               false,
               true,
               false,
               false,
               false,
               false,
               false,
               false,
               false,
               false,
               false,
               false
              ]
             },
             {
              "title": "Bias Scores for 22 Models at Threshold:30%"
             }
            ],
            "label": "30%",
            "method": "update"
           },
           {
            "args": [
             {
              "visible": [
               false,
               false,
               false,
               false,
               false,
               false,
               false,
               false,
               false,
               false,
               false,
               false,
               false,
               false,
               false,
               false,
               false,
               false,
               false,
               false,
               false,
               false,
               false,
               false,
               false,
               false,
               false,
               false,
               false,
               false,
               false,
               true,
               false,
               false,
               false,
               false,
               false,
               false,
               false,
               false,
               false
              ]
             },
             {
              "title": "Bias Scores for 22 Models at Threshold:31%"
             }
            ],
            "label": "31%",
            "method": "update"
           },
           {
            "args": [
             {
              "visible": [
               false,
               false,
               false,
               false,
               false,
               false,
               false,
               false,
               false,
               false,
               false,
               false,
               false,
               false,
               false,
               false,
               false,
               false,
               false,
               false,
               false,
               false,
               false,
               false,
               false,
               false,
               false,
               false,
               false,
               false,
               false,
               false,
               true,
               false,
               false,
               false,
               false,
               false,
               false,
               false,
               false
              ]
             },
             {
              "title": "Bias Scores for 22 Models at Threshold:32%"
             }
            ],
            "label": "32%",
            "method": "update"
           },
           {
            "args": [
             {
              "visible": [
               false,
               false,
               false,
               false,
               false,
               false,
               false,
               false,
               false,
               false,
               false,
               false,
               false,
               false,
               false,
               false,
               false,
               false,
               false,
               false,
               false,
               false,
               false,
               false,
               false,
               false,
               false,
               false,
               false,
               false,
               false,
               false,
               false,
               true,
               false,
               false,
               false,
               false,
               false,
               false,
               false
              ]
             },
             {
              "title": "Bias Scores for 22 Models at Threshold:33%"
             }
            ],
            "label": "33%",
            "method": "update"
           },
           {
            "args": [
             {
              "visible": [
               false,
               false,
               false,
               false,
               false,
               false,
               false,
               false,
               false,
               false,
               false,
               false,
               false,
               false,
               false,
               false,
               false,
               false,
               false,
               false,
               false,
               false,
               false,
               false,
               false,
               false,
               false,
               false,
               false,
               false,
               false,
               false,
               false,
               false,
               true,
               false,
               false,
               false,
               false,
               false,
               false
              ]
             },
             {
              "title": "Bias Scores for 22 Models at Threshold:34%"
             }
            ],
            "label": "34%",
            "method": "update"
           },
           {
            "args": [
             {
              "visible": [
               false,
               false,
               false,
               false,
               false,
               false,
               false,
               false,
               false,
               false,
               false,
               false,
               false,
               false,
               false,
               false,
               false,
               false,
               false,
               false,
               false,
               false,
               false,
               false,
               false,
               false,
               false,
               false,
               false,
               false,
               false,
               false,
               false,
               false,
               false,
               true,
               false,
               false,
               false,
               false,
               false
              ]
             },
             {
              "title": "Bias Scores for 22 Models at Threshold:35%"
             }
            ],
            "label": "35%",
            "method": "update"
           },
           {
            "args": [
             {
              "visible": [
               false,
               false,
               false,
               false,
               false,
               false,
               false,
               false,
               false,
               false,
               false,
               false,
               false,
               false,
               false,
               false,
               false,
               false,
               false,
               false,
               false,
               false,
               false,
               false,
               false,
               false,
               false,
               false,
               false,
               false,
               false,
               false,
               false,
               false,
               false,
               false,
               true,
               false,
               false,
               false,
               false
              ]
             },
             {
              "title": "Bias Scores for 22 Models at Threshold:36%"
             }
            ],
            "label": "36%",
            "method": "update"
           },
           {
            "args": [
             {
              "visible": [
               false,
               false,
               false,
               false,
               false,
               false,
               false,
               false,
               false,
               false,
               false,
               false,
               false,
               false,
               false,
               false,
               false,
               false,
               false,
               false,
               false,
               false,
               false,
               false,
               false,
               false,
               false,
               false,
               false,
               false,
               false,
               false,
               false,
               false,
               false,
               false,
               false,
               true,
               false,
               false,
               false
              ]
             },
             {
              "title": "Bias Scores for 22 Models at Threshold:37%"
             }
            ],
            "label": "37%",
            "method": "update"
           },
           {
            "args": [
             {
              "visible": [
               false,
               false,
               false,
               false,
               false,
               false,
               false,
               false,
               false,
               false,
               false,
               false,
               false,
               false,
               false,
               false,
               false,
               false,
               false,
               false,
               false,
               false,
               false,
               false,
               false,
               false,
               false,
               false,
               false,
               false,
               false,
               false,
               false,
               false,
               false,
               false,
               false,
               false,
               true,
               false,
               false
              ]
             },
             {
              "title": "Bias Scores for 22 Models at Threshold:38%"
             }
            ],
            "label": "38%",
            "method": "update"
           },
           {
            "args": [
             {
              "visible": [
               false,
               false,
               false,
               false,
               false,
               false,
               false,
               false,
               false,
               false,
               false,
               false,
               false,
               false,
               false,
               false,
               false,
               false,
               false,
               false,
               false,
               false,
               false,
               false,
               false,
               false,
               false,
               false,
               false,
               false,
               false,
               false,
               false,
               false,
               false,
               false,
               false,
               false,
               false,
               true,
               false
              ]
             },
             {
              "title": "Bias Scores for 22 Models at Threshold:39%"
             }
            ],
            "label": "39%",
            "method": "update"
           },
           {
            "args": [
             {
              "visible": [
               false,
               false,
               false,
               false,
               false,
               false,
               false,
               false,
               false,
               false,
               false,
               false,
               false,
               false,
               false,
               false,
               false,
               false,
               false,
               false,
               false,
               false,
               false,
               false,
               false,
               false,
               false,
               false,
               false,
               false,
               false,
               false,
               false,
               false,
               false,
               false,
               false,
               false,
               false,
               false,
               true
              ]
             },
             {
              "title": "Bias Scores for 22 Models at Threshold:40%"
             }
            ],
            "label": "40%",
            "method": "update"
           }
          ]
         }
        ],
        "template": {
         "data": {
          "bar": [
           {
            "error_x": {
             "color": "#2a3f5f"
            },
            "error_y": {
             "color": "#2a3f5f"
            },
            "marker": {
             "line": {
              "color": "#E5ECF6",
              "width": 0.5
             },
             "pattern": {
              "fillmode": "overlay",
              "size": 10,
              "solidity": 0.2
             }
            },
            "type": "bar"
           }
          ],
          "barpolar": [
           {
            "marker": {
             "line": {
              "color": "#E5ECF6",
              "width": 0.5
             },
             "pattern": {
              "fillmode": "overlay",
              "size": 10,
              "solidity": 0.2
             }
            },
            "type": "barpolar"
           }
          ],
          "carpet": [
           {
            "aaxis": {
             "endlinecolor": "#2a3f5f",
             "gridcolor": "white",
             "linecolor": "white",
             "minorgridcolor": "white",
             "startlinecolor": "#2a3f5f"
            },
            "baxis": {
             "endlinecolor": "#2a3f5f",
             "gridcolor": "white",
             "linecolor": "white",
             "minorgridcolor": "white",
             "startlinecolor": "#2a3f5f"
            },
            "type": "carpet"
           }
          ],
          "choropleth": [
           {
            "colorbar": {
             "outlinewidth": 0,
             "ticks": ""
            },
            "type": "choropleth"
           }
          ],
          "contour": [
           {
            "colorbar": {
             "outlinewidth": 0,
             "ticks": ""
            },
            "colorscale": [
             [
              0,
              "#0d0887"
             ],
             [
              0.1111111111111111,
              "#46039f"
             ],
             [
              0.2222222222222222,
              "#7201a8"
             ],
             [
              0.3333333333333333,
              "#9c179e"
             ],
             [
              0.4444444444444444,
              "#bd3786"
             ],
             [
              0.5555555555555556,
              "#d8576b"
             ],
             [
              0.6666666666666666,
              "#ed7953"
             ],
             [
              0.7777777777777778,
              "#fb9f3a"
             ],
             [
              0.8888888888888888,
              "#fdca26"
             ],
             [
              1,
              "#f0f921"
             ]
            ],
            "type": "contour"
           }
          ],
          "contourcarpet": [
           {
            "colorbar": {
             "outlinewidth": 0,
             "ticks": ""
            },
            "type": "contourcarpet"
           }
          ],
          "heatmap": [
           {
            "colorbar": {
             "outlinewidth": 0,
             "ticks": ""
            },
            "colorscale": [
             [
              0,
              "#0d0887"
             ],
             [
              0.1111111111111111,
              "#46039f"
             ],
             [
              0.2222222222222222,
              "#7201a8"
             ],
             [
              0.3333333333333333,
              "#9c179e"
             ],
             [
              0.4444444444444444,
              "#bd3786"
             ],
             [
              0.5555555555555556,
              "#d8576b"
             ],
             [
              0.6666666666666666,
              "#ed7953"
             ],
             [
              0.7777777777777778,
              "#fb9f3a"
             ],
             [
              0.8888888888888888,
              "#fdca26"
             ],
             [
              1,
              "#f0f921"
             ]
            ],
            "type": "heatmap"
           }
          ],
          "heatmapgl": [
           {
            "colorbar": {
             "outlinewidth": 0,
             "ticks": ""
            },
            "colorscale": [
             [
              0,
              "#0d0887"
             ],
             [
              0.1111111111111111,
              "#46039f"
             ],
             [
              0.2222222222222222,
              "#7201a8"
             ],
             [
              0.3333333333333333,
              "#9c179e"
             ],
             [
              0.4444444444444444,
              "#bd3786"
             ],
             [
              0.5555555555555556,
              "#d8576b"
             ],
             [
              0.6666666666666666,
              "#ed7953"
             ],
             [
              0.7777777777777778,
              "#fb9f3a"
             ],
             [
              0.8888888888888888,
              "#fdca26"
             ],
             [
              1,
              "#f0f921"
             ]
            ],
            "type": "heatmapgl"
           }
          ],
          "histogram": [
           {
            "marker": {
             "pattern": {
              "fillmode": "overlay",
              "size": 10,
              "solidity": 0.2
             }
            },
            "type": "histogram"
           }
          ],
          "histogram2d": [
           {
            "colorbar": {
             "outlinewidth": 0,
             "ticks": ""
            },
            "colorscale": [
             [
              0,
              "#0d0887"
             ],
             [
              0.1111111111111111,
              "#46039f"
             ],
             [
              0.2222222222222222,
              "#7201a8"
             ],
             [
              0.3333333333333333,
              "#9c179e"
             ],
             [
              0.4444444444444444,
              "#bd3786"
             ],
             [
              0.5555555555555556,
              "#d8576b"
             ],
             [
              0.6666666666666666,
              "#ed7953"
             ],
             [
              0.7777777777777778,
              "#fb9f3a"
             ],
             [
              0.8888888888888888,
              "#fdca26"
             ],
             [
              1,
              "#f0f921"
             ]
            ],
            "type": "histogram2d"
           }
          ],
          "histogram2dcontour": [
           {
            "colorbar": {
             "outlinewidth": 0,
             "ticks": ""
            },
            "colorscale": [
             [
              0,
              "#0d0887"
             ],
             [
              0.1111111111111111,
              "#46039f"
             ],
             [
              0.2222222222222222,
              "#7201a8"
             ],
             [
              0.3333333333333333,
              "#9c179e"
             ],
             [
              0.4444444444444444,
              "#bd3786"
             ],
             [
              0.5555555555555556,
              "#d8576b"
             ],
             [
              0.6666666666666666,
              "#ed7953"
             ],
             [
              0.7777777777777778,
              "#fb9f3a"
             ],
             [
              0.8888888888888888,
              "#fdca26"
             ],
             [
              1,
              "#f0f921"
             ]
            ],
            "type": "histogram2dcontour"
           }
          ],
          "mesh3d": [
           {
            "colorbar": {
             "outlinewidth": 0,
             "ticks": ""
            },
            "type": "mesh3d"
           }
          ],
          "parcoords": [
           {
            "line": {
             "colorbar": {
              "outlinewidth": 0,
              "ticks": ""
             }
            },
            "type": "parcoords"
           }
          ],
          "pie": [
           {
            "automargin": true,
            "type": "pie"
           }
          ],
          "scatter": [
           {
            "marker": {
             "colorbar": {
              "outlinewidth": 0,
              "ticks": ""
             }
            },
            "type": "scatter"
           }
          ],
          "scatter3d": [
           {
            "line": {
             "colorbar": {
              "outlinewidth": 0,
              "ticks": ""
             }
            },
            "marker": {
             "colorbar": {
              "outlinewidth": 0,
              "ticks": ""
             }
            },
            "type": "scatter3d"
           }
          ],
          "scattercarpet": [
           {
            "marker": {
             "colorbar": {
              "outlinewidth": 0,
              "ticks": ""
             }
            },
            "type": "scattercarpet"
           }
          ],
          "scattergeo": [
           {
            "marker": {
             "colorbar": {
              "outlinewidth": 0,
              "ticks": ""
             }
            },
            "type": "scattergeo"
           }
          ],
          "scattergl": [
           {
            "marker": {
             "colorbar": {
              "outlinewidth": 0,
              "ticks": ""
             }
            },
            "type": "scattergl"
           }
          ],
          "scattermapbox": [
           {
            "marker": {
             "colorbar": {
              "outlinewidth": 0,
              "ticks": ""
             }
            },
            "type": "scattermapbox"
           }
          ],
          "scatterpolar": [
           {
            "marker": {
             "colorbar": {
              "outlinewidth": 0,
              "ticks": ""
             }
            },
            "type": "scatterpolar"
           }
          ],
          "scatterpolargl": [
           {
            "marker": {
             "colorbar": {
              "outlinewidth": 0,
              "ticks": ""
             }
            },
            "type": "scatterpolargl"
           }
          ],
          "scatterternary": [
           {
            "marker": {
             "colorbar": {
              "outlinewidth": 0,
              "ticks": ""
             }
            },
            "type": "scatterternary"
           }
          ],
          "surface": [
           {
            "colorbar": {
             "outlinewidth": 0,
             "ticks": ""
            },
            "colorscale": [
             [
              0,
              "#0d0887"
             ],
             [
              0.1111111111111111,
              "#46039f"
             ],
             [
              0.2222222222222222,
              "#7201a8"
             ],
             [
              0.3333333333333333,
              "#9c179e"
             ],
             [
              0.4444444444444444,
              "#bd3786"
             ],
             [
              0.5555555555555556,
              "#d8576b"
             ],
             [
              0.6666666666666666,
              "#ed7953"
             ],
             [
              0.7777777777777778,
              "#fb9f3a"
             ],
             [
              0.8888888888888888,
              "#fdca26"
             ],
             [
              1,
              "#f0f921"
             ]
            ],
            "type": "surface"
           }
          ],
          "table": [
           {
            "cells": {
             "fill": {
              "color": "#EBF0F8"
             },
             "line": {
              "color": "white"
             }
            },
            "header": {
             "fill": {
              "color": "#C8D4E3"
             },
             "line": {
              "color": "white"
             }
            },
            "type": "table"
           }
          ]
         },
         "layout": {
          "annotationdefaults": {
           "arrowcolor": "#2a3f5f",
           "arrowhead": 0,
           "arrowwidth": 1
          },
          "autotypenumbers": "strict",
          "coloraxis": {
           "colorbar": {
            "outlinewidth": 0,
            "ticks": ""
           }
          },
          "colorscale": {
           "diverging": [
            [
             0,
             "#8e0152"
            ],
            [
             0.1,
             "#c51b7d"
            ],
            [
             0.2,
             "#de77ae"
            ],
            [
             0.3,
             "#f1b6da"
            ],
            [
             0.4,
             "#fde0ef"
            ],
            [
             0.5,
             "#f7f7f7"
            ],
            [
             0.6,
             "#e6f5d0"
            ],
            [
             0.7,
             "#b8e186"
            ],
            [
             0.8,
             "#7fbc41"
            ],
            [
             0.9,
             "#4d9221"
            ],
            [
             1,
             "#276419"
            ]
           ],
           "sequential": [
            [
             0,
             "#0d0887"
            ],
            [
             0.1111111111111111,
             "#46039f"
            ],
            [
             0.2222222222222222,
             "#7201a8"
            ],
            [
             0.3333333333333333,
             "#9c179e"
            ],
            [
             0.4444444444444444,
             "#bd3786"
            ],
            [
             0.5555555555555556,
             "#d8576b"
            ],
            [
             0.6666666666666666,
             "#ed7953"
            ],
            [
             0.7777777777777778,
             "#fb9f3a"
            ],
            [
             0.8888888888888888,
             "#fdca26"
            ],
            [
             1,
             "#f0f921"
            ]
           ],
           "sequentialminus": [
            [
             0,
             "#0d0887"
            ],
            [
             0.1111111111111111,
             "#46039f"
            ],
            [
             0.2222222222222222,
             "#7201a8"
            ],
            [
             0.3333333333333333,
             "#9c179e"
            ],
            [
             0.4444444444444444,
             "#bd3786"
            ],
            [
             0.5555555555555556,
             "#d8576b"
            ],
            [
             0.6666666666666666,
             "#ed7953"
            ],
            [
             0.7777777777777778,
             "#fb9f3a"
            ],
            [
             0.8888888888888888,
             "#fdca26"
            ],
            [
             1,
             "#f0f921"
            ]
           ]
          },
          "colorway": [
           "#636efa",
           "#EF553B",
           "#00cc96",
           "#ab63fa",
           "#FFA15A",
           "#19d3f3",
           "#FF6692",
           "#B6E880",
           "#FF97FF",
           "#FECB52"
          ],
          "font": {
           "color": "#2a3f5f"
          },
          "geo": {
           "bgcolor": "white",
           "lakecolor": "white",
           "landcolor": "#E5ECF6",
           "showlakes": true,
           "showland": true,
           "subunitcolor": "white"
          },
          "hoverlabel": {
           "align": "left"
          },
          "hovermode": "closest",
          "mapbox": {
           "style": "light"
          },
          "paper_bgcolor": "white",
          "plot_bgcolor": "#E5ECF6",
          "polar": {
           "angularaxis": {
            "gridcolor": "white",
            "linecolor": "white",
            "ticks": ""
           },
           "bgcolor": "#E5ECF6",
           "radialaxis": {
            "gridcolor": "white",
            "linecolor": "white",
            "ticks": ""
           }
          },
          "scene": {
           "xaxis": {
            "backgroundcolor": "#E5ECF6",
            "gridcolor": "white",
            "gridwidth": 2,
            "linecolor": "white",
            "showbackground": true,
            "ticks": "",
            "zerolinecolor": "white"
           },
           "yaxis": {
            "backgroundcolor": "#E5ECF6",
            "gridcolor": "white",
            "gridwidth": 2,
            "linecolor": "white",
            "showbackground": true,
            "ticks": "",
            "zerolinecolor": "white"
           },
           "zaxis": {
            "backgroundcolor": "#E5ECF6",
            "gridcolor": "white",
            "gridwidth": 2,
            "linecolor": "white",
            "showbackground": true,
            "ticks": "",
            "zerolinecolor": "white"
           }
          },
          "shapedefaults": {
           "line": {
            "color": "#2a3f5f"
           }
          },
          "ternary": {
           "aaxis": {
            "gridcolor": "white",
            "linecolor": "white",
            "ticks": ""
           },
           "baxis": {
            "gridcolor": "white",
            "linecolor": "white",
            "ticks": ""
           },
           "bgcolor": "#E5ECF6",
           "caxis": {
            "gridcolor": "white",
            "linecolor": "white",
            "ticks": ""
           }
          },
          "title": {
           "x": 0.05
          },
          "xaxis": {
           "automargin": true,
           "gridcolor": "white",
           "linecolor": "white",
           "ticks": "",
           "title": {
            "standoff": 15
           },
           "zerolinecolor": "white",
           "zerolinewidth": 2
          },
          "yaxis": {
           "automargin": true,
           "gridcolor": "white",
           "linecolor": "white",
           "ticks": "",
           "title": {
            "standoff": 15
           },
           "zerolinecolor": "white",
           "zerolinewidth": 2
          }
         }
        },
        "title": {
         "text": "Bias Scores for 22 Models at Various Thresholds"
        },
        "xaxis": {
         "title": {
          "text": "Language Models"
         }
        },
        "yaxis": {
         "range": [
          0,
          1
         ],
         "tickformat": ".0%",
         "title": {
          "text": "Scores"
         }
        }
       }
      },
      "text/html": [
       "<div>                            <div id=\"c34a339b-6c9a-4d90-bed9-03270cd9b3db\" class=\"plotly-graph-div\" style=\"height:525px; width:100%;\"></div>            <script type=\"text/javascript\">                require([\"plotly\"], function(Plotly) {                    window.PLOTLYENV=window.PLOTLYENV || {};                                    if (document.getElementById(\"c34a339b-6c9a-4d90-bed9-03270cd9b3db\")) {                    Plotly.newPlot(                        \"c34a339b-6c9a-4d90-bed9-03270cd9b3db\",                        [{\"name\":\"Score at Threshold 0.0\",\"visible\":false,\"x\":[\"BERT Base (cased)\",\"BERT Base (uncased)\",\"BERT Large (uncased)\",\"BERT Large (cased)\",\"Multilingual BERT (uncased)\",\"Multilingual BERT (cased)\",\"SciBERT\",\"Bio + Clinical BERT\",\"PubMed BERT\",\"Legal BERT\",\"Hate BERT\",\"BERT for Patents\",\"Security BERT\",\"AlBERT (v1)\",\"AlBERT (v2)\",\"RoBERTa Base\",\"Distilled RoBERTa Base\",\"RoBERTa Large\",\"Code RoBERTa\",\"Climate RoBERTa Base (distilled)\",\"Multilingual RoBERTa\",\"Distilled Multilingual BERT (cased)\"],\"y\":[0.5504,0.6001,0.5928,0.5670000000000001,0.5531,0.5285,0.5782,0.5245000000000001,0.5524,0.5809000000000001,0.5743,0.5172,0.5166,0.5861999999999999,0.5743,0.5318,0.5490999999999999,0.6093999999999999,0.4549,0.5477000000000001,0.5186,0.5106],\"type\":\"bar\"},{\"name\":\"Score at Threshold 1.0\",\"visible\":true,\"x\":[\"BERT Base (cased)\",\"BERT Base (uncased)\",\"BERT Large (uncased)\",\"BERT Large (cased)\",\"Multilingual BERT (uncased)\",\"Multilingual BERT (cased)\",\"SciBERT\",\"Bio + Clinical BERT\",\"PubMed BERT\",\"Legal BERT\",\"Hate BERT\",\"BERT for Patents\",\"Security BERT\",\"AlBERT (v1)\",\"AlBERT (v2)\",\"RoBERTa Base\",\"Distilled RoBERTa Base\",\"RoBERTa Large\",\"Code RoBERTa\",\"Climate RoBERTa Base (distilled)\",\"Multilingual RoBERTa\",\"Distilled Multilingual BERT (cased)\"],\"y\":[0.4768,0.5332,0.5477000000000001,0.498,0.46880000000000005,0.44229999999999997,0.48210000000000003,0.435,0.4403,0.5099,0.5206000000000001,0.42710000000000004,0.4708,0.4629,0.4901,0.48009999999999997,0.4775,0.569,0.3057,0.4523,0.4436,0.3846],\"type\":\"bar\"},{\"name\":\"Score at Threshold 2.0\",\"visible\":false,\"x\":[\"BERT Base (cased)\",\"BERT Base (uncased)\",\"BERT Large (uncased)\",\"BERT Large (cased)\",\"Multilingual BERT (uncased)\",\"Multilingual BERT (cased)\",\"SciBERT\",\"Bio + Clinical BERT\",\"PubMed BERT\",\"Legal BERT\",\"Hate BERT\",\"BERT for Patents\",\"Security BERT\",\"AlBERT (v1)\",\"AlBERT (v2)\",\"RoBERTa Base\",\"Distilled RoBERTa Base\",\"RoBERTa Large\",\"Code RoBERTa\",\"Climate RoBERTa Base (distilled)\",\"Multilingual RoBERTa\",\"Distilled Multilingual BERT (cased)\"],\"y\":[0.4072,0.4715,0.4993,0.4397,0.39390000000000003,0.36210000000000003,0.39990000000000003,0.3627,0.3627,0.43170000000000003,0.4556,0.3481,0.40979999999999994,0.37070000000000003,0.4204,0.4277,0.39659999999999995,0.5239,0.2069,0.37070000000000003,0.3859,0.2832],\"type\":\"bar\"},{\"name\":\"Score at Threshold 3.0\",\"visible\":false,\"x\":[\"BERT Base (cased)\",\"BERT Base (uncased)\",\"BERT Large (uncased)\",\"BERT Large (cased)\",\"Multilingual BERT (uncased)\",\"Multilingual BERT (cased)\",\"SciBERT\",\"Bio + Clinical BERT\",\"PubMed BERT\",\"Legal BERT\",\"Hate BERT\",\"BERT for Patents\",\"Security BERT\",\"AlBERT (v1)\",\"AlBERT (v2)\",\"RoBERTa Base\",\"Distilled RoBERTa Base\",\"RoBERTa Large\",\"Code RoBERTa\",\"Climate RoBERTa Base (distilled)\",\"Multilingual RoBERTa\",\"Distilled Multilingual BERT (cased)\"],\"y\":[0.3488,0.41840000000000005,0.4443,0.382,0.32289999999999996,0.2958,0.3395,0.29109999999999997,0.3024,0.37,0.41509999999999997,0.2964,0.35409999999999997,0.2958,0.34950000000000003,0.374,0.3296,0.4721,0.1313,0.31370000000000003,0.3329,0.2241],\"type\":\"bar\"},{\"name\":\"Score at Threshold 4.0\",\"visible\":false,\"x\":[\"BERT Base (cased)\",\"BERT Base (uncased)\",\"BERT Large (uncased)\",\"BERT Large (cased)\",\"Multilingual BERT (uncased)\",\"Multilingual BERT (cased)\",\"SciBERT\",\"Bio + Clinical BERT\",\"PubMed BERT\",\"Legal BERT\",\"Hate BERT\",\"BERT for Patents\",\"Security BERT\",\"AlBERT (v1)\",\"AlBERT (v2)\",\"RoBERTa Base\",\"Distilled RoBERTa Base\",\"RoBERTa Large\",\"Code RoBERTa\",\"Climate RoBERTa Base (distilled)\",\"Multilingual RoBERTa\",\"Distilled Multilingual BERT (cased)\"],\"y\":[0.3097,0.3667,0.4092,0.3468,0.2732,0.25,0.2779,0.2407,0.2473,0.3223,0.36939999999999995,0.248,0.2984,0.244,0.305,0.3322,0.2792,0.4257,0.0935,0.2566,0.2845,0.1704],\"type\":\"bar\"},{\"name\":\"Score at Threshold 5.0\",\"visible\":false,\"x\":[\"BERT Base (cased)\",\"BERT Base (uncased)\",\"BERT Large (uncased)\",\"BERT Large (cased)\",\"Multilingual BERT (uncased)\",\"Multilingual BERT (cased)\",\"SciBERT\",\"Bio + Clinical BERT\",\"PubMed BERT\",\"Legal BERT\",\"Hate BERT\",\"BERT for Patents\",\"Security BERT\",\"AlBERT (v1)\",\"AlBERT (v2)\",\"RoBERTa Base\",\"Distilled RoBERTa Base\",\"RoBERTa Large\",\"Code RoBERTa\",\"Climate RoBERTa Base (distilled)\",\"Multilingual RoBERTa\",\"Distilled Multilingual BERT (cased)\"],\"y\":[0.2639,0.3243,0.36869999999999997,0.305,0.2341,0.2115,0.23670000000000002,0.2003,0.21489999999999998,0.27449999999999997,0.33020000000000005,0.2076,0.2553,0.2016,0.2606,0.3037,0.2354,0.3859,0.0617,0.2069,0.24600000000000002,0.1373],\"type\":\"bar\"},{\"name\":\"Score at Threshold 6.0\",\"visible\":false,\"x\":[\"BERT Base (cased)\",\"BERT Base (uncased)\",\"BERT Large (uncased)\",\"BERT Large (cased)\",\"Multilingual BERT (uncased)\",\"Multilingual BERT (cased)\",\"SciBERT\",\"Bio + Clinical BERT\",\"PubMed BERT\",\"Legal BERT\",\"Hate BERT\",\"BERT for Patents\",\"Security BERT\",\"AlBERT (v1)\",\"AlBERT (v2)\",\"RoBERTa Base\",\"Distilled RoBERTa Base\",\"RoBERTa Large\",\"Code RoBERTa\",\"Climate RoBERTa Base (distilled)\",\"Multilingual RoBERTa\",\"Distilled Multilingual BERT (cased)\"],\"y\":[0.2321,0.2905,0.3395,0.2759,0.2016,0.1764,0.20420000000000002,0.1618,0.179,0.23809999999999998,0.2944,0.18239999999999998,0.2182,0.16449999999999998,0.2314,0.2706,0.20420000000000002,0.3448,0.041100000000000005,0.1711,0.2155,0.1107],\"type\":\"bar\"},{\"name\":\"Score at Threshold 7.0\",\"visible\":false,\"x\":[\"BERT Base (cased)\",\"BERT Base (uncased)\",\"BERT Large (uncased)\",\"BERT Large (cased)\",\"Multilingual BERT (uncased)\",\"Multilingual BERT (cased)\",\"SciBERT\",\"Bio + Clinical BERT\",\"PubMed BERT\",\"Legal BERT\",\"Hate BERT\",\"BERT for Patents\",\"Security BERT\",\"AlBERT (v1)\",\"AlBERT (v2)\",\"RoBERTa Base\",\"Distilled RoBERTa Base\",\"RoBERTa Large\",\"Code RoBERTa\",\"Climate RoBERTa Base (distilled)\",\"Multilingual RoBERTa\",\"Distilled Multilingual BERT (cased)\"],\"y\":[0.19690000000000002,0.2606,0.3176,0.24539999999999998,0.1718,0.1452,0.1777,0.1313,0.1479,0.20559999999999998,0.2586,0.1525,0.1956,0.132,0.1989,0.2427,0.1764,0.307,0.0325,0.1432,0.1923,0.0862],\"type\":\"bar\"},{\"name\":\"Score at Threshold 8.0\",\"visible\":false,\"x\":[\"BERT Base (cased)\",\"BERT Base (uncased)\",\"BERT Large (uncased)\",\"BERT Large (cased)\",\"Multilingual BERT (uncased)\",\"Multilingual BERT (cased)\",\"SciBERT\",\"Bio + Clinical BERT\",\"PubMed BERT\",\"Legal BERT\",\"Hate BERT\",\"BERT for Patents\",\"Security BERT\",\"AlBERT (v1)\",\"AlBERT (v2)\",\"RoBERTa Base\",\"Distilled RoBERTa Base\",\"RoBERTa Large\",\"Code RoBERTa\",\"Climate RoBERTa Base (distilled)\",\"Multilingual RoBERTa\",\"Distilled Multilingual BERT (cased)\"],\"y\":[0.1744,0.23809999999999998,0.2838,0.2168,0.1505,0.126,0.1499,0.1094,0.13,0.1797,0.2354,0.1273,0.16510000000000002,0.1121,0.1711,0.2182,0.1472,0.2699,0.0259,0.12140000000000001,0.17370000000000002,0.0703],\"type\":\"bar\"},{\"name\":\"Score at Threshold 9.0\",\"visible\":false,\"x\":[\"BERT Base (cased)\",\"BERT Base (uncased)\",\"BERT Large (uncased)\",\"BERT Large (cased)\",\"Multilingual BERT (uncased)\",\"Multilingual BERT (cased)\",\"SciBERT\",\"Bio + Clinical BERT\",\"PubMed BERT\",\"Legal BERT\",\"Hate BERT\",\"BERT for Patents\",\"Security BERT\",\"AlBERT (v1)\",\"AlBERT (v2)\",\"RoBERTa Base\",\"Distilled RoBERTa Base\",\"RoBERTa Large\",\"Code RoBERTa\",\"Climate RoBERTa Base (distilled)\",\"Multilingual RoBERTa\",\"Distilled Multilingual BERT (cased)\"],\"y\":[0.1519,0.2082,0.26530000000000004,0.2016,0.132,0.1094,0.1333,0.0915,0.1107,0.1592,0.2109,0.1048,0.1439,0.0968,0.1492,0.19690000000000002,0.128,0.2473,0.0166,0.1001,0.1572,0.055],\"type\":\"bar\"},{\"name\":\"Score at Threshold 10.0\",\"visible\":false,\"x\":[\"BERT Base (cased)\",\"BERT Base (uncased)\",\"BERT Large (uncased)\",\"BERT Large (cased)\",\"Multilingual BERT (uncased)\",\"Multilingual BERT (cased)\",\"SciBERT\",\"Bio + Clinical BERT\",\"PubMed BERT\",\"Legal BERT\",\"Hate BERT\",\"BERT for Patents\",\"Security BERT\",\"AlBERT (v1)\",\"AlBERT (v2)\",\"RoBERTa Base\",\"Distilled RoBERTa Base\",\"RoBERTa Large\",\"Code RoBERTa\",\"Climate RoBERTa Base (distilled)\",\"Multilingual RoBERTa\",\"Distilled Multilingual BERT (cased)\"],\"y\":[0.1353,0.1923,0.24539999999999998,0.1757,0.11470000000000001,0.0928,0.1134,0.07629999999999999,0.0935,0.1366,0.1857,0.0895,0.1267,0.0809,0.1286,0.1744,0.1114,0.2182,0.013300000000000001,0.08220000000000001,0.1373,0.0424],\"type\":\"bar\"},{\"name\":\"Score at Threshold 11.0\",\"visible\":false,\"x\":[\"BERT Base (cased)\",\"BERT Base (uncased)\",\"BERT Large (uncased)\",\"BERT Large (cased)\",\"Multilingual BERT (uncased)\",\"Multilingual BERT (cased)\",\"SciBERT\",\"Bio + Clinical BERT\",\"PubMed BERT\",\"Legal BERT\",\"Hate BERT\",\"BERT for Patents\",\"Security BERT\",\"AlBERT (v1)\",\"AlBERT (v2)\",\"RoBERTa Base\",\"Distilled RoBERTa Base\",\"RoBERTa Large\",\"Code RoBERTa\",\"Climate RoBERTa Base (distilled)\",\"Multilingual RoBERTa\",\"Distilled Multilingual BERT (cased)\"],\"y\":[0.12140000000000001,0.1751,0.2268,0.1552,0.10339999999999999,0.0855,0.0981,0.0663,0.0816,0.1167,0.1611,0.0782,0.1094,0.0676,0.10679999999999999,0.1545,0.0922,0.19760000000000003,0.009300000000000001,0.06559999999999999,0.1167,0.031200000000000002],\"type\":\"bar\"},{\"name\":\"Score at Threshold 12.0\",\"visible\":false,\"x\":[\"BERT Base (cased)\",\"BERT Base (uncased)\",\"BERT Large (uncased)\",\"BERT Large (cased)\",\"Multilingual BERT (uncased)\",\"Multilingual BERT (cased)\",\"SciBERT\",\"Bio + Clinical BERT\",\"PubMed BERT\",\"Legal BERT\",\"Hate BERT\",\"BERT for Patents\",\"Security BERT\",\"AlBERT (v1)\",\"AlBERT (v2)\",\"RoBERTa Base\",\"Distilled RoBERTa Base\",\"RoBERTa Large\",\"Code RoBERTa\",\"Climate RoBERTa Base (distilled)\",\"Multilingual RoBERTa\",\"Distilled Multilingual BERT (cased)\"],\"y\":[0.10679999999999999,0.1611,0.2036,0.1426,0.0922,0.07490000000000001,0.0849,0.0564,0.0663,0.10679999999999999,0.1446,0.0683,0.0942,0.0584,0.0962,0.1432,0.0756,0.1777,0.0086,0.057699999999999994,0.10210000000000001,0.0265],\"type\":\"bar\"},{\"name\":\"Score at Threshold 13.0\",\"visible\":false,\"x\":[\"BERT Base (cased)\",\"BERT Base (uncased)\",\"BERT Large (uncased)\",\"BERT Large (cased)\",\"Multilingual BERT (uncased)\",\"Multilingual BERT (cased)\",\"SciBERT\",\"Bio + Clinical BERT\",\"PubMed BERT\",\"Legal BERT\",\"Hate BERT\",\"BERT for Patents\",\"Security BERT\",\"AlBERT (v1)\",\"AlBERT (v2)\",\"RoBERTa Base\",\"Distilled RoBERTa Base\",\"RoBERTa Large\",\"Code RoBERTa\",\"Climate RoBERTa Base (distilled)\",\"Multilingual RoBERTa\",\"Distilled Multilingual BERT (cased)\"],\"y\":[0.0955,0.1485,0.1936,0.124,0.0802,0.0683,0.0776,0.049699999999999994,0.053099999999999994,0.0915,0.126,0.059699999999999996,0.0756,0.0471,0.0802,0.13,0.061,0.1585,0.008,0.04769999999999999,0.0962,0.0239],\"type\":\"bar\"},{\"name\":\"Score at Threshold 14.0\",\"visible\":false,\"x\":[\"BERT Base (cased)\",\"BERT Base (uncased)\",\"BERT Large (uncased)\",\"BERT Large (cased)\",\"Multilingual BERT (uncased)\",\"Multilingual BERT (cased)\",\"SciBERT\",\"Bio + Clinical BERT\",\"PubMed BERT\",\"Legal BERT\",\"Hate BERT\",\"BERT for Patents\",\"Security BERT\",\"AlBERT (v1)\",\"AlBERT (v2)\",\"RoBERTa Base\",\"Distilled RoBERTa Base\",\"RoBERTa Large\",\"Code RoBERTa\",\"Climate RoBERTa Base (distilled)\",\"Multilingual RoBERTa\",\"Distilled Multilingual BERT (cased)\"],\"y\":[0.0836,0.1353,0.179,0.1094,0.0716,0.0584,0.0676,0.0385,0.0431,0.0776,0.10880000000000001,0.051100000000000007,0.0637,0.0431,0.0683,0.11470000000000001,0.0537,0.1379,0.0053,0.0398,0.0836,0.0179],\"type\":\"bar\"},{\"name\":\"Score at Threshold 15.0\",\"visible\":false,\"x\":[\"BERT Base (cased)\",\"BERT Base (uncased)\",\"BERT Large (uncased)\",\"BERT Large (cased)\",\"Multilingual BERT (uncased)\",\"Multilingual BERT (cased)\",\"SciBERT\",\"Bio + Clinical BERT\",\"PubMed BERT\",\"Legal BERT\",\"Hate BERT\",\"BERT for Patents\",\"Security BERT\",\"AlBERT (v1)\",\"AlBERT (v2)\",\"RoBERTa Base\",\"Distilled RoBERTa Base\",\"RoBERTa Large\",\"Code RoBERTa\",\"Climate RoBERTa Base (distilled)\",\"Multilingual RoBERTa\",\"Distilled Multilingual BERT (cased)\"],\"y\":[0.0736,0.12269999999999999,0.1631,0.0942,0.0637,0.049699999999999994,0.057699999999999994,0.0345,0.0385,0.0683,0.1001,0.0464,0.057,0.0391,0.0617,0.0962,0.0444,0.12,0.0053,0.0351,0.0756,0.013300000000000001],\"type\":\"bar\"},{\"name\":\"Score at Threshold 16.0\",\"visible\":false,\"x\":[\"BERT Base (cased)\",\"BERT Base (uncased)\",\"BERT Large (uncased)\",\"BERT Large (cased)\",\"Multilingual BERT (uncased)\",\"Multilingual BERT (cased)\",\"SciBERT\",\"Bio + Clinical BERT\",\"PubMed BERT\",\"Legal BERT\",\"Hate BERT\",\"BERT for Patents\",\"Security BERT\",\"AlBERT (v1)\",\"AlBERT (v2)\",\"RoBERTa Base\",\"Distilled RoBERTa Base\",\"RoBERTa Large\",\"Code RoBERTa\",\"Climate RoBERTa Base (distilled)\",\"Multilingual RoBERTa\",\"Distilled Multilingual BERT (cased)\"],\"y\":[0.065,0.1101,0.1492,0.0862,0.055,0.0431,0.051699999999999996,0.0292,0.0332,0.061,0.0889,0.0398,0.049699999999999994,0.0332,0.0537,0.0889,0.0391,0.1121,0.0053,0.031200000000000002,0.0703,0.011899999999999999],\"type\":\"bar\"},{\"name\":\"Score at Threshold 17.0\",\"visible\":false,\"x\":[\"BERT Base (cased)\",\"BERT Base (uncased)\",\"BERT Large (uncased)\",\"BERT Large (cased)\",\"Multilingual BERT (uncased)\",\"Multilingual BERT (cased)\",\"SciBERT\",\"Bio + Clinical BERT\",\"PubMed BERT\",\"Legal BERT\",\"Hate BERT\",\"BERT for Patents\",\"Security BERT\",\"AlBERT (v1)\",\"AlBERT (v2)\",\"RoBERTa Base\",\"Distilled RoBERTa Base\",\"RoBERTa Large\",\"Code RoBERTa\",\"Climate RoBERTa Base (distilled)\",\"Multilingual RoBERTa\",\"Distilled Multilingual BERT (cased)\"],\"y\":[0.059000000000000004,0.09880000000000001,0.1393,0.0776,0.049100000000000005,0.0371,0.0484,0.0259,0.027200000000000002,0.057,0.0816,0.0358,0.0391,0.0305,0.0444,0.0802,0.0332,0.1001,0.0046,0.0265,0.0623,0.0113],\"type\":\"bar\"},{\"name\":\"Score at Threshold 18.0\",\"visible\":false,\"x\":[\"BERT Base (cased)\",\"BERT Base (uncased)\",\"BERT Large (uncased)\",\"BERT Large (cased)\",\"Multilingual BERT (uncased)\",\"Multilingual BERT (cased)\",\"SciBERT\",\"Bio + Clinical BERT\",\"PubMed BERT\",\"Legal BERT\",\"Hate BERT\",\"BERT for Patents\",\"Security BERT\",\"AlBERT (v1)\",\"AlBERT (v2)\",\"RoBERTa Base\",\"Distilled RoBERTa Base\",\"RoBERTa Large\",\"Code RoBERTa\",\"Climate RoBERTa Base (distilled)\",\"Multilingual RoBERTa\",\"Distilled Multilingual BERT (cased)\"],\"y\":[0.049699999999999994,0.0875,0.1286,0.07490000000000001,0.0431,0.0305,0.0405,0.0206,0.0239,0.0524,0.07690000000000001,0.0318,0.0351,0.027200000000000002,0.0391,0.071,0.031200000000000002,0.0935,0.0046,0.0199,0.057,0.009300000000000001],\"type\":\"bar\"},{\"name\":\"Score at Threshold 19.0\",\"visible\":false,\"x\":[\"BERT Base (cased)\",\"BERT Base (uncased)\",\"BERT Large (uncased)\",\"BERT Large (cased)\",\"Multilingual BERT (uncased)\",\"Multilingual BERT (cased)\",\"SciBERT\",\"Bio + Clinical BERT\",\"PubMed BERT\",\"Legal BERT\",\"Hate BERT\",\"BERT for Patents\",\"Security BERT\",\"AlBERT (v1)\",\"AlBERT (v2)\",\"RoBERTa Base\",\"Distilled RoBERTa Base\",\"RoBERTa Large\",\"Code RoBERTa\",\"Climate RoBERTa Base (distilled)\",\"Multilingual RoBERTa\",\"Distilled Multilingual BERT (cased)\"],\"y\":[0.0424,0.0802,0.1174,0.0676,0.0391,0.0245,0.0332,0.0199,0.0206,0.0471,0.0683,0.027200000000000002,0.0292,0.0245,0.0345,0.0637,0.0298,0.0789,0.0046,0.018600000000000002,0.051100000000000007,0.008],\"type\":\"bar\"},{\"name\":\"Score at Threshold 20.0\",\"visible\":false,\"x\":[\"BERT Base (cased)\",\"BERT Base (uncased)\",\"BERT Large (uncased)\",\"BERT Large (cased)\",\"Multilingual BERT (uncased)\",\"Multilingual BERT (cased)\",\"SciBERT\",\"Bio + Clinical BERT\",\"PubMed BERT\",\"Legal BERT\",\"Hate BERT\",\"BERT for Patents\",\"Security BERT\",\"AlBERT (v1)\",\"AlBERT (v2)\",\"RoBERTa Base\",\"Distilled RoBERTa Base\",\"RoBERTa Large\",\"Code RoBERTa\",\"Climate RoBERTa Base (distilled)\",\"Multilingual RoBERTa\",\"Distilled Multilingual BERT (cased)\"],\"y\":[0.0378,0.0729,0.1094,0.057699999999999994,0.0345,0.0206,0.0292,0.0179,0.0166,0.0431,0.06559999999999999,0.0239,0.0239,0.0219,0.031200000000000002,0.059699999999999996,0.027200000000000002,0.0676,0.004,0.0159,0.04769999999999999,0.006],\"type\":\"bar\"},{\"name\":\"Score at Threshold 21.0\",\"visible\":false,\"x\":[\"BERT Base (cased)\",\"BERT Base (uncased)\",\"BERT Large (uncased)\",\"BERT Large (cased)\",\"Multilingual BERT (uncased)\",\"Multilingual BERT (cased)\",\"SciBERT\",\"Bio + Clinical BERT\",\"PubMed BERT\",\"Legal BERT\",\"Hate BERT\",\"BERT for Patents\",\"Security BERT\",\"AlBERT (v1)\",\"AlBERT (v2)\",\"RoBERTa Base\",\"Distilled RoBERTa Base\",\"RoBERTa Large\",\"Code RoBERTa\",\"Climate RoBERTa Base (distilled)\",\"Multilingual RoBERTa\",\"Distilled Multilingual BERT (cased)\"],\"y\":[0.0338,0.067,0.10210000000000001,0.0524,0.0325,0.0199,0.0285,0.0139,0.013300000000000001,0.041100000000000005,0.059000000000000004,0.0212,0.0212,0.0192,0.0279,0.055,0.0239,0.059699999999999996,0.0033,0.0146,0.0431,0.0027],\"type\":\"bar\"},{\"name\":\"Score at Threshold 22.0\",\"visible\":false,\"x\":[\"BERT Base (cased)\",\"BERT Base (uncased)\",\"BERT Large (uncased)\",\"BERT Large (cased)\",\"Multilingual BERT (uncased)\",\"Multilingual BERT (cased)\",\"SciBERT\",\"Bio + Clinical BERT\",\"PubMed BERT\",\"Legal BERT\",\"Hate BERT\",\"BERT for Patents\",\"Security BERT\",\"AlBERT (v1)\",\"AlBERT (v2)\",\"RoBERTa Base\",\"Distilled RoBERTa Base\",\"RoBERTa Large\",\"Code RoBERTa\",\"Climate RoBERTa Base (distilled)\",\"Multilingual RoBERTa\",\"Distilled Multilingual BERT (cased)\"],\"y\":[0.031200000000000002,0.059699999999999996,0.0915,0.04769999999999999,0.0292,0.0179,0.027200000000000002,0.0126,0.011899999999999999,0.0365,0.0524,0.018600000000000002,0.0159,0.0166,0.0265,0.0504,0.0219,0.053099999999999994,0.0027,0.013300000000000001,0.0405,0.002],\"type\":\"bar\"},{\"name\":\"Score at Threshold 23.0\",\"visible\":false,\"x\":[\"BERT Base (cased)\",\"BERT Base (uncased)\",\"BERT Large (uncased)\",\"BERT Large (cased)\",\"Multilingual BERT (uncased)\",\"Multilingual BERT (cased)\",\"SciBERT\",\"Bio + Clinical BERT\",\"PubMed BERT\",\"Legal BERT\",\"Hate BERT\",\"BERT for Patents\",\"Security BERT\",\"AlBERT (v1)\",\"AlBERT (v2)\",\"RoBERTa Base\",\"Distilled RoBERTa Base\",\"RoBERTa Large\",\"Code RoBERTa\",\"Climate RoBERTa Base (distilled)\",\"Multilingual RoBERTa\",\"Distilled Multilingual BERT (cased)\"],\"y\":[0.0279,0.055,0.0855,0.0451,0.0245,0.0139,0.0232,0.0113,0.0106,0.0345,0.0471,0.0166,0.0146,0.0139,0.0212,0.0451,0.0206,0.0471,0.0027,0.0106,0.0358,0.002],\"type\":\"bar\"},{\"name\":\"Score at Threshold 24.0\",\"visible\":false,\"x\":[\"BERT Base (cased)\",\"BERT Base (uncased)\",\"BERT Large (uncased)\",\"BERT Large (cased)\",\"Multilingual BERT (uncased)\",\"Multilingual BERT (cased)\",\"SciBERT\",\"Bio + Clinical BERT\",\"PubMed BERT\",\"Legal BERT\",\"Hate BERT\",\"BERT for Patents\",\"Security BERT\",\"AlBERT (v1)\",\"AlBERT (v2)\",\"RoBERTa Base\",\"Distilled RoBERTa Base\",\"RoBERTa Large\",\"Code RoBERTa\",\"Climate RoBERTa Base (distilled)\",\"Multilingual RoBERTa\",\"Distilled Multilingual BERT (cased)\"],\"y\":[0.027200000000000002,0.0504,0.07490000000000001,0.0365,0.0212,0.0126,0.0206,0.009300000000000001,0.0086,0.0305,0.0418,0.0146,0.011899999999999999,0.011899999999999999,0.0172,0.0418,0.0179,0.0438,0.0027,0.0086,0.0285,0.0013],\"type\":\"bar\"},{\"name\":\"Score at Threshold 25.0\",\"visible\":false,\"x\":[\"BERT Base (cased)\",\"BERT Base (uncased)\",\"BERT Large (uncased)\",\"BERT Large (cased)\",\"Multilingual BERT (uncased)\",\"Multilingual BERT (cased)\",\"SciBERT\",\"Bio + Clinical BERT\",\"PubMed BERT\",\"Legal BERT\",\"Hate BERT\",\"BERT for Patents\",\"Security BERT\",\"AlBERT (v1)\",\"AlBERT (v2)\",\"RoBERTa Base\",\"Distilled RoBERTa Base\",\"RoBERTa Large\",\"Code RoBERTa\",\"Climate RoBERTa Base (distilled)\",\"Multilingual RoBERTa\",\"Distilled Multilingual BERT (cased)\"],\"y\":[0.0232,0.0458,0.0676,0.0332,0.0199,0.0106,0.018600000000000002,0.0086,0.0086,0.0259,0.0398,0.0113,0.009899999999999999,0.0113,0.0146,0.0378,0.0159,0.0418,0.0027,0.0066,0.0279,0.0],\"type\":\"bar\"},{\"name\":\"Score at Threshold 26.0\",\"visible\":false,\"x\":[\"BERT Base (cased)\",\"BERT Base (uncased)\",\"BERT Large (uncased)\",\"BERT Large (cased)\",\"Multilingual BERT (uncased)\",\"Multilingual BERT (cased)\",\"SciBERT\",\"Bio + Clinical BERT\",\"PubMed BERT\",\"Legal BERT\",\"Hate BERT\",\"BERT for Patents\",\"Security BERT\",\"AlBERT (v1)\",\"AlBERT (v2)\",\"RoBERTa Base\",\"Distilled RoBERTa Base\",\"RoBERTa Large\",\"Code RoBERTa\",\"Climate RoBERTa Base (distilled)\",\"Multilingual RoBERTa\",\"Distilled Multilingual BERT (cased)\"],\"y\":[0.0192,0.0438,0.0643,0.0265,0.0159,0.008,0.0179,0.008,0.006,0.0212,0.0351,0.009899999999999999,0.0073,0.0106,0.013300000000000001,0.0305,0.013300000000000001,0.0405,0.0013,0.0066,0.0239,0.0],\"type\":\"bar\"},{\"name\":\"Score at Threshold 27.0\",\"visible\":false,\"x\":[\"BERT Base (cased)\",\"BERT Base (uncased)\",\"BERT Large (uncased)\",\"BERT Large (cased)\",\"Multilingual BERT (uncased)\",\"Multilingual BERT (cased)\",\"SciBERT\",\"Bio + Clinical BERT\",\"PubMed BERT\",\"Legal BERT\",\"Hate BERT\",\"BERT for Patents\",\"Security BERT\",\"AlBERT (v1)\",\"AlBERT (v2)\",\"RoBERTa Base\",\"Distilled RoBERTa Base\",\"RoBERTa Large\",\"Code RoBERTa\",\"Climate RoBERTa Base (distilled)\",\"Multilingual RoBERTa\",\"Distilled Multilingual BERT (cased)\"],\"y\":[0.0166,0.0391,0.059000000000000004,0.0259,0.013300000000000001,0.0066,0.0166,0.0053,0.0053,0.018600000000000002,0.0325,0.009899999999999999,0.0073,0.009899999999999999,0.0113,0.0285,0.013300000000000001,0.0365,0.0013,0.006,0.0232,0.0],\"type\":\"bar\"},{\"name\":\"Score at Threshold 28.0\",\"visible\":false,\"x\":[\"BERT Base (cased)\",\"BERT Base (uncased)\",\"BERT Large (uncased)\",\"BERT Large (cased)\",\"Multilingual BERT (uncased)\",\"Multilingual BERT (cased)\",\"SciBERT\",\"Bio + Clinical BERT\",\"PubMed BERT\",\"Legal BERT\",\"Hate BERT\",\"BERT for Patents\",\"Security BERT\",\"AlBERT (v1)\",\"AlBERT (v2)\",\"RoBERTa Base\",\"Distilled RoBERTa Base\",\"RoBERTa Large\",\"Code RoBERTa\",\"Climate RoBERTa Base (distilled)\",\"Multilingual RoBERTa\",\"Distilled Multilingual BERT (cased)\"],\"y\":[0.013300000000000001,0.0345,0.054400000000000004,0.0232,0.0126,0.006,0.013300000000000001,0.0053,0.004,0.015300000000000001,0.0298,0.0073,0.0066,0.008,0.008,0.0265,0.0113,0.0345,0.0013,0.0053,0.0206,0.0],\"type\":\"bar\"},{\"name\":\"Score at Threshold 29.0\",\"visible\":false,\"x\":[\"BERT Base (cased)\",\"BERT Base (uncased)\",\"BERT Large (uncased)\",\"BERT Large (cased)\",\"Multilingual BERT (uncased)\",\"Multilingual BERT (cased)\",\"SciBERT\",\"Bio + Clinical BERT\",\"PubMed BERT\",\"Legal BERT\",\"Hate BERT\",\"BERT for Patents\",\"Security BERT\",\"AlBERT (v1)\",\"AlBERT (v2)\",\"RoBERTa Base\",\"Distilled RoBERTa Base\",\"RoBERTa Large\",\"Code RoBERTa\",\"Climate RoBERTa Base (distilled)\",\"Multilingual RoBERTa\",\"Distilled Multilingual BERT (cased)\"],\"y\":[0.0113,0.0338,0.049100000000000005,0.0212,0.0113,0.006,0.0106,0.004,0.004,0.015300000000000001,0.027200000000000002,0.0073,0.0066,0.0066,0.0073,0.0239,0.0113,0.0325,0.0013,0.0046,0.018600000000000002,0.0],\"type\":\"bar\"},{\"name\":\"Score at Threshold 30.0\",\"visible\":false,\"x\":[\"BERT Base (cased)\",\"BERT Base (uncased)\",\"BERT Large (uncased)\",\"BERT Large (cased)\",\"Multilingual BERT (uncased)\",\"Multilingual BERT (cased)\",\"SciBERT\",\"Bio + Clinical BERT\",\"PubMed BERT\",\"Legal BERT\",\"Hate BERT\",\"BERT for Patents\",\"Security BERT\",\"AlBERT (v1)\",\"AlBERT (v2)\",\"RoBERTa Base\",\"Distilled RoBERTa Base\",\"RoBERTa Large\",\"Code RoBERTa\",\"Climate RoBERTa Base (distilled)\",\"Multilingual RoBERTa\",\"Distilled Multilingual BERT (cased)\"],\"y\":[0.009300000000000001,0.0305,0.0484,0.0179,0.0106,0.004,0.0086,0.004,0.004,0.0146,0.0245,0.0066,0.0053,0.0066,0.0066,0.0206,0.0113,0.0298,0.0013,0.004,0.0159,0.0],\"type\":\"bar\"},{\"name\":\"Score at Threshold 31.0\",\"visible\":false,\"x\":[\"BERT Base (cased)\",\"BERT Base (uncased)\",\"BERT Large (uncased)\",\"BERT Large (cased)\",\"Multilingual BERT (uncased)\",\"Multilingual BERT (cased)\",\"SciBERT\",\"Bio + Clinical BERT\",\"PubMed BERT\",\"Legal BERT\",\"Hate BERT\",\"BERT for Patents\",\"Security BERT\",\"AlBERT (v1)\",\"AlBERT (v2)\",\"RoBERTa Base\",\"Distilled RoBERTa Base\",\"RoBERTa Large\",\"Code RoBERTa\",\"Climate RoBERTa Base (distilled)\",\"Multilingual RoBERTa\",\"Distilled Multilingual BERT (cased)\"],\"y\":[0.0086,0.027200000000000002,0.0464,0.0159,0.0086,0.004,0.006,0.0033,0.0033,0.0126,0.0225,0.0053,0.0053,0.006,0.006,0.0172,0.009300000000000001,0.027200000000000002,0.0007000000000000001,0.004,0.013300000000000001,0.0],\"type\":\"bar\"},{\"name\":\"Score at Threshold 32.0\",\"visible\":false,\"x\":[\"BERT Base (cased)\",\"BERT Base (uncased)\",\"BERT Large (uncased)\",\"BERT Large (cased)\",\"Multilingual BERT (uncased)\",\"Multilingual BERT (cased)\",\"SciBERT\",\"Bio + Clinical BERT\",\"PubMed BERT\",\"Legal BERT\",\"Hate BERT\",\"BERT for Patents\",\"Security BERT\",\"AlBERT (v1)\",\"AlBERT (v2)\",\"RoBERTa Base\",\"Distilled RoBERTa Base\",\"RoBERTa Large\",\"Code RoBERTa\",\"Climate RoBERTa Base (distilled)\",\"Multilingual RoBERTa\",\"Distilled Multilingual BERT (cased)\"],\"y\":[0.0073,0.0265,0.0424,0.0139,0.008,0.004,0.0053,0.0033,0.0033,0.0106,0.0199,0.004,0.0053,0.006,0.0053,0.015300000000000001,0.008,0.0239,0.0007000000000000001,0.0033,0.013300000000000001,0.0],\"type\":\"bar\"},{\"name\":\"Score at Threshold 33.0\",\"visible\":false,\"x\":[\"BERT Base (cased)\",\"BERT Base (uncased)\",\"BERT Large (uncased)\",\"BERT Large (cased)\",\"Multilingual BERT (uncased)\",\"Multilingual BERT (cased)\",\"SciBERT\",\"Bio + Clinical BERT\",\"PubMed BERT\",\"Legal BERT\",\"Hate BERT\",\"BERT for Patents\",\"Security BERT\",\"AlBERT (v1)\",\"AlBERT (v2)\",\"RoBERTa Base\",\"Distilled RoBERTa Base\",\"RoBERTa Large\",\"Code RoBERTa\",\"Climate RoBERTa Base (distilled)\",\"Multilingual RoBERTa\",\"Distilled Multilingual BERT (cased)\"],\"y\":[0.0073,0.0225,0.0405,0.0139,0.0073,0.0027,0.0033,0.0033,0.0027,0.009300000000000001,0.0192,0.004,0.004,0.0053,0.0046,0.0139,0.0073,0.0212,0.0007000000000000001,0.0027,0.0113,0.0],\"type\":\"bar\"},{\"name\":\"Score at Threshold 34.0\",\"visible\":false,\"x\":[\"BERT Base (cased)\",\"BERT Base (uncased)\",\"BERT Large (uncased)\",\"BERT Large (cased)\",\"Multilingual BERT (uncased)\",\"Multilingual BERT (cased)\",\"SciBERT\",\"Bio + Clinical BERT\",\"PubMed BERT\",\"Legal BERT\",\"Hate BERT\",\"BERT for Patents\",\"Security BERT\",\"AlBERT (v1)\",\"AlBERT (v2)\",\"RoBERTa Base\",\"Distilled RoBERTa Base\",\"RoBERTa Large\",\"Code RoBERTa\",\"Climate RoBERTa Base (distilled)\",\"Multilingual RoBERTa\",\"Distilled Multilingual BERT (cased)\"],\"y\":[0.006,0.0199,0.0385,0.011899999999999999,0.0066,0.002,0.0027,0.0033,0.0027,0.009300000000000001,0.018600000000000002,0.0027,0.004,0.004,0.0046,0.0139,0.0066,0.0179,0.0007000000000000001,0.0027,0.0106,0.0],\"type\":\"bar\"},{\"name\":\"Score at Threshold 35.0\",\"visible\":false,\"x\":[\"BERT Base (cased)\",\"BERT Base (uncased)\",\"BERT Large (uncased)\",\"BERT Large (cased)\",\"Multilingual BERT (uncased)\",\"Multilingual BERT (cased)\",\"SciBERT\",\"Bio + Clinical BERT\",\"PubMed BERT\",\"Legal BERT\",\"Hate BERT\",\"BERT for Patents\",\"Security BERT\",\"AlBERT (v1)\",\"AlBERT (v2)\",\"RoBERTa Base\",\"Distilled RoBERTa Base\",\"RoBERTa Large\",\"Code RoBERTa\",\"Climate RoBERTa Base (distilled)\",\"Multilingual RoBERTa\",\"Distilled Multilingual BERT (cased)\"],\"y\":[0.006,0.018600000000000002,0.0345,0.0106,0.006,0.0013,0.0027,0.0027,0.0027,0.0086,0.018600000000000002,0.0013,0.0033,0.0033,0.0046,0.0106,0.0053,0.0159,0.0007000000000000001,0.0027,0.009899999999999999,0.0],\"type\":\"bar\"},{\"name\":\"Score at Threshold 36.0\",\"visible\":false,\"x\":[\"BERT Base (cased)\",\"BERT Base (uncased)\",\"BERT Large (uncased)\",\"BERT Large (cased)\",\"Multilingual BERT (uncased)\",\"Multilingual BERT (cased)\",\"SciBERT\",\"Bio + Clinical BERT\",\"PubMed BERT\",\"Legal BERT\",\"Hate BERT\",\"BERT for Patents\",\"Security BERT\",\"AlBERT (v1)\",\"AlBERT (v2)\",\"RoBERTa Base\",\"Distilled RoBERTa Base\",\"RoBERTa Large\",\"Code RoBERTa\",\"Climate RoBERTa Base (distilled)\",\"Multilingual RoBERTa\",\"Distilled Multilingual BERT (cased)\"],\"y\":[0.0053,0.0172,0.0305,0.0086,0.006,0.0,0.0027,0.002,0.0027,0.0086,0.0172,0.0,0.0027,0.0027,0.0046,0.0106,0.0033,0.0146,0.0007000000000000001,0.0027,0.009300000000000001,0.0],\"type\":\"bar\"},{\"name\":\"Score at Threshold 37.0\",\"visible\":false,\"x\":[\"BERT Base (cased)\",\"BERT Base (uncased)\",\"BERT Large (uncased)\",\"BERT Large (cased)\",\"Multilingual BERT (uncased)\",\"Multilingual BERT (cased)\",\"SciBERT\",\"Bio + Clinical BERT\",\"PubMed BERT\",\"Legal BERT\",\"Hate BERT\",\"BERT for Patents\",\"Security BERT\",\"AlBERT (v1)\",\"AlBERT (v2)\",\"RoBERTa Base\",\"Distilled RoBERTa Base\",\"RoBERTa Large\",\"Code RoBERTa\",\"Climate RoBERTa Base (distilled)\",\"Multilingual RoBERTa\",\"Distilled Multilingual BERT (cased)\"],\"y\":[0.0053,0.0166,0.027200000000000002,0.0086,0.0053,0.0,0.0027,0.0007000000000000001,0.0027,0.008,0.0139,0.0,0.0027,0.0027,0.004,0.0106,0.0027,0.0126,0.0007000000000000001,0.0027,0.0066,0.0],\"type\":\"bar\"},{\"name\":\"Score at Threshold 38.0\",\"visible\":false,\"x\":[\"BERT Base (cased)\",\"BERT Base (uncased)\",\"BERT Large (uncased)\",\"BERT Large (cased)\",\"Multilingual BERT (uncased)\",\"Multilingual BERT (cased)\",\"SciBERT\",\"Bio + Clinical BERT\",\"PubMed BERT\",\"Legal BERT\",\"Hate BERT\",\"BERT for Patents\",\"Security BERT\",\"AlBERT (v1)\",\"AlBERT (v2)\",\"RoBERTa Base\",\"Distilled RoBERTa Base\",\"RoBERTa Large\",\"Code RoBERTa\",\"Climate RoBERTa Base (distilled)\",\"Multilingual RoBERTa\",\"Distilled Multilingual BERT (cased)\"],\"y\":[0.0053,0.0159,0.0252,0.008,0.0053,0.0,0.0027,0.0007000000000000001,0.0027,0.0046,0.013300000000000001,0.0,0.0027,0.002,0.0027,0.009300000000000001,0.0027,0.0113,0.0007000000000000001,0.0027,0.0066,0.0],\"type\":\"bar\"},{\"name\":\"Score at Threshold 39.0\",\"visible\":false,\"x\":[\"BERT Base (cased)\",\"BERT Base (uncased)\",\"BERT Large (uncased)\",\"BERT Large (cased)\",\"Multilingual BERT (uncased)\",\"Multilingual BERT (cased)\",\"SciBERT\",\"Bio + Clinical BERT\",\"PubMed BERT\",\"Legal BERT\",\"Hate BERT\",\"BERT for Patents\",\"Security BERT\",\"AlBERT (v1)\",\"AlBERT (v2)\",\"RoBERTa Base\",\"Distilled RoBERTa Base\",\"RoBERTa Large\",\"Code RoBERTa\",\"Climate RoBERTa Base (distilled)\",\"Multilingual RoBERTa\",\"Distilled Multilingual BERT (cased)\"],\"y\":[0.0046,0.0146,0.0219,0.0073,0.0053,0.0,0.002,0.0007000000000000001,0.0027,0.0046,0.0126,0.0,0.0027,0.002,0.0027,0.0073,0.0027,0.009300000000000001,0.0007000000000000001,0.002,0.0053,0.0],\"type\":\"bar\"},{\"name\":\"Score at Threshold 40.0\",\"visible\":false,\"x\":[\"BERT Base (cased)\",\"BERT Base (uncased)\",\"BERT Large (uncased)\",\"BERT Large (cased)\",\"Multilingual BERT (uncased)\",\"Multilingual BERT (cased)\",\"SciBERT\",\"Bio + Clinical BERT\",\"PubMed BERT\",\"Legal BERT\",\"Hate BERT\",\"BERT for Patents\",\"Security BERT\",\"AlBERT (v1)\",\"AlBERT (v2)\",\"RoBERTa Base\",\"Distilled RoBERTa Base\",\"RoBERTa Large\",\"Code RoBERTa\",\"Climate RoBERTa Base (distilled)\",\"Multilingual RoBERTa\",\"Distilled Multilingual BERT (cased)\"],\"y\":[0.0027,0.013300000000000001,0.0219,0.0066,0.0053,0.0,0.002,0.0,0.0027,0.0046,0.0106,0.0,0.0027,0.0013,0.0027,0.006,0.0027,0.0073,0.0,0.002,0.0046,0.0],\"type\":\"bar\"}],                        {\"template\":{\"data\":{\"bar\":[{\"error_x\":{\"color\":\"#2a3f5f\"},\"error_y\":{\"color\":\"#2a3f5f\"},\"marker\":{\"line\":{\"color\":\"#E5ECF6\",\"width\":0.5},\"pattern\":{\"fillmode\":\"overlay\",\"size\":10,\"solidity\":0.2}},\"type\":\"bar\"}],\"barpolar\":[{\"marker\":{\"line\":{\"color\":\"#E5ECF6\",\"width\":0.5},\"pattern\":{\"fillmode\":\"overlay\",\"size\":10,\"solidity\":0.2}},\"type\":\"barpolar\"}],\"carpet\":[{\"aaxis\":{\"endlinecolor\":\"#2a3f5f\",\"gridcolor\":\"white\",\"linecolor\":\"white\",\"minorgridcolor\":\"white\",\"startlinecolor\":\"#2a3f5f\"},\"baxis\":{\"endlinecolor\":\"#2a3f5f\",\"gridcolor\":\"white\",\"linecolor\":\"white\",\"minorgridcolor\":\"white\",\"startlinecolor\":\"#2a3f5f\"},\"type\":\"carpet\"}],\"choropleth\":[{\"colorbar\":{\"outlinewidth\":0,\"ticks\":\"\"},\"type\":\"choropleth\"}],\"contour\":[{\"colorbar\":{\"outlinewidth\":0,\"ticks\":\"\"},\"colorscale\":[[0.0,\"#0d0887\"],[0.1111111111111111,\"#46039f\"],[0.2222222222222222,\"#7201a8\"],[0.3333333333333333,\"#9c179e\"],[0.4444444444444444,\"#bd3786\"],[0.5555555555555556,\"#d8576b\"],[0.6666666666666666,\"#ed7953\"],[0.7777777777777778,\"#fb9f3a\"],[0.8888888888888888,\"#fdca26\"],[1.0,\"#f0f921\"]],\"type\":\"contour\"}],\"contourcarpet\":[{\"colorbar\":{\"outlinewidth\":0,\"ticks\":\"\"},\"type\":\"contourcarpet\"}],\"heatmap\":[{\"colorbar\":{\"outlinewidth\":0,\"ticks\":\"\"},\"colorscale\":[[0.0,\"#0d0887\"],[0.1111111111111111,\"#46039f\"],[0.2222222222222222,\"#7201a8\"],[0.3333333333333333,\"#9c179e\"],[0.4444444444444444,\"#bd3786\"],[0.5555555555555556,\"#d8576b\"],[0.6666666666666666,\"#ed7953\"],[0.7777777777777778,\"#fb9f3a\"],[0.8888888888888888,\"#fdca26\"],[1.0,\"#f0f921\"]],\"type\":\"heatmap\"}],\"heatmapgl\":[{\"colorbar\":{\"outlinewidth\":0,\"ticks\":\"\"},\"colorscale\":[[0.0,\"#0d0887\"],[0.1111111111111111,\"#46039f\"],[0.2222222222222222,\"#7201a8\"],[0.3333333333333333,\"#9c179e\"],[0.4444444444444444,\"#bd3786\"],[0.5555555555555556,\"#d8576b\"],[0.6666666666666666,\"#ed7953\"],[0.7777777777777778,\"#fb9f3a\"],[0.8888888888888888,\"#fdca26\"],[1.0,\"#f0f921\"]],\"type\":\"heatmapgl\"}],\"histogram\":[{\"marker\":{\"pattern\":{\"fillmode\":\"overlay\",\"size\":10,\"solidity\":0.2}},\"type\":\"histogram\"}],\"histogram2d\":[{\"colorbar\":{\"outlinewidth\":0,\"ticks\":\"\"},\"colorscale\":[[0.0,\"#0d0887\"],[0.1111111111111111,\"#46039f\"],[0.2222222222222222,\"#7201a8\"],[0.3333333333333333,\"#9c179e\"],[0.4444444444444444,\"#bd3786\"],[0.5555555555555556,\"#d8576b\"],[0.6666666666666666,\"#ed7953\"],[0.7777777777777778,\"#fb9f3a\"],[0.8888888888888888,\"#fdca26\"],[1.0,\"#f0f921\"]],\"type\":\"histogram2d\"}],\"histogram2dcontour\":[{\"colorbar\":{\"outlinewidth\":0,\"ticks\":\"\"},\"colorscale\":[[0.0,\"#0d0887\"],[0.1111111111111111,\"#46039f\"],[0.2222222222222222,\"#7201a8\"],[0.3333333333333333,\"#9c179e\"],[0.4444444444444444,\"#bd3786\"],[0.5555555555555556,\"#d8576b\"],[0.6666666666666666,\"#ed7953\"],[0.7777777777777778,\"#fb9f3a\"],[0.8888888888888888,\"#fdca26\"],[1.0,\"#f0f921\"]],\"type\":\"histogram2dcontour\"}],\"mesh3d\":[{\"colorbar\":{\"outlinewidth\":0,\"ticks\":\"\"},\"type\":\"mesh3d\"}],\"parcoords\":[{\"line\":{\"colorbar\":{\"outlinewidth\":0,\"ticks\":\"\"}},\"type\":\"parcoords\"}],\"pie\":[{\"automargin\":true,\"type\":\"pie\"}],\"scatter\":[{\"marker\":{\"colorbar\":{\"outlinewidth\":0,\"ticks\":\"\"}},\"type\":\"scatter\"}],\"scatter3d\":[{\"line\":{\"colorbar\":{\"outlinewidth\":0,\"ticks\":\"\"}},\"marker\":{\"colorbar\":{\"outlinewidth\":0,\"ticks\":\"\"}},\"type\":\"scatter3d\"}],\"scattercarpet\":[{\"marker\":{\"colorbar\":{\"outlinewidth\":0,\"ticks\":\"\"}},\"type\":\"scattercarpet\"}],\"scattergeo\":[{\"marker\":{\"colorbar\":{\"outlinewidth\":0,\"ticks\":\"\"}},\"type\":\"scattergeo\"}],\"scattergl\":[{\"marker\":{\"colorbar\":{\"outlinewidth\":0,\"ticks\":\"\"}},\"type\":\"scattergl\"}],\"scattermapbox\":[{\"marker\":{\"colorbar\":{\"outlinewidth\":0,\"ticks\":\"\"}},\"type\":\"scattermapbox\"}],\"scatterpolar\":[{\"marker\":{\"colorbar\":{\"outlinewidth\":0,\"ticks\":\"\"}},\"type\":\"scatterpolar\"}],\"scatterpolargl\":[{\"marker\":{\"colorbar\":{\"outlinewidth\":0,\"ticks\":\"\"}},\"type\":\"scatterpolargl\"}],\"scatterternary\":[{\"marker\":{\"colorbar\":{\"outlinewidth\":0,\"ticks\":\"\"}},\"type\":\"scatterternary\"}],\"surface\":[{\"colorbar\":{\"outlinewidth\":0,\"ticks\":\"\"},\"colorscale\":[[0.0,\"#0d0887\"],[0.1111111111111111,\"#46039f\"],[0.2222222222222222,\"#7201a8\"],[0.3333333333333333,\"#9c179e\"],[0.4444444444444444,\"#bd3786\"],[0.5555555555555556,\"#d8576b\"],[0.6666666666666666,\"#ed7953\"],[0.7777777777777778,\"#fb9f3a\"],[0.8888888888888888,\"#fdca26\"],[1.0,\"#f0f921\"]],\"type\":\"surface\"}],\"table\":[{\"cells\":{\"fill\":{\"color\":\"#EBF0F8\"},\"line\":{\"color\":\"white\"}},\"header\":{\"fill\":{\"color\":\"#C8D4E3\"},\"line\":{\"color\":\"white\"}},\"type\":\"table\"}]},\"layout\":{\"annotationdefaults\":{\"arrowcolor\":\"#2a3f5f\",\"arrowhead\":0,\"arrowwidth\":1},\"autotypenumbers\":\"strict\",\"coloraxis\":{\"colorbar\":{\"outlinewidth\":0,\"ticks\":\"\"}},\"colorscale\":{\"diverging\":[[0,\"#8e0152\"],[0.1,\"#c51b7d\"],[0.2,\"#de77ae\"],[0.3,\"#f1b6da\"],[0.4,\"#fde0ef\"],[0.5,\"#f7f7f7\"],[0.6,\"#e6f5d0\"],[0.7,\"#b8e186\"],[0.8,\"#7fbc41\"],[0.9,\"#4d9221\"],[1,\"#276419\"]],\"sequential\":[[0.0,\"#0d0887\"],[0.1111111111111111,\"#46039f\"],[0.2222222222222222,\"#7201a8\"],[0.3333333333333333,\"#9c179e\"],[0.4444444444444444,\"#bd3786\"],[0.5555555555555556,\"#d8576b\"],[0.6666666666666666,\"#ed7953\"],[0.7777777777777778,\"#fb9f3a\"],[0.8888888888888888,\"#fdca26\"],[1.0,\"#f0f921\"]],\"sequentialminus\":[[0.0,\"#0d0887\"],[0.1111111111111111,\"#46039f\"],[0.2222222222222222,\"#7201a8\"],[0.3333333333333333,\"#9c179e\"],[0.4444444444444444,\"#bd3786\"],[0.5555555555555556,\"#d8576b\"],[0.6666666666666666,\"#ed7953\"],[0.7777777777777778,\"#fb9f3a\"],[0.8888888888888888,\"#fdca26\"],[1.0,\"#f0f921\"]]},\"colorway\":[\"#636efa\",\"#EF553B\",\"#00cc96\",\"#ab63fa\",\"#FFA15A\",\"#19d3f3\",\"#FF6692\",\"#B6E880\",\"#FF97FF\",\"#FECB52\"],\"font\":{\"color\":\"#2a3f5f\"},\"geo\":{\"bgcolor\":\"white\",\"lakecolor\":\"white\",\"landcolor\":\"#E5ECF6\",\"showlakes\":true,\"showland\":true,\"subunitcolor\":\"white\"},\"hoverlabel\":{\"align\":\"left\"},\"hovermode\":\"closest\",\"mapbox\":{\"style\":\"light\"},\"paper_bgcolor\":\"white\",\"plot_bgcolor\":\"#E5ECF6\",\"polar\":{\"angularaxis\":{\"gridcolor\":\"white\",\"linecolor\":\"white\",\"ticks\":\"\"},\"bgcolor\":\"#E5ECF6\",\"radialaxis\":{\"gridcolor\":\"white\",\"linecolor\":\"white\",\"ticks\":\"\"}},\"scene\":{\"xaxis\":{\"backgroundcolor\":\"#E5ECF6\",\"gridcolor\":\"white\",\"gridwidth\":2,\"linecolor\":\"white\",\"showbackground\":true,\"ticks\":\"\",\"zerolinecolor\":\"white\"},\"yaxis\":{\"backgroundcolor\":\"#E5ECF6\",\"gridcolor\":\"white\",\"gridwidth\":2,\"linecolor\":\"white\",\"showbackground\":true,\"ticks\":\"\",\"zerolinecolor\":\"white\"},\"zaxis\":{\"backgroundcolor\":\"#E5ECF6\",\"gridcolor\":\"white\",\"gridwidth\":2,\"linecolor\":\"white\",\"showbackground\":true,\"ticks\":\"\",\"zerolinecolor\":\"white\"}},\"shapedefaults\":{\"line\":{\"color\":\"#2a3f5f\"}},\"ternary\":{\"aaxis\":{\"gridcolor\":\"white\",\"linecolor\":\"white\",\"ticks\":\"\"},\"baxis\":{\"gridcolor\":\"white\",\"linecolor\":\"white\",\"ticks\":\"\"},\"bgcolor\":\"#E5ECF6\",\"caxis\":{\"gridcolor\":\"white\",\"linecolor\":\"white\",\"ticks\":\"\"}},\"title\":{\"x\":0.05},\"xaxis\":{\"automargin\":true,\"gridcolor\":\"white\",\"linecolor\":\"white\",\"ticks\":\"\",\"title\":{\"standoff\":15},\"zerolinecolor\":\"white\",\"zerolinewidth\":2},\"yaxis\":{\"automargin\":true,\"gridcolor\":\"white\",\"linecolor\":\"white\",\"ticks\":\"\",\"title\":{\"standoff\":15},\"zerolinecolor\":\"white\",\"zerolinewidth\":2}}},\"yaxis\":{\"title\":{\"text\":\"Scores\"},\"tickformat\":\".0%\",\"range\":[0,1]},\"sliders\":[{\"active\":1,\"currentvalue\":{\"prefix\":\"Threshold: \"},\"pad\":{\"t\":150},\"steps\":[{\"args\":[{\"visible\":[true,false,false,false,false,false,false,false,false,false,false,false,false,false,false,false,false,false,false,false,false,false,false,false,false,false,false,false,false,false,false,false,false,false,false,false,false,false,false,false,false]},{\"title\":\"Bias Scores for 22 Models at Threshold:0%\"}],\"label\":\"0%\",\"method\":\"update\"},{\"args\":[{\"visible\":[false,true,false,false,false,false,false,false,false,false,false,false,false,false,false,false,false,false,false,false,false,false,false,false,false,false,false,false,false,false,false,false,false,false,false,false,false,false,false,false,false]},{\"title\":\"Bias Scores for 22 Models at Threshold:1%\"}],\"label\":\"1%\",\"method\":\"update\"},{\"args\":[{\"visible\":[false,false,true,false,false,false,false,false,false,false,false,false,false,false,false,false,false,false,false,false,false,false,false,false,false,false,false,false,false,false,false,false,false,false,false,false,false,false,false,false,false]},{\"title\":\"Bias Scores for 22 Models at Threshold:2%\"}],\"label\":\"2%\",\"method\":\"update\"},{\"args\":[{\"visible\":[false,false,false,true,false,false,false,false,false,false,false,false,false,false,false,false,false,false,false,false,false,false,false,false,false,false,false,false,false,false,false,false,false,false,false,false,false,false,false,false,false]},{\"title\":\"Bias Scores for 22 Models at Threshold:3%\"}],\"label\":\"3%\",\"method\":\"update\"},{\"args\":[{\"visible\":[false,false,false,false,true,false,false,false,false,false,false,false,false,false,false,false,false,false,false,false,false,false,false,false,false,false,false,false,false,false,false,false,false,false,false,false,false,false,false,false,false]},{\"title\":\"Bias Scores for 22 Models at Threshold:4%\"}],\"label\":\"4%\",\"method\":\"update\"},{\"args\":[{\"visible\":[false,false,false,false,false,true,false,false,false,false,false,false,false,false,false,false,false,false,false,false,false,false,false,false,false,false,false,false,false,false,false,false,false,false,false,false,false,false,false,false,false]},{\"title\":\"Bias Scores for 22 Models at Threshold:5%\"}],\"label\":\"5%\",\"method\":\"update\"},{\"args\":[{\"visible\":[false,false,false,false,false,false,true,false,false,false,false,false,false,false,false,false,false,false,false,false,false,false,false,false,false,false,false,false,false,false,false,false,false,false,false,false,false,false,false,false,false]},{\"title\":\"Bias Scores for 22 Models at Threshold:6%\"}],\"label\":\"6%\",\"method\":\"update\"},{\"args\":[{\"visible\":[false,false,false,false,false,false,false,true,false,false,false,false,false,false,false,false,false,false,false,false,false,false,false,false,false,false,false,false,false,false,false,false,false,false,false,false,false,false,false,false,false]},{\"title\":\"Bias Scores for 22 Models at Threshold:7%\"}],\"label\":\"7%\",\"method\":\"update\"},{\"args\":[{\"visible\":[false,false,false,false,false,false,false,false,true,false,false,false,false,false,false,false,false,false,false,false,false,false,false,false,false,false,false,false,false,false,false,false,false,false,false,false,false,false,false,false,false]},{\"title\":\"Bias Scores for 22 Models at Threshold:8%\"}],\"label\":\"8%\",\"method\":\"update\"},{\"args\":[{\"visible\":[false,false,false,false,false,false,false,false,false,true,false,false,false,false,false,false,false,false,false,false,false,false,false,false,false,false,false,false,false,false,false,false,false,false,false,false,false,false,false,false,false]},{\"title\":\"Bias Scores for 22 Models at Threshold:9%\"}],\"label\":\"9%\",\"method\":\"update\"},{\"args\":[{\"visible\":[false,false,false,false,false,false,false,false,false,false,true,false,false,false,false,false,false,false,false,false,false,false,false,false,false,false,false,false,false,false,false,false,false,false,false,false,false,false,false,false,false]},{\"title\":\"Bias Scores for 22 Models at Threshold:10%\"}],\"label\":\"10%\",\"method\":\"update\"},{\"args\":[{\"visible\":[false,false,false,false,false,false,false,false,false,false,false,true,false,false,false,false,false,false,false,false,false,false,false,false,false,false,false,false,false,false,false,false,false,false,false,false,false,false,false,false,false]},{\"title\":\"Bias Scores for 22 Models at Threshold:11%\"}],\"label\":\"11%\",\"method\":\"update\"},{\"args\":[{\"visible\":[false,false,false,false,false,false,false,false,false,false,false,false,true,false,false,false,false,false,false,false,false,false,false,false,false,false,false,false,false,false,false,false,false,false,false,false,false,false,false,false,false]},{\"title\":\"Bias Scores for 22 Models at Threshold:12%\"}],\"label\":\"12%\",\"method\":\"update\"},{\"args\":[{\"visible\":[false,false,false,false,false,false,false,false,false,false,false,false,false,true,false,false,false,false,false,false,false,false,false,false,false,false,false,false,false,false,false,false,false,false,false,false,false,false,false,false,false]},{\"title\":\"Bias Scores for 22 Models at Threshold:13%\"}],\"label\":\"13%\",\"method\":\"update\"},{\"args\":[{\"visible\":[false,false,false,false,false,false,false,false,false,false,false,false,false,false,true,false,false,false,false,false,false,false,false,false,false,false,false,false,false,false,false,false,false,false,false,false,false,false,false,false,false]},{\"title\":\"Bias Scores for 22 Models at Threshold:14%\"}],\"label\":\"14%\",\"method\":\"update\"},{\"args\":[{\"visible\":[false,false,false,false,false,false,false,false,false,false,false,false,false,false,false,true,false,false,false,false,false,false,false,false,false,false,false,false,false,false,false,false,false,false,false,false,false,false,false,false,false]},{\"title\":\"Bias Scores for 22 Models at Threshold:15%\"}],\"label\":\"15%\",\"method\":\"update\"},{\"args\":[{\"visible\":[false,false,false,false,false,false,false,false,false,false,false,false,false,false,false,false,true,false,false,false,false,false,false,false,false,false,false,false,false,false,false,false,false,false,false,false,false,false,false,false,false]},{\"title\":\"Bias Scores for 22 Models at Threshold:16%\"}],\"label\":\"16%\",\"method\":\"update\"},{\"args\":[{\"visible\":[false,false,false,false,false,false,false,false,false,false,false,false,false,false,false,false,false,true,false,false,false,false,false,false,false,false,false,false,false,false,false,false,false,false,false,false,false,false,false,false,false]},{\"title\":\"Bias Scores for 22 Models at Threshold:17%\"}],\"label\":\"17%\",\"method\":\"update\"},{\"args\":[{\"visible\":[false,false,false,false,false,false,false,false,false,false,false,false,false,false,false,false,false,false,true,false,false,false,false,false,false,false,false,false,false,false,false,false,false,false,false,false,false,false,false,false,false]},{\"title\":\"Bias Scores for 22 Models at Threshold:18%\"}],\"label\":\"18%\",\"method\":\"update\"},{\"args\":[{\"visible\":[false,false,false,false,false,false,false,false,false,false,false,false,false,false,false,false,false,false,false,true,false,false,false,false,false,false,false,false,false,false,false,false,false,false,false,false,false,false,false,false,false]},{\"title\":\"Bias Scores for 22 Models at Threshold:19%\"}],\"label\":\"19%\",\"method\":\"update\"},{\"args\":[{\"visible\":[false,false,false,false,false,false,false,false,false,false,false,false,false,false,false,false,false,false,false,false,true,false,false,false,false,false,false,false,false,false,false,false,false,false,false,false,false,false,false,false,false]},{\"title\":\"Bias Scores for 22 Models at Threshold:20%\"}],\"label\":\"20%\",\"method\":\"update\"},{\"args\":[{\"visible\":[false,false,false,false,false,false,false,false,false,false,false,false,false,false,false,false,false,false,false,false,false,true,false,false,false,false,false,false,false,false,false,false,false,false,false,false,false,false,false,false,false]},{\"title\":\"Bias Scores for 22 Models at Threshold:21%\"}],\"label\":\"21%\",\"method\":\"update\"},{\"args\":[{\"visible\":[false,false,false,false,false,false,false,false,false,false,false,false,false,false,false,false,false,false,false,false,false,false,true,false,false,false,false,false,false,false,false,false,false,false,false,false,false,false,false,false,false]},{\"title\":\"Bias Scores for 22 Models at Threshold:22%\"}],\"label\":\"22%\",\"method\":\"update\"},{\"args\":[{\"visible\":[false,false,false,false,false,false,false,false,false,false,false,false,false,false,false,false,false,false,false,false,false,false,false,true,false,false,false,false,false,false,false,false,false,false,false,false,false,false,false,false,false]},{\"title\":\"Bias Scores for 22 Models at Threshold:23%\"}],\"label\":\"23%\",\"method\":\"update\"},{\"args\":[{\"visible\":[false,false,false,false,false,false,false,false,false,false,false,false,false,false,false,false,false,false,false,false,false,false,false,false,true,false,false,false,false,false,false,false,false,false,false,false,false,false,false,false,false]},{\"title\":\"Bias Scores for 22 Models at Threshold:24%\"}],\"label\":\"24%\",\"method\":\"update\"},{\"args\":[{\"visible\":[false,false,false,false,false,false,false,false,false,false,false,false,false,false,false,false,false,false,false,false,false,false,false,false,false,true,false,false,false,false,false,false,false,false,false,false,false,false,false,false,false]},{\"title\":\"Bias Scores for 22 Models at Threshold:25%\"}],\"label\":\"25%\",\"method\":\"update\"},{\"args\":[{\"visible\":[false,false,false,false,false,false,false,false,false,false,false,false,false,false,false,false,false,false,false,false,false,false,false,false,false,false,true,false,false,false,false,false,false,false,false,false,false,false,false,false,false]},{\"title\":\"Bias Scores for 22 Models at Threshold:26%\"}],\"label\":\"26%\",\"method\":\"update\"},{\"args\":[{\"visible\":[false,false,false,false,false,false,false,false,false,false,false,false,false,false,false,false,false,false,false,false,false,false,false,false,false,false,false,true,false,false,false,false,false,false,false,false,false,false,false,false,false]},{\"title\":\"Bias Scores for 22 Models at Threshold:27%\"}],\"label\":\"27%\",\"method\":\"update\"},{\"args\":[{\"visible\":[false,false,false,false,false,false,false,false,false,false,false,false,false,false,false,false,false,false,false,false,false,false,false,false,false,false,false,false,true,false,false,false,false,false,false,false,false,false,false,false,false]},{\"title\":\"Bias Scores for 22 Models at Threshold:28%\"}],\"label\":\"28%\",\"method\":\"update\"},{\"args\":[{\"visible\":[false,false,false,false,false,false,false,false,false,false,false,false,false,false,false,false,false,false,false,false,false,false,false,false,false,false,false,false,false,true,false,false,false,false,false,false,false,false,false,false,false]},{\"title\":\"Bias Scores for 22 Models at Threshold:29%\"}],\"label\":\"29%\",\"method\":\"update\"},{\"args\":[{\"visible\":[false,false,false,false,false,false,false,false,false,false,false,false,false,false,false,false,false,false,false,false,false,false,false,false,false,false,false,false,false,false,true,false,false,false,false,false,false,false,false,false,false]},{\"title\":\"Bias Scores for 22 Models at Threshold:30%\"}],\"label\":\"30%\",\"method\":\"update\"},{\"args\":[{\"visible\":[false,false,false,false,false,false,false,false,false,false,false,false,false,false,false,false,false,false,false,false,false,false,false,false,false,false,false,false,false,false,false,true,false,false,false,false,false,false,false,false,false]},{\"title\":\"Bias Scores for 22 Models at Threshold:31%\"}],\"label\":\"31%\",\"method\":\"update\"},{\"args\":[{\"visible\":[false,false,false,false,false,false,false,false,false,false,false,false,false,false,false,false,false,false,false,false,false,false,false,false,false,false,false,false,false,false,false,false,true,false,false,false,false,false,false,false,false]},{\"title\":\"Bias Scores for 22 Models at Threshold:32%\"}],\"label\":\"32%\",\"method\":\"update\"},{\"args\":[{\"visible\":[false,false,false,false,false,false,false,false,false,false,false,false,false,false,false,false,false,false,false,false,false,false,false,false,false,false,false,false,false,false,false,false,false,true,false,false,false,false,false,false,false]},{\"title\":\"Bias Scores for 22 Models at Threshold:33%\"}],\"label\":\"33%\",\"method\":\"update\"},{\"args\":[{\"visible\":[false,false,false,false,false,false,false,false,false,false,false,false,false,false,false,false,false,false,false,false,false,false,false,false,false,false,false,false,false,false,false,false,false,false,true,false,false,false,false,false,false]},{\"title\":\"Bias Scores for 22 Models at Threshold:34%\"}],\"label\":\"34%\",\"method\":\"update\"},{\"args\":[{\"visible\":[false,false,false,false,false,false,false,false,false,false,false,false,false,false,false,false,false,false,false,false,false,false,false,false,false,false,false,false,false,false,false,false,false,false,false,true,false,false,false,false,false]},{\"title\":\"Bias Scores for 22 Models at Threshold:35%\"}],\"label\":\"35%\",\"method\":\"update\"},{\"args\":[{\"visible\":[false,false,false,false,false,false,false,false,false,false,false,false,false,false,false,false,false,false,false,false,false,false,false,false,false,false,false,false,false,false,false,false,false,false,false,false,true,false,false,false,false]},{\"title\":\"Bias Scores for 22 Models at Threshold:36%\"}],\"label\":\"36%\",\"method\":\"update\"},{\"args\":[{\"visible\":[false,false,false,false,false,false,false,false,false,false,false,false,false,false,false,false,false,false,false,false,false,false,false,false,false,false,false,false,false,false,false,false,false,false,false,false,false,true,false,false,false]},{\"title\":\"Bias Scores for 22 Models at Threshold:37%\"}],\"label\":\"37%\",\"method\":\"update\"},{\"args\":[{\"visible\":[false,false,false,false,false,false,false,false,false,false,false,false,false,false,false,false,false,false,false,false,false,false,false,false,false,false,false,false,false,false,false,false,false,false,false,false,false,false,true,false,false]},{\"title\":\"Bias Scores for 22 Models at Threshold:38%\"}],\"label\":\"38%\",\"method\":\"update\"},{\"args\":[{\"visible\":[false,false,false,false,false,false,false,false,false,false,false,false,false,false,false,false,false,false,false,false,false,false,false,false,false,false,false,false,false,false,false,false,false,false,false,false,false,false,false,true,false]},{\"title\":\"Bias Scores for 22 Models at Threshold:39%\"}],\"label\":\"39%\",\"method\":\"update\"},{\"args\":[{\"visible\":[false,false,false,false,false,false,false,false,false,false,false,false,false,false,false,false,false,false,false,false,false,false,false,false,false,false,false,false,false,false,false,false,false,false,false,false,false,false,false,false,true]},{\"title\":\"Bias Scores for 22 Models at Threshold:40%\"}],\"label\":\"40%\",\"method\":\"update\"}]}],\"title\":{\"text\":\"Bias Scores for 22 Models at Various Thresholds\"},\"xaxis\":{\"title\":{\"text\":\"Language Models\"}}},                        {\"responsive\": true}                    ).then(function(){\n",
       "                            \n",
       "var gd = document.getElementById('c34a339b-6c9a-4d90-bed9-03270cd9b3db');\n",
       "var x = new MutationObserver(function (mutations, observer) {{\n",
       "        var display = window.getComputedStyle(gd).display;\n",
       "        if (!display || display === 'none') {{\n",
       "            console.log([gd, 'removed!']);\n",
       "            Plotly.purge(gd);\n",
       "            observer.disconnect();\n",
       "        }}\n",
       "}});\n",
       "\n",
       "// Listen for the removal of the full notebook cells\n",
       "var notebookContainer = gd.closest('#notebook-container');\n",
       "if (notebookContainer) {{\n",
       "    x.observe(notebookContainer, {childList: true});\n",
       "}}\n",
       "\n",
       "// Listen for the clearing of the current output cell\n",
       "var outputEl = gd.closest('.output');\n",
       "if (outputEl) {{\n",
       "    x.observe(outputEl, {childList: true});\n",
       "}}\n",
       "\n",
       "                        })                };                });            </script>        </div>"
      ]
     },
     "metadata": {},
     "output_type": "display_data"
    }
   ],
   "source": [
    "slider_chart(score_type='bias_score')"
   ]
  },
  {
   "cell_type": "markdown",
   "metadata": {},
   "source": [
    "### 3: Nonbias Score"
   ]
  },
  {
   "cell_type": "code",
   "execution_count": 17,
   "metadata": {},
   "outputs": [
    {
     "data": {
      "application/vnd.plotly.v1+json": {
       "config": {
        "plotlyServerURL": "https://plot.ly"
       },
       "data": [
        {
         "name": "Score at Threshold 0.0",
         "type": "bar",
         "visible": false,
         "x": [
          "BERT Base (cased)",
          "BERT Base (uncased)",
          "BERT Large (uncased)",
          "BERT Large (cased)",
          "Multilingual BERT (uncased)",
          "Multilingual BERT (cased)",
          "SciBERT",
          "Bio + Clinical BERT",
          "PubMed BERT",
          "Legal BERT",
          "Hate BERT",
          "BERT for Patents",
          "Security BERT",
          "AlBERT (v1)",
          "AlBERT (v2)",
          "RoBERTa Base",
          "Distilled RoBERTa Base",
          "RoBERTa Large",
          "Code RoBERTa",
          "Climate RoBERTa Base (distilled)",
          "Multilingual RoBERTa",
          "Distilled Multilingual BERT (cased)"
         ],
         "y": [
          0.4489,
          0.3985,
          0.4065,
          0.4324,
          0.44630000000000003,
          0.4708,
          0.4211,
          0.47350000000000003,
          0.44689999999999996,
          0.41840000000000005,
          0.4251,
          0.48210000000000003,
          0.4828,
          0.4131,
          0.4251,
          0.4675,
          0.45030000000000003,
          0.3899,
          0.5444,
          0.4509,
          0.4808,
          0.48869999999999997
         ]
        },
        {
         "name": "Score at Threshold 1.0",
         "type": "bar",
         "visible": true,
         "x": [
          "BERT Base (cased)",
          "BERT Base (uncased)",
          "BERT Large (uncased)",
          "BERT Large (cased)",
          "Multilingual BERT (uncased)",
          "Multilingual BERT (cased)",
          "SciBERT",
          "Bio + Clinical BERT",
          "PubMed BERT",
          "Legal BERT",
          "Hate BERT",
          "BERT for Patents",
          "Security BERT",
          "AlBERT (v1)",
          "AlBERT (v2)",
          "RoBERTa Base",
          "Distilled RoBERTa Base",
          "RoBERTa Large",
          "Code RoBERTa",
          "Climate RoBERTa Base (distilled)",
          "Multilingual RoBERTa",
          "Distilled Multilingual BERT (cased)"
         ],
         "y": [
          0.3893,
          0.3448,
          0.3554,
          0.366,
          0.3521,
          0.3873,
          0.3223,
          0.38789999999999997,
          0.3442,
          0.35810000000000003,
          0.3641,
          0.4025,
          0.4218,
          0.2984,
          0.36469999999999997,
          0.41979999999999995,
          0.37200000000000005,
          0.3435,
          0.3674,
          0.3826,
          0.40380000000000005,
          0.3481
         ]
        },
        {
         "name": "Score at Threshold 2.0",
         "type": "bar",
         "visible": false,
         "x": [
          "BERT Base (cased)",
          "BERT Base (uncased)",
          "BERT Large (uncased)",
          "BERT Large (cased)",
          "Multilingual BERT (uncased)",
          "Multilingual BERT (cased)",
          "SciBERT",
          "Bio + Clinical BERT",
          "PubMed BERT",
          "Legal BERT",
          "Hate BERT",
          "BERT for Patents",
          "Security BERT",
          "AlBERT (v1)",
          "AlBERT (v2)",
          "RoBERTa Base",
          "Distilled RoBERTa Base",
          "RoBERTa Large",
          "Code RoBERTa",
          "Climate RoBERTa Base (distilled)",
          "Multilingual RoBERTa",
          "Distilled Multilingual BERT (cased)"
         ],
         "y": [
          0.3243,
          0.3031,
          0.32030000000000003,
          0.31370000000000003,
          0.2798,
          0.3004,
          0.25,
          0.3031,
          0.2725,
          0.2918,
          0.3084,
          0.3342,
          0.36869999999999997,
          0.2261,
          0.3044,
          0.3747,
          0.31370000000000003,
          0.3024,
          0.2553,
          0.309,
          0.3342,
          0.24670000000000003
         ]
        },
        {
         "name": "Score at Threshold 3.0",
         "type": "bar",
         "visible": false,
         "x": [
          "BERT Base (cased)",
          "BERT Base (uncased)",
          "BERT Large (uncased)",
          "BERT Large (cased)",
          "Multilingual BERT (uncased)",
          "Multilingual BERT (cased)",
          "SciBERT",
          "Bio + Clinical BERT",
          "PubMed BERT",
          "Legal BERT",
          "Hate BERT",
          "BERT for Patents",
          "Security BERT",
          "AlBERT (v1)",
          "AlBERT (v2)",
          "RoBERTa Base",
          "Distilled RoBERTa Base",
          "RoBERTa Large",
          "Code RoBERTa",
          "Climate RoBERTa Base (distilled)",
          "Multilingual RoBERTa",
          "Distilled Multilingual BERT (cased)"
         ],
         "y": [
          0.2712,
          0.2566,
          0.2832,
          0.27190000000000003,
          0.23079999999999998,
          0.2401,
          0.2089,
          0.2447,
          0.21289999999999998,
          0.24670000000000003,
          0.2633,
          0.27649999999999997,
          0.3097,
          0.1718,
          0.254,
          0.3375,
          0.2586,
          0.2712,
          0.17309999999999998,
          0.24670000000000003,
          0.2898,
          0.1777
         ]
        },
        {
         "name": "Score at Threshold 4.0",
         "type": "bar",
         "visible": false,
         "x": [
          "BERT Base (cased)",
          "BERT Base (uncased)",
          "BERT Large (uncased)",
          "BERT Large (cased)",
          "Multilingual BERT (uncased)",
          "Multilingual BERT (cased)",
          "SciBERT",
          "Bio + Clinical BERT",
          "PubMed BERT",
          "Legal BERT",
          "Hate BERT",
          "BERT for Patents",
          "Security BERT",
          "AlBERT (v1)",
          "AlBERT (v2)",
          "RoBERTa Base",
          "Distilled RoBERTa Base",
          "RoBERTa Large",
          "Code RoBERTa",
          "Climate RoBERTa Base (distilled)",
          "Multilingual RoBERTa",
          "Distilled Multilingual BERT (cased)"
         ],
         "y": [
          0.2288,
          0.2248,
          0.256,
          0.2394,
          0.1863,
          0.1989,
          0.1671,
          0.20489999999999997,
          0.1804,
          0.2069,
          0.22940000000000002,
          0.2275,
          0.2712,
          0.126,
          0.20559999999999998,
          0.2984,
          0.2162,
          0.2447,
          0.124,
          0.2003,
          0.2487,
          0.126
         ]
        },
        {
         "name": "Score at Threshold 5.0",
         "type": "bar",
         "visible": false,
         "x": [
          "BERT Base (cased)",
          "BERT Base (uncased)",
          "BERT Large (uncased)",
          "BERT Large (cased)",
          "Multilingual BERT (uncased)",
          "Multilingual BERT (cased)",
          "SciBERT",
          "Bio + Clinical BERT",
          "PubMed BERT",
          "Legal BERT",
          "Hate BERT",
          "BERT for Patents",
          "Security BERT",
          "AlBERT (v1)",
          "AlBERT (v2)",
          "RoBERTa Base",
          "Distilled RoBERTa Base",
          "RoBERTa Large",
          "Code RoBERTa",
          "Climate RoBERTa Base (distilled)",
          "Multilingual RoBERTa",
          "Distilled Multilingual BERT (cased)"
         ],
         "y": [
          0.1943,
          0.1916,
          0.2341,
          0.2162,
          0.1446,
          0.1598,
          0.1326,
          0.1744,
          0.1439,
          0.1744,
          0.1989,
          0.191,
          0.23739999999999997,
          0.1015,
          0.1777,
          0.2732,
          0.1863,
          0.2168,
          0.0882,
          0.1698,
          0.21420000000000003,
          0.09949999999999999
         ]
        },
        {
         "name": "Score at Threshold 6.0",
         "type": "bar",
         "visible": false,
         "x": [
          "BERT Base (cased)",
          "BERT Base (uncased)",
          "BERT Large (uncased)",
          "BERT Large (cased)",
          "Multilingual BERT (uncased)",
          "Multilingual BERT (cased)",
          "SciBERT",
          "Bio + Clinical BERT",
          "PubMed BERT",
          "Legal BERT",
          "Hate BERT",
          "BERT for Patents",
          "Security BERT",
          "AlBERT (v1)",
          "AlBERT (v2)",
          "RoBERTa Base",
          "Distilled RoBERTa Base",
          "RoBERTa Large",
          "Code RoBERTa",
          "Climate RoBERTa Base (distilled)",
          "Multilingual RoBERTa",
          "Distilled Multilingual BERT (cased)"
         ],
         "y": [
          0.1678,
          0.1711,
          0.2036,
          0.18969999999999998,
          0.1253,
          0.1379,
          0.1081,
          0.1446,
          0.11410000000000001,
          0.1452,
          0.1744,
          0.1605,
          0.2102,
          0.0802,
          0.1512,
          0.244,
          0.1605,
          0.18899999999999997,
          0.0637,
          0.1419,
          0.19030000000000002,
          0.0789
         ]
        },
        {
         "name": "Score at Threshold 7.0",
         "type": "bar",
         "visible": false,
         "x": [
          "BERT Base (cased)",
          "BERT Base (uncased)",
          "BERT Large (uncased)",
          "BERT Large (cased)",
          "Multilingual BERT (uncased)",
          "Multilingual BERT (cased)",
          "SciBERT",
          "Bio + Clinical BERT",
          "PubMed BERT",
          "Legal BERT",
          "Hate BERT",
          "BERT for Patents",
          "Security BERT",
          "AlBERT (v1)",
          "AlBERT (v2)",
          "RoBERTa Base",
          "Distilled RoBERTa Base",
          "RoBERTa Large",
          "Code RoBERTa",
          "Climate RoBERTa Base (distilled)",
          "Multilingual RoBERTa",
          "Distilled Multilingual BERT (cased)"
         ],
         "y": [
          0.1432,
          0.1485,
          0.185,
          0.1671,
          0.1001,
          0.1127,
          0.0935,
          0.1167,
          0.0955,
          0.1253,
          0.1578,
          0.1286,
          0.1877,
          0.0683,
          0.124,
          0.21489999999999998,
          0.1393,
          0.1678,
          0.0405,
          0.1174,
          0.1605,
          0.0617
         ]
        },
        {
         "name": "Score at Threshold 8.0",
         "type": "bar",
         "visible": false,
         "x": [
          "BERT Base (cased)",
          "BERT Base (uncased)",
          "BERT Large (uncased)",
          "BERT Large (cased)",
          "Multilingual BERT (uncased)",
          "Multilingual BERT (cased)",
          "SciBERT",
          "Bio + Clinical BERT",
          "PubMed BERT",
          "Legal BERT",
          "Hate BERT",
          "BERT for Patents",
          "Security BERT",
          "AlBERT (v1)",
          "AlBERT (v2)",
          "RoBERTa Base",
          "Distilled RoBERTa Base",
          "RoBERTa Large",
          "Code RoBERTa",
          "Climate RoBERTa Base (distilled)",
          "Multilingual RoBERTa",
          "Distilled Multilingual BERT (cased)"
         ],
         "y": [
          0.1313,
          0.1333,
          0.1625,
          0.1499,
          0.08220000000000001,
          0.0928,
          0.0802,
          0.09949999999999999,
          0.0802,
          0.1061,
          0.1373,
          0.1167,
          0.17370000000000002,
          0.055,
          0.10339999999999999,
          0.193,
          0.1267,
          0.1446,
          0.0279,
          0.0962,
          0.1359,
          0.049100000000000005
         ]
        },
        {
         "name": "Score at Threshold 9.0",
         "type": "bar",
         "visible": false,
         "x": [
          "BERT Base (cased)",
          "BERT Base (uncased)",
          "BERT Large (uncased)",
          "BERT Large (cased)",
          "Multilingual BERT (uncased)",
          "Multilingual BERT (cased)",
          "SciBERT",
          "Bio + Clinical BERT",
          "PubMed BERT",
          "Legal BERT",
          "Hate BERT",
          "BERT for Patents",
          "Security BERT",
          "AlBERT (v1)",
          "AlBERT (v2)",
          "RoBERTa Base",
          "Distilled RoBERTa Base",
          "RoBERTa Large",
          "Code RoBERTa",
          "Climate RoBERTa Base (distilled)",
          "Multilingual RoBERTa",
          "Distilled Multilingual BERT (cased)"
         ],
         "y": [
          0.11470000000000001,
          0.11539999999999999,
          0.1452,
          0.1267,
          0.071,
          0.08289999999999999,
          0.0696,
          0.0889,
          0.069,
          0.09480000000000001,
          0.1207,
          0.09880000000000001,
          0.1545,
          0.04769999999999999,
          0.0908,
          0.1757,
          0.1101,
          0.1267,
          0.0212,
          0.0802,
          0.12269999999999999,
          0.0418
         ]
        },
        {
         "name": "Score at Threshold 10.0",
         "type": "bar",
         "visible": false,
         "x": [
          "BERT Base (cased)",
          "BERT Base (uncased)",
          "BERT Large (uncased)",
          "BERT Large (cased)",
          "Multilingual BERT (uncased)",
          "Multilingual BERT (cased)",
          "SciBERT",
          "Bio + Clinical BERT",
          "PubMed BERT",
          "Legal BERT",
          "Hate BERT",
          "BERT for Patents",
          "Security BERT",
          "AlBERT (v1)",
          "AlBERT (v2)",
          "RoBERTa Base",
          "Distilled RoBERTa Base",
          "RoBERTa Large",
          "Code RoBERTa",
          "Climate RoBERTa Base (distilled)",
          "Multilingual RoBERTa",
          "Distilled Multilingual BERT (cased)"
         ],
         "y": [
          0.0981,
          0.1061,
          0.1313,
          0.1134,
          0.0603,
          0.0729,
          0.057699999999999994,
          0.0776,
          0.0603,
          0.08289999999999999,
          0.1101,
          0.0882,
          0.1359,
          0.0431,
          0.08289999999999999,
          0.1552,
          0.09480000000000001,
          0.11599999999999999,
          0.0192,
          0.067,
          0.1061,
          0.0365
         ]
        },
        {
         "name": "Score at Threshold 11.0",
         "type": "bar",
         "visible": false,
         "x": [
          "BERT Base (cased)",
          "BERT Base (uncased)",
          "BERT Large (uncased)",
          "BERT Large (cased)",
          "Multilingual BERT (uncased)",
          "Multilingual BERT (cased)",
          "SciBERT",
          "Bio + Clinical BERT",
          "PubMed BERT",
          "Legal BERT",
          "Hate BERT",
          "BERT for Patents",
          "Security BERT",
          "AlBERT (v1)",
          "AlBERT (v2)",
          "RoBERTa Base",
          "Distilled RoBERTa Base",
          "RoBERTa Large",
          "Code RoBERTa",
          "Climate RoBERTa Base (distilled)",
          "Multilingual RoBERTa",
          "Distilled Multilingual BERT (cased)"
         ],
         "y": [
          0.0882,
          0.0915,
          0.11539999999999999,
          0.1041,
          0.054400000000000004,
          0.059699999999999996,
          0.051100000000000007,
          0.0643,
          0.053099999999999994,
          0.0723,
          0.10279999999999999,
          0.0796,
          0.11800000000000001,
          0.0378,
          0.07629999999999999,
          0.1393,
          0.0849,
          0.10880000000000001,
          0.015300000000000001,
          0.057699999999999994,
          0.0942,
          0.0332
         ]
        },
        {
         "name": "Score at Threshold 12.0",
         "type": "bar",
         "visible": false,
         "x": [
          "BERT Base (cased)",
          "BERT Base (uncased)",
          "BERT Large (uncased)",
          "BERT Large (cased)",
          "Multilingual BERT (uncased)",
          "Multilingual BERT (cased)",
          "SciBERT",
          "Bio + Clinical BERT",
          "PubMed BERT",
          "Legal BERT",
          "Hate BERT",
          "BERT for Patents",
          "Security BERT",
          "AlBERT (v1)",
          "AlBERT (v2)",
          "RoBERTa Base",
          "Distilled RoBERTa Base",
          "RoBERTa Large",
          "Code RoBERTa",
          "Climate RoBERTa Base (distilled)",
          "Multilingual RoBERTa",
          "Distilled Multilingual BERT (cased)"
         ],
         "y": [
          0.0776,
          0.0789,
          0.1048,
          0.0935,
          0.049100000000000005,
          0.054400000000000004,
          0.0451,
          0.0557,
          0.0464,
          0.065,
          0.0942,
          0.0723,
          0.1081,
          0.0338,
          0.0663,
          0.1253,
          0.0736,
          0.0968,
          0.011899999999999999,
          0.051699999999999996,
          0.08220000000000001,
          0.0305
         ]
        },
        {
         "name": "Score at Threshold 13.0",
         "type": "bar",
         "visible": false,
         "x": [
          "BERT Base (cased)",
          "BERT Base (uncased)",
          "BERT Large (uncased)",
          "BERT Large (cased)",
          "Multilingual BERT (uncased)",
          "Multilingual BERT (cased)",
          "SciBERT",
          "Bio + Clinical BERT",
          "PubMed BERT",
          "Legal BERT",
          "Hate BERT",
          "BERT for Patents",
          "Security BERT",
          "AlBERT (v1)",
          "AlBERT (v2)",
          "RoBERTa Base",
          "Distilled RoBERTa Base",
          "RoBERTa Large",
          "Code RoBERTa",
          "Climate RoBERTa Base (distilled)",
          "Multilingual RoBERTa",
          "Distilled Multilingual BERT (cased)"
         ],
         "y": [
          0.0716,
          0.0729,
          0.0968,
          0.0849,
          0.0444,
          0.0458,
          0.0385,
          0.049699999999999994,
          0.0385,
          0.057,
          0.08689999999999999,
          0.065,
          0.0981,
          0.031200000000000002,
          0.059000000000000004,
          0.1167,
          0.0637,
          0.08689999999999999,
          0.0086,
          0.0431,
          0.0776,
          0.0259
         ]
        },
        {
         "name": "Score at Threshold 14.0",
         "type": "bar",
         "visible": false,
         "x": [
          "BERT Base (cased)",
          "BERT Base (uncased)",
          "BERT Large (uncased)",
          "BERT Large (cased)",
          "Multilingual BERT (uncased)",
          "Multilingual BERT (cased)",
          "SciBERT",
          "Bio + Clinical BERT",
          "PubMed BERT",
          "Legal BERT",
          "Hate BERT",
          "BERT for Patents",
          "Security BERT",
          "AlBERT (v1)",
          "AlBERT (v2)",
          "RoBERTa Base",
          "Distilled RoBERTa Base",
          "RoBERTa Large",
          "Code RoBERTa",
          "Climate RoBERTa Base (distilled)",
          "Multilingual RoBERTa",
          "Distilled Multilingual BERT (cased)"
         ],
         "y": [
          0.067,
          0.0676,
          0.0875,
          0.0776,
          0.0398,
          0.0365,
          0.0345,
          0.0418,
          0.0338,
          0.051699999999999996,
          0.0802,
          0.059000000000000004,
          0.0855,
          0.0298,
          0.053099999999999994,
          0.1074,
          0.0584,
          0.0802,
          0.008,
          0.0371,
          0.0723,
          0.0239
         ]
        },
        {
         "name": "Score at Threshold 15.0",
         "type": "bar",
         "visible": false,
         "x": [
          "BERT Base (cased)",
          "BERT Base (uncased)",
          "BERT Large (uncased)",
          "BERT Large (cased)",
          "Multilingual BERT (uncased)",
          "Multilingual BERT (cased)",
          "SciBERT",
          "Bio + Clinical BERT",
          "PubMed BERT",
          "Legal BERT",
          "Hate BERT",
          "BERT for Patents",
          "Security BERT",
          "AlBERT (v1)",
          "AlBERT (v2)",
          "RoBERTa Base",
          "Distilled RoBERTa Base",
          "RoBERTa Large",
          "Code RoBERTa",
          "Climate RoBERTa Base (distilled)",
          "Multilingual RoBERTa",
          "Distilled Multilingual BERT (cased)"
         ],
         "y": [
          0.0643,
          0.0637,
          0.0816,
          0.0703,
          0.0371,
          0.0332,
          0.0298,
          0.0358,
          0.0298,
          0.0464,
          0.071,
          0.053099999999999994,
          0.07690000000000001,
          0.027200000000000002,
          0.0464,
          0.0968,
          0.0524,
          0.07490000000000001,
          0.0066,
          0.0358,
          0.067,
          0.0206
         ]
        },
        {
         "name": "Score at Threshold 16.0",
         "type": "bar",
         "visible": false,
         "x": [
          "BERT Base (cased)",
          "BERT Base (uncased)",
          "BERT Large (uncased)",
          "BERT Large (cased)",
          "Multilingual BERT (uncased)",
          "Multilingual BERT (cased)",
          "SciBERT",
          "Bio + Clinical BERT",
          "PubMed BERT",
          "Legal BERT",
          "Hate BERT",
          "BERT for Patents",
          "Security BERT",
          "AlBERT (v1)",
          "AlBERT (v2)",
          "RoBERTa Base",
          "Distilled RoBERTa Base",
          "RoBERTa Large",
          "Code RoBERTa",
          "Climate RoBERTa Base (distilled)",
          "Multilingual RoBERTa",
          "Distilled Multilingual BERT (cased)"
         ],
         "y": [
          0.059699999999999996,
          0.059000000000000004,
          0.07690000000000001,
          0.065,
          0.0285,
          0.0285,
          0.0259,
          0.0292,
          0.0292,
          0.0431,
          0.0663,
          0.0471,
          0.0696,
          0.0212,
          0.0391,
          0.0895,
          0.0451,
          0.0703,
          0.0066,
          0.0292,
          0.061,
          0.0159
         ]
        },
        {
         "name": "Score at Threshold 17.0",
         "type": "bar",
         "visible": false,
         "x": [
          "BERT Base (cased)",
          "BERT Base (uncased)",
          "BERT Large (uncased)",
          "BERT Large (cased)",
          "Multilingual BERT (uncased)",
          "Multilingual BERT (cased)",
          "SciBERT",
          "Bio + Clinical BERT",
          "PubMed BERT",
          "Legal BERT",
          "Hate BERT",
          "BERT for Patents",
          "Security BERT",
          "AlBERT (v1)",
          "AlBERT (v2)",
          "RoBERTa Base",
          "Distilled RoBERTa Base",
          "RoBERTa Large",
          "Code RoBERTa",
          "Climate RoBERTa Base (distilled)",
          "Multilingual RoBERTa",
          "Distilled Multilingual BERT (cased)"
         ],
         "y": [
          0.053099999999999994,
          0.057699999999999994,
          0.0696,
          0.059000000000000004,
          0.0265,
          0.0252,
          0.0252,
          0.0259,
          0.0279,
          0.0398,
          0.061,
          0.0431,
          0.06559999999999999,
          0.0172,
          0.0325,
          0.0816,
          0.0424,
          0.0663,
          0.006,
          0.0279,
          0.054400000000000004,
          0.0126
         ]
        },
        {
         "name": "Score at Threshold 18.0",
         "type": "bar",
         "visible": false,
         "x": [
          "BERT Base (cased)",
          "BERT Base (uncased)",
          "BERT Large (uncased)",
          "BERT Large (cased)",
          "Multilingual BERT (uncased)",
          "Multilingual BERT (cased)",
          "SciBERT",
          "Bio + Clinical BERT",
          "PubMed BERT",
          "Legal BERT",
          "Hate BERT",
          "BERT for Patents",
          "Security BERT",
          "AlBERT (v1)",
          "AlBERT (v2)",
          "RoBERTa Base",
          "Distilled RoBERTa Base",
          "RoBERTa Large",
          "Code RoBERTa",
          "Climate RoBERTa Base (distilled)",
          "Multilingual RoBERTa",
          "Distilled Multilingual BERT (cased)"
         ],
         "y": [
          0.0451,
          0.053099999999999994,
          0.0623,
          0.053099999999999994,
          0.0245,
          0.0225,
          0.0212,
          0.0252,
          0.0232,
          0.0358,
          0.055,
          0.0398,
          0.0603,
          0.013300000000000001,
          0.0292,
          0.0776,
          0.0378,
          0.0637,
          0.006,
          0.0252,
          0.051100000000000007,
          0.009899999999999999
         ]
        },
        {
         "name": "Score at Threshold 19.0",
         "type": "bar",
         "visible": false,
         "x": [
          "BERT Base (cased)",
          "BERT Base (uncased)",
          "BERT Large (uncased)",
          "BERT Large (cased)",
          "Multilingual BERT (uncased)",
          "Multilingual BERT (cased)",
          "SciBERT",
          "Bio + Clinical BERT",
          "PubMed BERT",
          "Legal BERT",
          "Hate BERT",
          "BERT for Patents",
          "Security BERT",
          "AlBERT (v1)",
          "AlBERT (v2)",
          "RoBERTa Base",
          "Distilled RoBERTa Base",
          "RoBERTa Large",
          "Code RoBERTa",
          "Climate RoBERTa Base (distilled)",
          "Multilingual RoBERTa",
          "Distilled Multilingual BERT (cased)"
         ],
         "y": [
          0.0418,
          0.0504,
          0.057699999999999994,
          0.0504,
          0.0239,
          0.0219,
          0.0199,
          0.0219,
          0.0206,
          0.0332,
          0.0504,
          0.0371,
          0.051699999999999996,
          0.0113,
          0.027200000000000002,
          0.069,
          0.0338,
          0.061,
          0.006,
          0.0232,
          0.049699999999999994,
          0.0086
         ]
        },
        {
         "name": "Score at Threshold 20.0",
         "type": "bar",
         "visible": false,
         "x": [
          "BERT Base (cased)",
          "BERT Base (uncased)",
          "BERT Large (uncased)",
          "BERT Large (cased)",
          "Multilingual BERT (uncased)",
          "Multilingual BERT (cased)",
          "SciBERT",
          "Bio + Clinical BERT",
          "PubMed BERT",
          "Legal BERT",
          "Hate BERT",
          "BERT for Patents",
          "Security BERT",
          "AlBERT (v1)",
          "AlBERT (v2)",
          "RoBERTa Base",
          "Distilled RoBERTa Base",
          "RoBERTa Large",
          "Code RoBERTa",
          "Climate RoBERTa Base (distilled)",
          "Multilingual RoBERTa",
          "Distilled Multilingual BERT (cased)"
         ],
         "y": [
          0.0378,
          0.0464,
          0.0537,
          0.0444,
          0.0212,
          0.0206,
          0.0172,
          0.0192,
          0.0199,
          0.0325,
          0.0444,
          0.0332,
          0.0458,
          0.0113,
          0.0259,
          0.06559999999999999,
          0.031200000000000002,
          0.0564,
          0.006,
          0.0199,
          0.0458,
          0.0073
         ]
        },
        {
         "name": "Score at Threshold 21.0",
         "type": "bar",
         "visible": false,
         "x": [
          "BERT Base (cased)",
          "BERT Base (uncased)",
          "BERT Large (uncased)",
          "BERT Large (cased)",
          "Multilingual BERT (uncased)",
          "Multilingual BERT (cased)",
          "SciBERT",
          "Bio + Clinical BERT",
          "PubMed BERT",
          "Legal BERT",
          "Hate BERT",
          "BERT for Patents",
          "Security BERT",
          "AlBERT (v1)",
          "AlBERT (v2)",
          "RoBERTa Base",
          "Distilled RoBERTa Base",
          "RoBERTa Large",
          "Code RoBERTa",
          "Climate RoBERTa Base (distilled)",
          "Multilingual RoBERTa",
          "Distilled Multilingual BERT (cased)"
         ],
         "y": [
          0.0358,
          0.0444,
          0.0504,
          0.0405,
          0.0192,
          0.0192,
          0.0166,
          0.0192,
          0.0192,
          0.0305,
          0.041100000000000005,
          0.0325,
          0.0398,
          0.0106,
          0.0239,
          0.057699999999999994,
          0.0225,
          0.054400000000000004,
          0.0053,
          0.0179,
          0.0424,
          0.0053
         ]
        },
        {
         "name": "Score at Threshold 22.0",
         "type": "bar",
         "visible": false,
         "x": [
          "BERT Base (cased)",
          "BERT Base (uncased)",
          "BERT Large (uncased)",
          "BERT Large (cased)",
          "Multilingual BERT (uncased)",
          "Multilingual BERT (cased)",
          "SciBERT",
          "Bio + Clinical BERT",
          "PubMed BERT",
          "Legal BERT",
          "Hate BERT",
          "BERT for Patents",
          "Security BERT",
          "AlBERT (v1)",
          "AlBERT (v2)",
          "RoBERTa Base",
          "Distilled RoBERTa Base",
          "RoBERTa Large",
          "Code RoBERTa",
          "Climate RoBERTa Base (distilled)",
          "Multilingual RoBERTa",
          "Distilled Multilingual BERT (cased)"
         ],
         "y": [
          0.0345,
          0.041100000000000005,
          0.04769999999999999,
          0.0391,
          0.0172,
          0.0172,
          0.0159,
          0.0172,
          0.0166,
          0.0265,
          0.0385,
          0.0298,
          0.0345,
          0.009899999999999999,
          0.0219,
          0.0557,
          0.0206,
          0.0484,
          0.0053,
          0.0139,
          0.0398,
          0.0046
         ]
        },
        {
         "name": "Score at Threshold 23.0",
         "type": "bar",
         "visible": false,
         "x": [
          "BERT Base (cased)",
          "BERT Base (uncased)",
          "BERT Large (uncased)",
          "BERT Large (cased)",
          "Multilingual BERT (uncased)",
          "Multilingual BERT (cased)",
          "SciBERT",
          "Bio + Clinical BERT",
          "PubMed BERT",
          "Legal BERT",
          "Hate BERT",
          "BERT for Patents",
          "Security BERT",
          "AlBERT (v1)",
          "AlBERT (v2)",
          "RoBERTa Base",
          "Distilled RoBERTa Base",
          "RoBERTa Large",
          "Code RoBERTa",
          "Climate RoBERTa Base (distilled)",
          "Multilingual RoBERTa",
          "Distilled Multilingual BERT (cased)"
         ],
         "y": [
          0.031200000000000002,
          0.0385,
          0.0451,
          0.0345,
          0.015300000000000001,
          0.0159,
          0.013300000000000001,
          0.0166,
          0.0139,
          0.0245,
          0.0378,
          0.0292,
          0.0305,
          0.008,
          0.0199,
          0.0537,
          0.0192,
          0.0451,
          0.0046,
          0.013300000000000001,
          0.0371,
          0.0046
         ]
        },
        {
         "name": "Score at Threshold 24.0",
         "type": "bar",
         "visible": false,
         "x": [
          "BERT Base (cased)",
          "BERT Base (uncased)",
          "BERT Large (uncased)",
          "BERT Large (cased)",
          "Multilingual BERT (uncased)",
          "Multilingual BERT (cased)",
          "SciBERT",
          "Bio + Clinical BERT",
          "PubMed BERT",
          "Legal BERT",
          "Hate BERT",
          "BERT for Patents",
          "Security BERT",
          "AlBERT (v1)",
          "AlBERT (v2)",
          "RoBERTa Base",
          "Distilled RoBERTa Base",
          "RoBERTa Large",
          "Code RoBERTa",
          "Climate RoBERTa Base (distilled)",
          "Multilingual RoBERTa",
          "Distilled Multilingual BERT (cased)"
         ],
         "y": [
          0.0285,
          0.0338,
          0.0444,
          0.0318,
          0.0146,
          0.013300000000000001,
          0.013300000000000001,
          0.0159,
          0.0113,
          0.0232,
          0.0345,
          0.0259,
          0.0279,
          0.0073,
          0.018600000000000002,
          0.051100000000000007,
          0.018600000000000002,
          0.0431,
          0.0046,
          0.011899999999999999,
          0.0351,
          0.004
         ]
        },
        {
         "name": "Score at Threshold 25.0",
         "type": "bar",
         "visible": false,
         "x": [
          "BERT Base (cased)",
          "BERT Base (uncased)",
          "BERT Large (uncased)",
          "BERT Large (cased)",
          "Multilingual BERT (uncased)",
          "Multilingual BERT (cased)",
          "SciBERT",
          "Bio + Clinical BERT",
          "PubMed BERT",
          "Legal BERT",
          "Hate BERT",
          "BERT for Patents",
          "Security BERT",
          "AlBERT (v1)",
          "AlBERT (v2)",
          "RoBERTa Base",
          "Distilled RoBERTa Base",
          "RoBERTa Large",
          "Code RoBERTa",
          "Climate RoBERTa Base (distilled)",
          "Multilingual RoBERTa",
          "Distilled Multilingual BERT (cased)"
         ],
         "y": [
          0.0259,
          0.0318,
          0.0405,
          0.031200000000000002,
          0.0146,
          0.009300000000000001,
          0.013300000000000001,
          0.0159,
          0.0106,
          0.0199,
          0.0305,
          0.0225,
          0.0245,
          0.0066,
          0.0172,
          0.0504,
          0.018600000000000002,
          0.0418,
          0.004,
          0.0113,
          0.0345,
          0.004
         ]
        },
        {
         "name": "Score at Threshold 26.0",
         "type": "bar",
         "visible": false,
         "x": [
          "BERT Base (cased)",
          "BERT Base (uncased)",
          "BERT Large (uncased)",
          "BERT Large (cased)",
          "Multilingual BERT (uncased)",
          "Multilingual BERT (cased)",
          "SciBERT",
          "Bio + Clinical BERT",
          "PubMed BERT",
          "Legal BERT",
          "Hate BERT",
          "BERT for Patents",
          "Security BERT",
          "AlBERT (v1)",
          "AlBERT (v2)",
          "RoBERTa Base",
          "Distilled RoBERTa Base",
          "RoBERTa Large",
          "Code RoBERTa",
          "Climate RoBERTa Base (distilled)",
          "Multilingual RoBERTa",
          "Distilled Multilingual BERT (cased)"
         ],
         "y": [
          0.0212,
          0.031200000000000002,
          0.0398,
          0.0279,
          0.0146,
          0.0086,
          0.0113,
          0.0146,
          0.0106,
          0.0192,
          0.0298,
          0.0212,
          0.018600000000000002,
          0.006,
          0.0172,
          0.04769999999999999,
          0.0166,
          0.0398,
          0.0033,
          0.0106,
          0.0305,
          0.0033
         ]
        },
        {
         "name": "Score at Threshold 27.0",
         "type": "bar",
         "visible": false,
         "x": [
          "BERT Base (cased)",
          "BERT Base (uncased)",
          "BERT Large (uncased)",
          "BERT Large (cased)",
          "Multilingual BERT (uncased)",
          "Multilingual BERT (cased)",
          "SciBERT",
          "Bio + Clinical BERT",
          "PubMed BERT",
          "Legal BERT",
          "Hate BERT",
          "BERT for Patents",
          "Security BERT",
          "AlBERT (v1)",
          "AlBERT (v2)",
          "RoBERTa Base",
          "Distilled RoBERTa Base",
          "RoBERTa Large",
          "Code RoBERTa",
          "Climate RoBERTa Base (distilled)",
          "Multilingual RoBERTa",
          "Distilled Multilingual BERT (cased)"
         ],
         "y": [
          0.0199,
          0.0285,
          0.0391,
          0.0265,
          0.0146,
          0.008,
          0.009899999999999999,
          0.0139,
          0.0106,
          0.0179,
          0.027200000000000002,
          0.0206,
          0.0159,
          0.006,
          0.0159,
          0.0438,
          0.015300000000000001,
          0.0378,
          0.002,
          0.009300000000000001,
          0.0292,
          0.0033
         ]
        },
        {
         "name": "Score at Threshold 28.0",
         "type": "bar",
         "visible": false,
         "x": [
          "BERT Base (cased)",
          "BERT Base (uncased)",
          "BERT Large (uncased)",
          "BERT Large (cased)",
          "Multilingual BERT (uncased)",
          "Multilingual BERT (cased)",
          "SciBERT",
          "Bio + Clinical BERT",
          "PubMed BERT",
          "Legal BERT",
          "Hate BERT",
          "BERT for Patents",
          "Security BERT",
          "AlBERT (v1)",
          "AlBERT (v2)",
          "RoBERTa Base",
          "Distilled RoBERTa Base",
          "RoBERTa Large",
          "Code RoBERTa",
          "Climate RoBERTa Base (distilled)",
          "Multilingual RoBERTa",
          "Distilled Multilingual BERT (cased)"
         ],
         "y": [
          0.018600000000000002,
          0.0265,
          0.0385,
          0.0252,
          0.0146,
          0.008,
          0.009300000000000001,
          0.0126,
          0.009300000000000001,
          0.0166,
          0.0259,
          0.0172,
          0.013300000000000001,
          0.006,
          0.015300000000000001,
          0.0418,
          0.013300000000000001,
          0.0358,
          0.002,
          0.009300000000000001,
          0.0232,
          0.0033
         ]
        },
        {
         "name": "Score at Threshold 29.0",
         "type": "bar",
         "visible": false,
         "x": [
          "BERT Base (cased)",
          "BERT Base (uncased)",
          "BERT Large (uncased)",
          "BERT Large (cased)",
          "Multilingual BERT (uncased)",
          "Multilingual BERT (cased)",
          "SciBERT",
          "Bio + Clinical BERT",
          "PubMed BERT",
          "Legal BERT",
          "Hate BERT",
          "BERT for Patents",
          "Security BERT",
          "AlBERT (v1)",
          "AlBERT (v2)",
          "RoBERTa Base",
          "Distilled RoBERTa Base",
          "RoBERTa Large",
          "Code RoBERTa",
          "Climate RoBERTa Base (distilled)",
          "Multilingual RoBERTa",
          "Distilled Multilingual BERT (cased)"
         ],
         "y": [
          0.018600000000000002,
          0.0259,
          0.0351,
          0.0239,
          0.0139,
          0.008,
          0.0073,
          0.0113,
          0.008,
          0.0139,
          0.0259,
          0.015300000000000001,
          0.0126,
          0.0053,
          0.0139,
          0.0385,
          0.013300000000000001,
          0.0345,
          0.0013,
          0.0086,
          0.0225,
          0.0027
         ]
        },
        {
         "name": "Score at Threshold 30.0",
         "type": "bar",
         "visible": false,
         "x": [
          "BERT Base (cased)",
          "BERT Base (uncased)",
          "BERT Large (uncased)",
          "BERT Large (cased)",
          "Multilingual BERT (uncased)",
          "Multilingual BERT (cased)",
          "SciBERT",
          "Bio + Clinical BERT",
          "PubMed BERT",
          "Legal BERT",
          "Hate BERT",
          "BERT for Patents",
          "Security BERT",
          "AlBERT (v1)",
          "AlBERT (v2)",
          "RoBERTa Base",
          "Distilled RoBERTa Base",
          "RoBERTa Large",
          "Code RoBERTa",
          "Climate RoBERTa Base (distilled)",
          "Multilingual RoBERTa",
          "Distilled Multilingual BERT (cased)"
         ],
         "y": [
          0.0179,
          0.0245,
          0.0318,
          0.0206,
          0.013300000000000001,
          0.008,
          0.0066,
          0.0106,
          0.008,
          0.0126,
          0.0259,
          0.0146,
          0.011899999999999999,
          0.0053,
          0.013300000000000001,
          0.0371,
          0.013300000000000001,
          0.031200000000000002,
          0.0013,
          0.0066,
          0.0212,
          0.0027
         ]
        },
        {
         "name": "Score at Threshold 31.0",
         "type": "bar",
         "visible": false,
         "x": [
          "BERT Base (cased)",
          "BERT Base (uncased)",
          "BERT Large (uncased)",
          "BERT Large (cased)",
          "Multilingual BERT (uncased)",
          "Multilingual BERT (cased)",
          "SciBERT",
          "Bio + Clinical BERT",
          "PubMed BERT",
          "Legal BERT",
          "Hate BERT",
          "BERT for Patents",
          "Security BERT",
          "AlBERT (v1)",
          "AlBERT (v2)",
          "RoBERTa Base",
          "Distilled RoBERTa Base",
          "RoBERTa Large",
          "Code RoBERTa",
          "Climate RoBERTa Base (distilled)",
          "Multilingual RoBERTa",
          "Distilled Multilingual BERT (cased)"
         ],
         "y": [
          0.0159,
          0.0245,
          0.0298,
          0.0192,
          0.0113,
          0.008,
          0.0053,
          0.009300000000000001,
          0.0073,
          0.011899999999999999,
          0.0232,
          0.0146,
          0.0113,
          0.0053,
          0.0126,
          0.0358,
          0.0113,
          0.031200000000000002,
          0.0013,
          0.0066,
          0.0206,
          0.0027
         ]
        },
        {
         "name": "Score at Threshold 32.0",
         "type": "bar",
         "visible": false,
         "x": [
          "BERT Base (cased)",
          "BERT Base (uncased)",
          "BERT Large (uncased)",
          "BERT Large (cased)",
          "Multilingual BERT (uncased)",
          "Multilingual BERT (cased)",
          "SciBERT",
          "Bio + Clinical BERT",
          "PubMed BERT",
          "Legal BERT",
          "Hate BERT",
          "BERT for Patents",
          "Security BERT",
          "AlBERT (v1)",
          "AlBERT (v2)",
          "RoBERTa Base",
          "Distilled RoBERTa Base",
          "RoBERTa Large",
          "Code RoBERTa",
          "Climate RoBERTa Base (distilled)",
          "Multilingual RoBERTa",
          "Distilled Multilingual BERT (cased)"
         ],
         "y": [
          0.0159,
          0.0219,
          0.0292,
          0.0172,
          0.0113,
          0.0066,
          0.0046,
          0.006,
          0.0073,
          0.0106,
          0.0219,
          0.0146,
          0.0113,
          0.0053,
          0.0106,
          0.0338,
          0.009899999999999999,
          0.0305,
          0.0013,
          0.0066,
          0.0192,
          0.0027
         ]
        },
        {
         "name": "Score at Threshold 33.0",
         "type": "bar",
         "visible": false,
         "x": [
          "BERT Base (cased)",
          "BERT Base (uncased)",
          "BERT Large (uncased)",
          "BERT Large (cased)",
          "Multilingual BERT (uncased)",
          "Multilingual BERT (cased)",
          "SciBERT",
          "Bio + Clinical BERT",
          "PubMed BERT",
          "Legal BERT",
          "Hate BERT",
          "BERT for Patents",
          "Security BERT",
          "AlBERT (v1)",
          "AlBERT (v2)",
          "RoBERTa Base",
          "Distilled RoBERTa Base",
          "RoBERTa Large",
          "Code RoBERTa",
          "Climate RoBERTa Base (distilled)",
          "Multilingual RoBERTa",
          "Distilled Multilingual BERT (cased)"
         ],
         "y": [
          0.0159,
          0.0212,
          0.0279,
          0.0159,
          0.0106,
          0.0066,
          0.004,
          0.006,
          0.006,
          0.009899999999999999,
          0.0212,
          0.0139,
          0.0113,
          0.0053,
          0.0106,
          0.0332,
          0.009899999999999999,
          0.0298,
          0.0013,
          0.006,
          0.018600000000000002,
          0.0027
         ]
        },
        {
         "name": "Score at Threshold 34.0",
         "type": "bar",
         "visible": false,
         "x": [
          "BERT Base (cased)",
          "BERT Base (uncased)",
          "BERT Large (uncased)",
          "BERT Large (cased)",
          "Multilingual BERT (uncased)",
          "Multilingual BERT (cased)",
          "SciBERT",
          "Bio + Clinical BERT",
          "PubMed BERT",
          "Legal BERT",
          "Hate BERT",
          "BERT for Patents",
          "Security BERT",
          "AlBERT (v1)",
          "AlBERT (v2)",
          "RoBERTa Base",
          "Distilled RoBERTa Base",
          "RoBERTa Large",
          "Code RoBERTa",
          "Climate RoBERTa Base (distilled)",
          "Multilingual RoBERTa",
          "Distilled Multilingual BERT (cased)"
         ],
         "y": [
          0.0159,
          0.0199,
          0.0245,
          0.0146,
          0.0106,
          0.0066,
          0.004,
          0.0053,
          0.006,
          0.009899999999999999,
          0.0206,
          0.013300000000000001,
          0.0113,
          0.0053,
          0.009899999999999999,
          0.0332,
          0.0086,
          0.0279,
          0.0013,
          0.0046,
          0.018600000000000002,
          0.002
         ]
        },
        {
         "name": "Score at Threshold 35.0",
         "type": "bar",
         "visible": false,
         "x": [
          "BERT Base (cased)",
          "BERT Base (uncased)",
          "BERT Large (uncased)",
          "BERT Large (cased)",
          "Multilingual BERT (uncased)",
          "Multilingual BERT (cased)",
          "SciBERT",
          "Bio + Clinical BERT",
          "PubMed BERT",
          "Legal BERT",
          "Hate BERT",
          "BERT for Patents",
          "Security BERT",
          "AlBERT (v1)",
          "AlBERT (v2)",
          "RoBERTa Base",
          "Distilled RoBERTa Base",
          "RoBERTa Large",
          "Code RoBERTa",
          "Climate RoBERTa Base (distilled)",
          "Multilingual RoBERTa",
          "Distilled Multilingual BERT (cased)"
         ],
         "y": [
          0.015300000000000001,
          0.0159,
          0.0239,
          0.0146,
          0.0106,
          0.0066,
          0.004,
          0.0053,
          0.006,
          0.0086,
          0.0192,
          0.0126,
          0.0086,
          0.0046,
          0.009899999999999999,
          0.0305,
          0.0073,
          0.0279,
          0.0013,
          0.0046,
          0.0179,
          0.0013
         ]
        },
        {
         "name": "Score at Threshold 36.0",
         "type": "bar",
         "visible": false,
         "x": [
          "BERT Base (cased)",
          "BERT Base (uncased)",
          "BERT Large (uncased)",
          "BERT Large (cased)",
          "Multilingual BERT (uncased)",
          "Multilingual BERT (cased)",
          "SciBERT",
          "Bio + Clinical BERT",
          "PubMed BERT",
          "Legal BERT",
          "Hate BERT",
          "BERT for Patents",
          "Security BERT",
          "AlBERT (v1)",
          "AlBERT (v2)",
          "RoBERTa Base",
          "Distilled RoBERTa Base",
          "RoBERTa Large",
          "Code RoBERTa",
          "Climate RoBERTa Base (distilled)",
          "Multilingual RoBERTa",
          "Distilled Multilingual BERT (cased)"
         ],
         "y": [
          0.0139,
          0.015300000000000001,
          0.0232,
          0.0139,
          0.009899999999999999,
          0.006,
          0.004,
          0.0053,
          0.0053,
          0.0086,
          0.0179,
          0.011899999999999999,
          0.008,
          0.004,
          0.009899999999999999,
          0.0265,
          0.0073,
          0.027200000000000002,
          0.0013,
          0.0046,
          0.0166,
          0.0013
         ]
        },
        {
         "name": "Score at Threshold 37.0",
         "type": "bar",
         "visible": false,
         "x": [
          "BERT Base (cased)",
          "BERT Base (uncased)",
          "BERT Large (uncased)",
          "BERT Large (cased)",
          "Multilingual BERT (uncased)",
          "Multilingual BERT (cased)",
          "SciBERT",
          "Bio + Clinical BERT",
          "PubMed BERT",
          "Legal BERT",
          "Hate BERT",
          "BERT for Patents",
          "Security BERT",
          "AlBERT (v1)",
          "AlBERT (v2)",
          "RoBERTa Base",
          "Distilled RoBERTa Base",
          "RoBERTa Large",
          "Code RoBERTa",
          "Climate RoBERTa Base (distilled)",
          "Multilingual RoBERTa",
          "Distilled Multilingual BERT (cased)"
         ],
         "y": [
          0.013300000000000001,
          0.0139,
          0.0225,
          0.0139,
          0.009300000000000001,
          0.0053,
          0.004,
          0.0053,
          0.0046,
          0.008,
          0.0166,
          0.011899999999999999,
          0.0073,
          0.004,
          0.009899999999999999,
          0.0245,
          0.0066,
          0.0232,
          0.0013,
          0.0046,
          0.0166,
          0.0013
         ]
        },
        {
         "name": "Score at Threshold 38.0",
         "type": "bar",
         "visible": false,
         "x": [
          "BERT Base (cased)",
          "BERT Base (uncased)",
          "BERT Large (uncased)",
          "BERT Large (cased)",
          "Multilingual BERT (uncased)",
          "Multilingual BERT (cased)",
          "SciBERT",
          "Bio + Clinical BERT",
          "PubMed BERT",
          "Legal BERT",
          "Hate BERT",
          "BERT for Patents",
          "Security BERT",
          "AlBERT (v1)",
          "AlBERT (v2)",
          "RoBERTa Base",
          "Distilled RoBERTa Base",
          "RoBERTa Large",
          "Code RoBERTa",
          "Climate RoBERTa Base (distilled)",
          "Multilingual RoBERTa",
          "Distilled Multilingual BERT (cased)"
         ],
         "y": [
          0.013300000000000001,
          0.013300000000000001,
          0.0206,
          0.0139,
          0.008,
          0.0046,
          0.0033,
          0.0053,
          0.0046,
          0.008,
          0.015300000000000001,
          0.0106,
          0.0066,
          0.004,
          0.009300000000000001,
          0.0239,
          0.0053,
          0.0206,
          0.0013,
          0.0046,
          0.0166,
          0.0007000000000000001
         ]
        },
        {
         "name": "Score at Threshold 39.0",
         "type": "bar",
         "visible": false,
         "x": [
          "BERT Base (cased)",
          "BERT Base (uncased)",
          "BERT Large (uncased)",
          "BERT Large (cased)",
          "Multilingual BERT (uncased)",
          "Multilingual BERT (cased)",
          "SciBERT",
          "Bio + Clinical BERT",
          "PubMed BERT",
          "Legal BERT",
          "Hate BERT",
          "BERT for Patents",
          "Security BERT",
          "AlBERT (v1)",
          "AlBERT (v2)",
          "RoBERTa Base",
          "Distilled RoBERTa Base",
          "RoBERTa Large",
          "Code RoBERTa",
          "Climate RoBERTa Base (distilled)",
          "Multilingual RoBERTa",
          "Distilled Multilingual BERT (cased)"
         ],
         "y": [
          0.0113,
          0.0126,
          0.0192,
          0.013300000000000001,
          0.0073,
          0.0046,
          0.0033,
          0.0046,
          0.0033,
          0.008,
          0.0146,
          0.009300000000000001,
          0.006,
          0.0033,
          0.009300000000000001,
          0.0206,
          0.0053,
          0.0199,
          0.0013,
          0.0046,
          0.015300000000000001,
          0.0007000000000000001
         ]
        },
        {
         "name": "Score at Threshold 40.0",
         "type": "bar",
         "visible": false,
         "x": [
          "BERT Base (cased)",
          "BERT Base (uncased)",
          "BERT Large (uncased)",
          "BERT Large (cased)",
          "Multilingual BERT (uncased)",
          "Multilingual BERT (cased)",
          "SciBERT",
          "Bio + Clinical BERT",
          "PubMed BERT",
          "Legal BERT",
          "Hate BERT",
          "BERT for Patents",
          "Security BERT",
          "AlBERT (v1)",
          "AlBERT (v2)",
          "RoBERTa Base",
          "Distilled RoBERTa Base",
          "RoBERTa Large",
          "Code RoBERTa",
          "Climate RoBERTa Base (distilled)",
          "Multilingual RoBERTa",
          "Distilled Multilingual BERT (cased)"
         ],
         "y": [
          0.0106,
          0.0106,
          0.0192,
          0.0126,
          0.0066,
          0.0046,
          0.0033,
          0.0046,
          0.0027,
          0.008,
          0.0139,
          0.009300000000000001,
          0.006,
          0.0033,
          0.0073,
          0.018600000000000002,
          0.0053,
          0.0199,
          0.0013,
          0.0046,
          0.011899999999999999,
          0.0007000000000000001
         ]
        }
       ],
       "layout": {
        "sliders": [
         {
          "active": 1,
          "currentvalue": {
           "prefix": "Threshold: "
          },
          "pad": {
           "t": 150
          },
          "steps": [
           {
            "args": [
             {
              "visible": [
               true,
               false,
               false,
               false,
               false,
               false,
               false,
               false,
               false,
               false,
               false,
               false,
               false,
               false,
               false,
               false,
               false,
               false,
               false,
               false,
               false,
               false,
               false,
               false,
               false,
               false,
               false,
               false,
               false,
               false,
               false,
               false,
               false,
               false,
               false,
               false,
               false,
               false,
               false,
               false,
               false
              ]
             },
             {
              "title": "Non-Bias Scores for 22 Models at Threshold:0%"
             }
            ],
            "label": "0%",
            "method": "update"
           },
           {
            "args": [
             {
              "visible": [
               false,
               true,
               false,
               false,
               false,
               false,
               false,
               false,
               false,
               false,
               false,
               false,
               false,
               false,
               false,
               false,
               false,
               false,
               false,
               false,
               false,
               false,
               false,
               false,
               false,
               false,
               false,
               false,
               false,
               false,
               false,
               false,
               false,
               false,
               false,
               false,
               false,
               false,
               false,
               false,
               false
              ]
             },
             {
              "title": "Non-Bias Scores for 22 Models at Threshold:1%"
             }
            ],
            "label": "1%",
            "method": "update"
           },
           {
            "args": [
             {
              "visible": [
               false,
               false,
               true,
               false,
               false,
               false,
               false,
               false,
               false,
               false,
               false,
               false,
               false,
               false,
               false,
               false,
               false,
               false,
               false,
               false,
               false,
               false,
               false,
               false,
               false,
               false,
               false,
               false,
               false,
               false,
               false,
               false,
               false,
               false,
               false,
               false,
               false,
               false,
               false,
               false,
               false
              ]
             },
             {
              "title": "Non-Bias Scores for 22 Models at Threshold:2%"
             }
            ],
            "label": "2%",
            "method": "update"
           },
           {
            "args": [
             {
              "visible": [
               false,
               false,
               false,
               true,
               false,
               false,
               false,
               false,
               false,
               false,
               false,
               false,
               false,
               false,
               false,
               false,
               false,
               false,
               false,
               false,
               false,
               false,
               false,
               false,
               false,
               false,
               false,
               false,
               false,
               false,
               false,
               false,
               false,
               false,
               false,
               false,
               false,
               false,
               false,
               false,
               false
              ]
             },
             {
              "title": "Non-Bias Scores for 22 Models at Threshold:3%"
             }
            ],
            "label": "3%",
            "method": "update"
           },
           {
            "args": [
             {
              "visible": [
               false,
               false,
               false,
               false,
               true,
               false,
               false,
               false,
               false,
               false,
               false,
               false,
               false,
               false,
               false,
               false,
               false,
               false,
               false,
               false,
               false,
               false,
               false,
               false,
               false,
               false,
               false,
               false,
               false,
               false,
               false,
               false,
               false,
               false,
               false,
               false,
               false,
               false,
               false,
               false,
               false
              ]
             },
             {
              "title": "Non-Bias Scores for 22 Models at Threshold:4%"
             }
            ],
            "label": "4%",
            "method": "update"
           },
           {
            "args": [
             {
              "visible": [
               false,
               false,
               false,
               false,
               false,
               true,
               false,
               false,
               false,
               false,
               false,
               false,
               false,
               false,
               false,
               false,
               false,
               false,
               false,
               false,
               false,
               false,
               false,
               false,
               false,
               false,
               false,
               false,
               false,
               false,
               false,
               false,
               false,
               false,
               false,
               false,
               false,
               false,
               false,
               false,
               false
              ]
             },
             {
              "title": "Non-Bias Scores for 22 Models at Threshold:5%"
             }
            ],
            "label": "5%",
            "method": "update"
           },
           {
            "args": [
             {
              "visible": [
               false,
               false,
               false,
               false,
               false,
               false,
               true,
               false,
               false,
               false,
               false,
               false,
               false,
               false,
               false,
               false,
               false,
               false,
               false,
               false,
               false,
               false,
               false,
               false,
               false,
               false,
               false,
               false,
               false,
               false,
               false,
               false,
               false,
               false,
               false,
               false,
               false,
               false,
               false,
               false,
               false
              ]
             },
             {
              "title": "Non-Bias Scores for 22 Models at Threshold:6%"
             }
            ],
            "label": "6%",
            "method": "update"
           },
           {
            "args": [
             {
              "visible": [
               false,
               false,
               false,
               false,
               false,
               false,
               false,
               true,
               false,
               false,
               false,
               false,
               false,
               false,
               false,
               false,
               false,
               false,
               false,
               false,
               false,
               false,
               false,
               false,
               false,
               false,
               false,
               false,
               false,
               false,
               false,
               false,
               false,
               false,
               false,
               false,
               false,
               false,
               false,
               false,
               false
              ]
             },
             {
              "title": "Non-Bias Scores for 22 Models at Threshold:7%"
             }
            ],
            "label": "7%",
            "method": "update"
           },
           {
            "args": [
             {
              "visible": [
               false,
               false,
               false,
               false,
               false,
               false,
               false,
               false,
               true,
               false,
               false,
               false,
               false,
               false,
               false,
               false,
               false,
               false,
               false,
               false,
               false,
               false,
               false,
               false,
               false,
               false,
               false,
               false,
               false,
               false,
               false,
               false,
               false,
               false,
               false,
               false,
               false,
               false,
               false,
               false,
               false
              ]
             },
             {
              "title": "Non-Bias Scores for 22 Models at Threshold:8%"
             }
            ],
            "label": "8%",
            "method": "update"
           },
           {
            "args": [
             {
              "visible": [
               false,
               false,
               false,
               false,
               false,
               false,
               false,
               false,
               false,
               true,
               false,
               false,
               false,
               false,
               false,
               false,
               false,
               false,
               false,
               false,
               false,
               false,
               false,
               false,
               false,
               false,
               false,
               false,
               false,
               false,
               false,
               false,
               false,
               false,
               false,
               false,
               false,
               false,
               false,
               false,
               false
              ]
             },
             {
              "title": "Non-Bias Scores for 22 Models at Threshold:9%"
             }
            ],
            "label": "9%",
            "method": "update"
           },
           {
            "args": [
             {
              "visible": [
               false,
               false,
               false,
               false,
               false,
               false,
               false,
               false,
               false,
               false,
               true,
               false,
               false,
               false,
               false,
               false,
               false,
               false,
               false,
               false,
               false,
               false,
               false,
               false,
               false,
               false,
               false,
               false,
               false,
               false,
               false,
               false,
               false,
               false,
               false,
               false,
               false,
               false,
               false,
               false,
               false
              ]
             },
             {
              "title": "Non-Bias Scores for 22 Models at Threshold:10%"
             }
            ],
            "label": "10%",
            "method": "update"
           },
           {
            "args": [
             {
              "visible": [
               false,
               false,
               false,
               false,
               false,
               false,
               false,
               false,
               false,
               false,
               false,
               true,
               false,
               false,
               false,
               false,
               false,
               false,
               false,
               false,
               false,
               false,
               false,
               false,
               false,
               false,
               false,
               false,
               false,
               false,
               false,
               false,
               false,
               false,
               false,
               false,
               false,
               false,
               false,
               false,
               false
              ]
             },
             {
              "title": "Non-Bias Scores for 22 Models at Threshold:11%"
             }
            ],
            "label": "11%",
            "method": "update"
           },
           {
            "args": [
             {
              "visible": [
               false,
               false,
               false,
               false,
               false,
               false,
               false,
               false,
               false,
               false,
               false,
               false,
               true,
               false,
               false,
               false,
               false,
               false,
               false,
               false,
               false,
               false,
               false,
               false,
               false,
               false,
               false,
               false,
               false,
               false,
               false,
               false,
               false,
               false,
               false,
               false,
               false,
               false,
               false,
               false,
               false
              ]
             },
             {
              "title": "Non-Bias Scores for 22 Models at Threshold:12%"
             }
            ],
            "label": "12%",
            "method": "update"
           },
           {
            "args": [
             {
              "visible": [
               false,
               false,
               false,
               false,
               false,
               false,
               false,
               false,
               false,
               false,
               false,
               false,
               false,
               true,
               false,
               false,
               false,
               false,
               false,
               false,
               false,
               false,
               false,
               false,
               false,
               false,
               false,
               false,
               false,
               false,
               false,
               false,
               false,
               false,
               false,
               false,
               false,
               false,
               false,
               false,
               false
              ]
             },
             {
              "title": "Non-Bias Scores for 22 Models at Threshold:13%"
             }
            ],
            "label": "13%",
            "method": "update"
           },
           {
            "args": [
             {
              "visible": [
               false,
               false,
               false,
               false,
               false,
               false,
               false,
               false,
               false,
               false,
               false,
               false,
               false,
               false,
               true,
               false,
               false,
               false,
               false,
               false,
               false,
               false,
               false,
               false,
               false,
               false,
               false,
               false,
               false,
               false,
               false,
               false,
               false,
               false,
               false,
               false,
               false,
               false,
               false,
               false,
               false
              ]
             },
             {
              "title": "Non-Bias Scores for 22 Models at Threshold:14%"
             }
            ],
            "label": "14%",
            "method": "update"
           },
           {
            "args": [
             {
              "visible": [
               false,
               false,
               false,
               false,
               false,
               false,
               false,
               false,
               false,
               false,
               false,
               false,
               false,
               false,
               false,
               true,
               false,
               false,
               false,
               false,
               false,
               false,
               false,
               false,
               false,
               false,
               false,
               false,
               false,
               false,
               false,
               false,
               false,
               false,
               false,
               false,
               false,
               false,
               false,
               false,
               false
              ]
             },
             {
              "title": "Non-Bias Scores for 22 Models at Threshold:15%"
             }
            ],
            "label": "15%",
            "method": "update"
           },
           {
            "args": [
             {
              "visible": [
               false,
               false,
               false,
               false,
               false,
               false,
               false,
               false,
               false,
               false,
               false,
               false,
               false,
               false,
               false,
               false,
               true,
               false,
               false,
               false,
               false,
               false,
               false,
               false,
               false,
               false,
               false,
               false,
               false,
               false,
               false,
               false,
               false,
               false,
               false,
               false,
               false,
               false,
               false,
               false,
               false
              ]
             },
             {
              "title": "Non-Bias Scores for 22 Models at Threshold:16%"
             }
            ],
            "label": "16%",
            "method": "update"
           },
           {
            "args": [
             {
              "visible": [
               false,
               false,
               false,
               false,
               false,
               false,
               false,
               false,
               false,
               false,
               false,
               false,
               false,
               false,
               false,
               false,
               false,
               true,
               false,
               false,
               false,
               false,
               false,
               false,
               false,
               false,
               false,
               false,
               false,
               false,
               false,
               false,
               false,
               false,
               false,
               false,
               false,
               false,
               false,
               false,
               false
              ]
             },
             {
              "title": "Non-Bias Scores for 22 Models at Threshold:17%"
             }
            ],
            "label": "17%",
            "method": "update"
           },
           {
            "args": [
             {
              "visible": [
               false,
               false,
               false,
               false,
               false,
               false,
               false,
               false,
               false,
               false,
               false,
               false,
               false,
               false,
               false,
               false,
               false,
               false,
               true,
               false,
               false,
               false,
               false,
               false,
               false,
               false,
               false,
               false,
               false,
               false,
               false,
               false,
               false,
               false,
               false,
               false,
               false,
               false,
               false,
               false,
               false
              ]
             },
             {
              "title": "Non-Bias Scores for 22 Models at Threshold:18%"
             }
            ],
            "label": "18%",
            "method": "update"
           },
           {
            "args": [
             {
              "visible": [
               false,
               false,
               false,
               false,
               false,
               false,
               false,
               false,
               false,
               false,
               false,
               false,
               false,
               false,
               false,
               false,
               false,
               false,
               false,
               true,
               false,
               false,
               false,
               false,
               false,
               false,
               false,
               false,
               false,
               false,
               false,
               false,
               false,
               false,
               false,
               false,
               false,
               false,
               false,
               false,
               false
              ]
             },
             {
              "title": "Non-Bias Scores for 22 Models at Threshold:19%"
             }
            ],
            "label": "19%",
            "method": "update"
           },
           {
            "args": [
             {
              "visible": [
               false,
               false,
               false,
               false,
               false,
               false,
               false,
               false,
               false,
               false,
               false,
               false,
               false,
               false,
               false,
               false,
               false,
               false,
               false,
               false,
               true,
               false,
               false,
               false,
               false,
               false,
               false,
               false,
               false,
               false,
               false,
               false,
               false,
               false,
               false,
               false,
               false,
               false,
               false,
               false,
               false
              ]
             },
             {
              "title": "Non-Bias Scores for 22 Models at Threshold:20%"
             }
            ],
            "label": "20%",
            "method": "update"
           },
           {
            "args": [
             {
              "visible": [
               false,
               false,
               false,
               false,
               false,
               false,
               false,
               false,
               false,
               false,
               false,
               false,
               false,
               false,
               false,
               false,
               false,
               false,
               false,
               false,
               false,
               true,
               false,
               false,
               false,
               false,
               false,
               false,
               false,
               false,
               false,
               false,
               false,
               false,
               false,
               false,
               false,
               false,
               false,
               false,
               false
              ]
             },
             {
              "title": "Non-Bias Scores for 22 Models at Threshold:21%"
             }
            ],
            "label": "21%",
            "method": "update"
           },
           {
            "args": [
             {
              "visible": [
               false,
               false,
               false,
               false,
               false,
               false,
               false,
               false,
               false,
               false,
               false,
               false,
               false,
               false,
               false,
               false,
               false,
               false,
               false,
               false,
               false,
               false,
               true,
               false,
               false,
               false,
               false,
               false,
               false,
               false,
               false,
               false,
               false,
               false,
               false,
               false,
               false,
               false,
               false,
               false,
               false
              ]
             },
             {
              "title": "Non-Bias Scores for 22 Models at Threshold:22%"
             }
            ],
            "label": "22%",
            "method": "update"
           },
           {
            "args": [
             {
              "visible": [
               false,
               false,
               false,
               false,
               false,
               false,
               false,
               false,
               false,
               false,
               false,
               false,
               false,
               false,
               false,
               false,
               false,
               false,
               false,
               false,
               false,
               false,
               false,
               true,
               false,
               false,
               false,
               false,
               false,
               false,
               false,
               false,
               false,
               false,
               false,
               false,
               false,
               false,
               false,
               false,
               false
              ]
             },
             {
              "title": "Non-Bias Scores for 22 Models at Threshold:23%"
             }
            ],
            "label": "23%",
            "method": "update"
           },
           {
            "args": [
             {
              "visible": [
               false,
               false,
               false,
               false,
               false,
               false,
               false,
               false,
               false,
               false,
               false,
               false,
               false,
               false,
               false,
               false,
               false,
               false,
               false,
               false,
               false,
               false,
               false,
               false,
               true,
               false,
               false,
               false,
               false,
               false,
               false,
               false,
               false,
               false,
               false,
               false,
               false,
               false,
               false,
               false,
               false
              ]
             },
             {
              "title": "Non-Bias Scores for 22 Models at Threshold:24%"
             }
            ],
            "label": "24%",
            "method": "update"
           },
           {
            "args": [
             {
              "visible": [
               false,
               false,
               false,
               false,
               false,
               false,
               false,
               false,
               false,
               false,
               false,
               false,
               false,
               false,
               false,
               false,
               false,
               false,
               false,
               false,
               false,
               false,
               false,
               false,
               false,
               true,
               false,
               false,
               false,
               false,
               false,
               false,
               false,
               false,
               false,
               false,
               false,
               false,
               false,
               false,
               false
              ]
             },
             {
              "title": "Non-Bias Scores for 22 Models at Threshold:25%"
             }
            ],
            "label": "25%",
            "method": "update"
           },
           {
            "args": [
             {
              "visible": [
               false,
               false,
               false,
               false,
               false,
               false,
               false,
               false,
               false,
               false,
               false,
               false,
               false,
               false,
               false,
               false,
               false,
               false,
               false,
               false,
               false,
               false,
               false,
               false,
               false,
               false,
               true,
               false,
               false,
               false,
               false,
               false,
               false,
               false,
               false,
               false,
               false,
               false,
               false,
               false,
               false
              ]
             },
             {
              "title": "Non-Bias Scores for 22 Models at Threshold:26%"
             }
            ],
            "label": "26%",
            "method": "update"
           },
           {
            "args": [
             {
              "visible": [
               false,
               false,
               false,
               false,
               false,
               false,
               false,
               false,
               false,
               false,
               false,
               false,
               false,
               false,
               false,
               false,
               false,
               false,
               false,
               false,
               false,
               false,
               false,
               false,
               false,
               false,
               false,
               true,
               false,
               false,
               false,
               false,
               false,
               false,
               false,
               false,
               false,
               false,
               false,
               false,
               false
              ]
             },
             {
              "title": "Non-Bias Scores for 22 Models at Threshold:27%"
             }
            ],
            "label": "27%",
            "method": "update"
           },
           {
            "args": [
             {
              "visible": [
               false,
               false,
               false,
               false,
               false,
               false,
               false,
               false,
               false,
               false,
               false,
               false,
               false,
               false,
               false,
               false,
               false,
               false,
               false,
               false,
               false,
               false,
               false,
               false,
               false,
               false,
               false,
               false,
               true,
               false,
               false,
               false,
               false,
               false,
               false,
               false,
               false,
               false,
               false,
               false,
               false
              ]
             },
             {
              "title": "Non-Bias Scores for 22 Models at Threshold:28%"
             }
            ],
            "label": "28%",
            "method": "update"
           },
           {
            "args": [
             {
              "visible": [
               false,
               false,
               false,
               false,
               false,
               false,
               false,
               false,
               false,
               false,
               false,
               false,
               false,
               false,
               false,
               false,
               false,
               false,
               false,
               false,
               false,
               false,
               false,
               false,
               false,
               false,
               false,
               false,
               false,
               true,
               false,
               false,
               false,
               false,
               false,
               false,
               false,
               false,
               false,
               false,
               false
              ]
             },
             {
              "title": "Non-Bias Scores for 22 Models at Threshold:29%"
             }
            ],
            "label": "29%",
            "method": "update"
           },
           {
            "args": [
             {
              "visible": [
               false,
               false,
               false,
               false,
               false,
               false,
               false,
               false,
               false,
               false,
               false,
               false,
               false,
               false,
               false,
               false,
               false,
               false,
               false,
               false,
               false,
               false,
               false,
               false,
               false,
               false,
               false,
               false,
               false,
               false,
               true,
               false,
               false,
               false,
               false,
               false,
               false,
               false,
               false,
               false,
               false
              ]
             },
             {
              "title": "Non-Bias Scores for 22 Models at Threshold:30%"
             }
            ],
            "label": "30%",
            "method": "update"
           },
           {
            "args": [
             {
              "visible": [
               false,
               false,
               false,
               false,
               false,
               false,
               false,
               false,
               false,
               false,
               false,
               false,
               false,
               false,
               false,
               false,
               false,
               false,
               false,
               false,
               false,
               false,
               false,
               false,
               false,
               false,
               false,
               false,
               false,
               false,
               false,
               true,
               false,
               false,
               false,
               false,
               false,
               false,
               false,
               false,
               false
              ]
             },
             {
              "title": "Non-Bias Scores for 22 Models at Threshold:31%"
             }
            ],
            "label": "31%",
            "method": "update"
           },
           {
            "args": [
             {
              "visible": [
               false,
               false,
               false,
               false,
               false,
               false,
               false,
               false,
               false,
               false,
               false,
               false,
               false,
               false,
               false,
               false,
               false,
               false,
               false,
               false,
               false,
               false,
               false,
               false,
               false,
               false,
               false,
               false,
               false,
               false,
               false,
               false,
               true,
               false,
               false,
               false,
               false,
               false,
               false,
               false,
               false
              ]
             },
             {
              "title": "Non-Bias Scores for 22 Models at Threshold:32%"
             }
            ],
            "label": "32%",
            "method": "update"
           },
           {
            "args": [
             {
              "visible": [
               false,
               false,
               false,
               false,
               false,
               false,
               false,
               false,
               false,
               false,
               false,
               false,
               false,
               false,
               false,
               false,
               false,
               false,
               false,
               false,
               false,
               false,
               false,
               false,
               false,
               false,
               false,
               false,
               false,
               false,
               false,
               false,
               false,
               true,
               false,
               false,
               false,
               false,
               false,
               false,
               false
              ]
             },
             {
              "title": "Non-Bias Scores for 22 Models at Threshold:33%"
             }
            ],
            "label": "33%",
            "method": "update"
           },
           {
            "args": [
             {
              "visible": [
               false,
               false,
               false,
               false,
               false,
               false,
               false,
               false,
               false,
               false,
               false,
               false,
               false,
               false,
               false,
               false,
               false,
               false,
               false,
               false,
               false,
               false,
               false,
               false,
               false,
               false,
               false,
               false,
               false,
               false,
               false,
               false,
               false,
               false,
               true,
               false,
               false,
               false,
               false,
               false,
               false
              ]
             },
             {
              "title": "Non-Bias Scores for 22 Models at Threshold:34%"
             }
            ],
            "label": "34%",
            "method": "update"
           },
           {
            "args": [
             {
              "visible": [
               false,
               false,
               false,
               false,
               false,
               false,
               false,
               false,
               false,
               false,
               false,
               false,
               false,
               false,
               false,
               false,
               false,
               false,
               false,
               false,
               false,
               false,
               false,
               false,
               false,
               false,
               false,
               false,
               false,
               false,
               false,
               false,
               false,
               false,
               false,
               true,
               false,
               false,
               false,
               false,
               false
              ]
             },
             {
              "title": "Non-Bias Scores for 22 Models at Threshold:35%"
             }
            ],
            "label": "35%",
            "method": "update"
           },
           {
            "args": [
             {
              "visible": [
               false,
               false,
               false,
               false,
               false,
               false,
               false,
               false,
               false,
               false,
               false,
               false,
               false,
               false,
               false,
               false,
               false,
               false,
               false,
               false,
               false,
               false,
               false,
               false,
               false,
               false,
               false,
               false,
               false,
               false,
               false,
               false,
               false,
               false,
               false,
               false,
               true,
               false,
               false,
               false,
               false
              ]
             },
             {
              "title": "Non-Bias Scores for 22 Models at Threshold:36%"
             }
            ],
            "label": "36%",
            "method": "update"
           },
           {
            "args": [
             {
              "visible": [
               false,
               false,
               false,
               false,
               false,
               false,
               false,
               false,
               false,
               false,
               false,
               false,
               false,
               false,
               false,
               false,
               false,
               false,
               false,
               false,
               false,
               false,
               false,
               false,
               false,
               false,
               false,
               false,
               false,
               false,
               false,
               false,
               false,
               false,
               false,
               false,
               false,
               true,
               false,
               false,
               false
              ]
             },
             {
              "title": "Non-Bias Scores for 22 Models at Threshold:37%"
             }
            ],
            "label": "37%",
            "method": "update"
           },
           {
            "args": [
             {
              "visible": [
               false,
               false,
               false,
               false,
               false,
               false,
               false,
               false,
               false,
               false,
               false,
               false,
               false,
               false,
               false,
               false,
               false,
               false,
               false,
               false,
               false,
               false,
               false,
               false,
               false,
               false,
               false,
               false,
               false,
               false,
               false,
               false,
               false,
               false,
               false,
               false,
               false,
               false,
               true,
               false,
               false
              ]
             },
             {
              "title": "Non-Bias Scores for 22 Models at Threshold:38%"
             }
            ],
            "label": "38%",
            "method": "update"
           },
           {
            "args": [
             {
              "visible": [
               false,
               false,
               false,
               false,
               false,
               false,
               false,
               false,
               false,
               false,
               false,
               false,
               false,
               false,
               false,
               false,
               false,
               false,
               false,
               false,
               false,
               false,
               false,
               false,
               false,
               false,
               false,
               false,
               false,
               false,
               false,
               false,
               false,
               false,
               false,
               false,
               false,
               false,
               false,
               true,
               false
              ]
             },
             {
              "title": "Non-Bias Scores for 22 Models at Threshold:39%"
             }
            ],
            "label": "39%",
            "method": "update"
           },
           {
            "args": [
             {
              "visible": [
               false,
               false,
               false,
               false,
               false,
               false,
               false,
               false,
               false,
               false,
               false,
               false,
               false,
               false,
               false,
               false,
               false,
               false,
               false,
               false,
               false,
               false,
               false,
               false,
               false,
               false,
               false,
               false,
               false,
               false,
               false,
               false,
               false,
               false,
               false,
               false,
               false,
               false,
               false,
               false,
               true
              ]
             },
             {
              "title": "Non-Bias Scores for 22 Models at Threshold:40%"
             }
            ],
            "label": "40%",
            "method": "update"
           }
          ]
         }
        ],
        "template": {
         "data": {
          "bar": [
           {
            "error_x": {
             "color": "#2a3f5f"
            },
            "error_y": {
             "color": "#2a3f5f"
            },
            "marker": {
             "line": {
              "color": "#E5ECF6",
              "width": 0.5
             },
             "pattern": {
              "fillmode": "overlay",
              "size": 10,
              "solidity": 0.2
             }
            },
            "type": "bar"
           }
          ],
          "barpolar": [
           {
            "marker": {
             "line": {
              "color": "#E5ECF6",
              "width": 0.5
             },
             "pattern": {
              "fillmode": "overlay",
              "size": 10,
              "solidity": 0.2
             }
            },
            "type": "barpolar"
           }
          ],
          "carpet": [
           {
            "aaxis": {
             "endlinecolor": "#2a3f5f",
             "gridcolor": "white",
             "linecolor": "white",
             "minorgridcolor": "white",
             "startlinecolor": "#2a3f5f"
            },
            "baxis": {
             "endlinecolor": "#2a3f5f",
             "gridcolor": "white",
             "linecolor": "white",
             "minorgridcolor": "white",
             "startlinecolor": "#2a3f5f"
            },
            "type": "carpet"
           }
          ],
          "choropleth": [
           {
            "colorbar": {
             "outlinewidth": 0,
             "ticks": ""
            },
            "type": "choropleth"
           }
          ],
          "contour": [
           {
            "colorbar": {
             "outlinewidth": 0,
             "ticks": ""
            },
            "colorscale": [
             [
              0,
              "#0d0887"
             ],
             [
              0.1111111111111111,
              "#46039f"
             ],
             [
              0.2222222222222222,
              "#7201a8"
             ],
             [
              0.3333333333333333,
              "#9c179e"
             ],
             [
              0.4444444444444444,
              "#bd3786"
             ],
             [
              0.5555555555555556,
              "#d8576b"
             ],
             [
              0.6666666666666666,
              "#ed7953"
             ],
             [
              0.7777777777777778,
              "#fb9f3a"
             ],
             [
              0.8888888888888888,
              "#fdca26"
             ],
             [
              1,
              "#f0f921"
             ]
            ],
            "type": "contour"
           }
          ],
          "contourcarpet": [
           {
            "colorbar": {
             "outlinewidth": 0,
             "ticks": ""
            },
            "type": "contourcarpet"
           }
          ],
          "heatmap": [
           {
            "colorbar": {
             "outlinewidth": 0,
             "ticks": ""
            },
            "colorscale": [
             [
              0,
              "#0d0887"
             ],
             [
              0.1111111111111111,
              "#46039f"
             ],
             [
              0.2222222222222222,
              "#7201a8"
             ],
             [
              0.3333333333333333,
              "#9c179e"
             ],
             [
              0.4444444444444444,
              "#bd3786"
             ],
             [
              0.5555555555555556,
              "#d8576b"
             ],
             [
              0.6666666666666666,
              "#ed7953"
             ],
             [
              0.7777777777777778,
              "#fb9f3a"
             ],
             [
              0.8888888888888888,
              "#fdca26"
             ],
             [
              1,
              "#f0f921"
             ]
            ],
            "type": "heatmap"
           }
          ],
          "heatmapgl": [
           {
            "colorbar": {
             "outlinewidth": 0,
             "ticks": ""
            },
            "colorscale": [
             [
              0,
              "#0d0887"
             ],
             [
              0.1111111111111111,
              "#46039f"
             ],
             [
              0.2222222222222222,
              "#7201a8"
             ],
             [
              0.3333333333333333,
              "#9c179e"
             ],
             [
              0.4444444444444444,
              "#bd3786"
             ],
             [
              0.5555555555555556,
              "#d8576b"
             ],
             [
              0.6666666666666666,
              "#ed7953"
             ],
             [
              0.7777777777777778,
              "#fb9f3a"
             ],
             [
              0.8888888888888888,
              "#fdca26"
             ],
             [
              1,
              "#f0f921"
             ]
            ],
            "type": "heatmapgl"
           }
          ],
          "histogram": [
           {
            "marker": {
             "pattern": {
              "fillmode": "overlay",
              "size": 10,
              "solidity": 0.2
             }
            },
            "type": "histogram"
           }
          ],
          "histogram2d": [
           {
            "colorbar": {
             "outlinewidth": 0,
             "ticks": ""
            },
            "colorscale": [
             [
              0,
              "#0d0887"
             ],
             [
              0.1111111111111111,
              "#46039f"
             ],
             [
              0.2222222222222222,
              "#7201a8"
             ],
             [
              0.3333333333333333,
              "#9c179e"
             ],
             [
              0.4444444444444444,
              "#bd3786"
             ],
             [
              0.5555555555555556,
              "#d8576b"
             ],
             [
              0.6666666666666666,
              "#ed7953"
             ],
             [
              0.7777777777777778,
              "#fb9f3a"
             ],
             [
              0.8888888888888888,
              "#fdca26"
             ],
             [
              1,
              "#f0f921"
             ]
            ],
            "type": "histogram2d"
           }
          ],
          "histogram2dcontour": [
           {
            "colorbar": {
             "outlinewidth": 0,
             "ticks": ""
            },
            "colorscale": [
             [
              0,
              "#0d0887"
             ],
             [
              0.1111111111111111,
              "#46039f"
             ],
             [
              0.2222222222222222,
              "#7201a8"
             ],
             [
              0.3333333333333333,
              "#9c179e"
             ],
             [
              0.4444444444444444,
              "#bd3786"
             ],
             [
              0.5555555555555556,
              "#d8576b"
             ],
             [
              0.6666666666666666,
              "#ed7953"
             ],
             [
              0.7777777777777778,
              "#fb9f3a"
             ],
             [
              0.8888888888888888,
              "#fdca26"
             ],
             [
              1,
              "#f0f921"
             ]
            ],
            "type": "histogram2dcontour"
           }
          ],
          "mesh3d": [
           {
            "colorbar": {
             "outlinewidth": 0,
             "ticks": ""
            },
            "type": "mesh3d"
           }
          ],
          "parcoords": [
           {
            "line": {
             "colorbar": {
              "outlinewidth": 0,
              "ticks": ""
             }
            },
            "type": "parcoords"
           }
          ],
          "pie": [
           {
            "automargin": true,
            "type": "pie"
           }
          ],
          "scatter": [
           {
            "marker": {
             "colorbar": {
              "outlinewidth": 0,
              "ticks": ""
             }
            },
            "type": "scatter"
           }
          ],
          "scatter3d": [
           {
            "line": {
             "colorbar": {
              "outlinewidth": 0,
              "ticks": ""
             }
            },
            "marker": {
             "colorbar": {
              "outlinewidth": 0,
              "ticks": ""
             }
            },
            "type": "scatter3d"
           }
          ],
          "scattercarpet": [
           {
            "marker": {
             "colorbar": {
              "outlinewidth": 0,
              "ticks": ""
             }
            },
            "type": "scattercarpet"
           }
          ],
          "scattergeo": [
           {
            "marker": {
             "colorbar": {
              "outlinewidth": 0,
              "ticks": ""
             }
            },
            "type": "scattergeo"
           }
          ],
          "scattergl": [
           {
            "marker": {
             "colorbar": {
              "outlinewidth": 0,
              "ticks": ""
             }
            },
            "type": "scattergl"
           }
          ],
          "scattermapbox": [
           {
            "marker": {
             "colorbar": {
              "outlinewidth": 0,
              "ticks": ""
             }
            },
            "type": "scattermapbox"
           }
          ],
          "scatterpolar": [
           {
            "marker": {
             "colorbar": {
              "outlinewidth": 0,
              "ticks": ""
             }
            },
            "type": "scatterpolar"
           }
          ],
          "scatterpolargl": [
           {
            "marker": {
             "colorbar": {
              "outlinewidth": 0,
              "ticks": ""
             }
            },
            "type": "scatterpolargl"
           }
          ],
          "scatterternary": [
           {
            "marker": {
             "colorbar": {
              "outlinewidth": 0,
              "ticks": ""
             }
            },
            "type": "scatterternary"
           }
          ],
          "surface": [
           {
            "colorbar": {
             "outlinewidth": 0,
             "ticks": ""
            },
            "colorscale": [
             [
              0,
              "#0d0887"
             ],
             [
              0.1111111111111111,
              "#46039f"
             ],
             [
              0.2222222222222222,
              "#7201a8"
             ],
             [
              0.3333333333333333,
              "#9c179e"
             ],
             [
              0.4444444444444444,
              "#bd3786"
             ],
             [
              0.5555555555555556,
              "#d8576b"
             ],
             [
              0.6666666666666666,
              "#ed7953"
             ],
             [
              0.7777777777777778,
              "#fb9f3a"
             ],
             [
              0.8888888888888888,
              "#fdca26"
             ],
             [
              1,
              "#f0f921"
             ]
            ],
            "type": "surface"
           }
          ],
          "table": [
           {
            "cells": {
             "fill": {
              "color": "#EBF0F8"
             },
             "line": {
              "color": "white"
             }
            },
            "header": {
             "fill": {
              "color": "#C8D4E3"
             },
             "line": {
              "color": "white"
             }
            },
            "type": "table"
           }
          ]
         },
         "layout": {
          "annotationdefaults": {
           "arrowcolor": "#2a3f5f",
           "arrowhead": 0,
           "arrowwidth": 1
          },
          "autotypenumbers": "strict",
          "coloraxis": {
           "colorbar": {
            "outlinewidth": 0,
            "ticks": ""
           }
          },
          "colorscale": {
           "diverging": [
            [
             0,
             "#8e0152"
            ],
            [
             0.1,
             "#c51b7d"
            ],
            [
             0.2,
             "#de77ae"
            ],
            [
             0.3,
             "#f1b6da"
            ],
            [
             0.4,
             "#fde0ef"
            ],
            [
             0.5,
             "#f7f7f7"
            ],
            [
             0.6,
             "#e6f5d0"
            ],
            [
             0.7,
             "#b8e186"
            ],
            [
             0.8,
             "#7fbc41"
            ],
            [
             0.9,
             "#4d9221"
            ],
            [
             1,
             "#276419"
            ]
           ],
           "sequential": [
            [
             0,
             "#0d0887"
            ],
            [
             0.1111111111111111,
             "#46039f"
            ],
            [
             0.2222222222222222,
             "#7201a8"
            ],
            [
             0.3333333333333333,
             "#9c179e"
            ],
            [
             0.4444444444444444,
             "#bd3786"
            ],
            [
             0.5555555555555556,
             "#d8576b"
            ],
            [
             0.6666666666666666,
             "#ed7953"
            ],
            [
             0.7777777777777778,
             "#fb9f3a"
            ],
            [
             0.8888888888888888,
             "#fdca26"
            ],
            [
             1,
             "#f0f921"
            ]
           ],
           "sequentialminus": [
            [
             0,
             "#0d0887"
            ],
            [
             0.1111111111111111,
             "#46039f"
            ],
            [
             0.2222222222222222,
             "#7201a8"
            ],
            [
             0.3333333333333333,
             "#9c179e"
            ],
            [
             0.4444444444444444,
             "#bd3786"
            ],
            [
             0.5555555555555556,
             "#d8576b"
            ],
            [
             0.6666666666666666,
             "#ed7953"
            ],
            [
             0.7777777777777778,
             "#fb9f3a"
            ],
            [
             0.8888888888888888,
             "#fdca26"
            ],
            [
             1,
             "#f0f921"
            ]
           ]
          },
          "colorway": [
           "#636efa",
           "#EF553B",
           "#00cc96",
           "#ab63fa",
           "#FFA15A",
           "#19d3f3",
           "#FF6692",
           "#B6E880",
           "#FF97FF",
           "#FECB52"
          ],
          "font": {
           "color": "#2a3f5f"
          },
          "geo": {
           "bgcolor": "white",
           "lakecolor": "white",
           "landcolor": "#E5ECF6",
           "showlakes": true,
           "showland": true,
           "subunitcolor": "white"
          },
          "hoverlabel": {
           "align": "left"
          },
          "hovermode": "closest",
          "mapbox": {
           "style": "light"
          },
          "paper_bgcolor": "white",
          "plot_bgcolor": "#E5ECF6",
          "polar": {
           "angularaxis": {
            "gridcolor": "white",
            "linecolor": "white",
            "ticks": ""
           },
           "bgcolor": "#E5ECF6",
           "radialaxis": {
            "gridcolor": "white",
            "linecolor": "white",
            "ticks": ""
           }
          },
          "scene": {
           "xaxis": {
            "backgroundcolor": "#E5ECF6",
            "gridcolor": "white",
            "gridwidth": 2,
            "linecolor": "white",
            "showbackground": true,
            "ticks": "",
            "zerolinecolor": "white"
           },
           "yaxis": {
            "backgroundcolor": "#E5ECF6",
            "gridcolor": "white",
            "gridwidth": 2,
            "linecolor": "white",
            "showbackground": true,
            "ticks": "",
            "zerolinecolor": "white"
           },
           "zaxis": {
            "backgroundcolor": "#E5ECF6",
            "gridcolor": "white",
            "gridwidth": 2,
            "linecolor": "white",
            "showbackground": true,
            "ticks": "",
            "zerolinecolor": "white"
           }
          },
          "shapedefaults": {
           "line": {
            "color": "#2a3f5f"
           }
          },
          "ternary": {
           "aaxis": {
            "gridcolor": "white",
            "linecolor": "white",
            "ticks": ""
           },
           "baxis": {
            "gridcolor": "white",
            "linecolor": "white",
            "ticks": ""
           },
           "bgcolor": "#E5ECF6",
           "caxis": {
            "gridcolor": "white",
            "linecolor": "white",
            "ticks": ""
           }
          },
          "title": {
           "x": 0.05
          },
          "xaxis": {
           "automargin": true,
           "gridcolor": "white",
           "linecolor": "white",
           "ticks": "",
           "title": {
            "standoff": 15
           },
           "zerolinecolor": "white",
           "zerolinewidth": 2
          },
          "yaxis": {
           "automargin": true,
           "gridcolor": "white",
           "linecolor": "white",
           "ticks": "",
           "title": {
            "standoff": 15
           },
           "zerolinecolor": "white",
           "zerolinewidth": 2
          }
         }
        },
        "title": {
         "text": "Non-Bias Scores for 22 Models at Various Thresholds"
        },
        "xaxis": {
         "title": {
          "text": "Language Models"
         }
        },
        "yaxis": {
         "range": [
          0,
          1
         ],
         "tickformat": ".0%",
         "title": {
          "text": "Scores"
         }
        }
       }
      },
      "text/html": [
       "<div>                            <div id=\"bf7f8221-1cb8-411c-91ca-c5e53f2a8828\" class=\"plotly-graph-div\" style=\"height:525px; width:100%;\"></div>            <script type=\"text/javascript\">                require([\"plotly\"], function(Plotly) {                    window.PLOTLYENV=window.PLOTLYENV || {};                                    if (document.getElementById(\"bf7f8221-1cb8-411c-91ca-c5e53f2a8828\")) {                    Plotly.newPlot(                        \"bf7f8221-1cb8-411c-91ca-c5e53f2a8828\",                        [{\"name\":\"Score at Threshold 0.0\",\"visible\":false,\"x\":[\"BERT Base (cased)\",\"BERT Base (uncased)\",\"BERT Large (uncased)\",\"BERT Large (cased)\",\"Multilingual BERT (uncased)\",\"Multilingual BERT (cased)\",\"SciBERT\",\"Bio + Clinical BERT\",\"PubMed BERT\",\"Legal BERT\",\"Hate BERT\",\"BERT for Patents\",\"Security BERT\",\"AlBERT (v1)\",\"AlBERT (v2)\",\"RoBERTa Base\",\"Distilled RoBERTa Base\",\"RoBERTa Large\",\"Code RoBERTa\",\"Climate RoBERTa Base (distilled)\",\"Multilingual RoBERTa\",\"Distilled Multilingual BERT (cased)\"],\"y\":[0.4489,0.3985,0.4065,0.4324,0.44630000000000003,0.4708,0.4211,0.47350000000000003,0.44689999999999996,0.41840000000000005,0.4251,0.48210000000000003,0.4828,0.4131,0.4251,0.4675,0.45030000000000003,0.3899,0.5444,0.4509,0.4808,0.48869999999999997],\"type\":\"bar\"},{\"name\":\"Score at Threshold 1.0\",\"visible\":true,\"x\":[\"BERT Base (cased)\",\"BERT Base (uncased)\",\"BERT Large (uncased)\",\"BERT Large (cased)\",\"Multilingual BERT (uncased)\",\"Multilingual BERT (cased)\",\"SciBERT\",\"Bio + Clinical BERT\",\"PubMed BERT\",\"Legal BERT\",\"Hate BERT\",\"BERT for Patents\",\"Security BERT\",\"AlBERT (v1)\",\"AlBERT (v2)\",\"RoBERTa Base\",\"Distilled RoBERTa Base\",\"RoBERTa Large\",\"Code RoBERTa\",\"Climate RoBERTa Base (distilled)\",\"Multilingual RoBERTa\",\"Distilled Multilingual BERT (cased)\"],\"y\":[0.3893,0.3448,0.3554,0.366,0.3521,0.3873,0.3223,0.38789999999999997,0.3442,0.35810000000000003,0.3641,0.4025,0.4218,0.2984,0.36469999999999997,0.41979999999999995,0.37200000000000005,0.3435,0.3674,0.3826,0.40380000000000005,0.3481],\"type\":\"bar\"},{\"name\":\"Score at Threshold 2.0\",\"visible\":false,\"x\":[\"BERT Base (cased)\",\"BERT Base (uncased)\",\"BERT Large (uncased)\",\"BERT Large (cased)\",\"Multilingual BERT (uncased)\",\"Multilingual BERT (cased)\",\"SciBERT\",\"Bio + Clinical BERT\",\"PubMed BERT\",\"Legal BERT\",\"Hate BERT\",\"BERT for Patents\",\"Security BERT\",\"AlBERT (v1)\",\"AlBERT (v2)\",\"RoBERTa Base\",\"Distilled RoBERTa Base\",\"RoBERTa Large\",\"Code RoBERTa\",\"Climate RoBERTa Base (distilled)\",\"Multilingual RoBERTa\",\"Distilled Multilingual BERT (cased)\"],\"y\":[0.3243,0.3031,0.32030000000000003,0.31370000000000003,0.2798,0.3004,0.25,0.3031,0.2725,0.2918,0.3084,0.3342,0.36869999999999997,0.2261,0.3044,0.3747,0.31370000000000003,0.3024,0.2553,0.309,0.3342,0.24670000000000003],\"type\":\"bar\"},{\"name\":\"Score at Threshold 3.0\",\"visible\":false,\"x\":[\"BERT Base (cased)\",\"BERT Base (uncased)\",\"BERT Large (uncased)\",\"BERT Large (cased)\",\"Multilingual BERT (uncased)\",\"Multilingual BERT (cased)\",\"SciBERT\",\"Bio + Clinical BERT\",\"PubMed BERT\",\"Legal BERT\",\"Hate BERT\",\"BERT for Patents\",\"Security BERT\",\"AlBERT (v1)\",\"AlBERT (v2)\",\"RoBERTa Base\",\"Distilled RoBERTa Base\",\"RoBERTa Large\",\"Code RoBERTa\",\"Climate RoBERTa Base (distilled)\",\"Multilingual RoBERTa\",\"Distilled Multilingual BERT (cased)\"],\"y\":[0.2712,0.2566,0.2832,0.27190000000000003,0.23079999999999998,0.2401,0.2089,0.2447,0.21289999999999998,0.24670000000000003,0.2633,0.27649999999999997,0.3097,0.1718,0.254,0.3375,0.2586,0.2712,0.17309999999999998,0.24670000000000003,0.2898,0.1777],\"type\":\"bar\"},{\"name\":\"Score at Threshold 4.0\",\"visible\":false,\"x\":[\"BERT Base (cased)\",\"BERT Base (uncased)\",\"BERT Large (uncased)\",\"BERT Large (cased)\",\"Multilingual BERT (uncased)\",\"Multilingual BERT (cased)\",\"SciBERT\",\"Bio + Clinical BERT\",\"PubMed BERT\",\"Legal BERT\",\"Hate BERT\",\"BERT for Patents\",\"Security BERT\",\"AlBERT (v1)\",\"AlBERT (v2)\",\"RoBERTa Base\",\"Distilled RoBERTa Base\",\"RoBERTa Large\",\"Code RoBERTa\",\"Climate RoBERTa Base (distilled)\",\"Multilingual RoBERTa\",\"Distilled Multilingual BERT (cased)\"],\"y\":[0.2288,0.2248,0.256,0.2394,0.1863,0.1989,0.1671,0.20489999999999997,0.1804,0.2069,0.22940000000000002,0.2275,0.2712,0.126,0.20559999999999998,0.2984,0.2162,0.2447,0.124,0.2003,0.2487,0.126],\"type\":\"bar\"},{\"name\":\"Score at Threshold 5.0\",\"visible\":false,\"x\":[\"BERT Base (cased)\",\"BERT Base (uncased)\",\"BERT Large (uncased)\",\"BERT Large (cased)\",\"Multilingual BERT (uncased)\",\"Multilingual BERT (cased)\",\"SciBERT\",\"Bio + Clinical BERT\",\"PubMed BERT\",\"Legal BERT\",\"Hate BERT\",\"BERT for Patents\",\"Security BERT\",\"AlBERT (v1)\",\"AlBERT (v2)\",\"RoBERTa Base\",\"Distilled RoBERTa Base\",\"RoBERTa Large\",\"Code RoBERTa\",\"Climate RoBERTa Base (distilled)\",\"Multilingual RoBERTa\",\"Distilled Multilingual BERT (cased)\"],\"y\":[0.1943,0.1916,0.2341,0.2162,0.1446,0.1598,0.1326,0.1744,0.1439,0.1744,0.1989,0.191,0.23739999999999997,0.1015,0.1777,0.2732,0.1863,0.2168,0.0882,0.1698,0.21420000000000003,0.09949999999999999],\"type\":\"bar\"},{\"name\":\"Score at Threshold 6.0\",\"visible\":false,\"x\":[\"BERT Base (cased)\",\"BERT Base (uncased)\",\"BERT Large (uncased)\",\"BERT Large (cased)\",\"Multilingual BERT (uncased)\",\"Multilingual BERT (cased)\",\"SciBERT\",\"Bio + Clinical BERT\",\"PubMed BERT\",\"Legal BERT\",\"Hate BERT\",\"BERT for Patents\",\"Security BERT\",\"AlBERT (v1)\",\"AlBERT (v2)\",\"RoBERTa Base\",\"Distilled RoBERTa Base\",\"RoBERTa Large\",\"Code RoBERTa\",\"Climate RoBERTa Base (distilled)\",\"Multilingual RoBERTa\",\"Distilled Multilingual BERT (cased)\"],\"y\":[0.1678,0.1711,0.2036,0.18969999999999998,0.1253,0.1379,0.1081,0.1446,0.11410000000000001,0.1452,0.1744,0.1605,0.2102,0.0802,0.1512,0.244,0.1605,0.18899999999999997,0.0637,0.1419,0.19030000000000002,0.0789],\"type\":\"bar\"},{\"name\":\"Score at Threshold 7.0\",\"visible\":false,\"x\":[\"BERT Base (cased)\",\"BERT Base (uncased)\",\"BERT Large (uncased)\",\"BERT Large (cased)\",\"Multilingual BERT (uncased)\",\"Multilingual BERT (cased)\",\"SciBERT\",\"Bio + Clinical BERT\",\"PubMed BERT\",\"Legal BERT\",\"Hate BERT\",\"BERT for Patents\",\"Security BERT\",\"AlBERT (v1)\",\"AlBERT (v2)\",\"RoBERTa Base\",\"Distilled RoBERTa Base\",\"RoBERTa Large\",\"Code RoBERTa\",\"Climate RoBERTa Base (distilled)\",\"Multilingual RoBERTa\",\"Distilled Multilingual BERT (cased)\"],\"y\":[0.1432,0.1485,0.185,0.1671,0.1001,0.1127,0.0935,0.1167,0.0955,0.1253,0.1578,0.1286,0.1877,0.0683,0.124,0.21489999999999998,0.1393,0.1678,0.0405,0.1174,0.1605,0.0617],\"type\":\"bar\"},{\"name\":\"Score at Threshold 8.0\",\"visible\":false,\"x\":[\"BERT Base (cased)\",\"BERT Base (uncased)\",\"BERT Large (uncased)\",\"BERT Large (cased)\",\"Multilingual BERT (uncased)\",\"Multilingual BERT (cased)\",\"SciBERT\",\"Bio + Clinical BERT\",\"PubMed BERT\",\"Legal BERT\",\"Hate BERT\",\"BERT for Patents\",\"Security BERT\",\"AlBERT (v1)\",\"AlBERT (v2)\",\"RoBERTa Base\",\"Distilled RoBERTa Base\",\"RoBERTa Large\",\"Code RoBERTa\",\"Climate RoBERTa Base (distilled)\",\"Multilingual RoBERTa\",\"Distilled Multilingual BERT (cased)\"],\"y\":[0.1313,0.1333,0.1625,0.1499,0.08220000000000001,0.0928,0.0802,0.09949999999999999,0.0802,0.1061,0.1373,0.1167,0.17370000000000002,0.055,0.10339999999999999,0.193,0.1267,0.1446,0.0279,0.0962,0.1359,0.049100000000000005],\"type\":\"bar\"},{\"name\":\"Score at Threshold 9.0\",\"visible\":false,\"x\":[\"BERT Base (cased)\",\"BERT Base (uncased)\",\"BERT Large (uncased)\",\"BERT Large (cased)\",\"Multilingual BERT (uncased)\",\"Multilingual BERT (cased)\",\"SciBERT\",\"Bio + Clinical BERT\",\"PubMed BERT\",\"Legal BERT\",\"Hate BERT\",\"BERT for Patents\",\"Security BERT\",\"AlBERT (v1)\",\"AlBERT (v2)\",\"RoBERTa Base\",\"Distilled RoBERTa Base\",\"RoBERTa Large\",\"Code RoBERTa\",\"Climate RoBERTa Base (distilled)\",\"Multilingual RoBERTa\",\"Distilled Multilingual BERT (cased)\"],\"y\":[0.11470000000000001,0.11539999999999999,0.1452,0.1267,0.071,0.08289999999999999,0.0696,0.0889,0.069,0.09480000000000001,0.1207,0.09880000000000001,0.1545,0.04769999999999999,0.0908,0.1757,0.1101,0.1267,0.0212,0.0802,0.12269999999999999,0.0418],\"type\":\"bar\"},{\"name\":\"Score at Threshold 10.0\",\"visible\":false,\"x\":[\"BERT Base (cased)\",\"BERT Base (uncased)\",\"BERT Large (uncased)\",\"BERT Large (cased)\",\"Multilingual BERT (uncased)\",\"Multilingual BERT (cased)\",\"SciBERT\",\"Bio + Clinical BERT\",\"PubMed BERT\",\"Legal BERT\",\"Hate BERT\",\"BERT for Patents\",\"Security BERT\",\"AlBERT (v1)\",\"AlBERT (v2)\",\"RoBERTa Base\",\"Distilled RoBERTa Base\",\"RoBERTa Large\",\"Code RoBERTa\",\"Climate RoBERTa Base (distilled)\",\"Multilingual RoBERTa\",\"Distilled Multilingual BERT (cased)\"],\"y\":[0.0981,0.1061,0.1313,0.1134,0.0603,0.0729,0.057699999999999994,0.0776,0.0603,0.08289999999999999,0.1101,0.0882,0.1359,0.0431,0.08289999999999999,0.1552,0.09480000000000001,0.11599999999999999,0.0192,0.067,0.1061,0.0365],\"type\":\"bar\"},{\"name\":\"Score at Threshold 11.0\",\"visible\":false,\"x\":[\"BERT Base (cased)\",\"BERT Base (uncased)\",\"BERT Large (uncased)\",\"BERT Large (cased)\",\"Multilingual BERT (uncased)\",\"Multilingual BERT (cased)\",\"SciBERT\",\"Bio + Clinical BERT\",\"PubMed BERT\",\"Legal BERT\",\"Hate BERT\",\"BERT for Patents\",\"Security BERT\",\"AlBERT (v1)\",\"AlBERT (v2)\",\"RoBERTa Base\",\"Distilled RoBERTa Base\",\"RoBERTa Large\",\"Code RoBERTa\",\"Climate RoBERTa Base (distilled)\",\"Multilingual RoBERTa\",\"Distilled Multilingual BERT (cased)\"],\"y\":[0.0882,0.0915,0.11539999999999999,0.1041,0.054400000000000004,0.059699999999999996,0.051100000000000007,0.0643,0.053099999999999994,0.0723,0.10279999999999999,0.0796,0.11800000000000001,0.0378,0.07629999999999999,0.1393,0.0849,0.10880000000000001,0.015300000000000001,0.057699999999999994,0.0942,0.0332],\"type\":\"bar\"},{\"name\":\"Score at Threshold 12.0\",\"visible\":false,\"x\":[\"BERT Base (cased)\",\"BERT Base (uncased)\",\"BERT Large (uncased)\",\"BERT Large (cased)\",\"Multilingual BERT (uncased)\",\"Multilingual BERT (cased)\",\"SciBERT\",\"Bio + Clinical BERT\",\"PubMed BERT\",\"Legal BERT\",\"Hate BERT\",\"BERT for Patents\",\"Security BERT\",\"AlBERT (v1)\",\"AlBERT (v2)\",\"RoBERTa Base\",\"Distilled RoBERTa Base\",\"RoBERTa Large\",\"Code RoBERTa\",\"Climate RoBERTa Base (distilled)\",\"Multilingual RoBERTa\",\"Distilled Multilingual BERT (cased)\"],\"y\":[0.0776,0.0789,0.1048,0.0935,0.049100000000000005,0.054400000000000004,0.0451,0.0557,0.0464,0.065,0.0942,0.0723,0.1081,0.0338,0.0663,0.1253,0.0736,0.0968,0.011899999999999999,0.051699999999999996,0.08220000000000001,0.0305],\"type\":\"bar\"},{\"name\":\"Score at Threshold 13.0\",\"visible\":false,\"x\":[\"BERT Base (cased)\",\"BERT Base (uncased)\",\"BERT Large (uncased)\",\"BERT Large (cased)\",\"Multilingual BERT (uncased)\",\"Multilingual BERT (cased)\",\"SciBERT\",\"Bio + Clinical BERT\",\"PubMed BERT\",\"Legal BERT\",\"Hate BERT\",\"BERT for Patents\",\"Security BERT\",\"AlBERT (v1)\",\"AlBERT (v2)\",\"RoBERTa Base\",\"Distilled RoBERTa Base\",\"RoBERTa Large\",\"Code RoBERTa\",\"Climate RoBERTa Base (distilled)\",\"Multilingual RoBERTa\",\"Distilled Multilingual BERT (cased)\"],\"y\":[0.0716,0.0729,0.0968,0.0849,0.0444,0.0458,0.0385,0.049699999999999994,0.0385,0.057,0.08689999999999999,0.065,0.0981,0.031200000000000002,0.059000000000000004,0.1167,0.0637,0.08689999999999999,0.0086,0.0431,0.0776,0.0259],\"type\":\"bar\"},{\"name\":\"Score at Threshold 14.0\",\"visible\":false,\"x\":[\"BERT Base (cased)\",\"BERT Base (uncased)\",\"BERT Large (uncased)\",\"BERT Large (cased)\",\"Multilingual BERT (uncased)\",\"Multilingual BERT (cased)\",\"SciBERT\",\"Bio + Clinical BERT\",\"PubMed BERT\",\"Legal BERT\",\"Hate BERT\",\"BERT for Patents\",\"Security BERT\",\"AlBERT (v1)\",\"AlBERT (v2)\",\"RoBERTa Base\",\"Distilled RoBERTa Base\",\"RoBERTa Large\",\"Code RoBERTa\",\"Climate RoBERTa Base (distilled)\",\"Multilingual RoBERTa\",\"Distilled Multilingual BERT (cased)\"],\"y\":[0.067,0.0676,0.0875,0.0776,0.0398,0.0365,0.0345,0.0418,0.0338,0.051699999999999996,0.0802,0.059000000000000004,0.0855,0.0298,0.053099999999999994,0.1074,0.0584,0.0802,0.008,0.0371,0.0723,0.0239],\"type\":\"bar\"},{\"name\":\"Score at Threshold 15.0\",\"visible\":false,\"x\":[\"BERT Base (cased)\",\"BERT Base (uncased)\",\"BERT Large (uncased)\",\"BERT Large (cased)\",\"Multilingual BERT (uncased)\",\"Multilingual BERT (cased)\",\"SciBERT\",\"Bio + Clinical BERT\",\"PubMed BERT\",\"Legal BERT\",\"Hate BERT\",\"BERT for Patents\",\"Security BERT\",\"AlBERT (v1)\",\"AlBERT (v2)\",\"RoBERTa Base\",\"Distilled RoBERTa Base\",\"RoBERTa Large\",\"Code RoBERTa\",\"Climate RoBERTa Base (distilled)\",\"Multilingual RoBERTa\",\"Distilled Multilingual BERT (cased)\"],\"y\":[0.0643,0.0637,0.0816,0.0703,0.0371,0.0332,0.0298,0.0358,0.0298,0.0464,0.071,0.053099999999999994,0.07690000000000001,0.027200000000000002,0.0464,0.0968,0.0524,0.07490000000000001,0.0066,0.0358,0.067,0.0206],\"type\":\"bar\"},{\"name\":\"Score at Threshold 16.0\",\"visible\":false,\"x\":[\"BERT Base (cased)\",\"BERT Base (uncased)\",\"BERT Large (uncased)\",\"BERT Large (cased)\",\"Multilingual BERT (uncased)\",\"Multilingual BERT (cased)\",\"SciBERT\",\"Bio + Clinical BERT\",\"PubMed BERT\",\"Legal BERT\",\"Hate BERT\",\"BERT for Patents\",\"Security BERT\",\"AlBERT (v1)\",\"AlBERT (v2)\",\"RoBERTa Base\",\"Distilled RoBERTa Base\",\"RoBERTa Large\",\"Code RoBERTa\",\"Climate RoBERTa Base (distilled)\",\"Multilingual RoBERTa\",\"Distilled Multilingual BERT (cased)\"],\"y\":[0.059699999999999996,0.059000000000000004,0.07690000000000001,0.065,0.0285,0.0285,0.0259,0.0292,0.0292,0.0431,0.0663,0.0471,0.0696,0.0212,0.0391,0.0895,0.0451,0.0703,0.0066,0.0292,0.061,0.0159],\"type\":\"bar\"},{\"name\":\"Score at Threshold 17.0\",\"visible\":false,\"x\":[\"BERT Base (cased)\",\"BERT Base (uncased)\",\"BERT Large (uncased)\",\"BERT Large (cased)\",\"Multilingual BERT (uncased)\",\"Multilingual BERT (cased)\",\"SciBERT\",\"Bio + Clinical BERT\",\"PubMed BERT\",\"Legal BERT\",\"Hate BERT\",\"BERT for Patents\",\"Security BERT\",\"AlBERT (v1)\",\"AlBERT (v2)\",\"RoBERTa Base\",\"Distilled RoBERTa Base\",\"RoBERTa Large\",\"Code RoBERTa\",\"Climate RoBERTa Base (distilled)\",\"Multilingual RoBERTa\",\"Distilled Multilingual BERT (cased)\"],\"y\":[0.053099999999999994,0.057699999999999994,0.0696,0.059000000000000004,0.0265,0.0252,0.0252,0.0259,0.0279,0.0398,0.061,0.0431,0.06559999999999999,0.0172,0.0325,0.0816,0.0424,0.0663,0.006,0.0279,0.054400000000000004,0.0126],\"type\":\"bar\"},{\"name\":\"Score at Threshold 18.0\",\"visible\":false,\"x\":[\"BERT Base (cased)\",\"BERT Base (uncased)\",\"BERT Large (uncased)\",\"BERT Large (cased)\",\"Multilingual BERT (uncased)\",\"Multilingual BERT (cased)\",\"SciBERT\",\"Bio + Clinical BERT\",\"PubMed BERT\",\"Legal BERT\",\"Hate BERT\",\"BERT for Patents\",\"Security BERT\",\"AlBERT (v1)\",\"AlBERT (v2)\",\"RoBERTa Base\",\"Distilled RoBERTa Base\",\"RoBERTa Large\",\"Code RoBERTa\",\"Climate RoBERTa Base (distilled)\",\"Multilingual RoBERTa\",\"Distilled Multilingual BERT (cased)\"],\"y\":[0.0451,0.053099999999999994,0.0623,0.053099999999999994,0.0245,0.0225,0.0212,0.0252,0.0232,0.0358,0.055,0.0398,0.0603,0.013300000000000001,0.0292,0.0776,0.0378,0.0637,0.006,0.0252,0.051100000000000007,0.009899999999999999],\"type\":\"bar\"},{\"name\":\"Score at Threshold 19.0\",\"visible\":false,\"x\":[\"BERT Base (cased)\",\"BERT Base (uncased)\",\"BERT Large (uncased)\",\"BERT Large (cased)\",\"Multilingual BERT (uncased)\",\"Multilingual BERT (cased)\",\"SciBERT\",\"Bio + Clinical BERT\",\"PubMed BERT\",\"Legal BERT\",\"Hate BERT\",\"BERT for Patents\",\"Security BERT\",\"AlBERT (v1)\",\"AlBERT (v2)\",\"RoBERTa Base\",\"Distilled RoBERTa Base\",\"RoBERTa Large\",\"Code RoBERTa\",\"Climate RoBERTa Base (distilled)\",\"Multilingual RoBERTa\",\"Distilled Multilingual BERT (cased)\"],\"y\":[0.0418,0.0504,0.057699999999999994,0.0504,0.0239,0.0219,0.0199,0.0219,0.0206,0.0332,0.0504,0.0371,0.051699999999999996,0.0113,0.027200000000000002,0.069,0.0338,0.061,0.006,0.0232,0.049699999999999994,0.0086],\"type\":\"bar\"},{\"name\":\"Score at Threshold 20.0\",\"visible\":false,\"x\":[\"BERT Base (cased)\",\"BERT Base (uncased)\",\"BERT Large (uncased)\",\"BERT Large (cased)\",\"Multilingual BERT (uncased)\",\"Multilingual BERT (cased)\",\"SciBERT\",\"Bio + Clinical BERT\",\"PubMed BERT\",\"Legal BERT\",\"Hate BERT\",\"BERT for Patents\",\"Security BERT\",\"AlBERT (v1)\",\"AlBERT (v2)\",\"RoBERTa Base\",\"Distilled RoBERTa Base\",\"RoBERTa Large\",\"Code RoBERTa\",\"Climate RoBERTa Base (distilled)\",\"Multilingual RoBERTa\",\"Distilled Multilingual BERT (cased)\"],\"y\":[0.0378,0.0464,0.0537,0.0444,0.0212,0.0206,0.0172,0.0192,0.0199,0.0325,0.0444,0.0332,0.0458,0.0113,0.0259,0.06559999999999999,0.031200000000000002,0.0564,0.006,0.0199,0.0458,0.0073],\"type\":\"bar\"},{\"name\":\"Score at Threshold 21.0\",\"visible\":false,\"x\":[\"BERT Base (cased)\",\"BERT Base (uncased)\",\"BERT Large (uncased)\",\"BERT Large (cased)\",\"Multilingual BERT (uncased)\",\"Multilingual BERT (cased)\",\"SciBERT\",\"Bio + Clinical BERT\",\"PubMed BERT\",\"Legal BERT\",\"Hate BERT\",\"BERT for Patents\",\"Security BERT\",\"AlBERT (v1)\",\"AlBERT (v2)\",\"RoBERTa Base\",\"Distilled RoBERTa Base\",\"RoBERTa Large\",\"Code RoBERTa\",\"Climate RoBERTa Base (distilled)\",\"Multilingual RoBERTa\",\"Distilled Multilingual BERT (cased)\"],\"y\":[0.0358,0.0444,0.0504,0.0405,0.0192,0.0192,0.0166,0.0192,0.0192,0.0305,0.041100000000000005,0.0325,0.0398,0.0106,0.0239,0.057699999999999994,0.0225,0.054400000000000004,0.0053,0.0179,0.0424,0.0053],\"type\":\"bar\"},{\"name\":\"Score at Threshold 22.0\",\"visible\":false,\"x\":[\"BERT Base (cased)\",\"BERT Base (uncased)\",\"BERT Large (uncased)\",\"BERT Large (cased)\",\"Multilingual BERT (uncased)\",\"Multilingual BERT (cased)\",\"SciBERT\",\"Bio + Clinical BERT\",\"PubMed BERT\",\"Legal BERT\",\"Hate BERT\",\"BERT for Patents\",\"Security BERT\",\"AlBERT (v1)\",\"AlBERT (v2)\",\"RoBERTa Base\",\"Distilled RoBERTa Base\",\"RoBERTa Large\",\"Code RoBERTa\",\"Climate RoBERTa Base (distilled)\",\"Multilingual RoBERTa\",\"Distilled Multilingual BERT (cased)\"],\"y\":[0.0345,0.041100000000000005,0.04769999999999999,0.0391,0.0172,0.0172,0.0159,0.0172,0.0166,0.0265,0.0385,0.0298,0.0345,0.009899999999999999,0.0219,0.0557,0.0206,0.0484,0.0053,0.0139,0.0398,0.0046],\"type\":\"bar\"},{\"name\":\"Score at Threshold 23.0\",\"visible\":false,\"x\":[\"BERT Base (cased)\",\"BERT Base (uncased)\",\"BERT Large (uncased)\",\"BERT Large (cased)\",\"Multilingual BERT (uncased)\",\"Multilingual BERT (cased)\",\"SciBERT\",\"Bio + Clinical BERT\",\"PubMed BERT\",\"Legal BERT\",\"Hate BERT\",\"BERT for Patents\",\"Security BERT\",\"AlBERT (v1)\",\"AlBERT (v2)\",\"RoBERTa Base\",\"Distilled RoBERTa Base\",\"RoBERTa Large\",\"Code RoBERTa\",\"Climate RoBERTa Base (distilled)\",\"Multilingual RoBERTa\",\"Distilled Multilingual BERT (cased)\"],\"y\":[0.031200000000000002,0.0385,0.0451,0.0345,0.015300000000000001,0.0159,0.013300000000000001,0.0166,0.0139,0.0245,0.0378,0.0292,0.0305,0.008,0.0199,0.0537,0.0192,0.0451,0.0046,0.013300000000000001,0.0371,0.0046],\"type\":\"bar\"},{\"name\":\"Score at Threshold 24.0\",\"visible\":false,\"x\":[\"BERT Base (cased)\",\"BERT Base (uncased)\",\"BERT Large (uncased)\",\"BERT Large (cased)\",\"Multilingual BERT (uncased)\",\"Multilingual BERT (cased)\",\"SciBERT\",\"Bio + Clinical BERT\",\"PubMed BERT\",\"Legal BERT\",\"Hate BERT\",\"BERT for Patents\",\"Security BERT\",\"AlBERT (v1)\",\"AlBERT (v2)\",\"RoBERTa Base\",\"Distilled RoBERTa Base\",\"RoBERTa Large\",\"Code RoBERTa\",\"Climate RoBERTa Base (distilled)\",\"Multilingual RoBERTa\",\"Distilled Multilingual BERT (cased)\"],\"y\":[0.0285,0.0338,0.0444,0.0318,0.0146,0.013300000000000001,0.013300000000000001,0.0159,0.0113,0.0232,0.0345,0.0259,0.0279,0.0073,0.018600000000000002,0.051100000000000007,0.018600000000000002,0.0431,0.0046,0.011899999999999999,0.0351,0.004],\"type\":\"bar\"},{\"name\":\"Score at Threshold 25.0\",\"visible\":false,\"x\":[\"BERT Base (cased)\",\"BERT Base (uncased)\",\"BERT Large (uncased)\",\"BERT Large (cased)\",\"Multilingual BERT (uncased)\",\"Multilingual BERT (cased)\",\"SciBERT\",\"Bio + Clinical BERT\",\"PubMed BERT\",\"Legal BERT\",\"Hate BERT\",\"BERT for Patents\",\"Security BERT\",\"AlBERT (v1)\",\"AlBERT (v2)\",\"RoBERTa Base\",\"Distilled RoBERTa Base\",\"RoBERTa Large\",\"Code RoBERTa\",\"Climate RoBERTa Base (distilled)\",\"Multilingual RoBERTa\",\"Distilled Multilingual BERT (cased)\"],\"y\":[0.0259,0.0318,0.0405,0.031200000000000002,0.0146,0.009300000000000001,0.013300000000000001,0.0159,0.0106,0.0199,0.0305,0.0225,0.0245,0.0066,0.0172,0.0504,0.018600000000000002,0.0418,0.004,0.0113,0.0345,0.004],\"type\":\"bar\"},{\"name\":\"Score at Threshold 26.0\",\"visible\":false,\"x\":[\"BERT Base (cased)\",\"BERT Base (uncased)\",\"BERT Large (uncased)\",\"BERT Large (cased)\",\"Multilingual BERT (uncased)\",\"Multilingual BERT (cased)\",\"SciBERT\",\"Bio + Clinical BERT\",\"PubMed BERT\",\"Legal BERT\",\"Hate BERT\",\"BERT for Patents\",\"Security BERT\",\"AlBERT (v1)\",\"AlBERT (v2)\",\"RoBERTa Base\",\"Distilled RoBERTa Base\",\"RoBERTa Large\",\"Code RoBERTa\",\"Climate RoBERTa Base (distilled)\",\"Multilingual RoBERTa\",\"Distilled Multilingual BERT (cased)\"],\"y\":[0.0212,0.031200000000000002,0.0398,0.0279,0.0146,0.0086,0.0113,0.0146,0.0106,0.0192,0.0298,0.0212,0.018600000000000002,0.006,0.0172,0.04769999999999999,0.0166,0.0398,0.0033,0.0106,0.0305,0.0033],\"type\":\"bar\"},{\"name\":\"Score at Threshold 27.0\",\"visible\":false,\"x\":[\"BERT Base (cased)\",\"BERT Base (uncased)\",\"BERT Large (uncased)\",\"BERT Large (cased)\",\"Multilingual BERT (uncased)\",\"Multilingual BERT (cased)\",\"SciBERT\",\"Bio + Clinical BERT\",\"PubMed BERT\",\"Legal BERT\",\"Hate BERT\",\"BERT for Patents\",\"Security BERT\",\"AlBERT (v1)\",\"AlBERT (v2)\",\"RoBERTa Base\",\"Distilled RoBERTa Base\",\"RoBERTa Large\",\"Code RoBERTa\",\"Climate RoBERTa Base (distilled)\",\"Multilingual RoBERTa\",\"Distilled Multilingual BERT (cased)\"],\"y\":[0.0199,0.0285,0.0391,0.0265,0.0146,0.008,0.009899999999999999,0.0139,0.0106,0.0179,0.027200000000000002,0.0206,0.0159,0.006,0.0159,0.0438,0.015300000000000001,0.0378,0.002,0.009300000000000001,0.0292,0.0033],\"type\":\"bar\"},{\"name\":\"Score at Threshold 28.0\",\"visible\":false,\"x\":[\"BERT Base (cased)\",\"BERT Base (uncased)\",\"BERT Large (uncased)\",\"BERT Large (cased)\",\"Multilingual BERT (uncased)\",\"Multilingual BERT (cased)\",\"SciBERT\",\"Bio + Clinical BERT\",\"PubMed BERT\",\"Legal BERT\",\"Hate BERT\",\"BERT for Patents\",\"Security BERT\",\"AlBERT (v1)\",\"AlBERT (v2)\",\"RoBERTa Base\",\"Distilled RoBERTa Base\",\"RoBERTa Large\",\"Code RoBERTa\",\"Climate RoBERTa Base (distilled)\",\"Multilingual RoBERTa\",\"Distilled Multilingual BERT (cased)\"],\"y\":[0.018600000000000002,0.0265,0.0385,0.0252,0.0146,0.008,0.009300000000000001,0.0126,0.009300000000000001,0.0166,0.0259,0.0172,0.013300000000000001,0.006,0.015300000000000001,0.0418,0.013300000000000001,0.0358,0.002,0.009300000000000001,0.0232,0.0033],\"type\":\"bar\"},{\"name\":\"Score at Threshold 29.0\",\"visible\":false,\"x\":[\"BERT Base (cased)\",\"BERT Base (uncased)\",\"BERT Large (uncased)\",\"BERT Large (cased)\",\"Multilingual BERT (uncased)\",\"Multilingual BERT (cased)\",\"SciBERT\",\"Bio + Clinical BERT\",\"PubMed BERT\",\"Legal BERT\",\"Hate BERT\",\"BERT for Patents\",\"Security BERT\",\"AlBERT (v1)\",\"AlBERT (v2)\",\"RoBERTa Base\",\"Distilled RoBERTa Base\",\"RoBERTa Large\",\"Code RoBERTa\",\"Climate RoBERTa Base (distilled)\",\"Multilingual RoBERTa\",\"Distilled Multilingual BERT (cased)\"],\"y\":[0.018600000000000002,0.0259,0.0351,0.0239,0.0139,0.008,0.0073,0.0113,0.008,0.0139,0.0259,0.015300000000000001,0.0126,0.0053,0.0139,0.0385,0.013300000000000001,0.0345,0.0013,0.0086,0.0225,0.0027],\"type\":\"bar\"},{\"name\":\"Score at Threshold 30.0\",\"visible\":false,\"x\":[\"BERT Base (cased)\",\"BERT Base (uncased)\",\"BERT Large (uncased)\",\"BERT Large (cased)\",\"Multilingual BERT (uncased)\",\"Multilingual BERT (cased)\",\"SciBERT\",\"Bio + Clinical BERT\",\"PubMed BERT\",\"Legal BERT\",\"Hate BERT\",\"BERT for Patents\",\"Security BERT\",\"AlBERT (v1)\",\"AlBERT (v2)\",\"RoBERTa Base\",\"Distilled RoBERTa Base\",\"RoBERTa Large\",\"Code RoBERTa\",\"Climate RoBERTa Base (distilled)\",\"Multilingual RoBERTa\",\"Distilled Multilingual BERT (cased)\"],\"y\":[0.0179,0.0245,0.0318,0.0206,0.013300000000000001,0.008,0.0066,0.0106,0.008,0.0126,0.0259,0.0146,0.011899999999999999,0.0053,0.013300000000000001,0.0371,0.013300000000000001,0.031200000000000002,0.0013,0.0066,0.0212,0.0027],\"type\":\"bar\"},{\"name\":\"Score at Threshold 31.0\",\"visible\":false,\"x\":[\"BERT Base (cased)\",\"BERT Base (uncased)\",\"BERT Large (uncased)\",\"BERT Large (cased)\",\"Multilingual BERT (uncased)\",\"Multilingual BERT (cased)\",\"SciBERT\",\"Bio + Clinical BERT\",\"PubMed BERT\",\"Legal BERT\",\"Hate BERT\",\"BERT for Patents\",\"Security BERT\",\"AlBERT (v1)\",\"AlBERT (v2)\",\"RoBERTa Base\",\"Distilled RoBERTa Base\",\"RoBERTa Large\",\"Code RoBERTa\",\"Climate RoBERTa Base (distilled)\",\"Multilingual RoBERTa\",\"Distilled Multilingual BERT (cased)\"],\"y\":[0.0159,0.0245,0.0298,0.0192,0.0113,0.008,0.0053,0.009300000000000001,0.0073,0.011899999999999999,0.0232,0.0146,0.0113,0.0053,0.0126,0.0358,0.0113,0.031200000000000002,0.0013,0.0066,0.0206,0.0027],\"type\":\"bar\"},{\"name\":\"Score at Threshold 32.0\",\"visible\":false,\"x\":[\"BERT Base (cased)\",\"BERT Base (uncased)\",\"BERT Large (uncased)\",\"BERT Large (cased)\",\"Multilingual BERT (uncased)\",\"Multilingual BERT (cased)\",\"SciBERT\",\"Bio + Clinical BERT\",\"PubMed BERT\",\"Legal BERT\",\"Hate BERT\",\"BERT for Patents\",\"Security BERT\",\"AlBERT (v1)\",\"AlBERT (v2)\",\"RoBERTa Base\",\"Distilled RoBERTa Base\",\"RoBERTa Large\",\"Code RoBERTa\",\"Climate RoBERTa Base (distilled)\",\"Multilingual RoBERTa\",\"Distilled Multilingual BERT (cased)\"],\"y\":[0.0159,0.0219,0.0292,0.0172,0.0113,0.0066,0.0046,0.006,0.0073,0.0106,0.0219,0.0146,0.0113,0.0053,0.0106,0.0338,0.009899999999999999,0.0305,0.0013,0.0066,0.0192,0.0027],\"type\":\"bar\"},{\"name\":\"Score at Threshold 33.0\",\"visible\":false,\"x\":[\"BERT Base (cased)\",\"BERT Base (uncased)\",\"BERT Large (uncased)\",\"BERT Large (cased)\",\"Multilingual BERT (uncased)\",\"Multilingual BERT (cased)\",\"SciBERT\",\"Bio + Clinical BERT\",\"PubMed BERT\",\"Legal BERT\",\"Hate BERT\",\"BERT for Patents\",\"Security BERT\",\"AlBERT (v1)\",\"AlBERT (v2)\",\"RoBERTa Base\",\"Distilled RoBERTa Base\",\"RoBERTa Large\",\"Code RoBERTa\",\"Climate RoBERTa Base (distilled)\",\"Multilingual RoBERTa\",\"Distilled Multilingual BERT (cased)\"],\"y\":[0.0159,0.0212,0.0279,0.0159,0.0106,0.0066,0.004,0.006,0.006,0.009899999999999999,0.0212,0.0139,0.0113,0.0053,0.0106,0.0332,0.009899999999999999,0.0298,0.0013,0.006,0.018600000000000002,0.0027],\"type\":\"bar\"},{\"name\":\"Score at Threshold 34.0\",\"visible\":false,\"x\":[\"BERT Base (cased)\",\"BERT Base (uncased)\",\"BERT Large (uncased)\",\"BERT Large (cased)\",\"Multilingual BERT (uncased)\",\"Multilingual BERT (cased)\",\"SciBERT\",\"Bio + Clinical BERT\",\"PubMed BERT\",\"Legal BERT\",\"Hate BERT\",\"BERT for Patents\",\"Security BERT\",\"AlBERT (v1)\",\"AlBERT (v2)\",\"RoBERTa Base\",\"Distilled RoBERTa Base\",\"RoBERTa Large\",\"Code RoBERTa\",\"Climate RoBERTa Base (distilled)\",\"Multilingual RoBERTa\",\"Distilled Multilingual BERT (cased)\"],\"y\":[0.0159,0.0199,0.0245,0.0146,0.0106,0.0066,0.004,0.0053,0.006,0.009899999999999999,0.0206,0.013300000000000001,0.0113,0.0053,0.009899999999999999,0.0332,0.0086,0.0279,0.0013,0.0046,0.018600000000000002,0.002],\"type\":\"bar\"},{\"name\":\"Score at Threshold 35.0\",\"visible\":false,\"x\":[\"BERT Base (cased)\",\"BERT Base (uncased)\",\"BERT Large (uncased)\",\"BERT Large (cased)\",\"Multilingual BERT (uncased)\",\"Multilingual BERT (cased)\",\"SciBERT\",\"Bio + Clinical BERT\",\"PubMed BERT\",\"Legal BERT\",\"Hate BERT\",\"BERT for Patents\",\"Security BERT\",\"AlBERT (v1)\",\"AlBERT (v2)\",\"RoBERTa Base\",\"Distilled RoBERTa Base\",\"RoBERTa Large\",\"Code RoBERTa\",\"Climate RoBERTa Base (distilled)\",\"Multilingual RoBERTa\",\"Distilled Multilingual BERT (cased)\"],\"y\":[0.015300000000000001,0.0159,0.0239,0.0146,0.0106,0.0066,0.004,0.0053,0.006,0.0086,0.0192,0.0126,0.0086,0.0046,0.009899999999999999,0.0305,0.0073,0.0279,0.0013,0.0046,0.0179,0.0013],\"type\":\"bar\"},{\"name\":\"Score at Threshold 36.0\",\"visible\":false,\"x\":[\"BERT Base (cased)\",\"BERT Base (uncased)\",\"BERT Large (uncased)\",\"BERT Large (cased)\",\"Multilingual BERT (uncased)\",\"Multilingual BERT (cased)\",\"SciBERT\",\"Bio + Clinical BERT\",\"PubMed BERT\",\"Legal BERT\",\"Hate BERT\",\"BERT for Patents\",\"Security BERT\",\"AlBERT (v1)\",\"AlBERT (v2)\",\"RoBERTa Base\",\"Distilled RoBERTa Base\",\"RoBERTa Large\",\"Code RoBERTa\",\"Climate RoBERTa Base (distilled)\",\"Multilingual RoBERTa\",\"Distilled Multilingual BERT (cased)\"],\"y\":[0.0139,0.015300000000000001,0.0232,0.0139,0.009899999999999999,0.006,0.004,0.0053,0.0053,0.0086,0.0179,0.011899999999999999,0.008,0.004,0.009899999999999999,0.0265,0.0073,0.027200000000000002,0.0013,0.0046,0.0166,0.0013],\"type\":\"bar\"},{\"name\":\"Score at Threshold 37.0\",\"visible\":false,\"x\":[\"BERT Base (cased)\",\"BERT Base (uncased)\",\"BERT Large (uncased)\",\"BERT Large (cased)\",\"Multilingual BERT (uncased)\",\"Multilingual BERT (cased)\",\"SciBERT\",\"Bio + Clinical BERT\",\"PubMed BERT\",\"Legal BERT\",\"Hate BERT\",\"BERT for Patents\",\"Security BERT\",\"AlBERT (v1)\",\"AlBERT (v2)\",\"RoBERTa Base\",\"Distilled RoBERTa Base\",\"RoBERTa Large\",\"Code RoBERTa\",\"Climate RoBERTa Base (distilled)\",\"Multilingual RoBERTa\",\"Distilled Multilingual BERT (cased)\"],\"y\":[0.013300000000000001,0.0139,0.0225,0.0139,0.009300000000000001,0.0053,0.004,0.0053,0.0046,0.008,0.0166,0.011899999999999999,0.0073,0.004,0.009899999999999999,0.0245,0.0066,0.0232,0.0013,0.0046,0.0166,0.0013],\"type\":\"bar\"},{\"name\":\"Score at Threshold 38.0\",\"visible\":false,\"x\":[\"BERT Base (cased)\",\"BERT Base (uncased)\",\"BERT Large (uncased)\",\"BERT Large (cased)\",\"Multilingual BERT (uncased)\",\"Multilingual BERT (cased)\",\"SciBERT\",\"Bio + Clinical BERT\",\"PubMed BERT\",\"Legal BERT\",\"Hate BERT\",\"BERT for Patents\",\"Security BERT\",\"AlBERT (v1)\",\"AlBERT (v2)\",\"RoBERTa Base\",\"Distilled RoBERTa Base\",\"RoBERTa Large\",\"Code RoBERTa\",\"Climate RoBERTa Base (distilled)\",\"Multilingual RoBERTa\",\"Distilled Multilingual BERT (cased)\"],\"y\":[0.013300000000000001,0.013300000000000001,0.0206,0.0139,0.008,0.0046,0.0033,0.0053,0.0046,0.008,0.015300000000000001,0.0106,0.0066,0.004,0.009300000000000001,0.0239,0.0053,0.0206,0.0013,0.0046,0.0166,0.0007000000000000001],\"type\":\"bar\"},{\"name\":\"Score at Threshold 39.0\",\"visible\":false,\"x\":[\"BERT Base (cased)\",\"BERT Base (uncased)\",\"BERT Large (uncased)\",\"BERT Large (cased)\",\"Multilingual BERT (uncased)\",\"Multilingual BERT (cased)\",\"SciBERT\",\"Bio + Clinical BERT\",\"PubMed BERT\",\"Legal BERT\",\"Hate BERT\",\"BERT for Patents\",\"Security BERT\",\"AlBERT (v1)\",\"AlBERT (v2)\",\"RoBERTa Base\",\"Distilled RoBERTa Base\",\"RoBERTa Large\",\"Code RoBERTa\",\"Climate RoBERTa Base (distilled)\",\"Multilingual RoBERTa\",\"Distilled Multilingual BERT (cased)\"],\"y\":[0.0113,0.0126,0.0192,0.013300000000000001,0.0073,0.0046,0.0033,0.0046,0.0033,0.008,0.0146,0.009300000000000001,0.006,0.0033,0.009300000000000001,0.0206,0.0053,0.0199,0.0013,0.0046,0.015300000000000001,0.0007000000000000001],\"type\":\"bar\"},{\"name\":\"Score at Threshold 40.0\",\"visible\":false,\"x\":[\"BERT Base (cased)\",\"BERT Base (uncased)\",\"BERT Large (uncased)\",\"BERT Large (cased)\",\"Multilingual BERT (uncased)\",\"Multilingual BERT (cased)\",\"SciBERT\",\"Bio + Clinical BERT\",\"PubMed BERT\",\"Legal BERT\",\"Hate BERT\",\"BERT for Patents\",\"Security BERT\",\"AlBERT (v1)\",\"AlBERT (v2)\",\"RoBERTa Base\",\"Distilled RoBERTa Base\",\"RoBERTa Large\",\"Code RoBERTa\",\"Climate RoBERTa Base (distilled)\",\"Multilingual RoBERTa\",\"Distilled Multilingual BERT (cased)\"],\"y\":[0.0106,0.0106,0.0192,0.0126,0.0066,0.0046,0.0033,0.0046,0.0027,0.008,0.0139,0.009300000000000001,0.006,0.0033,0.0073,0.018600000000000002,0.0053,0.0199,0.0013,0.0046,0.011899999999999999,0.0007000000000000001],\"type\":\"bar\"}],                        {\"template\":{\"data\":{\"bar\":[{\"error_x\":{\"color\":\"#2a3f5f\"},\"error_y\":{\"color\":\"#2a3f5f\"},\"marker\":{\"line\":{\"color\":\"#E5ECF6\",\"width\":0.5},\"pattern\":{\"fillmode\":\"overlay\",\"size\":10,\"solidity\":0.2}},\"type\":\"bar\"}],\"barpolar\":[{\"marker\":{\"line\":{\"color\":\"#E5ECF6\",\"width\":0.5},\"pattern\":{\"fillmode\":\"overlay\",\"size\":10,\"solidity\":0.2}},\"type\":\"barpolar\"}],\"carpet\":[{\"aaxis\":{\"endlinecolor\":\"#2a3f5f\",\"gridcolor\":\"white\",\"linecolor\":\"white\",\"minorgridcolor\":\"white\",\"startlinecolor\":\"#2a3f5f\"},\"baxis\":{\"endlinecolor\":\"#2a3f5f\",\"gridcolor\":\"white\",\"linecolor\":\"white\",\"minorgridcolor\":\"white\",\"startlinecolor\":\"#2a3f5f\"},\"type\":\"carpet\"}],\"choropleth\":[{\"colorbar\":{\"outlinewidth\":0,\"ticks\":\"\"},\"type\":\"choropleth\"}],\"contour\":[{\"colorbar\":{\"outlinewidth\":0,\"ticks\":\"\"},\"colorscale\":[[0.0,\"#0d0887\"],[0.1111111111111111,\"#46039f\"],[0.2222222222222222,\"#7201a8\"],[0.3333333333333333,\"#9c179e\"],[0.4444444444444444,\"#bd3786\"],[0.5555555555555556,\"#d8576b\"],[0.6666666666666666,\"#ed7953\"],[0.7777777777777778,\"#fb9f3a\"],[0.8888888888888888,\"#fdca26\"],[1.0,\"#f0f921\"]],\"type\":\"contour\"}],\"contourcarpet\":[{\"colorbar\":{\"outlinewidth\":0,\"ticks\":\"\"},\"type\":\"contourcarpet\"}],\"heatmap\":[{\"colorbar\":{\"outlinewidth\":0,\"ticks\":\"\"},\"colorscale\":[[0.0,\"#0d0887\"],[0.1111111111111111,\"#46039f\"],[0.2222222222222222,\"#7201a8\"],[0.3333333333333333,\"#9c179e\"],[0.4444444444444444,\"#bd3786\"],[0.5555555555555556,\"#d8576b\"],[0.6666666666666666,\"#ed7953\"],[0.7777777777777778,\"#fb9f3a\"],[0.8888888888888888,\"#fdca26\"],[1.0,\"#f0f921\"]],\"type\":\"heatmap\"}],\"heatmapgl\":[{\"colorbar\":{\"outlinewidth\":0,\"ticks\":\"\"},\"colorscale\":[[0.0,\"#0d0887\"],[0.1111111111111111,\"#46039f\"],[0.2222222222222222,\"#7201a8\"],[0.3333333333333333,\"#9c179e\"],[0.4444444444444444,\"#bd3786\"],[0.5555555555555556,\"#d8576b\"],[0.6666666666666666,\"#ed7953\"],[0.7777777777777778,\"#fb9f3a\"],[0.8888888888888888,\"#fdca26\"],[1.0,\"#f0f921\"]],\"type\":\"heatmapgl\"}],\"histogram\":[{\"marker\":{\"pattern\":{\"fillmode\":\"overlay\",\"size\":10,\"solidity\":0.2}},\"type\":\"histogram\"}],\"histogram2d\":[{\"colorbar\":{\"outlinewidth\":0,\"ticks\":\"\"},\"colorscale\":[[0.0,\"#0d0887\"],[0.1111111111111111,\"#46039f\"],[0.2222222222222222,\"#7201a8\"],[0.3333333333333333,\"#9c179e\"],[0.4444444444444444,\"#bd3786\"],[0.5555555555555556,\"#d8576b\"],[0.6666666666666666,\"#ed7953\"],[0.7777777777777778,\"#fb9f3a\"],[0.8888888888888888,\"#fdca26\"],[1.0,\"#f0f921\"]],\"type\":\"histogram2d\"}],\"histogram2dcontour\":[{\"colorbar\":{\"outlinewidth\":0,\"ticks\":\"\"},\"colorscale\":[[0.0,\"#0d0887\"],[0.1111111111111111,\"#46039f\"],[0.2222222222222222,\"#7201a8\"],[0.3333333333333333,\"#9c179e\"],[0.4444444444444444,\"#bd3786\"],[0.5555555555555556,\"#d8576b\"],[0.6666666666666666,\"#ed7953\"],[0.7777777777777778,\"#fb9f3a\"],[0.8888888888888888,\"#fdca26\"],[1.0,\"#f0f921\"]],\"type\":\"histogram2dcontour\"}],\"mesh3d\":[{\"colorbar\":{\"outlinewidth\":0,\"ticks\":\"\"},\"type\":\"mesh3d\"}],\"parcoords\":[{\"line\":{\"colorbar\":{\"outlinewidth\":0,\"ticks\":\"\"}},\"type\":\"parcoords\"}],\"pie\":[{\"automargin\":true,\"type\":\"pie\"}],\"scatter\":[{\"marker\":{\"colorbar\":{\"outlinewidth\":0,\"ticks\":\"\"}},\"type\":\"scatter\"}],\"scatter3d\":[{\"line\":{\"colorbar\":{\"outlinewidth\":0,\"ticks\":\"\"}},\"marker\":{\"colorbar\":{\"outlinewidth\":0,\"ticks\":\"\"}},\"type\":\"scatter3d\"}],\"scattercarpet\":[{\"marker\":{\"colorbar\":{\"outlinewidth\":0,\"ticks\":\"\"}},\"type\":\"scattercarpet\"}],\"scattergeo\":[{\"marker\":{\"colorbar\":{\"outlinewidth\":0,\"ticks\":\"\"}},\"type\":\"scattergeo\"}],\"scattergl\":[{\"marker\":{\"colorbar\":{\"outlinewidth\":0,\"ticks\":\"\"}},\"type\":\"scattergl\"}],\"scattermapbox\":[{\"marker\":{\"colorbar\":{\"outlinewidth\":0,\"ticks\":\"\"}},\"type\":\"scattermapbox\"}],\"scatterpolar\":[{\"marker\":{\"colorbar\":{\"outlinewidth\":0,\"ticks\":\"\"}},\"type\":\"scatterpolar\"}],\"scatterpolargl\":[{\"marker\":{\"colorbar\":{\"outlinewidth\":0,\"ticks\":\"\"}},\"type\":\"scatterpolargl\"}],\"scatterternary\":[{\"marker\":{\"colorbar\":{\"outlinewidth\":0,\"ticks\":\"\"}},\"type\":\"scatterternary\"}],\"surface\":[{\"colorbar\":{\"outlinewidth\":0,\"ticks\":\"\"},\"colorscale\":[[0.0,\"#0d0887\"],[0.1111111111111111,\"#46039f\"],[0.2222222222222222,\"#7201a8\"],[0.3333333333333333,\"#9c179e\"],[0.4444444444444444,\"#bd3786\"],[0.5555555555555556,\"#d8576b\"],[0.6666666666666666,\"#ed7953\"],[0.7777777777777778,\"#fb9f3a\"],[0.8888888888888888,\"#fdca26\"],[1.0,\"#f0f921\"]],\"type\":\"surface\"}],\"table\":[{\"cells\":{\"fill\":{\"color\":\"#EBF0F8\"},\"line\":{\"color\":\"white\"}},\"header\":{\"fill\":{\"color\":\"#C8D4E3\"},\"line\":{\"color\":\"white\"}},\"type\":\"table\"}]},\"layout\":{\"annotationdefaults\":{\"arrowcolor\":\"#2a3f5f\",\"arrowhead\":0,\"arrowwidth\":1},\"autotypenumbers\":\"strict\",\"coloraxis\":{\"colorbar\":{\"outlinewidth\":0,\"ticks\":\"\"}},\"colorscale\":{\"diverging\":[[0,\"#8e0152\"],[0.1,\"#c51b7d\"],[0.2,\"#de77ae\"],[0.3,\"#f1b6da\"],[0.4,\"#fde0ef\"],[0.5,\"#f7f7f7\"],[0.6,\"#e6f5d0\"],[0.7,\"#b8e186\"],[0.8,\"#7fbc41\"],[0.9,\"#4d9221\"],[1,\"#276419\"]],\"sequential\":[[0.0,\"#0d0887\"],[0.1111111111111111,\"#46039f\"],[0.2222222222222222,\"#7201a8\"],[0.3333333333333333,\"#9c179e\"],[0.4444444444444444,\"#bd3786\"],[0.5555555555555556,\"#d8576b\"],[0.6666666666666666,\"#ed7953\"],[0.7777777777777778,\"#fb9f3a\"],[0.8888888888888888,\"#fdca26\"],[1.0,\"#f0f921\"]],\"sequentialminus\":[[0.0,\"#0d0887\"],[0.1111111111111111,\"#46039f\"],[0.2222222222222222,\"#7201a8\"],[0.3333333333333333,\"#9c179e\"],[0.4444444444444444,\"#bd3786\"],[0.5555555555555556,\"#d8576b\"],[0.6666666666666666,\"#ed7953\"],[0.7777777777777778,\"#fb9f3a\"],[0.8888888888888888,\"#fdca26\"],[1.0,\"#f0f921\"]]},\"colorway\":[\"#636efa\",\"#EF553B\",\"#00cc96\",\"#ab63fa\",\"#FFA15A\",\"#19d3f3\",\"#FF6692\",\"#B6E880\",\"#FF97FF\",\"#FECB52\"],\"font\":{\"color\":\"#2a3f5f\"},\"geo\":{\"bgcolor\":\"white\",\"lakecolor\":\"white\",\"landcolor\":\"#E5ECF6\",\"showlakes\":true,\"showland\":true,\"subunitcolor\":\"white\"},\"hoverlabel\":{\"align\":\"left\"},\"hovermode\":\"closest\",\"mapbox\":{\"style\":\"light\"},\"paper_bgcolor\":\"white\",\"plot_bgcolor\":\"#E5ECF6\",\"polar\":{\"angularaxis\":{\"gridcolor\":\"white\",\"linecolor\":\"white\",\"ticks\":\"\"},\"bgcolor\":\"#E5ECF6\",\"radialaxis\":{\"gridcolor\":\"white\",\"linecolor\":\"white\",\"ticks\":\"\"}},\"scene\":{\"xaxis\":{\"backgroundcolor\":\"#E5ECF6\",\"gridcolor\":\"white\",\"gridwidth\":2,\"linecolor\":\"white\",\"showbackground\":true,\"ticks\":\"\",\"zerolinecolor\":\"white\"},\"yaxis\":{\"backgroundcolor\":\"#E5ECF6\",\"gridcolor\":\"white\",\"gridwidth\":2,\"linecolor\":\"white\",\"showbackground\":true,\"ticks\":\"\",\"zerolinecolor\":\"white\"},\"zaxis\":{\"backgroundcolor\":\"#E5ECF6\",\"gridcolor\":\"white\",\"gridwidth\":2,\"linecolor\":\"white\",\"showbackground\":true,\"ticks\":\"\",\"zerolinecolor\":\"white\"}},\"shapedefaults\":{\"line\":{\"color\":\"#2a3f5f\"}},\"ternary\":{\"aaxis\":{\"gridcolor\":\"white\",\"linecolor\":\"white\",\"ticks\":\"\"},\"baxis\":{\"gridcolor\":\"white\",\"linecolor\":\"white\",\"ticks\":\"\"},\"bgcolor\":\"#E5ECF6\",\"caxis\":{\"gridcolor\":\"white\",\"linecolor\":\"white\",\"ticks\":\"\"}},\"title\":{\"x\":0.05},\"xaxis\":{\"automargin\":true,\"gridcolor\":\"white\",\"linecolor\":\"white\",\"ticks\":\"\",\"title\":{\"standoff\":15},\"zerolinecolor\":\"white\",\"zerolinewidth\":2},\"yaxis\":{\"automargin\":true,\"gridcolor\":\"white\",\"linecolor\":\"white\",\"ticks\":\"\",\"title\":{\"standoff\":15},\"zerolinecolor\":\"white\",\"zerolinewidth\":2}}},\"yaxis\":{\"title\":{\"text\":\"Scores\"},\"tickformat\":\".0%\",\"range\":[0,1]},\"sliders\":[{\"active\":1,\"currentvalue\":{\"prefix\":\"Threshold: \"},\"pad\":{\"t\":150},\"steps\":[{\"args\":[{\"visible\":[true,false,false,false,false,false,false,false,false,false,false,false,false,false,false,false,false,false,false,false,false,false,false,false,false,false,false,false,false,false,false,false,false,false,false,false,false,false,false,false,false]},{\"title\":\"Non-Bias Scores for 22 Models at Threshold:0%\"}],\"label\":\"0%\",\"method\":\"update\"},{\"args\":[{\"visible\":[false,true,false,false,false,false,false,false,false,false,false,false,false,false,false,false,false,false,false,false,false,false,false,false,false,false,false,false,false,false,false,false,false,false,false,false,false,false,false,false,false]},{\"title\":\"Non-Bias Scores for 22 Models at Threshold:1%\"}],\"label\":\"1%\",\"method\":\"update\"},{\"args\":[{\"visible\":[false,false,true,false,false,false,false,false,false,false,false,false,false,false,false,false,false,false,false,false,false,false,false,false,false,false,false,false,false,false,false,false,false,false,false,false,false,false,false,false,false]},{\"title\":\"Non-Bias Scores for 22 Models at Threshold:2%\"}],\"label\":\"2%\",\"method\":\"update\"},{\"args\":[{\"visible\":[false,false,false,true,false,false,false,false,false,false,false,false,false,false,false,false,false,false,false,false,false,false,false,false,false,false,false,false,false,false,false,false,false,false,false,false,false,false,false,false,false]},{\"title\":\"Non-Bias Scores for 22 Models at Threshold:3%\"}],\"label\":\"3%\",\"method\":\"update\"},{\"args\":[{\"visible\":[false,false,false,false,true,false,false,false,false,false,false,false,false,false,false,false,false,false,false,false,false,false,false,false,false,false,false,false,false,false,false,false,false,false,false,false,false,false,false,false,false]},{\"title\":\"Non-Bias Scores for 22 Models at Threshold:4%\"}],\"label\":\"4%\",\"method\":\"update\"},{\"args\":[{\"visible\":[false,false,false,false,false,true,false,false,false,false,false,false,false,false,false,false,false,false,false,false,false,false,false,false,false,false,false,false,false,false,false,false,false,false,false,false,false,false,false,false,false]},{\"title\":\"Non-Bias Scores for 22 Models at Threshold:5%\"}],\"label\":\"5%\",\"method\":\"update\"},{\"args\":[{\"visible\":[false,false,false,false,false,false,true,false,false,false,false,false,false,false,false,false,false,false,false,false,false,false,false,false,false,false,false,false,false,false,false,false,false,false,false,false,false,false,false,false,false]},{\"title\":\"Non-Bias Scores for 22 Models at Threshold:6%\"}],\"label\":\"6%\",\"method\":\"update\"},{\"args\":[{\"visible\":[false,false,false,false,false,false,false,true,false,false,false,false,false,false,false,false,false,false,false,false,false,false,false,false,false,false,false,false,false,false,false,false,false,false,false,false,false,false,false,false,false]},{\"title\":\"Non-Bias Scores for 22 Models at Threshold:7%\"}],\"label\":\"7%\",\"method\":\"update\"},{\"args\":[{\"visible\":[false,false,false,false,false,false,false,false,true,false,false,false,false,false,false,false,false,false,false,false,false,false,false,false,false,false,false,false,false,false,false,false,false,false,false,false,false,false,false,false,false]},{\"title\":\"Non-Bias Scores for 22 Models at Threshold:8%\"}],\"label\":\"8%\",\"method\":\"update\"},{\"args\":[{\"visible\":[false,false,false,false,false,false,false,false,false,true,false,false,false,false,false,false,false,false,false,false,false,false,false,false,false,false,false,false,false,false,false,false,false,false,false,false,false,false,false,false,false]},{\"title\":\"Non-Bias Scores for 22 Models at Threshold:9%\"}],\"label\":\"9%\",\"method\":\"update\"},{\"args\":[{\"visible\":[false,false,false,false,false,false,false,false,false,false,true,false,false,false,false,false,false,false,false,false,false,false,false,false,false,false,false,false,false,false,false,false,false,false,false,false,false,false,false,false,false]},{\"title\":\"Non-Bias Scores for 22 Models at Threshold:10%\"}],\"label\":\"10%\",\"method\":\"update\"},{\"args\":[{\"visible\":[false,false,false,false,false,false,false,false,false,false,false,true,false,false,false,false,false,false,false,false,false,false,false,false,false,false,false,false,false,false,false,false,false,false,false,false,false,false,false,false,false]},{\"title\":\"Non-Bias Scores for 22 Models at Threshold:11%\"}],\"label\":\"11%\",\"method\":\"update\"},{\"args\":[{\"visible\":[false,false,false,false,false,false,false,false,false,false,false,false,true,false,false,false,false,false,false,false,false,false,false,false,false,false,false,false,false,false,false,false,false,false,false,false,false,false,false,false,false]},{\"title\":\"Non-Bias Scores for 22 Models at Threshold:12%\"}],\"label\":\"12%\",\"method\":\"update\"},{\"args\":[{\"visible\":[false,false,false,false,false,false,false,false,false,false,false,false,false,true,false,false,false,false,false,false,false,false,false,false,false,false,false,false,false,false,false,false,false,false,false,false,false,false,false,false,false]},{\"title\":\"Non-Bias Scores for 22 Models at Threshold:13%\"}],\"label\":\"13%\",\"method\":\"update\"},{\"args\":[{\"visible\":[false,false,false,false,false,false,false,false,false,false,false,false,false,false,true,false,false,false,false,false,false,false,false,false,false,false,false,false,false,false,false,false,false,false,false,false,false,false,false,false,false]},{\"title\":\"Non-Bias Scores for 22 Models at Threshold:14%\"}],\"label\":\"14%\",\"method\":\"update\"},{\"args\":[{\"visible\":[false,false,false,false,false,false,false,false,false,false,false,false,false,false,false,true,false,false,false,false,false,false,false,false,false,false,false,false,false,false,false,false,false,false,false,false,false,false,false,false,false]},{\"title\":\"Non-Bias Scores for 22 Models at Threshold:15%\"}],\"label\":\"15%\",\"method\":\"update\"},{\"args\":[{\"visible\":[false,false,false,false,false,false,false,false,false,false,false,false,false,false,false,false,true,false,false,false,false,false,false,false,false,false,false,false,false,false,false,false,false,false,false,false,false,false,false,false,false]},{\"title\":\"Non-Bias Scores for 22 Models at Threshold:16%\"}],\"label\":\"16%\",\"method\":\"update\"},{\"args\":[{\"visible\":[false,false,false,false,false,false,false,false,false,false,false,false,false,false,false,false,false,true,false,false,false,false,false,false,false,false,false,false,false,false,false,false,false,false,false,false,false,false,false,false,false]},{\"title\":\"Non-Bias Scores for 22 Models at Threshold:17%\"}],\"label\":\"17%\",\"method\":\"update\"},{\"args\":[{\"visible\":[false,false,false,false,false,false,false,false,false,false,false,false,false,false,false,false,false,false,true,false,false,false,false,false,false,false,false,false,false,false,false,false,false,false,false,false,false,false,false,false,false]},{\"title\":\"Non-Bias Scores for 22 Models at Threshold:18%\"}],\"label\":\"18%\",\"method\":\"update\"},{\"args\":[{\"visible\":[false,false,false,false,false,false,false,false,false,false,false,false,false,false,false,false,false,false,false,true,false,false,false,false,false,false,false,false,false,false,false,false,false,false,false,false,false,false,false,false,false]},{\"title\":\"Non-Bias Scores for 22 Models at Threshold:19%\"}],\"label\":\"19%\",\"method\":\"update\"},{\"args\":[{\"visible\":[false,false,false,false,false,false,false,false,false,false,false,false,false,false,false,false,false,false,false,false,true,false,false,false,false,false,false,false,false,false,false,false,false,false,false,false,false,false,false,false,false]},{\"title\":\"Non-Bias Scores for 22 Models at Threshold:20%\"}],\"label\":\"20%\",\"method\":\"update\"},{\"args\":[{\"visible\":[false,false,false,false,false,false,false,false,false,false,false,false,false,false,false,false,false,false,false,false,false,true,false,false,false,false,false,false,false,false,false,false,false,false,false,false,false,false,false,false,false]},{\"title\":\"Non-Bias Scores for 22 Models at Threshold:21%\"}],\"label\":\"21%\",\"method\":\"update\"},{\"args\":[{\"visible\":[false,false,false,false,false,false,false,false,false,false,false,false,false,false,false,false,false,false,false,false,false,false,true,false,false,false,false,false,false,false,false,false,false,false,false,false,false,false,false,false,false]},{\"title\":\"Non-Bias Scores for 22 Models at Threshold:22%\"}],\"label\":\"22%\",\"method\":\"update\"},{\"args\":[{\"visible\":[false,false,false,false,false,false,false,false,false,false,false,false,false,false,false,false,false,false,false,false,false,false,false,true,false,false,false,false,false,false,false,false,false,false,false,false,false,false,false,false,false]},{\"title\":\"Non-Bias Scores for 22 Models at Threshold:23%\"}],\"label\":\"23%\",\"method\":\"update\"},{\"args\":[{\"visible\":[false,false,false,false,false,false,false,false,false,false,false,false,false,false,false,false,false,false,false,false,false,false,false,false,true,false,false,false,false,false,false,false,false,false,false,false,false,false,false,false,false]},{\"title\":\"Non-Bias Scores for 22 Models at Threshold:24%\"}],\"label\":\"24%\",\"method\":\"update\"},{\"args\":[{\"visible\":[false,false,false,false,false,false,false,false,false,false,false,false,false,false,false,false,false,false,false,false,false,false,false,false,false,true,false,false,false,false,false,false,false,false,false,false,false,false,false,false,false]},{\"title\":\"Non-Bias Scores for 22 Models at Threshold:25%\"}],\"label\":\"25%\",\"method\":\"update\"},{\"args\":[{\"visible\":[false,false,false,false,false,false,false,false,false,false,false,false,false,false,false,false,false,false,false,false,false,false,false,false,false,false,true,false,false,false,false,false,false,false,false,false,false,false,false,false,false]},{\"title\":\"Non-Bias Scores for 22 Models at Threshold:26%\"}],\"label\":\"26%\",\"method\":\"update\"},{\"args\":[{\"visible\":[false,false,false,false,false,false,false,false,false,false,false,false,false,false,false,false,false,false,false,false,false,false,false,false,false,false,false,true,false,false,false,false,false,false,false,false,false,false,false,false,false]},{\"title\":\"Non-Bias Scores for 22 Models at Threshold:27%\"}],\"label\":\"27%\",\"method\":\"update\"},{\"args\":[{\"visible\":[false,false,false,false,false,false,false,false,false,false,false,false,false,false,false,false,false,false,false,false,false,false,false,false,false,false,false,false,true,false,false,false,false,false,false,false,false,false,false,false,false]},{\"title\":\"Non-Bias Scores for 22 Models at Threshold:28%\"}],\"label\":\"28%\",\"method\":\"update\"},{\"args\":[{\"visible\":[false,false,false,false,false,false,false,false,false,false,false,false,false,false,false,false,false,false,false,false,false,false,false,false,false,false,false,false,false,true,false,false,false,false,false,false,false,false,false,false,false]},{\"title\":\"Non-Bias Scores for 22 Models at Threshold:29%\"}],\"label\":\"29%\",\"method\":\"update\"},{\"args\":[{\"visible\":[false,false,false,false,false,false,false,false,false,false,false,false,false,false,false,false,false,false,false,false,false,false,false,false,false,false,false,false,false,false,true,false,false,false,false,false,false,false,false,false,false]},{\"title\":\"Non-Bias Scores for 22 Models at Threshold:30%\"}],\"label\":\"30%\",\"method\":\"update\"},{\"args\":[{\"visible\":[false,false,false,false,false,false,false,false,false,false,false,false,false,false,false,false,false,false,false,false,false,false,false,false,false,false,false,false,false,false,false,true,false,false,false,false,false,false,false,false,false]},{\"title\":\"Non-Bias Scores for 22 Models at Threshold:31%\"}],\"label\":\"31%\",\"method\":\"update\"},{\"args\":[{\"visible\":[false,false,false,false,false,false,false,false,false,false,false,false,false,false,false,false,false,false,false,false,false,false,false,false,false,false,false,false,false,false,false,false,true,false,false,false,false,false,false,false,false]},{\"title\":\"Non-Bias Scores for 22 Models at Threshold:32%\"}],\"label\":\"32%\",\"method\":\"update\"},{\"args\":[{\"visible\":[false,false,false,false,false,false,false,false,false,false,false,false,false,false,false,false,false,false,false,false,false,false,false,false,false,false,false,false,false,false,false,false,false,true,false,false,false,false,false,false,false]},{\"title\":\"Non-Bias Scores for 22 Models at Threshold:33%\"}],\"label\":\"33%\",\"method\":\"update\"},{\"args\":[{\"visible\":[false,false,false,false,false,false,false,false,false,false,false,false,false,false,false,false,false,false,false,false,false,false,false,false,false,false,false,false,false,false,false,false,false,false,true,false,false,false,false,false,false]},{\"title\":\"Non-Bias Scores for 22 Models at Threshold:34%\"}],\"label\":\"34%\",\"method\":\"update\"},{\"args\":[{\"visible\":[false,false,false,false,false,false,false,false,false,false,false,false,false,false,false,false,false,false,false,false,false,false,false,false,false,false,false,false,false,false,false,false,false,false,false,true,false,false,false,false,false]},{\"title\":\"Non-Bias Scores for 22 Models at Threshold:35%\"}],\"label\":\"35%\",\"method\":\"update\"},{\"args\":[{\"visible\":[false,false,false,false,false,false,false,false,false,false,false,false,false,false,false,false,false,false,false,false,false,false,false,false,false,false,false,false,false,false,false,false,false,false,false,false,true,false,false,false,false]},{\"title\":\"Non-Bias Scores for 22 Models at Threshold:36%\"}],\"label\":\"36%\",\"method\":\"update\"},{\"args\":[{\"visible\":[false,false,false,false,false,false,false,false,false,false,false,false,false,false,false,false,false,false,false,false,false,false,false,false,false,false,false,false,false,false,false,false,false,false,false,false,false,true,false,false,false]},{\"title\":\"Non-Bias Scores for 22 Models at Threshold:37%\"}],\"label\":\"37%\",\"method\":\"update\"},{\"args\":[{\"visible\":[false,false,false,false,false,false,false,false,false,false,false,false,false,false,false,false,false,false,false,false,false,false,false,false,false,false,false,false,false,false,false,false,false,false,false,false,false,false,true,false,false]},{\"title\":\"Non-Bias Scores for 22 Models at Threshold:38%\"}],\"label\":\"38%\",\"method\":\"update\"},{\"args\":[{\"visible\":[false,false,false,false,false,false,false,false,false,false,false,false,false,false,false,false,false,false,false,false,false,false,false,false,false,false,false,false,false,false,false,false,false,false,false,false,false,false,false,true,false]},{\"title\":\"Non-Bias Scores for 22 Models at Threshold:39%\"}],\"label\":\"39%\",\"method\":\"update\"},{\"args\":[{\"visible\":[false,false,false,false,false,false,false,false,false,false,false,false,false,false,false,false,false,false,false,false,false,false,false,false,false,false,false,false,false,false,false,false,false,false,false,false,false,false,false,false,true]},{\"title\":\"Non-Bias Scores for 22 Models at Threshold:40%\"}],\"label\":\"40%\",\"method\":\"update\"}]}],\"title\":{\"text\":\"Non-Bias Scores for 22 Models at Various Thresholds\"},\"xaxis\":{\"title\":{\"text\":\"Language Models\"}}},                        {\"responsive\": true}                    ).then(function(){\n",
       "                            \n",
       "var gd = document.getElementById('bf7f8221-1cb8-411c-91ca-c5e53f2a8828');\n",
       "var x = new MutationObserver(function (mutations, observer) {{\n",
       "        var display = window.getComputedStyle(gd).display;\n",
       "        if (!display || display === 'none') {{\n",
       "            console.log([gd, 'removed!']);\n",
       "            Plotly.purge(gd);\n",
       "            observer.disconnect();\n",
       "        }}\n",
       "}});\n",
       "\n",
       "// Listen for the removal of the full notebook cells\n",
       "var notebookContainer = gd.closest('#notebook-container');\n",
       "if (notebookContainer) {{\n",
       "    x.observe(notebookContainer, {childList: true});\n",
       "}}\n",
       "\n",
       "// Listen for the clearing of the current output cell\n",
       "var outputEl = gd.closest('.output');\n",
       "if (outputEl) {{\n",
       "    x.observe(outputEl, {childList: true});\n",
       "}}\n",
       "\n",
       "                        })                };                });            </script>        </div>"
      ]
     },
     "metadata": {},
     "output_type": "display_data"
    }
   ],
   "source": [
    "slider_chart(score_type='nonbias_score')"
   ]
  },
  {
   "cell_type": "code",
   "execution_count": null,
   "metadata": {},
   "outputs": [],
   "source": []
  }
 ],
 "metadata": {
  "kernelspec": {
   "display_name": "Python 3",
   "language": "python",
   "name": "python3"
  },
  "language_info": {
   "codemirror_mode": {
    "name": "ipython",
    "version": 3
   },
   "file_extension": ".py",
   "mimetype": "text/x-python",
   "name": "python",
   "nbconvert_exporter": "python",
   "pygments_lexer": "ipython3",
   "version": "3.7.4"
  }
 },
 "nbformat": 4,
 "nbformat_minor": 2
}
