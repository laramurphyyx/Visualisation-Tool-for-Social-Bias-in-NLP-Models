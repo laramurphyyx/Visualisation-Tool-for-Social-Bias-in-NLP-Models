{
 "cells": [
  {
   "cell_type": "code",
   "execution_count": 2,
   "id": "3088c280",
   "metadata": {},
   "outputs": [],
   "source": [
    "import pandas as pd\n",
    "import numpy as np"
   ]
  },
  {
   "cell_type": "code",
   "execution_count": 3,
   "id": "d910e524",
   "metadata": {},
   "outputs": [],
   "source": [
    "fixed_data = pd.read_csv('final_fixed_data.csv', index_col=0)"
   ]
  },
  {
   "cell_type": "code",
   "execution_count": 16,
   "id": "c4f6e924",
   "metadata": {},
   "outputs": [],
   "source": [
    "both_updated = []\n",
    "one_updated = []\n",
    "for i in range(0, 1508):\n",
    "    sent_more = fixed_data.iloc[i]['sent_more']\n",
    "    sent_less = fixed_data.iloc[i]['sent_less']\n",
    "    \n",
    "    if sent_more[-1] == '?' or sent_less[-1] == '?':\n",
    "        if sent_more[-1] != '?':\n",
    "            fixed_data.iloc[i]['sent_more'] += '?'\n",
    "        else:\n",
    "            fixed_data.iloc[i]['sent_less'] += '?'\n",
    "        one_updated.append(i)\n",
    "            \n",
    "    elif sent_more[-1] != '.' and sent_less[-1] != '.':\n",
    "        fixed_data.iloc[i]['sent_more'] += '.'\n",
    "        fixed_data.iloc[i]['sent_less'] += '.'\n",
    "        both_updated.append(i)\n",
    "        \n",
    "    elif sent_more[-1] != '.' or sent_less[-1] != '.':\n",
    "        if sent_more[-1] != '.':\n",
    "            fixed_data.iloc[i]['sent_more'] += '.'\n",
    "        else:\n",
    "            fixed_data.iloc[i]['sent_less'] += '.'\n",
    "        one_updated.append(i)"
   ]
  },
  {
   "cell_type": "code",
   "execution_count": 20,
   "id": "56eb45ab",
   "metadata": {},
   "outputs": [],
   "source": [
    "fixed_data.to_csv('final_fixed_data.csv')"
   ]
  },
  {
   "cell_type": "code",
   "execution_count": 22,
   "id": "2df62ef4",
   "metadata": {},
   "outputs": [
    {
     "data": {
      "text/plain": [
       "150"
      ]
     },
     "execution_count": 22,
     "metadata": {},
     "output_type": "execute_result"
    }
   ],
   "source": [
    "len(both_updated) + len(one_updated)"
   ]
  },
  {
   "cell_type": "code",
   "execution_count": 23,
   "id": "cb237d14",
   "metadata": {},
   "outputs": [
    {
     "data": {
      "text/plain": [
       "150"
      ]
     },
     "execution_count": 23,
     "metadata": {},
     "output_type": "execute_result"
    }
   ],
   "source": [
    "len(both_updated + one_updated)"
   ]
  },
  {
   "cell_type": "code",
   "execution_count": 25,
   "id": "0ec2cfc2",
   "metadata": {},
   "outputs": [],
   "source": [
    "all_updated = both_updated + one_updated"
   ]
  },
  {
   "cell_type": "code",
   "execution_count": 26,
   "id": "df7c6bf0",
   "metadata": {},
   "outputs": [],
   "source": [
    "all_updated.sort()"
   ]
  },
  {
   "cell_type": "code",
   "execution_count": 27,
   "id": "2bb07720",
   "metadata": {},
   "outputs": [
    {
     "data": {
      "text/plain": [
       "[4,\n",
       " 14,\n",
       " 22,\n",
       " 29,\n",
       " 44,\n",
       " 50,\n",
       " 55,\n",
       " 58,\n",
       " 94,\n",
       " 106,\n",
       " 112,\n",
       " 116,\n",
       " 119,\n",
       " 123,\n",
       " 126,\n",
       " 129,\n",
       " 135,\n",
       " 138,\n",
       " 146,\n",
       " 150,\n",
       " 168,\n",
       " 191,\n",
       " 209,\n",
       " 214,\n",
       " 236,\n",
       " 277,\n",
       " 292,\n",
       " 302,\n",
       " 306,\n",
       " 309,\n",
       " 315,\n",
       " 317,\n",
       " 320,\n",
       " 352,\n",
       " 386,\n",
       " 389,\n",
       " 397,\n",
       " 401,\n",
       " 406,\n",
       " 410,\n",
       " 414,\n",
       " 421,\n",
       " 427,\n",
       " 445,\n",
       " 451,\n",
       " 454,\n",
       " 463,\n",
       " 467,\n",
       " 470,\n",
       " 496,\n",
       " 531,\n",
       " 535,\n",
       " 550,\n",
       " 564,\n",
       " 581,\n",
       " 591,\n",
       " 599,\n",
       " 603,\n",
       " 605,\n",
       " 608,\n",
       " 615,\n",
       " 623,\n",
       " 625,\n",
       " 663,\n",
       " 668,\n",
       " 693,\n",
       " 707,\n",
       " 710,\n",
       " 712,\n",
       " 713,\n",
       " 739,\n",
       " 745,\n",
       " 751,\n",
       " 754,\n",
       " 784,\n",
       " 788,\n",
       " 791,\n",
       " 800,\n",
       " 806,\n",
       " 816,\n",
       " 825,\n",
       " 828,\n",
       " 832,\n",
       " 833,\n",
       " 834,\n",
       " 836,\n",
       " 841,\n",
       " 865,\n",
       " 871,\n",
       " 873,\n",
       " 898,\n",
       " 900,\n",
       " 904,\n",
       " 920,\n",
       " 931,\n",
       " 942,\n",
       " 946,\n",
       " 949,\n",
       " 965,\n",
       " 982,\n",
       " 987,\n",
       " 1017,\n",
       " 1033,\n",
       " 1042,\n",
       " 1048,\n",
       " 1055,\n",
       " 1087,\n",
       " 1106,\n",
       " 1113,\n",
       " 1116,\n",
       " 1138,\n",
       " 1142,\n",
       " 1144,\n",
       " 1150,\n",
       " 1167,\n",
       " 1174,\n",
       " 1198,\n",
       " 1211,\n",
       " 1215,\n",
       " 1243,\n",
       " 1254,\n",
       " 1261,\n",
       " 1283,\n",
       " 1285,\n",
       " 1289,\n",
       " 1290,\n",
       " 1295,\n",
       " 1304,\n",
       " 1310,\n",
       " 1323,\n",
       " 1335,\n",
       " 1346,\n",
       " 1349,\n",
       " 1351,\n",
       " 1355,\n",
       " 1363,\n",
       " 1382,\n",
       " 1393,\n",
       " 1402,\n",
       " 1429,\n",
       " 1439,\n",
       " 1450,\n",
       " 1460,\n",
       " 1476,\n",
       " 1477,\n",
       " 1479,\n",
       " 1484,\n",
       " 1487,\n",
       " 1488,\n",
       " 1499]"
      ]
     },
     "execution_count": 27,
     "metadata": {},
     "output_type": "execute_result"
    }
   ],
   "source": [
    "all_updated"
   ]
  },
  {
   "cell_type": "code",
   "execution_count": null,
   "id": "1cb1f5e2",
   "metadata": {},
   "outputs": [],
   "source": []
  }
 ],
 "metadata": {
  "kernelspec": {
   "display_name": "Python 3 (ipykernel)",
   "language": "python",
   "name": "python3"
  },
  "language_info": {
   "codemirror_mode": {
    "name": "ipython",
    "version": 3
   },
   "file_extension": ".py",
   "mimetype": "text/x-python",
   "name": "python",
   "nbconvert_exporter": "python",
   "pygments_lexer": "ipython3",
   "version": "3.9.12"
  }
 },
 "nbformat": 4,
 "nbformat_minor": 5
}
